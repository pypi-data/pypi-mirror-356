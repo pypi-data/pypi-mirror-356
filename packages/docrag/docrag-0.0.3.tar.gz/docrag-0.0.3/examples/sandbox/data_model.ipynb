{
 "cells": [
  {
   "cell_type": "code",
   "execution_count": 1,
   "metadata": {},
   "outputs": [
    {
     "name": "stderr",
     "output_type": "stream",
     "text": [
      "c:\\Users\\lllang\\miniconda3\\envs\\docsearch\\lib\\site-packages\\tqdm\\auto.py:21: TqdmWarning: IProgress not found. Please update jupyter and ipywidgets. See https://ipywidgets.readthedocs.io/en/stable/user_install.html\n",
      "  from .autonotebook import tqdm as notebook_tqdm\n"
     ]
    }
   ],
   "source": [
    "import os\n",
    "from docsearch.figure_extraction import DocumentPageAnalyzer\n",
    "from IPython.display import display\n",
    "from rich.console import Console\n",
    "from rich.markdown import Markdown\n",
    "from pathlib import Path\n",
    "import pandas as pd\n",
    "import numpy as np\n",
    "import matplotlib.pyplot as plt\n",
    "import seaborn as sns\n",
    "\n",
    "console = Console()"
   ]
  },
  {
   "cell_type": "code",
   "execution_count": 2,
   "metadata": {},
   "outputs": [
    {
     "name": "stdout",
     "output_type": "stream",
     "text": [
      "ROOT_DIR: .\n",
      "DATA_DIR: data\n",
      "SAMPLES_DIR: data\\samples\n",
      "sample_filepath: data\\samples\\sample_1.png\n",
      "sample_filepath: data\\samples\\sample_2.png\n",
      "sample_filepath: data\\samples\\sample_3.png\n",
      "sample_filepath: data\\samples\\sample_4.png\n",
      "sample_filepath: data\\samples\\sample_5.png\n",
      "table_filepaths: \n",
      "[WindowsPath('data/samples/sample_1/sample_1/table/table_000.png'), WindowsPath('data/samples/sample_1/sample_1/table/table_001.png')]\n",
      "figure_filepaths: \n",
      "[WindowsPath('data/samples/sample_1/sample_1/figure/figure_000.png')]\n",
      "figure_captions: \n",
      "[WindowsPath('data/samples/sample_1/sample_1/figure/figure_000_caption.png')]\n"
     ]
    }
   ],
   "source": [
    "ROOT_DIR = Path(\".\")\n",
    "DATA_DIR = ROOT_DIR / \"data\"\n",
    "MODEL_WEIGHTS = DATA_DIR / \"doclayout_yolo_docstructbench_imgsz1024.pt\"\n",
    "SAMPLES_DIR = DATA_DIR / \"samples\"\n",
    "sample_filepaths = list(SAMPLES_DIR.glob(\"*.png\"))\n",
    "\n",
    "print(f\"ROOT_DIR: {ROOT_DIR}\")\n",
    "print(f\"DATA_DIR: {DATA_DIR}\")\n",
    "print(f\"SAMPLES_DIR: {SAMPLES_DIR}\")\n",
    "for filepath in sample_filepaths:\n",
    "    print(f\"sample_filepath: {filepath}\")\n",
    "    \n",
    "    \n",
    "table_filepaths = []\n",
    "table_filepaths.append(sample_filepaths[0].with_suffix(\"\") / \"sample_1\" / \"table\" / \"table_000.png\")\n",
    "table_filepaths.append(sample_filepaths[0].with_suffix(\"\") / \"sample_1\" / \"table\" / \"table_001.png\")\n",
    "\n",
    "table_captions = []\n",
    "table_captions.append(sample_filepaths[0].with_suffix(\"\") / \"sample_1\" / \"table\" / \"table_000_caption.png\")\n",
    "table_captions.append(sample_filepaths[0].with_suffix(\"\") / \"sample_1\" / \"table\" / \"table_001_caption.png\")\n",
    "print(f\"table_filepaths: \\n{table_filepaths}\")\n",
    "\n",
    "\n",
    "figure_filepaths = []\n",
    "figure_filepaths.append(sample_filepaths[0].with_suffix(\"\") / \"sample_1\" / \"figure\" / \"figure_000.png\")\n",
    "\n",
    "print(f\"figure_filepaths: \\n{figure_filepaths}\")\n",
    "\n",
    "figure_captions = []\n",
    "figure_captions.append(sample_filepaths[0].with_suffix(\"\") / \"sample_1\" / \"figure\" / \"figure_000_caption.png\")\n",
    "\n",
    "print(f\"figure_captions: \\n{figure_captions}\")\n"
   ]
  },
  {
   "cell_type": "markdown",
   "metadata": {},
   "source": [
    "## Table Extraction"
   ]
  },
  {
   "cell_type": "code",
   "execution_count": 3,
   "metadata": {},
   "outputs": [
    {
     "name": "stdout",
     "output_type": "stream",
     "text": [
      "Processing async: <PIL.PngImagePlugin.PngImageFile image mode=RGB size=1571x361 at 0x22F7F9E67A0>\n",
      "Making API call (Model: gemini-2.0-flash)...\n",
      "Processing async: <PIL.PngImagePlugin.PngImageFile image mode=RGB size=1010x48 at 0x22F7F97FE20>\n",
      "Making API call (Model: gemini-2.0-flash)...\n",
      "ImageElementBase(\n",
      "md=| Task/Dataset | BBBP  | Tox21 | ToxCast | SIDER | ClinTox | BACE  | ESOL  | FreeSolv |\n",
      "| :----------- | :---- | :---- | :------ | :---- | :------ | :---- | :---- | :------- |\n",
      "| KCL(GIN)     | 0.954 | 0.854 | 0.748   | 0.660 | 0.945   | 0.932 | 0.580 | 0.856    |\n",
      "| KCL(GAT)     | 0.956 | 0.857 | 0.750   | 0.663 | 0.942   | 0.930 | 0.588 | 0.860    |\n",
      "| KCL(GCN)     | 0.956 | 0.856 | 0.757   | 0.666 | 0.945   | 0.934 | 0.582 | 0.854    |\n",
      "| KCL(R-GCN)   | 0.936 | 0.830 | 0.735   | 0.637 | 0.948   | 0.898 | 0.780 | 1.236    |\n",
      "| KCL(MPNN)    | 0.940 | 0.835 | 0.738   | 0.640 | 0.950   | 0.895 | 0.743 | 1.111    |\n",
      "| KCL(KMPNN)   | 0.961 | 0.859 | 0.740   | 0.671 | 0.958   | 0.924 | 0.732 | 0.795    |, \n",
      "image=<PIL.PngImagePlugin.PngImageFile image mode=RGB size=1571x361 at 0x22F7F9E67A0>)\n"
     ]
    },
    {
     "data": {
      "text/html": [
       "<pre style=\"white-space:pre;overflow-x:auto;line-height:normal;font-family:Menlo,'DejaVu Sans Mono',consolas,'Courier New',monospace\">\n",
       "                                                                                       \n",
       " <span style=\"font-weight: bold\"> Task/Dataset </span> <span style=\"font-weight: bold\"> BBBP  </span> <span style=\"font-weight: bold\"> Tox21 </span> <span style=\"font-weight: bold\"> ToxCast </span> <span style=\"font-weight: bold\"> SIDER </span> <span style=\"font-weight: bold\"> ClinTox </span> <span style=\"font-weight: bold\"> BACE  </span> <span style=\"font-weight: bold\"> ESOL  </span> <span style=\"font-weight: bold\"> FreeSolv </span> \n",
       " ━━━━━━━━━━━━━━━━━━━━━━━━━━━━━━━━━━━━━━━━━━━━━━━━━━━━━━━━━━━━━━━━━━━━━━━━━━━━━━━━━━━━━ \n",
       "  KCL(GIN)       0.954   0.854   0.748     0.660   0.945     0.932   0.580   0.856     \n",
       "  KCL(GAT)       0.956   0.857   0.750     0.663   0.942     0.930   0.588   0.860     \n",
       "  KCL(GCN)       0.956   0.856   0.757     0.666   0.945     0.934   0.582   0.854     \n",
       "  KCL(R-GCN)     0.936   0.830   0.735     0.637   0.948     0.898   0.780   1.236     \n",
       "  KCL(MPNN)      0.940   0.835   0.738     0.640   0.950     0.895   0.743   1.111     \n",
       "  KCL(KMPNN)     0.961   0.859   0.740     0.671   0.958     0.924   0.732   0.795     \n",
       "                                                                                       \n",
       "</pre>\n"
      ],
      "text/plain": [
       "\n",
       "                                                                                       \n",
       " \u001b[1m \u001b[0m\u001b[1mTask/Dataset\u001b[0m\u001b[1m \u001b[0m \u001b[1m \u001b[0m\u001b[1mBBBP \u001b[0m\u001b[1m \u001b[0m \u001b[1m \u001b[0m\u001b[1mTox21\u001b[0m\u001b[1m \u001b[0m \u001b[1m \u001b[0m\u001b[1mToxCast\u001b[0m\u001b[1m \u001b[0m \u001b[1m \u001b[0m\u001b[1mSIDER\u001b[0m\u001b[1m \u001b[0m \u001b[1m \u001b[0m\u001b[1mClinTox\u001b[0m\u001b[1m \u001b[0m \u001b[1m \u001b[0m\u001b[1mBACE \u001b[0m\u001b[1m \u001b[0m \u001b[1m \u001b[0m\u001b[1mESOL \u001b[0m\u001b[1m \u001b[0m \u001b[1m \u001b[0m\u001b[1mFreeSolv\u001b[0m\u001b[1m \u001b[0m \n",
       " ━━━━━━━━━━━━━━━━━━━━━━━━━━━━━━━━━━━━━━━━━━━━━━━━━━━━━━━━━━━━━━━━━━━━━━━━━━━━━━━━━━━━━ \n",
       "  KCL(GIN)       0.954   0.854   0.748     0.660   0.945     0.932   0.580   0.856     \n",
       "  KCL(GAT)       0.956   0.857   0.750     0.663   0.942     0.930   0.588   0.860     \n",
       "  KCL(GCN)       0.956   0.856   0.757     0.666   0.945     0.934   0.582   0.854     \n",
       "  KCL(R-GCN)     0.936   0.830   0.735     0.637   0.948     0.898   0.780   1.236     \n",
       "  KCL(MPNN)      0.940   0.835   0.738     0.640   0.950     0.895   0.743   1.111     \n",
       "  KCL(KMPNN)     0.961   0.859   0.740     0.671   0.958     0.924   0.732   0.795     \n",
       "                                                                                       \n"
      ]
     },
     "metadata": {},
     "output_type": "display_data"
    }
   ],
   "source": [
    "from docsearch.core import Table\n",
    "\n",
    "table= Table.from_image(table_filepaths[0],caption=table_captions[0])\n",
    "print(table)\n",
    "md = Markdown(table._md)\n",
    "console.print(md, crop=False)"
   ]
  },
  {
   "cell_type": "markdown",
   "metadata": {},
   "source": [
    "### Asynchronous Table Extraction"
   ]
  },
  {
   "cell_type": "code",
   "execution_count": 4,
   "metadata": {},
   "outputs": [],
   "source": [
    "# import asyncio\n",
    "# tasks = [asyncio.create_task(Table.from_image_async(image)) for image in table_filepaths]\n",
    "# results = await asyncio.gather(*tasks)\n",
    "\n",
    "# for result in results:\n",
    "#     print(result)\n",
    "#     md = Markdown(result._md)\n",
    "#     console.print(md, crop=False)"
   ]
  },
  {
   "cell_type": "markdown",
   "metadata": {},
   "source": [
    "### Testing Table Class"
   ]
  },
  {
   "cell_type": "code",
   "execution_count": 5,
   "metadata": {},
   "outputs": [
    {
     "data": {
      "text/html": [
       "<div>\n",
       "<style scoped>\n",
       "    .dataframe tbody tr th:only-of-type {\n",
       "        vertical-align: middle;\n",
       "    }\n",
       "\n",
       "    .dataframe tbody tr th {\n",
       "        vertical-align: top;\n",
       "    }\n",
       "\n",
       "    .dataframe thead th {\n",
       "        text-align: right;\n",
       "    }\n",
       "</style>\n",
       "<table border=\"1\" class=\"dataframe\">\n",
       "  <thead>\n",
       "    <tr style=\"text-align: right;\">\n",
       "      <th></th>\n",
       "      <th>Task/Dataset</th>\n",
       "      <th>BBBP</th>\n",
       "      <th>Tox21</th>\n",
       "      <th>ToxCast</th>\n",
       "      <th>SIDER</th>\n",
       "      <th>ClinTox</th>\n",
       "      <th>BACE</th>\n",
       "      <th>ESOL</th>\n",
       "      <th>FreeSolv</th>\n",
       "    </tr>\n",
       "  </thead>\n",
       "  <tbody>\n",
       "    <tr>\n",
       "      <th>0</th>\n",
       "      <td>KCL(GIN)</td>\n",
       "      <td>0.954</td>\n",
       "      <td>0.854</td>\n",
       "      <td>0.748</td>\n",
       "      <td>0.660</td>\n",
       "      <td>0.945</td>\n",
       "      <td>0.932</td>\n",
       "      <td>0.580</td>\n",
       "      <td>0.856</td>\n",
       "    </tr>\n",
       "    <tr>\n",
       "      <th>1</th>\n",
       "      <td>KCL(GAT)</td>\n",
       "      <td>0.956</td>\n",
       "      <td>0.857</td>\n",
       "      <td>0.750</td>\n",
       "      <td>0.663</td>\n",
       "      <td>0.942</td>\n",
       "      <td>0.930</td>\n",
       "      <td>0.588</td>\n",
       "      <td>0.860</td>\n",
       "    </tr>\n",
       "    <tr>\n",
       "      <th>2</th>\n",
       "      <td>KCL(GCN)</td>\n",
       "      <td>0.956</td>\n",
       "      <td>0.856</td>\n",
       "      <td>0.757</td>\n",
       "      <td>0.666</td>\n",
       "      <td>0.945</td>\n",
       "      <td>0.934</td>\n",
       "      <td>0.582</td>\n",
       "      <td>0.854</td>\n",
       "    </tr>\n",
       "    <tr>\n",
       "      <th>3</th>\n",
       "      <td>KCL(R-GCN)</td>\n",
       "      <td>0.936</td>\n",
       "      <td>0.830</td>\n",
       "      <td>0.735</td>\n",
       "      <td>0.637</td>\n",
       "      <td>0.948</td>\n",
       "      <td>0.898</td>\n",
       "      <td>0.780</td>\n",
       "      <td>1.236</td>\n",
       "    </tr>\n",
       "    <tr>\n",
       "      <th>4</th>\n",
       "      <td>KCL(MPNN)</td>\n",
       "      <td>0.940</td>\n",
       "      <td>0.835</td>\n",
       "      <td>0.738</td>\n",
       "      <td>0.640</td>\n",
       "      <td>0.950</td>\n",
       "      <td>0.895</td>\n",
       "      <td>0.743</td>\n",
       "      <td>1.111</td>\n",
       "    </tr>\n",
       "    <tr>\n",
       "      <th>5</th>\n",
       "      <td>KCL(KMPNN)</td>\n",
       "      <td>0.961</td>\n",
       "      <td>0.859</td>\n",
       "      <td>0.740</td>\n",
       "      <td>0.671</td>\n",
       "      <td>0.958</td>\n",
       "      <td>0.924</td>\n",
       "      <td>0.732</td>\n",
       "      <td>0.795</td>\n",
       "    </tr>\n",
       "  </tbody>\n",
       "</table>\n",
       "</div>"
      ],
      "text/plain": [
       "  Task/Dataset   BBBP  Tox21  ToxCast  SIDER  ClinTox   BACE   ESOL  FreeSolv\n",
       "0     KCL(GIN)  0.954  0.854    0.748  0.660    0.945  0.932  0.580     0.856\n",
       "1     KCL(GAT)  0.956  0.857    0.750  0.663    0.942  0.930  0.588     0.860\n",
       "2     KCL(GCN)  0.956  0.856    0.757  0.666    0.945  0.934  0.582     0.854\n",
       "3   KCL(R-GCN)  0.936  0.830    0.735  0.637    0.948  0.898  0.780     1.236\n",
       "4    KCL(MPNN)  0.940  0.835    0.738  0.640    0.950  0.895  0.743     1.111\n",
       "5   KCL(KMPNN)  0.961  0.859    0.740  0.671    0.958  0.924  0.732     0.795"
      ]
     },
     "execution_count": 5,
     "metadata": {},
     "output_type": "execute_result"
    }
   ],
   "source": [
    "table.df"
   ]
  },
  {
   "cell_type": "code",
   "execution_count": 6,
   "metadata": {},
   "outputs": [
    {
     "data": {
      "text/plain": [
       "'{\\n  \"df\": [\\n    {\\n      \"Task/Dataset\": \"KCL(GIN)\",\\n      \"BBBP\": 0.954,\\n      \"Tox21\": 0.854,\\n      \"ToxCast\": 0.748,\\n      \"SIDER\": 0.66,\\n      \"ClinTox\": 0.945,\\n      \"BACE\": 0.932,\\n      \"ESOL\": 0.58,\\n      \"FreeSolv\": 0.856\\n    },\\n    {\\n      \"Task/Dataset\": \"KCL(GAT)\",\\n      \"BBBP\": 0.956,\\n      \"Tox21\": 0.857,\\n      \"ToxCast\": 0.75,\\n      \"SIDER\": 0.663,\\n      \"ClinTox\": 0.942,\\n      \"BACE\": 0.93,\\n      \"ESOL\": 0.588,\\n      \"FreeSolv\": 0.86\\n    },\\n    {\\n      \"Task/Dataset\": \"KCL(GCN)\",\\n      \"BBBP\": 0.956,\\n      \"Tox21\": 0.856,\\n      \"ToxCast\": 0.757,\\n      \"SIDER\": 0.666,\\n      \"ClinTox\": 0.945,\\n      \"BACE\": 0.934,\\n      \"ESOL\": 0.582,\\n      \"FreeSolv\": 0.854\\n    },\\n    {\\n      \"Task/Dataset\": \"KCL(R-GCN)\",\\n      \"BBBP\": 0.936,\\n      \"Tox21\": 0.83,\\n      \"ToxCast\": 0.735,\\n      \"SIDER\": 0.637,\\n      \"ClinTox\": 0.948,\\n      \"BACE\": 0.898,\\n      \"ESOL\": 0.78,\\n      \"FreeSolv\": 1.236\\n    },\\n    {\\n      \"Task/Dataset\": \"KCL(MPNN)\",\\n      \"BBBP\": 0.94,\\n      \"Tox21\": 0.835,\\n      \"ToxCast\": 0.738,\\n      \"SIDER\": 0.64,\\n      \"ClinTox\": 0.95,\\n      \"BACE\": 0.895,\\n      \"ESOL\": 0.743,\\n      \"FreeSolv\": 1.111\\n    },\\n    {\\n      \"Task/Dataset\": \"KCL(KMPNN)\",\\n      \"BBBP\": 0.961,\\n      \"Tox21\": 0.859,\\n      \"ToxCast\": 0.74,\\n      \"SIDER\": 0.671,\\n      \"ClinTox\": 0.958,\\n      \"BACE\": 0.924,\\n      \"ESOL\": 0.732,\\n      \"FreeSolv\": 0.795\\n    }\\n  ],\\n  \"summary\": \"This markdown table presents the performance of different KCL models (GIN, GAT, GCN, R-GCN, MPNN, KMPNN) on various datasets (BBBP, Tox21, ToxCast, SIDER, ClinTox, BACE, ESOL, FreeSolv). The table shows the classification and regression results for each model on each dataset.\",\\n  \"md\": \"| Task/Dataset | BBBP   | Tox21 | ToxCast | SIDER | ClinTox | BACE   | ESOL  | FreeSolv |\\\\n| :----------- | :----- | :---- | :------ | :---- | :------ | :----- | :---- | :------- |\\\\n| KCL(GIN)     | 0.954  | 0.854 | 0.748   | 0.660 | 0.945   | 0.932  | 0.580 | 0.856    |\\\\n| KCL(GAT)     | 0.956  | 0.857 | 0.750   | 0.663 | 0.942   | 0.930  | 0.588 | 0.860    |\\\\n| KCL(GCN)     | 0.956  | 0.856 | 0.757   | 0.666 | 0.945   | 0.934  | 0.582 | 0.854    |\\\\n| KCL(R-GCN)   | 0.936  | 0.830 | 0.735   | 0.637 | 0.948   | 0.898  | 0.780 | 1.236    |\\\\n| KCL(MPNN)    | 0.940  | 0.835 | 0.738   | 0.640 | 0.950   | 0.895  | 0.743 | 1.111    |\\\\n| KCL(KMPNN)   | 0.961  | 0.859 | 0.740   | 0.671 | 0.958   | 0.924  | 0.732 | 0.795    |\",\\n  \"caption\": {\\n    \"md\": \"Table 11: Results comparison with different graph encoders.\"\\n  }\\n}'"
      ]
     },
     "execution_count": 6,
     "metadata": {},
     "output_type": "execute_result"
    }
   ],
   "source": [
    "table.to_json(filepath=table_filepaths[0].with_suffix(\".json\"))"
   ]
  },
  {
   "cell_type": "code",
   "execution_count": 7,
   "metadata": {},
   "outputs": [
    {
     "data": {
      "text/plain": [
       "Caption(\n",
       "md=Table 11: Results comparison with different graph encoders., \n",
       "image=<PIL.PngImagePlugin.PngImageFile image mode=RGB size=1010x48 at 0x195FFDD0B80>)"
      ]
     },
     "execution_count": 7,
     "metadata": {},
     "output_type": "execute_result"
    }
   ],
   "source": [
    "table.caption"
   ]
  },
  {
   "cell_type": "code",
   "execution_count": 8,
   "metadata": {},
   "outputs": [
    {
     "data": {
      "text/html": [
       "<pre style=\"white-space:pre;overflow-x:auto;line-height:normal;font-family:Menlo,'DejaVu Sans Mono',consolas,'Courier New',monospace\">\n",
       "                                                                                       \n",
       " <span style=\"font-weight: bold\"> Task/Dataset </span> <span style=\"font-weight: bold\"> BBBP  </span> <span style=\"font-weight: bold\"> Tox21 </span> <span style=\"font-weight: bold\"> ToxCast </span> <span style=\"font-weight: bold\"> SIDER </span> <span style=\"font-weight: bold\"> ClinTox </span> <span style=\"font-weight: bold\"> BACE  </span> <span style=\"font-weight: bold\"> ESOL  </span> <span style=\"font-weight: bold\"> FreeSolv </span> \n",
       " ━━━━━━━━━━━━━━━━━━━━━━━━━━━━━━━━━━━━━━━━━━━━━━━━━━━━━━━━━━━━━━━━━━━━━━━━━━━━━━━━━━━━━ \n",
       "  KCL(GIN)       0.954   0.854   0.748     0.660   0.945     0.932   0.580   0.856     \n",
       "  KCL(GAT)       0.956   0.857   0.750     0.663   0.942     0.930   0.588   0.860     \n",
       "  KCL(GCN)       0.956   0.856   0.757     0.666   0.945     0.934   0.582   0.854     \n",
       "  KCL(R-GCN)     0.936   0.830   0.735     0.637   0.948     0.898   0.780   1.236     \n",
       "  KCL(MPNN)      0.940   0.835   0.738     0.640   0.950     0.895   0.743   1.111     \n",
       "  KCL(KMPNN)     0.961   0.859   0.740     0.671   0.958     0.924   0.732   0.795     \n",
       "                                                                                       \n",
       "\n",
       "Table 11: Results comparison with different graph encoders.                                                        \n",
       "\n",
       "<span style=\"font-style: italic\">Summary: This markdown table presents the performance of different KCL models (GIN, GAT, GCN, R-GCN, MPNN, KMPNN) </span> \n",
       "<span style=\"font-style: italic\">on various datasets (BBBP, Tox21, ToxCast, SIDER, ClinTox, BACE, ESOL, FreeSolv). The table shows the </span>             \n",
       "<span style=\"font-style: italic\">classification and regression results for each model on each dataset.</span>                                              \n",
       "</pre>\n"
      ],
      "text/plain": [
       "\n",
       "                                                                                       \n",
       " \u001b[1m \u001b[0m\u001b[1mTask/Dataset\u001b[0m\u001b[1m \u001b[0m \u001b[1m \u001b[0m\u001b[1mBBBP \u001b[0m\u001b[1m \u001b[0m \u001b[1m \u001b[0m\u001b[1mTox21\u001b[0m\u001b[1m \u001b[0m \u001b[1m \u001b[0m\u001b[1mToxCast\u001b[0m\u001b[1m \u001b[0m \u001b[1m \u001b[0m\u001b[1mSIDER\u001b[0m\u001b[1m \u001b[0m \u001b[1m \u001b[0m\u001b[1mClinTox\u001b[0m\u001b[1m \u001b[0m \u001b[1m \u001b[0m\u001b[1mBACE \u001b[0m\u001b[1m \u001b[0m \u001b[1m \u001b[0m\u001b[1mESOL \u001b[0m\u001b[1m \u001b[0m \u001b[1m \u001b[0m\u001b[1mFreeSolv\u001b[0m\u001b[1m \u001b[0m \n",
       " ━━━━━━━━━━━━━━━━━━━━━━━━━━━━━━━━━━━━━━━━━━━━━━━━━━━━━━━━━━━━━━━━━━━━━━━━━━━━━━━━━━━━━ \n",
       "  KCL(GIN)       0.954   0.854   0.748     0.660   0.945     0.932   0.580   0.856     \n",
       "  KCL(GAT)       0.956   0.857   0.750     0.663   0.942     0.930   0.588   0.860     \n",
       "  KCL(GCN)       0.956   0.856   0.757     0.666   0.945     0.934   0.582   0.854     \n",
       "  KCL(R-GCN)     0.936   0.830   0.735     0.637   0.948     0.898   0.780   1.236     \n",
       "  KCL(MPNN)      0.940   0.835   0.738     0.640   0.950     0.895   0.743   1.111     \n",
       "  KCL(KMPNN)     0.961   0.859   0.740     0.671   0.958     0.924   0.732   0.795     \n",
       "                                                                                       \n",
       "\n",
       "Table 11: Results comparison with different graph encoders.                                                        \n",
       "\n",
       "\u001b[3mSummary: This markdown table presents the performance of different KCL models (GIN, GAT, GCN, R-GCN, MPNN, KMPNN) \u001b[0m \n",
       "\u001b[3mon various datasets (BBBP, Tox21, ToxCast, SIDER, ClinTox, BACE, ESOL, FreeSolv). The table shows the \u001b[0m             \n",
       "\u001b[3mclassification and regression results for each model on each dataset.\u001b[0m                                              \n"
      ]
     },
     "metadata": {},
     "output_type": "display_data"
    }
   ],
   "source": [
    "table.description\n",
    "md = Markdown(table.description)\n",
    "console.print(md, crop=False)"
   ]
  },
  {
   "cell_type": "markdown",
   "metadata": {},
   "source": [
    "## Figure Extraction"
   ]
  },
  {
   "cell_type": "code",
   "execution_count": 9,
   "metadata": {},
   "outputs": [
    {
     "name": "stdout",
     "output_type": "stream",
     "text": [
      "Processing async: <PIL.PngImagePlugin.PngImageFile image mode=RGB size=957x386 at 0x195C944D480>\n",
      "Making API call (Model: gemini-2.0-flash)...\n",
      "Processing async: <PIL.PngImagePlugin.PngImageFile image mode=RGB size=1010x48 at 0x195FFDD1630>\n",
      "Making API call (Model: gemini-2.0-flash)...\n",
      "Figure(\n",
      "md=## BACE\n",
      "\n",
      "### Properties\n",
      "\n",
      "*   **Ionization**: High\n",
      "*   **Abundance**: Low\n",
      "*   **Electronegativity**: High\n",
      "*   **Electron Affinity**: Low\n",
      "*   **Boiling Point**: Low\n",
      "*   **Periodic**: Low\n",
      "*   **State**: High\n",
      "*   **Heat**: High\n",
      "*   **Family**: Low\n",
      "*   **Weight**: Low\n",
      "*   **Conductivity**: High\n",
      "*   **Density**: High\n",
      "*   **Metallicity**: High\n",
      "*   **Radius**: Low\n",
      "\n",
      "## ToxCast\n",
      "\n",
      "### Properties\n",
      "\n",
      "*   **Ionization**: High\n",
      "*   **Heat**: Low\n",
      "*   **Electronegativity**: Low\n",
      "*   **Abundance**: Low\n",
      "*   **Family**: High\n",
      "*   **Metallicity**: High\n",
      "*   **Melting Point**: Low\n",
      "*   **Radius**: Low\n",
      "*   **Boiling Point**: High\n",
      "*   **Electron Affinity**: Low\n",
      "*   **Weight**: Low\n",
      "*   **State**: High\n",
      "*   **Conductivity**: Low\n",
      "*   **Metallicity**: Low, \n",
      "summary=The image shows two diagrams, BACE and ToxCast, each representing the properties of a central element 'C'. The properties are arranged radially around 'C', with the intensity of the color indicating the level of each property. BACE highlights properties like Ionization, Electronegativity, Conductivity, and Density as high, while ToxCast emphasizes Ionization, Family, State, and Boiling Point., \n",
      "image=<PIL.PngImagePlugin.PngImageFile image mode=RGB size=957x386 at 0x195C944D480>, \n",
      "caption=Table 11: Results comparison with different graph encoders.)\n"
     ]
    }
   ],
   "source": [
    "from docsearch.core import Figure\n",
    "\n",
    "figure = Figure.from_image(figure_filepaths[0], caption=figure_captions[0])\n",
    "print(figure)\n",
    "md = Markdown(figure._md)"
   ]
  },
  {
   "cell_type": "code",
   "execution_count": 10,
   "metadata": {},
   "outputs": [
    {
     "name": "stdout",
     "output_type": "stream",
     "text": [
      "## BACE\n",
      "\n",
      "### Properties\n",
      "\n",
      "*   **Ionization**: High\n",
      "*   **Abundance**: Low\n",
      "*   **Electronegativity**: High\n",
      "*   **Electron Affinity**: Low\n",
      "*   **Boiling Point**: Low\n",
      "*   **Periodic**: Low\n",
      "*   **State**: High\n",
      "*   **Heat**: High\n",
      "*   **Family**: Low\n",
      "*   **Weight**: Low\n",
      "*   **Conductivity**: High\n",
      "*   **Density**: High\n",
      "*   **Metallicity**: High\n",
      "*   **Radius**: Low\n",
      "\n",
      "## ToxCast\n",
      "\n",
      "### Properties\n",
      "\n",
      "*   **Ionization**: High\n",
      "*   **Heat**: Low\n",
      "*   **Electronegativity**: Low\n",
      "*   **Abundance**: Low\n",
      "*   **Family**: High\n",
      "*   **Metallicity**: High\n",
      "*   **Melting Point**: Low\n",
      "*   **Radius**: Low\n",
      "*   **Boiling Point**: High\n",
      "*   **Electron Affinity**: Low\n",
      "*   **Weight**: Low\n",
      "*   **State**: High\n",
      "*   **Conductivity**: Low\n",
      "*   **Metallicity**: Low\n",
      "\n",
      "Table 11: Results comparison with different graph encoders.\n",
      "\n",
      "*Summary: The image shows two diagrams, BACE and ToxCast, each representing the properties of a central element 'C'. The properties are arranged radially around 'C', with the intensity of the color indicating the level of each property. BACE highlights properties like Ionization, Electronegativity, Conductivity, and Density as high, while ToxCast emphasizes Ionization, Family, State, and Boiling Point.*\n"
     ]
    }
   ],
   "source": [
    "print(figure.description)\n"
   ]
  },
  {
   "cell_type": "markdown",
   "metadata": {},
   "source": [
    "## Page Extraction"
   ]
  },
  {
   "cell_type": "code",
   "execution_count": 11,
   "metadata": {},
   "outputs": [
    {
     "name": "stdout",
     "output_type": "stream",
     "text": [
      "⚠️ GitHub assets check failure for https://api.github.com/repos/doclayout_yolo/assets/releases/tags/v8.1.0: 404 Not Found\n",
      "⚠️ GitHub assets check failure for https://api.github.com/repos/doclayout_yolo/assets/releases/latest: 404 Not Found\n"
     ]
    },
    {
     "ename": "FileNotFoundError",
     "evalue": "[Errno 2] No such file or directory: 'doclayout_yolo_docstructbench_imgsz1024.pt'",
     "output_type": "error",
     "traceback": [
      "\u001b[1;31m---------------------------------------------------------------------------\u001b[0m",
      "\u001b[1;31mFileNotFoundError\u001b[0m                         Traceback (most recent call last)",
      "Cell \u001b[1;32mIn[11], line 3\u001b[0m\n\u001b[0;32m      1\u001b[0m \u001b[38;5;28;01mfrom\u001b[39;00m\u001b[38;5;250m \u001b[39m\u001b[38;5;21;01mdocsearch\u001b[39;00m\u001b[38;5;21;01m.\u001b[39;00m\u001b[38;5;21;01mcore\u001b[39;00m\u001b[38;5;250m \u001b[39m\u001b[38;5;28;01mimport\u001b[39;00m Page\n\u001b[1;32m----> 3\u001b[0m page \u001b[38;5;241m=\u001b[39m \u001b[43mPage\u001b[49m\u001b[38;5;241;43m.\u001b[39;49m\u001b[43mfrom_image\u001b[49m\u001b[43m(\u001b[49m\u001b[43msample_filepaths\u001b[49m\u001b[43m[\u001b[49m\u001b[38;5;241;43m0\u001b[39;49m\u001b[43m]\u001b[49m\u001b[43m)\u001b[49m\n\u001b[0;32m      4\u001b[0m \u001b[38;5;28mprint\u001b[39m(page)\n\u001b[0;32m      5\u001b[0m md \u001b[38;5;241m=\u001b[39m Markdown(page\u001b[38;5;241m.\u001b[39m_md)\n",
      "File \u001b[1;32m~\\Desktop\\Current_Projects\\DocSearch\\docsearch\\core\\page.py:321\u001b[0m, in \u001b[0;36mPage.from_image\u001b[1;34m(cls, image, model_weights, model, generate_config)\u001b[0m\n\u001b[0;32m    318\u001b[0m \u001b[38;5;28;01mif\u001b[39;00m \u001b[38;5;28misinstance\u001b[39m(image, Path):\n\u001b[0;32m    319\u001b[0m     image \u001b[38;5;241m=\u001b[39m Image\u001b[38;5;241m.\u001b[39mopen(image)\n\u001b[1;32m--> 321\u001b[0m extraction_results \u001b[38;5;241m=\u001b[39m \u001b[43mextract_image_elements\u001b[49m\u001b[43m(\u001b[49m\u001b[43mimage\u001b[49m\u001b[43m,\u001b[49m\u001b[43m \u001b[49m\u001b[43mmodel_weights\u001b[49m\u001b[38;5;241;43m=\u001b[39;49m\u001b[43mmodel_weights\u001b[49m\u001b[43m)\u001b[49m\n\u001b[0;32m    323\u001b[0m \u001b[38;5;28;01masync\u001b[39;00m \u001b[38;5;28;01mdef\u001b[39;00m\u001b[38;5;250m \u001b[39m\u001b[38;5;21mparse_all_images\u001b[39m():\n\u001b[0;32m    324\u001b[0m     tasks \u001b[38;5;241m=\u001b[39m []\n",
      "File \u001b[1;32m~\\Desktop\\Current_Projects\\DocSearch\\docsearch\\core\\page.py:103\u001b[0m, in \u001b[0;36mextract_image_elements\u001b[1;34m(image, model_weights, confidence_threshold, image_size, device)\u001b[0m\n\u001b[0;32m    100\u001b[0m model_weights \u001b[38;5;241m=\u001b[39m Path(model_weights)\n\u001b[0;32m    101\u001b[0m \u001b[38;5;66;03m# Load original image\u001b[39;00m\n\u001b[1;32m--> 103\u001b[0m model \u001b[38;5;241m=\u001b[39m \u001b[43mYOLOv10\u001b[49m\u001b[43m(\u001b[49m\u001b[43mmodel_weights\u001b[49m\u001b[43m)\u001b[49m\n\u001b[0;32m    104\u001b[0m original_width, original_height \u001b[38;5;241m=\u001b[39m image\u001b[38;5;241m.\u001b[39msize\n\u001b[0;32m    106\u001b[0m \u001b[38;5;66;03m# Run YOLO prediction\u001b[39;00m\n",
      "File \u001b[1;32mc:\\Users\\lllang\\miniconda3\\envs\\docsearch\\lib\\site-packages\\doclayout_yolo\\models\\yolov10\\model.py:12\u001b[0m, in \u001b[0;36mYOLOv10.__init__\u001b[1;34m(self, model, task, verbose)\u001b[0m\n\u001b[0;32m     11\u001b[0m \u001b[38;5;28;01mdef\u001b[39;00m\u001b[38;5;250m \u001b[39m\u001b[38;5;21m__init__\u001b[39m(\u001b[38;5;28mself\u001b[39m, model\u001b[38;5;241m=\u001b[39m\u001b[38;5;124m\"\u001b[39m\u001b[38;5;124myolov10n.pt\u001b[39m\u001b[38;5;124m\"\u001b[39m, task\u001b[38;5;241m=\u001b[39m\u001b[38;5;28;01mNone\u001b[39;00m, verbose\u001b[38;5;241m=\u001b[39m\u001b[38;5;28;01mFalse\u001b[39;00m):\n\u001b[1;32m---> 12\u001b[0m     \u001b[38;5;28;43msuper\u001b[39;49m\u001b[43m(\u001b[49m\u001b[43m)\u001b[49m\u001b[38;5;241;43m.\u001b[39;49m\u001b[38;5;21;43m__init__\u001b[39;49m\u001b[43m(\u001b[49m\u001b[43mmodel\u001b[49m\u001b[38;5;241;43m=\u001b[39;49m\u001b[43mmodel\u001b[49m\u001b[43m,\u001b[49m\u001b[43m \u001b[49m\u001b[43mtask\u001b[49m\u001b[38;5;241;43m=\u001b[39;49m\u001b[43mtask\u001b[49m\u001b[43m,\u001b[49m\u001b[43m \u001b[49m\u001b[43mverbose\u001b[49m\u001b[38;5;241;43m=\u001b[39;49m\u001b[43mverbose\u001b[49m\u001b[43m)\u001b[49m\n",
      "File \u001b[1;32mc:\\Users\\lllang\\miniconda3\\envs\\docsearch\\lib\\site-packages\\doclayout_yolo\\engine\\model.py:144\u001b[0m, in \u001b[0;36mModel.__init__\u001b[1;34m(self, model, task, verbose)\u001b[0m\n\u001b[0;32m    142\u001b[0m     \u001b[38;5;28mself\u001b[39m\u001b[38;5;241m.\u001b[39m_new(model, task\u001b[38;5;241m=\u001b[39mtask, verbose\u001b[38;5;241m=\u001b[39mverbose)\n\u001b[0;32m    143\u001b[0m \u001b[38;5;28;01melse\u001b[39;00m:\n\u001b[1;32m--> 144\u001b[0m     \u001b[38;5;28;43mself\u001b[39;49m\u001b[38;5;241;43m.\u001b[39;49m\u001b[43m_load\u001b[49m\u001b[43m(\u001b[49m\u001b[43mmodel\u001b[49m\u001b[43m,\u001b[49m\u001b[43m \u001b[49m\u001b[43mtask\u001b[49m\u001b[38;5;241;43m=\u001b[39;49m\u001b[43mtask\u001b[49m\u001b[43m)\u001b[49m\n",
      "File \u001b[1;32mc:\\Users\\lllang\\miniconda3\\envs\\docsearch\\lib\\site-packages\\doclayout_yolo\\engine\\model.py:233\u001b[0m, in \u001b[0;36mModel._load\u001b[1;34m(self, weights, task)\u001b[0m\n\u001b[0;32m    230\u001b[0m weights \u001b[38;5;241m=\u001b[39m checks\u001b[38;5;241m.\u001b[39mcheck_model_file_from_stem(weights)  \u001b[38;5;66;03m# add suffix, i.e. yolov8n -> yolov8n.pt\u001b[39;00m\n\u001b[0;32m    232\u001b[0m \u001b[38;5;28;01mif\u001b[39;00m Path(weights)\u001b[38;5;241m.\u001b[39msuffix \u001b[38;5;241m==\u001b[39m \u001b[38;5;124m\"\u001b[39m\u001b[38;5;124m.pt\u001b[39m\u001b[38;5;124m\"\u001b[39m:\n\u001b[1;32m--> 233\u001b[0m     \u001b[38;5;28mself\u001b[39m\u001b[38;5;241m.\u001b[39mmodel, \u001b[38;5;28mself\u001b[39m\u001b[38;5;241m.\u001b[39mckpt \u001b[38;5;241m=\u001b[39m \u001b[43mattempt_load_one_weight\u001b[49m\u001b[43m(\u001b[49m\u001b[43mweights\u001b[49m\u001b[43m)\u001b[49m\n\u001b[0;32m    234\u001b[0m     \u001b[38;5;28mself\u001b[39m\u001b[38;5;241m.\u001b[39mtask \u001b[38;5;241m=\u001b[39m \u001b[38;5;28mself\u001b[39m\u001b[38;5;241m.\u001b[39mmodel\u001b[38;5;241m.\u001b[39margs[\u001b[38;5;124m\"\u001b[39m\u001b[38;5;124mtask\u001b[39m\u001b[38;5;124m\"\u001b[39m]\n\u001b[0;32m    235\u001b[0m     \u001b[38;5;28mself\u001b[39m\u001b[38;5;241m.\u001b[39moverrides \u001b[38;5;241m=\u001b[39m \u001b[38;5;28mself\u001b[39m\u001b[38;5;241m.\u001b[39mmodel\u001b[38;5;241m.\u001b[39margs \u001b[38;5;241m=\u001b[39m \u001b[38;5;28mself\u001b[39m\u001b[38;5;241m.\u001b[39m_reset_ckpt_args(\u001b[38;5;28mself\u001b[39m\u001b[38;5;241m.\u001b[39mmodel\u001b[38;5;241m.\u001b[39margs)\n",
      "File \u001b[1;32mc:\\Users\\lllang\\miniconda3\\envs\\docsearch\\lib\\site-packages\\doclayout_yolo\\nn\\tasks.py:807\u001b[0m, in \u001b[0;36mattempt_load_one_weight\u001b[1;34m(weight, device, inplace, fuse)\u001b[0m\n\u001b[0;32m    805\u001b[0m \u001b[38;5;28;01mdef\u001b[39;00m\u001b[38;5;250m \u001b[39m\u001b[38;5;21mattempt_load_one_weight\u001b[39m(weight, device\u001b[38;5;241m=\u001b[39m\u001b[38;5;28;01mNone\u001b[39;00m, inplace\u001b[38;5;241m=\u001b[39m\u001b[38;5;28;01mTrue\u001b[39;00m, fuse\u001b[38;5;241m=\u001b[39m\u001b[38;5;28;01mFalse\u001b[39;00m):\n\u001b[0;32m    806\u001b[0m \u001b[38;5;250m    \u001b[39m\u001b[38;5;124;03m\"\"\"Loads a single model weights.\"\"\"\u001b[39;00m\n\u001b[1;32m--> 807\u001b[0m     ckpt, weight \u001b[38;5;241m=\u001b[39m \u001b[43mtorch_safe_load\u001b[49m\u001b[43m(\u001b[49m\u001b[43mweight\u001b[49m\u001b[43m)\u001b[49m  \u001b[38;5;66;03m# load ckpt\u001b[39;00m\n\u001b[0;32m    808\u001b[0m     args \u001b[38;5;241m=\u001b[39m {\u001b[38;5;241m*\u001b[39m\u001b[38;5;241m*\u001b[39mDEFAULT_CFG_DICT, \u001b[38;5;241m*\u001b[39m\u001b[38;5;241m*\u001b[39m(ckpt\u001b[38;5;241m.\u001b[39mget(\u001b[38;5;124m\"\u001b[39m\u001b[38;5;124mtrain_args\u001b[39m\u001b[38;5;124m\"\u001b[39m, {}))}  \u001b[38;5;66;03m# combine model and default args, preferring model args\u001b[39;00m\n\u001b[0;32m    809\u001b[0m     model \u001b[38;5;241m=\u001b[39m (ckpt\u001b[38;5;241m.\u001b[39mget(\u001b[38;5;124m\"\u001b[39m\u001b[38;5;124mema\u001b[39m\u001b[38;5;124m\"\u001b[39m) \u001b[38;5;129;01mor\u001b[39;00m ckpt[\u001b[38;5;124m\"\u001b[39m\u001b[38;5;124mmodel\u001b[39m\u001b[38;5;124m\"\u001b[39m])\u001b[38;5;241m.\u001b[39mto(device)\u001b[38;5;241m.\u001b[39mfloat()  \u001b[38;5;66;03m# FP32 model\u001b[39;00m\n",
      "File \u001b[1;32mc:\\Users\\lllang\\miniconda3\\envs\\docsearch\\lib\\site-packages\\doclayout_yolo\\nn\\tasks.py:733\u001b[0m, in \u001b[0;36mtorch_safe_load\u001b[1;34m(weight)\u001b[0m\n\u001b[0;32m    725\u001b[0m \u001b[38;5;28;01mtry\u001b[39;00m:\n\u001b[0;32m    726\u001b[0m     \u001b[38;5;28;01mwith\u001b[39;00m temporary_modules(\n\u001b[0;32m    727\u001b[0m         {\n\u001b[0;32m    728\u001b[0m             \u001b[38;5;124m\"\u001b[39m\u001b[38;5;124mdoclayout_yolo.yolo.utils\u001b[39m\u001b[38;5;124m\"\u001b[39m: \u001b[38;5;124m\"\u001b[39m\u001b[38;5;124mdoclayout_yolo.utils\u001b[39m\u001b[38;5;124m\"\u001b[39m,\n\u001b[1;32m   (...)\u001b[0m\n\u001b[0;32m    731\u001b[0m         }\n\u001b[0;32m    732\u001b[0m     ):  \u001b[38;5;66;03m# for legacy 8.0 Classify and Pose models\u001b[39;00m\n\u001b[1;32m--> 733\u001b[0m         ckpt \u001b[38;5;241m=\u001b[39m \u001b[43mtorch\u001b[49m\u001b[38;5;241;43m.\u001b[39;49m\u001b[43mload\u001b[49m\u001b[43m(\u001b[49m\u001b[43mfile\u001b[49m\u001b[43m,\u001b[49m\u001b[43m \u001b[49m\u001b[43mmap_location\u001b[49m\u001b[38;5;241;43m=\u001b[39;49m\u001b[38;5;124;43m\"\u001b[39;49m\u001b[38;5;124;43mcpu\u001b[39;49m\u001b[38;5;124;43m\"\u001b[39;49m\u001b[43m,\u001b[49m\u001b[43m \u001b[49m\u001b[43mweights_only\u001b[49m\u001b[38;5;241;43m=\u001b[39;49m\u001b[38;5;28;43;01mFalse\u001b[39;49;00m\u001b[43m)\u001b[49m\n\u001b[0;32m    735\u001b[0m \u001b[38;5;28;01mexcept\u001b[39;00m \u001b[38;5;167;01mModuleNotFoundError\u001b[39;00m \u001b[38;5;28;01mas\u001b[39;00m e:  \u001b[38;5;66;03m# e.name is missing module name\u001b[39;00m\n\u001b[0;32m    736\u001b[0m     \u001b[38;5;28;01mif\u001b[39;00m e\u001b[38;5;241m.\u001b[39mname \u001b[38;5;241m==\u001b[39m \u001b[38;5;124m\"\u001b[39m\u001b[38;5;124mmodels\u001b[39m\u001b[38;5;124m\"\u001b[39m:\n",
      "File \u001b[1;32mc:\\Users\\lllang\\miniconda3\\envs\\docsearch\\lib\\site-packages\\torch\\serialization.py:1479\u001b[0m, in \u001b[0;36mload\u001b[1;34m(f, map_location, pickle_module, weights_only, mmap, **pickle_load_args)\u001b[0m\n\u001b[0;32m   1476\u001b[0m \u001b[38;5;28;01mif\u001b[39;00m \u001b[38;5;124m\"\u001b[39m\u001b[38;5;124mencoding\u001b[39m\u001b[38;5;124m\"\u001b[39m \u001b[38;5;129;01mnot\u001b[39;00m \u001b[38;5;129;01min\u001b[39;00m pickle_load_args\u001b[38;5;241m.\u001b[39mkeys():\n\u001b[0;32m   1477\u001b[0m     pickle_load_args[\u001b[38;5;124m\"\u001b[39m\u001b[38;5;124mencoding\u001b[39m\u001b[38;5;124m\"\u001b[39m] \u001b[38;5;241m=\u001b[39m \u001b[38;5;124m\"\u001b[39m\u001b[38;5;124mutf-8\u001b[39m\u001b[38;5;124m\"\u001b[39m\n\u001b[1;32m-> 1479\u001b[0m \u001b[38;5;28;01mwith\u001b[39;00m \u001b[43m_open_file_like\u001b[49m\u001b[43m(\u001b[49m\u001b[43mf\u001b[49m\u001b[43m,\u001b[49m\u001b[43m \u001b[49m\u001b[38;5;124;43m\"\u001b[39;49m\u001b[38;5;124;43mrb\u001b[39;49m\u001b[38;5;124;43m\"\u001b[39;49m\u001b[43m)\u001b[49m \u001b[38;5;28;01mas\u001b[39;00m opened_file:\n\u001b[0;32m   1480\u001b[0m     \u001b[38;5;28;01mif\u001b[39;00m _is_zipfile(opened_file):\n\u001b[0;32m   1481\u001b[0m         \u001b[38;5;66;03m# The zipfile reader is going to advance the current file position.\u001b[39;00m\n\u001b[0;32m   1482\u001b[0m         \u001b[38;5;66;03m# If we want to actually tail call to torch.jit.load, we need to\u001b[39;00m\n\u001b[0;32m   1483\u001b[0m         \u001b[38;5;66;03m# reset back to the original position.\u001b[39;00m\n\u001b[0;32m   1484\u001b[0m         orig_position \u001b[38;5;241m=\u001b[39m opened_file\u001b[38;5;241m.\u001b[39mtell()\n",
      "File \u001b[1;32mc:\\Users\\lllang\\miniconda3\\envs\\docsearch\\lib\\site-packages\\torch\\serialization.py:759\u001b[0m, in \u001b[0;36m_open_file_like\u001b[1;34m(name_or_buffer, mode)\u001b[0m\n\u001b[0;32m    757\u001b[0m \u001b[38;5;28;01mdef\u001b[39;00m\u001b[38;5;250m \u001b[39m\u001b[38;5;21m_open_file_like\u001b[39m(name_or_buffer: FileLike, mode: \u001b[38;5;28mstr\u001b[39m) \u001b[38;5;241m-\u001b[39m\u001b[38;5;241m>\u001b[39m _opener[IO[\u001b[38;5;28mbytes\u001b[39m]]:\n\u001b[0;32m    758\u001b[0m     \u001b[38;5;28;01mif\u001b[39;00m _is_path(name_or_buffer):\n\u001b[1;32m--> 759\u001b[0m         \u001b[38;5;28;01mreturn\u001b[39;00m \u001b[43m_open_file\u001b[49m\u001b[43m(\u001b[49m\u001b[43mname_or_buffer\u001b[49m\u001b[43m,\u001b[49m\u001b[43m \u001b[49m\u001b[43mmode\u001b[49m\u001b[43m)\u001b[49m\n\u001b[0;32m    760\u001b[0m     \u001b[38;5;28;01melse\u001b[39;00m:\n\u001b[0;32m    761\u001b[0m         \u001b[38;5;28;01mif\u001b[39;00m \u001b[38;5;124m\"\u001b[39m\u001b[38;5;124mw\u001b[39m\u001b[38;5;124m\"\u001b[39m \u001b[38;5;129;01min\u001b[39;00m mode:\n",
      "File \u001b[1;32mc:\\Users\\lllang\\miniconda3\\envs\\docsearch\\lib\\site-packages\\torch\\serialization.py:740\u001b[0m, in \u001b[0;36m_open_file.__init__\u001b[1;34m(self, name, mode)\u001b[0m\n\u001b[0;32m    739\u001b[0m \u001b[38;5;28;01mdef\u001b[39;00m\u001b[38;5;250m \u001b[39m\u001b[38;5;21m__init__\u001b[39m(\u001b[38;5;28mself\u001b[39m, name: Union[\u001b[38;5;28mstr\u001b[39m, os\u001b[38;5;241m.\u001b[39mPathLike[\u001b[38;5;28mstr\u001b[39m]], mode: \u001b[38;5;28mstr\u001b[39m) \u001b[38;5;241m-\u001b[39m\u001b[38;5;241m>\u001b[39m \u001b[38;5;28;01mNone\u001b[39;00m:\n\u001b[1;32m--> 740\u001b[0m     \u001b[38;5;28msuper\u001b[39m()\u001b[38;5;241m.\u001b[39m\u001b[38;5;21m__init__\u001b[39m(\u001b[38;5;28;43mopen\u001b[39;49m\u001b[43m(\u001b[49m\u001b[43mname\u001b[49m\u001b[43m,\u001b[49m\u001b[43m \u001b[49m\u001b[43mmode\u001b[49m\u001b[43m)\u001b[49m)\n",
      "\u001b[1;31mFileNotFoundError\u001b[0m: [Errno 2] No such file or directory: 'doclayout_yolo_docstructbench_imgsz1024.pt'"
     ]
    }
   ],
   "source": [
    "from docsearch.core import Page\n",
    "\n",
    "page = Page.from_image(sample_filepaths[0])\n",
    "print(page)\n",
    "md = Markdown(page._md)\n",
    "print(page.description)\n"
   ]
  },
  {
   "cell_type": "markdown",
   "metadata": {},
   "source": []
  }
 ],
 "metadata": {
  "kernelspec": {
   "display_name": "docsearch",
   "language": "python",
   "name": "python3"
  },
  "language_info": {
   "codemirror_mode": {
    "name": "ipython",
    "version": 3
   },
   "file_extension": ".py",
   "mimetype": "text/x-python",
   "name": "python",
   "nbconvert_exporter": "python",
   "pygments_lexer": "ipython3",
   "version": "3.10.17"
  }
 },
 "nbformat": 4,
 "nbformat_minor": 2
}
