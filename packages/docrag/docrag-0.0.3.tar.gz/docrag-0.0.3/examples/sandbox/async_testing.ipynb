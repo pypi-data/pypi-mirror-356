{
 "cells": [
  {
   "cell_type": "code",
   "execution_count": 1,
   "metadata": {},
   "outputs": [],
   "source": [
    "import os\n",
    "import time\n",
    "from IPython.display import display\n",
    "from rich.console import Console\n",
    "from rich.markdown import Markdown\n",
    "from pathlib import Path\n",
    "import pandas as pd\n",
    "import numpy as np\n",
    "import matplotlib.pyplot as plt\n",
    "import seaborn as sns\n",
    "import asyncio\n",
    "\n",
    "\n",
    "console = Console()"
   ]
  },
  {
   "cell_type": "code",
   "execution_count": 2,
   "metadata": {},
   "outputs": [
    {
     "name": "stdout",
     "output_type": "stream",
     "text": [
      "ROOT_DIR: .\n",
      "DATA_DIR: data\n",
      "SAMPLES_DIR: data\\samples\n",
      "sample_filepath: data\\samples\\sample_1.png\n",
      "sample_filepath: data\\samples\\sample_2.png\n",
      "sample_filepath: data\\samples\\sample_3.png\n",
      "sample_filepath: data\\samples\\sample_4.png\n",
      "sample_filepath: data\\samples\\sample_5.png\n"
     ]
    }
   ],
   "source": [
    "ROOT_DIR = Path(\".\")\n",
    "DATA_DIR = ROOT_DIR / \"data\"\n",
    "MODEL_WEIGHTS = DATA_DIR / \"doclayout_yolo_docstructbench_imgsz1024.pt\"\n",
    "SAMPLES_DIR = DATA_DIR / \"samples\"\n",
    "sample_filepaths = list(SAMPLES_DIR.glob(\"*.png\"))\n",
    "\n",
    "print(f\"ROOT_DIR: {ROOT_DIR}\")\n",
    "print(f\"DATA_DIR: {DATA_DIR}\")\n",
    "print(f\"SAMPLES_DIR: {SAMPLES_DIR}\")\n",
    "for filepath in sample_filepaths:\n",
    "    print(f\"sample_filepath: {filepath}\")\n",
    "    \n",
    "table_filepaths =[]\n",
    "\n",
    "\n",
    "table_filepaths.append(sample_filepaths[0].with_suffix(\"\") / \"sample_1\" / \"table\" / \"table_000.png\")\n",
    "table_filepaths.append(sample_filepaths[0].with_suffix(\"\") / \"sample_1\" / \"table\" / \"table_001.png\")"
   ]
  },
  {
   "cell_type": "code",
   "execution_count": 6,
   "metadata": {},
   "outputs": [
    {
     "name": "stdout",
     "output_type": "stream",
     "text": [
      "Parsing synchronously\n",
      "\n",
      "Processing sync: data\\samples\\sample_1\\sample_1\\table\\table_000.png\n",
      "Making API call (Model: gemini-2.0-flash)...\n",
      "Processing sync: data\\samples\\sample_1\\sample_1\\table\\table_001.png\n",
      "Making API call (Model: gemini-2.0-flash)...\n",
      "{'md': '| Task/Dataset | BBBP   | Tox21 | ToxCast | SIDER | ClinTox | BACE   | ESOL  | FreeSolv |\\n| :----------- | :----- | :---- | :------ | :---- | :------ | :----- | :---- | :------- |\\n| KCL(GIN)     | 0.954  | 0.854 | 0.748   | 0.660 | 0.945   | 0.932  | 0.580 | 0.856    |\\n| KCL(GAT)     | 0.956  | 0.857 | 0.750   | 0.663 | 0.942   | 0.930  | 0.588 | 0.860    |\\n| KCL(GCN)     | 0.956  | 0.856 | 0.757   | 0.666 | 0.945   | 0.934  | 0.582 | 0.854    |\\n| KCL(R-GCN)   | 0.936  | 0.830 | 0.735   | 0.637 | 0.948   | 0.898  | 0.780 | 1.236    |\\n| KCL(MPNN)    | 0.940  | 0.835 | 0.738   | 0.640 | 0.950   | 0.895  | 0.743 | 1.111    |\\n| KCL(KMPNN)   | 0.961  | 0.859 | 0.740   | 0.671 | 0.958   | 0.924  | 0.732 | 0.795    |', 'summary': 'This markdown table presents the performance of different KCL models (GIN, GAT, GCN, R-GCN, MPNN, KMPNN) on various datasets (BBBP, Tox21, ToxCast, SIDER, ClinTox, BACE, ESOL, FreeSolv). The table shows the classification and regression results for each model on each dataset.'}\n",
      "{'md': '|   | Fine-tune Protocol |   |   | Linear Protocol |   |   |\\n| --- | --- | --- | --- | --- | --- | --- |\\n|   | KCL | KMPNN | Abs.Imp. | KCL | KMPNN | Abs.Imp. |\\n| BBBP | 0.961 | 0.915 | +0.046 | 0.927 | 0.915 | +0.012 |\\n| Tox21 | 0.859 | 0.804 | +0.055 | 0.825 | 0.804 | +0.021 |\\n| ToxCast | 0.740 | 0.725 | +0.015 | 0.709 | 0.725 | -0.016 |\\n| SIDER | 0.671 | 0.645 | +0.026 | 0.659 | 0.645 | +0.014 |\\n| ClinTox | 0.958 | 0.892 | +0.066 | 0.898 | 0.892 | +0.006 |\\n| BACE | 0.924 | 0.856 | +0.068 | 0.860 | 0.856 | +0.004 |\\n| ESOL | 0.736 | 0.895 | +0.159 | 0.736 | 0.895 | +0.159 |\\n| FreeSolv | 0.795 | 2.167 | +1.372 | 0.795 | 2.167 | +1.372 |\\n| Ave(Cls) | 0.852 | 0.806 | +0.046 | 0.813 | 0.806 | +0.007 |\\n| Ave(Reg) | 0.765 | 1.531 | +0.766 | 0.766 | 1.531 | + 0.765 |\\n', 'summary': 'This table compares the performance of two protocols, Fine-tune and Linear, across various datasets (BBBP, Tox21, ToxCast, SIDER, ClinTox, BACE, ESOL, FreeSolv) using KCL and KMPNN metrics, along with the absolute improvement (Abs.Imp.).'}\n",
      "Time taken: 9.968592643737793 seconds\n",
      "\n",
      "\n",
      "\n",
      "Parsing asynchronously\n",
      "\n"
     ]
    },
    {
     "ename": "RuntimeError",
     "evalue": "asyncio.run() cannot be called from a running event loop",
     "output_type": "error",
     "traceback": [
      "\u001b[1;31m---------------------------------------------------------------------------\u001b[0m",
      "\u001b[1;31mRuntimeError\u001b[0m                              Traceback (most recent call last)",
      "Cell \u001b[1;32mIn[6], line 22\u001b[0m\n\u001b[0;32m     20\u001b[0m \u001b[38;5;28mprint\u001b[39m(\u001b[38;5;124mf\u001b[39m\u001b[38;5;124m\"\u001b[39m\u001b[38;5;124mParsing asynchronously\u001b[39m\u001b[38;5;130;01m\\n\u001b[39;00m\u001b[38;5;124m\"\u001b[39m)\n\u001b[0;32m     21\u001b[0m start_time \u001b[38;5;241m=\u001b[39m time\u001b[38;5;241m.\u001b[39mtime()\n\u001b[1;32m---> 22\u001b[0m results \u001b[38;5;241m=\u001b[39m \u001b[43masyncio\u001b[49m\u001b[38;5;241;43m.\u001b[39;49m\u001b[43mrun\u001b[49m\u001b[43m(\u001b[49m\u001b[43mparse_images\u001b[49m\u001b[43m(\u001b[49m\u001b[43mtable_filepaths\u001b[49m\u001b[43m,\u001b[49m\u001b[43m \u001b[49m\n\u001b[0;32m     23\u001b[0m \u001b[43m                       \u001b[49m\u001b[43mprompt\u001b[49m\u001b[38;5;241;43m=\u001b[39;49m\u001b[43mTABLE_EXTRACT_PROMPT\u001b[49m\u001b[43m,\u001b[49m\u001b[43m \u001b[49m\n\u001b[0;32m     24\u001b[0m \u001b[43m                       \u001b[49m\u001b[43mresponse_schema\u001b[49m\u001b[38;5;241;43m=\u001b[39;49m\u001b[43mTableImage\u001b[49m\u001b[43m,\u001b[49m\u001b[43m \u001b[49m\n\u001b[0;32m     25\u001b[0m \u001b[43m                       \u001b[49m\u001b[43mmodel\u001b[49m\u001b[38;5;241;43m=\u001b[39;49m\u001b[43mMODELS\u001b[49m\u001b[43m[\u001b[49m\u001b[38;5;241;43m2\u001b[39;49m\u001b[43m]\u001b[49m\u001b[43m)\u001b[49m\u001b[43m)\u001b[49m\n\u001b[0;32m     27\u001b[0m \u001b[38;5;28;01mfor\u001b[39;00m result \u001b[38;5;129;01min\u001b[39;00m results:\n\u001b[0;32m     28\u001b[0m     \u001b[38;5;28mprint\u001b[39m(result)\n",
      "File \u001b[1;32mc:\\Users\\lllang\\miniconda3\\envs\\docsearch\\lib\\asyncio\\runners.py:33\u001b[0m, in \u001b[0;36mrun\u001b[1;34m(main, debug)\u001b[0m\n\u001b[0;32m      9\u001b[0m \u001b[38;5;250m\u001b[39m\u001b[38;5;124;03m\"\"\"Execute the coroutine and return the result.\u001b[39;00m\n\u001b[0;32m     10\u001b[0m \n\u001b[0;32m     11\u001b[0m \u001b[38;5;124;03mThis function runs the passed coroutine, taking care of\u001b[39;00m\n\u001b[1;32m   (...)\u001b[0m\n\u001b[0;32m     30\u001b[0m \u001b[38;5;124;03m    asyncio.run(main())\u001b[39;00m\n\u001b[0;32m     31\u001b[0m \u001b[38;5;124;03m\"\"\"\u001b[39;00m\n\u001b[0;32m     32\u001b[0m \u001b[38;5;28;01mif\u001b[39;00m events\u001b[38;5;241m.\u001b[39m_get_running_loop() \u001b[38;5;129;01mis\u001b[39;00m \u001b[38;5;129;01mnot\u001b[39;00m \u001b[38;5;28;01mNone\u001b[39;00m:\n\u001b[1;32m---> 33\u001b[0m     \u001b[38;5;28;01mraise\u001b[39;00m \u001b[38;5;167;01mRuntimeError\u001b[39;00m(\n\u001b[0;32m     34\u001b[0m         \u001b[38;5;124m\"\u001b[39m\u001b[38;5;124masyncio.run() cannot be called from a running event loop\u001b[39m\u001b[38;5;124m\"\u001b[39m)\n\u001b[0;32m     36\u001b[0m \u001b[38;5;28;01mif\u001b[39;00m \u001b[38;5;129;01mnot\u001b[39;00m coroutines\u001b[38;5;241m.\u001b[39miscoroutine(main):\n\u001b[0;32m     37\u001b[0m     \u001b[38;5;28;01mraise\u001b[39;00m \u001b[38;5;167;01mValueError\u001b[39;00m(\u001b[38;5;124m\"\u001b[39m\u001b[38;5;124ma coroutine was expected, got \u001b[39m\u001b[38;5;132;01m{!r}\u001b[39;00m\u001b[38;5;124m\"\u001b[39m\u001b[38;5;241m.\u001b[39mformat(main))\n",
      "\u001b[1;31mRuntimeError\u001b[0m: asyncio.run() cannot be called from a running event loop"
     ]
    }
   ],
   "source": [
    "from docsearch.llm_processing import (\n",
    "    parse_image, \n",
    "    parse_images,\n",
    "    parse_images_sync,\n",
    "    TableImage, TABLE_EXTRACT_PROMPT, MODELS\n",
    "    )\n",
    "\n",
    "print(f\"Parsing synchronously\\n\")\n",
    "start_time = time.time()\n",
    "results = parse_images_sync(table_filepaths, \n",
    "                            prompt=TABLE_EXTRACT_PROMPT, \n",
    "                            response_schema=TableImage, \n",
    "                            model=MODELS[2])\n",
    "\n",
    "for result in results:\n",
    "    print(result)\n",
    "print(f\"Time taken: {time.time() - start_time} seconds\")\n",
    "\n",
    "print(\"\\n\\n\")\n",
    "print(f\"Parsing asynchronously\\n\")\n",
    "start_time = time.time()\n",
    "results = await parse_images(table_filepaths, \n",
    "                       prompt=TABLE_EXTRACT_PROMPT, \n",
    "                       response_schema=TableImage, \n",
    "                       model=MODELS[2])\n",
    "\n",
    "for result in results:\n",
    "    print(result)\n",
    "print(f\"Time taken: {time.time() - start_time} seconds\")\n"
   ]
  },
  {
   "cell_type": "code",
   "execution_count": null,
   "metadata": {},
   "outputs": [
    {
     "name": "stderr",
     "output_type": "stream",
     "text": [
      "c:\\Users\\lllang\\miniconda3\\envs\\docsearch\\lib\\site-packages\\tqdm\\auto.py:21: TqdmWarning: IProgress not found. Please update jupyter and ipywidgets. See https://ipywidgets.readthedocs.io/en/stable/user_install.html\n",
      "  from .autonotebook import tqdm as notebook_tqdm\n"
     ]
    },
    {
     "name": "stdout",
     "output_type": "stream",
     "text": [
      "Running sync\n",
      "Processing sync: data\\samples\\sample_1\\sample_1\\table\\table_000.png\n",
      "Making API call (Model: gemini-2.0-flash)...\n",
      "Processing sync: data\\samples\\sample_1\\sample_1\\table\\table_001.png\n",
      "Making API call (Model: gemini-2.0-flash)...\n"
     ]
    },
    {
     "ename": "TypeError",
     "evalue": "object list can't be used in 'await' expression",
     "output_type": "error",
     "traceback": [
      "\u001b[1;31m---------------------------------------------------------------------------\u001b[0m",
      "\u001b[1;31mTypeError\u001b[0m                                 Traceback (most recent call last)",
      "Cell \u001b[1;32mIn[4], line 9\u001b[0m\n\u001b[0;32m      1\u001b[0m \u001b[38;5;28;01mfrom\u001b[39;00m\u001b[38;5;250m \u001b[39m\u001b[38;5;21;01mdocsearch\u001b[39;00m\u001b[38;5;21;01m.\u001b[39;00m\u001b[38;5;21;01mllm_processing\u001b[39;00m\u001b[38;5;250m \u001b[39m\u001b[38;5;28;01mimport\u001b[39;00m parse_table, parse_image, parse_images, TableImage, TABLE_EXTRACT_PROMPT, MODELS\n\u001b[0;32m      3\u001b[0m \u001b[38;5;66;03m# tasks = [\u001b[39;00m\n\u001b[0;32m      4\u001b[0m \u001b[38;5;66;03m#     asyncio.create_task(parse_image(filepath, TABLE_EXTRACT_PROMPT, TableImage, model=MODELS[2]))\u001b[39;00m\n\u001b[0;32m      5\u001b[0m \u001b[38;5;66;03m#     for filepath in table_filepaths\u001b[39;00m\n\u001b[0;32m      6\u001b[0m \u001b[38;5;66;03m# ]\u001b[39;00m\n\u001b[0;32m      7\u001b[0m \u001b[38;5;66;03m# results = await asyncio.gather(*tasks)\u001b[39;00m\n\u001b[1;32m----> 9\u001b[0m results \u001b[38;5;241m=\u001b[39m \u001b[38;5;28;01mawait\u001b[39;00m parse_images(table_filepaths, TABLE_EXTRACT_PROMPT, TableImage, model\u001b[38;5;241m=\u001b[39mMODELS[\u001b[38;5;241m2\u001b[39m])\n",
      "\u001b[1;31mTypeError\u001b[0m: object list can't be used in 'await' expression"
     ]
    }
   ],
   "source": [
    "# from docsearch.llm_processing import parse_table, parse_image, parse_images, TableImage, TABLE_EXTRACT_PROMPT, MODELS\n",
    "    \n",
    "# # tasks = [\n",
    "# #     asyncio.create_task(parse_image(filepath, TABLE_EXTRACT_PROMPT, TableImage, model=MODELS[2]))\n",
    "# #     for filepath in table_filepaths\n",
    "# # ]\n",
    "# # results = await asyncio.gather(*tasks)\n",
    "\n",
    "# results = await parse_images(table_filepaths, TABLE_EXTRACT_PROMPT, TableImage, model=MODELS[2])\n"
   ]
  },
  {
   "cell_type": "code",
   "execution_count": 4,
   "metadata": {},
   "outputs": [
    {
     "name": "stdout",
     "output_type": "stream",
     "text": [
      "Processing async: data\\samples\\sample_1\\sample_1\\table\\table_000.png\n",
      "Making API call (Model: gemini-2.5-flash-preview-05-20)...\n",
      "Processing async: data\\samples\\sample_1\\sample_1\\table\\table_001.png\n",
      "Making API call (Model: gemini-2.5-flash-preview-05-20)...\n",
      "[<Task finished name='Task-8' coro=<parse_table_async() done, defined at C:\\Users\\lllang\\Desktop\\Current_Projects\\DocSearch\\docsearch\\llm_processing.py:257> result={'md': '| Dataset | ...| **0.795** |', 'summary': 'The table di...ific dataset.'}>, <Task finished name='Task-9' coro=<parse_table_async() done, defined at C:\\Users\\lllang\\Desktop\\Current_Projects\\DocSearch\\docsearch\\llm_processing.py:257> result={'md': '| | Fine-tun...31 | +0.765 |', 'summary': 'The table pr...and protocol.'}>]\n"
     ]
    }
   ],
   "source": [
    "# from docsearch.llm_processing import parse_table_async\n",
    "\n",
    "# tasks = [\n",
    "#     asyncio.create_task(parse_table_async(filepath))\n",
    "#     for filepath in table_filepaths\n",
    "# ]\n",
    "# results = await asyncio.gather(*tasks)\n",
    "# print(tasks)"
   ]
  }
 ],
 "metadata": {
  "kernelspec": {
   "display_name": "docsearch",
   "language": "python",
   "name": "python3"
  },
  "language_info": {
   "codemirror_mode": {
    "name": "ipython",
    "version": 3
   },
   "file_extension": ".py",
   "mimetype": "text/x-python",
   "name": "python",
   "nbconvert_exporter": "python",
   "pygments_lexer": "ipython3",
   "version": "3.10.17"
  }
 },
 "nbformat": 4,
 "nbformat_minor": 2
}
