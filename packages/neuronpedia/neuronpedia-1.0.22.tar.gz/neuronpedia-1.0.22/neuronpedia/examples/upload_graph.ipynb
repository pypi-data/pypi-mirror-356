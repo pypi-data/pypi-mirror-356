{
 "cells": [
  {
   "cell_type": "markdown",
   "metadata": {},
   "source": [
    "### Upload a graph generated compatible with the Anthropic attribution graph format to Neuronpedia.\n",
    "\n",
    "The uploaded graph can then be used, shared, and tested on Neuronpedia. The entire thing is one step.\n",
    "\n",
    "Check the [Graph and Feature Validator](https://neuronpedia.org/graph/validator) for complete instructions and correct data format.\n"
   ]
  },
  {
   "cell_type": "code",
   "execution_count": null,
   "metadata": {},
   "outputs": [],
   "source": [
    "# Install library, import, and set neuronpedia key.\n",
    "\n",
    "%pip install neuronpedia\n",
    "\n",
    "from dotenv import load_dotenv\n",
    "import webbrowser\n",
    "\n",
    "# Load NEURONPEDIA_API_KEY from .env file\n",
    "load_dotenv()\n",
    "\n",
    "### [recommended] Use context-based API key management\n",
    "# import neuronpedia\n",
    "\n",
    "# Option 1: Context manager (recommended for temporary scope)\n",
    "# with neuronpedia.api_key(\"your-api-key-here\"):\n",
    "#     # Your code here\n",
    "\n",
    "# Option 2: Global context setting (good for notebook-wide usage)\n",
    "# neuronpedia.set_api_key(\"your-api-key-here\")\n",
    "\n",
    "### [less safe] Set Neuronpedia API key manually (get your key from neuronpedia.org/account)\n",
    "# import os\n",
    "# os.environ[\"NEURONPEDIA_API_KEY\"] = \"YOUR_KEY_HERE\"\n",
    "\n",
    "from neuronpedia.np_graph_metadata import NPGraphMetadata"
   ]
  },
  {
   "cell_type": "markdown",
   "metadata": {},
   "source": [
    "One step to upload and browse.\n"
   ]
  },
  {
   "cell_type": "code",
   "execution_count": null,
   "metadata": {},
   "outputs": [],
   "source": [
    "# Specify a JSON string or file. The upload slug will be whatever you specified in the metadata.slug field. Slug names are *globally unique across all users*.\n",
    "PATH_TO_GRAPH = \"/LOCAL_PATH_TO_GRAPH/abc.json\"\n",
    "\n",
    "with open(PATH_TO_GRAPH, \"r\") as f:\n",
    "    json_str = f.read()\n",
    "    graph_metadata = NPGraphMetadata.upload(json_str)\n",
    "\n",
    "# Open the graph in the browser.\n",
    "webbrowser.open(graph_metadata.url or \"\")\n",
    "\n",
    "# The above demos with a JSON string. The following code does the same with the file directly.\n",
    "#\n",
    "# graph_metadata = NPGraphMetadata.upload_file(PATH_TO_GRAPH)"
   ]
  },
  {
   "cell_type": "code",
   "execution_count": null,
   "metadata": {},
   "outputs": [],
   "source": [
    "# You can also embed the graph using the url_embed field.\n",
    "from IPython.display import IFrame\n",
    "\n",
    "print(graph_metadata.url_embed)\n",
    "\n",
    "IFrame(graph_metadata.url_embed, 1200, 800)"
   ]
  },
  {
   "cell_type": "code",
   "execution_count": null,
   "metadata": {},
   "outputs": [],
   "source": [
    "# Some other useful methods below.\n",
    "\n",
    "# === List Graphs that you Uploaded ===\n",
    "# graph_metadatas = NPGraphMetadata.list_owned()\n",
    "# print(graph_metadatas)\n",
    "\n",
    "# === Get Graph Metadata ===\n",
    "# graph_metadata = NPGraphMetadata.get(\"gemma-2-2b\", \"MY_SLUG\")\n",
    "\n",
    "# === Delete Graph ===\n",
    "# NPGraphMetadata.delete(NPGraphMetadata.get(\"gemma-2-2b\", \"MY_SLUG\"))"
   ]
  }
 ],
 "metadata": {
  "kernelspec": {
   "display_name": "Python 3",
   "language": "python",
   "name": "python3"
  },
  "language_info": {
   "codemirror_mode": {
    "name": "ipython",
    "version": 3
   },
   "file_extension": ".py",
   "mimetype": "text/x-python",
   "name": "python",
   "nbconvert_exporter": "python",
   "pygments_lexer": "ipython3",
   "version": "3.10.0"
  }
 },
 "nbformat": 4,
 "nbformat_minor": 2
}
