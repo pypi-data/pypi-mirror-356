{
 "cells": [
  {
   "cell_type": "code",
   "execution_count": null,
   "metadata": {},
   "outputs": [],
   "source": [
    "%pip install neuronpedia\n",
    "\n",
    "from dotenv import load_dotenv\n",
    "\n",
    "# Load NEURONPEDIA_API_KEY from .env file\n",
    "load_dotenv()\n",
    "\n",
    "### [recommended] Use context-based API key management\n",
    "# import neuronpedia\n",
    "\n",
    "# Option 1: Context manager (recommended for temporary scope)\n",
    "# with neuronpedia.api_key(\"your-api-key-here\"):\n",
    "#     # Your code here\n",
    "\n",
    "# Option 2: Global context setting (good for notebook-wide usage)\n",
    "# neuronpedia.set_api_key(\"your-api-key-here\")\n",
    "\n",
    "### [less safe] Set Neuronpedia API key manually (get your key from neuronpedia.org/account)\n",
    "# import os\n",
    "# os.environ[\"NEURONPEDIA_API_KEY\"] = \"YOUR_KEY_HERE\""
   ]
  },
  {
   "cell_type": "markdown",
   "metadata": {},
   "source": [
    "### Create a model on Neuronpedia\n"
   ]
  },
  {
   "cell_type": "code",
   "execution_count": null,
   "metadata": {},
   "outputs": [],
   "source": [
    "# Check if the model exists by going to neuronpedia.org and looking at the list of models.\n",
    "# You can also go to https://neuronpedia.org/[model_id] to see if it exists, in case it is an unlisted model.\n",
    "#\n",
    "# If the model doesn't exist, create it:\n",
    "\n",
    "from neuronpedia.np_model import Model\n",
    "\n",
    "# IMPORTANT: Change the id, number of layers, and display name (optional).\n",
    "MODEL_ID = \"pup-xl\"  # change this to the ID of your model\n",
    "NUMBER_OF_LAYERS = 3  # change this to the number of layers in your model\n",
    "MODEL_DISPLAY_NAME = (\n",
    "    \"Puppy Model XL\"  # optional for display purposes, will default to the model ID\n",
    ")\n",
    "\n",
    "\n",
    "model = Model.new(\n",
    "    id=MODEL_ID,\n",
    "    layers=NUMBER_OF_LAYERS,\n",
    "    display_name=MODEL_DISPLAY_NAME,\n",
    "    # url=\"https://creator-of-my-test-model.com/my-test-model\", # optional, for display purposes\n",
    ")\n",
    "\n",
    "print(\"Created model:\")\n",
    "print(model)\n"
   ]
  }
 ],
 "metadata": {
  "kernelspec": {
   "display_name": ".venv",
   "language": "python",
   "name": "python3"
  },
  "language_info": {
   "codemirror_mode": {
    "name": "ipython",
    "version": 3
   },
   "file_extension": ".py",
   "mimetype": "text/x-python",
   "name": "python",
   "nbconvert_exporter": "python",
   "pygments_lexer": "ipython3",
   "version": "3.11.8"
  }
 },
 "nbformat": 4,
 "nbformat_minor": 2
}
