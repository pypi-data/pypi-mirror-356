{
 "cells": [
  {
   "cell_type": "markdown",
   "metadata": {},
   "source": [
    "### Generate an attribution graph in one call, via the `open-source-circuit-finding` library\n",
    "\n",
    "The graph can be viewed immediately on Neuronpedia. The entire thing is one step.\n"
   ]
  },
  {
   "cell_type": "code",
   "execution_count": null,
   "metadata": {},
   "outputs": [],
   "source": [
    "# Install library, import, and set neuronpedia key.\n",
    "\n",
    "%pip install neuronpedia\n",
    "\n",
    "from dotenv import load_dotenv\n",
    "import webbrowser\n",
    "from neuronpedia.np_graph_metadata import NPGraphMetadata\n",
    "import time\n",
    "\n",
    "# Load NEURONPEDIA_API_KEY from .env file\n",
    "load_dotenv()\n",
    "\n",
    "### [less safe] Set Neuronpedia API key manually (get your key from neuronpedia.org/account)\n",
    "# import os\n",
    "# os.environ[\"NEURONPEDIA_API_KEY\"] = \"YOUR_KEY_HERE\"\n"
   ]
  },
  {
   "cell_type": "markdown",
   "metadata": {},
   "source": [
    "One step to generate and browse.\n"
   ]
  },
  {
   "cell_type": "code",
   "execution_count": null,
   "metadata": {},
   "outputs": [],
   "source": [
    "# change this if you'd like to have your own name for the graph. this is globally unique across all users.\n",
    "UNIQUE_GRAPH_ID = f\"fly-me-to-the-{int(time.time() * 1000)}\"\n",
    "\n",
    "graph_metadata = NPGraphMetadata.generate(\n",
    "    model_id=\"gemma-2-2b\", prompt=\"fly me to the\", graph_id=UNIQUE_GRAPH_ID\n",
    ")\n",
    "\n",
    "# Optional: you can specify generation and pruning parameters to .generate(): max_n_logits, desired_logit_prob, node_threshold, edge_threshold\n",
    "\n",
    "# Open the graph in the browser.\n",
    "webbrowser.open(graph_metadata.url or \"\")"
   ]
  },
  {
   "cell_type": "code",
   "execution_count": null,
   "metadata": {},
   "outputs": [],
   "source": [
    "# You can also embed the graph using the url_embed field.\n",
    "from IPython.display import IFrame\n",
    "\n",
    "print(graph_metadata.url_embed)\n",
    "\n",
    "IFrame(graph_metadata.url_embed, 1200, 800)"
   ]
  },
  {
   "cell_type": "code",
   "execution_count": 8,
   "metadata": {},
   "outputs": [],
   "source": [
    "# Some other useful methods below.\n",
    "\n",
    "# === List Graphs that you Uploaded ===\n",
    "# graph_metadatas = NPGraphMetadata.list_owned()\n",
    "# print(graph_metadatas)\n",
    "\n",
    "# === Get Graph Metadata ===\n",
    "# graph_metadata = NPGraphMetadata.get(\"gemma-2-2b\", \"MY_SLUG\")\n",
    "\n",
    "# === Delete Graph ===\n",
    "# NPGraphMetadata.delete(NPGraphMetadata.get(\"gemma-2-2b\", \"MY_SLUG\"))"
   ]
  }
 ],
 "metadata": {
  "kernelspec": {
   "display_name": ".venv",
   "language": "python",
   "name": "python3"
  },
  "language_info": {
   "codemirror_mode": {
    "name": "ipython",
    "version": 3
   },
   "file_extension": ".py",
   "mimetype": "text/x-python",
   "name": "python",
   "nbconvert_exporter": "python",
   "pygments_lexer": "ipython3",
   "version": "3.11.8"
  }
 },
 "nbformat": 4,
 "nbformat_minor": 2
}
