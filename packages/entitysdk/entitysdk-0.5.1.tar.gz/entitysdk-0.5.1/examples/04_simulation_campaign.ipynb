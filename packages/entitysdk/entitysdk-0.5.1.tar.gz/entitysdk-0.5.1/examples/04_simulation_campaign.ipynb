{
 "cells": [
  {
   "cell_type": "code",
   "execution_count": null,
   "id": "9bc20f94-86d5-494d-b2c7-079ea731c162",
   "metadata": {},
   "outputs": [],
   "source": [
    "import os\n",
    "\n",
    "from rich import print as rprint\n",
    "\n",
    "from entitysdk import Client, ProjectContext, models\n",
    "\n",
    "entitycore_api_url = \"http://127.0.0.1:8000\"\n",
    "project_context = ProjectContext(\n",
    "    virtual_lab_id=\"a98b7abc-fc46-4700-9e3d-37137812c730\",\n",
    "    project_id=\"0dbced5f-cc3d-488a-8c7f-cfb8ea039dc6\",\n",
    ")\n",
    "token = os.getenv(\"ACCESS_TOKEN\", \"XXX\")\n",
    "client = Client(api_url=entitycore_api_url, project_context=project_context, token_manager=token)"
   ]
  },
  {
   "cell_type": "markdown",
   "id": "490dd2a8-e9a1-442e-abe2-cfda8b3c0c8f",
   "metadata": {},
   "source": [
    "## Register a Circuit"
   ]
  },
  {
   "cell_type": "code",
   "execution_count": null,
   "id": "6688fcf5-bd74-4c3f-ac13-cddf5374cf3f",
   "metadata": {},
   "outputs": [],
   "source": [
    "species = client.search_entity(\n",
    "    entity_type=models.Species, query={\"name__ilike\": \"Mus musculus\"}\n",
    ").first()\n",
    "\n",
    "subject = models.Subject(\n",
    "    name=\"my-subject\", description=\"my-subject-description\", sex=\"male\", species=species\n",
    ")\n",
    "subject = client.register_entity(subject)\n",
    "\n",
    "brain_region = client.search_entity(entity_type=models.BrainRegion, query={\"acronym\": \"CB\"}).first()\n",
    "\n",
    "\n",
    "circuit = models.Circuit(\n",
    "    name=\"my-circuit\",\n",
    "    description=\"my-circuit\",\n",
    "    subject=subject,\n",
    "    brain_region=brain_region,\n",
    "    number_synapses=2,\n",
    "    number_neurons=5,\n",
    "    number_connections=10,\n",
    "    scale=\"microcircuit\",\n",
    "    build_category=\"em_reconstruction\",\n",
    ")\n",
    "\n",
    "circuit = client.register_entity(circuit)"
   ]
  },
  {
   "cell_type": "markdown",
   "id": "47679bbe-5550-4332-b5a6-0b0a916a0acc",
   "metadata": {},
   "source": [
    "## Register a SimulationCampaign"
   ]
  },
  {
   "cell_type": "code",
   "execution_count": null,
   "id": "520976c2-4575-4455-9d64-ed666f661550",
   "metadata": {},
   "outputs": [],
   "source": [
    "campaign = models.SimulationCampaign(\n",
    "    name=\"my-campaign\",\n",
    "    description=\"my-campaign-description\",\n",
    "    scan_parameters={\"foo\": \"bar\"},\n",
    "    entity_id=circuit.id,\n",
    ")\n",
    "campaign = client.register_entity(campaign)"
   ]
  },
  {
   "cell_type": "markdown",
   "id": "d5c5fd58-3c00-4452-90ac-54ca0269e165",
   "metadata": {},
   "source": [
    "## Register Simulations"
   ]
  },
  {
   "cell_type": "code",
   "execution_count": null,
   "id": "75430feb-1bf2-4152-8204-75619fe8d51e",
   "metadata": {},
   "outputs": [],
   "source": [
    "for i in range(5):\n",
    "    simulation = models.Simulation(\n",
    "        name=f\"sim-{i}\",\n",
    "        description=f\"sim-{i}\",\n",
    "        scan_parameters={\"foo\": \"bar\"},\n",
    "        entity_id=circuit.id,\n",
    "        simulation_campaign_id=campaign.id,\n",
    "    )\n",
    "    client.register_entity(simulation)"
   ]
  },
  {
   "cell_type": "markdown",
   "id": "027b5f7a-5191-4785-9e45-616a8c1a93da",
   "metadata": {},
   "source": [
    "## Fetch SimulationCampaign"
   ]
  },
  {
   "cell_type": "code",
   "execution_count": null,
   "id": "5622a11d-205d-458c-b3a9-6002cc6f9ae0",
   "metadata": {},
   "outputs": [],
   "source": [
    "campaign = client.get_entity(entity_id=campaign.id, entity_type=models.SimulationCampaign)"
   ]
  },
  {
   "cell_type": "code",
   "execution_count": null,
   "id": "c82ddddb-96c0-4c7c-a156-eca203735837",
   "metadata": {},
   "outputs": [],
   "source": [
    "rprint(campaign.simulations)"
   ]
  },
  {
   "cell_type": "code",
   "execution_count": null,
   "id": "b3260f79-5852-4e61-923f-4325e030fc71",
   "metadata": {},
   "outputs": [],
   "source": []
  }
 ],
 "metadata": {
  "kernelspec": {
   "display_name": "Python 3 (ipykernel)",
   "language": "python",
   "name": "python3"
  },
  "language_info": {
   "codemirror_mode": {
    "name": "ipython",
    "version": 3
   },
   "file_extension": ".py",
   "mimetype": "text/x-python",
   "name": "python",
   "nbconvert_exporter": "python",
   "pygments_lexer": "ipython3",
   "version": "3.12.10"
  }
 },
 "nbformat": 4,
 "nbformat_minor": 5
}
