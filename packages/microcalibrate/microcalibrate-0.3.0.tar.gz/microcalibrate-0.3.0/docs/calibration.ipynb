{
 "cells": [
  {
   "cell_type": "markdown",
   "id": "b375e2dd",
   "metadata": {},
   "source": [
    "## Calibration\n",
    "\n",
    "The `Calibration` class provides a way to adjust weights of observations in a dataset to match specified target values. This is commonly used in survey research and policy modeling for rebalancing datasets to better represent desired population characteristics. \n",
    "\n",
    "The calibration process uses an optimization algorithm to find weights that minimize the distance from the original weights while achieving the target constraints.\n",
    "\n",
    "## Basic usage\n",
    "\n",
    "### Parameters\n",
    "\n",
    "`__init__(data, weights, targets)`\n",
    "\n",
    "- `data` (pd.DataFrame): The dataset to be calibrated. This should contain all the variables you want to use for calibration.\n",
    "- `weights` (np.ndarray): Initial weights for each observation in the dataset. Typically starts as an array of ones for equal weighting.\n",
    "- `targets` (np.ndarray): Target values that the calibration process should achieve. These correspond to the desired weighted sums.\n",
    "\n",
    "Calibration can be easily done by initializing the `Calibration` class, passing in the parameters above. Then `calibrate()` method performs the actual calibration using the reweight function. This method:\n",
    "- Adjusts the weights to better match the target values\n",
    "- May subsample the data for efficiency\n",
    "- Updates both `self.weights` and `self.data` with the calibrated results\n",
    "\n",
    "## Example\n",
    "\n",
    "Below is a complete example showing how to calibrate a dataset to match income targets for specific age groups:"
   ]
  },
  {
   "cell_type": "code",
   "execution_count": 9,
   "id": "vxj460xngvg",
   "metadata": {},
   "outputs": [
    {
     "name": "stdout",
     "output_type": "stream",
     "text": [
      "Original weights: [1. 1. 1. 1. 1. 1. 1. 1. 1. 1. 1. 1. 1. 1. 1. 1. 1. 1. 1. 1. 1. 1. 1. 1.\n",
      " 1. 1. 1. 1. 1. 1. 1. 1. 1. 1. 1. 1. 1. 1. 1. 1. 1. 1. 1. 1. 1. 1. 1. 1.\n",
      " 1. 1. 1. 1. 1. 1. 1. 1. 1. 1. 1. 1. 1. 1. 1. 1. 1. 1. 1. 1. 1. 1. 1. 1.\n",
      " 1. 1. 1. 1. 1. 1. 1. 1. 1. 1. 1. 1. 1. 1. 1. 1. 1. 1. 1. 1. 1. 1. 1. 1.\n",
      " 1. 1. 1. 1. 1. 1. 1. 1. 1. 1. 1. 1. 1. 1. 1. 1. 1. 1. 1. 1. 1. 1. 1. 1.\n",
      " 1.]\n",
      "Original targets: [7.37032429e+08 9.76779350e+05 4.36479914e+04]\n"
     ]
    }
   ],
   "source": [
    "from microcalibrate.calibration import Calibration\n",
    "import logging\n",
    "import numpy as np\n",
    "import pandas as pd\n",
    "import plotly.graph_objs as go\n",
    "from plotly.subplots import make_subplots\n",
    "\n",
    "logging.basicConfig(\n",
    "    level=logging.INFO,\n",
    ")\n",
    "\n",
    "# Create a sample dataset with age and income data\n",
    "random_generator = np.random.default_rng(0)\n",
    "data = pd.DataFrame({\n",
    "    \"age\": np.append(random_generator.integers(18, 70, size=120), 71), \n",
    "    \"income\": random_generator.normal(40000, 10000, size=121),\n",
    "})\n",
    "\n",
    "# Set initial weights (all one in this example)\n",
    "weights = np.ones(len(data))\n",
    "\n",
    "# Calculate target values: total income for age groups 20-30 and 40-50 (as an example) or employ existing targets\n",
    "targets_matrix = pd.DataFrame({\n",
    "    \"income_aged_20_30\": ((data[\"age\"] >= 20) & (data[\"age\"] <= 30)).astype(float) * data[\"income\"],\n",
    "    \"income_aged_40_50\": ((data[\"age\"] >= 40) & (data[\"age\"] <= 50)).astype(float) * data[\"income\"],\n",
    "    \"income_aged_71\" : (data[\"age\"] == 71).astype(float) * data[\"income\"],\n",
    "})\n",
    "\n",
    "# 15% higher than the sum of data with the original weights\n",
    "targets = np.array([\n",
    "    (targets_matrix[\"income_aged_20_30\"] * weights * 1000).sum(), \n",
    "    (targets_matrix[\"income_aged_40_50\"] * weights * 1.15).sum(), \n",
    "    (targets_matrix[\"income_aged_71\"] * weights * 1.15).sum()\n",
    "])\n",
    "\n",
    "print(f\"Original weights: {weights}\")\n",
    "print(f\"Original targets: {targets}\")"
   ]
  },
  {
   "cell_type": "code",
   "execution_count": 10,
   "id": "xfw94bs21yl",
   "metadata": {},
   "outputs": [
    {
     "name": "stderr",
     "output_type": "stream",
     "text": [
      "INFO:microcalibrate.calibration:Performing basic target assessment...\n",
      "WARNING:microcalibrate.calibration:Target income_aged_20_30 (7.37e+08) differs from initial estimate (7.37e+05) by 3.00 orders of magnitude.\n",
      "WARNING:microcalibrate.calibration:Target income_aged_71 is supported by only 0.83% of records in the loss matrix. This may make calibration unstable or ineffective.\n",
      "INFO:microcalibrate.reweight:Starting calibration process for targets ['income_aged_20_30' 'income_aged_40_50' 'income_aged_71']: [7.37032429e+08 9.76779350e+05 4.36479914e+04]\n",
      "INFO:microcalibrate.reweight:Original weights - mean: 1.0000, std: 0.0000\n",
      "INFO:microcalibrate.reweight:Initial weights after noise - mean: 1.0253, std: 0.0139\n",
      "Reweighting progress:   0%|          | 0/528 [00:00<?, ?epoch/s, loss=0.341, count_observations=121, weights_mean=1.03, weights_std=0.0139, weights_min=1]INFO:microcalibrate.reweight:Within 10% from targets: 0.00% \n",
      "\n",
      "Reweighting progress:   0%|          | 1/528 [00:00<01:16,  6.88epoch/s, loss=0.333, count_observations=121, weights_mean=1.06, weights_std=0.0507, weights_min=1]INFO:microcalibrate.reweight:Within 10% from targets: 66.67% \n",
      "\n",
      "INFO:microcalibrate.reweight:Epoch   10: Loss = 0.332883, Change = 0.007823 (improving)\n",
      "Reweighting progress:   0%|          | 1/528 [00:00<01:16,  6.88epoch/s, loss=0.333, count_observations=121, weights_mean=1.09, weights_std=0.0919, weights_min=1]INFO:microcalibrate.reweight:Within 10% from targets: 66.67% \n",
      "\n",
      "INFO:microcalibrate.reweight:Epoch   20: Loss = 0.333007, Change = -0.000125 (worsening)\n",
      "Reweighting progress:   0%|          | 1/528 [00:00<01:16,  6.88epoch/s, loss=0.332, count_observations=121, weights_mean=1.11, weights_std=0.131, weights_min=1] INFO:microcalibrate.reweight:Within 10% from targets: 66.67% \n",
      "\n",
      "INFO:microcalibrate.reweight:Epoch   30: Loss = 0.332468, Change = 0.000539 (improving)\n",
      "Reweighting progress:   6%|▌         | 31/528 [00:00<00:03, 150.58epoch/s, loss=0.332, count_observations=121, weights_mean=1.13, weights_std=0.184, weights_min=1]INFO:microcalibrate.reweight:Within 10% from targets: 66.67% \n",
      "\n",
      "INFO:microcalibrate.reweight:Epoch   40: Loss = 0.332367, Change = 0.000100 (improving)\n",
      "Reweighting progress:   6%|▌         | 31/528 [00:00<00:03, 150.58epoch/s, loss=0.332, count_observations=121, weights_mean=1.15, weights_std=0.249, weights_min=1]INFO:microcalibrate.reweight:Within 10% from targets: 66.67% \n",
      "\n",
      "INFO:microcalibrate.reweight:Epoch   50: Loss = 0.332182, Change = 0.000186 (improving)\n",
      "Reweighting progress:   6%|▌         | 31/528 [00:00<00:03, 150.58epoch/s, loss=0.332, count_observations=121, weights_mean=1.19, weights_std=0.326, weights_min=1]INFO:microcalibrate.reweight:Within 10% from targets: 66.67% \n",
      "\n",
      "INFO:microcalibrate.reweight:Epoch   60: Loss = 0.332042, Change = 0.000140 (improving)\n",
      "Reweighting progress:  12%|█▏        | 61/528 [00:00<00:02, 210.70epoch/s, loss=0.332, count_observations=121, weights_mean=1.23, weights_std=0.417, weights_min=1]INFO:microcalibrate.reweight:Within 10% from targets: 66.67% \n",
      "\n",
      "INFO:microcalibrate.reweight:Epoch   70: Loss = 0.331858, Change = 0.000183 (improving)\n",
      "Reweighting progress:  12%|█▏        | 61/528 [00:00<00:02, 210.70epoch/s, loss=0.332, count_observations=121, weights_mean=1.27, weights_std=0.527, weights_min=1]INFO:microcalibrate.reweight:Within 10% from targets: 66.67% \n",
      "\n",
      "INFO:microcalibrate.reweight:Epoch   80: Loss = 0.331654, Change = 0.000204 (improving)\n",
      "Reweighting progress:  16%|█▌        | 85/528 [00:00<00:02, 204.25epoch/s, loss=0.331, count_observations=121, weights_mean=1.33, weights_std=0.658, weights_min=1]INFO:microcalibrate.reweight:Within 10% from targets: 66.67% \n",
      "\n",
      "INFO:microcalibrate.reweight:Epoch   90: Loss = 0.331408, Change = 0.000247 (improving)\n",
      "Reweighting progress:  16%|█▌        | 85/528 [00:00<00:02, 204.25epoch/s, loss=0.331, count_observations=121, weights_mean=1.39, weights_std=0.817, weights_min=1]INFO:microcalibrate.reweight:Within 10% from targets: 66.67% \n",
      "\n",
      "INFO:microcalibrate.reweight:Epoch  100: Loss = 0.331111, Change = 0.000297 (improving)\n",
      "Reweighting progress:  16%|█▌        | 85/528 [00:00<00:02, 204.25epoch/s, loss=0.331, count_observations=121, weights_mean=1.47, weights_std=1.01, weights_min=1] INFO:microcalibrate.reweight:Within 10% from targets: 66.67% \n",
      "\n",
      "INFO:microcalibrate.reweight:Epoch  110: Loss = 0.330751, Change = 0.000360 (improving)\n",
      "Reweighting progress:  22%|██▏       | 114/528 [00:00<00:01, 230.91epoch/s, loss=0.33, count_observations=121, weights_mean=1.57, weights_std=1.25, weights_min=1] INFO:microcalibrate.reweight:Within 10% from targets: 66.67% \n",
      "\n",
      "INFO:microcalibrate.reweight:Epoch  120: Loss = 0.330310, Change = 0.000441 (improving)\n",
      "Reweighting progress:  22%|██▏       | 114/528 [00:00<00:01, 230.91epoch/s, loss=0.33, count_observations=121, weights_mean=1.69, weights_std=1.54, weights_min=1]INFO:microcalibrate.reweight:Within 10% from targets: 66.67% \n",
      "\n",
      "INFO:microcalibrate.reweight:Epoch  130: Loss = 0.329767, Change = 0.000543 (improving)\n",
      "Reweighting progress:  22%|██▏       | 114/528 [00:00<00:01, 230.91epoch/s, loss=0.329, count_observations=121, weights_mean=1.84, weights_std=1.9, weights_min=1]INFO:microcalibrate.reweight:Within 10% from targets: 66.67% \n",
      "\n",
      "INFO:microcalibrate.reweight:Epoch  140: Loss = 0.329094, Change = 0.000673 (improving)\n",
      "Reweighting progress:  27%|██▋       | 145/528 [00:00<00:01, 253.89epoch/s, loss=0.328, count_observations=121, weights_mean=2.03, weights_std=2.36, weights_min=1]INFO:microcalibrate.reweight:Within 10% from targets: 66.67% \n",
      "\n",
      "INFO:microcalibrate.reweight:Epoch  150: Loss = 0.328253, Change = 0.000841 (improving)\n",
      "Reweighting progress:  27%|██▋       | 145/528 [00:00<00:01, 253.89epoch/s, loss=0.327, count_observations=121, weights_mean=2.27, weights_std=2.93, weights_min=1]INFO:microcalibrate.reweight:Within 10% from targets: 66.67% \n",
      "\n",
      "INFO:microcalibrate.reweight:Epoch  160: Loss = 0.327195, Change = 0.001058 (improving)\n",
      "Reweighting progress:  27%|██▋       | 145/528 [00:00<00:01, 253.89epoch/s, loss=0.326, count_observations=121, weights_mean=2.57, weights_std=3.65, weights_min=1]INFO:microcalibrate.reweight:Within 10% from targets: 66.67% \n",
      "\n",
      "INFO:microcalibrate.reweight:Epoch  170: Loss = 0.325856, Change = 0.001339 (improving)\n",
      "Reweighting progress:  33%|███▎      | 175/528 [00:00<00:01, 266.95epoch/s, loss=0.324, count_observations=121, weights_mean=2.96, weights_std=4.58, weights_min=1]INFO:microcalibrate.reweight:Within 10% from targets: 66.67% \n",
      "\n",
      "INFO:microcalibrate.reweight:Epoch  180: Loss = 0.324149, Change = 0.001707 (improving)\n",
      "Reweighting progress:  33%|███▎      | 175/528 [00:00<00:01, 266.95epoch/s, loss=0.322, count_observations=121, weights_mean=3.45, weights_std=5.77, weights_min=1]INFO:microcalibrate.reweight:Within 10% from targets: 66.67% \n",
      "\n",
      "INFO:microcalibrate.reweight:Epoch  190: Loss = 0.321960, Change = 0.002189 (improving)\n",
      "Reweighting progress:  33%|███▎      | 175/528 [00:00<00:01, 266.95epoch/s, loss=0.319, count_observations=121, weights_mean=4.1, weights_std=7.31, weights_min=1] INFO:microcalibrate.reweight:Within 10% from targets: 66.67% \n",
      "\n",
      "INFO:microcalibrate.reweight:Epoch  200: Loss = 0.319137, Change = 0.002823 (improving)\n",
      "Reweighting progress:  39%|███▉      | 205/528 [00:00<00:01, 275.57epoch/s, loss=0.315, count_observations=121, weights_mean=4.93, weights_std=9.32, weights_min=1]INFO:microcalibrate.reweight:Within 10% from targets: 66.67% \n",
      "\n",
      "INFO:microcalibrate.reweight:Epoch  210: Loss = 0.315478, Change = 0.003659 (improving)\n",
      "Reweighting progress:  39%|███▉      | 205/528 [00:00<00:01, 275.57epoch/s, loss=0.311, count_observations=121, weights_mean=6.03, weights_std=11.9, weights_min=1]INFO:microcalibrate.reweight:Within 10% from targets: 66.67% \n",
      "\n",
      "INFO:microcalibrate.reweight:Epoch  220: Loss = 0.310713, Change = 0.004765 (improving)\n",
      "Reweighting progress:  39%|███▉      | 205/528 [00:00<00:01, 275.57epoch/s, loss=0.304, count_observations=121, weights_mean=7.47, weights_std=15.4, weights_min=1]INFO:microcalibrate.reweight:Within 10% from targets: 66.67% \n",
      "\n",
      "INFO:microcalibrate.reweight:Epoch  230: Loss = 0.304488, Change = 0.006225 (improving)\n",
      "Reweighting progress:  45%|████▍     | 236/528 [00:00<00:01, 284.72epoch/s, loss=0.296, count_observations=121, weights_mean=9.39, weights_std=20, weights_min=1]  INFO:microcalibrate.reweight:Within 10% from targets: 66.67% \n",
      "\n",
      "INFO:microcalibrate.reweight:Epoch  240: Loss = 0.296336, Change = 0.008152 (improving)\n",
      "Reweighting progress:  45%|████▍     | 236/528 [00:01<00:01, 284.72epoch/s, loss=0.286, count_observations=121, weights_mean=11.9, weights_std=26.1, weights_min=1]INFO:microcalibrate.reweight:Within 10% from targets: 66.67% \n",
      "\n",
      "INFO:microcalibrate.reweight:Epoch  250: Loss = 0.285654, Change = 0.010681 (improving)\n",
      "Reweighting progress:  45%|████▍     | 236/528 [00:01<00:01, 284.72epoch/s, loss=0.272, count_observations=121, weights_mean=15.3, weights_std=34.3, weights_min=1]INFO:microcalibrate.reweight:Within 10% from targets: 66.67% \n",
      "\n",
      "INFO:microcalibrate.reweight:Epoch  260: Loss = 0.271686, Change = 0.013968 (improving)\n",
      "Reweighting progress:  50%|█████     | 266/528 [00:01<00:00, 289.30epoch/s, loss=0.254, count_observations=121, weights_mean=19.9, weights_std=45.3, weights_min=1]INFO:microcalibrate.reweight:Within 10% from targets: 66.67% \n",
      "\n",
      "INFO:microcalibrate.reweight:Epoch  270: Loss = 0.253515, Change = 0.018171 (improving)\n",
      "Reweighting progress:  50%|█████     | 266/528 [00:01<00:00, 289.30epoch/s, loss=0.23, count_observations=121, weights_mean=26, weights_std=60, weights_min=1]     INFO:microcalibrate.reweight:Within 10% from targets: 66.67% \n",
      "\n",
      "INFO:microcalibrate.reweight:Epoch  280: Loss = 0.230122, Change = 0.023393 (improving)\n",
      "Reweighting progress:  50%|█████     | 266/528 [00:01<00:00, 289.30epoch/s, loss=0.201, count_observations=121, weights_mean=34.2, weights_std=79.7, weights_min=1]INFO:microcalibrate.reweight:Within 10% from targets: 66.67% \n",
      "\n",
      "INFO:microcalibrate.reweight:Epoch  290: Loss = 0.200546, Change = 0.029577 (improving)\n",
      "Reweighting progress:  56%|█████▋    | 297/528 [00:01<00:00, 294.47epoch/s, loss=0.164, count_observations=121, weights_mean=45.2, weights_std=106, weights_min=1] INFO:microcalibrate.reweight:Within 10% from targets: 66.67% \n",
      "\n",
      "INFO:microcalibrate.reweight:Epoch  300: Loss = 0.164267, Change = 0.036279 (improving)\n",
      "Reweighting progress:  56%|█████▋    | 297/528 [00:01<00:00, 294.47epoch/s, loss=0.122, count_observations=121, weights_mean=59.6, weights_std=141, weights_min=1]INFO:microcalibrate.reweight:Within 10% from targets: 66.67% \n",
      "\n",
      "INFO:microcalibrate.reweight:Epoch  310: Loss = 0.121976, Change = 0.042291 (improving)\n",
      "Reweighting progress:  56%|█████▋    | 297/528 [00:01<00:00, 294.47epoch/s, loss=0.0768, count_observations=121, weights_mean=78.2, weights_std=185, weights_min=1]INFO:microcalibrate.reweight:Within 10% from targets: 66.67% \n",
      "\n",
      "INFO:microcalibrate.reweight:Epoch  320: Loss = 0.076826, Change = 0.045151 (improving)\n",
      "Reweighting progress:  62%|██████▏   | 328/528 [00:01<00:00, 297.20epoch/s, loss=0.0358, count_observations=121, weights_mean=101, weights_std=240, weights_min=1] INFO:microcalibrate.reweight:Within 10% from targets: 66.67% \n",
      "\n",
      "INFO:microcalibrate.reweight:Epoch  330: Loss = 0.035770, Change = 0.041055 (improving)\n",
      "Reweighting progress:  62%|██████▏   | 328/528 [00:01<00:00, 297.20epoch/s, loss=0.00865, count_observations=121, weights_mean=126, weights_std=299, weights_min=1]INFO:microcalibrate.reweight:Within 10% from targets: 66.67% \n",
      "\n",
      "INFO:microcalibrate.reweight:Epoch  340: Loss = 0.008654, Change = 0.027116 (improving)\n",
      "Reweighting progress:  62%|██████▏   | 328/528 [00:01<00:00, 297.20epoch/s, loss=0.000138, count_observations=121, weights_mean=146, weights_std=349, weights_min=1]INFO:microcalibrate.reweight:Within 10% from targets: 100.00% \n",
      "\n",
      "INFO:microcalibrate.reweight:Epoch  350: Loss = 0.000138, Change = 0.008516 (improving)\n",
      "Reweighting progress:  68%|██████▊   | 359/528 [00:01<00:00, 300.12epoch/s, loss=0.000687, count_observations=121, weights_mean=156, weights_std=373, weights_min=1]INFO:microcalibrate.reweight:Within 10% from targets: 100.00% \n",
      "\n",
      "INFO:microcalibrate.reweight:Epoch  360: Loss = 0.000687, Change = -0.000549 (worsening)\n",
      "Reweighting progress:  68%|██████▊   | 359/528 [00:01<00:00, 300.12epoch/s, loss=0.000522, count_observations=121, weights_mean=155, weights_std=371, weights_min=1]INFO:microcalibrate.reweight:Within 10% from targets: 100.00% \n",
      "\n",
      "INFO:microcalibrate.reweight:Epoch  370: Loss = 0.000522, Change = 0.000165 (improving)\n",
      "Reweighting progress:  68%|██████▊   | 359/528 [00:01<00:00, 300.12epoch/s, loss=4.7e-5, count_observations=121, weights_mean=151, weights_std=361, weights_min=1]  INFO:microcalibrate.reweight:Within 10% from targets: 100.00% \n",
      "\n",
      "INFO:microcalibrate.reweight:Epoch  380: Loss = 0.000047, Change = 0.000475 (improving)\n",
      "Reweighting progress:  74%|███████▍  | 390/528 [00:01<00:00, 301.79epoch/s, loss=9.15e-6, count_observations=121, weights_mean=149, weights_std=355, weights_min=1]INFO:microcalibrate.reweight:Within 10% from targets: 100.00% \n",
      "\n",
      "INFO:microcalibrate.reweight:Epoch  390: Loss = 0.000009, Change = 0.000038 (improving)\n",
      "Reweighting progress:  74%|███████▍  | 390/528 [00:01<00:00, 301.79epoch/s, loss=2.12e-5, count_observations=121, weights_mean=148, weights_std=354, weights_min=1]INFO:microcalibrate.reweight:Within 10% from targets: 100.00% \n",
      "\n",
      "INFO:microcalibrate.reweight:Epoch  400: Loss = 0.000021, Change = -0.000012 (worsening)\n",
      "Reweighting progress:  74%|███████▍  | 390/528 [00:01<00:00, 301.79epoch/s, loss=5.08e-6, count_observations=121, weights_mean=149, weights_std=355, weights_min=1]INFO:microcalibrate.reweight:Within 10% from targets: 100.00% \n",
      "\n",
      "INFO:microcalibrate.reweight:Epoch  410: Loss = 0.000005, Change = 0.000016 (improving)\n",
      "Reweighting progress:  74%|███████▍  | 390/528 [00:01<00:00, 301.79epoch/s, loss=7.6e-10, count_observations=121, weights_mean=150, weights_std=357, weights_min=1]INFO:microcalibrate.reweight:Within 10% from targets: 100.00% \n",
      "\n",
      "INFO:microcalibrate.reweight:Epoch  420: Loss = 0.000000, Change = 0.000005 (improving)\n",
      "Reweighting progress:  80%|███████▉  | 421/528 [00:01<00:00, 269.01epoch/s, loss=6.66e-7, count_observations=121, weights_mean=150, weights_std=357, weights_min=1]INFO:microcalibrate.reweight:Within 10% from targets: 100.00% \n",
      "\n",
      "INFO:microcalibrate.reweight:Epoch  430: Loss = 0.000001, Change = -0.000001 (worsening)\n",
      "Reweighting progress:  80%|███████▉  | 421/528 [00:01<00:00, 269.01epoch/s, loss=3.04e-7, count_observations=121, weights_mean=150, weights_std=357, weights_min=1]INFO:microcalibrate.reweight:Within 10% from targets: 100.00% \n",
      "\n",
      "INFO:microcalibrate.reweight:Epoch  440: Loss = 0.000000, Change = 0.000000 (improving)\n",
      "Reweighting progress:  80%|███████▉  | 421/528 [00:01<00:00, 269.01epoch/s, loss=7.44e-9, count_observations=121, weights_mean=150, weights_std=357, weights_min=1]INFO:microcalibrate.reweight:Within 10% from targets: 100.00% \n",
      "\n",
      "INFO:microcalibrate.reweight:Epoch  450: Loss = 0.000000, Change = 0.000000 (improving)\n",
      "Reweighting progress:  86%|████████▌ | 452/528 [00:01<00:00, 278.23epoch/s, loss=1.85e-8, count_observations=121, weights_mean=149, weights_std=357, weights_min=1]INFO:microcalibrate.reweight:Within 10% from targets: 100.00% \n",
      "\n",
      "INFO:microcalibrate.reweight:Epoch  460: Loss = 0.000000, Change = -0.000000 (worsening)\n",
      "Reweighting progress:  86%|████████▌ | 452/528 [00:01<00:00, 278.23epoch/s, loss=1.46e-8, count_observations=121, weights_mean=149, weights_std=357, weights_min=1]INFO:microcalibrate.reweight:Within 10% from targets: 100.00% \n",
      "\n",
      "INFO:microcalibrate.reweight:Epoch  470: Loss = 0.000000, Change = 0.000000 (improving)\n",
      "Reweighting progress:  86%|████████▌ | 452/528 [00:01<00:00, 278.23epoch/s, loss=9.6e-10, count_observations=121, weights_mean=149, weights_std=357, weights_min=1]INFO:microcalibrate.reweight:Within 10% from targets: 100.00% \n",
      "\n",
      "INFO:microcalibrate.reweight:Epoch  480: Loss = 0.000000, Change = 0.000000 (improving)\n",
      "Reweighting progress:  91%|█████████▏| 483/528 [00:01<00:00, 286.61epoch/s, loss=5.14e-10, count_observations=121, weights_mean=150, weights_std=357, weights_min=1]INFO:microcalibrate.reweight:Within 10% from targets: 100.00% \n",
      "\n",
      "INFO:microcalibrate.reweight:Epoch  490: Loss = 0.000000, Change = 0.000000 (improving)\n",
      "Reweighting progress:  91%|█████████▏| 483/528 [00:01<00:00, 286.61epoch/s, loss=6.31e-10, count_observations=121, weights_mean=150, weights_std=357, weights_min=1]INFO:microcalibrate.reweight:Within 10% from targets: 100.00% \n",
      "\n",
      "INFO:microcalibrate.reweight:Epoch  500: Loss = 0.000000, Change = -0.000000 (worsening)\n",
      "Reweighting progress:  91%|█████████▏| 483/528 [00:01<00:00, 286.61epoch/s, loss=6.04e-11, count_observations=121, weights_mean=149, weights_std=357, weights_min=1]INFO:microcalibrate.reweight:Within 10% from targets: 100.00% \n",
      "\n",
      "INFO:microcalibrate.reweight:Epoch  510: Loss = 0.000000, Change = 0.000000 (improving)\n",
      "Reweighting progress:  97%|█████████▋| 514/528 [00:01<00:00, 292.23epoch/s, loss=1.65e-11, count_observations=121, weights_mean=149, weights_std=357, weights_min=1]INFO:microcalibrate.reweight:Within 10% from targets: 100.00% \n",
      "\n",
      "INFO:microcalibrate.reweight:Epoch  520: Loss = 0.000000, Change = 0.000000 (improving)\n",
      "Reweighting progress: 100%|██████████| 528/528 [00:01<00:00, 266.49epoch/s, loss=1.65e-11, count_observations=121, weights_mean=149, weights_std=357, weights_min=1]\n",
      "INFO:microcalibrate.reweight:Reweighting completed. Final sample size: 121\n"
     ]
    },
    {
     "name": "stdout",
     "output_type": "stream",
     "text": [
      "Original dataset size: 121\n",
      "Calibrated dataset size: 121\n",
      "Number of calibrated weights: 121\n"
     ]
    }
   ],
   "source": [
    "# Initialize the Calibration object\n",
    "calibrator = Calibration(\n",
    "    loss_matrix=targets_matrix,\n",
    "    weights=weights, \n",
    "    targets=targets,\n",
    "    noise_level=0.05,\n",
    "    epochs=528,\n",
    "    learning_rate=0.01,\n",
    "    dropout_rate=0,\n",
    "    subsample_every=0,\n",
    ")\n",
    "\n",
    "# Perform the calibration\n",
    "performance_df = calibrator.calibrate()\n",
    "\n",
    "print(f\"Original dataset size: {len(targets_matrix)}\")\n",
    "print(f\"Calibrated dataset size: {len(calibrator.loss_matrix)}\")\n",
    "print(f\"Number of calibrated weights: {len(calibrator.weights)}\")"
   ]
  },
  {
   "cell_type": "code",
   "execution_count": 11,
   "id": "9djvjpfrhxb",
   "metadata": {},
   "outputs": [
    {
     "name": "stdout",
     "output_type": "stream",
     "text": [
      "Target totals: [7.37032429e+08 9.76779350e+05 4.36479914e+04]\n",
      "Final calibrated totals: [7.37025166e+08 9.76778368e+05 4.36469951e+04]\n",
      "Difference: [-7.26296939e+03 -9.82026825e-01 -9.96308503e-01]\n",
      "Relative error: [-0.00098543 -0.00010054 -0.0022826 ]\n"
     ]
    }
   ],
   "source": [
    "# Calculate final weighted totals\n",
    "final_totals = targets_matrix.mul(calibrator.weights, axis=0).sum().values\n",
    "\n",
    "print(f\"Target totals: {targets}\")\n",
    "print(f\"Final calibrated totals: {final_totals}\")\n",
    "print(f\"Difference: {final_totals - targets}\")\n",
    "print(f\"Relative error: {(final_totals - targets) / targets * 100}\")"
   ]
  },
  {
   "cell_type": "code",
   "execution_count": 12,
   "id": "96cc818b",
   "metadata": {},
   "outputs": [],
   "source": [
    "np.testing.assert_allclose(\n",
    "        final_totals,\n",
    "        targets,\n",
    "        rtol=0.01,  # relative tolerance\n",
    "        err_msg=\"Calibrated totals do not match target values\",\n",
    "    )"
   ]
  },
  {
   "cell_type": "code",
   "execution_count": 5,
   "id": "923d79dd",
   "metadata": {},
   "outputs": [
    {
     "data": {
      "text/html": [
       "<div>\n",
       "<style scoped>\n",
       "    .dataframe tbody tr th:only-of-type {\n",
       "        vertical-align: middle;\n",
       "    }\n",
       "\n",
       "    .dataframe tbody tr th {\n",
       "        vertical-align: top;\n",
       "    }\n",
       "\n",
       "    .dataframe thead th {\n",
       "        text-align: right;\n",
       "    }\n",
       "</style>\n",
       "<table border=\"1\" class=\"dataframe\">\n",
       "  <thead>\n",
       "    <tr style=\"text-align: right;\">\n",
       "      <th></th>\n",
       "      <th>epoch</th>\n",
       "      <th>loss</th>\n",
       "      <th>pct_close</th>\n",
       "      <th>target_idx</th>\n",
       "      <th>target_name</th>\n",
       "      <th>target</th>\n",
       "      <th>estimate</th>\n",
       "      <th>error</th>\n",
       "      <th>abs_error</th>\n",
       "      <th>rel_abs_error</th>\n",
       "    </tr>\n",
       "  </thead>\n",
       "  <tbody>\n",
       "    <tr>\n",
       "      <th>0</th>\n",
       "      <td>0</td>\n",
       "      <td>0.340706</td>\n",
       "      <td>0.000000</td>\n",
       "      <td>0</td>\n",
       "      <td>income_aged_20_30</td>\n",
       "      <td>7.370324e+08</td>\n",
       "      <td>753877.625000</td>\n",
       "      <td>-7.362786e+08</td>\n",
       "      <td>7.362786e+08</td>\n",
       "      <td>0.998977</td>\n",
       "    </tr>\n",
       "    <tr>\n",
       "      <th>1</th>\n",
       "      <td>0</td>\n",
       "      <td>0.340706</td>\n",
       "      <td>0.000000</td>\n",
       "      <td>1</td>\n",
       "      <td>income_aged_40_50</td>\n",
       "      <td>9.767794e+05</td>\n",
       "      <td>871178.000000</td>\n",
       "      <td>-1.056014e+05</td>\n",
       "      <td>1.056014e+05</td>\n",
       "      <td>0.108112</td>\n",
       "    </tr>\n",
       "    <tr>\n",
       "      <th>2</th>\n",
       "      <td>0</td>\n",
       "      <td>0.340706</td>\n",
       "      <td>0.000000</td>\n",
       "      <td>2</td>\n",
       "      <td>income_aged_71</td>\n",
       "      <td>4.364799e+04</td>\n",
       "      <td>38772.019531</td>\n",
       "      <td>-4.875973e+03</td>\n",
       "      <td>4.875973e+03</td>\n",
       "      <td>0.111711</td>\n",
       "    </tr>\n",
       "    <tr>\n",
       "      <th>3</th>\n",
       "      <td>10</td>\n",
       "      <td>0.332883</td>\n",
       "      <td>0.666667</td>\n",
       "      <td>0</td>\n",
       "      <td>income_aged_20_30</td>\n",
       "      <td>7.370324e+08</td>\n",
       "      <td>833397.750000</td>\n",
       "      <td>-7.361991e+08</td>\n",
       "      <td>7.361991e+08</td>\n",
       "      <td>0.998869</td>\n",
       "    </tr>\n",
       "    <tr>\n",
       "      <th>4</th>\n",
       "      <td>10</td>\n",
       "      <td>0.332883</td>\n",
       "      <td>0.666667</td>\n",
       "      <td>1</td>\n",
       "      <td>income_aged_40_50</td>\n",
       "      <td>9.767794e+05</td>\n",
       "      <td>957796.625000</td>\n",
       "      <td>-1.898275e+04</td>\n",
       "      <td>1.898275e+04</td>\n",
       "      <td>0.019434</td>\n",
       "    </tr>\n",
       "  </tbody>\n",
       "</table>\n",
       "</div>"
      ],
      "text/plain": [
       "   epoch      loss  pct_close  target_idx        target_name        target  \\\n",
       "0      0  0.340706   0.000000           0  income_aged_20_30  7.370324e+08   \n",
       "1      0  0.340706   0.000000           1  income_aged_40_50  9.767794e+05   \n",
       "2      0  0.340706   0.000000           2     income_aged_71  4.364799e+04   \n",
       "3     10  0.332883   0.666667           0  income_aged_20_30  7.370324e+08   \n",
       "4     10  0.332883   0.666667           1  income_aged_40_50  9.767794e+05   \n",
       "\n",
       "        estimate         error     abs_error  rel_abs_error  \n",
       "0  753877.625000 -7.362786e+08  7.362786e+08       0.998977  \n",
       "1  871178.000000 -1.056014e+05  1.056014e+05       0.108112  \n",
       "2   38772.019531 -4.875973e+03  4.875973e+03       0.111711  \n",
       "3  833397.750000 -7.361991e+08  7.361991e+08       0.998869  \n",
       "4  957796.625000 -1.898275e+04  1.898275e+04       0.019434  "
      ]
     },
     "execution_count": 5,
     "metadata": {},
     "output_type": "execute_result"
    }
   ],
   "source": [
    "performance_df.head()"
   ]
  },
  {
   "cell_type": "code",
   "execution_count": null,
   "id": "da828d30",
   "metadata": {},
   "outputs": [
    {
     "data": {
      "application/vnd.plotly.v1+json": {
       "config": {
        "plotlyServerURL": "https://plot.ly"
       },
       "data": [
        {
         "line": {
          "color": "red",
          "dash": "dot"
         },
         "mode": "lines",
         "name": "Target 20-30",
         "type": "scatter",
         "x": [
          0,
          10,
          20,
          30,
          40,
          50,
          60,
          70,
          80,
          90,
          100,
          110,
          120,
          130,
          140,
          150,
          160,
          170,
          180,
          190,
          200,
          210,
          220,
          230,
          240,
          250,
          260,
          270,
          280,
          290,
          300,
          310,
          320,
          330,
          340,
          350,
          360,
          370,
          380,
          390,
          400,
          410,
          420,
          430,
          440,
          450,
          460,
          470,
          480,
          490,
          500,
          510,
          520
         ],
         "xaxis": "x",
         "y": [
          737032448,
          737032448,
          737032448,
          737032448,
          737032448,
          737032448,
          737032448,
          737032448,
          737032448,
          737032448,
          737032448,
          737032448,
          737032448,
          737032448,
          737032448,
          737032448,
          737032448,
          737032448,
          737032448,
          737032448,
          737032448,
          737032448,
          737032448,
          737032448,
          737032448,
          737032448,
          737032448,
          737032448,
          737032448,
          737032448,
          737032448,
          737032448,
          737032448,
          737032448,
          737032448,
          737032448,
          737032448,
          737032448,
          737032448,
          737032448,
          737032448,
          737032448,
          737032448,
          737032448,
          737032448,
          737032448,
          737032448,
          737032448,
          737032448,
          737032448,
          737032448,
          737032448,
          737032448
         ],
         "yaxis": "y"
        },
        {
         "line": {
          "color": "blue"
         },
         "mode": "lines",
         "name": "Estimate 20-30",
         "type": "scatter",
         "x": [
          0,
          10,
          20,
          30,
          40,
          50,
          60,
          70,
          80,
          90,
          100,
          110,
          120,
          130,
          140,
          150,
          160,
          170,
          180,
          190,
          200,
          210,
          220,
          230,
          240,
          250,
          260,
          270,
          280,
          290,
          300,
          310,
          320,
          330,
          340,
          350,
          360,
          370,
          380,
          390,
          400,
          410,
          420,
          430,
          440,
          450,
          460,
          470,
          480,
          490,
          500,
          510,
          520
         ],
         "xaxis": "x",
         "y": [
          753877.625,
          833397.75,
          922832.875,
          1024914.625,
          1142812.375,
          1280236.5,
          1441652.5,
          1632567.625,
          1859891.625,
          2132389.5,
          2461271.5,
          2860967.75,
          3350163.5,
          3953192.5,
          4701910,
          5638238,
          6817615.5,
          8313716.5,
          10224879,
          12682934,
          15865308,
          20011660,
          25446690,
          32611388,
          42105504,
          54744688,
          71635672,
          94271712,
          124644304,
          165351424,
          219637360,
          291186240,
          383197344,
          495592384,
          618274944,
          722009408,
          770499712,
          766200192,
          745786944,
          733170496,
          731157440,
          734153856,
          737067648,
          738074240,
          737735808,
          737142528,
          736858624,
          736878336,
          736992896,
          737061376,
          737064512,
          737042368,
          737027264
         ],
         "yaxis": "y"
        },
        {
         "line": {
          "color": "red",
          "dash": "dot"
         },
         "mode": "lines",
         "name": "Target 40-50",
         "type": "scatter",
         "x": [
          0,
          10,
          20,
          30,
          40,
          50,
          60,
          70,
          80,
          90,
          100,
          110,
          120,
          130,
          140,
          150,
          160,
          170,
          180,
          190,
          200,
          210,
          220,
          230,
          240,
          250,
          260,
          270,
          280,
          290,
          300,
          310,
          320,
          330,
          340,
          350,
          360,
          370,
          380,
          390,
          400,
          410,
          420,
          430,
          440,
          450,
          460,
          470,
          480,
          490,
          500,
          510,
          520
         ],
         "xaxis": "x2",
         "y": [
          976779.375,
          976779.375,
          976779.375,
          976779.375,
          976779.375,
          976779.375,
          976779.375,
          976779.375,
          976779.375,
          976779.375,
          976779.375,
          976779.375,
          976779.375,
          976779.375,
          976779.375,
          976779.375,
          976779.375,
          976779.375,
          976779.375,
          976779.375,
          976779.375,
          976779.375,
          976779.375,
          976779.375,
          976779.375,
          976779.375,
          976779.375,
          976779.375,
          976779.375,
          976779.375,
          976779.375,
          976779.375,
          976779.375,
          976779.375,
          976779.375,
          976779.375,
          976779.375,
          976779.375,
          976779.375,
          976779.375,
          976779.375,
          976779.375,
          976779.375,
          976779.375,
          976779.375,
          976779.375,
          976779.375,
          976779.375,
          976779.375,
          976779.375,
          976779.375,
          976779.375,
          976779.375
         ],
         "yaxis": "y2"
        },
        {
         "line": {
          "color": "green"
         },
         "mode": "lines",
         "name": "Estimate 40-50",
         "type": "scatter",
         "x": [
          0,
          10,
          20,
          30,
          40,
          50,
          60,
          70,
          80,
          90,
          100,
          110,
          120,
          130,
          140,
          150,
          160,
          170,
          180,
          190,
          200,
          210,
          220,
          230,
          240,
          250,
          260,
          270,
          280,
          290,
          300,
          310,
          320,
          330,
          340,
          350,
          360,
          370,
          380,
          390,
          400,
          410,
          420,
          430,
          440,
          450,
          460,
          470,
          480,
          490,
          500,
          510,
          520
         ],
         "xaxis": "x2",
         "y": [
          871178,
          957796.625,
          1003912,
          984844.875,
          966762.625,
          974785.25,
          980778.75,
          976232.25,
          975582.8125,
          977528.25,
          976790.125,
          976511.9375,
          976948,
          976750.75,
          976741,
          976817.1875,
          976759.125,
          976781.75,
          976781.875,
          976774.0625,
          976781.25,
          976777,
          976778.75,
          976778.5,
          976778.1875,
          976778.5625,
          976778.25,
          976778.4375,
          976778.375,
          976778.4375,
          976778.3125,
          976778.375,
          976778.375,
          976778.375,
          976778.375,
          976778.375,
          976778.375,
          976778.375,
          976778.375,
          976778.375,
          976778.375,
          976778.375,
          976778.375,
          976778.375,
          976778.375,
          976778.375,
          976778.375,
          976778.375,
          976778.375,
          976778.375,
          976778.375,
          976778.375,
          976778.375
         ],
         "yaxis": "y2"
        },
        {
         "line": {
          "color": "blue"
         },
         "mode": "lines",
         "showlegend": false,
         "type": "scatter",
         "x": [
          0,
          10,
          20,
          30,
          40,
          50,
          60,
          70,
          80,
          90,
          100,
          110,
          120,
          130,
          140,
          150,
          160,
          170,
          180,
          190,
          200,
          210,
          220,
          230,
          240,
          250,
          260,
          270,
          280,
          290,
          300,
          310,
          320,
          330,
          340,
          350,
          360,
          370,
          380,
          390,
          400,
          410,
          420,
          430,
          440,
          450,
          460,
          470,
          480,
          490,
          500,
          510,
          520
         ],
         "xaxis": "x3",
         "y": [
          0.9989771445924183,
          0.9988692522937607,
          0.9987479073987798,
          0.9986094036595252,
          0.9984494408921871,
          0.9982629848882854,
          0.9980439768915031,
          0.9977849447070748,
          0.9974765132389395,
          0.9971067902019967,
          0.9966605656146091,
          0.9961182607933159,
          0.995454523733533,
          0.9946363385889898,
          0.993620484399623,
          0.9923500817158053,
          0.9907499113254781,
          0.9887200129077628,
          0.9861269622148304,
          0.9827918919520895,
          0.9784740711985587,
          0.9728483324522504,
          0.9654741252314579,
          0.9557531176700649,
          0.942871573545701,
          0.9257228251638658,
          0.9028052669941609,
          0.8720928606931564,
          0.8308835596882703,
          0.7756524499719176,
          0.70199770634793,
          0.6049207320652455,
          0.4800807684385695,
          0.32758403602876385,
          0.1611292750031,
          0.02038314600770467,
          0.04540812835420782,
          0.039574572434563964,
          0.011878033353560032,
          0.005239866997009065,
          0.007971166013032847,
          0.00390565165456596,
          0.00004775909133379159,
          0.0014134954340571991,
          0.0009543134795606719,
          0.0001493557038074937,
          0.00023584307647741447,
          0.00020909798533049118,
          0.00005366385171687855,
          0.000039249289605225085,
          0.00004350419046950834,
          0.000013459380284977629,
          0.000007033611632794761
         ],
         "yaxis": "y3"
        },
        {
         "line": {
          "color": "green"
         },
         "mode": "lines",
         "showlegend": false,
         "type": "scatter",
         "x": [
          0,
          10,
          20,
          30,
          40,
          50,
          60,
          70,
          80,
          90,
          100,
          110,
          120,
          130,
          140,
          150,
          160,
          170,
          180,
          190,
          200,
          210,
          220,
          230,
          240,
          250,
          260,
          270,
          280,
          290,
          300,
          310,
          320,
          330,
          340,
          350,
          360,
          370,
          380,
          390,
          400,
          410,
          420,
          430,
          440,
          450,
          460,
          470,
          480,
          490,
          500,
          510,
          520
         ],
         "xaxis": "x4",
         "y": [
          0.10811179853178206,
          0.019434020092817788,
          0.027777639141899367,
          0.008257238232533319,
          0.010254874597449398,
          0.002041530616880603,
          0.0040944507043875695,
          0.0005601316059729455,
          0.001225007950234412,
          0.0007666777362083429,
          0.000011005555886148804,
          0.00027379519556296937,
          0.00017263366151645042,
          0.000029305491836372978,
          0.0000392872750819498,
          0.00003871140297162806,
          0.000020731395971582633,
          0.0000024314600213584568,
          0.0000025594316014299545,
          0.000005438792153038653,
          0.000001919573701072466,
          0.0000024314600213584568,
          6.398579003574886e-7,
          8.95801060500484e-7,
          0.0000012157300106792284,
          8.318152704647351e-7,
          0.0000011517442206434795,
          9.59786850536233e-7,
          0.0000010237726405719818,
          9.59786850536233e-7,
          0.0000010877584306077306,
          0.0000010237726405719818,
          0.0000010237726405719818,
          0.0000010237726405719818,
          0.0000010237726405719818,
          0.0000010237726405719818,
          0.0000010237726405719818,
          0.0000010237726405719818,
          0.0000010237726405719818,
          0.0000010237726405719818,
          0.0000010237726405719818,
          0.0000010237726405719818,
          0.0000010237726405719818,
          0.0000010237726405719818,
          0.0000010237726405719818,
          0.0000010237726405719818,
          0.0000010237726405719818,
          0.0000010237726405719818,
          0.0000010237726405719818,
          0.0000010237726405719818,
          0.0000010237726405719818,
          0.0000010237726405719818,
          0.0000010237726405719818
         ],
         "yaxis": "y4"
        }
       ],
       "layout": {
        "annotations": [
         {
          "font": {
           "size": 16
          },
          "showarrow": false,
          "text": "Estimate vs target: income_aged_20_30",
          "x": 0.225,
          "xanchor": "center",
          "xref": "paper",
          "y": 1,
          "yanchor": "bottom",
          "yref": "paper"
         },
         {
          "font": {
           "size": 16
          },
          "showarrow": false,
          "text": "Estimate vs target: income_aged_40_50",
          "x": 0.775,
          "xanchor": "center",
          "xref": "paper",
          "y": 1,
          "yanchor": "bottom",
          "yref": "paper"
         },
         {
          "font": {
           "size": 16
          },
          "showarrow": false,
          "text": "Relative absolute error: income_aged_20_30",
          "x": 0.225,
          "xanchor": "center",
          "xref": "paper",
          "y": 0.44,
          "yanchor": "bottom",
          "yref": "paper"
         },
         {
          "font": {
           "size": 16
          },
          "showarrow": false,
          "text": "Relative absolute error: income_aged_40_50",
          "x": 0.775,
          "xanchor": "center",
          "xref": "paper",
          "y": 0.44,
          "yanchor": "bottom",
          "yref": "paper"
         }
        ],
        "height": 800,
        "legend": {
         "x": 1.05,
         "xanchor": "left",
         "y": 1,
         "yanchor": "top"
        },
        "margin": {
         "r": 200
        },
        "template": {
         "data": {
          "bar": [
           {
            "error_x": {
             "color": "#2a3f5f"
            },
            "error_y": {
             "color": "#2a3f5f"
            },
            "marker": {
             "line": {
              "color": "#E5ECF6",
              "width": 0.5
             },
             "pattern": {
              "fillmode": "overlay",
              "size": 10,
              "solidity": 0.2
             }
            },
            "type": "bar"
           }
          ],
          "barpolar": [
           {
            "marker": {
             "line": {
              "color": "#E5ECF6",
              "width": 0.5
             },
             "pattern": {
              "fillmode": "overlay",
              "size": 10,
              "solidity": 0.2
             }
            },
            "type": "barpolar"
           }
          ],
          "carpet": [
           {
            "aaxis": {
             "endlinecolor": "#2a3f5f",
             "gridcolor": "white",
             "linecolor": "white",
             "minorgridcolor": "white",
             "startlinecolor": "#2a3f5f"
            },
            "baxis": {
             "endlinecolor": "#2a3f5f",
             "gridcolor": "white",
             "linecolor": "white",
             "minorgridcolor": "white",
             "startlinecolor": "#2a3f5f"
            },
            "type": "carpet"
           }
          ],
          "choropleth": [
           {
            "colorbar": {
             "outlinewidth": 0,
             "ticks": ""
            },
            "type": "choropleth"
           }
          ],
          "contour": [
           {
            "colorbar": {
             "outlinewidth": 0,
             "ticks": ""
            },
            "colorscale": [
             [
              0,
              "#0d0887"
             ],
             [
              0.1111111111111111,
              "#46039f"
             ],
             [
              0.2222222222222222,
              "#7201a8"
             ],
             [
              0.3333333333333333,
              "#9c179e"
             ],
             [
              0.4444444444444444,
              "#bd3786"
             ],
             [
              0.5555555555555556,
              "#d8576b"
             ],
             [
              0.6666666666666666,
              "#ed7953"
             ],
             [
              0.7777777777777778,
              "#fb9f3a"
             ],
             [
              0.8888888888888888,
              "#fdca26"
             ],
             [
              1,
              "#f0f921"
             ]
            ],
            "type": "contour"
           }
          ],
          "contourcarpet": [
           {
            "colorbar": {
             "outlinewidth": 0,
             "ticks": ""
            },
            "type": "contourcarpet"
           }
          ],
          "heatmap": [
           {
            "colorbar": {
             "outlinewidth": 0,
             "ticks": ""
            },
            "colorscale": [
             [
              0,
              "#0d0887"
             ],
             [
              0.1111111111111111,
              "#46039f"
             ],
             [
              0.2222222222222222,
              "#7201a8"
             ],
             [
              0.3333333333333333,
              "#9c179e"
             ],
             [
              0.4444444444444444,
              "#bd3786"
             ],
             [
              0.5555555555555556,
              "#d8576b"
             ],
             [
              0.6666666666666666,
              "#ed7953"
             ],
             [
              0.7777777777777778,
              "#fb9f3a"
             ],
             [
              0.8888888888888888,
              "#fdca26"
             ],
             [
              1,
              "#f0f921"
             ]
            ],
            "type": "heatmap"
           }
          ],
          "heatmapgl": [
           {
            "colorbar": {
             "outlinewidth": 0,
             "ticks": ""
            },
            "colorscale": [
             [
              0,
              "#0d0887"
             ],
             [
              0.1111111111111111,
              "#46039f"
             ],
             [
              0.2222222222222222,
              "#7201a8"
             ],
             [
              0.3333333333333333,
              "#9c179e"
             ],
             [
              0.4444444444444444,
              "#bd3786"
             ],
             [
              0.5555555555555556,
              "#d8576b"
             ],
             [
              0.6666666666666666,
              "#ed7953"
             ],
             [
              0.7777777777777778,
              "#fb9f3a"
             ],
             [
              0.8888888888888888,
              "#fdca26"
             ],
             [
              1,
              "#f0f921"
             ]
            ],
            "type": "heatmapgl"
           }
          ],
          "histogram": [
           {
            "marker": {
             "pattern": {
              "fillmode": "overlay",
              "size": 10,
              "solidity": 0.2
             }
            },
            "type": "histogram"
           }
          ],
          "histogram2d": [
           {
            "colorbar": {
             "outlinewidth": 0,
             "ticks": ""
            },
            "colorscale": [
             [
              0,
              "#0d0887"
             ],
             [
              0.1111111111111111,
              "#46039f"
             ],
             [
              0.2222222222222222,
              "#7201a8"
             ],
             [
              0.3333333333333333,
              "#9c179e"
             ],
             [
              0.4444444444444444,
              "#bd3786"
             ],
             [
              0.5555555555555556,
              "#d8576b"
             ],
             [
              0.6666666666666666,
              "#ed7953"
             ],
             [
              0.7777777777777778,
              "#fb9f3a"
             ],
             [
              0.8888888888888888,
              "#fdca26"
             ],
             [
              1,
              "#f0f921"
             ]
            ],
            "type": "histogram2d"
           }
          ],
          "histogram2dcontour": [
           {
            "colorbar": {
             "outlinewidth": 0,
             "ticks": ""
            },
            "colorscale": [
             [
              0,
              "#0d0887"
             ],
             [
              0.1111111111111111,
              "#46039f"
             ],
             [
              0.2222222222222222,
              "#7201a8"
             ],
             [
              0.3333333333333333,
              "#9c179e"
             ],
             [
              0.4444444444444444,
              "#bd3786"
             ],
             [
              0.5555555555555556,
              "#d8576b"
             ],
             [
              0.6666666666666666,
              "#ed7953"
             ],
             [
              0.7777777777777778,
              "#fb9f3a"
             ],
             [
              0.8888888888888888,
              "#fdca26"
             ],
             [
              1,
              "#f0f921"
             ]
            ],
            "type": "histogram2dcontour"
           }
          ],
          "mesh3d": [
           {
            "colorbar": {
             "outlinewidth": 0,
             "ticks": ""
            },
            "type": "mesh3d"
           }
          ],
          "parcoords": [
           {
            "line": {
             "colorbar": {
              "outlinewidth": 0,
              "ticks": ""
             }
            },
            "type": "parcoords"
           }
          ],
          "pie": [
           {
            "automargin": true,
            "type": "pie"
           }
          ],
          "scatter": [
           {
            "fillpattern": {
             "fillmode": "overlay",
             "size": 10,
             "solidity": 0.2
            },
            "type": "scatter"
           }
          ],
          "scatter3d": [
           {
            "line": {
             "colorbar": {
              "outlinewidth": 0,
              "ticks": ""
             }
            },
            "marker": {
             "colorbar": {
              "outlinewidth": 0,
              "ticks": ""
             }
            },
            "type": "scatter3d"
           }
          ],
          "scattercarpet": [
           {
            "marker": {
             "colorbar": {
              "outlinewidth": 0,
              "ticks": ""
             }
            },
            "type": "scattercarpet"
           }
          ],
          "scattergeo": [
           {
            "marker": {
             "colorbar": {
              "outlinewidth": 0,
              "ticks": ""
             }
            },
            "type": "scattergeo"
           }
          ],
          "scattergl": [
           {
            "marker": {
             "colorbar": {
              "outlinewidth": 0,
              "ticks": ""
             }
            },
            "type": "scattergl"
           }
          ],
          "scattermapbox": [
           {
            "marker": {
             "colorbar": {
              "outlinewidth": 0,
              "ticks": ""
             }
            },
            "type": "scattermapbox"
           }
          ],
          "scatterpolar": [
           {
            "marker": {
             "colorbar": {
              "outlinewidth": 0,
              "ticks": ""
             }
            },
            "type": "scatterpolar"
           }
          ],
          "scatterpolargl": [
           {
            "marker": {
             "colorbar": {
              "outlinewidth": 0,
              "ticks": ""
             }
            },
            "type": "scatterpolargl"
           }
          ],
          "scatterternary": [
           {
            "marker": {
             "colorbar": {
              "outlinewidth": 0,
              "ticks": ""
             }
            },
            "type": "scatterternary"
           }
          ],
          "surface": [
           {
            "colorbar": {
             "outlinewidth": 0,
             "ticks": ""
            },
            "colorscale": [
             [
              0,
              "#0d0887"
             ],
             [
              0.1111111111111111,
              "#46039f"
             ],
             [
              0.2222222222222222,
              "#7201a8"
             ],
             [
              0.3333333333333333,
              "#9c179e"
             ],
             [
              0.4444444444444444,
              "#bd3786"
             ],
             [
              0.5555555555555556,
              "#d8576b"
             ],
             [
              0.6666666666666666,
              "#ed7953"
             ],
             [
              0.7777777777777778,
              "#fb9f3a"
             ],
             [
              0.8888888888888888,
              "#fdca26"
             ],
             [
              1,
              "#f0f921"
             ]
            ],
            "type": "surface"
           }
          ],
          "table": [
           {
            "cells": {
             "fill": {
              "color": "#EBF0F8"
             },
             "line": {
              "color": "white"
             }
            },
            "header": {
             "fill": {
              "color": "#C8D4E3"
             },
             "line": {
              "color": "white"
             }
            },
            "type": "table"
           }
          ]
         },
         "layout": {
          "annotationdefaults": {
           "arrowcolor": "#2a3f5f",
           "arrowhead": 0,
           "arrowwidth": 1
          },
          "autotypenumbers": "strict",
          "coloraxis": {
           "colorbar": {
            "outlinewidth": 0,
            "ticks": ""
           }
          },
          "colorscale": {
           "diverging": [
            [
             0,
             "#8e0152"
            ],
            [
             0.1,
             "#c51b7d"
            ],
            [
             0.2,
             "#de77ae"
            ],
            [
             0.3,
             "#f1b6da"
            ],
            [
             0.4,
             "#fde0ef"
            ],
            [
             0.5,
             "#f7f7f7"
            ],
            [
             0.6,
             "#e6f5d0"
            ],
            [
             0.7,
             "#b8e186"
            ],
            [
             0.8,
             "#7fbc41"
            ],
            [
             0.9,
             "#4d9221"
            ],
            [
             1,
             "#276419"
            ]
           ],
           "sequential": [
            [
             0,
             "#0d0887"
            ],
            [
             0.1111111111111111,
             "#46039f"
            ],
            [
             0.2222222222222222,
             "#7201a8"
            ],
            [
             0.3333333333333333,
             "#9c179e"
            ],
            [
             0.4444444444444444,
             "#bd3786"
            ],
            [
             0.5555555555555556,
             "#d8576b"
            ],
            [
             0.6666666666666666,
             "#ed7953"
            ],
            [
             0.7777777777777778,
             "#fb9f3a"
            ],
            [
             0.8888888888888888,
             "#fdca26"
            ],
            [
             1,
             "#f0f921"
            ]
           ],
           "sequentialminus": [
            [
             0,
             "#0d0887"
            ],
            [
             0.1111111111111111,
             "#46039f"
            ],
            [
             0.2222222222222222,
             "#7201a8"
            ],
            [
             0.3333333333333333,
             "#9c179e"
            ],
            [
             0.4444444444444444,
             "#bd3786"
            ],
            [
             0.5555555555555556,
             "#d8576b"
            ],
            [
             0.6666666666666666,
             "#ed7953"
            ],
            [
             0.7777777777777778,
             "#fb9f3a"
            ],
            [
             0.8888888888888888,
             "#fdca26"
            ],
            [
             1,
             "#f0f921"
            ]
           ]
          },
          "colorway": [
           "#636efa",
           "#EF553B",
           "#00cc96",
           "#ab63fa",
           "#FFA15A",
           "#19d3f3",
           "#FF6692",
           "#B6E880",
           "#FF97FF",
           "#FECB52"
          ],
          "font": {
           "color": "#2a3f5f"
          },
          "geo": {
           "bgcolor": "white",
           "lakecolor": "white",
           "landcolor": "#E5ECF6",
           "showlakes": true,
           "showland": true,
           "subunitcolor": "white"
          },
          "hoverlabel": {
           "align": "left"
          },
          "hovermode": "closest",
          "mapbox": {
           "style": "light"
          },
          "paper_bgcolor": "white",
          "plot_bgcolor": "#E5ECF6",
          "polar": {
           "angularaxis": {
            "gridcolor": "white",
            "linecolor": "white",
            "ticks": ""
           },
           "bgcolor": "#E5ECF6",
           "radialaxis": {
            "gridcolor": "white",
            "linecolor": "white",
            "ticks": ""
           }
          },
          "scene": {
           "xaxis": {
            "backgroundcolor": "#E5ECF6",
            "gridcolor": "white",
            "gridwidth": 2,
            "linecolor": "white",
            "showbackground": true,
            "ticks": "",
            "zerolinecolor": "white"
           },
           "yaxis": {
            "backgroundcolor": "#E5ECF6",
            "gridcolor": "white",
            "gridwidth": 2,
            "linecolor": "white",
            "showbackground": true,
            "ticks": "",
            "zerolinecolor": "white"
           },
           "zaxis": {
            "backgroundcolor": "#E5ECF6",
            "gridcolor": "white",
            "gridwidth": 2,
            "linecolor": "white",
            "showbackground": true,
            "ticks": "",
            "zerolinecolor": "white"
           }
          },
          "shapedefaults": {
           "line": {
            "color": "#2a3f5f"
           }
          },
          "ternary": {
           "aaxis": {
            "gridcolor": "white",
            "linecolor": "white",
            "ticks": ""
           },
           "baxis": {
            "gridcolor": "white",
            "linecolor": "white",
            "ticks": ""
           },
           "bgcolor": "#E5ECF6",
           "caxis": {
            "gridcolor": "white",
            "linecolor": "white",
            "ticks": ""
           }
          },
          "title": {
           "x": 0.05
          },
          "xaxis": {
           "automargin": true,
           "gridcolor": "white",
           "linecolor": "white",
           "ticks": "",
           "title": {
            "standoff": 15
           },
           "zerolinecolor": "white",
           "zerolinewidth": 2
          },
          "yaxis": {
           "automargin": true,
           "gridcolor": "white",
           "linecolor": "white",
           "ticks": "",
           "title": {
            "standoff": 15
           },
           "zerolinecolor": "white",
           "zerolinewidth": 2
          }
         }
        },
        "title": {
         "text": "Calibration performance over epochs"
        },
        "width": 1050,
        "xaxis": {
         "anchor": "y",
         "domain": [
          0,
          0.45
         ],
         "matches": "x3",
         "showticklabels": false
        },
        "xaxis2": {
         "anchor": "y2",
         "domain": [
          0.55,
          1
         ],
         "matches": "x4",
         "showticklabels": false
        },
        "xaxis3": {
         "anchor": "y3",
         "domain": [
          0,
          0.45
         ],
         "title": {
          "text": "Epoch"
         }
        },
        "xaxis4": {
         "anchor": "y4",
         "domain": [
          0.55,
          1
         ],
         "title": {
          "text": "Epoch"
         }
        },
        "yaxis": {
         "anchor": "x",
         "domain": [
          0.56,
          1
         ],
         "title": {
          "text": "Income ($)"
         }
        },
        "yaxis2": {
         "anchor": "x2",
         "domain": [
          0.56,
          1
         ],
         "title": {
          "text": "Income ($)"
         }
        },
        "yaxis3": {
         "anchor": "x3",
         "domain": [
          0,
          0.44
         ],
         "title": {
          "text": "Relative absolute error"
         }
        },
        "yaxis4": {
         "anchor": "x4",
         "domain": [
          0,
          0.44
         ],
         "title": {
          "text": "Relative absolute error"
         }
        }
       }
      }
     },
     "metadata": {},
     "output_type": "display_data"
    }
   ],
   "source": [
    "g20 = performance_df.query(\"target_name == 'income_aged_20_30'\")\n",
    "g40 = performance_df.query(\"target_name == 'income_aged_40_50'\")\n",
    "\n",
    "fig = make_subplots(\n",
    "    rows=2, cols=2,\n",
    "    subplot_titles=[\n",
    "        \"Estimate vs target: income_aged_20_30\",\n",
    "        \"Estimate vs target: income_aged_40_50\",\n",
    "        \"Relative absolute error: income_aged_20_30\",\n",
    "        \"Relative absolute error: income_aged_40_50\",\n",
    "    ],\n",
    "    shared_xaxes=True,\n",
    "    vertical_spacing=0.12,\n",
    "    horizontal_spacing=0.10,\n",
    ")\n",
    "\n",
    "fig.add_trace(\n",
    "    go.Scatter(\n",
    "        x=g20[\"epoch\"], y=g20[\"target\"],\n",
    "        mode=\"lines\", name=\"Target 20-30\",\n",
    "        line=dict(dash=\"dot\", color=\"red\"),\n",
    "    ),\n",
    "    row=1, col=1,\n",
    ")\n",
    "fig.add_trace(\n",
    "    go.Scatter(\n",
    "        x=g20[\"epoch\"], y=g20[\"estimate\"],\n",
    "        mode=\"lines\", name=\"Estimate 20-30\",\n",
    "        line=dict(color=\"blue\"),\n",
    "    ),\n",
    "    row=1, col=1,\n",
    ")\n",
    "\n",
    "fig.add_trace(\n",
    "    go.Scatter(\n",
    "        x=g40[\"epoch\"], y=g40[\"target\"],\n",
    "        mode=\"lines\", name=\"Target 40-50\",\n",
    "        line=dict(dash=\"dot\", color=\"red\"),\n",
    "    ),\n",
    "    row=1, col=2,\n",
    ")\n",
    "fig.add_trace(\n",
    "    go.Scatter(\n",
    "        x=g40[\"epoch\"], y=g40[\"estimate\"],\n",
    "        mode=\"lines\", name=\"Estimate 40-50\",\n",
    "        line=dict(color=\"green\"),\n",
    "    ),\n",
    "    row=1, col=2,\n",
    ")\n",
    "\n",
    "fig.add_trace(\n",
    "    go.Scatter(\n",
    "        x=g20[\"epoch\"], y=g20[\"rel_abs_error\"],\n",
    "        mode=\"lines\", showlegend=False,\n",
    "        line=dict(color=\"blue\"),\n",
    "    ),\n",
    "    row=2, col=1,\n",
    ")\n",
    "\n",
    "fig.add_trace(\n",
    "    go.Scatter(\n",
    "        x=g40[\"epoch\"], y=g40[\"rel_abs_error\"],\n",
    "        mode=\"lines\", showlegend=False,\n",
    "        line=dict(color=\"green\"),\n",
    "    ),\n",
    "    row=2, col=2,\n",
    ")\n",
    "\n",
    "fig.update_layout(\n",
    "    height=800, width=1050,\n",
    "    title_text=\"Calibration performance over epochs\",\n",
    "    legend=dict(x=1.05, y=1, xanchor=\"left\", yanchor=\"top\"),\n",
    "    margin=dict(r=200),\n",
    ")\n",
    "fig.update_xaxes(title_text=\"Epoch\", row=2, col=1)\n",
    "fig.update_xaxes(title_text=\"Epoch\", row=2, col=2)\n",
    "fig.update_yaxes(title_text=\"Income ($)\", row=1, col=1)\n",
    "fig.update_yaxes(title_text=\"Income ($)\", row=1, col=2)\n",
    "fig.update_yaxes(title_text=\"Relative absolute error\", row=2, col=1)\n",
    "fig.update_yaxes(title_text=\"Relative absolute error\", row=2, col=2)\n",
    "\n",
    "fig.show()"
   ]
  },
  {
   "cell_type": "code",
   "execution_count": null,
   "id": "fefaf031",
   "metadata": {},
   "outputs": [],
   "source": []
  }
 ],
 "metadata": {
  "kernelspec": {
   "display_name": "pe",
   "language": "python",
   "name": "python3"
  },
  "language_info": {
   "codemirror_mode": {
    "name": "ipython",
    "version": 3
   },
   "file_extension": ".py",
   "mimetype": "text/x-python",
   "name": "python",
   "nbconvert_exporter": "python",
   "pygments_lexer": "ipython3",
   "version": "3.11.11"
  }
 },
 "nbformat": 4,
 "nbformat_minor": 5
}
