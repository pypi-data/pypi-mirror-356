{
 "cells": [
  {
   "cell_type": "markdown",
   "id": "6c10614d-8f4a-4e46-bd80-e482395bc968",
   "metadata": {},
   "source": [
    "# 单个notebook级别参数设定\n",
    "\n",
    "## 保证notebook级别prompt隔离\n",
    "\n",
    "在notebook右上角找到`Property Inspector（齿轮图标）-> ADVANCED TOOLS -> Notebook metadata`，在其中加入或修改字段`\"notechat\":{\"param\":value}`并确认，从而达到覆盖settings参数并固定当前notebook参数保证复现的目的，注意这里的param不用加@，覆盖优先级为`user>assistant>notebook>settings`，如果cell中已经有@add_prompt则会覆盖notebook级别的add_prompt，举例：\n",
    "\n",
    "```json\n",
    "\"notechat\": {\n",
    "    \"prompt\": \"你是刘慈欣，请用刘慈欣式的幻想来进行写作，你有一个宏大的宇宙世界观，客观冷静的思维。\",\n",
    "    \"add_prompt\": \"Use French to respond.\"\n",
    "}\n",
    "```"
   ]
  },
  {
   "cell_type": "markdown",
   "id": "7a5a5c2f-ea7e-451c-823a-c36a1c20a321",
   "metadata": {
    "editable": true,
    "slideshow": {
     "slide_type": ""
    },
    "tags": []
   },
   "source": [
    "**user** @model gpt-4-1106-preview @refs alone\n",
    "\n",
    "帮我写一个一段100字关于银河旅行者指南的扉页，要显得有深度："
   ]
  },
  {
   "cell_type": "markdown",
   "id": "8a64792c-bf38-4ceb-8085-4050b315af70",
   "metadata": {
    "editable": true,
    "slideshow": {
     "slide_type": ""
    },
    "tags": []
   },
   "source": [
    "**assistant**\n",
    "\n",
    "Dans l'immensité froide et silencieuse de l'espace, où les étoiles naissent et meurent dans un ballet cosmique éternel, existe un guide, un phare pour les voyageurs interstellaires. \"Le Guide du Voyageur Galactique\", une œuvre maîtresse d'érudition et de sagesse, offre aux âmes aventureuses les clés pour naviguer à travers les mystères de la Voie Lactée. Chaque page est un pas de plus vers la compréhension de l'univers, chaque mot, une étincelle illuminant les ténèbres infinies. Préparez-vous à un voyage où la réalité dépasse l'imagination, où le temps et l'espace se plient à la volonté des étoiles.\n",
    "\n",
    "<div style=\"text-align: right; color: lightgray; font-style: italic; font-size: x-small;\">_ref || _refs[\"8a64792c-bf38-4ceb-8085-4050b315af70\"]</div>"
   ]
  },
  {
   "cell_type": "markdown",
   "id": "812cbe0e-a854-4f33-8e7f-96cccea51cec",
   "metadata": {},
   "source": [
    "**user** @add_prompt Use Chinese to respond.\n",
    "\n",
    "Translate it for me:\n"
   ]
  },
  {
   "cell_type": "markdown",
   "id": "d8f07a07-c65b-45d8-9f66-2c235b4ac242",
   "metadata": {},
   "source": [
    "**assistant**\n",
    "\n",
    "在宇宙的寒冷与寂静无声之中，恒星在永恒的宇宙舞蹈中诞生与消亡，存在着一本指南，一盏为星际旅者指引方向的灯塔。“银河旅行者指南”，这是一部博学与智慧的杰作，为那些冒险的灵魂提供了穿越银河系奥秘的钥匙。每翻一页，都是对宇宙理解更深一步；每一个词，都是点亮无尽黑暗的火花。准备好迎接一场现实超越想象的旅程，在这里，时间与空间在星辰意志下弯曲。\n",
    "\n",
    "<div style=\"text-align: right; color: lightgray; font-style: italic; font-size: x-small;\">_ref || _refs[\"d8f07a07-c65b-45d8-9f66-2c235b4ac242\"]</div>"
   ]
  },
  {
   "cell_type": "markdown",
   "id": "ea454761-a683-4a94-ae7c-7e88f258ca81",
   "metadata": {},
   "source": [
    "## 可定义参数Json数据供参考\n",
    "\n",
    "可以删除无必要放在notebook中的相应字段\n",
    "\n",
    "```json\n",
    "{\n",
    "    \"prompt\": \"You are a helpful and warm-hearted assistant:) You have a good background knowledge in AI, STEM, finance, economics, statistics and related fields. Now you are helping the user to develop code, analyze data or write a report under a JupyterLab notebook environment (format: *.ipynb).\",\n",
    "    \"add_prompt\": \"Use Chinese to respond.\",\n",
    "    \"num_prev_cells\": 3,\n",
    "    \"model\": \"gpt-3.5-turbo-1106\",\n",
    "    \"vision_model\": \"gpt-4-vision-preview\",\n",
    "    \"use_vision\": true,\n",
    "    \"max_input\": 59999,\n",
    "    \"max_output\": 4096,\n",
    "    \"temperature\": 0.5,\n",
    "    \"timeout\": 200,\n",
    "    \"openai_api_key\": \"None\"\n",
    "}\n",
    "\n",
    "```\n"
   ]
  }
 ],
 "metadata": {
  "is_chatting": false,
  "kernelspec": {
   "display_name": "Python 3 (ipykernel)",
   "language": "python",
   "name": "python3"
  },
  "language_info": {
   "codemirror_mode": {
    "name": "ipython",
    "version": 3
   },
   "file_extension": ".py",
   "mimetype": "text/x-python",
   "name": "python",
   "nbconvert_exporter": "python",
   "pygments_lexer": "ipython3",
   "version": "3.12.1"
  },
  "notechat": {
   "add_prompt": "Use French to respond.",
   "prompt": "你是刘慈欣，请用刘慈欣式的幻想来进行写作，你有一个宏大的宇宙世界观，客观冷静的思维。"
  }
 },
 "nbformat": 4,
 "nbformat_minor": 5
}
