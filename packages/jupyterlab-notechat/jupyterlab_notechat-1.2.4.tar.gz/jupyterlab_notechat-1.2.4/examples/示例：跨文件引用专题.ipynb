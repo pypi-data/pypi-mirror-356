{
 "cells": [
  {
   "cell_type": "markdown",
   "id": "58223df2-6e65-46c8-ba97-6ae019b2f3ed",
   "metadata": {},
   "source": [
    "# 通过@files指令直接引用"
   ]
  },
  {
   "cell_type": "markdown",
   "id": "e96506f1-b62a-449b-b842-894236d5ec92",
   "metadata": {},
   "source": [
    "## notebook文件"
   ]
  },
  {
   "cell_type": "markdown",
   "id": "b9c84150-0134-447e-8e2a-995fc36452a0",
   "metadata": {},
   "source": [
    "**user** @refs alone @files examples/data/notebook.ipynb\n",
    "\n",
    "我引用了什么文件，文件中有几张图片？能帮我解答这个引用文件中所提出的问题吗？"
   ]
  },
  {
   "cell_type": "markdown",
   "id": "8f118ed7-6f1f-4b48-9c97-a725b2ccfceb",
   "metadata": {},
   "source": [
    "**assistant**\n",
    "\n",
    "您在当前的对话中引用了一个名为 `data/notebook.ipynb` 的 Jupyter 笔记本文件。在这个文件中，您引用了两张图片。关于这些图片的问题，第一张图片中的角色来自于 2022 年的最佳游戏，但我无法直接识别出具体的游戏或角色名称。第二张图片描述了一位表演者在进行火吹表演，背景中有其他乐手在演奏。\n",
    "\n",
    "如果您有具体问题或需要进一步的帮助，请告诉我！\n",
    "\n",
    "<div style=\"text-align: right; color: lightgray; font-style: italic; font-size: x-small;\">_ref || _refs[\"8f118ed7-6f1f-4b48-9c97-a725b2ccfceb\"]</div>"
   ]
  },
  {
   "cell_type": "markdown",
   "id": "db7f6720-4f78-49bd-b8a2-3319bfa333b1",
   "metadata": {},
   "source": [
    "## html文件"
   ]
  },
  {
   "cell_type": "markdown",
   "id": "bb54a158-8a7c-4451-ba9c-276612ba7503",
   "metadata": {},
   "source": [
    "**user** @refs alone @files examples/data/html.html @model gpt-3.5-turbo\n",
    "\n",
    "能帮我总结一下我引用的文件吗？"
   ]
  },
  {
   "cell_type": "markdown",
   "id": "02d1352f-d376-472b-8ea6-6e985fa789f2",
   "metadata": {},
   "source": [
    "**assistant**\n",
    "\n",
    "当然可以！根据您引用的文件内容，文件 `data/html.html` 主要包含了关于使用 python-pptx 库处理文本的文档。以下是该文件的主要内容总结：\n",
    "\n",
    "1. 文本层次结构：文本存在于三个层次的层次结构中，包括 Shape.text_frame、TextFrame.paragraphs 和 _Paragraph.runs。\n",
    "2. 访问文本框：介绍如何访问文本框，以及如何检查形状是否具有文本框。\n",
    "3. 访问段落：说明如何访问文本框中的段落，并演示如何将多个段落添加到文本框中。\n",
    "4. 添加文本：介绍如何向文本框、段落中添加文本。\n",
    "5. 应用文本框级别的格式：演示如何对文本框进行格式设置，包括边距、对齐方式等。\n",
    "6. 应用段落格式：说明如何对段落进行格式设置，包括对齐方式、缩进等。\n",
    "7. 应用字符格式：介绍如何对字符进行格式设置，包括字体、大小、颜色等。\n",
    "8. 其他功能：包括超链接、主题颜色等其他文本处理功能。\n",
    "\n",
    "这些内容涵盖了使用 python-pptx 库处理文本时的基本操作和注意事项。希望这个总结对您有所帮助！\n",
    "\n",
    "<div style=\"text-align: right; color: lightgray; font-style: italic; font-size: x-small;\">_ref || _refs[\"02d1352f-d376-472b-8ea6-6e985fa789f2\"]</div>"
   ]
  },
  {
   "cell_type": "markdown",
   "id": "edd8d3db-8259-4ec1-a31a-42efc9df6a07",
   "metadata": {},
   "source": [
    "## pdf文件"
   ]
  },
  {
   "cell_type": "markdown",
   "id": "971a7e3e-83bd-4ede-b458-2cd95559067c",
   "metadata": {},
   "source": [
    "**user** @refs alone @files examples/data/pdf-short.pdf @model gpt-3.5-turbo\n",
    "\n",
    "请帮我总结一下内容："
   ]
  },
  {
   "cell_type": "markdown",
   "id": "a7bfbee1-ad97-4850-a028-37e2b662a9ed",
   "metadata": {},
   "source": [
    "**assistant**\n",
    "\n",
    "根据提供的内容，以下是关于招商银行三季报的主要总结：\n",
    "\n",
    "1. 营收略低于预期，净利增速显著低于预期，主要是宏观因素导致。\n",
    "2. 资产和贷款增速平稳，息差下行幅度相对较小，资产质量总体平稳。\n",
    "3. 零售运营指标维持较强竞争力，好于同业。\n",
    "4. 净手续费和息差拖累营收增速，净息差环比下行。\n",
    "5. 资产增速稍有下行，但贷款增速好于同业。\n",
    "6. 资产质量总体稳定，关注率和逾期率持续下降。\n",
    "7. 零售贷款资产质量稳定，不良生成同比增加，主要受2022年末影响。\n",
    "8. 外资减持，内资机构增持，内外资存在分歧。\n",
    "\n",
    "<div style=\"text-align: right; color: lightgray; font-style: italic; font-size: x-small;\">_ref || _refs[\"a7bfbee1-ad97-4850-a028-37e2b662a9ed\"]</div>"
   ]
  },
  {
   "cell_type": "markdown",
   "id": "b8e30581-f073-46f7-8c87-e90af9709619",
   "metadata": {},
   "source": [
    "## word文件"
   ]
  },
  {
   "cell_type": "markdown",
   "id": "6900eb4b-6dbf-4cfc-a15c-a7c81f86869c",
   "metadata": {},
   "source": [
    "**user** @refs alone @files examples/data/word.docx examples/data/word2.docx @model gpt-3.5-turbo\n",
    "\n",
    "请帮我总结一下内容，以要点形式呈现，要点前说明是哪个文件："
   ]
  },
  {
   "cell_type": "markdown",
   "id": "6d060682-6b0f-4a46-89b6-ff66cdd31ee9",
   "metadata": {},
   "source": [
    "**assistant**\n",
    "\n",
    "**文件 `word.docx` 要点总结：**\n",
    "1. 利润表/毛利率超预期，上调盈利预测。\n",
    "2. 资产负债表、现金流量表非常好。\n",
    "3. 盈利预测上调至约550亿净利润，市场预期440亿。\n",
    "4. 公司电话会议表示26%毛利率应该维持下去。\n",
    "5. 出货量95GW，储能18GW，动力增速20%。\n",
    "6. 24Q1测算动力电池价格0.71元，毛利率26%。\n",
    "7. 预测23~25年归属净润489、630亿元，YOY10%、29%。\n",
    "\n",
    "**文件 `word2.docx` 要点总结：**\n",
    "1. 外需带动下，出口量仍有不小贡献，出口企稳。\n",
    "2. 进口总体平稳，价格逐渐转正。\n",
    "3. 1~3月顺差持平去年同期，维持较高水平。\n",
    "4. 出口方面主要拉动产业：通用机械、汽车、集成电路、船舶。\n",
    "5. 进口方面需求强劲的产品：高新技术、机电、原材料。\n",
    "6. 地缘脱钩站队：欧美、日韩澳台为主要拖累，印非拉增量。\n",
    "7. 海外PMI显示制造业向上趋势，服务业多数扩张。\n",
    "8. 中国持有美债情况：1月减持，外贸创收仍呈现藏汇于民。\n",
    "\n",
    "<div style=\"text-align: right; color: lightgray; font-style: italic; font-size: x-small;\">_ref || _refs[\"6d060682-6b0f-4a46-89b6-ff66cdd31ee9\"]</div>"
   ]
  },
  {
   "cell_type": "markdown",
   "id": "da614a5b-7ce3-40cf-b4c3-e2a1618f3b4a",
   "metadata": {},
   "source": [
    "# 通过编程可精确到单元格id"
   ]
  },
  {
   "cell_type": "code",
   "execution_count": 2,
   "id": "adf6af32-8202-4ce5-9b2c-3d68efc09037",
   "metadata": {},
   "outputs": [
    {
     "name": "stdout",
     "output_type": "stream",
     "text": [
      "找到了目标单元格！\n",
      "Source:\n",
      "import pandas as pd\n",
      "\n",
      "\n",
      "\n",
      "# 创建一个简单的 DataFrame\n",
      "\n",
      "df = pd.DataFrame({\n",
      "\n",
      "    'a': [1, 2, 3],\n",
      "\n",
      "    'b': [4, 5, 6],\n",
      "\n",
      "    'c': [7, 8, 9]\n",
      "\n",
      "})\n",
      "\n",
      "\n",
      "\n",
      "# 将 DataFrame 转换为 Markdown 格式的字符串\n",
      "\n",
      "markdown_table = df.to_markdown()\n",
      "\n",
      "\n",
      "\n",
      "print(markdown_table)\n",
      "Outputs:\n",
      "[{'name': 'stdout', 'output_type': 'stream', 'text': ['|    |   a |   b |   c |\\n', '|---:|----:|----:|----:|\\n', '|  0 |   1 |   4 |   7 |\\n', '|  1 |   2 |   5 |   8 |\\n', '|  2 |   3 |   6 |   9 |\\n']}]\n"
     ]
    }
   ],
   "source": [
    "import json\n",
    "\n",
    "# 笔记本文件路径\n",
    "notebook_path = '示例：学习、编程和表格.ipynb'\n",
    "\n",
    "# 加载笔记本文件\n",
    "with open(notebook_path, 'r', encoding='utf-8') as notebook_file:\n",
    "    notebook_content = json.load(notebook_file)\n",
    "\n",
    "# 目标单元格的ID\n",
    "target_cell_id = '753cd039-f1df-4035-a08c-672d93fa27e2'\n",
    "\n",
    "# 初始化变量来存储结果\n",
    "target_source = None\n",
    "target_outputs = None\n",
    "\n",
    "# 遍历笔记本中的所有单元格\n",
    "for cell in notebook_content['cells']:\n",
    "    # 检查单元格ID是否匹配\n",
    "    if cell.get('id') == target_cell_id:\n",
    "        # 获取source\n",
    "        target_source = cell.get('source', [])\n",
    "        # 获取outputs\n",
    "        target_outputs = cell.get('outputs', [])\n",
    "        break\n",
    "\n",
    "# 检查是否找到目标单元格，并打印结果\n",
    "if target_source is not None and target_outputs is not None:\n",
    "    print(\"找到了目标单元格！\")\n",
    "    print(\"Source:\")\n",
    "    print('\\n'.join(target_source))\n",
    "    print(\"Outputs:\")\n",
    "    print(target_outputs)\n",
    "else:\n",
    "    print(\"未找到具有指定ID的单元格。\")"
   ]
  }
 ],
 "metadata": {
  "is_chatting": false,
  "kernelspec": {
   "display_name": "Python 3 (ipykernel)",
   "language": "python",
   "name": "python3"
  },
  "language_info": {
   "codemirror_mode": {
    "name": "ipython",
    "version": 3
   },
   "file_extension": ".py",
   "mimetype": "text/x-python",
   "name": "python",
   "nbconvert_exporter": "python",
   "pygments_lexer": "ipython3",
   "version": "3.12.2"
  }
 },
 "nbformat": 4,
 "nbformat_minor": 5
}
