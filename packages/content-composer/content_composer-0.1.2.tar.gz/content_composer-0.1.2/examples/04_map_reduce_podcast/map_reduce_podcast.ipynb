{
 "cells": [
  {
   "cell_type": "markdown",
   "id": "c0d3991d",
   "metadata": {},
   "source": [
    "# Podcast with Map Reduce\n",
    "\n",
    "This example introduces the Map Reduce pattern and the text-to-speech task.\n",
    "The map reduce pattern is useful to run parallel activities which are then combined into a final result.\n",
    "In this case, we use it to generate audio for each phrase in the transcript and then combine them into a final podcast."
   ]
  },
  {
   "cell_type": "code",
   "execution_count": 1,
   "id": "94e28a37",
   "metadata": {},
   "outputs": [
    {
     "name": "stderr",
     "output_type": "stream",
     "text": [
      "\u001b[32m2025-06-20 17:48:43.095\u001b[0m | \u001b[1mINFO    \u001b[0m | \u001b[36mcontent_composer.registry.registry\u001b[0m:\u001b[36minitialize\u001b[0m:\u001b[36m26\u001b[0m - \u001b[1mFunction registry initialized with 0 functions\u001b[0m\n"
     ]
    },
    {
     "data": {
      "text/plain": [
       "True"
      ]
     },
     "execution_count": 1,
     "metadata": {},
     "output_type": "execute_result"
    }
   ],
   "source": [
    "from audio_processing import split_transcript, combine_audio_files\n",
    "\n",
    "from content_composer.registry import RegistryScope, get_registry\n",
    "\n",
    "registry = get_registry()\n",
    "    \n",
    "# Register the function in the registry\n",
    "registry.register(\n",
    "    identifier=\"split_transcript\",\n",
    "    function=split_transcript,\n",
    "    description=\"Splits a transcript into phrases with speaker and voice information\",\n",
    "    tags=[\"transcript\", \"splitting\", \"audio\"],\n",
    ")\n",
    "\n",
    "registry.register(\n",
    "    identifier=\"combine_audio_files\",\n",
    "    function=combine_audio_files,\n",
    "    description=\"Combines individual audio files into a single podcast audio file\",\n",
    "    tags=[\"audio\", \"combining\", \"podcast\"]\n",
    ")\n",
    "    \n"
   ]
  },
  {
   "cell_type": "code",
   "execution_count": 2,
   "id": "6f129a00",
   "metadata": {},
   "outputs": [
    {
     "data": {
      "text/plain": [
       "Recipe(name='Podcast Generation Test', user_inputs=[UserInput(id='briefing', label='Briefing', type='text', description='The briefing for the podcast', default=\"Let's talk about ...\", required=True, literal_values=None), UserInput(id='output_filename', label='Output Filename for Podcast', type='string', description='Desired filename for the final combined podcast audio (e.g., podcast_episode.mp3).', default='podcast_test_output.mp3', required=True, literal_values=None), UserInput(id='default_voice_id', label='Voice ID for Speaker A / Fallback Default', type='string', description='Voice ID for Speaker A, and fallback for any unmapped speakers.', default='wbZYPUM3zIb4exd1P7a0', required=True, literal_values=None), UserInput(id='speaker_b_voice_id', label='Voice ID for Speaker B', type='string', description='Enter the voice ID to use for Speaker B.', default='CwhRBWXzGAHq8TQ4Fs17', required=True, literal_values=None)], nodes=[Node(id='generate_transcript', type=<NodeType.LANGUAGE_TASK: 'language_task'>, description=None, prompt='You are an AI assisted specialized in creating podcast transcripts.\\nThe user has provided you with a briefing on what the episode needs to look like.\\nYou will create a transcript based on the briefing.\\nThe transcript will be used to generate the podcast audio.\\nThe podcast will have at least 10 turns of messages between the speakers.\\n\\nBriefing:\\n{{ briefing }} \\n\\nFormat Instructions: \\nThe transcript should be in the following format:\\n```\\nSpeaker A: some text\\nSpeaker B: some text\\n``` \\nAlways alternating between speakers.\\nYou MUST use Speaker A and Speaker B. Do not replace this with names or anything else.\\n\\nExample Transcript:\\n```\\nSpeaker A: This is the first line for speaker A.\\nSpeaker A: Another line for speaker A.\\nSpeaker B: Speaker B now talking.\\nSpeaker A: Speaker A back again for a short bit.\\nSpeaker C: And a new speaker, C, chimes in.\\n``` \\n', model=ModelConfig(provider='openrouter', model='x-ai/grok-3-beta', temperature=0.7), function_identifier=None, input={'briefing': 'briefing'}, output='full_transcript', recipe_path=None, input_mapping=None, output_mapping=None, map_task_definition=None, map_over_key=None, map_on_error='halt', map_execution_mode='parallel'), Node(id='perform_text_split', type=<NodeType.FUNCTION_TASK: 'function_task'>, description=None, prompt=None, model=None, function_identifier='split_transcript', input={'transcript': '{{ full_transcript }}', 'voice_mapping': \"{{ {'Speaker A': default_voice_id, 'Speaker B': speaker_b_voice_id} }}\", 'default_voice_id': '{{ default_voice_id }}'}, output='transcription_phrases_result', recipe_path=None, input_mapping=None, output_mapping=None, map_task_definition=None, map_over_key=None, map_on_error='halt', map_execution_mode='parallel'), Node(id='generate_audio_for_phrases', type=<NodeType.MAP: 'map'>, description=None, prompt=None, model=None, function_identifier=None, input={'default_voice_id': '{{ default_voice_id }}'}, output='all_individual_audio_segment_data', recipe_path=None, input_mapping=None, output_mapping=None, map_task_definition=MapTaskConfig(type=<NodeType.TEXT_TO_SPEECH_TASK: 'text_to_speech_task'>, input={'text': 'text', 'voice': 'voice_id'}, output='individual_audio_path', model=ModelConfig(provider='elevenlabs', model='eleven_multilingual_v2', temperature=None), prompt=None, function_identifier=None), map_over_key='transcription_phrases_result.phrases', map_on_error='halt', map_execution_mode='parallel'), Node(id='combine_podcast_audio', type=<NodeType.REDUCE: 'reduce'>, description=None, prompt=None, model=None, function_identifier='combine_audio_files', input={'audio_segments_data': '{{ all_individual_audio_segment_data }}', 'final_filename': '{{ output_filename }}'}, output='final_podcast_details', recipe_path=None, input_mapping=None, output_mapping=None, map_task_definition=None, map_over_key=None, map_on_error='halt', map_execution_mode='parallel')], edges=['generate_transcript to perform_text_split', 'perform_text_split to generate_audio_for_phrases', 'generate_audio_for_phrases to combine_podcast_audio'], final_outputs=None)"
      ]
     },
     "execution_count": 2,
     "metadata": {},
     "output_type": "execute_result"
    }
   ],
   "source": [
    "from content_composer import parse_recipe, execute_workflow\n",
    "\n",
    "# workflows can be defined in multiple formats, this example uses a json file\n",
    "recipe = parse_recipe(\"./full_podcast.yaml\")\n",
    "recipe"
   ]
  },
  {
   "cell_type": "code",
   "execution_count": 3,
   "id": "35d6563e",
   "metadata": {},
   "outputs": [
    {
     "name": "stderr",
     "output_type": "stream",
     "text": [
      "\u001b[32m2025-06-20 17:48:55.859\u001b[0m | \u001b[1mINFO    \u001b[0m | \u001b[36maudio_processing\u001b[0m:\u001b[36msplit_transcript\u001b[0m:\u001b[36m25\u001b[0m - \u001b[1m[Core Function] split_transcript called. Voice Mapping: {'Speaker A': 'wbZYPUM3zIb4exd1P7a0', 'Speaker B': 'CwhRBWXzGAHq8TQ4Fs17'}, Default Voice ID: wbZYPUM3zIb4exd1P7a0\u001b[0m\n",
      "\u001b[32m2025-06-20 17:48:55.861\u001b[0m | \u001b[1mINFO    \u001b[0m | \u001b[36maudio_processing\u001b[0m:\u001b[36msplit_transcript\u001b[0m:\u001b[36m79\u001b[0m - \u001b[1msplit_transcript: Successfully split transcript into 19 phrases.\u001b[0m\n",
      "\u001b[32m2025-06-20 17:49:48.421\u001b[0m | \u001b[1mINFO    \u001b[0m | \u001b[36maudio_processing\u001b[0m:\u001b[36mcombine_audio_files\u001b[0m:\u001b[36m94\u001b[0m - \u001b[1m[Core Function] combine_audio_files called.\u001b[0m\n"
     ]
    },
    {
     "name": "stdout",
     "output_type": "stream",
     "text": [
      "MoviePy - Writing audio in output/audio/podcast_test_output.mp3\n"
     ]
    },
    {
     "name": "stderr",
     "output_type": "stream",
     "text": [
      "\u001b[32m2025-06-20 17:49:51.221\u001b[0m | \u001b[1mINFO    \u001b[0m | \u001b[36maudio_processing\u001b[0m:\u001b[36mcombine_audio_files\u001b[0m:\u001b[36m159\u001b[0m - \u001b[1mSuccessfully combined audio to: /Users/luisnovo/dev/projetos/content-composer/examples/04_map_reduce_podcast/output/audio/podcast_test_output.mp3\u001b[0m\n"
     ]
    },
    {
     "name": "stdout",
     "output_type": "stream",
     "text": [
      "MoviePy - Done.\n"
     ]
    }
   ],
   "source": [
    "inputs = {\"briefing\": \"Joana is an experienced journalist and she is interviewing Marc, who believes we are leaving in a simulation\", \n",
    "    \"default_voice_id\": \"wbZYPUM3zIb4exd1P7a0\", \n",
    "    \"speaker_b_voice_id\": \"CwhRBWXzGAHq8TQ4Fs17\"}\n",
    "\n",
    "outputs = await execute_workflow(\n",
    "    recipe,\n",
    "    inputs\n",
    ")\n"
   ]
  },
  {
   "cell_type": "code",
   "execution_count": 4,
   "id": "77c76e89",
   "metadata": {},
   "outputs": [
    {
     "data": {
      "text/plain": [
       "{'briefing': 'Joana is an experienced journalist and she is interviewing Marc, who believes we are leaving in a simulation',\n",
       " 'default_voice_id': 'wbZYPUM3zIb4exd1P7a0',\n",
       " 'speaker_b_voice_id': 'CwhRBWXzGAHq8TQ4Fs17',\n",
       " 'output_filename': 'podcast_test_output.mp3',\n",
       " 'full_transcript': '```\\nSpeaker A: Welcome to today’s episode of \"Beyond Reality.\" I’m thrilled to have Marc with us, someone who has a very unique perspective on the nature of our existence. Marc, thanks for joining us.\\nSpeaker B: Thanks for having me. I’m excited to dive into this topic.\\nSpeaker A: So, Marc, let’s start with the big idea. You believe we’re living in a simulation. Can you explain what that means to you?\\nSpeaker B: Absolutely. The simulation hypothesis suggests that what we perceive as reality is actually a highly advanced computer simulation, kind of like a super-sophisticated video game. Everything we experience—our world, our emotions, even our thoughts—could be coded by a higher intelligence or civilization.\\nSpeaker A: That’s a mind-bending concept. What first led you to consider this possibility?\\nSpeaker B: It started with some of the quirks in physics, like the way quantum mechanics operates with probabilities or how certain constants in the universe seem fine-tuned. Then I came across the work of philosophers like Nick Bostrom, who argues that if advanced civilizations can create simulations, it’s statistically more likely we’re in one than not.\\nSpeaker A: Interesting. So, you’re saying the very laws of nature might be hints of a programmed reality. But isn’t that a leap? Couldn’t those quirks just be part of a natural universe we don’t fully understand yet?\\nSpeaker B: It could be, sure. But think about the rapid advancements in our own technology. We’re already creating virtual realities that are incredibly immersive. If we project that forward a few centuries—or even millennia—it’s not hard to imagine a civilization capable of simulating entire worlds, complete with conscious beings who think they’re real.\\nSpeaker A: That does make you wonder about the future of tech. But let’s talk about the evidence—or lack thereof. What’s something tangible that supports this idea for you?\\nSpeaker B: One thing I point to is the concept of computational limits. Some scientists have suggested that if we’re in a simulation, there might be a “pixelation” or a fundamental limit to how much detail reality can have—like the Planck scale in physics. It’s almost as if the universe has a resolution limit, which could imply it’s being rendered.\\nSpeaker A: That’s a fascinating angle. But couldn’t that just be the natural boundary of physics as we know it? How do we distinguish between a designed limit and a natural one?\\nSpeaker B: That’s the million-dollar question. Honestly, we can’t—yet. But there are experiments being proposed, like looking for signs of computational errors or glitches in reality. If we ever detect something like that, it could be a smoking gun for the simulation hypothesis.\\nSpeaker A: Glitches in reality—now that sounds like something out of a sci-fi movie! Let’s pivot a bit. If we are in a simulation, does that change how you live your life or view your purpose?\\nSpeaker B: It does, in a way. If this is a simulation, I start to wonder about the “programmers” or the purpose behind it. Are we part of an experiment? A game? It makes me more curious about exploring the rules of this reality and pushing boundaries to see what’s possible.\\nSpeaker A: That’s a really thought-provoking perspective. I think a lot of listeners might wonder, though—if we can’t prove or disprove this, does it even matter? Why should the average person care if we’re in a simulation or not?\\nSpeaker B: I think it matters because it challenges our assumptions about free will, morality, and existence itself. If we’re simulated, do our choices really belong to us? Are there consequences beyond this reality? It’s not just academic—it’s deeply personal.\\nSpeaker A: That’s a powerful point. Before we wrap up, Marc, what’s one thing you’d want our listeners to take away from this idea of living in a simulation?\\nSpeaker B: I’d say keep questioning. Don’t take reality at face value. Whether we’re in a simulation or not, the act of exploring these big ideas helps us understand ourselves and our place in the universe a',\n",
       " 'transcription_phrases_result': {'phrases': [{'text': '```',\n",
       "    'speaker': 'Unknown Speaker',\n",
       "    'voice_id': 'wbZYPUM3zIb4exd1P7a0'},\n",
       "   {'text': 'Welcome to today’s episode of \"Beyond Reality.\" I’m thrilled to have Marc with us, someone who has a very unique perspective on the nature of our existence. Marc, thanks for joining us.',\n",
       "    'speaker': 'Speaker A',\n",
       "    'voice_id': 'wbZYPUM3zIb4exd1P7a0'},\n",
       "   {'text': 'Thanks for having me. I’m excited to dive into this topic.',\n",
       "    'speaker': 'Speaker B',\n",
       "    'voice_id': 'CwhRBWXzGAHq8TQ4Fs17'},\n",
       "   {'text': 'So, Marc, let’s start with the big idea. You believe we’re living in a simulation. Can you explain what that means to you?',\n",
       "    'speaker': 'Speaker A',\n",
       "    'voice_id': 'wbZYPUM3zIb4exd1P7a0'},\n",
       "   {'text': 'Absolutely. The simulation hypothesis suggests that what we perceive as reality is actually a highly advanced computer simulation, kind of like a super-sophisticated video game. Everything we experience—our world, our emotions, even our thoughts—could be coded by a higher intelligence or civilization.',\n",
       "    'speaker': 'Speaker B',\n",
       "    'voice_id': 'CwhRBWXzGAHq8TQ4Fs17'},\n",
       "   {'text': 'That’s a mind-bending concept. What first led you to consider this possibility?',\n",
       "    'speaker': 'Speaker A',\n",
       "    'voice_id': 'wbZYPUM3zIb4exd1P7a0'},\n",
       "   {'text': 'It started with some of the quirks in physics, like the way quantum mechanics operates with probabilities or how certain constants in the universe seem fine-tuned. Then I came across the work of philosophers like Nick Bostrom, who argues that if advanced civilizations can create simulations, it’s statistically more likely we’re in one than not.',\n",
       "    'speaker': 'Speaker B',\n",
       "    'voice_id': 'CwhRBWXzGAHq8TQ4Fs17'},\n",
       "   {'text': 'Interesting. So, you’re saying the very laws of nature might be hints of a programmed reality. But isn’t that a leap? Couldn’t those quirks just be part of a natural universe we don’t fully understand yet?',\n",
       "    'speaker': 'Speaker A',\n",
       "    'voice_id': 'wbZYPUM3zIb4exd1P7a0'},\n",
       "   {'text': 'It could be, sure. But think about the rapid advancements in our own technology. We’re already creating virtual realities that are incredibly immersive. If we project that forward a few centuries—or even millennia—it’s not hard to imagine a civilization capable of simulating entire worlds, complete with conscious beings who think they’re real.',\n",
       "    'speaker': 'Speaker B',\n",
       "    'voice_id': 'CwhRBWXzGAHq8TQ4Fs17'},\n",
       "   {'text': 'That does make you wonder about the future of tech. But let’s talk about the evidence—or lack thereof. What’s something tangible that supports this idea for you?',\n",
       "    'speaker': 'Speaker A',\n",
       "    'voice_id': 'wbZYPUM3zIb4exd1P7a0'},\n",
       "   {'text': 'One thing I point to is the concept of computational limits. Some scientists have suggested that if we’re in a simulation, there might be a “pixelation” or a fundamental limit to how much detail reality can have—like the Planck scale in physics. It’s almost as if the universe has a resolution limit, which could imply it’s being rendered.',\n",
       "    'speaker': 'Speaker B',\n",
       "    'voice_id': 'CwhRBWXzGAHq8TQ4Fs17'},\n",
       "   {'text': 'That’s a fascinating angle. But couldn’t that just be the natural boundary of physics as we know it? How do we distinguish between a designed limit and a natural one?',\n",
       "    'speaker': 'Speaker A',\n",
       "    'voice_id': 'wbZYPUM3zIb4exd1P7a0'},\n",
       "   {'text': 'That’s the million-dollar question. Honestly, we can’t—yet. But there are experiments being proposed, like looking for signs of computational errors or glitches in reality. If we ever detect something like that, it could be a smoking gun for the simulation hypothesis.',\n",
       "    'speaker': 'Speaker B',\n",
       "    'voice_id': 'CwhRBWXzGAHq8TQ4Fs17'},\n",
       "   {'text': 'Glitches in reality—now that sounds like something out of a sci-fi movie! Let’s pivot a bit. If we are in a simulation, does that change how you live your life or view your purpose?',\n",
       "    'speaker': 'Speaker A',\n",
       "    'voice_id': 'wbZYPUM3zIb4exd1P7a0'},\n",
       "   {'text': 'It does, in a way. If this is a simulation, I start to wonder about the “programmers” or the purpose behind it. Are we part of an experiment? A game? It makes me more curious about exploring the rules of this reality and pushing boundaries to see what’s possible.',\n",
       "    'speaker': 'Speaker B',\n",
       "    'voice_id': 'CwhRBWXzGAHq8TQ4Fs17'},\n",
       "   {'text': 'That’s a really thought-provoking perspective. I think a lot of listeners might wonder, though—if we can’t prove or disprove this, does it even matter? Why should the average person care if we’re in a simulation or not?',\n",
       "    'speaker': 'Speaker A',\n",
       "    'voice_id': 'wbZYPUM3zIb4exd1P7a0'},\n",
       "   {'text': 'I think it matters because it challenges our assumptions about free will, morality, and existence itself. If we’re simulated, do our choices really belong to us? Are there consequences beyond this reality? It’s not just academic—it’s deeply personal.',\n",
       "    'speaker': 'Speaker B',\n",
       "    'voice_id': 'CwhRBWXzGAHq8TQ4Fs17'},\n",
       "   {'text': 'That’s a powerful point. Before we wrap up, Marc, what’s one thing you’d want our listeners to take away from this idea of living in a simulation?',\n",
       "    'speaker': 'Speaker A',\n",
       "    'voice_id': 'wbZYPUM3zIb4exd1P7a0'},\n",
       "   {'text': 'I’d say keep questioning. Don’t take reality at face value. Whether we’re in a simulation or not, the act of exploring these big ideas helps us understand ourselves and our place in the universe a',\n",
       "    'speaker': 'Speaker B',\n",
       "    'voice_id': 'CwhRBWXzGAHq8TQ4Fs17'}]},\n",
       " 'all_individual_audio_segment_data': ['/Users/luisnovo/dev/projetos/content-composer/output/audio/2f35253f-db4c-45ec-ad67-cd6bec0f16b6_eleven_multilingual_v2_wbZYPUM3zIb4exd1P7a0.mp3',\n",
       "  '/Users/luisnovo/dev/projetos/content-composer/output/audio/ec9896c5-6ca3-4db7-9312-e725fd005e5f_eleven_multilingual_v2_wbZYPUM3zIb4exd1P7a0.mp3',\n",
       "  '/Users/luisnovo/dev/projetos/content-composer/output/audio/398ed78a-7d11-48d1-b2f7-bf05441f8c3c_eleven_multilingual_v2_CwhRBWXzGAHq8TQ4Fs17.mp3',\n",
       "  '/Users/luisnovo/dev/projetos/content-composer/output/audio/360c6ce0-d3eb-4705-a1c1-c3b067ac65b9_eleven_multilingual_v2_wbZYPUM3zIb4exd1P7a0.mp3',\n",
       "  '/Users/luisnovo/dev/projetos/content-composer/output/audio/50e9cfab-097d-4530-b4c5-729f74f65402_eleven_multilingual_v2_CwhRBWXzGAHq8TQ4Fs17.mp3',\n",
       "  '/Users/luisnovo/dev/projetos/content-composer/output/audio/ea1c9c6e-008e-47b3-8fdc-b203b150d820_eleven_multilingual_v2_wbZYPUM3zIb4exd1P7a0.mp3',\n",
       "  '/Users/luisnovo/dev/projetos/content-composer/output/audio/167eb552-39a4-499f-9191-acd743f0f779_eleven_multilingual_v2_CwhRBWXzGAHq8TQ4Fs17.mp3',\n",
       "  '/Users/luisnovo/dev/projetos/content-composer/output/audio/a9e2b3d7-22ba-4232-a45e-d413f5723ff0_eleven_multilingual_v2_wbZYPUM3zIb4exd1P7a0.mp3',\n",
       "  '/Users/luisnovo/dev/projetos/content-composer/output/audio/11eaf884-1c56-40f8-98e2-76d3ebf2ad0c_eleven_multilingual_v2_CwhRBWXzGAHq8TQ4Fs17.mp3',\n",
       "  '/Users/luisnovo/dev/projetos/content-composer/output/audio/77c8ad30-fff9-47c0-8f90-3170739da182_eleven_multilingual_v2_wbZYPUM3zIb4exd1P7a0.mp3',\n",
       "  '/Users/luisnovo/dev/projetos/content-composer/output/audio/44f5b98f-aef8-43f7-a570-5a3a1b41f3b9_eleven_multilingual_v2_CwhRBWXzGAHq8TQ4Fs17.mp3',\n",
       "  '/Users/luisnovo/dev/projetos/content-composer/output/audio/9170a020-9fef-41ec-9905-70270ab02b9e_eleven_multilingual_v2_wbZYPUM3zIb4exd1P7a0.mp3',\n",
       "  '/Users/luisnovo/dev/projetos/content-composer/output/audio/bdbee4de-e5e1-4015-9a77-cc2f066d8630_eleven_multilingual_v2_CwhRBWXzGAHq8TQ4Fs17.mp3',\n",
       "  '/Users/luisnovo/dev/projetos/content-composer/output/audio/aee1bb09-969f-4474-8ecb-3ab0e2d9afbe_eleven_multilingual_v2_wbZYPUM3zIb4exd1P7a0.mp3',\n",
       "  '/Users/luisnovo/dev/projetos/content-composer/output/audio/d4189b11-4563-49d9-b858-10c9bf1d31b1_eleven_multilingual_v2_CwhRBWXzGAHq8TQ4Fs17.mp3',\n",
       "  '/Users/luisnovo/dev/projetos/content-composer/output/audio/885a7b0b-3589-4480-bad3-be176194835a_eleven_multilingual_v2_wbZYPUM3zIb4exd1P7a0.mp3',\n",
       "  '/Users/luisnovo/dev/projetos/content-composer/output/audio/161e3d08-2e77-413a-b139-9dc0540b7982_eleven_multilingual_v2_CwhRBWXzGAHq8TQ4Fs17.mp3',\n",
       "  '/Users/luisnovo/dev/projetos/content-composer/output/audio/30122c97-0cac-45bc-8323-5e9a915a670c_eleven_multilingual_v2_wbZYPUM3zIb4exd1P7a0.mp3',\n",
       "  '/Users/luisnovo/dev/projetos/content-composer/output/audio/d463f618-1ac5-416e-96f0-c77523238f34_eleven_multilingual_v2_CwhRBWXzGAHq8TQ4Fs17.mp3'],\n",
       " 'final_podcast_details': {'combined_audio_path': '/Users/luisnovo/dev/projetos/content-composer/examples/04_map_reduce_podcast/output/audio/podcast_test_output.mp3',\n",
       "  'original_segments_count': 19,\n",
       "  'total_duration_seconds': np.float64(238.51000000000005)}}"
      ]
     },
     "execution_count": 4,
     "metadata": {},
     "output_type": "execute_result"
    }
   ],
   "source": [
    "outputs"
   ]
  },
  {
   "cell_type": "code",
   "execution_count": 10,
   "id": "5c3c42ad",
   "metadata": {},
   "outputs": [
    {
     "data": {
      "text/plain": [
       "'podcast_test_output.mp3'"
      ]
     },
     "execution_count": 10,
     "metadata": {},
     "output_type": "execute_result"
    }
   ],
   "source": [
    "outputs[\"final_podcast_details\"][\"combined_audio_path\"].split(\"/\")[-1]"
   ]
  }
 ],
 "metadata": {
  "kernelspec": {
   "display_name": ".venv",
   "language": "python",
   "name": "python3"
  },
  "language_info": {
   "codemirror_mode": {
    "name": "ipython",
    "version": 3
   },
   "file_extension": ".py",
   "mimetype": "text/x-python",
   "name": "python",
   "nbconvert_exporter": "python",
   "pygments_lexer": "ipython3",
   "version": "3.10.6"
  }
 },
 "nbformat": 4,
 "nbformat_minor": 5
}
