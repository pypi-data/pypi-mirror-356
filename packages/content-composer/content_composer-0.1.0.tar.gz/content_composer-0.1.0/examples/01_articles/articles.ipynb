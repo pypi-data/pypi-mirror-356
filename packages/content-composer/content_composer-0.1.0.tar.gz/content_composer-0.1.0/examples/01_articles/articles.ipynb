{
 "cells": [
  {
   "cell_type": "markdown",
   "id": "35fe6198",
   "metadata": {},
   "source": [
    "# Article Writing"
   ]
  },
  {
   "cell_type": "markdown",
   "id": "5463bd79",
   "metadata": {},
   "source": [
    "This will be the most basic example you could create. \n",
    "You just define what type of input is accepted and use a language_task to query a AI model for a response.\n",
    "\n",
    "```json\n",
    "{\n",
    "  \"recipe\": {\n",
    "    \"name\": \"Simple Article Generation\",\n",
    "    \"user_inputs\": [\n",
    "      {\n",
    "        \"id\": \"topic\",\n",
    "        \"label\": \"Topic of the article\",\n",
    "        \"type\": \"string\",\n",
    "        \"default\": \"The future of AI and its impact on society\"\n",
    "      }\n",
    "    ],\n",
    "    \"nodes\": [\n",
    "      {\n",
    "        \"id\": \"generate_article\",\n",
    "        \"type\": \"language_task\",\n",
    "        \"model\": {\"provider\": \"openai\", \"model\": \"gpt-4o-mini\", \"temperature\": 0.7},\n",
    "        \"prompt\": \"Write a well-structured article about {{topic}}. Make it engaging and informative.\"\n",
    "      }\n",
    "    ]\n",
    "  }\n",
    "}\n",
    "```"
   ]
  },
  {
   "cell_type": "code",
   "execution_count": 1,
   "id": "136a756f",
   "metadata": {},
   "outputs": [
    {
     "name": "stderr",
     "output_type": "stream",
     "text": [
      "\u001b[32m2025-06-20 17:07:16.528\u001b[0m | \u001b[1mINFO    \u001b[0m | \u001b[36mcontent_composer.registry.registry\u001b[0m:\u001b[36minitialize\u001b[0m:\u001b[36m26\u001b[0m - \u001b[1mFunction registry initialized with 0 functions\u001b[0m\n"
     ]
    },
    {
     "data": {
      "text/plain": [
       "Recipe(name='Simple Article Generation', user_inputs=[UserInput(id='topic', label='Topic of the article', type='string', description=None, default='The future of AI and its impact on society', required=True, literal_values=None)], nodes=[Node(id='generate_article', type=<NodeType.LANGUAGE_TASK: 'language_task'>, description=None, prompt='Write a well-structured article about {{topic}}. Make it engaging and informative.', model=ModelConfig(provider='openai', model='gpt-4o-mini', temperature=0.7), function_identifier=None, input=None, output='generate_article', recipe_path=None, input_mapping=None, output_mapping=None, map_task_definition=None, map_over_key=None, map_on_error='halt', map_execution_mode='parallel')], edges=None, final_outputs=None)"
      ]
     },
     "execution_count": 1,
     "metadata": {},
     "output_type": "execute_result"
    }
   ],
   "source": [
    "from content_composer import parse_recipe, execute_workflow\n",
    "\n",
    "# workflows can be defined in multiple formats, this example uses a json file\n",
    "recipe = parse_recipe(\"./article.json\")\n",
    "recipe"
   ]
  },
  {
   "cell_type": "markdown",
   "id": "e50c72e5",
   "metadata": {},
   "source": [
    "Now, you just execute the workflow."
   ]
  },
  {
   "cell_type": "code",
   "execution_count": 2,
   "id": "941eb388",
   "metadata": {},
   "outputs": [
    {
     "data": {
      "text/plain": [
       "{'topic': 'The future of AI and its impact on society',\n",
       " 'generate_article': \"# The Future of AI and Its Impact on Society\\n\\nArtificial Intelligence (AI) has rapidly evolved from a niche technology into a pervasive force that is reshaping industries and daily life. As we look toward the future, it is essential to consider not only the advancements on the horizon but also the profound implications these developments will have on society as a whole. In this article, we will explore the future of AI, its potential benefits, challenges, and the ethical considerations that accompany its growth.\\n\\n## The Promise of AI: Transforming Industries\\n\\n### 1. Healthcare Revolution\\n\\nOne of the most promising areas for AI application is healthcare. With advancements in machine learning and data analytics, AI has the potential to revolutionize patient diagnosis and treatment. For instance, AI algorithms can analyze medical images with remarkable accuracy, enabling early detection of conditions such as cancer. Personalized medicine, powered by AI, will allow for tailored treatments based on a patient’s unique genetic makeup.\\n\\n### 2. Automation and Productivity\\n\\nThe future of work is undeniably intertwined with AI. Automation technologies are poised to enhance productivity across various sectors. Tasks that are repetitive and time-consuming can be managed by AI systems, freeing human workers to focus on more complex and creative endeavors. Industries like manufacturing, logistics, and customer service are already witnessing the benefits of AI-driven automation.\\n\\n### 3. Education and Personalized Learning\\n\\nAI's impact on education is equally transformative. By harnessing AI, educators can create personalized learning experiences that cater to the individual needs of students. Adaptive learning platforms can assess a student's progress in real time and adjust instructional strategies accordingly. This could lead to improved educational outcomes and greater equity in learning opportunities.\\n\\n## Navigating the Challenges\\n\\n### 1. Job Displacement\\n\\nWhile AI presents numerous opportunities, it also raises concerns about job displacement. As automation replaces certain roles, workers may find themselves at risk of unemployment. It is crucial for policymakers and businesses to proactively address this challenge through reskilling and upskilling initiatives. The focus should be on preparing the workforce for the jobs of the future, which will likely involve collaboration between humans and machines.\\n\\n### 2. Privacy and Security\\n\\nAs AI systems increasingly rely on vast amounts of data, concerns surrounding privacy and security will intensify. The collection and use of personal data raise ethical questions about consent and ownership. Ensuring robust data protection measures and transparent AI practices will be vital in maintaining public trust and safeguarding individuals' rights.\\n\\n### 3. Bias and Fairness\\n\\nAI algorithms are only as good as the data they are trained on. If the training data is biased, the AI system may produce discriminatory outcomes. Addressing bias in AI is imperative to ensure fairness and equity. Researchers and developers must prioritize inclusivity in data collection and create guidelines to evaluate and mitigate bias in AI systems.\\n\\n## Ethical Considerations: A Collective Responsibility\\n\\nAs AI continues to advance, ethical considerations will play a crucial role in its development and implementation. The responsibility for ethical AI lies not only with technologists but also with governments, businesses, and society at large. Establishing ethical frameworks, regulations, and standards is essential to guide the responsible use of AI.\\n\\n### 1. Transparency and Accountability\\n\\nFor AI systems to be trusted, they must be transparent. Stakeholders should be able to understand how AI makes decisions and the factors influencing those decisions. This transparency fosters accountability, allowing for redress in cases of harm or unfair outcomes.\\n\\n### 2. Inclusivity in Development\\n\\nInvolving diverse voices in the development of AI technologies is critical. Engaging various stakeholders—experts, policymakers, ethicists, and representatives from marginalized communities—ensures that AI systems are designed with a comprehensive understanding of societal implications.\\n\\n## Conclusion: Embracing a Collaborative Future\\n\\nThe future of AI holds great promise, offering opportunities to enhance various facets of our lives. However, the path forward is not without its challenges. As we continue to innovate and integrate AI into society, it is essential to foster collaboration among all stakeholders. By prioritizing ethical considerations, embracing inclusivity, and proactively addressing challenges, we can shape a future where AI benefits humanity as a whole. Together, we can navigate the complexities of this transformative technology, ensuring that it serves as a force\"}"
      ]
     },
     "execution_count": 2,
     "metadata": {},
     "output_type": "execute_result"
    }
   ],
   "source": [
    "inputs = {\"topic\": \"The future of AI and its impact on society\"}\n",
    "outputs = await execute_workflow(\n",
    "    recipe,\n",
    "    inputs\n",
    ")\n",
    "outputs"
   ]
  },
  {
   "cell_type": "markdown",
   "id": "73f128d8",
   "metadata": {},
   "source": [
    "## Using Composition\n",
    "\n",
    "In this example, we will reuse the article_writing recipe and extend it with a AI review to enhance its quality. This pipeline introduces some cool concepts, like composition and imports. \n",
    "\n",
    "Notice we are importing the model definitions from the common.yaml file. This is a common pattern in Content Composer recipes. But you can also create definitions in the same recipe file, which is the case with the prompt. We are using the @ symbol to reference the imported definitions. \n",
    "\n",
    "Also, notice the new type of node, recipe. This is a special node that allows you to reuse a full recipe as a part of another recipe. \n",
    "\n",
    "```yaml\n",
    "imports:\n",
    "  - \"common.yaml\"\n",
    "\n",
    "# Recipe-specific definitions\n",
    "definitions:\n",
    "  expand_article_prompt: |\n",
    "    Take the following draft article and expand it significantly. Add more details, examples, and flesh out the sections. \n",
    "    \n",
    "    Draft Article:\n",
    "    {{draft_article}}\n",
    "\n",
    "recipe:\n",
    "  name: Better Article Generation with Expansion\n",
    "  user_inputs:\n",
    "    - id: topic\n",
    "      label: \"The main topic of the article\"\n",
    "      type: text\n",
    "      description: \"The main topic of the article\"\n",
    "  nodes:\n",
    "    - id: generate_initial_article\n",
    "      type: recipe\n",
    "      description: \"Generate initial article using the article.yaml recipe\"\n",
    "      recipe_path: \"article.json\"\n",
    "      input_mapping:\n",
    "        topic: topic\n",
    "      output_mapping:\n",
    "        draft_article: generate_article\n",
    "      output: draft_article\n",
    "    - id: expand_article\n",
    "      type: language_task\n",
    "      model: \"@reviewer\"\n",
    "      prompt: \"@expand_article_prompt\"\n",
    "      input:\n",
    "        draft_article: draft_article\n",
    "      output: final_article\n",
    "  edges:\n",
    "    - \"generate_initial_article to expand_article\"\n",
    "  final_outputs:\n",
    "    - final_article\n",
    "```\n"
   ]
  },
  {
   "cell_type": "code",
   "execution_count": 3,
   "id": "a1bc1c61",
   "metadata": {},
   "outputs": [
    {
     "data": {
      "text/plain": [
       "{'final_article': '# The Future of AI and Its Impact on Society\\n\\nArtificial Intelligence (AI) has transcended the realm of science fiction to become an integral part of our daily lives. Once a futuristic fantasy, AI now powers the smart assistants in our homes, like Amazon Alexa and Google Assistant, curates the content we see on social media platforms like Instagram and TikTok, and even influences critical decisions in industries ranging from healthcare to finance. As we stand on the cusp of a technological revolution, it is vital to delve deeper into the future of AI, exploring not only its potential to reshape society but also the challenges and responsibilities that come with such profound change.\\n\\nThis article aims to provide a comprehensive look at AI\\'s trajectory by examining its historical evolution, transformative applications across various sectors, ethical dilemmas, and the importance of robust governance. By understanding these facets, we can better prepare for a future where AI plays an even more dominant role in shaping human experiences.\\n\\n## The Evolution of AI: From Theory to Reality\\n\\nTo fully grasp the future of AI, it is essential to reflect on its remarkable journey over the past several decades. The concept of AI was first formalized in the mid-20th century, with pioneers like Alan Turing laying the theoretical groundwork through ideas like the Turing Test, which assessed a machine\\'s ability to exhibit intelligent behavior indistinguishable from a human. The 1956 Dartmouth Conference marked the official birth of AI as a field of study, where early researchers optimistically believed that machines could simulate human intelligence within a few decades.\\n\\nInitially, AI was limited to basic problem-solving and game-playing algorithms, such as the programs that mastered checkers in the 1950s. However, progress was slow due to computational constraints and a lack of data. The field experienced cycles of hype and disillusionment, often referred to as \"AI winters,\" where funding and interest waned. It wasn’t until the late 1990s and early 2000s, with the advent of powerful computers and the internet, that AI began to gain traction. IBM’s Deep Blue defeating world chess champion Garry Kasparov in 1997 was a landmark moment, showcasing AI\\'s potential to outperform human expertise in specific domains.\\n\\nThe real game-changer came with the rise of deep learning in the 2010s, a subset of machine learning that mimics the neural structure of the human brain. Fueled by vast datasets and enhanced computing power, deep learning enabled breakthroughs in areas like natural language processing (NLP), computer vision, and generative AI. Today, systems like OpenAI’s ChatGPT can engage in human-like conversations, while AI-driven image recognition powers everything from facial recognition software to autonomous vehicles. Moreover, AI is now venturing into creative fields, with tools like DALL-E generating stunning artwork and algorithms composing music that rivals human compositions. This evolution from rudimentary logic-based systems to multifaceted, adaptive technologies sets the stage for even more transformative advancements in the years ahead.\\n\\n## Transformative Applications of AI\\n\\nAI\\'s potential to revolutionize various sectors is vast, promising improvements in efficiency, accessibility, and quality of life. Below are detailed explorations of how AI is poised to reshape key areas of society.\\n\\n### 1. Healthcare Revolution: Precision and Accessibility\\n\\nOne of the most promising arenas for AI is healthcare, where it could fundamentally alter how we prevent, diagnose, and treat diseases. AI algorithms are already demonstrating remarkable capabilities in early disease detection. For instance, Google Health’s AI system can analyze mammograms to detect breast cancer with accuracy comparable to, or even surpassing, human radiologists. Similarly, AI tools are being used to predict cardiovascular risks by analyzing patterns in patient data that might escape the human eye.\\n\\nBeyond diagnostics, AI is enabling personalized medicine by tailoring treatments to individual genetic profiles. Companies like IBM Watson Health use AI to analyze vast medical databases and recommend customized treatment plans for cancer patients. Additionally, AI-powered wearable devices, such as smartwatches that monitor heart rates and detect irregularities, empower individuals to take proactive control of their health.\\n\\nOn the administrative side, AI streamlines hospital operations by automating tasks like patient scheduling, billing, and medical coding, which reduces costs and allows healthcare professionals to focus on patient care. Virtual health assistants, powered by AI, provide 24/'}"
      ]
     },
     "execution_count": 3,
     "metadata": {},
     "output_type": "execute_result"
    }
   ],
   "source": [
    "new_recipe = parse_recipe(\"better_article.yaml\")\n",
    "inputs = {\"topic\": \"The future of AI and its impact on society\"}\n",
    "outputs = await execute_workflow(\n",
    "    new_recipe,\n",
    "    inputs\n",
    ")\n",
    "outputs"
   ]
  }
 ],
 "metadata": {
  "kernelspec": {
   "display_name": ".venv",
   "language": "python",
   "name": "python3"
  },
  "language_info": {
   "codemirror_mode": {
    "name": "ipython",
    "version": 3
   },
   "file_extension": ".py",
   "mimetype": "text/x-python",
   "name": "python",
   "nbconvert_exporter": "python",
   "pygments_lexer": "ipython3",
   "version": "3.10.6"
  }
 },
 "nbformat": 4,
 "nbformat_minor": 5
}
