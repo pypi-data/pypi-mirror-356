{
 "cells": [
  {
   "cell_type": "markdown",
   "id": "d0238f93",
   "metadata": {},
   "source": [
    "# Perplexity Research"
   ]
  },
  {
   "cell_type": "markdown",
   "id": "96fea9ad",
   "metadata": {},
   "source": [
    "In this example, we will introduce the use of a custom function for researching in Perplexity.  The recipe also provides good examples of how to use the output of one node into the others and also how to reference an attribute in the response, like a dictionary (see the citations part in final_outputs)."
   ]
  },
  {
   "cell_type": "markdown",
   "id": "05e1a350",
   "metadata": {},
   "source": [
    "This recipe will use a custom function for researching in Perplexity. You can register the function in the registry with the decorator (see below) or via: \n",
    "\n",
    "```python\n",
    "from content_composer.registry import RegistryScope, get_registry\n",
    "registry = get_registry()\n",
    "registry.register(\n",
    "    identifier=\"extract_file_content\",\n",
    "    function=extract_file_content,\n",
    "    description=\"Extracts content from files using content_core library\",\n",
    "    tags=[\"file\", \"extraction\", \"content\"]\n",
    ")\n",
    "```"
   ]
  },
  {
   "cell_type": "markdown",
   "id": "c57092fb",
   "metadata": {},
   "source": [
    "In this case, let's go with the decorator"
   ]
  },
  {
   "cell_type": "code",
   "execution_count": 1,
   "id": "279c0acb",
   "metadata": {},
   "outputs": [
    {
     "name": "stderr",
     "output_type": "stream",
     "text": [
      "\u001b[32m2025-06-20 17:28:58.481\u001b[0m | \u001b[1mINFO    \u001b[0m | \u001b[36mcontent_composer.registry.registry\u001b[0m:\u001b[36minitialize\u001b[0m:\u001b[36m26\u001b[0m - \u001b[1mFunction registry initialized with 0 functions\u001b[0m\n"
     ]
    }
   ],
   "source": [
    "from content_composer.registry import register_function\n",
    "from typing import Any, Dict\n",
    "import os\n",
    "from loguru import logger\n",
    "import asyncio\n",
    "import requests\n",
    "\n",
    "@register_function(\n",
    "    identifier=\"perplexity_search\",\n",
    "    description=\"Perplexity search task\",\n",
    "    tags=[\"research\", \"search\", \"perplexity\"],\n",
    "    version=\"1.0.0\",\n",
    "    author=\"Your Name\"\n",
    ")\n",
    "async def perplexity_search_task(inputs: Dict[str, Any]) -> Dict[str, Any]:\n",
    "    \"\"\"\n",
    "    Performs a web search using Perplexity's API based on inputs.\n",
    "    Expected inputs: 'search_query' (str), 'recency' (str, optional), 'mode' (str, optional).\n",
    "    \"\"\"\n",
    "    search_query = inputs.get(\"search_query\")\n",
    "    recency = inputs.get(\"recency\")  # Optional\n",
    "    mode = inputs.get(\"mode\")  # Optional, defaults to 'fast' in underlying logic\n",
    "\n",
    "    if not search_query:\n",
    "        return {\"error\": \"'search_query' not provided for perplexity_search_task\"}\n",
    "\n",
    "    api_key = os.environ.get(\"PERPLEXITY_API_KEY\")\n",
    "    if not api_key:\n",
    "        logger.error(\"PERPLEXITY_API_KEY not found in environment variables.\")\n",
    "        return {\"error\": \"PERPLEXITY_API_KEY not set.\"}\n",
    "\n",
    "    url = \"https://api.perplexity.ai/chat/completions\"\n",
    "    pplx_model = \"sonar-reasoning-pro\" if mode == \"expert\" else \"sonar-pro\"\n",
    "\n",
    "    messages = [\n",
    "        {\n",
    "            \"role\": \"system\",\n",
    "            \"content\": \"You are a helpful AI assistant.\",  # Simplified system prompt for now, can be expanded\n",
    "        },\n",
    "        {\n",
    "            \"role\": \"user\",\n",
    "            \"content\": search_query,\n",
    "        },\n",
    "    ]\n",
    "    payload = {\n",
    "        \"model\": pplx_model,\n",
    "        \"messages\": messages,\n",
    "        \"max_tokens\": 3500,  # Made integer\n",
    "        \"temperature\": 0.7,\n",
    "        \"top_p\": 0.9,\n",
    "        \"return_citations\": True,\n",
    "        \"return_images\": False,\n",
    "        \"return_related_questions\": False,\n",
    "    }\n",
    "    if recency:\n",
    "        payload[\"search_recency_filter\"] = recency\n",
    "\n",
    "    headers = {\n",
    "        \"Authorization\": f\"Bearer {api_key}\",\n",
    "        \"Content-Type\": \"application/json\",\n",
    "    }\n",
    "\n",
    "    response = await asyncio.to_thread(\n",
    "        requests.post, url, json=payload, headers=headers\n",
    "    )\n",
    "    response.raise_for_status()  # Raise an exception for HTTP errors (4xx or 5xx)\n",
    "\n",
    "    response_json = response.json()\n",
    "    content = (\n",
    "        response_json.get(\"choices\", [{}])[0].get(\"message\", {}).get(\"content\")\n",
    "    )\n",
    "\n",
    "    if content is None:\n",
    "        return {\n",
    "            \"error\": \"Perplexity API query failed to return content.\",\n",
    "            \"details\": response_json,\n",
    "        }\n",
    "    return {\"content\": content, \"citations\": response_json.get(\"citations\", [])}\n"
   ]
  },
  {
   "cell_type": "code",
   "execution_count": 2,
   "id": "75de2533",
   "metadata": {},
   "outputs": [
    {
     "data": {
      "text/plain": [
       "Recipe(name='AI News Summary via Perplexity', user_inputs=[UserInput(id='main_topic', label='Main Topic for Context (e.g., Generative AI)', type='string', description=None, default=None, required=True, literal_values=None), UserInput(id='research_instructions', label='Instructions for the research', type='text', description=None, default=None, required=True, literal_values=None), UserInput(id='summary_instructions', label='Instructions for the summary', type='text', description=None, default=None, required=True, literal_values=None), UserInput(id='recency', label='Recency', type='literal', description=None, default='week', required=True, literal_values=['day', 'week', 'month', 'year', 'any']), UserInput(id='mode', label='Mode of the news', type='literal', description=None, default='fast', required=True, literal_values=['fast', 'deep'])], nodes=[Node(id='fetch_ai_news', type=<NodeType.FUNCTION_TASK: 'function_task'>, description=None, prompt=None, model=None, function_identifier='perplexity_search', input={'search_query': 'Please look for the latest news about {{main_topic}} - {{research_instructions}}', 'recency': '{{recency}}', 'mode': '{{mode}}'}, output='fetch_ai_news', recipe_path=None, input_mapping=None, output_mapping=None, map_task_definition=None, map_over_key=None, map_on_error='halt', map_execution_mode='parallel'), Node(id='summarize_news', type=<NodeType.LANGUAGE_TASK: 'language_task'>, description=None, prompt='You are an expert news analyst.\\nBased on the following research data, please provide a concise summary of the latest news about {{main_topic}}.\\nFocus on the most significant developments and their potential impact.\\n\\nResearch Data:\\n```json\\n{{fetch_ai_news.content}} \\n```\\n\\n{% if summary_instructions %}\\nPlease follow this instructions:\\n{{summary_instructions}}\\n{% endif %}\\n\\nNews Summary:', model=ModelConfig(provider='openai', model='gpt-4o-mini', temperature=0.7), function_identifier=None, input=None, output='summarize_news', recipe_path=None, input_mapping=None, output_mapping=None, map_task_definition=None, map_over_key=None, map_on_error='halt', map_execution_mode='parallel')], edges=['fetch_ai_news to summarize_news'], final_outputs=['summarize_news', 'fetch_ai_news.citations'])"
      ]
     },
     "execution_count": 2,
     "metadata": {},
     "output_type": "execute_result"
    }
   ],
   "source": [
    "from content_composer import parse_recipe, execute_workflow\n",
    "\n",
    "# workflows can be defined in multiple formats, this example uses a json file\n",
    "recipe = parse_recipe(\"./news_summary.json\")\n",
    "recipe"
   ]
  },
  {
   "cell_type": "code",
   "execution_count": 3,
   "id": "da4d5720",
   "metadata": {},
   "outputs": [],
   "source": [
    "inputs = {\"main_topic\": \"The future of AI and its impact on society\", \n",
    "    \"research_instructions\": \"Focus on the impact this will have on the job market\", \n",
    "    \"summary_instructions\": \"Summarize as if you are talking to a journlist\", \n",
    "    \"recency\": \"month\", \n",
    "    \"mode\": \"deep\"}\n",
    "outputs = await execute_workflow(\n",
    "    recipe,\n",
    "    inputs\n",
    ")"
   ]
  },
  {
   "cell_type": "code",
   "execution_count": 4,
   "id": "723082d0",
   "metadata": {},
   "outputs": [
    {
     "data": {
      "text/plain": [
       "{'summarize_news': '**News Summary: The Future of AI and Its Impact on Society**\\n\\nRecent developments in artificial intelligence (AI) are reshaping the job market, presenting both challenges and opportunities across various sectors. As AI technologies like ChatGPT become more prevalent, roles susceptible to automation—particularly in IT and knowledge work—are facing significant disruption. Job postings for high-exposure roles have seen a decline of up to 31%, with forecasts suggesting that AI could eliminate as much as half of all entry-level white-collar positions within the next five years, potentially pushing unemployment rates to between 10% and 20%.\\n\\nConversely, the demand for AI-related skills is rising, leading to higher wages for workers adept in these technologies. A recent report from PwC indicates that wages in AI-exposed industries are increasing at double the rate of those less affected, highlighting a wage premium for skilled professionals. This \"AI-driven skills earthquake\" necessitates rapid role redefinitions and emphasizes the importance of reskilling and upskilling to navigate the changing landscape.\\n\\nSector-specific impacts reveal that while industries such as finance and technology are adapting and even creating new job opportunities, roles requiring human interaction remain relatively insulated from AI-induced job losses. Experts predict that while certain jobs may disappear, new ones will emerge, suggesting a less catastrophic overall effect if organizations and governments invest in training programs to prepare the workforce for this AI-dominated future.\\n\\nIn summary, the trajectory of AI is accelerating job market transformations, necessitating an adaptive response from both workers and institutions to harness the benefits while mitigating potential risks.',\n",
       " 'fetch_ai_news.citations': ['https://www.dallasfed.org/research/economics/2025/0603',\n",
       "  'https://www.pwc.com/gx/en/issues/artificial-intelligence/ai-jobs-barometer.html',\n",
       "  'https://www.axios.com/2025/05/28/ai-jobs-white-collar-unemployment-anthropic',\n",
       "  'https://www.kaggle.com/datasets/bismasajjad/global-ai-job-market-and-salary-trends-2025',\n",
       "  'https://www.businessinsider.com/ai-hiring-white-collar-recession-jobs-tech-new-data-2025-6']}"
      ]
     },
     "execution_count": 4,
     "metadata": {},
     "output_type": "execute_result"
    }
   ],
   "source": [
    "outputs"
   ]
  }
 ],
 "metadata": {
  "kernelspec": {
   "display_name": ".venv",
   "language": "python",
   "name": "python3"
  },
  "language_info": {
   "codemirror_mode": {
    "name": "ipython",
    "version": 3
   },
   "file_extension": ".py",
   "mimetype": "text/x-python",
   "name": "python",
   "nbconvert_exporter": "python",
   "pygments_lexer": "ipython3",
   "version": "3.10.6"
  }
 },
 "nbformat": 4,
 "nbformat_minor": 5
}
