{
 "cells": [
  {
   "cell_type": "markdown",
   "id": "7b9cd8d9",
   "metadata": {},
   "source": [
    "# Processing a File\n",
    "\n",
    "In this example, we are defining a recipe on the go, without using a recipe file.\n",
    "We are also introducing a new input type: a file."
   ]
  },
  {
   "cell_type": "code",
   "execution_count": 4,
   "id": "2edd0552",
   "metadata": {},
   "outputs": [],
   "source": [
    "\n",
    "recipe_template = {\n",
    "  \"definitions\": {\n",
    "    \"document_summary_prompt\": \"Please summarize the following document content:\\n\\n---\\n{{extract_content.content}}\\n---\\n\\nSummary:\",\n",
    "    \"summarizer_model\": {\n",
    "      \"provider\": \"openai\",\n",
    "      \"model\": \"gpt-4o-mini\",\n",
    "      \"temperature\": 0.7,\n",
    "      \"max_tokens\": 1500\n",
    "    },\n",
    "  },\n",
    "\n",
    "  \"recipe\": {\n",
    "    \"name\": \"File Content Summarizer\",\n",
    "    \"user_inputs\": [\n",
    "      {\n",
    "        \"id\": \"document_to_summarize\",\n",
    "        \"label\": \"Document to summarize\",\n",
    "        \"type\": \"file\",\n",
    "        \"required\": True\n",
    "      }\n",
    "    ],\n",
    "    \"nodes\": [\n",
    "      {\n",
    "        \"id\": \"extract_content\",\n",
    "        \"type\": \"function_task\",\n",
    "        \"function_identifier\": \"extract_file_content\",\n",
    "        \"input\": {\n",
    "          \"file_path\": \"document_to_summarize\"\n",
    "        }\n",
    "      },\n",
    "      {\n",
    "        \"id\": \"summarize_document_content\",\n",
    "        \"type\": \"language_task\",\n",
    "        \"model\": \"@summarizer_model\",\n",
    "        \"prompt\": \"@document_summary_prompt\"\n",
    "      }\n",
    "    ],\n",
    "    \"edges\": [\n",
    "      \"extract_content to summarize_document_content\"\n",
    "    ],\n",
    "    \"final_outputs\": [\n",
    "      \"summarize_document_content\"\n",
    "    ]\n",
    "  }\n",
    "}\n"
   ]
  },
  {
   "cell_type": "code",
   "execution_count": null,
   "id": "b21c3b16",
   "metadata": {},
   "outputs": [
    {
     "name": "stderr",
     "output_type": "stream",
     "text": [
      "\u001b[32m2025-06-20 17:41:22.826\u001b[0m | \u001b[33m\u001b[1mWARNING \u001b[0m | \u001b[36mcontent_composer.registry.registry\u001b[0m:\u001b[36mregister\u001b[0m:\u001b[36m39\u001b[0m - \u001b[33m\u001b[1mFunction 'extract_file_content' already exists with higher/equal priority (core vs core)\u001b[0m\n"
     ]
    },
    {
     "data": {
      "text/plain": [
       "False"
      ]
     },
     "execution_count": 5,
     "metadata": {},
     "output_type": "execute_result"
    }
   ],
   "source": [
    "# let's use the content-core library to extract content from text and URL inputs\n",
    "# this will import the function for us to register here\n",
    "from file_processing import extract_file_content\n",
    "\n",
    "from content_composer.registry import RegistryScope, get_registry\n",
    "\n",
    "registry = get_registry()\n",
    "    \n",
    "# Register the function in the registry\n",
    "registry.register(\n",
    "    identifier=\"extract_file_content\",\n",
    "    function=extract_file_content,\n",
    "    description=\"Extracts content from files using content_core library\",\n",
    "    tags=[\"file\", \"extraction\", \"content\"],\n",
    ")\n",
    "    \n"
   ]
  },
  {
   "cell_type": "code",
   "execution_count": 6,
   "id": "e1898445",
   "metadata": {},
   "outputs": [
    {
     "data": {
      "text/plain": [
       "Recipe(name='File Content Summarizer', user_inputs=[UserInput(id='document_to_summarize', label='Document to summarize', type='file', description=None, default=None, required=True, literal_values=None)], nodes=[Node(id='extract_content', type=<NodeType.FUNCTION_TASK: 'function_task'>, description=None, prompt=None, model=None, function_identifier='extract_file_content', input={'file_path': 'document_to_summarize'}, output='extract_content', recipe_path=None, input_mapping=None, output_mapping=None, map_task_definition=None, map_over_key=None, map_on_error='halt', map_execution_mode='parallel'), Node(id='summarize_document_content', type=<NodeType.LANGUAGE_TASK: 'language_task'>, description=None, prompt='Please summarize the following document content:\\n\\n---\\n{{extract_content.content}}\\n---\\n\\nSummary:', model=ModelConfig(provider='openai', model='gpt-4o-mini', temperature=0.7), function_identifier=None, input=None, output='summarize_document_content', recipe_path=None, input_mapping=None, output_mapping=None, map_task_definition=None, map_over_key=None, map_on_error='halt', map_execution_mode='parallel')], edges=['extract_content to summarize_document_content'], final_outputs=['summarize_document_content'])"
      ]
     },
     "execution_count": 6,
     "metadata": {},
     "output_type": "execute_result"
    }
   ],
   "source": [
    "from content_composer import parse_recipe, execute_workflow\n",
    "\n",
    "# workflows can be defined in multiple formats, this example uses a json file\n",
    "recipe = parse_recipe(recipe_template)\n",
    "recipe"
   ]
  },
  {
   "cell_type": "code",
   "execution_count": 7,
   "id": "67f2b66f",
   "metadata": {},
   "outputs": [
    {
     "name": "stderr",
     "output_type": "stream",
     "text": [
      "\u001b[32m2025-06-20 17:41:23.159\u001b[0m | \u001b[1mINFO    \u001b[0m | \u001b[36mcontent_composer.core_functions.file_processing\u001b[0m:\u001b[36mextract_file_content\u001b[0m:\u001b[36m22\u001b[0m - \u001b[1m[Core Function] extract_file_content called with file: 2503.18238v1.pdf\u001b[0m\n",
      "/Users/luisnovo/dev/projetos/content-composer/.venv/lib/python3.10/site-packages/torch/utils/data/dataloader.py:683: UserWarning: 'pin_memory' argument is set as true but not supported on MPS now, then device pinned memory won't be used.\n",
      "  warnings.warn(warn_msg)\n",
      "/Users/luisnovo/dev/projetos/content-composer/.venv/lib/python3.10/site-packages/torch/utils/data/dataloader.py:683: UserWarning: 'pin_memory' argument is set as true but not supported on MPS now, then device pinned memory won't be used.\n",
      "  warnings.warn(warn_msg)\n",
      "/Users/luisnovo/dev/projetos/content-composer/.venv/lib/python3.10/site-packages/torch/utils/data/dataloader.py:683: UserWarning: 'pin_memory' argument is set as true but not supported on MPS now, then device pinned memory won't be used.\n",
      "  warnings.warn(warn_msg)\n",
      "/Users/luisnovo/dev/projetos/content-composer/.venv/lib/python3.10/site-packages/torch/utils/data/dataloader.py:683: UserWarning: 'pin_memory' argument is set as true but not supported on MPS now, then device pinned memory won't be used.\n",
      "  warnings.warn(warn_msg)\n",
      "\u001b[32m2025-06-20 17:44:34.470\u001b[0m | \u001b[1mINFO    \u001b[0m | \u001b[36mcontent_composer.core_functions.file_processing\u001b[0m:\u001b[36mextract_file_content\u001b[0m:\u001b[36m55\u001b[0m - \u001b[1mSuccessfully extracted content from 2503.18238v1.pdf\u001b[0m\n"
     ]
    }
   ],
   "source": [
    "\n",
    "inputs = {\"document_to_summarize\": \"2503.18238v1.pdf\",}\n",
    "outputs = await execute_workflow(\n",
    "    recipe,\n",
    "    inputs\n",
    ")"
   ]
  },
  {
   "cell_type": "code",
   "execution_count": 8,
   "id": "6fd064cd",
   "metadata": {},
   "outputs": [
    {
     "data": {
      "text/plain": [
       "{'summarize_document_content': 'The document titled \"Collaborating with AI Agents: Field Experiments on Teamwork, Productivity, and Performance\" by Harang Ju and Sinan Aral from MIT presents research on how AI agents influence productivity and collaboration in team settings. The study introduces a platform named MindMeld, designed for real-time collaboration between humans and AI agents, allowing for the analysis of communication, workflow, and productivity.\\n\\nIn a large-scale marketing experiment with 2,310 participants, teams were randomly assigned to either human-human or human-AI collaborations. The teams exchanged vast amounts of messages and created numerous advertisements, revealing that collaboration with AI agents led to a 137% increase in communication and allowed participants to focus more on content generation rather than editing. Specifically, Human-AI teams produced higher quality ad text while Human-Human teams excelled in image quality. \\n\\nThe findings indicated that AI agents can significantly enhance teamwork by reducing social coordination costs and allowing participants to concentrate on creative outputs. Additionally, the personality traits of both human collaborators and AI agents played a crucial role in the effectiveness of collaboration, with certain pairings yielding better outcomes.\\n\\nThe research also included field tests where ads generated by Human-AI teams performed comparably to those made by Human-Human teams in terms of click-through rates and cost-per-click, demonstrating the practical implications of integrating AI in collaborative environments. Overall, the study provides valuable insights into the dynamics of human-AI collaboration and the necessity for aligning AI design with human traits to maximize productivity and performance.'}"
      ]
     },
     "execution_count": 8,
     "metadata": {},
     "output_type": "execute_result"
    }
   ],
   "source": [
    "outputs"
   ]
  }
 ],
 "metadata": {
  "kernelspec": {
   "display_name": ".venv",
   "language": "python",
   "name": "python3"
  },
  "language_info": {
   "codemirror_mode": {
    "name": "ipython",
    "version": 3
   },
   "file_extension": ".py",
   "mimetype": "text/x-python",
   "name": "python",
   "nbconvert_exporter": "python",
   "pygments_lexer": "ipython3",
   "version": "3.10.6"
  }
 },
 "nbformat": 4,
 "nbformat_minor": 5
}
