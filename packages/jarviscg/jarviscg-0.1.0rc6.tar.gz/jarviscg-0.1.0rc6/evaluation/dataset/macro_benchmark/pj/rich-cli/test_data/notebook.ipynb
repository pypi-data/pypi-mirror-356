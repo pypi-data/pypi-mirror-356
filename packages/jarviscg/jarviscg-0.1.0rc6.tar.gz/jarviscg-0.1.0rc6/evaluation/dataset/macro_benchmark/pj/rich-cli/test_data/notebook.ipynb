{
 "cells": [
  {
   "cell_type": "markdown",
   "id": "9705e233-47a3-48a9-9331-0c8be3bcfece",
   "metadata": {},
   "source": [
    "# Jupyter Notebook\n",
    "## Introduction"
   ]
  },
  {
   "cell_type": "markdown",
   "id": "e76f77cc-5fdd-40cb-bf5e-ce72707a511b",
   "metadata": {},
   "source": [
    "This is a *Markdown* cell."
   ]
  },
  {
   "cell_type": "code",
   "execution_count": 1,
   "id": "6733a29a-d919-4285-b8fe-7c0406c52b5d",
   "metadata": {},
   "outputs": [
    {
     "name": "stdout",
     "output_type": "stream",
     "text": [
      "This is a code cell.\n"
     ]
    }
   ],
   "source": [
    "print(\"This is a code cell.\")"
   ]
  },
  {
   "cell_type": "code",
   "execution_count": 2,
   "id": "cb1b6061-1a48-4267-8fb3-f246e851a15f",
   "metadata": {},
   "outputs": [
    {
     "name": "stdout",
     "output_type": "stream",
     "text": [
      "Code cells can have outputs.\n"
     ]
    },
    {
     "data": {
      "text/plain": [
       "3"
      ]
     },
     "execution_count": 2,
     "metadata": {},
     "output_type": "execute_result"
    }
   ],
   "source": [
    "print(\"Code cells can have outputs.\")\n",
    "1 + 2"
   ]
  },
  {
   "cell_type": "code",
   "execution_count": 3,
   "id": "8be0183b-6a01-4334-bcd2-1ed624934dc8",
   "metadata": {},
   "outputs": [
    {
     "ename": "SyntaxError",
     "evalue": "unterminated string literal (detected at line 1) (289343476.py, line 1)",
     "output_type": "error",
     "traceback": [
      "\u001b[0;36m  Input \u001b[0;32mIn [3]\u001b[0;36m\u001b[0m\n\u001b[0;31m    print(\"Code cell execution can result in a syntax error)\u001b[0m\n\u001b[0m          ^\u001b[0m\n\u001b[0;31mSyntaxError\u001b[0m\u001b[0;31m:\u001b[0m unterminated string literal (detected at line 1)\n"
     ]
    }
   ],
   "source": [
    "print(\"Code cell execution can result in a syntax error)"
   ]
  },
  {
   "cell_type": "code",
   "execution_count": 4,
   "id": "1b2741fe-1522-4bdf-8fc6-fd252b8ac245",
   "metadata": {},
   "outputs": [
    {
     "ename": "NameError",
     "evalue": "name 'a' is not defined",
     "output_type": "error",
     "traceback": [
      "\u001b[0;31m---------------------------------------------------------------------------\u001b[0m",
      "\u001b[0;31mNameError\u001b[0m                                 Traceback (most recent call last)",
      "Input \u001b[0;32mIn [4]\u001b[0m, in \u001b[0;36m<cell line: 2>\u001b[0;34m()\u001b[0m\n\u001b[1;32m      1\u001b[0m \u001b[38;5;66;03m# Traceback are also supported\u001b[39;00m\n\u001b[0;32m----> 2\u001b[0m \u001b[43ma\u001b[49m\n",
      "\u001b[0;31mNameError\u001b[0m: name 'a' is not defined"
     ]
    }
   ],
   "source": [
    "# Traceback are also supported\n",
    "a"
   ]
  }
 ],
 "metadata": {
  "kernelspec": {
   "display_name": "Python 3 (ipykernel)",
   "language": "python",
   "name": "python3"
  },
  "language_info": {
   "codemirror_mode": {
    "name": "ipython",
    "version": 3
   },
   "file_extension": ".py",
   "mimetype": "text/x-python",
   "name": "python",
   "nbconvert_exporter": "python",
   "pygments_lexer": "ipython3",
   "version": "3.10.2"
  }
 },
 "nbformat": 4,
 "nbformat_minor": 5
}
