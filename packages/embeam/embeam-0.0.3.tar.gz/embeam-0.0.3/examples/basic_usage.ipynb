{
 "cells": [
  {
   "cell_type": "markdown",
   "id": "6bb7f461",
   "metadata": {},
   "source": [
    "# Basic usage of the ``embeam`` library #"
   ]
  },
  {
   "cell_type": "markdown",
   "id": "5d6d9cd7",
   "metadata": {},
   "source": [
    "## A NOTE BEFORE STARTING ##"
   ]
  },
  {
   "cell_type": "markdown",
   "id": "880421e9",
   "metadata": {},
   "source": [
    "Since the ``embeam`` git repository tracks this notebook under its original\n",
    "basename ``basic_usage.ipynb``, we recommend that you copy the original\n",
    "notebook and rename it to any other basename that is not one of the original\n",
    "basenames that appear in the ``<root>/examples`` directory before executing any\n",
    "of the notebook cells below, where ``<root>`` is the root of the ``embeam``\n",
    "repository. This way you can explore the notebook by executing and modifying\n",
    "cells without changing the original notebook, which is being tracked by git."
   ]
  },
  {
   "cell_type": "markdown",
   "id": "12b0d90e",
   "metadata": {},
   "source": [
    "## Import necessary modules ##"
   ]
  },
  {
   "cell_type": "code",
   "execution_count": null,
   "id": "e7f9787f",
   "metadata": {},
   "outputs": [],
   "source": [
    "# For special mathematical constants.\n",
    "import numpy as np\n",
    "\n",
    "# For setting various visualization parameters.\n",
    "import matplotlib as mpl\n",
    "import matplotlib.pyplot as plt\n",
    "\n",
    "\n",
    "\n",
    "# The library that is the subject of this demonstration.\n",
    "import embeam"
   ]
  },
  {
   "cell_type": "code",
   "execution_count": null,
   "id": "472dab64",
   "metadata": {},
   "outputs": [],
   "source": [
    "# Needed in order to have interactive hyperspy plots.\n",
    "%matplotlib auto\n",
    "%matplotlib auto"
   ]
  },
  {
   "cell_type": "markdown",
   "id": "e667d633",
   "metadata": {},
   "source": [
    "## Introduction ##"
   ]
  },
  {
   "cell_type": "markdown",
   "id": "ec7f2509",
   "metadata": {},
   "source": [
    "In this notebook, we demonstrate how one can use each function and class in the\n",
    "``embeam`` library.\n",
    "\n",
    "You can find the documentation for the ``embeam`` library\n",
    "[here](https://mrfitzpa.github.io/embeam/_autosummary/embeam.html).  It is\n",
    "recommended that you consult the documentation of this library as you explore\n",
    "the notebook. Moreover, users should execute the cells in the order that they\n",
    "appear, i.e. from top to bottom, as some cells reference variables that are set\n",
    "in other cells above them."
   ]
  },
  {
   "cell_type": "markdown",
   "id": "26ae26d8",
   "metadata": {},
   "source": [
    "## Using the ``embeam.wavelength`` function ##"
   ]
  },
  {
   "cell_type": "markdown",
   "id": "41bd2515",
   "metadata": {},
   "source": [
    "Calculate the relativistic electron beam wavelength from the energy of a\n",
    "coherent beam."
   ]
  },
  {
   "cell_type": "code",
   "execution_count": null,
   "id": "1a772bbd",
   "metadata": {},
   "outputs": [],
   "source": [
    "# Calculate the relativistic electron beam wavelength from the energy of a\n",
    "# coherent beam.\n",
    "mean_beam_energy = 20  # In units of keVs.\n",
    "wavelength = embeam.wavelength(beam_energy=mean_beam_energy)  # In units of Å.\n",
    "wavelength"
   ]
  },
  {
   "cell_type": "markdown",
   "id": "fd54e014",
   "metadata": {},
   "source": [
    "## Using the ``embeam.coherent.Aberration`` class ##"
   ]
  },
  {
   "cell_type": "markdown",
   "id": "01ce6e0d",
   "metadata": {},
   "source": [
    "Specify a set of coherent lens aberrations."
   ]
  },
  {
   "cell_type": "code",
   "execution_count": null,
   "id": "4362388c",
   "metadata": {},
   "outputs": [],
   "source": [
    "# Specify defocus.\n",
    "m = 2  # Radial order of aberration.\n",
    "n = 0  # Azimuthal order of aberration.\n",
    "df = -5000  # \"Magnitude\" of aberration in units of Å.\n",
    "C_2_0_mag = (2*np.pi*df)/(m*wavelength)  # \"Magnitude\" in dimensionless units.\n",
    "C_2_0_ang = 0  # \"Azimuthal phase\" of aberration.\n",
    "defocus_aberration = embeam.coherent.Aberration(m=m, \n",
    "                                                n=n, \n",
    "                                                C_mag=C_2_0_mag, \n",
    "                                                C_ang=C_2_0_ang)\n",
    "\n",
    "# Specify spherical aberration.\n",
    "m = 4  # Radial order of aberration.\n",
    "n = 0  # Azimuthal order of aberration.\n",
    "C_s = 8e-3/1e-10  # \"Magnitude\" of aberration in units of Å.\n",
    "C_4_0_mag = (2*np.pi*C_s)/(m*wavelength)  # \"Magnitude\" in dimensionless units.\n",
    "C_4_0_ang = 0  # \"Azimuthal phase\" of aberration.\n",
    "spherical_aberration = embeam.coherent.Aberration(m=m, \n",
    "                                                  n=n, \n",
    "                                                  C_mag=C_4_0_mag, \n",
    "                                                  C_ang=C_4_0_ang)\n",
    "\n",
    "# Specify 3-fold astigmatism.\n",
    "m = 3 # Radial order of aberration.\n",
    "n = 3 # Azimuthal order of aberration.\n",
    "C_3_3_mag = 75000  # \"Magnitude\" in dimensionless units.\n",
    "C_3_3_ang = 0.75  # \"Azimuthal phase\" of aberration.\n",
    "astigmatism_aberration = embeam.coherent.Aberration(m=m, \n",
    "                                                    n=n, \n",
    "                                                    C_mag=C_3_3_mag, \n",
    "                                                    C_ang=C_3_3_ang)"
   ]
  },
  {
   "cell_type": "markdown",
   "id": "70e491e4",
   "metadata": {},
   "source": [
    "Note that the ``embeam.coherent.Aberration`` class is \"updatable\",\n",
    "\"pre-serializable\", and \"de-pre-serializable\", as defined in the documentation\n",
    "of the ``fancytypes`` library. See\n",
    "[here](https://mrfitzpa.github.io/fancytypes/_build/html/index.html) for the\n",
    "documentation for the ``fancytypes`` library."
   ]
  },
  {
   "cell_type": "code",
   "execution_count": null,
   "id": "602f5255",
   "metadata": {},
   "outputs": [],
   "source": [
    "# An example of pre-serialization.\n",
    "serializable_rep = astigmatism_aberration.pre_serialize()\n",
    "serializable_rep"
   ]
  },
  {
   "cell_type": "code",
   "execution_count": null,
   "id": "ff08aeab",
   "metadata": {},
   "outputs": [],
   "source": [
    "# Reconstruct the object ``astigmatism_aberration`` via de-pre-serialization.\n",
    "astigmatism_aberration = \\\n",
    "    embeam.coherent.Aberration.de_pre_serialize(serializable_rep)"
   ]
  },
  {
   "cell_type": "markdown",
   "id": "0636ac16",
   "metadata": {},
   "source": [
    "Which aberrations above are azimuthally symmetric?"
   ]
  },
  {
   "cell_type": "code",
   "execution_count": null,
   "id": "42cee8df",
   "metadata": {},
   "outputs": [],
   "source": [
    "defocus_aberration.is_azimuthally_symmetric"
   ]
  },
  {
   "cell_type": "code",
   "execution_count": null,
   "id": "181cd248",
   "metadata": {},
   "outputs": [],
   "source": [
    "spherical_aberration.is_azimuthally_symmetric"
   ]
  },
  {
   "cell_type": "code",
   "execution_count": null,
   "id": "f1afd34a",
   "metadata": {},
   "outputs": [],
   "source": [
    "astigmatism_aberration.is_azimuthally_symmetric"
   ]
  },
  {
   "cell_type": "markdown",
   "id": "fa1807a4",
   "metadata": {},
   "source": [
    "Instances of classes that are derived from ``fancytypes`` classes store\n",
    "so-called \"core attributes\", which are attributes that are the same as the\n",
    "construction parameters, except that their values might have been updated since\n",
    "construction."
   ]
  },
  {
   "cell_type": "code",
   "execution_count": null,
   "id": "0f884672",
   "metadata": {},
   "outputs": [],
   "source": [
    "astigmatism_aberration.core_attrs"
   ]
  },
  {
   "cell_type": "markdown",
   "id": "ffe8b823",
   "metadata": {},
   "source": [
    "## Using the ``embeam.coherent.PhaseDeviation`` class ##"
   ]
  },
  {
   "cell_type": "markdown",
   "id": "791fdffb",
   "metadata": {},
   "source": [
    "Here we consider the phase deviations due to two different sets of coherent lens\n",
    "aberrations."
   ]
  },
  {
   "cell_type": "code",
   "execution_count": null,
   "id": "7a75bbe5",
   "metadata": {},
   "outputs": [],
   "source": [
    "azimuthally_symmetric_and_coherent_aberrations = \\\n",
    "    (defocus_aberration, spherical_aberration)\n",
    "kwargs = \\\n",
    "    {\"beam_energy\": mean_beam_energy, \n",
    "     \"coherent_aberrations\": azimuthally_symmetric_and_coherent_aberrations, \n",
    "     \"defocal_offset\": 0}\n",
    "azimuthally_symmetric_phase_deviation = \\\n",
    "    embeam.coherent.PhaseDeviation(**kwargs)\n",
    "\n",
    "azimuthally_asymmetric_and_coherent_aberrations = \\\n",
    "    (defocus_aberration, spherical_aberration, astigmatism_aberration)\n",
    "kwargs = \\\n",
    "    {\"beam_energy\": mean_beam_energy, \n",
    "     \"coherent_aberrations\": azimuthally_asymmetric_and_coherent_aberrations, \n",
    "     \"defocal_offset\": 0}\n",
    "azimuthally_asymmetric_phase_deviation = \\\n",
    "    embeam.coherent.PhaseDeviation(**kwargs)"
   ]
  },
  {
   "cell_type": "markdown",
   "id": "08d8d5d6",
   "metadata": {},
   "source": [
    "Note that the ``embeam.coherent.PhaseDeviation`` class is also updatable,\n",
    "pre-serializable, and de-pre-serializable."
   ]
  },
  {
   "cell_type": "markdown",
   "id": "4bd5af1d",
   "metadata": {},
   "source": [
    "Which phase deviations above are azimuthally symmetric?"
   ]
  },
  {
   "cell_type": "code",
   "execution_count": null,
   "id": "439b832c",
   "metadata": {},
   "outputs": [],
   "source": [
    "azimuthally_symmetric_phase_deviation.is_azimuthally_symmetric"
   ]
  },
  {
   "cell_type": "code",
   "execution_count": null,
   "id": "8b250f11",
   "metadata": {},
   "outputs": [],
   "source": [
    "azimuthally_asymmetric_phase_deviation.is_azimuthally_symmetric"
   ]
  },
  {
   "cell_type": "markdown",
   "id": "c11d8eb5",
   "metadata": {},
   "source": [
    "Evaluate the phase deviations at given Fourier coordinates."
   ]
  },
  {
   "cell_type": "code",
   "execution_count": null,
   "id": "1cb88152",
   "metadata": {},
   "outputs": [],
   "source": [
    "k_x = 0.01  # In units of 1/Å.\n",
    "k_y = 0.02  # In units of 1/Å.\n",
    "azimuthally_symmetric_phase_deviation.eval(k_x=k_x, k_y=k_y)"
   ]
  },
  {
   "cell_type": "code",
   "execution_count": null,
   "id": "2dc313a1",
   "metadata": {},
   "outputs": [],
   "source": [
    "azimuthally_asymmetric_phase_deviation.eval(k_x=k_x, k_y=k_y)"
   ]
  },
  {
   "cell_type": "markdown",
   "id": "81160bad",
   "metadata": {},
   "source": [
    "## Using the ``embeam.gun.ModelParams`` class ##"
   ]
  },
  {
   "cell_type": "markdown",
   "id": "18a6a64f",
   "metadata": {},
   "source": [
    "Here we consider the model parameters of one electron gun."
   ]
  },
  {
   "cell_type": "code",
   "execution_count": null,
   "id": "d68370d8",
   "metadata": {},
   "outputs": [],
   "source": [
    "intrinsic_energy_spread = 0.6e-3  # In units of keVs.\n",
    "accel_voltage_spread = 0  # In units of keVs.\n",
    "\n",
    "kwargs = {\"mean_beam_energy\": mean_beam_energy, \n",
    "          \"intrinsic_energy_spread\": intrinsic_energy_spread, \n",
    "          \"accel_voltage_spread\": accel_voltage_spread}\n",
    "gun_model_params = embeam.gun.ModelParams(**kwargs)"
   ]
  },
  {
   "cell_type": "markdown",
   "id": "b82772bd",
   "metadata": {},
   "source": [
    "Note that the ``embeam.gun.ModelParams`` class is also updatable,\n",
    "pre-serializable, and de-pre-serializable."
   ]
  },
  {
   "cell_type": "markdown",
   "id": "18af8530",
   "metadata": {},
   "source": [
    "## Using the ``embeam.lens.ModelParams`` class ##"
   ]
  },
  {
   "cell_type": "markdown",
   "id": "851b6b36",
   "metadata": {},
   "source": [
    "Here we consider the model parameters of four different lenses."
   ]
  },
  {
   "cell_type": "code",
   "execution_count": null,
   "id": "756697f9",
   "metadata": {},
   "outputs": [],
   "source": [
    "C_c_1 = 0  # In units of mm.\n",
    "C_c_2 = 8  # In units of mm.\n",
    "mean_current = 50  # In units of pA.\n",
    "std_dev_current = 0  # In units of pA.\n",
    "\n",
    "kwargs = \\\n",
    "    {\"coherent_aberrations\": azimuthally_symmetric_and_coherent_aberrations, \n",
    "     \"chromatic_aberration_coef\": C_c_1, \n",
    "     \"mean_current\": mean_current, \n",
    "     \"std_dev_current\": std_dev_current}\n",
    "azimuthally_symmetric_and_coherent_lens_model_params = \\\n",
    "    embeam.lens.ModelParams(**kwargs)\n",
    "\n",
    "kwargs = \\\n",
    "    {\"coherent_aberrations\": azimuthally_asymmetric_and_coherent_aberrations, \n",
    "     \"chromatic_aberration_coef\": C_c_1, \n",
    "     \"mean_current\": mean_current, \n",
    "     \"std_dev_current\": std_dev_current}\n",
    "azimuthally_asymmetric_and_coherent_lens_model_params = \\\n",
    "    embeam.lens.ModelParams(**kwargs)\n",
    "\n",
    "kwargs = \\\n",
    "    {\"coherent_aberrations\": azimuthally_symmetric_and_coherent_aberrations, \n",
    "     \"chromatic_aberration_coef\": C_c_2, \n",
    "     \"mean_current\": mean_current, \n",
    "     \"std_dev_current\": std_dev_current}\n",
    "azimuthally_symmetric_and_incoherent_lens_model_params = \\\n",
    "    embeam.lens.ModelParams(**kwargs)\n",
    "\n",
    "kwargs = \\\n",
    "    {\"coherent_aberrations\": azimuthally_asymmetric_and_coherent_aberrations, \n",
    "     \"chromatic_aberration_coef\": C_c_2, \n",
    "     \"mean_current\": mean_current, \n",
    "     \"std_dev_current\": std_dev_current}\n",
    "azimuthally_asymmetric_and_incoherent_lens_model_params = \\\n",
    "    embeam.lens.ModelParams(**kwargs)"
   ]
  },
  {
   "cell_type": "markdown",
   "id": "032a4453",
   "metadata": {},
   "source": [
    "Note that the ``embeam.lens.ModelParams`` class is also updatable,\n",
    "pre-serializable, and de-pre-serializable."
   ]
  },
  {
   "cell_type": "markdown",
   "id": "268f5047",
   "metadata": {},
   "source": [
    "Which lenses, specified by the model parameters, will form probes that are\n",
    "azimuthally symmetric?"
   ]
  },
  {
   "cell_type": "code",
   "execution_count": null,
   "id": "e98dd8c7",
   "metadata": {},
   "outputs": [],
   "source": [
    "azimuthally_symmetric_and_coherent_lens_model_params.is_azimuthally_symmetric"
   ]
  },
  {
   "cell_type": "code",
   "execution_count": null,
   "id": "a4b747dc",
   "metadata": {},
   "outputs": [],
   "source": [
    "azimuthally_asymmetric_and_coherent_lens_model_params.is_azimuthally_symmetric"
   ]
  },
  {
   "cell_type": "code",
   "execution_count": null,
   "id": "d1528d80",
   "metadata": {},
   "outputs": [],
   "source": [
    "azimuthally_symmetric_and_incoherent_lens_model_params.is_azimuthally_symmetric"
   ]
  },
  {
   "cell_type": "code",
   "execution_count": null,
   "id": "cf6002fc",
   "metadata": {},
   "outputs": [],
   "source": [
    "azimuthally_asymmetric_and_incoherent_lens_model_params.is_azimuthally_symmetric"
   ]
  },
  {
   "cell_type": "markdown",
   "id": "4b18be08",
   "metadata": {},
   "source": [
    "## Using the ``embeam.stem.probe.ModelParams`` class ##"
   ]
  },
  {
   "cell_type": "markdown",
   "id": "17eb63c5",
   "metadata": {},
   "source": [
    "Here we consider the model parameters of four different probes."
   ]
  },
  {
   "cell_type": "code",
   "execution_count": null,
   "id": "a4bf4818",
   "metadata": {},
   "outputs": [],
   "source": [
    "convergence_semiangle = 4.84  # In units of mrads.\n",
    "defocal_offset_supersampling = 9  # Dimensionless integer.\n",
    "\n",
    "kwargs = \\\n",
    "    {\"lens_model_params\": \\\n",
    "     azimuthally_symmetric_and_coherent_lens_model_params, \n",
    "     \"convergence_semiangle\": convergence_semiangle,\n",
    "     \"gun_model_params\": gun_model_params, \n",
    "     \"defocal_offset_supersampling\": defocal_offset_supersampling}\n",
    "azimuthally_symmetric_and_coherent_probe_model_params = \\\n",
    "    embeam.stem.probe.ModelParams(**kwargs)\n",
    "\n",
    "kwargs = \\\n",
    "    {\"lens_model_params\": \\\n",
    "     azimuthally_asymmetric_and_coherent_lens_model_params, \n",
    "     \"convergence_semiangle\": convergence_semiangle,\n",
    "     \"gun_model_params\": gun_model_params, \n",
    "     \"defocal_offset_supersampling\": defocal_offset_supersampling}\n",
    "azimuthally_asymmetric_and_coherent_probe_model_params = \\\n",
    "    embeam.stem.probe.ModelParams(**kwargs)\n",
    "\n",
    "kwargs = \\\n",
    "    {\"lens_model_params\": \\\n",
    "     azimuthally_symmetric_and_incoherent_lens_model_params, \n",
    "     \"convergence_semiangle\": convergence_semiangle,\n",
    "     \"gun_model_params\": gun_model_params, \n",
    "     \"defocal_offset_supersampling\": defocal_offset_supersampling}\n",
    "azimuthally_symmetric_and_incoherent_probe_model_params = \\\n",
    "    embeam.stem.probe.ModelParams(**kwargs)\n",
    "\n",
    "kwargs = \\\n",
    "    {\"lens_model_params\": \\\n",
    "     azimuthally_asymmetric_and_incoherent_lens_model_params, \n",
    "     \"convergence_semiangle\": convergence_semiangle,\n",
    "     \"gun_model_params\": gun_model_params, \n",
    "     \"defocal_offset_supersampling\": defocal_offset_supersampling}\n",
    "azimuthally_asymmetric_and_incoherent_probe_model_params = \\\n",
    "    embeam.stem.probe.ModelParams(**kwargs)"
   ]
  },
  {
   "cell_type": "markdown",
   "id": "2610a32f",
   "metadata": {},
   "source": [
    "Note that the ``embeam.stem.probe.ModelParams`` class is also updatable,\n",
    "pre-serializable, and de-pre-serializable."
   ]
  },
  {
   "cell_type": "markdown",
   "id": "3e472be2",
   "metadata": {},
   "source": [
    "Which probes, specified by the model parameters, are azimuthally symmetric?"
   ]
  },
  {
   "cell_type": "code",
   "execution_count": null,
   "id": "4884d7a9",
   "metadata": {},
   "outputs": [],
   "source": [
    "azimuthally_symmetric_and_coherent_probe_model_params.is_azimuthally_symmetric"
   ]
  },
  {
   "cell_type": "code",
   "execution_count": null,
   "id": "6db563cc",
   "metadata": {},
   "outputs": [],
   "source": [
    "azimuthally_asymmetric_and_coherent_probe_model_params.is_azimuthally_symmetric"
   ]
  },
  {
   "cell_type": "code",
   "execution_count": null,
   "id": "d85d90f0",
   "metadata": {},
   "outputs": [],
   "source": [
    "azimuthally_symmetric_and_incoherent_probe_model_params.is_azimuthally_symmetric"
   ]
  },
  {
   "cell_type": "code",
   "execution_count": null,
   "id": "7aa7422b",
   "metadata": {},
   "outputs": [],
   "source": [
    "azimuthally_asymmetric_and_incoherent_probe_model_params.is_azimuthally_symmetric"
   ]
  },
  {
   "cell_type": "markdown",
   "id": "10d1b19f",
   "metadata": {},
   "source": [
    "Which probes, specified by the model parameters, are coherent?"
   ]
  },
  {
   "cell_type": "code",
   "execution_count": null,
   "id": "880abacd",
   "metadata": {},
   "outputs": [],
   "source": [
    "azimuthally_symmetric_and_coherent_probe_model_params.is_coherent"
   ]
  },
  {
   "cell_type": "code",
   "execution_count": null,
   "id": "9b6d5d04",
   "metadata": {},
   "outputs": [],
   "source": [
    "azimuthally_asymmetric_and_coherent_probe_model_params.is_coherent"
   ]
  },
  {
   "cell_type": "code",
   "execution_count": null,
   "id": "46afe95b",
   "metadata": {},
   "outputs": [],
   "source": [
    "azimuthally_symmetric_and_incoherent_probe_model_params.is_coherent"
   ]
  },
  {
   "cell_type": "code",
   "execution_count": null,
   "id": "393483c6",
   "metadata": {},
   "outputs": [],
   "source": [
    "azimuthally_asymmetric_and_incoherent_probe_model_params.is_coherent"
   ]
  },
  {
   "cell_type": "markdown",
   "id": "3975dd49",
   "metadata": {},
   "source": [
    "## Using the ``embeam.stem.probe.kspace.Wavefunction`` class ##"
   ]
  },
  {
   "cell_type": "markdown",
   "id": "b860bd7b",
   "metadata": {},
   "source": [
    "Here we consider the $k$-space wavefunctions of the two coherent probes specified above."
   ]
  },
  {
   "cell_type": "code",
   "execution_count": null,
   "id": "8805deb5",
   "metadata": {},
   "outputs": [],
   "source": [
    "kwargs = \\\n",
    "    {\"probe_model_params\": \\\n",
    "     azimuthally_symmetric_and_coherent_probe_model_params}\n",
    "azimuthally_symmetric_kspace_probe_wavefunction = \\\n",
    "    embeam.stem.probe.kspace.Wavefunction(**kwargs)\n",
    "\n",
    "kwargs = \\\n",
    "    {\"probe_model_params\": \\\n",
    "     azimuthally_asymmetric_and_coherent_probe_model_params}\n",
    "azimuthally_asymmetric_kspace_probe_wavefunction = \\\n",
    "    embeam.stem.probe.kspace.Wavefunction(**kwargs)"
   ]
  },
  {
   "cell_type": "markdown",
   "id": "b5472c27",
   "metadata": {},
   "source": [
    "Note that the ``embeam.stem.probe.kspace.Wavefunction`` class is also updatable,\n",
    "pre-serializable, and de-pre-serializable."
   ]
  },
  {
   "cell_type": "markdown",
   "id": "bd857063",
   "metadata": {},
   "source": [
    "Which $k$-space wavefunctions are azimuthally symmetric?"
   ]
  },
  {
   "cell_type": "code",
   "execution_count": null,
   "id": "b6bd7160",
   "metadata": {},
   "outputs": [],
   "source": [
    "azimuthally_symmetric_kspace_probe_wavefunction.is_azimuthally_symmetric"
   ]
  },
  {
   "cell_type": "code",
   "execution_count": null,
   "id": "fa4d98c4",
   "metadata": {},
   "outputs": [],
   "source": [
    "azimuthally_asymmetric_kspace_probe_wavefunction.is_azimuthally_symmetric"
   ]
  },
  {
   "cell_type": "markdown",
   "id": "55233dee",
   "metadata": {},
   "source": [
    "Evaluate the $k$-space wavefunctions at given Fourier coordinates."
   ]
  },
  {
   "cell_type": "code",
   "execution_count": null,
   "id": "b7ddd8c0",
   "metadata": {},
   "outputs": [],
   "source": [
    "azimuthally_symmetric_kspace_probe_wavefunction.eval(k_x=k_x, k_y=k_y)"
   ]
  },
  {
   "cell_type": "code",
   "execution_count": null,
   "id": "9a26c4fb",
   "metadata": {},
   "outputs": [],
   "source": [
    "azimuthally_asymmetric_kspace_probe_wavefunction.eval(k_x=k_x, k_y=k_y)"
   ]
  },
  {
   "cell_type": "markdown",
   "id": "e938b6fe",
   "metadata": {},
   "source": [
    "Note that you must pass probe model parameters of a coherent probe in order to\n",
    "construct a $k$-space wavefunction object. The following code block deliberately\n",
    "raises an exception."
   ]
  },
  {
   "cell_type": "code",
   "execution_count": null,
   "id": "04cc6d73",
   "metadata": {},
   "outputs": [],
   "source": [
    "kwargs = \\\n",
    "    {\"probe_model_params\": \\\n",
    "     azimuthally_symmetric_and_incoherent_probe_model_params}\n",
    "_ = \\\n",
    "    embeam.stem.probe.kspace.Wavefunction(**kwargs)"
   ]
  },
  {
   "cell_type": "markdown",
   "id": "6c6897fd",
   "metadata": {},
   "source": [
    "## Using the ``embeam.stem.probe.kspace.Intensity`` class ##"
   ]
  },
  {
   "cell_type": "markdown",
   "id": "9e3cace2",
   "metadata": {},
   "source": [
    "Here we consider the $k$-space fractional intensities of the four probes\n",
    "specified above."
   ]
  },
  {
   "cell_type": "code",
   "execution_count": null,
   "id": "ffe8489a",
   "metadata": {},
   "outputs": [],
   "source": [
    "kwargs = \\\n",
    "    {\"probe_model_params\": \\\n",
    "     azimuthally_symmetric_and_coherent_probe_model_params}\n",
    "azimuthally_symmetric_and_coherent_kspace_probe_intensity = \\\n",
    "    embeam.stem.probe.kspace.Intensity(**kwargs)\n",
    "\n",
    "kwargs = \\\n",
    "    {\"probe_model_params\": \\\n",
    "     azimuthally_asymmetric_and_coherent_probe_model_params}\n",
    "azimuthally_asymmetric_and_coherent_kspace_probe_intensity = \\\n",
    "    embeam.stem.probe.kspace.Intensity(**kwargs)\n",
    "\n",
    "kwargs = \\\n",
    "    {\"probe_model_params\": \\\n",
    "     azimuthally_symmetric_and_incoherent_probe_model_params}\n",
    "azimuthally_symmetric_and_incoherent_kspace_probe_intensity = \\\n",
    "    embeam.stem.probe.kspace.Intensity(**kwargs)\n",
    "\n",
    "kwargs = \\\n",
    "    {\"probe_model_params\": \\\n",
    "     azimuthally_asymmetric_and_incoherent_probe_model_params}\n",
    "azimuthally_asymmetric_and_incoherent_kspace_probe_intensity = \\\n",
    "    embeam.stem.probe.kspace.Intensity(**kwargs)"
   ]
  },
  {
   "cell_type": "markdown",
   "id": "6af843ad",
   "metadata": {},
   "source": [
    "Note that the ``embeam.stem.probe.kspace.Intensity`` class is also updatable,\n",
    "pre-serializable, and de-pre-serializable."
   ]
  },
  {
   "cell_type": "markdown",
   "id": "eec47ac6",
   "metadata": {},
   "source": [
    "Which $k$-space fractional intensities are azimuthally symmetric?"
   ]
  },
  {
   "cell_type": "code",
   "execution_count": null,
   "id": "ff14e7f2",
   "metadata": {},
   "outputs": [],
   "source": [
    "obj_alias = azimuthally_symmetric_and_coherent_kspace_probe_intensity\n",
    "obj_alias.is_azimuthally_symmetric"
   ]
  },
  {
   "cell_type": "code",
   "execution_count": null,
   "id": "02e07ff2",
   "metadata": {},
   "outputs": [],
   "source": [
    "obj_alias = azimuthally_asymmetric_and_coherent_kspace_probe_intensity\n",
    "obj_alias.is_azimuthally_symmetric"
   ]
  },
  {
   "cell_type": "code",
   "execution_count": null,
   "id": "5541f915",
   "metadata": {},
   "outputs": [],
   "source": [
    "obj_alias = azimuthally_symmetric_and_incoherent_kspace_probe_intensity\n",
    "obj_alias.is_azimuthally_symmetric"
   ]
  },
  {
   "cell_type": "code",
   "execution_count": null,
   "id": "5e1eea52",
   "metadata": {},
   "outputs": [],
   "source": [
    "obj_alias = azimuthally_asymmetric_and_incoherent_kspace_probe_intensity\n",
    "obj_alias.is_azimuthally_symmetric"
   ]
  },
  {
   "cell_type": "markdown",
   "id": "69b7a036",
   "metadata": {},
   "source": [
    "Which $k$-space fractional intensities are those of coherent probes?"
   ]
  },
  {
   "cell_type": "code",
   "execution_count": null,
   "id": "5d2e0564",
   "metadata": {},
   "outputs": [],
   "source": [
    "azimuthally_symmetric_and_coherent_kspace_probe_intensity.is_coherent"
   ]
  },
  {
   "cell_type": "code",
   "execution_count": null,
   "id": "9d488275",
   "metadata": {},
   "outputs": [],
   "source": [
    "azimuthally_asymmetric_and_coherent_kspace_probe_intensity.is_coherent"
   ]
  },
  {
   "cell_type": "code",
   "execution_count": null,
   "id": "e8fad6fc",
   "metadata": {},
   "outputs": [],
   "source": [
    "azimuthally_symmetric_and_incoherent_kspace_probe_intensity.is_coherent"
   ]
  },
  {
   "cell_type": "code",
   "execution_count": null,
   "id": "348e027b",
   "metadata": {},
   "outputs": [],
   "source": [
    "azimuthally_asymmetric_and_incoherent_kspace_probe_intensity.is_coherent"
   ]
  },
  {
   "cell_type": "markdown",
   "id": "3cf38856",
   "metadata": {},
   "source": [
    "Evaluate the $k$-space fractional intensities at given Fourier coordinates."
   ]
  },
  {
   "cell_type": "code",
   "execution_count": null,
   "id": "1beb4b3d",
   "metadata": {},
   "outputs": [],
   "source": [
    "azimuthally_symmetric_and_coherent_kspace_probe_intensity.eval(k_x=k_x, \n",
    "                                                               k_y=k_y)"
   ]
  },
  {
   "cell_type": "code",
   "execution_count": null,
   "id": "c8f159c0",
   "metadata": {},
   "outputs": [],
   "source": [
    "azimuthally_asymmetric_and_coherent_kspace_probe_intensity.eval(k_x=k_x, \n",
    "                                                                k_y=k_y)"
   ]
  },
  {
   "cell_type": "code",
   "execution_count": null,
   "id": "2f12f350",
   "metadata": {},
   "outputs": [],
   "source": [
    "azimuthally_symmetric_and_incoherent_kspace_probe_intensity.eval(k_x=k_x, \n",
    "                                                                 k_y=k_y)"
   ]
  },
  {
   "cell_type": "code",
   "execution_count": null,
   "id": "ea46afd7",
   "metadata": {},
   "outputs": [],
   "source": [
    "azimuthally_asymmetric_and_incoherent_kspace_probe_intensity.eval(k_x=k_x, \n",
    "                                                                  k_y=k_y)"
   ]
  },
  {
   "cell_type": "markdown",
   "id": "a52fef60",
   "metadata": {},
   "source": [
    "## Using the ``embeam.stem.probe.symmetric.rspace.Wavefunction`` class ##"
   ]
  },
  {
   "cell_type": "markdown",
   "id": "4a2972fd",
   "metadata": {},
   "source": [
    "Here we consider the $r$-space wavefunction of the probe specified above that is\n",
    "azimuthally symmetric and coherent."
   ]
  },
  {
   "cell_type": "code",
   "execution_count": null,
   "id": "2a26e4d6",
   "metadata": {},
   "outputs": [],
   "source": [
    "kwargs = \\\n",
    "    {\"probe_model_params\": \\\n",
    "     azimuthally_symmetric_and_coherent_probe_model_params}\n",
    "azimuthally_symmetric_rspace_probe_wavefunction = \\\n",
    "    embeam.stem.probe.symmetric.rspace.Wavefunction(**kwargs)"
   ]
  },
  {
   "cell_type": "markdown",
   "id": "7fd9ec06",
   "metadata": {},
   "source": [
    "Note that the ``embeam.stem.probe.symmetric.rspace.Wavefunction`` class is also\n",
    "updatable, pre-serializable, and de-pre-serializable."
   ]
  },
  {
   "cell_type": "markdown",
   "id": "6791515e",
   "metadata": {},
   "source": [
    "Evaluate the $r$-space wavefunction at given coordinates."
   ]
  },
  {
   "cell_type": "code",
   "execution_count": null,
   "id": "7adc8784",
   "metadata": {},
   "outputs": [],
   "source": [
    "x = 1.5  # In units of Å.\n",
    "y = 2.5  # In units of Å.\n",
    "\n",
    "azimuthally_symmetric_rspace_probe_wavefunction.eval(x=x, y=y)"
   ]
  },
  {
   "cell_type": "markdown",
   "id": "b6b439bc",
   "metadata": {},
   "source": [
    "Note that you must pass probe model parameters of an azimuthally symmetric and\n",
    "coherent probe in order to construct a $r$-space wavefunction object. The\n",
    "following two code blocks deliberately raise exceptions."
   ]
  },
  {
   "cell_type": "code",
   "execution_count": null,
   "id": "4dca719c",
   "metadata": {},
   "outputs": [],
   "source": [
    "kwargs = \\\n",
    "    {\"probe_model_params\": \\\n",
    "     azimuthally_asymmetric_and_coherent_probe_model_params}\n",
    "_ = \\\n",
    "    embeam.stem.probe.symmetric.rspace.Wavefunction(**kwargs)"
   ]
  },
  {
   "cell_type": "code",
   "execution_count": null,
   "id": "4a4c81ab",
   "metadata": {},
   "outputs": [],
   "source": [
    "kwargs = \\\n",
    "    {\"probe_model_params\": \\\n",
    "     azimuthally_symmetric_and_incoherent_probe_model_params}\n",
    "_ = \\\n",
    "    embeam.stem.probe.symmetric.rspace.Wavefunction(**kwargs)"
   ]
  },
  {
   "cell_type": "markdown",
   "id": "c248dc53",
   "metadata": {},
   "source": [
    "In order to calculate the $r$-space wavefunction of an azimuthally asymmetric\n",
    "and coherent probe, one must use the\n",
    "``embeam.stem.probe.discretized.periodic.rspace.Wavefunction`` class.  Strictly\n",
    "speaking, this class represents \"discretized periodic\" $r$-space wavefunctions\n",
    "of coherent probes. The discretized periodic $r$-space wavefunction of a given\n",
    "coherent probe samples a function that approximates the exact (continuous)\n",
    "$r$-space wavefunction of said probe. Only in the limit of arbitrarily small\n",
    "$r$-space pixel dimensions together with an arbitrarily large number of pixels\n",
    "horizontally and vertically will the discretized periodic $r$-space wavefunction\n",
    "sample the exact $r$-space wavefunction. Further below is an example of the\n",
    "usage of the ``embeam.stem.probe.discretized.periodic.rspace.Wavefunction``\n",
    "class."
   ]
  },
  {
   "cell_type": "markdown",
   "id": "092bee32",
   "metadata": {},
   "source": [
    "## Using the ``embeam.stem.probe.symmetric.rspace.Intensity`` class ##"
   ]
  },
  {
   "cell_type": "markdown",
   "id": "732babf9",
   "metadata": {},
   "source": [
    "Here we consider the $r$-space fractional intensities of the two azimuthally\n",
    "symmetric probes specified above."
   ]
  },
  {
   "cell_type": "code",
   "execution_count": null,
   "id": "c54e0d1f",
   "metadata": {},
   "outputs": [],
   "source": [
    "kwargs = \\\n",
    "    {\"probe_model_params\": \\\n",
    "     azimuthally_symmetric_and_coherent_probe_model_params}\n",
    "azimuthally_symmetric_and_coherent_rspace_probe_intensity = \\\n",
    "    embeam.stem.probe.symmetric.rspace.Intensity(**kwargs)\n",
    "\n",
    "kwargs = \\\n",
    "    {\"probe_model_params\": \\\n",
    "     azimuthally_symmetric_and_incoherent_probe_model_params}\n",
    "azimuthally_symmetric_and_incoherent_rspace_probe_intensity = \\\n",
    "    embeam.stem.probe.symmetric.rspace.Intensity(**kwargs)"
   ]
  },
  {
   "cell_type": "markdown",
   "id": "75c7436c",
   "metadata": {},
   "source": [
    "Note that the ``embeam.stem.probe.symmetric.rspace.Intensity`` class is also\n",
    "updatable, pre-serializable, and de-pre-serializable."
   ]
  },
  {
   "cell_type": "markdown",
   "id": "9285a5f2",
   "metadata": {},
   "source": [
    "Which $r$-space fractional intensities are those of coherent probes?"
   ]
  },
  {
   "cell_type": "code",
   "execution_count": null,
   "id": "344eb592",
   "metadata": {},
   "outputs": [],
   "source": [
    "azimuthally_symmetric_and_coherent_rspace_probe_intensity.is_coherent"
   ]
  },
  {
   "cell_type": "code",
   "execution_count": null,
   "id": "b81c55b8",
   "metadata": {},
   "outputs": [],
   "source": [
    "azimuthally_symmetric_and_incoherent_rspace_probe_intensity.is_coherent"
   ]
  },
  {
   "cell_type": "markdown",
   "id": "950b5281",
   "metadata": {},
   "source": [
    "Evaluate the $r$-space fractional intensities at given coordinates."
   ]
  },
  {
   "cell_type": "code",
   "execution_count": null,
   "id": "5f62f89e",
   "metadata": {},
   "outputs": [],
   "source": [
    "azimuthally_symmetric_and_coherent_rspace_probe_intensity.eval(x=x, y=y)"
   ]
  },
  {
   "cell_type": "code",
   "execution_count": null,
   "id": "01414751",
   "metadata": {},
   "outputs": [],
   "source": [
    "azimuthally_symmetric_and_incoherent_rspace_probe_intensity.eval(x=x, y=y)"
   ]
  },
  {
   "cell_type": "markdown",
   "id": "6b0b932b",
   "metadata": {},
   "source": [
    "Note that you must pass probe model parameters of an azimuthally symmetric probe\n",
    "in order to construct a $r$-space fractional intensity object. The following\n",
    "code block deliberately raises an exception."
   ]
  },
  {
   "cell_type": "code",
   "execution_count": null,
   "id": "111fb10e",
   "metadata": {},
   "outputs": [],
   "source": [
    "kwargs = \\\n",
    "    {\"probe_model_params\": \\\n",
    "     azimuthally_asymmetric_and_incoherent_probe_model_params}\n",
    "_ = \\\n",
    "    embeam.stem.probe.symmetric.rspace.Intensity(**kwargs)"
   ]
  },
  {
   "cell_type": "markdown",
   "id": "8a6ba495",
   "metadata": {},
   "source": [
    "In order to calculate the $r$-space fractional intensity of an azimuthally\n",
    "asymmetric probe, one must use the\n",
    "``embeam.stem.probe.discretized.periodic.rspace.Intensity`` class. Strictly\n",
    "speaking, this class represents \"discretized periodic\" $r$-space fractional\n",
    "intensities of probes. The discretized periodic $r$-space fractional intensity\n",
    "of a given probe samples a function that approximates the exact (continuous)\n",
    "$r$-space fractional intensity of said probe. Only in the limit of arbitrarily\n",
    "small $r$-space pixel dimensions together with an arbitrarily large number of\n",
    "pixels horizontally and vertically will the discretized periodic $r$-space\n",
    "fractional intensity sample the exact $r$-space fractional intensity. Further\n",
    "below is an example of the usage of the\n",
    "``embeam.stem.probe.discretized.periodic.rspace.Intensity`` class."
   ]
  },
  {
   "cell_type": "markdown",
   "id": "630e23da",
   "metadata": {},
   "source": [
    "## Using the ``embeam.stem.probe.discretized.kspace.Wavefunction`` class ##"
   ]
  },
  {
   "cell_type": "markdown",
   "id": "5590be06",
   "metadata": {},
   "source": [
    "Here we consider the discretized $k$-space wavefunctions of the two coherent\n",
    "probes specified above."
   ]
  },
  {
   "cell_type": "code",
   "execution_count": null,
   "id": "3c5f6609",
   "metadata": {},
   "outputs": [],
   "source": [
    "L_x = 250\n",
    "L_y = 250\n",
    "d_k_x = 1 / L_x\n",
    "d_k_y = 1 / L_y\n",
    "viewer_dims_in_pixels = (1024, 1024)\n",
    "\n",
    "kwargs = {\"probe_model_params\": \\\n",
    "          azimuthally_symmetric_and_coherent_probe_model_params, \n",
    "          \"pixel_size\": (d_k_x, d_k_y), \n",
    "          \"viewer_dims_in_pixels\": viewer_dims_in_pixels}\n",
    "azimuthally_symmetric_discretized_kspace_probe_wavefunction = \\\n",
    "    embeam.stem.probe.discretized.kspace.Wavefunction(**kwargs)\n",
    "\n",
    "kwargs = {\"probe_model_params\": \\\n",
    "          azimuthally_asymmetric_and_coherent_probe_model_params, \n",
    "          \"pixel_size\": (d_k_x, d_k_y), \n",
    "          \"viewer_dims_in_pixels\": viewer_dims_in_pixels}\n",
    "azimuthally_asymmetric_discretized_kspace_probe_wavefunction = \\\n",
    "    embeam.stem.probe.discretized.kspace.Wavefunction(**kwargs)"
   ]
  },
  {
   "cell_type": "markdown",
   "id": "5d755fd5",
   "metadata": {},
   "source": [
    "Note that the ``embeam.stem.probe.discretized.kspace.Wavefunction`` class is\n",
    "also updatable, pre-serializable, and de-pre-serializable."
   ]
  },
  {
   "cell_type": "markdown",
   "id": "3a719ea6",
   "metadata": {},
   "source": [
    "Which discretized $k$-space wavefunctions are azimuthally symmetric?"
   ]
  },
  {
   "cell_type": "code",
   "execution_count": null,
   "id": "52668f1f",
   "metadata": {},
   "outputs": [],
   "source": [
    "obj_alias = azimuthally_symmetric_discretized_kspace_probe_wavefunction\n",
    "obj_alias.is_azimuthally_symmetric"
   ]
  },
  {
   "cell_type": "code",
   "execution_count": null,
   "id": "eef5c8b0",
   "metadata": {},
   "outputs": [],
   "source": [
    "obj_alias = azimuthally_asymmetric_discretized_kspace_probe_wavefunction\n",
    "obj_alias.is_azimuthally_symmetric"
   ]
  },
  {
   "cell_type": "markdown",
   "id": "79e57d55",
   "metadata": {},
   "source": [
    "The ``embeam.stem.probe.discretized.kspace.Wavefunction`` class has an instance\n",
    "attribute ``signal`` which is set to ``None`` if the construction parameter\n",
    "``viewer_dims_in_pixels`` satisfies\n",
    "``viewer_dims_in_pixels[0]*viewer_dims_in_pixels[1]==0``, otherwise it is set to\n",
    "a ``hyperspy`` signal that stores the data and metadata of, and visualization\n",
    "methods for the discretized $k$-space wavefunction being represented. You can\n",
    "find the documentation for the ``hyperspy`` library\n",
    "[here](https://hyperspy.org/hyperspy-doc/current/index.html)."
   ]
  },
  {
   "cell_type": "code",
   "execution_count": null,
   "id": "bcfe6fd9",
   "metadata": {},
   "outputs": [],
   "source": [
    "obj_alias = azimuthally_symmetric_discretized_kspace_probe_wavefunction\n",
    "kwargs = {\"representation\": \"polar\",\n",
    "          \"colorbar\": True, \n",
    "          \"scalebar\": True, \n",
    "          \"axes_ticks\": True,  \n",
    "          \"vmin\": None, \n",
    "          \"vmax\": None, \n",
    "          \"cmap\": plt.get_cmap(\"jet\")}\n",
    "obj_alias.signal.plot(**kwargs)"
   ]
  },
  {
   "cell_type": "code",
   "execution_count": null,
   "id": "c1ea8975",
   "metadata": {},
   "outputs": [],
   "source": [
    "obj_alias = azimuthally_asymmetric_discretized_kspace_probe_wavefunction\n",
    "kwargs = {\"representation\": \"polar\",\n",
    "          \"colorbar\": True, \n",
    "          \"scalebar\": True, \n",
    "          \"axes_ticks\": True,  \n",
    "          \"vmin\": None, \n",
    "          \"vmax\": None, \n",
    "          \"cmap\": plt.get_cmap(\"jet\")}\n",
    "obj_alias.signal.plot(**kwargs)"
   ]
  },
  {
   "cell_type": "markdown",
   "id": "cd2ca4be",
   "metadata": {},
   "source": [
    "Users can use the tools in the ``empix`` library to process ``hyperspy`` signals\n",
    "generated by the ``embeam`` library in a variety of ways including calculating\n",
    "the modulus squared, performing azimuthal averages and integrals over the signal\n",
    "data, performing annular averages and integrals over the signal data, cropping,\n",
    "downsampling, and generic resampling. You can find the documentation for the\n",
    "``empix`` library [here](https://mrfitzpa.github.io/empix/_autosummary/empix.html). \n",
    "Note that ``empix`` is automatically installated upon installing ``embeam``."
   ]
  },
  {
   "cell_type": "markdown",
   "id": "88c9d04f",
   "metadata": {},
   "source": [
    "Note that you must pass probe model parameters of a coherent probe in order to\n",
    "construct a discretized $k$-space wavefunction object. The following code block\n",
    "deliberately raises an exception."
   ]
  },
  {
   "cell_type": "code",
   "execution_count": null,
   "id": "70062caa",
   "metadata": {},
   "outputs": [],
   "source": [
    "kwargs = {\"probe_model_params\": \\\n",
    "          azimuthally_symmetric_and_incoherent_probe_model_params}\n",
    "_ = \\\n",
    "    embeam.stem.probe.discretized.kspace.Wavefunction(**kwargs)"
   ]
  },
  {
   "cell_type": "markdown",
   "id": "4b9e3bb0",
   "metadata": {},
   "source": [
    "## Using the ``embeam.stem.probe.discretized.kspace.Intensity`` class ##"
   ]
  },
  {
   "cell_type": "markdown",
   "id": "6f4bdc7f",
   "metadata": {},
   "source": [
    "Here we consider the discretized $k$-space fractional intensities of the four\n",
    "probes specified above."
   ]
  },
  {
   "cell_type": "code",
   "execution_count": null,
   "id": "b15a7c96",
   "metadata": {},
   "outputs": [],
   "source": [
    "kwargs = \\\n",
    "    {\"probe_model_params\": \\\n",
    "     azimuthally_symmetric_and_coherent_probe_model_params, \n",
    "     \"pixel_size\": \\\n",
    "     (d_k_x, d_k_y), \n",
    "     \"viewer_dims_in_pixels\": \\\n",
    "     viewer_dims_in_pixels}\n",
    "azimuthally_symmetric_and_coherent_discretized_kspace_probe_intensity = \\\n",
    "    embeam.stem.probe.discretized.kspace.Intensity(**kwargs)\n",
    "\n",
    "kwargs = \\\n",
    "    {\"probe_model_params\": \\\n",
    "     azimuthally_asymmetric_and_coherent_probe_model_params, \n",
    "     \"pixel_size\": \\\n",
    "     (d_k_x, d_k_y), \n",
    "     \"viewer_dims_in_pixels\": \\\n",
    "     viewer_dims_in_pixels}\n",
    "azimuthally_asymmetric_and_coherent_discretized_kspace_probe_intensity = \\\n",
    "    embeam.stem.probe.discretized.kspace.Intensity(**kwargs)\n",
    "\n",
    "kwargs = \\\n",
    "    {\"probe_model_params\": \\\n",
    "     azimuthally_symmetric_and_incoherent_probe_model_params, \n",
    "     \"pixel_size\": \\\n",
    "     (d_k_x, d_k_y), \n",
    "     \"viewer_dims_in_pixels\": \\\n",
    "     viewer_dims_in_pixels}\n",
    "azimuthally_symmetric_and_incoherent_discretized_kspace_probe_intensity = \\\n",
    "    embeam.stem.probe.discretized.kspace.Intensity(**kwargs)\n",
    "\n",
    "kwargs = \\\n",
    "    {\"probe_model_params\": \\\n",
    "     azimuthally_asymmetric_and_incoherent_probe_model_params, \n",
    "     \"pixel_size\": \\\n",
    "     (d_k_x, d_k_y), \n",
    "     \"viewer_dims_in_pixels\": \\\n",
    "     viewer_dims_in_pixels}\n",
    "azimuthally_asymmetric_and_incoherent_discretized_kspace_probe_intensity = \\\n",
    "    embeam.stem.probe.discretized.kspace.Intensity(**kwargs)"
   ]
  },
  {
   "cell_type": "markdown",
   "id": "ab24f71f",
   "metadata": {},
   "source": [
    "Alternatively, we can construct the discretized $k$-space fractional intensity\n",
    "objects of the coherent probes from the corresponding discretized $k$-space\n",
    "wavefunctions objects, which is faster."
   ]
  },
  {
   "cell_type": "code",
   "execution_count": null,
   "id": "77c4e9a6",
   "metadata": {},
   "outputs": [],
   "source": [
    "obj_alias = \\\n",
    "    azimuthally_symmetric_discretized_kspace_probe_wavefunction\n",
    "cls_alias = \\\n",
    "    embeam.stem.probe.discretized.kspace.Intensity\n",
    "azimuthally_symmetric_and_coherent_discretized_kspace_probe_intensity = \\\n",
    "    cls_alias.construct_from_discretized_wavefunction(obj_alias)\n",
    "\n",
    "obj_alias = \\\n",
    "    azimuthally_asymmetric_discretized_kspace_probe_wavefunction\n",
    "cls_alias = \\\n",
    "    embeam.stem.probe.discretized.kspace.Intensity\n",
    "azimuthally_asymmetric_and_coherent_discretized_kspace_probe_intensity = \\\n",
    "    cls_alias.construct_from_discretized_wavefunction(obj_alias)"
   ]
  },
  {
   "cell_type": "markdown",
   "id": "cf79f79b",
   "metadata": {},
   "source": [
    "Note that the ``embeam.stem.probe.discretized.kspace.Intensity`` class is also\n",
    "updatable, pre-serializable, and de-pre-serializable."
   ]
  },
  {
   "cell_type": "markdown",
   "id": "e0d674b3",
   "metadata": {},
   "source": [
    "Which discretized $k$-space fractional intensities are azimuthally symmetric?"
   ]
  },
  {
   "cell_type": "code",
   "execution_count": null,
   "id": "671e2f48",
   "metadata": {},
   "outputs": [],
   "source": [
    "obj_alias = \\\n",
    "    azimuthally_symmetric_and_coherent_discretized_kspace_probe_intensity\n",
    "\n",
    "obj_alias.is_azimuthally_symmetric"
   ]
  },
  {
   "cell_type": "code",
   "execution_count": null,
   "id": "8b14b4af",
   "metadata": {},
   "outputs": [],
   "source": [
    "obj_alias = \\\n",
    "    azimuthally_asymmetric_and_coherent_discretized_kspace_probe_intensity\n",
    "\n",
    "obj_alias.is_azimuthally_symmetric"
   ]
  },
  {
   "cell_type": "code",
   "execution_count": null,
   "id": "f4612882",
   "metadata": {},
   "outputs": [],
   "source": [
    "obj_alias = \\\n",
    "    azimuthally_symmetric_and_incoherent_discretized_kspace_probe_intensity\n",
    "\n",
    "obj_alias.is_azimuthally_symmetric"
   ]
  },
  {
   "cell_type": "code",
   "execution_count": null,
   "id": "036d1504",
   "metadata": {},
   "outputs": [],
   "source": [
    "obj_alias = \\\n",
    "    azimuthally_asymmetric_and_incoherent_discretized_kspace_probe_intensity\n",
    "\n",
    "obj_alias.is_azimuthally_symmetric"
   ]
  },
  {
   "cell_type": "markdown",
   "id": "b5127fba",
   "metadata": {},
   "source": [
    "Which discretized $k$-space fractional intensities are those of coherent probes?"
   ]
  },
  {
   "cell_type": "code",
   "execution_count": null,
   "id": "10f02dab",
   "metadata": {},
   "outputs": [],
   "source": [
    "obj_alias = \\\n",
    "    azimuthally_symmetric_and_coherent_discretized_kspace_probe_intensity\n",
    "\n",
    "obj_alias.is_coherent"
   ]
  },
  {
   "cell_type": "code",
   "execution_count": null,
   "id": "9439832a",
   "metadata": {},
   "outputs": [],
   "source": [
    "obj_alias = \\\n",
    "    azimuthally_asymmetric_and_coherent_discretized_kspace_probe_intensity\n",
    "\n",
    "obj_alias.is_coherent"
   ]
  },
  {
   "cell_type": "code",
   "execution_count": null,
   "id": "4ffc36b0",
   "metadata": {},
   "outputs": [],
   "source": [
    "obj_alias = \\\n",
    "    azimuthally_symmetric_and_incoherent_discretized_kspace_probe_intensity\n",
    "\n",
    "obj_alias.is_coherent"
   ]
  },
  {
   "cell_type": "code",
   "execution_count": null,
   "id": "1aa44c62",
   "metadata": {},
   "outputs": [],
   "source": [
    "obj_alias = \\\n",
    "    azimuthally_asymmetric_and_incoherent_discretized_kspace_probe_intensity\n",
    "\n",
    "obj_alias.is_coherent"
   ]
  },
  {
   "cell_type": "markdown",
   "id": "17de6e61",
   "metadata": {},
   "source": [
    "The ``embeam.stem.probe.discretized.kspace.Intensity`` class has an instance\n",
    "attribute ``signal`` which is set to ``None`` if the construction parameter\n",
    "``viewer_dims_in_pixels`` satisfies\n",
    "``viewer_dims_in_pixels[0]*viewer_dims_in_pixels[1]==0``, otherwise it is set to\n",
    "a ``hyperspy`` signal that stores the data and metadata of, and visualization\n",
    "methods for the discretized $k$-space fractional intensity being\n",
    "represented. You can find the documentation for the ``hyperspy`` library\n",
    "[here](https://hyperspy.org/hyperspy-doc/current/index.html)."
   ]
  },
  {
   "cell_type": "code",
   "execution_count": null,
   "id": "9670c937",
   "metadata": {},
   "outputs": [],
   "source": [
    "obj_alias = \\\n",
    "    azimuthally_symmetric_and_coherent_discretized_kspace_probe_intensity\n",
    "kwargs = \\\n",
    "    {\"colorbar\": True, \n",
    "     \"scalebar\": True, \n",
    "     \"axes_ticks\": True,  \n",
    "     \"vmin\": None, \n",
    "     \"vmax\": None, \n",
    "     \"cmap\": plt.get_cmap(\"jet\")}\n",
    "_ = \\\n",
    "    obj_alias.signal.plot(**kwargs)"
   ]
  },
  {
   "cell_type": "code",
   "execution_count": null,
   "id": "7f0d4f89",
   "metadata": {},
   "outputs": [],
   "source": [
    "obj_alias = \\\n",
    "    azimuthally_asymmetric_and_coherent_discretized_kspace_probe_intensity\n",
    "kwargs = \\\n",
    "    {\"colorbar\": True, \n",
    "     \"scalebar\": True, \n",
    "     \"axes_ticks\": True,  \n",
    "     \"vmin\": None, \n",
    "     \"vmax\": None, \n",
    "     \"cmap\": plt.get_cmap(\"jet\")}\n",
    "_ = \\\n",
    "    obj_alias.signal.plot(**kwargs)"
   ]
  },
  {
   "cell_type": "code",
   "execution_count": null,
   "id": "fd2508f3",
   "metadata": {},
   "outputs": [],
   "source": [
    "obj_alias = \\\n",
    "    azimuthally_symmetric_and_incoherent_discretized_kspace_probe_intensity\n",
    "kwargs = \\\n",
    "    {\"colorbar\": True, \n",
    "     \"scalebar\": True, \n",
    "     \"axes_ticks\": True,  \n",
    "     \"vmin\": None, \n",
    "     \"vmax\": None, \n",
    "     \"cmap\": plt.get_cmap(\"jet\")}\n",
    "_ = \\\n",
    "    obj_alias.signal.plot(**kwargs)"
   ]
  },
  {
   "cell_type": "code",
   "execution_count": null,
   "id": "7f089f81",
   "metadata": {},
   "outputs": [],
   "source": [
    "obj_alias = \\\n",
    "    azimuthally_asymmetric_and_incoherent_discretized_kspace_probe_intensity\n",
    "kwargs = \\\n",
    "    {\"colorbar\": True, \n",
    "     \"scalebar\": True, \n",
    "     \"axes_ticks\": True,  \n",
    "     \"vmin\": None, \n",
    "     \"vmax\": None, \n",
    "     \"cmap\": plt.get_cmap(\"jet\")}\n",
    "_ = \\\n",
    "    obj_alias.signal.plot(**kwargs)"
   ]
  },
  {
   "cell_type": "markdown",
   "id": "fcd76f2e",
   "metadata": {},
   "source": [
    "## Using the ``embeam.stem.probe.discretized.symmetric.rspace.Wavefunction`` class ##"
   ]
  },
  {
   "cell_type": "markdown",
   "id": "4bbfc1cc",
   "metadata": {},
   "source": [
    "Here we consider the discretized $r$-space wavefunction of the probe specified\n",
    "above that is azimuthally symmetric and coherent."
   ]
  },
  {
   "cell_type": "code",
   "execution_count": null,
   "id": "d6c4019f",
   "metadata": {},
   "outputs": [],
   "source": [
    "d_x = L_x / viewer_dims_in_pixels[0]\n",
    "d_y = L_y / viewer_dims_in_pixels[1]\n",
    "\n",
    "kwargs = \\\n",
    "    {\"probe_model_params\": \\\n",
    "     azimuthally_symmetric_and_coherent_probe_model_params, \n",
    "     \"pixel_size\": \\\n",
    "     (d_x, d_y), \n",
    "     \"viewer_dims_in_pixels\": \\\n",
    "     viewer_dims_in_pixels}\n",
    "azimuthally_symmetric_discretized_rspace_probe_wavefunction = \\\n",
    "    embeam.stem.probe.discretized.symmetric.rspace.Wavefunction(**kwargs)"
   ]
  },
  {
   "cell_type": "markdown",
   "id": "66c96d9d",
   "metadata": {},
   "source": [
    "Note that the ``embeam.stem.probe.discretized.symmetric.rspace.Wavefunction``\n",
    "class is also updatable, pre-serializable, and de-pre-serializable."
   ]
  },
  {
   "cell_type": "markdown",
   "id": "6ddedd45",
   "metadata": {},
   "source": [
    "The ``embeam.stem.probe.discretized.symmetry.rspace.Wavefunction`` class has an\n",
    "instance attribute ``signal`` which is set to ``None`` if the construction\n",
    "parameter ``viewer_dims_in_pixels`` satisfies\n",
    "``viewer_dims_in_pixels[0]*viewer_dims_in_pixels[1]==0``, otherwise it is set to\n",
    "a ``hyperspy`` signal that stores the data and metadata of, and visualization\n",
    "methods for the discretized $r$-space wavefunction being represented. You can\n",
    "find the documentation for the ``hyperspy`` library\n",
    "[here](https://hyperspy.org/hyperspy-doc/current/index.html)."
   ]
  },
  {
   "cell_type": "code",
   "execution_count": null,
   "id": "7d2abf87",
   "metadata": {},
   "outputs": [],
   "source": [
    "obj_alias = azimuthally_symmetric_discretized_rspace_probe_wavefunction\n",
    "kwargs = {\"representation\": \"polar\",\n",
    "          \"gamma\": 0.3,\n",
    "          \"colorbar\": True, \n",
    "          \"scalebar\": True, \n",
    "          \"axes_ticks\": True,  \n",
    "          \"vmin\": None, \n",
    "          \"vmax\": None, \n",
    "          \"cmap\": plt.get_cmap(\"jet\")}\n",
    "obj_alias.signal.plot(**kwargs)"
   ]
  },
  {
   "cell_type": "markdown",
   "id": "88284fe3",
   "metadata": {},
   "source": [
    "Note that you must pass probe model parameters of an azimuthally symmetric and\n",
    "coherent probe in order to construct a discretized $r$-space wavefunction\n",
    "object. The following two code blocks deliberately raise exceptions."
   ]
  },
  {
   "cell_type": "code",
   "execution_count": null,
   "id": "ddf042b2",
   "metadata": {},
   "outputs": [],
   "source": [
    "kwargs = {\"probe_model_params\": \\\n",
    "          azimuthally_asymmetric_and_coherent_probe_model_params, \n",
    "          \"pixel_size\": \\\n",
    "          (d_x, d_y), \n",
    "          \"viewer_dims_in_pixels\": \\\n",
    "          viewer_dims_in_pixels}\n",
    "embeam.stem.probe.discretized.symmetric.rspace.Wavefunction(**kwargs)"
   ]
  },
  {
   "cell_type": "code",
   "execution_count": null,
   "id": "88ccf2e1",
   "metadata": {},
   "outputs": [],
   "source": [
    "kwargs = {\"probe_model_params\": \\\n",
    "          azimuthally_symmetric_and_incoherent_probe_model_params, \n",
    "          \"pixel_size\": \\\n",
    "          (d_x, d_y), \n",
    "          \"viewer_dims_in_pixels\": \\\n",
    "          viewer_dims_in_pixels}\n",
    "embeam.stem.probe.discretized.symmetric.rspace.Wavefunction(**kwargs)"
   ]
  },
  {
   "cell_type": "markdown",
   "id": "366fd16e",
   "metadata": {},
   "source": [
    "In order to calculate the $r$-space wavefunction of an azimuthally asymmetric\n",
    "and coherent probe, one must use the\n",
    "``embeam.stem.probe.discretized.periodic.rspace.Wavefunction`` class.  Strictly\n",
    "speaking, this class represents \"discretized periodic\" $r$-space wavefunctions\n",
    "of coherent probes. The discretized periodic $r$-space wavefunction of a given\n",
    "coherent probe samples a function that approximates the exact (continuous)\n",
    "$r$-space wavefunction of said probe. Only in the limit of arbitrarily small\n",
    "$r$-space pixel dimensions together with an arbitrarily large number of pixels\n",
    "horizontally and vertically will the discretized periodic $r$-space wavefunction\n",
    "sample the exact $r$-space wavefunction. Further below is an example of the\n",
    "usage of the ``embeam.stem.probe.discretized.periodic.rspace.Wavefunction``\n",
    "class."
   ]
  },
  {
   "cell_type": "markdown",
   "id": "ecec8081",
   "metadata": {},
   "source": [
    "## Using the ``embeam.stem.probe.discretized.symmetric.rspace.Intensity`` class ##"
   ]
  },
  {
   "cell_type": "markdown",
   "id": "b3efd404",
   "metadata": {},
   "source": [
    "Here we consider the discretized $r$-space fractional intensities of the two\n",
    "azimuthally symmetric probes specified above. "
   ]
  },
  {
   "cell_type": "markdown",
   "id": "ad688307",
   "metadata": {},
   "source": [
    "Note that the following code block may take several minutes to run since it is,\n",
    "generally speaking, computationally intensive to calculate discretized $r$-space\n",
    "fractional intensities of incoherent probes. A faster alternative is to\n",
    "approximate the discretized $r$-space fractional intensities by their periodic\n",
    "counterparts using the\n",
    "``embeam.stem.probe.discretized.periodic.rspace.Intensity`` class, the tradeoff\n",
    "being that unphysical artifacts are introduced into the approximation due to the\n",
    "periodic boundary conditions. However, these unphysical artifacts can be\n",
    "controlled and minimized by adjusting the dimensions of the unit cell of the\n",
    "probe of interest. Further below is an example of the usage of the\n",
    "``embeam.stem.probe.discretized.periodic.rspace.Intensity`` class."
   ]
  },
  {
   "cell_type": "code",
   "execution_count": null,
   "id": "7c810b44",
   "metadata": {},
   "outputs": [],
   "source": [
    "kwargs = \\\n",
    "    {\"probe_model_params\": \\\n",
    "     azimuthally_symmetric_and_coherent_probe_model_params, \n",
    "     \"pixel_size\": \\\n",
    "     (d_x, d_y), \n",
    "     \"viewer_dims_in_pixels\": \\\n",
    "     viewer_dims_in_pixels}\n",
    "azimuthally_symmetric_and_coherent_discretized_rspace_probe_intensity = \\\n",
    "    embeam.stem.probe.discretized.symmetric.rspace.Intensity(**kwargs)\n",
    "\n",
    "kwargs = \\\n",
    "    {\"probe_model_params\": \\\n",
    "     azimuthally_symmetric_and_incoherent_probe_model_params, \n",
    "     \"pixel_size\": \\\n",
    "     (d_x, d_y), \n",
    "     \"viewer_dims_in_pixels\": \\\n",
    "     viewer_dims_in_pixels}\n",
    "azimuthally_symmetric_and_incoherent_discretized_rspace_probe_intensity = \\\n",
    "    embeam.stem.probe.discretized.symmetric.rspace.Intensity(**kwargs)"
   ]
  },
  {
   "cell_type": "markdown",
   "id": "b249cff1",
   "metadata": {},
   "source": [
    "Alternatively, we can construct the discretized $r$-space fractional intensity\n",
    "object of the azimuthally symmetric and coherent probe from the corresponding\n",
    "discretized $r$-space wavefunctions object, which is faster."
   ]
  },
  {
   "cell_type": "code",
   "execution_count": null,
   "id": "06aebc87",
   "metadata": {},
   "outputs": [],
   "source": [
    "obj_alias = \\\n",
    "    azimuthally_symmetric_discretized_rspace_probe_wavefunction\n",
    "cls_alias = \\\n",
    "    embeam.stem.probe.discretized.symmetric.rspace.Intensity\n",
    "azimuthally_symmetric_and_coherent_discretized_rspace_probe_intensity = \\\n",
    "    cls_alias.construct_from_discretized_wavefunction(obj_alias)"
   ]
  },
  {
   "cell_type": "markdown",
   "id": "115e8e8b",
   "metadata": {},
   "source": [
    "Note that the ``embeam.stem.probe.discretized.symmetric.rspace.Intensity`` class\n",
    "is also updatable, pre-serializable, and de-pre-serializable."
   ]
  },
  {
   "cell_type": "markdown",
   "id": "00f4b139",
   "metadata": {},
   "source": [
    "The ``embeam.stem.probe.discretized.symmetry.rspace.Intensity`` class has an\n",
    "instance attribute ``signal`` which is set to ``None`` if the construction\n",
    "parameter ``viewer_dims_in_pixels`` satisfies\n",
    "``viewer_dims_in_pixels[0]*viewer_dims_in_pixels[1]==0``, otherwise it is set to\n",
    "a ``hyperspy`` signal that stores the data and metadata of, and visualization\n",
    "methods for the discretized $r$-space fractional intensity being\n",
    "represented. You can find the documentation for the ``hyperspy`` library\n",
    "[here](https://hyperspy.org/hyperspy-doc/current/index.html)."
   ]
  },
  {
   "cell_type": "code",
   "execution_count": null,
   "id": "102d0b46",
   "metadata": {},
   "outputs": [],
   "source": [
    "obj_alias = \\\n",
    "    azimuthally_symmetric_and_coherent_discretized_rspace_probe_intensity\n",
    "kwargs = \\\n",
    "    {\"gamma\": 0.3,\n",
    "     \"colorbar\": True, \n",
    "     \"scalebar\": True, \n",
    "     \"axes_ticks\": True,  \n",
    "     \"vmin\": None, \n",
    "     \"vmax\": None, \n",
    "     \"cmap\": plt.get_cmap(\"jet\")}\n",
    "_ = \\\n",
    "    obj_alias.signal.plot(**kwargs)"
   ]
  },
  {
   "cell_type": "code",
   "execution_count": null,
   "id": "969ba696",
   "metadata": {},
   "outputs": [],
   "source": [
    "obj_alias = \\\n",
    "    azimuthally_symmetric_and_incoherent_discretized_rspace_probe_intensity\n",
    "kwargs = \\\n",
    "    {\"gamma\": 0.3,\n",
    "     \"colorbar\": True, \n",
    "     \"scalebar\": True, \n",
    "     \"axes_ticks\": True,  \n",
    "     \"vmin\": None, \n",
    "     \"vmax\": None, \n",
    "     \"cmap\": plt.get_cmap(\"jet\")}\n",
    "_ = \\\n",
    "    obj_alias.signal.plot(**kwargs)"
   ]
  },
  {
   "cell_type": "markdown",
   "id": "6b1434b7",
   "metadata": {},
   "source": [
    "Note that you must pass probe model parameters of an azimuthally symmetric probe\n",
    "in order to construct a discretized $r$-space fractional intensity object. The\n",
    "following code block deliberately raises an exception."
   ]
  },
  {
   "cell_type": "code",
   "execution_count": null,
   "id": "2d061ab5",
   "metadata": {},
   "outputs": [],
   "source": [
    "kwargs = {\"probe_model_params\": \\\n",
    "          azimuthally_asymmetric_and_incoherent_probe_model_params, \n",
    "          \"pixel_size\": \\\n",
    "          (d_x, d_y), \n",
    "          \"viewer_dims_in_pixels\": \\\n",
    "          viewer_dims_in_pixels}\n",
    "embeam.stem.probe.discretized.symmetric.rspace.Intensity(**kwargs)"
   ]
  },
  {
   "cell_type": "markdown",
   "id": "518e1252",
   "metadata": {},
   "source": [
    "In order to calculate the $r$-space fractional intensity of an azimuthally\n",
    "asymmetric probe, one must use the\n",
    "``embeam.stem.probe.discretized.periodic.rspace.Intensity`` class. Strictly\n",
    "speaking, this class represents \"discretized periodic\" $r$-space fractional\n",
    "intensities of probes. The discretized periodic $r$-space fractional intensity\n",
    "of a given probe samples a function that approximates the exact (continuous)\n",
    "$r$-space fractional intensity of said probe. Only in the limit of arbitrarily\n",
    "small $r$-space pixel dimensions together with an arbitrarily large number of\n",
    "pixels horizontally and vertically will the discretized periodic $r$-space\n",
    "fractional intensity sample the exact $r$-space fractional intensity. Further\n",
    "below is an example of the usage of the\n",
    "``embeam.stem.probe.discretized.periodic.rspace.Intensity`` class."
   ]
  },
  {
   "cell_type": "markdown",
   "id": "f8774508",
   "metadata": {},
   "source": [
    "## Using the ``embeam.stem.probe.discretized.periodic.rspace.Wavefunction`` class ##"
   ]
  },
  {
   "cell_type": "markdown",
   "id": "832505f4",
   "metadata": {},
   "source": [
    "Here we consider the discretized periodic $r$-space wavefunctions of the two\n",
    "coherent probes specified above."
   ]
  },
  {
   "cell_type": "markdown",
   "id": "5d20bb0f",
   "metadata": {},
   "source": [
    "In the limit of arbitrarily small $r$-space pixel dimensions together with\n",
    "arbitrarily large unit cell dimensions, the discretized periodic $r$-space\n",
    "wavefunctions sample the exact $r$-space wavefunctions of the two coherent\n",
    "probes."
   ]
  },
  {
   "cell_type": "code",
   "execution_count": null,
   "id": "2d71d334",
   "metadata": {},
   "outputs": [],
   "source": [
    "kwargs = \\\n",
    "    {\"probe_model_params\": \\\n",
    "     azimuthally_symmetric_and_coherent_probe_model_params, \n",
    "     \"pixel_size\": \\\n",
    "     (d_x, d_y), \n",
    "     \"viewer_dims_in_pixels\": \\\n",
    "     viewer_dims_in_pixels}\n",
    "azimuthally_symmetric_discretized_periodic_rspace_probe_wavefunction = \\\n",
    "    embeam.stem.probe.discretized.periodic.rspace.Wavefunction(**kwargs)\n",
    "\n",
    "kwargs = \\\n",
    "    {\"probe_model_params\": \\\n",
    "     azimuthally_asymmetric_and_coherent_probe_model_params, \n",
    "     \"pixel_size\": \\\n",
    "     (d_x, d_y), \n",
    "     \"viewer_dims_in_pixels\": \\\n",
    "     viewer_dims_in_pixels}\n",
    "azimuthally_asymmetric_discretized_periodic_rspace_probe_wavefunction = \\\n",
    "    embeam.stem.probe.discretized.periodic.rspace.Wavefunction(**kwargs)"
   ]
  },
  {
   "cell_type": "markdown",
   "id": "4415f612",
   "metadata": {},
   "source": [
    "Note that the ``embeam.stem.probe.discretized.periodic.rspace.Wavefunction``\n",
    "class is also updatable, pre-serializable, and de-pre-serializable."
   ]
  },
  {
   "cell_type": "markdown",
   "id": "2077d9cf",
   "metadata": {},
   "source": [
    "Which discretized periodic $r$-space wavefunctions are azimuthally symmetric?"
   ]
  },
  {
   "cell_type": "code",
   "execution_count": null,
   "id": "5877315e",
   "metadata": {},
   "outputs": [],
   "source": [
    "obj_alias = \\\n",
    "    azimuthally_symmetric_discretized_periodic_rspace_probe_wavefunction\n",
    "\n",
    "obj_alias.is_azimuthally_symmetric"
   ]
  },
  {
   "cell_type": "code",
   "execution_count": null,
   "id": "26168250",
   "metadata": {},
   "outputs": [],
   "source": [
    "obj_alias = \\\n",
    "    azimuthally_asymmetric_discretized_periodic_rspace_probe_wavefunction\n",
    "\n",
    "obj_alias.is_azimuthally_symmetric"
   ]
  },
  {
   "cell_type": "markdown",
   "id": "cf4822ef",
   "metadata": {},
   "source": [
    "The ``embeam.stem.probe.discretized.periodic.rspace.Wavefunction`` class has an\n",
    "instance attribute ``signal`` which is set to ``None`` if the construction\n",
    "parameter ``viewer_dims_in_pixels`` satisfies\n",
    "``viewer_dims_in_pixels[0]*viewer_dims_in_pixels[1]==0``, otherwise it is set to\n",
    "a ``hyperspy`` signal that stores the data and metadata of, and visualization\n",
    "methods for the discretized periodic $r$-space wavefunction being\n",
    "represented. You can find the documentation for the ``hyperspy`` library\n",
    "[here](https://hyperspy.org/hyperspy-doc/current/index.html)."
   ]
  },
  {
   "cell_type": "code",
   "execution_count": null,
   "id": "c52aef0e",
   "metadata": {},
   "outputs": [],
   "source": [
    "obj_alias = \\\n",
    "    azimuthally_symmetric_discretized_periodic_rspace_probe_wavefunction\n",
    "kwargs = \\\n",
    "    {\"representation\": \"polar\",\n",
    "     \"gamma\": 0.3,\n",
    "     \"colorbar\": True, \n",
    "     \"scalebar\": True, \n",
    "     \"axes_ticks\": True,  \n",
    "     \"vmin\": None, \n",
    "     \"vmax\": None, \n",
    "     \"cmap\": plt.get_cmap(\"jet\")}\n",
    "_ = \\\n",
    "    obj_alias.signal.plot(**kwargs)"
   ]
  },
  {
   "cell_type": "code",
   "execution_count": null,
   "id": "0b00d1e2",
   "metadata": {},
   "outputs": [],
   "source": [
    "obj_alias = \\\n",
    "    azimuthally_asymmetric_discretized_periodic_rspace_probe_wavefunction\n",
    "kwargs = \\\n",
    "    {\"representation\": \"polar\",\n",
    "     \"gamma\": 0.3,\n",
    "     \"colorbar\": True, \n",
    "     \"scalebar\": True, \n",
    "     \"axes_ticks\": True,  \n",
    "     \"vmin\": None, \n",
    "     \"vmax\": None, \n",
    "     \"cmap\": plt.get_cmap(\"jet\")}\n",
    "_ = \\\n",
    "    obj_alias.signal.plot(**kwargs)"
   ]
  },
  {
   "cell_type": "markdown",
   "id": "25503811",
   "metadata": {},
   "source": [
    "Note that you must pass probe model parameters of a coherent probe in order to\n",
    "construct a discretized periodic $r$-space wavefunction object. The following\n",
    "code block deliberately raises an exceptions."
   ]
  },
  {
   "cell_type": "code",
   "execution_count": null,
   "id": "f0857f2c",
   "metadata": {},
   "outputs": [],
   "source": [
    "kwargs = {\"probe_model_params\": \\\n",
    "          azimuthally_symmetric_and_incoherent_probe_model_params, \n",
    "          \"pixel_size\": \\\n",
    "          (d_x, d_y), \n",
    "          \"viewer_dims_in_pixels\": \\\n",
    "          viewer_dims_in_pixels}\n",
    "embeam.stem.probe.discretized.periodic.rspace.Wavefunction(**kwargs)"
   ]
  },
  {
   "cell_type": "markdown",
   "id": "a86ed3bb",
   "metadata": {},
   "source": [
    "## Using the ``embeam.stem.probe.discretized.periodic.rspace.Intensity`` class ##"
   ]
  },
  {
   "cell_type": "markdown",
   "id": "3adf03e0",
   "metadata": {},
   "source": [
    "Here we consider the discretized periodic $r$-space fractional intensities of\n",
    "the four probes specified above."
   ]
  },
  {
   "cell_type": "markdown",
   "id": "dd004668",
   "metadata": {},
   "source": [
    "In the limit of arbitrarily small $r$-space pixel dimensions together with\n",
    "arbitrarily large unit cell dimensions, the discretized periodic $r$-space\n",
    "fractional intensities sample the exact $r$-space fractional intensities of the\n",
    "four probes."
   ]
  },
  {
   "cell_type": "code",
   "execution_count": null,
   "id": "66b09ca5",
   "metadata": {},
   "outputs": [],
   "source": [
    "kwargs = \\\n",
    "    {\"probe_model_params\": \\\n",
    "     azimuthally_symmetric_and_coherent_probe_model_params, \n",
    "     \"pixel_size\": \\\n",
    "     (d_x, d_y), \n",
    "     \"viewer_dims_in_pixels\": \\\n",
    "     viewer_dims_in_pixels}\n",
    "azimuthally_symmetric_and_coherent_discretized_periodic_rspace_probe_intensity = \\\n",
    "    embeam.stem.probe.discretized.periodic.rspace.Intensity(**kwargs)\n",
    "\n",
    "kwargs = \\\n",
    "    {\"probe_model_params\": \\\n",
    "     azimuthally_asymmetric_and_coherent_probe_model_params, \n",
    "     \"pixel_size\": \\\n",
    "     (d_x, d_y), \n",
    "     \"viewer_dims_in_pixels\": \\\n",
    "     viewer_dims_in_pixels}\n",
    "azimuthally_asymmetric_and_coherent_discretized_periodic_rspace_probe_intensity = \\\n",
    "    embeam.stem.probe.discretized.periodic.rspace.Intensity(**kwargs)\n",
    "\n",
    "kwargs = \\\n",
    "    {\"probe_model_params\": \\\n",
    "     azimuthally_symmetric_and_incoherent_probe_model_params, \n",
    "     \"pixel_size\": \\\n",
    "     (d_x, d_y), \n",
    "     \"viewer_dims_in_pixels\": \\\n",
    "     viewer_dims_in_pixels}\n",
    "azimuthally_symmetric_and_incoherent_discretized_periodic_rspace_probe_intensity = \\\n",
    "    embeam.stem.probe.discretized.periodic.rspace.Intensity(**kwargs)\n",
    "\n",
    "kwargs = \\\n",
    "    {\"probe_model_params\": \\\n",
    "     azimuthally_asymmetric_and_incoherent_probe_model_params, \n",
    "     \"pixel_size\": \\\n",
    "     (d_x, d_y), \n",
    "     \"viewer_dims_in_pixels\": \\\n",
    "     viewer_dims_in_pixels}\n",
    "azimuthally_asymmetric_and_incoherent_discretized_periodic_rspace_probe_intensity = \\\n",
    "    embeam.stem.probe.discretized.periodic.rspace.Intensity(**kwargs)"
   ]
  },
  {
   "cell_type": "markdown",
   "id": "52384822",
   "metadata": {},
   "source": [
    "Alternatively, we can construct the discretized $r$-space fractional intensity\n",
    "object of the azimuthally symmetric and coherent probe from the corresponding\n",
    "discretized $r$-space wavefunctions object, which is faster."
   ]
  },
  {
   "cell_type": "code",
   "execution_count": null,
   "id": "d2f97ecb",
   "metadata": {},
   "outputs": [],
   "source": [
    "cls_alias = \\\n",
    "    embeam.stem.probe.discretized.periodic.rspace.Intensity\n",
    "\n",
    "obj_alias = \\\n",
    "    azimuthally_symmetric_discretized_periodic_rspace_probe_wavefunction\n",
    "azimuthally_symmetric_and_coherent_discretized_periodic_rspace_probe_intensity = \\\n",
    "    cls_alias.construct_from_discretized_wavefunction(obj_alias)\n",
    "\n",
    "obj_alias = \\\n",
    "    azimuthally_asymmetric_discretized_periodic_rspace_probe_wavefunction\n",
    "azimuthally_asymmetric_and_coherent_discretized_periodic_rspace_probe_intensity = \\\n",
    "    cls_alias.construct_from_discretized_wavefunction(obj_alias)"
   ]
  },
  {
   "cell_type": "markdown",
   "id": "cb66c38f",
   "metadata": {},
   "source": [
    "Note that the ``embeam.stem.probe.discretized.periodic.rspace.Intensity`` class\n",
    "is also updatable, pre-serializable, and de-pre-serializable."
   ]
  },
  {
   "cell_type": "markdown",
   "id": "71a9af97",
   "metadata": {},
   "source": [
    "Which discretized periodic $r$-space fractional intensities are azimuthally\n",
    "symmetric?"
   ]
  },
  {
   "cell_type": "code",
   "execution_count": null,
   "id": "df2d4473",
   "metadata": {},
   "outputs": [],
   "source": [
    "obj_alias = \\\n",
    "    azimuthally_symmetric_and_coherent_discretized_periodic_rspace_probe_intensity\n",
    "\n",
    "obj_alias.is_azimuthally_symmetric"
   ]
  },
  {
   "cell_type": "code",
   "execution_count": null,
   "id": "42a46995",
   "metadata": {},
   "outputs": [],
   "source": [
    "obj_alias = \\\n",
    "    azimuthally_asymmetric_and_coherent_discretized_periodic_rspace_probe_intensity\n",
    "\n",
    "obj_alias.is_azimuthally_symmetric"
   ]
  },
  {
   "cell_type": "code",
   "execution_count": null,
   "id": "6b88a4bf",
   "metadata": {},
   "outputs": [],
   "source": [
    "obj_alias = \\\n",
    "    azimuthally_symmetric_and_incoherent_discretized_periodic_rspace_probe_intensity\n",
    "\n",
    "obj_alias.is_azimuthally_symmetric"
   ]
  },
  {
   "cell_type": "code",
   "execution_count": null,
   "id": "c24d73b3",
   "metadata": {},
   "outputs": [],
   "source": [
    "obj_alias = \\\n",
    "    azimuthally_asymmetric_and_incoherent_discretized_periodic_rspace_probe_intensity\n",
    "\n",
    "obj_alias.is_azimuthally_symmetric"
   ]
  },
  {
   "cell_type": "markdown",
   "id": "72e21662",
   "metadata": {},
   "source": [
    "Which discretized periodic $r$-space fractional intensities are those of\n",
    "coherent probes?"
   ]
  },
  {
   "cell_type": "code",
   "execution_count": null,
   "id": "5650982c",
   "metadata": {},
   "outputs": [],
   "source": [
    "obj_alias = \\\n",
    "    azimuthally_symmetric_and_coherent_discretized_periodic_rspace_probe_intensity\n",
    "\n",
    "obj_alias.is_coherent"
   ]
  },
  {
   "cell_type": "code",
   "execution_count": null,
   "id": "d2bd7b7d",
   "metadata": {},
   "outputs": [],
   "source": [
    "obj_alias = \\\n",
    "    azimuthally_asymmetric_and_coherent_discretized_periodic_rspace_probe_intensity\n",
    "\n",
    "obj_alias.is_coherent"
   ]
  },
  {
   "cell_type": "code",
   "execution_count": null,
   "id": "56136eda",
   "metadata": {},
   "outputs": [],
   "source": [
    "obj_alias = \\\n",
    "    azimuthally_symmetric_and_incoherent_discretized_periodic_rspace_probe_intensity\n",
    "\n",
    "obj_alias.is_coherent"
   ]
  },
  {
   "cell_type": "code",
   "execution_count": null,
   "id": "d63ae37d",
   "metadata": {},
   "outputs": [],
   "source": [
    "obj_alias = \\\n",
    "    azimuthally_asymmetric_and_incoherent_discretized_periodic_rspace_probe_intensity\n",
    "\n",
    "obj_alias.is_coherent"
   ]
  },
  {
   "cell_type": "markdown",
   "id": "4d0611aa",
   "metadata": {},
   "source": [
    "The ``embeam.stem.probe.discretized.periodic.rspace.Intensity`` class has an\n",
    "instance attribute ``signal`` which is set to ``None`` if the construction\n",
    "parameter ``viewer_dims_in_pixels`` satisfies\n",
    "``viewer_dims_in_pixels[0]*viewer_dims_in_pixels[1]==0``, otherwise it is set to\n",
    "a ``hyperspy`` signal that stores the data and metadata of, and visualization\n",
    "methods for the discretized periodic $r$-space fractional intensity being\n",
    "represented. You can find the documentation for the ``hyperspy`` library\n",
    "[here](https://hyperspy.org/hyperspy-doc/current/index.html)."
   ]
  },
  {
   "cell_type": "code",
   "execution_count": null,
   "id": "8fd3b76f",
   "metadata": {},
   "outputs": [],
   "source": [
    "obj_alias = \\\n",
    "    azimuthally_symmetric_and_coherent_discretized_periodic_rspace_probe_intensity\n",
    "kwargs = \\\n",
    "    {\"gamma\": 0.3,\n",
    "     \"colorbar\": True, \n",
    "     \"scalebar\": True, \n",
    "     \"axes_ticks\": True,  \n",
    "     \"vmin\": None, \n",
    "     \"vmax\": None, \n",
    "     \"cmap\": plt.get_cmap(\"jet\")}\n",
    "_ = \\\n",
    "    obj_alias.signal.plot(**kwargs)"
   ]
  },
  {
   "cell_type": "code",
   "execution_count": null,
   "id": "853bb030",
   "metadata": {},
   "outputs": [],
   "source": [
    "obj_alias = \\\n",
    "    azimuthally_asymmetric_and_coherent_discretized_periodic_rspace_probe_intensity\n",
    "kwargs = \\\n",
    "    {\"gamma\": 0.3,\n",
    "     \"colorbar\": True, \n",
    "     \"scalebar\": True, \n",
    "     \"axes_ticks\": True,  \n",
    "     \"vmin\": None, \n",
    "     \"vmax\": None, \n",
    "     \"cmap\": plt.get_cmap(\"jet\")}\n",
    "_ = \\\n",
    "    obj_alias.signal.plot(**kwargs)"
   ]
  },
  {
   "cell_type": "code",
   "execution_count": null,
   "id": "2fda86fd",
   "metadata": {},
   "outputs": [],
   "source": [
    "obj_alias = \\\n",
    "    azimuthally_symmetric_and_incoherent_discretized_periodic_rspace_probe_intensity\n",
    "kwargs = \\\n",
    "    {\"gamma\": 0.3,\n",
    "     \"colorbar\": True, \n",
    "     \"scalebar\": True, \n",
    "     \"axes_ticks\": True,  \n",
    "     \"vmin\": None, \n",
    "     \"vmax\": None, \n",
    "     \"cmap\": plt.get_cmap(\"jet\")}\n",
    "_ = \\\n",
    "    obj_alias.signal.plot(**kwargs)"
   ]
  },
  {
   "cell_type": "code",
   "execution_count": null,
   "id": "8cd450bf",
   "metadata": {},
   "outputs": [],
   "source": [
    "obj_alias = \\\n",
    "    azimuthally_asymmetric_and_incoherent_discretized_periodic_rspace_probe_intensity\n",
    "kwargs = \\\n",
    "    {\"gamma\": 0.3,\n",
    "     \"colorbar\": True, \n",
    "     \"scalebar\": True, \n",
    "     \"axes_ticks\": True,  \n",
    "     \"vmin\": None, \n",
    "     \"vmax\": None, \n",
    "     \"cmap\": plt.get_cmap(\"jet\")}\n",
    "_ = \\\n",
    "    obj_alias.signal.plot(**kwargs)"
   ]
  },
  {
   "cell_type": "markdown",
   "id": "fe46ca21",
   "metadata": {},
   "source": [
    "## Using the ``embeam.stem.probe.resolution.rise_distance`` function ##"
   ]
  },
  {
   "cell_type": "markdown",
   "id": "29711929",
   "metadata": {},
   "source": [
    "Here we estimate the rise-distance measure of the spatial resolution of the four\n",
    "probes specified above, for two different values of the \"rise\"."
   ]
  },
  {
   "cell_type": "markdown",
   "id": "85ee9a4c",
   "metadata": {},
   "source": [
    "For each of the azimuthally symmetric probes, there are two ways we can estimate\n",
    "the rise-distance measure of the spatial resolution: 1. Pass an instance of\n",
    "``embeam.stem.probe.discretized.symmetric.rspace.Intensity`` which represents\n",
    "the discretized $r$-space fractional intensity that samples the exact\n",
    "(continuous) $r$-space fractional intensity of the probe; 2. Pass an instance of\n",
    "``embeam.stem.probe.discretized.periodic.rspace.Intensity`` which represents the\n",
    "discretized periodic $r$-space fractional intensity that samples a function that\n",
    "approximates the exact (continuous) $r$-space fractional intensity of the\n",
    "probe. The former is more accurate than the latter since the latter introduces\n",
    "unphysical artifacts in the calculation as a result of the imposed periodic\n",
    "boundary conditions. However, in the limit of arbitrarily small $r$-space pixel\n",
    "dimensions together with an arbitrarily large number of pixels horizontally and\n",
    "vertically will the discretized periodic $r$-space fractional intensity sample\n",
    "the exact $r$-space fractional intensity of the probe, thus the aforementioned\n",
    "unphysical artifacts are controllable and can be made arbitrarily small in\n",
    "principle. The advantage of using the latter approach is that it is much faster\n",
    "to construct an instance of\n",
    "``embeam.stem.probe.discretized.periodic.rspace.Intensity`` than an instance of\n",
    "``embeam.stem.probe.discretized.symmetric.rspace.Intensity`` for the same\n",
    "construction parameters."
   ]
  },
  {
   "cell_type": "code",
   "execution_count": null,
   "id": "bfd47ab7",
   "metadata": {},
   "outputs": [],
   "source": [
    "# Approach #1 for the azimuthally symmetric and coherent probe.\n",
    "discretized_rspace_intensity = \\\n",
    "    azimuthally_symmetric_and_coherent_discretized_rspace_probe_intensity\n",
    "kwargs = \\\n",
    "    {\"discretized_rspace_intensity\": discretized_rspace_intensity, \n",
    "     \"rise\": (40, 60)}\n",
    "rise_distance = \\\n",
    "    embeam.stem.probe.resolution.rise_distance(**kwargs)\n",
    "\n",
    "rise_distance  # In units of Å."
   ]
  },
  {
   "cell_type": "code",
   "execution_count": null,
   "id": "5e446c62",
   "metadata": {},
   "outputs": [],
   "source": [
    "# Approach #2 for the azimuthally symmetric and coherent probe.\n",
    "discretized_rspace_intensity = \\\n",
    "    azimuthally_symmetric_and_coherent_discretized_periodic_rspace_probe_intensity\n",
    "kwargs = \\\n",
    "    {\"discretized_rspace_intensity\": discretized_rspace_intensity, \n",
    "     \"rise\": (40, 60)}\n",
    "rise_distance = \\\n",
    "    embeam.stem.probe.resolution.rise_distance(**kwargs)\n",
    "\n",
    "rise_distance  # In units of Å."
   ]
  },
  {
   "cell_type": "code",
   "execution_count": null,
   "id": "f2189cbe",
   "metadata": {},
   "outputs": [],
   "source": [
    "# Approach #1 for the azimuthally symmetric and incoherent probe.\n",
    "discretized_rspace_intensity = \\\n",
    "    azimuthally_symmetric_and_incoherent_discretized_rspace_probe_intensity\n",
    "kwargs = \\\n",
    "    {\"discretized_rspace_intensity\": discretized_rspace_intensity, \n",
    "     \"rise\": (40, 60)}\n",
    "rise_distance = \\\n",
    "    embeam.stem.probe.resolution.rise_distance(**kwargs)\n",
    "\n",
    "rise_distance  # In units of Å."
   ]
  },
  {
   "cell_type": "code",
   "execution_count": null,
   "id": "363f4980",
   "metadata": {},
   "outputs": [],
   "source": [
    "# Approach #2 for the azimuthally symmetric and incoherent probe.\n",
    "discretized_rspace_intensity = \\\n",
    "    azimuthally_symmetric_and_incoherent_discretized_periodic_rspace_probe_intensity\n",
    "kwargs = \\\n",
    "    {\"discretized_rspace_intensity\": discretized_rspace_intensity, \n",
    "     \"rise\": (40, 60)}\n",
    "rise_distance = \\\n",
    "    embeam.stem.probe.resolution.rise_distance(**kwargs)\n",
    "\n",
    "rise_distance  # In units of Å."
   ]
  },
  {
   "cell_type": "markdown",
   "id": "fef78bb1",
   "metadata": {},
   "source": [
    "For each of the azimuthally asymmetric probes, one must use the second approach\n",
    "mentioned above to estimate the rise-distance measure of the spatial resolution.\n",
    "Note that the Python function ``embeam.stem.probe.resolution.rise_distance`` is\n",
    "slow for the azimuthally asymmetric probes, compared to azimuthally symmetric\n",
    "probes."
   ]
  },
  {
   "cell_type": "code",
   "execution_count": null,
   "id": "597f4043",
   "metadata": {},
   "outputs": [],
   "source": [
    "# For the azimuthally asymmetric and coherent probe.\n",
    "discretized_rspace_intensity = \\\n",
    "    azimuthally_asymmetric_and_coherent_discretized_periodic_rspace_probe_intensity\n",
    "kwargs = \\\n",
    "    {\"discretized_rspace_intensity\": discretized_rspace_intensity, \n",
    "     \"rise\": (40, 60)}\n",
    "rise_distance = \\\n",
    "    embeam.stem.probe.resolution.rise_distance(**kwargs)\n",
    "\n",
    "rise_distance  # In units of Å."
   ]
  },
  {
   "cell_type": "code",
   "execution_count": null,
   "id": "57418ef4",
   "metadata": {},
   "outputs": [],
   "source": [
    "# For the azimuthally asymmetric and incoherent probe.\n",
    "discretized_rspace_intensity = \\\n",
    "    azimuthally_asymmetric_and_incoherent_discretized_periodic_rspace_probe_intensity\n",
    "kwargs = \\\n",
    "    {\"discretized_rspace_intensity\": discretized_rspace_intensity, \n",
    "     \"rise\": (40, 60)}\n",
    "rise_distance = \\\n",
    "    embeam.stem.probe.resolution.rise_distance(**kwargs)\n",
    "\n",
    "rise_distance  # In units of Å."
   ]
  },
  {
   "cell_type": "markdown",
   "id": "8b39be79",
   "metadata": {},
   "source": [
    "## Using the ``embeam.stem.probe.resolution.information`` function ##"
   ]
  },
  {
   "cell_type": "markdown",
   "id": "e18be931",
   "metadata": {},
   "source": [
    "Here we estimate the information resolution of the four probes specified above,\n",
    "for two signal-to-noise ratios."
   ]
  },
  {
   "cell_type": "markdown",
   "id": "e2c10f99",
   "metadata": {},
   "source": [
    "Because the calculation of the information resolution is prohibitively expensive\n",
    "in terms of computational time when periodic boundary conditions are not\n",
    "imposed, the Python function ``embeam.stem.probe.resolution.information``\n",
    "accepts as input only instances\n",
    "``embeam.stem.probe.discretized.periodic.rspace.Intensity``."
   ]
  },
  {
   "cell_type": "code",
   "execution_count": null,
   "id": "2d290efe",
   "metadata": {},
   "outputs": [],
   "source": [
    "discretized_rspace_intensity = \\\n",
    "    azimuthally_symmetric_and_coherent_discretized_periodic_rspace_probe_intensity\n",
    "kwargs = \\\n",
    "    {\"discretized_rspace_intensity\": discretized_rspace_intensity, \n",
    "     \"signal_to_noise_ratio\": (25, 50)}\n",
    "R_inf = \\\n",
    "    embeam.stem.probe.resolution.information(**kwargs)\n",
    "\n",
    "R_inf  # In units of Å."
   ]
  },
  {
   "cell_type": "code",
   "execution_count": null,
   "id": "22985cf7",
   "metadata": {},
   "outputs": [],
   "source": [
    "discretized_rspace_intensity = \\\n",
    "    azimuthally_symmetric_and_incoherent_discretized_periodic_rspace_probe_intensity\n",
    "kwargs = \\\n",
    "    {\"discretized_rspace_intensity\": discretized_rspace_intensity, \n",
    "     \"signal_to_noise_ratio\": (25, 50)}\n",
    "R_inf = \\\n",
    "    embeam.stem.probe.resolution.information(**kwargs)\n",
    "\n",
    "R_inf  # In units of Å."
   ]
  },
  {
   "cell_type": "code",
   "execution_count": null,
   "id": "a4f4be0e",
   "metadata": {},
   "outputs": [],
   "source": [
    "discretized_rspace_intensity = \\\n",
    "    azimuthally_asymmetric_and_coherent_discretized_periodic_rspace_probe_intensity\n",
    "kwargs = \\\n",
    "    {\"discretized_rspace_intensity\": discretized_rspace_intensity, \n",
    "     \"signal_to_noise_ratio\": (25, 50)}\n",
    "R_inf = \\\n",
    "    embeam.stem.probe.resolution.information(**kwargs)\n",
    "\n",
    "R_inf  # In units of Å."
   ]
  },
  {
   "cell_type": "code",
   "execution_count": null,
   "id": "98d8348a",
   "metadata": {},
   "outputs": [],
   "source": [
    "discretized_rspace_intensity = \\\n",
    "    azimuthally_asymmetric_and_incoherent_discretized_periodic_rspace_probe_intensity\n",
    "kwargs = \\\n",
    "    {\"discretized_rspace_intensity\": discretized_rspace_intensity, \n",
    "     \"signal_to_noise_ratio\": (25, 50)}\n",
    "R_inf = \\\n",
    "    embeam.stem.probe.resolution.information(**kwargs)\n",
    "\n",
    "R_inf  # In units of Å."
   ]
  }
 ],
 "metadata": {
  "kernelspec": {
   "display_name": "Python 3 (ipykernel)",
   "language": "python",
   "name": "python3"
  },
  "language_info": {
   "codemirror_mode": {
    "name": "ipython",
    "version": 3
   },
   "file_extension": ".py",
   "mimetype": "text/x-python",
   "name": "python",
   "nbconvert_exporter": "python",
   "pygments_lexer": "ipython3",
   "version": "3.11.13"
  }
 },
 "nbformat": 4,
 "nbformat_minor": 5
}
