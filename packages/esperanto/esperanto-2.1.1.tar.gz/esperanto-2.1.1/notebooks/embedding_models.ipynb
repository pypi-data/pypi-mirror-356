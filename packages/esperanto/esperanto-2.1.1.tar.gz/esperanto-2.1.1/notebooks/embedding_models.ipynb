{
 "cells": [
  {
   "cell_type": "markdown",
   "metadata": {},
   "source": [
    "# Embedding Models"
   ]
  },
  {
   "cell_type": "code",
   "execution_count": 1,
   "metadata": {},
   "outputs": [],
   "source": [
    "from esperanto import AIFactory\n",
    "embedding_models = {\n",
    "    \"openai\": \"text-embedding-3-small\",\n",
    "    \"ollama\": \"mxbai-embed-large\",\n",
    "    \"vertex\": \"textembedding-gecko\",\n",
    "    \"google\": \"text-embedding-004\",\n",
    "    \"mistral\": \"mistral-embed\",\n",
    "    \"voyage\": \"voyage-3-large\",\n",
    "    \"vertex\": \"text-embedding-004\",\n",
    "    \"transformers\": \"sentence-transformers/all-MiniLM-L6-v2\"\n",
    "}\n",
    "\n",
    "texts = [\"Hello, world!\", \"Another text\"]\n"
   ]
  },
  {
   "cell_type": "markdown",
   "metadata": {},
   "source": [
    "### Synchronous"
   ]
  },
  {
   "cell_type": "code",
   "execution_count": 2,
   "metadata": {},
   "outputs": [
    {
     "name": "stdout",
     "output_type": "stream",
     "text": [
      "Results for openai:\n",
      "1536\n",
      "1536\n",
      "\n",
      "==================================================\n",
      "\n",
      "Results for ollama:\n",
      "1024\n",
      "1024\n",
      "\n",
      "==================================================\n",
      "\n",
      "Results for vertex:\n",
      "768\n",
      "768\n",
      "\n",
      "==================================================\n",
      "\n",
      "Results for google:\n",
      "768\n",
      "768\n",
      "\n",
      "==================================================\n",
      "\n",
      "Results for mistral:\n",
      "1024\n",
      "1024\n",
      "\n",
      "==================================================\n",
      "\n",
      "Results for voyage:\n",
      "1024\n",
      "1024\n",
      "\n",
      "==================================================\n",
      "\n",
      "Results for transformers:\n",
      "384\n",
      "384\n",
      "\n",
      "==================================================\n",
      "\n"
     ]
    }
   ],
   "source": [
    "\n",
    "for name, config in embedding_models.items():\n",
    "    embed_model = AIFactory.create_embedding(provider=name, model_name=config)\n",
    "    print(f\"Results for {embed_model.provider}:\")\n",
    "    embeddings = embed_model.embed(texts)\n",
    "    print(len(embeddings[0]))\n",
    "    print(len(embeddings[1]))\n",
    "    print(\"\\n\" + \"=\"*50 + \"\\n\")\n",
    "    "
   ]
  },
  {
   "cell_type": "markdown",
   "metadata": {},
   "source": [
    "### Asynchronous"
   ]
  },
  {
   "cell_type": "code",
   "execution_count": 3,
   "metadata": {},
   "outputs": [
    {
     "name": "stdout",
     "output_type": "stream",
     "text": [
      "Results for openai:\n",
      "1536\n",
      "1536\n",
      "\n",
      "==================================================\n",
      "\n",
      "Results for ollama:\n",
      "1024\n",
      "1024\n",
      "\n",
      "==================================================\n",
      "\n",
      "Results for vertex:\n",
      "768\n",
      "768\n",
      "\n",
      "==================================================\n",
      "\n",
      "Results for google:\n",
      "768\n",
      "768\n",
      "\n",
      "==================================================\n",
      "\n",
      "Results for mistral:\n",
      "1024\n",
      "1024\n",
      "\n",
      "==================================================\n",
      "\n",
      "Results for voyage:\n",
      "1024\n",
      "1024\n",
      "\n",
      "==================================================\n",
      "\n",
      "Results for transformers:\n",
      "384\n",
      "384\n",
      "\n",
      "==================================================\n",
      "\n"
     ]
    }
   ],
   "source": [
    "\n",
    "for name, config in embedding_models.items():\n",
    "    embed_model = AIFactory.create_embedding(provider=name, model_name=config)\n",
    "    print(f\"Results for {embed_model.provider}:\")\n",
    "    embeddings = await embed_model.aembed(texts=texts)\n",
    "    print(len(embeddings[0]))\n",
    "    print(len(embeddings[1]))\n",
    "    print(\"\\n\" + \"=\"*50 + \"\\n\")\n",
    "    "
   ]
  }
 ],
 "metadata": {
  "kernelspec": {
   "display_name": ".venv",
   "language": "python",
   "name": "python3"
  },
  "language_info": {
   "codemirror_mode": {
    "name": "ipython",
    "version": 3
   },
   "file_extension": ".py",
   "mimetype": "text/x-python",
   "name": "python",
   "nbconvert_exporter": "python",
   "pygments_lexer": "ipython3",
   "version": "3.10.6"
  }
 },
 "nbformat": 4,
 "nbformat_minor": 2
}
