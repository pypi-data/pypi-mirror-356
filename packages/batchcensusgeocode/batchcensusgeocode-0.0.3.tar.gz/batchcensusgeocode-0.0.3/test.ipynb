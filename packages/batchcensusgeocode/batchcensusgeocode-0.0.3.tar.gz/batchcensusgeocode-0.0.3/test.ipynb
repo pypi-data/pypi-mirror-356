{
 "cells": [
  {
   "cell_type": "code",
   "execution_count": null,
   "id": "175e3d82",
   "metadata": {},
   "outputs": [],
   "source": [
    "import requests\n",
    "import tempfile\n",
    "import os"
   ]
  },
  {
   "cell_type": "code",
   "execution_count": 28,
   "id": "a13a0435",
   "metadata": {},
   "outputs": [],
   "source": [
    "def get_census_geocode_batch_results(\n",
    "        inputpath : str,\n",
    "        outputpath : str,\n",
    "        header : bool = True,\n",
    "        chunksize : int = 30\n",
    "):\n",
    "    header = True\n",
    "    chunksize = 30\n",
    "    url = \"https://geocoding.geo.census.gov/geocoder/geographies/addressbatch\"\n",
    "    data = {\n",
    "        'benchmark': 'Public_AR_Current',\n",
    "        'vintage': 'Current_Current',\n",
    "    }\n",
    "\n",
    "    with open('data/test.csv') as f:\n",
    "        addresses = f.readlines()\n",
    "\n",
    "    start_row = int(header)\n",
    "    total_rows = len(addresses) - start_row\n",
    "    with tempfile.TemporaryDirectory() as dirname:\n",
    "        end_row = start_row + chunksize\n",
    "        while start_row < total_rows:\n",
    "            chunk = addresses[start_row:end_row]\n",
    "\n",
    "            filepath = os.path.join(dirname, f'file{start_row}.csv')\n",
    "            with open(filepath, 'w') as f:\n",
    "                f.writelines(chunk)\n",
    "\n",
    "            files = {\n",
    "                'addressFile': (filepath, open(filepath, 'rb'), 'text/csv')\n",
    "            }\n",
    "\n",
    "            response = requests.post(url, data=data, files=files)\n",
    "\n",
    "            with open(outputpath, \"ab\") as f:\n",
    "                f.write(response.content)\n",
    "\n",
    "            print(f'{min([end_row - 1, total_rows])} of {total_rows} complete')\n",
    "\n",
    "            start_row = end_row\n",
    "            end_row = end_row + chunksize\n",
    "\n"
   ]
  },
  {
   "cell_type": "code",
   "execution_count": 29,
   "id": "e58931e6",
   "metadata": {},
   "outputs": [
    {
     "name": "stdout",
     "output_type": "stream",
     "text": [
      "30 of 99 complete\n",
      "60 of 99 complete\n",
      "90 of 99 complete\n",
      "99 of 99 complete\n"
     ]
    }
   ],
   "source": [
    "get_census_geocode_batch_results(\n",
    "    'data/test.csv',\n",
    "    'data/results.csv'\n",
    ")"
   ]
  }
 ],
 "metadata": {
  "kernelspec": {
   "display_name": "venv",
   "language": "python",
   "name": "python3"
  },
  "language_info": {
   "codemirror_mode": {
    "name": "ipython",
    "version": 3
   },
   "file_extension": ".py",
   "mimetype": "text/x-python",
   "name": "python",
   "nbconvert_exporter": "python",
   "pygments_lexer": "ipython3",
   "version": "3.13.3"
  }
 },
 "nbformat": 4,
 "nbformat_minor": 5
}
