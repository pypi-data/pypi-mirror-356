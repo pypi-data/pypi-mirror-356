{
 "cells": [
  {
   "cell_type": "markdown",
   "id": "e7fb060b-5f70-4a71-b182-69729d8860f0",
   "metadata": {},
   "source": [
    "# Quick start with MOEXALGO!"
   ]
  },
  {
   "cell_type": "markdown",
   "id": "7b15b329-fbef-4c01-924a-851807586047",
   "metadata": {},
   "source": [
    "### Авторизация\n",
    "\n",
    "Для доступа к данным необходимо зарегестрироваться на https://passport.moex.com и сохранить логин/пароль"
   ]
  },
  {
   "cell_type": "code",
   "execution_count": 1,
   "id": "feb0dd72-17aa-4dc5-be1d-654a35038ce6",
   "metadata": {
    "ExecuteTime": {
     "end_time": "2024-04-25T14:42:28.895519862Z",
     "start_time": "2024-04-25T14:42:28.607667803Z"
    }
   },
   "outputs": [
    {
     "data": {
      "text/plain": "False"
     },
     "execution_count": 1,
     "metadata": {},
     "output_type": "execute_result"
    }
   ],
   "source": [
    "from moexalgo import session, Market, Ticker, CandlePeriod\n",
    "\n",
    "username = \"\"\n",
    "password = \"\"\n",
    "session.authorize(username, password)"
   ]
  },
  {
   "cell_type": "markdown",
   "id": "baae8cba-ccfc-4395-a6aa-ca191b669219",
   "metadata": {},
   "source": [
    "### Cписок доступных тикеров"
   ]
  },
  {
   "cell_type": "code",
   "execution_count": 2,
   "id": "6f84b675-3b20-4a7d-b73f-60212e19df59",
   "metadata": {
    "ExecuteTime": {
     "end_time": "2024-04-25T14:42:28.896493355Z",
     "start_time": "2024-04-25T14:42:28.807960517Z"
    }
   },
   "outputs": [
    {
     "data": {
      "text/plain": "    ticker   shortname  lotsize  decimals  minstep   issuesize          isin  \\\n0     ABIO  iАРТГЕН ао       10         2    0.020    92645451  RU000A0JNAB6   \n1     ABRD  АбрауДюрсо       10         1    0.200    98000184  RU000A0JS5T7   \n2     ACKO     АСКО ао      100         2    0.020   536000000  RU000A0JXS91   \n3     AFKS  Система ао      100         3    0.001  9650000000  RU000A0DQZE3   \n4     AFLT    Аэрофлот       10         2    0.010  3975771215  RU0009062285   \n..     ...         ...      ...       ...      ...         ...           ...   \n247   YRSB     ТНСэнЯр       10         0    2.000    17143584  RU000A0D8760   \n248  YRSBP   ТНСэнЯр-п       10         1    0.500     4507320  RU000A0D88B3   \n249   ZAYM   Займер ао       10         2    0.050   100000000  RU000A107RM8   \n250   ZILL      ЗИЛ ао        1         0    5.000     2659962  RU0009086193   \n251   ZVEZ   ЗВЕЗДА ао     1000         2    0.010   562020480  RU0009091300   \n\n        regnumber  listlevel  \n0    1-01-08902-A          2  \n1    1-02-12500-A          3  \n2    1-01-52065-Z          3  \n3    1-05-01669-A          1  \n4    1-01-00010-A          1  \n..            ...        ...  \n247  1-01-50099-A          3  \n248  2-01-50099-A          3  \n249  1-01-16767-A          3  \n250  1-02-00036-A          3  \n251  1-01-00169-D          3  \n\n[252 rows x 9 columns]",
      "text/html": "<div>\n<style scoped>\n    .dataframe tbody tr th:only-of-type {\n        vertical-align: middle;\n    }\n\n    .dataframe tbody tr th {\n        vertical-align: top;\n    }\n\n    .dataframe thead th {\n        text-align: right;\n    }\n</style>\n<table border=\"1\" class=\"dataframe\">\n  <thead>\n    <tr style=\"text-align: right;\">\n      <th></th>\n      <th>ticker</th>\n      <th>shortname</th>\n      <th>lotsize</th>\n      <th>decimals</th>\n      <th>minstep</th>\n      <th>issuesize</th>\n      <th>isin</th>\n      <th>regnumber</th>\n      <th>listlevel</th>\n    </tr>\n  </thead>\n  <tbody>\n    <tr>\n      <th>0</th>\n      <td>ABIO</td>\n      <td>iАРТГЕН ао</td>\n      <td>10</td>\n      <td>2</td>\n      <td>0.020</td>\n      <td>92645451</td>\n      <td>RU000A0JNAB6</td>\n      <td>1-01-08902-A</td>\n      <td>2</td>\n    </tr>\n    <tr>\n      <th>1</th>\n      <td>ABRD</td>\n      <td>АбрауДюрсо</td>\n      <td>10</td>\n      <td>1</td>\n      <td>0.200</td>\n      <td>98000184</td>\n      <td>RU000A0JS5T7</td>\n      <td>1-02-12500-A</td>\n      <td>3</td>\n    </tr>\n    <tr>\n      <th>2</th>\n      <td>ACKO</td>\n      <td>АСКО ао</td>\n      <td>100</td>\n      <td>2</td>\n      <td>0.020</td>\n      <td>536000000</td>\n      <td>RU000A0JXS91</td>\n      <td>1-01-52065-Z</td>\n      <td>3</td>\n    </tr>\n    <tr>\n      <th>3</th>\n      <td>AFKS</td>\n      <td>Система ао</td>\n      <td>100</td>\n      <td>3</td>\n      <td>0.001</td>\n      <td>9650000000</td>\n      <td>RU000A0DQZE3</td>\n      <td>1-05-01669-A</td>\n      <td>1</td>\n    </tr>\n    <tr>\n      <th>4</th>\n      <td>AFLT</td>\n      <td>Аэрофлот</td>\n      <td>10</td>\n      <td>2</td>\n      <td>0.010</td>\n      <td>3975771215</td>\n      <td>RU0009062285</td>\n      <td>1-01-00010-A</td>\n      <td>1</td>\n    </tr>\n    <tr>\n      <th>...</th>\n      <td>...</td>\n      <td>...</td>\n      <td>...</td>\n      <td>...</td>\n      <td>...</td>\n      <td>...</td>\n      <td>...</td>\n      <td>...</td>\n      <td>...</td>\n    </tr>\n    <tr>\n      <th>247</th>\n      <td>YRSB</td>\n      <td>ТНСэнЯр</td>\n      <td>10</td>\n      <td>0</td>\n      <td>2.000</td>\n      <td>17143584</td>\n      <td>RU000A0D8760</td>\n      <td>1-01-50099-A</td>\n      <td>3</td>\n    </tr>\n    <tr>\n      <th>248</th>\n      <td>YRSBP</td>\n      <td>ТНСэнЯр-п</td>\n      <td>10</td>\n      <td>1</td>\n      <td>0.500</td>\n      <td>4507320</td>\n      <td>RU000A0D88B3</td>\n      <td>2-01-50099-A</td>\n      <td>3</td>\n    </tr>\n    <tr>\n      <th>249</th>\n      <td>ZAYM</td>\n      <td>Займер ао</td>\n      <td>10</td>\n      <td>2</td>\n      <td>0.050</td>\n      <td>100000000</td>\n      <td>RU000A107RM8</td>\n      <td>1-01-16767-A</td>\n      <td>3</td>\n    </tr>\n    <tr>\n      <th>250</th>\n      <td>ZILL</td>\n      <td>ЗИЛ ао</td>\n      <td>1</td>\n      <td>0</td>\n      <td>5.000</td>\n      <td>2659962</td>\n      <td>RU0009086193</td>\n      <td>1-02-00036-A</td>\n      <td>3</td>\n    </tr>\n    <tr>\n      <th>251</th>\n      <td>ZVEZ</td>\n      <td>ЗВЕЗДА ао</td>\n      <td>1000</td>\n      <td>2</td>\n      <td>0.010</td>\n      <td>562020480</td>\n      <td>RU0009091300</td>\n      <td>1-01-00169-D</td>\n      <td>3</td>\n    </tr>\n  </tbody>\n</table>\n<p>252 rows × 9 columns</p>\n</div>"
     },
     "execution_count": 2,
     "metadata": {},
     "output_type": "execute_result"
    }
   ],
   "source": [
    "# Акции\n",
    "eq = Market('EQ')\n",
    "eq.tickers()"
   ]
  },
  {
   "cell_type": "code",
   "execution_count": 3,
   "id": "247e22c1-bbec-44f6-b50a-997fed75b60f",
   "metadata": {
    "ExecuteTime": {
     "end_time": "2024-04-25T14:42:28.897308539Z",
     "start_time": "2024-04-25T14:42:28.808487575Z"
    }
   },
   "outputs": [
    {
     "data": {
      "text/plain": "           ticker   shortname  lotsize  decimals  minstep\n0    AEDRUBTODTOM  AED_TODTOM   100000         4   0.0001\n1      AEDRUB_SPT  AEDRUB_SPT     1000         4   0.0025\n2      AEDRUB_TMS  AEDRUB_TMS        1         4   0.0025\n3      AEDRUB_TOD  AEDRUB_TOD     1000         4   0.0025\n4      AEDRUB_TOM  AEDRUB_TOM     1000         4   0.0025\n..            ...         ...      ...       ...      ...\n194    UZSRUB_TOM  UZSRUB_TOM  1000000         4   0.0025\n195  ZARRUBTODTOM  ZAR_TODTOM  1000000         4   0.0001\n196    ZARRUB_TMS  ZARRUB_TMS        1         4   0.0025\n197    ZARRUB_TOD  ZARRUB_TOD    10000         4   0.0025\n198    ZARRUB_TOM  ZARRUB_TOM    10000         4   0.0025\n\n[199 rows x 5 columns]",
      "text/html": "<div>\n<style scoped>\n    .dataframe tbody tr th:only-of-type {\n        vertical-align: middle;\n    }\n\n    .dataframe tbody tr th {\n        vertical-align: top;\n    }\n\n    .dataframe thead th {\n        text-align: right;\n    }\n</style>\n<table border=\"1\" class=\"dataframe\">\n  <thead>\n    <tr style=\"text-align: right;\">\n      <th></th>\n      <th>ticker</th>\n      <th>shortname</th>\n      <th>lotsize</th>\n      <th>decimals</th>\n      <th>minstep</th>\n    </tr>\n  </thead>\n  <tbody>\n    <tr>\n      <th>0</th>\n      <td>AEDRUBTODTOM</td>\n      <td>AED_TODTOM</td>\n      <td>100000</td>\n      <td>4</td>\n      <td>0.0001</td>\n    </tr>\n    <tr>\n      <th>1</th>\n      <td>AEDRUB_SPT</td>\n      <td>AEDRUB_SPT</td>\n      <td>1000</td>\n      <td>4</td>\n      <td>0.0025</td>\n    </tr>\n    <tr>\n      <th>2</th>\n      <td>AEDRUB_TMS</td>\n      <td>AEDRUB_TMS</td>\n      <td>1</td>\n      <td>4</td>\n      <td>0.0025</td>\n    </tr>\n    <tr>\n      <th>3</th>\n      <td>AEDRUB_TOD</td>\n      <td>AEDRUB_TOD</td>\n      <td>1000</td>\n      <td>4</td>\n      <td>0.0025</td>\n    </tr>\n    <tr>\n      <th>4</th>\n      <td>AEDRUB_TOM</td>\n      <td>AEDRUB_TOM</td>\n      <td>1000</td>\n      <td>4</td>\n      <td>0.0025</td>\n    </tr>\n    <tr>\n      <th>...</th>\n      <td>...</td>\n      <td>...</td>\n      <td>...</td>\n      <td>...</td>\n      <td>...</td>\n    </tr>\n    <tr>\n      <th>194</th>\n      <td>UZSRUB_TOM</td>\n      <td>UZSRUB_TOM</td>\n      <td>1000000</td>\n      <td>4</td>\n      <td>0.0025</td>\n    </tr>\n    <tr>\n      <th>195</th>\n      <td>ZARRUBTODTOM</td>\n      <td>ZAR_TODTOM</td>\n      <td>1000000</td>\n      <td>4</td>\n      <td>0.0001</td>\n    </tr>\n    <tr>\n      <th>196</th>\n      <td>ZARRUB_TMS</td>\n      <td>ZARRUB_TMS</td>\n      <td>1</td>\n      <td>4</td>\n      <td>0.0025</td>\n    </tr>\n    <tr>\n      <th>197</th>\n      <td>ZARRUB_TOD</td>\n      <td>ZARRUB_TOD</td>\n      <td>10000</td>\n      <td>4</td>\n      <td>0.0025</td>\n    </tr>\n    <tr>\n      <th>198</th>\n      <td>ZARRUB_TOM</td>\n      <td>ZARRUB_TOM</td>\n      <td>10000</td>\n      <td>4</td>\n      <td>0.0025</td>\n    </tr>\n  </tbody>\n</table>\n<p>199 rows × 5 columns</p>\n</div>"
     },
     "execution_count": 3,
     "metadata": {},
     "output_type": "execute_result"
    }
   ],
   "source": [
    "# Валюта\n",
    "fx = Market('FX')\n",
    "fx.tickers()"
   ]
  },
  {
   "cell_type": "code",
   "execution_count": 4,
   "id": "33bac09c-c4b6-4da7-a7c4-af7e0a0a1d6c",
   "metadata": {
    "ExecuteTime": {
     "end_time": "2024-04-25T14:42:28.897916761Z",
     "start_time": "2024-04-25T14:42:28.827698088Z"
    }
   },
   "outputs": [
    {
     "data": {
      "text/plain": "    ticker   shortname  decimals  minstep\n0     AEH5    AED-3.25         3    0.001\n1     AEM5    AED-6.25         3    0.001\n2     AEU4    AED-9.24         3    0.001\n3     AEZ4   AED-12.24         3    0.001\n4     AFH5   AFLT-3.25         0    1.000\n..     ...         ...       ...      ...\n402   WUZ4  WUSH-12.24         0    1.000\n403   YDU4   YDEX-9.24         0    1.000\n404   YDZ4  YDEX-12.24         0    1.000\n405   ZnU4     Zn-9.24         1    0.500\n406   ZnZ4    Zn-12.24         1    0.500\n\n[407 rows x 4 columns]",
      "text/html": "<div>\n<style scoped>\n    .dataframe tbody tr th:only-of-type {\n        vertical-align: middle;\n    }\n\n    .dataframe tbody tr th {\n        vertical-align: top;\n    }\n\n    .dataframe thead th {\n        text-align: right;\n    }\n</style>\n<table border=\"1\" class=\"dataframe\">\n  <thead>\n    <tr style=\"text-align: right;\">\n      <th></th>\n      <th>ticker</th>\n      <th>shortname</th>\n      <th>decimals</th>\n      <th>minstep</th>\n    </tr>\n  </thead>\n  <tbody>\n    <tr>\n      <th>0</th>\n      <td>AEH5</td>\n      <td>AED-3.25</td>\n      <td>3</td>\n      <td>0.001</td>\n    </tr>\n    <tr>\n      <th>1</th>\n      <td>AEM5</td>\n      <td>AED-6.25</td>\n      <td>3</td>\n      <td>0.001</td>\n    </tr>\n    <tr>\n      <th>2</th>\n      <td>AEU4</td>\n      <td>AED-9.24</td>\n      <td>3</td>\n      <td>0.001</td>\n    </tr>\n    <tr>\n      <th>3</th>\n      <td>AEZ4</td>\n      <td>AED-12.24</td>\n      <td>3</td>\n      <td>0.001</td>\n    </tr>\n    <tr>\n      <th>4</th>\n      <td>AFH5</td>\n      <td>AFLT-3.25</td>\n      <td>0</td>\n      <td>1.000</td>\n    </tr>\n    <tr>\n      <th>...</th>\n      <td>...</td>\n      <td>...</td>\n      <td>...</td>\n      <td>...</td>\n    </tr>\n    <tr>\n      <th>402</th>\n      <td>WUZ4</td>\n      <td>WUSH-12.24</td>\n      <td>0</td>\n      <td>1.000</td>\n    </tr>\n    <tr>\n      <th>403</th>\n      <td>YDU4</td>\n      <td>YDEX-9.24</td>\n      <td>0</td>\n      <td>1.000</td>\n    </tr>\n    <tr>\n      <th>404</th>\n      <td>YDZ4</td>\n      <td>YDEX-12.24</td>\n      <td>0</td>\n      <td>1.000</td>\n    </tr>\n    <tr>\n      <th>405</th>\n      <td>ZnU4</td>\n      <td>Zn-9.24</td>\n      <td>1</td>\n      <td>0.500</td>\n    </tr>\n    <tr>\n      <th>406</th>\n      <td>ZnZ4</td>\n      <td>Zn-12.24</td>\n      <td>1</td>\n      <td>0.500</td>\n    </tr>\n  </tbody>\n</table>\n<p>407 rows × 4 columns</p>\n</div>"
     },
     "execution_count": 4,
     "metadata": {},
     "output_type": "execute_result"
    }
   ],
   "source": [
    "# Фьючерсы\n",
    "fo = Market('FO')\n",
    "fo.tickers()"
   ]
  },
  {
   "cell_type": "markdown",
   "id": "9d102986-1f11-4818-9fb5-59e32197244a",
   "metadata": {},
   "source": [
    "### Работа с тикерами"
   ]
  },
  {
   "cell_type": "code",
   "execution_count": 5,
   "id": "087e2e29-c614-4475-b959-3c2316a37d62",
   "metadata": {
    "ExecuteTime": {
     "end_time": "2024-04-25T14:42:28.898133972Z",
     "start_time": "2024-04-25T14:42:28.841680773Z"
    }
   },
   "outputs": [],
   "source": [
    "# Акции SBER\n",
    "sber = Ticker('SBER')\n",
    "\n",
    "# Китайский Юань\n",
    "cny000000tod = Ticker('CNY000000TOD')\n",
    "\n",
    "# Фьючерсный контракт АФК Система\n",
    "akm4 = Ticker('AKM4')"
   ]
  },
  {
   "cell_type": "markdown",
   "id": "9cf5f6d9-b86b-4ba4-81f6-cb58958ecd3c",
   "metadata": {},
   "source": [
    "#### Candles\n",
    "Классические свечи OHLCV. Гранулярность данных:\n",
    "```\n",
    "period:\n",
    "    moexalgo.CandlePeriod:\n",
    "\n",
    "    CandlePeriod.ONE_MINUTE\n",
    "    CandlePeriod.TEN_MINUTES\n",
    "    CandlePeriod.ONE_HOUR\n",
    "    CandlePeriod.ONE_DAY\n",
    "    CandlePeriod.ONE_WEEK\n",
    "    CandlePeriod.ONE_MONTH\n",
    "\n",
    "    или int:\n",
    "    1 - 1 мин\n",
    "    10 - 10 мин\n",
    "    60 - 1 час\n",
    "    24 - 1 день\n",
    "    7 - 1 неделя\n",
    "    31 - 1 месяц\n",
    "\n",
    "    или str: 1min, 10min, 1h, 1d, 1w, 1m\n",
    "offset:\n",
    "    Начальная позиция в последовательности записей\n",
    "limit:\n",
    "    Максимальное количество записей в результате\n",
    "latest:\n",
    "    Включает режим выдачи последних `latest` записей в наборе\n",
    "use_dataframe:\n",
    "    Изменяет тип возвращаемого объекта. По умолчанию `True`\n",
    "    Если `True`, то возвращает `pandas.DataFrame`, иначе итератор\n",
    "```\n"
   ]
  },
  {
   "cell_type": "code",
   "execution_count": 6,
   "id": "080af71a-9a92-444f-b29a-04790c4d4bca",
   "metadata": {
    "ExecuteTime": {
     "end_time": "2024-04-25T14:42:29.413579258Z",
     "start_time": "2024-04-25T14:42:28.883973651Z"
    }
   },
   "outputs": [
    {
     "data": {
      "text/plain": "     open   close    high     low        value     volume               begin  \\\n0  264.89  264.89  264.89  264.89   68129708.0   257200.0 2023-10-10 09:50:00   \n1  264.90  264.25  265.18  263.80  573080891.3  2167670.0 2023-10-10 10:00:00   \n2  264.26  264.22  264.95  263.90  441929827.4  1671130.0 2023-10-10 10:10:00   \n3  264.22  264.23  264.45  264.05  187603360.0   710040.0 2023-10-10 10:20:00   \n4  264.23  264.23  264.58  264.20  217393400.8   822500.0 2023-10-10 10:30:00   \n\n                  end  \n0 2023-10-10 09:59:59  \n1 2023-10-10 10:09:59  \n2 2023-10-10 10:19:59  \n3 2023-10-10 10:29:59  \n4 2023-10-10 10:39:59  ",
      "text/html": "<div>\n<style scoped>\n    .dataframe tbody tr th:only-of-type {\n        vertical-align: middle;\n    }\n\n    .dataframe tbody tr th {\n        vertical-align: top;\n    }\n\n    .dataframe thead th {\n        text-align: right;\n    }\n</style>\n<table border=\"1\" class=\"dataframe\">\n  <thead>\n    <tr style=\"text-align: right;\">\n      <th></th>\n      <th>open</th>\n      <th>close</th>\n      <th>high</th>\n      <th>low</th>\n      <th>value</th>\n      <th>volume</th>\n      <th>begin</th>\n      <th>end</th>\n    </tr>\n  </thead>\n  <tbody>\n    <tr>\n      <th>0</th>\n      <td>264.89</td>\n      <td>264.89</td>\n      <td>264.89</td>\n      <td>264.89</td>\n      <td>68129708.0</td>\n      <td>257200.0</td>\n      <td>2023-10-10 09:50:00</td>\n      <td>2023-10-10 09:59:59</td>\n    </tr>\n    <tr>\n      <th>1</th>\n      <td>264.90</td>\n      <td>264.25</td>\n      <td>265.18</td>\n      <td>263.80</td>\n      <td>573080891.3</td>\n      <td>2167670.0</td>\n      <td>2023-10-10 10:00:00</td>\n      <td>2023-10-10 10:09:59</td>\n    </tr>\n    <tr>\n      <th>2</th>\n      <td>264.26</td>\n      <td>264.22</td>\n      <td>264.95</td>\n      <td>263.90</td>\n      <td>441929827.4</td>\n      <td>1671130.0</td>\n      <td>2023-10-10 10:10:00</td>\n      <td>2023-10-10 10:19:59</td>\n    </tr>\n    <tr>\n      <th>3</th>\n      <td>264.22</td>\n      <td>264.23</td>\n      <td>264.45</td>\n      <td>264.05</td>\n      <td>187603360.0</td>\n      <td>710040.0</td>\n      <td>2023-10-10 10:20:00</td>\n      <td>2023-10-10 10:29:59</td>\n    </tr>\n    <tr>\n      <th>4</th>\n      <td>264.23</td>\n      <td>264.23</td>\n      <td>264.58</td>\n      <td>264.20</td>\n      <td>217393400.8</td>\n      <td>822500.0</td>\n      <td>2023-10-10 10:30:00</td>\n      <td>2023-10-10 10:39:59</td>\n    </tr>\n  </tbody>\n</table>\n</div>"
     },
     "execution_count": 6,
     "metadata": {},
     "output_type": "execute_result"
    }
   ],
   "source": [
    "# Свечи по акциям SBER за период\n",
    "sber.candles(start='2023-10-10', end='2023-10-18', period='10min').head()"
   ]
  },
  {
   "metadata": {},
   "cell_type": "markdown",
   "source": [
    "#### ❗️Ограничение на кол-во отдаваемых свечек - 10 000❗️\n",
    "##### Все запросы по конкретному тикеру (не только свечи) ограничены лимитом в 10 000 строк. Если вам нужно получить больше данных, необходимо организовать **посуточный цикл загрузки** данных."
   ],
   "id": "129a047b13a42d16"
  },
  {
   "cell_type": "code",
   "execution_count": 7,
   "id": "9455094f-cc7c-4797-8e46-730a286aa2c0",
   "metadata": {
    "ExecuteTime": {
     "end_time": "2024-04-25T14:42:30.519085304Z",
     "start_time": "2024-04-25T14:42:29.359668644Z"
    }
   },
   "outputs": [
    {
     "data": {
      "text/plain": "     open   close    high     low       value     volume               begin  \\\n0  13.605  13.614  13.634  13.605   6127750.0   450000.0 2023-10-10 07:00:00   \n1  13.634  13.625  13.634  13.625   4117045.0   302000.0 2023-10-10 07:01:00   \n2  13.634  13.634  13.634  13.634   2726800.0   200000.0 2023-10-10 07:02:00   \n3  13.634  13.635  13.635  13.633  16714820.0  1226000.0 2023-10-10 07:03:00   \n4  13.635  13.642  13.642  13.634  21926634.0  1608000.0 2023-10-10 07:04:00   \n\n                  end  \n0 2023-10-10 07:00:59  \n1 2023-10-10 07:01:59  \n2 2023-10-10 07:02:59  \n3 2023-10-10 07:03:59  \n4 2023-10-10 07:04:59  ",
      "text/html": "<div>\n<style scoped>\n    .dataframe tbody tr th:only-of-type {\n        vertical-align: middle;\n    }\n\n    .dataframe tbody tr th {\n        vertical-align: top;\n    }\n\n    .dataframe thead th {\n        text-align: right;\n    }\n</style>\n<table border=\"1\" class=\"dataframe\">\n  <thead>\n    <tr style=\"text-align: right;\">\n      <th></th>\n      <th>open</th>\n      <th>close</th>\n      <th>high</th>\n      <th>low</th>\n      <th>value</th>\n      <th>volume</th>\n      <th>begin</th>\n      <th>end</th>\n    </tr>\n  </thead>\n  <tbody>\n    <tr>\n      <th>0</th>\n      <td>13.605</td>\n      <td>13.614</td>\n      <td>13.634</td>\n      <td>13.605</td>\n      <td>6127750.0</td>\n      <td>450000.0</td>\n      <td>2023-10-10 07:00:00</td>\n      <td>2023-10-10 07:00:59</td>\n    </tr>\n    <tr>\n      <th>1</th>\n      <td>13.634</td>\n      <td>13.625</td>\n      <td>13.634</td>\n      <td>13.625</td>\n      <td>4117045.0</td>\n      <td>302000.0</td>\n      <td>2023-10-10 07:01:00</td>\n      <td>2023-10-10 07:01:59</td>\n    </tr>\n    <tr>\n      <th>2</th>\n      <td>13.634</td>\n      <td>13.634</td>\n      <td>13.634</td>\n      <td>13.634</td>\n      <td>2726800.0</td>\n      <td>200000.0</td>\n      <td>2023-10-10 07:02:00</td>\n      <td>2023-10-10 07:02:59</td>\n    </tr>\n    <tr>\n      <th>3</th>\n      <td>13.634</td>\n      <td>13.635</td>\n      <td>13.635</td>\n      <td>13.633</td>\n      <td>16714820.0</td>\n      <td>1226000.0</td>\n      <td>2023-10-10 07:03:00</td>\n      <td>2023-10-10 07:03:59</td>\n    </tr>\n    <tr>\n      <th>4</th>\n      <td>13.635</td>\n      <td>13.642</td>\n      <td>13.642</td>\n      <td>13.634</td>\n      <td>21926634.0</td>\n      <td>1608000.0</td>\n      <td>2023-10-10 07:04:00</td>\n      <td>2023-10-10 07:04:59</td>\n    </tr>\n  </tbody>\n</table>\n</div>"
     },
     "execution_count": 7,
     "metadata": {},
     "output_type": "execute_result"
    }
   ],
   "source": [
    "# Свечи по китайскому юаню за период\n",
    "cny000000tod.candles(start='2023-10-10', end='2023-10-18', period=CandlePeriod.ONE_MINUTE).head()"
   ]
  },
  {
   "cell_type": "code",
   "execution_count": 8,
   "id": "02948340-b572-4cb9-8eb7-ff86651f1b50",
   "metadata": {
    "ExecuteTime": {
     "end_time": "2024-04-25T14:42:30.947025932Z",
     "start_time": "2024-04-25T14:42:30.511966295Z"
    }
   },
   "outputs": [
    {
     "data": {
      "text/plain": "      open    close     high      low  value  volume               begin  \\\n0  27323.0  27323.0  27323.0  27323.0      0     1.0 2024-04-23 08:00:00   \n1  27419.0  27350.0  27420.0  27350.0      0    87.0 2024-04-23 09:00:00   \n2  27350.0  27033.0  27569.0  27033.0      0   923.0 2024-04-23 10:00:00   \n3  27120.0  27226.0  27255.0  27033.0      0   296.0 2024-04-23 11:00:00   \n4  27227.0  27344.0  27504.0  27058.0      0   584.0 2024-04-23 12:00:00   \n\n                  end  \n0 2024-04-23 08:59:59  \n1 2024-04-23 09:59:59  \n2 2024-04-23 10:59:59  \n3 2024-04-23 11:59:01  \n4 2024-04-23 12:59:01  ",
      "text/html": "<div>\n<style scoped>\n    .dataframe tbody tr th:only-of-type {\n        vertical-align: middle;\n    }\n\n    .dataframe tbody tr th {\n        vertical-align: top;\n    }\n\n    .dataframe thead th {\n        text-align: right;\n    }\n</style>\n<table border=\"1\" class=\"dataframe\">\n  <thead>\n    <tr style=\"text-align: right;\">\n      <th></th>\n      <th>open</th>\n      <th>close</th>\n      <th>high</th>\n      <th>low</th>\n      <th>value</th>\n      <th>volume</th>\n      <th>begin</th>\n      <th>end</th>\n    </tr>\n  </thead>\n  <tbody>\n    <tr>\n      <th>0</th>\n      <td>27323.0</td>\n      <td>27323.0</td>\n      <td>27323.0</td>\n      <td>27323.0</td>\n      <td>0</td>\n      <td>1.0</td>\n      <td>2024-04-23 08:00:00</td>\n      <td>2024-04-23 08:59:59</td>\n    </tr>\n    <tr>\n      <th>1</th>\n      <td>27419.0</td>\n      <td>27350.0</td>\n      <td>27420.0</td>\n      <td>27350.0</td>\n      <td>0</td>\n      <td>87.0</td>\n      <td>2024-04-23 09:00:00</td>\n      <td>2024-04-23 09:59:59</td>\n    </tr>\n    <tr>\n      <th>2</th>\n      <td>27350.0</td>\n      <td>27033.0</td>\n      <td>27569.0</td>\n      <td>27033.0</td>\n      <td>0</td>\n      <td>923.0</td>\n      <td>2024-04-23 10:00:00</td>\n      <td>2024-04-23 10:59:59</td>\n    </tr>\n    <tr>\n      <th>3</th>\n      <td>27120.0</td>\n      <td>27226.0</td>\n      <td>27255.0</td>\n      <td>27033.0</td>\n      <td>0</td>\n      <td>296.0</td>\n      <td>2024-04-23 11:00:00</td>\n      <td>2024-04-23 11:59:01</td>\n    </tr>\n    <tr>\n      <th>4</th>\n      <td>27227.0</td>\n      <td>27344.0</td>\n      <td>27504.0</td>\n      <td>27058.0</td>\n      <td>0</td>\n      <td>584.0</td>\n      <td>2024-04-23 12:00:00</td>\n      <td>2024-04-23 12:59:01</td>\n    </tr>\n  </tbody>\n</table>\n</div>"
     },
     "execution_count": 8,
     "metadata": {},
     "output_type": "execute_result"
    }
   ],
   "source": [
    "# Свечи по фьючерсному контракту за период\n",
    "akm4.candles(start='2024-04-23', end='2024-04-23', period=60).head()"
   ]
  },
  {
   "cell_type": "markdown",
   "id": "e25982d8-5a96-4cf6-9189-5e4ed8d8e97b",
   "metadata": {},
   "source": [
    "### OrderBook"
   ]
  },
  {
   "cell_type": "code",
   "execution_count": 9,
   "id": "bcd77e3e-568f-4683-938d-cb14386abee5",
   "metadata": {
    "ExecuteTime": {
     "end_time": "2024-04-25T14:42:31.360407917Z",
     "start_time": "2024-04-25T14:42:30.949803451Z"
    }
   },
   "outputs": [
    {
     "data": {
      "text/plain": "   boardid secid buysell   price  quantity          seqnum updatetime  \\\n0     TQBR  SBER       B  256.20       451  20240830154227   15:42:27   \n1     TQBR  SBER       B  256.21      5342  20240830154227   15:42:27   \n2     TQBR  SBER       B  256.22        54  20240830154227   15:42:27   \n3     TQBR  SBER       B  256.23       211  20240830154227   15:42:27   \n4     TQBR  SBER       B  256.24       162  20240830154227   15:42:27   \n5     TQBR  SBER       B  256.25       901  20240830154227   15:42:27   \n6     TQBR  SBER       B  256.26       407  20240830154227   15:42:27   \n7     TQBR  SBER       B  256.27        50  20240830154227   15:42:27   \n8     TQBR  SBER       B  256.28       127  20240830154227   15:42:27   \n9     TQBR  SBER       B  256.29        85  20240830154227   15:42:27   \n10    TQBR  SBER       S  256.30       255  20240830154227   15:42:27   \n11    TQBR  SBER       S  256.31         2  20240830154227   15:42:27   \n12    TQBR  SBER       S  256.32        10  20240830154227   15:42:27   \n13    TQBR  SBER       S  256.33         2  20240830154227   15:42:27   \n14    TQBR  SBER       S  256.35       265  20240830154227   15:42:27   \n15    TQBR  SBER       S  256.36        56  20240830154227   15:42:27   \n16    TQBR  SBER       S  256.37        20  20240830154227   15:42:27   \n17    TQBR  SBER       S  256.38        53  20240830154227   15:42:27   \n18    TQBR  SBER       S  256.39       151  20240830154227   15:42:27   \n19    TQBR  SBER       S  256.40       530  20240830154227   15:42:27   \n\n    decimals  \n0          2  \n1          2  \n2          2  \n3          2  \n4          2  \n5          2  \n6          2  \n7          2  \n8          2  \n9          2  \n10         2  \n11         2  \n12         2  \n13         2  \n14         2  \n15         2  \n16         2  \n17         2  \n18         2  \n19         2  ",
      "text/html": "<div>\n<style scoped>\n    .dataframe tbody tr th:only-of-type {\n        vertical-align: middle;\n    }\n\n    .dataframe tbody tr th {\n        vertical-align: top;\n    }\n\n    .dataframe thead th {\n        text-align: right;\n    }\n</style>\n<table border=\"1\" class=\"dataframe\">\n  <thead>\n    <tr style=\"text-align: right;\">\n      <th></th>\n      <th>boardid</th>\n      <th>secid</th>\n      <th>buysell</th>\n      <th>price</th>\n      <th>quantity</th>\n      <th>seqnum</th>\n      <th>updatetime</th>\n      <th>decimals</th>\n    </tr>\n  </thead>\n  <tbody>\n    <tr>\n      <th>0</th>\n      <td>TQBR</td>\n      <td>SBER</td>\n      <td>B</td>\n      <td>256.20</td>\n      <td>451</td>\n      <td>20240830154227</td>\n      <td>15:42:27</td>\n      <td>2</td>\n    </tr>\n    <tr>\n      <th>1</th>\n      <td>TQBR</td>\n      <td>SBER</td>\n      <td>B</td>\n      <td>256.21</td>\n      <td>5342</td>\n      <td>20240830154227</td>\n      <td>15:42:27</td>\n      <td>2</td>\n    </tr>\n    <tr>\n      <th>2</th>\n      <td>TQBR</td>\n      <td>SBER</td>\n      <td>B</td>\n      <td>256.22</td>\n      <td>54</td>\n      <td>20240830154227</td>\n      <td>15:42:27</td>\n      <td>2</td>\n    </tr>\n    <tr>\n      <th>3</th>\n      <td>TQBR</td>\n      <td>SBER</td>\n      <td>B</td>\n      <td>256.23</td>\n      <td>211</td>\n      <td>20240830154227</td>\n      <td>15:42:27</td>\n      <td>2</td>\n    </tr>\n    <tr>\n      <th>4</th>\n      <td>TQBR</td>\n      <td>SBER</td>\n      <td>B</td>\n      <td>256.24</td>\n      <td>162</td>\n      <td>20240830154227</td>\n      <td>15:42:27</td>\n      <td>2</td>\n    </tr>\n    <tr>\n      <th>5</th>\n      <td>TQBR</td>\n      <td>SBER</td>\n      <td>B</td>\n      <td>256.25</td>\n      <td>901</td>\n      <td>20240830154227</td>\n      <td>15:42:27</td>\n      <td>2</td>\n    </tr>\n    <tr>\n      <th>6</th>\n      <td>TQBR</td>\n      <td>SBER</td>\n      <td>B</td>\n      <td>256.26</td>\n      <td>407</td>\n      <td>20240830154227</td>\n      <td>15:42:27</td>\n      <td>2</td>\n    </tr>\n    <tr>\n      <th>7</th>\n      <td>TQBR</td>\n      <td>SBER</td>\n      <td>B</td>\n      <td>256.27</td>\n      <td>50</td>\n      <td>20240830154227</td>\n      <td>15:42:27</td>\n      <td>2</td>\n    </tr>\n    <tr>\n      <th>8</th>\n      <td>TQBR</td>\n      <td>SBER</td>\n      <td>B</td>\n      <td>256.28</td>\n      <td>127</td>\n      <td>20240830154227</td>\n      <td>15:42:27</td>\n      <td>2</td>\n    </tr>\n    <tr>\n      <th>9</th>\n      <td>TQBR</td>\n      <td>SBER</td>\n      <td>B</td>\n      <td>256.29</td>\n      <td>85</td>\n      <td>20240830154227</td>\n      <td>15:42:27</td>\n      <td>2</td>\n    </tr>\n    <tr>\n      <th>10</th>\n      <td>TQBR</td>\n      <td>SBER</td>\n      <td>S</td>\n      <td>256.30</td>\n      <td>255</td>\n      <td>20240830154227</td>\n      <td>15:42:27</td>\n      <td>2</td>\n    </tr>\n    <tr>\n      <th>11</th>\n      <td>TQBR</td>\n      <td>SBER</td>\n      <td>S</td>\n      <td>256.31</td>\n      <td>2</td>\n      <td>20240830154227</td>\n      <td>15:42:27</td>\n      <td>2</td>\n    </tr>\n    <tr>\n      <th>12</th>\n      <td>TQBR</td>\n      <td>SBER</td>\n      <td>S</td>\n      <td>256.32</td>\n      <td>10</td>\n      <td>20240830154227</td>\n      <td>15:42:27</td>\n      <td>2</td>\n    </tr>\n    <tr>\n      <th>13</th>\n      <td>TQBR</td>\n      <td>SBER</td>\n      <td>S</td>\n      <td>256.33</td>\n      <td>2</td>\n      <td>20240830154227</td>\n      <td>15:42:27</td>\n      <td>2</td>\n    </tr>\n    <tr>\n      <th>14</th>\n      <td>TQBR</td>\n      <td>SBER</td>\n      <td>S</td>\n      <td>256.35</td>\n      <td>265</td>\n      <td>20240830154227</td>\n      <td>15:42:27</td>\n      <td>2</td>\n    </tr>\n    <tr>\n      <th>15</th>\n      <td>TQBR</td>\n      <td>SBER</td>\n      <td>S</td>\n      <td>256.36</td>\n      <td>56</td>\n      <td>20240830154227</td>\n      <td>15:42:27</td>\n      <td>2</td>\n    </tr>\n    <tr>\n      <th>16</th>\n      <td>TQBR</td>\n      <td>SBER</td>\n      <td>S</td>\n      <td>256.37</td>\n      <td>20</td>\n      <td>20240830154227</td>\n      <td>15:42:27</td>\n      <td>2</td>\n    </tr>\n    <tr>\n      <th>17</th>\n      <td>TQBR</td>\n      <td>SBER</td>\n      <td>S</td>\n      <td>256.38</td>\n      <td>53</td>\n      <td>20240830154227</td>\n      <td>15:42:27</td>\n      <td>2</td>\n    </tr>\n    <tr>\n      <th>18</th>\n      <td>TQBR</td>\n      <td>SBER</td>\n      <td>S</td>\n      <td>256.39</td>\n      <td>151</td>\n      <td>20240830154227</td>\n      <td>15:42:27</td>\n      <td>2</td>\n    </tr>\n    <tr>\n      <th>19</th>\n      <td>TQBR</td>\n      <td>SBER</td>\n      <td>S</td>\n      <td>256.40</td>\n      <td>530</td>\n      <td>20240830154227</td>\n      <td>15:42:27</td>\n      <td>2</td>\n    </tr>\n  </tbody>\n</table>\n</div>"
     },
     "execution_count": 9,
     "metadata": {},
     "output_type": "execute_result"
    }
   ],
   "source": [
    "sber = Ticker('SBER')\n",
    "sber.orderbook()"
   ]
  },
  {
   "cell_type": "code",
   "execution_count": 10,
   "id": "97ef3ea0-387d-4e7b-a9e1-e18b0711ff2b",
   "metadata": {
    "ExecuteTime": {
     "end_time": "2024-04-25T14:42:31.567879878Z",
     "start_time": "2024-04-25T14:42:31.361836812Z"
    }
   },
   "outputs": [
    {
     "name": "stdout",
     "output_type": "stream",
     "text": [
      "OrderBook is not implemented for currencies\n"
     ]
    }
   ],
   "source": [
    "cny000000tod = Ticker('CNY000000TOD')\n",
    "try:\n",
    "    cny000000tod.orderbook()\n",
    "except NotImplementedError as exc:\n",
    "    print(str(exc))"
   ]
  },
  {
   "cell_type": "code",
   "execution_count": 11,
   "id": "2ce27ba7-b7ef-4014-b482-e1857c34c467",
   "metadata": {
    "ExecuteTime": {
     "end_time": "2024-04-25T14:42:34.284639614Z",
     "start_time": "2024-04-25T14:42:31.570520197Z"
    }
   },
   "outputs": [
    {
     "data": {
      "text/plain": "Empty DataFrame\nColumns: []\nIndex: []",
      "text/html": "<div>\n<style scoped>\n    .dataframe tbody tr th:only-of-type {\n        vertical-align: middle;\n    }\n\n    .dataframe tbody tr th {\n        vertical-align: top;\n    }\n\n    .dataframe thead th {\n        text-align: right;\n    }\n</style>\n<table border=\"1\" class=\"dataframe\">\n  <thead>\n    <tr style=\"text-align: right;\">\n      <th></th>\n    </tr>\n  </thead>\n  <tbody>\n  </tbody>\n</table>\n</div>"
     },
     "execution_count": 11,
     "metadata": {},
     "output_type": "execute_result"
    }
   ],
   "source": [
    "akm4 = Ticker('AKM4')\n",
    "akm4.orderbook()"
   ]
  },
  {
   "cell_type": "markdown",
   "id": "45a4d857-eb6d-4cfa-ac45-966ea3eb4a4c",
   "metadata": {},
   "source": [
    "### Метрики TradeStats, OrderStats, Obstats"
   ]
  },
  {
   "cell_type": "markdown",
   "id": "5a7ffe51-e559-40ca-bcf4-7fc8a1291b96",
   "metadata": {},
   "source": [
    "#### Tradestats\n",
    "\n",
    "Торговая статистика на основе сделок. Гранулярность данных: 5 мин.\n",
    "\n",
    "---"
   ]
  },
  {
   "cell_type": "markdown",
   "id": "c36d43fe-90ac-4a20-82db-a30469a65a62",
   "metadata": {},
   "source": "Данные TradeStats по всем акциям за дату. Чтобы получить данные за период, нужно запустить цикл по датам."
  },
  {
   "cell_type": "code",
   "execution_count": 12,
   "id": "e80feed0db5e49a",
   "metadata": {
    "collapsed": false,
    "pycharm": {
     "name": "#%%\n"
    },
    "ExecuteTime": {
     "end_time": "2024-04-25T14:42:40.358044715Z",
     "start_time": "2024-04-25T14:42:34.287065417Z"
    }
   },
   "outputs": [
    {
     "data": {
      "text/plain": "  ticker   tradedate tradetime   pr_open   pr_high    pr_low  pr_close  \\\n0   ABIO  2023-10-10  10:05:00   119.520   119.800   114.000   117.380   \n1   ABRD  2023-10-10  10:05:00   305.600   307.400   305.600   306.600   \n2   AFKS  2023-10-10  10:05:00    17.601    17.606    17.501    17.511   \n3   AFLT  2023-10-10  10:05:00    40.560    40.590    40.470    40.550   \n4   AGRO  2023-10-10  10:05:00  1200.000  1209.600  1200.000  1209.600   \n\n   pr_std    vol         val  ...  vol_b  vol_s  disb  pr_vwap_b  pr_vwap_s  \\\n0  0.0017  45904  53480659.0  ...  22932  22972  0.00    116.610    116.400   \n1  0.0007    480   1471600.0  ...    372    108  0.55    306.700    306.100   \n2  0.0003  10943  19184629.0  ...   3341   7602 -0.39     17.539     17.528   \n3  0.0004   4517   1830400.0  ...   3337   1180  0.48     40.530     40.500   \n4  0.0004   5834   7036248.0  ...   4795   1039  0.64   1206.300   1205.200   \n\n              systime  sec_pr_open  sec_pr_high  sec_pr_low  sec_pr_close  \n0 2024-08-13 03:37:28            5           11          81           299  \n1 2024-08-13 03:37:28            6          261           6           300  \n2 2024-08-13 03:37:28            1            1         216           300  \n3 2024-08-13 03:37:28            5           20          93           293  \n4 2024-08-13 03:37:28            1          278           1           300  \n\n[5 rows x 27 columns]",
      "text/html": "<div>\n<style scoped>\n    .dataframe tbody tr th:only-of-type {\n        vertical-align: middle;\n    }\n\n    .dataframe tbody tr th {\n        vertical-align: top;\n    }\n\n    .dataframe thead th {\n        text-align: right;\n    }\n</style>\n<table border=\"1\" class=\"dataframe\">\n  <thead>\n    <tr style=\"text-align: right;\">\n      <th></th>\n      <th>ticker</th>\n      <th>tradedate</th>\n      <th>tradetime</th>\n      <th>pr_open</th>\n      <th>pr_high</th>\n      <th>pr_low</th>\n      <th>pr_close</th>\n      <th>pr_std</th>\n      <th>vol</th>\n      <th>val</th>\n      <th>...</th>\n      <th>vol_b</th>\n      <th>vol_s</th>\n      <th>disb</th>\n      <th>pr_vwap_b</th>\n      <th>pr_vwap_s</th>\n      <th>systime</th>\n      <th>sec_pr_open</th>\n      <th>sec_pr_high</th>\n      <th>sec_pr_low</th>\n      <th>sec_pr_close</th>\n    </tr>\n  </thead>\n  <tbody>\n    <tr>\n      <th>0</th>\n      <td>ABIO</td>\n      <td>2023-10-10</td>\n      <td>10:05:00</td>\n      <td>119.520</td>\n      <td>119.800</td>\n      <td>114.000</td>\n      <td>117.380</td>\n      <td>0.0017</td>\n      <td>45904</td>\n      <td>53480659.0</td>\n      <td>...</td>\n      <td>22932</td>\n      <td>22972</td>\n      <td>0.00</td>\n      <td>116.610</td>\n      <td>116.400</td>\n      <td>2024-08-13 03:37:28</td>\n      <td>5</td>\n      <td>11</td>\n      <td>81</td>\n      <td>299</td>\n    </tr>\n    <tr>\n      <th>1</th>\n      <td>ABRD</td>\n      <td>2023-10-10</td>\n      <td>10:05:00</td>\n      <td>305.600</td>\n      <td>307.400</td>\n      <td>305.600</td>\n      <td>306.600</td>\n      <td>0.0007</td>\n      <td>480</td>\n      <td>1471600.0</td>\n      <td>...</td>\n      <td>372</td>\n      <td>108</td>\n      <td>0.55</td>\n      <td>306.700</td>\n      <td>306.100</td>\n      <td>2024-08-13 03:37:28</td>\n      <td>6</td>\n      <td>261</td>\n      <td>6</td>\n      <td>300</td>\n    </tr>\n    <tr>\n      <th>2</th>\n      <td>AFKS</td>\n      <td>2023-10-10</td>\n      <td>10:05:00</td>\n      <td>17.601</td>\n      <td>17.606</td>\n      <td>17.501</td>\n      <td>17.511</td>\n      <td>0.0003</td>\n      <td>10943</td>\n      <td>19184629.0</td>\n      <td>...</td>\n      <td>3341</td>\n      <td>7602</td>\n      <td>-0.39</td>\n      <td>17.539</td>\n      <td>17.528</td>\n      <td>2024-08-13 03:37:28</td>\n      <td>1</td>\n      <td>1</td>\n      <td>216</td>\n      <td>300</td>\n    </tr>\n    <tr>\n      <th>3</th>\n      <td>AFLT</td>\n      <td>2023-10-10</td>\n      <td>10:05:00</td>\n      <td>40.560</td>\n      <td>40.590</td>\n      <td>40.470</td>\n      <td>40.550</td>\n      <td>0.0004</td>\n      <td>4517</td>\n      <td>1830400.0</td>\n      <td>...</td>\n      <td>3337</td>\n      <td>1180</td>\n      <td>0.48</td>\n      <td>40.530</td>\n      <td>40.500</td>\n      <td>2024-08-13 03:37:28</td>\n      <td>5</td>\n      <td>20</td>\n      <td>93</td>\n      <td>293</td>\n    </tr>\n    <tr>\n      <th>4</th>\n      <td>AGRO</td>\n      <td>2023-10-10</td>\n      <td>10:05:00</td>\n      <td>1200.000</td>\n      <td>1209.600</td>\n      <td>1200.000</td>\n      <td>1209.600</td>\n      <td>0.0004</td>\n      <td>5834</td>\n      <td>7036248.0</td>\n      <td>...</td>\n      <td>4795</td>\n      <td>1039</td>\n      <td>0.64</td>\n      <td>1206.300</td>\n      <td>1205.200</td>\n      <td>2024-08-13 03:37:28</td>\n      <td>1</td>\n      <td>278</td>\n      <td>1</td>\n      <td>300</td>\n    </tr>\n  </tbody>\n</table>\n<p>5 rows × 27 columns</p>\n</div>"
     },
     "execution_count": 12,
     "metadata": {},
     "output_type": "execute_result"
    }
   ],
   "source": [
    "eq.tradestats(date='2023-10-10').head()"
   ]
  },
  {
   "cell_type": "markdown",
   "id": "8c425b50-ad4a-44bf-afd4-a17a0447c137",
   "metadata": {},
   "source": [
    "##### Аналогично для других рынков"
   ]
  },
  {
   "cell_type": "code",
   "execution_count": 13,
   "id": "8c072daf-8363-4f0c-b131-97cb291ccca7",
   "metadata": {
    "ExecuteTime": {
     "end_time": "2024-04-25T14:42:45.749359746Z",
     "start_time": "2024-04-25T14:42:40.361279440Z"
    }
   },
   "outputs": [
    {
     "data": {
      "text/plain": "  ticker   tradedate tradetime asset_code  pr_open  pr_high   pr_low  \\\n0   AFM4  2024-04-22  09:05:00       AFLT   5097.0   5103.0   5097.0   \n1   AFU4  2024-04-22  09:05:00       AFLT   5294.0   5294.0   5294.0   \n2   AKM4  2024-04-22  09:05:00       AFKS  26530.0  26671.0  26525.0   \n3   AKU4  2024-04-22  09:05:00       AFKS  26792.0  26792.0  26670.0   \n4   ALM4  2024-04-22  09:05:00       ALRS   7729.0   7729.0   7729.0   \n\n   pr_close   pr_std  vol  ...       im  oi_open  oi_high  oi_low  oi_close  \\\n0    5103.0   4.2426    3  ...   2589.0    51080    51082   51080     51082   \n1    5294.0      NaN    1  ...   2688.0     4884     4884    4884      4884   \n2   26580.0  43.3244   34  ...  13241.0    10306    10318   10304     10318   \n3   26670.0  86.2670    2  ...  13726.0      778      780     778       780   \n4    7729.0      NaN    8  ...   2047.0   114760   114760  114760    114760   \n\n   sec_pr_open  sec_pr_high  sec_pr_low  sec_pr_close             systime  \n0          107          287         107           287 2024-04-22 09:05:05  \n1          287          287         287           287 2024-04-22 09:05:05  \n2            5           21         181           288 2024-04-22 09:05:05  \n3           21           21          83            83 2024-04-22 09:05:05  \n4            5            5           5             5 2024-04-22 09:05:05  \n\n[5 rows x 33 columns]",
      "text/html": "<div>\n<style scoped>\n    .dataframe tbody tr th:only-of-type {\n        vertical-align: middle;\n    }\n\n    .dataframe tbody tr th {\n        vertical-align: top;\n    }\n\n    .dataframe thead th {\n        text-align: right;\n    }\n</style>\n<table border=\"1\" class=\"dataframe\">\n  <thead>\n    <tr style=\"text-align: right;\">\n      <th></th>\n      <th>ticker</th>\n      <th>tradedate</th>\n      <th>tradetime</th>\n      <th>asset_code</th>\n      <th>pr_open</th>\n      <th>pr_high</th>\n      <th>pr_low</th>\n      <th>pr_close</th>\n      <th>pr_std</th>\n      <th>vol</th>\n      <th>...</th>\n      <th>im</th>\n      <th>oi_open</th>\n      <th>oi_high</th>\n      <th>oi_low</th>\n      <th>oi_close</th>\n      <th>sec_pr_open</th>\n      <th>sec_pr_high</th>\n      <th>sec_pr_low</th>\n      <th>sec_pr_close</th>\n      <th>systime</th>\n    </tr>\n  </thead>\n  <tbody>\n    <tr>\n      <th>0</th>\n      <td>AFM4</td>\n      <td>2024-04-22</td>\n      <td>09:05:00</td>\n      <td>AFLT</td>\n      <td>5097.0</td>\n      <td>5103.0</td>\n      <td>5097.0</td>\n      <td>5103.0</td>\n      <td>4.2426</td>\n      <td>3</td>\n      <td>...</td>\n      <td>2589.0</td>\n      <td>51080</td>\n      <td>51082</td>\n      <td>51080</td>\n      <td>51082</td>\n      <td>107</td>\n      <td>287</td>\n      <td>107</td>\n      <td>287</td>\n      <td>2024-04-22 09:05:05</td>\n    </tr>\n    <tr>\n      <th>1</th>\n      <td>AFU4</td>\n      <td>2024-04-22</td>\n      <td>09:05:00</td>\n      <td>AFLT</td>\n      <td>5294.0</td>\n      <td>5294.0</td>\n      <td>5294.0</td>\n      <td>5294.0</td>\n      <td>NaN</td>\n      <td>1</td>\n      <td>...</td>\n      <td>2688.0</td>\n      <td>4884</td>\n      <td>4884</td>\n      <td>4884</td>\n      <td>4884</td>\n      <td>287</td>\n      <td>287</td>\n      <td>287</td>\n      <td>287</td>\n      <td>2024-04-22 09:05:05</td>\n    </tr>\n    <tr>\n      <th>2</th>\n      <td>AKM4</td>\n      <td>2024-04-22</td>\n      <td>09:05:00</td>\n      <td>AFKS</td>\n      <td>26530.0</td>\n      <td>26671.0</td>\n      <td>26525.0</td>\n      <td>26580.0</td>\n      <td>43.3244</td>\n      <td>34</td>\n      <td>...</td>\n      <td>13241.0</td>\n      <td>10306</td>\n      <td>10318</td>\n      <td>10304</td>\n      <td>10318</td>\n      <td>5</td>\n      <td>21</td>\n      <td>181</td>\n      <td>288</td>\n      <td>2024-04-22 09:05:05</td>\n    </tr>\n    <tr>\n      <th>3</th>\n      <td>AKU4</td>\n      <td>2024-04-22</td>\n      <td>09:05:00</td>\n      <td>AFKS</td>\n      <td>26792.0</td>\n      <td>26792.0</td>\n      <td>26670.0</td>\n      <td>26670.0</td>\n      <td>86.2670</td>\n      <td>2</td>\n      <td>...</td>\n      <td>13726.0</td>\n      <td>778</td>\n      <td>780</td>\n      <td>778</td>\n      <td>780</td>\n      <td>21</td>\n      <td>21</td>\n      <td>83</td>\n      <td>83</td>\n      <td>2024-04-22 09:05:05</td>\n    </tr>\n    <tr>\n      <th>4</th>\n      <td>ALM4</td>\n      <td>2024-04-22</td>\n      <td>09:05:00</td>\n      <td>ALRS</td>\n      <td>7729.0</td>\n      <td>7729.0</td>\n      <td>7729.0</td>\n      <td>7729.0</td>\n      <td>NaN</td>\n      <td>8</td>\n      <td>...</td>\n      <td>2047.0</td>\n      <td>114760</td>\n      <td>114760</td>\n      <td>114760</td>\n      <td>114760</td>\n      <td>5</td>\n      <td>5</td>\n      <td>5</td>\n      <td>5</td>\n      <td>2024-04-22 09:05:05</td>\n    </tr>\n  </tbody>\n</table>\n<p>5 rows × 33 columns</p>\n</div>"
     },
     "execution_count": 13,
     "metadata": {},
     "output_type": "execute_result"
    }
   ],
   "source": [
    "fo.tradestats(date='2024-04-22').head()"
   ]
  },
  {
   "cell_type": "code",
   "execution_count": 14,
   "id": "9553e7fe-3d80-4f8d-9bb0-a909c2b7d4a7",
   "metadata": {
    "ExecuteTime": {
     "end_time": "2024-04-25T14:42:46.521657688Z",
     "start_time": "2024-04-25T14:42:45.752206346Z"
    }
   },
   "outputs": [
    {
     "data": {
      "text/plain": "         ticker   tradedate tradetime   pr_open    pr_high   pr_low  pr_close  \\\n0  CNY000000TOD  2024-04-22  07:05:00   12.8715   12.87150  12.8480  12.84950   \n1    CNYRUB_TOM  2024-04-22  07:05:00   12.8500   12.87000  12.8500  12.85800   \n2  EURUSD000TOM  2024-04-22  07:05:00    1.0670    1.06705   1.0670   1.06705   \n3  EUR_RUB__TOD  2024-04-22  07:05:00  105.3475  105.34750  95.4750  99.50500   \n4  EUR_RUB__TOM  2024-04-22  07:05:00   99.4075   99.54750  99.4075  99.46500   \n\n     pr_std    vol        val  ...  vol_b  vol_s  disb  pr_vwap_b  pr_vwap_s  \\\n0  0.000233    693    8909349  ...    252    441 -0.27   12.86394   12.85178   \n1  0.000275  15881  204227307  ...  11941   3940  0.50   12.85989   12.85975   \n2  0.000000    250     266760  ...    250      0  1.00    1.06704        NaN   \n3  0.040050    147   14692155  ...     30    117 -0.59   99.50500  100.05990   \n4  0.000534    419   41671507  ...     57    362 -0.73   99.47510   99.45150   \n\n   sec_pr_open  sec_pr_high  sec_pr_low  sec_pr_close             systime  \n0           10           10         206           227 2024-05-08 22:20:50  \n1            1            8           1           192 2024-05-08 22:20:50  \n2           82           82          82            82 2024-05-08 22:20:50  \n3           12           12          28           117 2024-05-08 22:20:50  \n4           29           77          29            82 2024-05-08 22:20:50  \n\n[5 rows x 27 columns]",
      "text/html": "<div>\n<style scoped>\n    .dataframe tbody tr th:only-of-type {\n        vertical-align: middle;\n    }\n\n    .dataframe tbody tr th {\n        vertical-align: top;\n    }\n\n    .dataframe thead th {\n        text-align: right;\n    }\n</style>\n<table border=\"1\" class=\"dataframe\">\n  <thead>\n    <tr style=\"text-align: right;\">\n      <th></th>\n      <th>ticker</th>\n      <th>tradedate</th>\n      <th>tradetime</th>\n      <th>pr_open</th>\n      <th>pr_high</th>\n      <th>pr_low</th>\n      <th>pr_close</th>\n      <th>pr_std</th>\n      <th>vol</th>\n      <th>val</th>\n      <th>...</th>\n      <th>vol_b</th>\n      <th>vol_s</th>\n      <th>disb</th>\n      <th>pr_vwap_b</th>\n      <th>pr_vwap_s</th>\n      <th>sec_pr_open</th>\n      <th>sec_pr_high</th>\n      <th>sec_pr_low</th>\n      <th>sec_pr_close</th>\n      <th>systime</th>\n    </tr>\n  </thead>\n  <tbody>\n    <tr>\n      <th>0</th>\n      <td>CNY000000TOD</td>\n      <td>2024-04-22</td>\n      <td>07:05:00</td>\n      <td>12.8715</td>\n      <td>12.87150</td>\n      <td>12.8480</td>\n      <td>12.84950</td>\n      <td>0.000233</td>\n      <td>693</td>\n      <td>8909349</td>\n      <td>...</td>\n      <td>252</td>\n      <td>441</td>\n      <td>-0.27</td>\n      <td>12.86394</td>\n      <td>12.85178</td>\n      <td>10</td>\n      <td>10</td>\n      <td>206</td>\n      <td>227</td>\n      <td>2024-05-08 22:20:50</td>\n    </tr>\n    <tr>\n      <th>1</th>\n      <td>CNYRUB_TOM</td>\n      <td>2024-04-22</td>\n      <td>07:05:00</td>\n      <td>12.8500</td>\n      <td>12.87000</td>\n      <td>12.8500</td>\n      <td>12.85800</td>\n      <td>0.000275</td>\n      <td>15881</td>\n      <td>204227307</td>\n      <td>...</td>\n      <td>11941</td>\n      <td>3940</td>\n      <td>0.50</td>\n      <td>12.85989</td>\n      <td>12.85975</td>\n      <td>1</td>\n      <td>8</td>\n      <td>1</td>\n      <td>192</td>\n      <td>2024-05-08 22:20:50</td>\n    </tr>\n    <tr>\n      <th>2</th>\n      <td>EURUSD000TOM</td>\n      <td>2024-04-22</td>\n      <td>07:05:00</td>\n      <td>1.0670</td>\n      <td>1.06705</td>\n      <td>1.0670</td>\n      <td>1.06705</td>\n      <td>0.000000</td>\n      <td>250</td>\n      <td>266760</td>\n      <td>...</td>\n      <td>250</td>\n      <td>0</td>\n      <td>1.00</td>\n      <td>1.06704</td>\n      <td>NaN</td>\n      <td>82</td>\n      <td>82</td>\n      <td>82</td>\n      <td>82</td>\n      <td>2024-05-08 22:20:50</td>\n    </tr>\n    <tr>\n      <th>3</th>\n      <td>EUR_RUB__TOD</td>\n      <td>2024-04-22</td>\n      <td>07:05:00</td>\n      <td>105.3475</td>\n      <td>105.34750</td>\n      <td>95.4750</td>\n      <td>99.50500</td>\n      <td>0.040050</td>\n      <td>147</td>\n      <td>14692155</td>\n      <td>...</td>\n      <td>30</td>\n      <td>117</td>\n      <td>-0.59</td>\n      <td>99.50500</td>\n      <td>100.05990</td>\n      <td>12</td>\n      <td>12</td>\n      <td>28</td>\n      <td>117</td>\n      <td>2024-05-08 22:20:50</td>\n    </tr>\n    <tr>\n      <th>4</th>\n      <td>EUR_RUB__TOM</td>\n      <td>2024-04-22</td>\n      <td>07:05:00</td>\n      <td>99.4075</td>\n      <td>99.54750</td>\n      <td>99.4075</td>\n      <td>99.46500</td>\n      <td>0.000534</td>\n      <td>419</td>\n      <td>41671507</td>\n      <td>...</td>\n      <td>57</td>\n      <td>362</td>\n      <td>-0.73</td>\n      <td>99.47510</td>\n      <td>99.45150</td>\n      <td>29</td>\n      <td>77</td>\n      <td>29</td>\n      <td>82</td>\n      <td>2024-05-08 22:20:50</td>\n    </tr>\n  </tbody>\n</table>\n<p>5 rows × 27 columns</p>\n</div>"
     },
     "execution_count": 14,
     "metadata": {},
     "output_type": "execute_result"
    }
   ],
   "source": [
    "fx.tradestats(date='2024-04-22').head()"
   ]
  },
  {
   "cell_type": "markdown",
   "id": "901c30fe-df5c-46a3-b6e5-e97312700113",
   "metadata": {},
   "source": [
    "Данные TradeStats по акциям SBER за период"
   ]
  },
  {
   "cell_type": "code",
   "execution_count": 15,
   "id": "bbb7f59d-66c4-4e9d-a846-9c5ba0e19233",
   "metadata": {
    "ExecuteTime": {
     "end_time": "2024-04-25T14:42:46.928100831Z",
     "start_time": "2024-04-25T14:42:46.474961267Z"
    }
   },
   "outputs": [
    {
     "data": {
      "text/plain": "  ticker   tradedate tradetime  pr_open  pr_high  pr_low  pr_close  pr_std  \\\n0   SBER  2023-10-10  10:05:00   264.90   265.18  264.43    264.46  0.0001   \n1   SBER  2023-10-10  10:10:00   264.46   264.50  263.80    264.25  0.0001   \n2   SBER  2023-10-10  10:15:00   264.26   264.95  264.12    264.94  0.0001   \n3   SBER  2023-10-10  10:20:00   264.91   264.94  263.90    264.22  0.0001   \n4   SBER  2023-10-10  10:25:00   264.22   264.35  264.05    264.10  0.0000   \n\n      vol          val  ...  vol_b  vol_s  disb  pr_vwap_b  pr_vwap_s  \\\n0   89034  235729237.0  ...  40995  48039 -0.08     264.81     264.72   \n1  127733  337351653.0  ...  42771  84962 -0.33     264.13     264.10   \n2   88051  232913970.0  ...  71267  16784  0.62     264.53     264.47   \n3   79062  209015857.0  ...  18509  60553 -0.53     264.48     264.34   \n4   31648   83606467.0  ...  16890  14758  0.07     264.20     264.15   \n\n              systime  sec_pr_open  sec_pr_high  sec_pr_low  sec_pr_close  \n0 2024-08-13 03:46:33            1           72         256           300  \n1 2024-08-13 03:46:33            1            1         129           300  \n2 2024-08-13 03:46:33            1          298          11           299  \n3 2024-08-13 03:46:33            2            2         238           300  \n4 2024-08-13 03:46:33            1          233          42           299  \n\n[5 rows x 27 columns]",
      "text/html": "<div>\n<style scoped>\n    .dataframe tbody tr th:only-of-type {\n        vertical-align: middle;\n    }\n\n    .dataframe tbody tr th {\n        vertical-align: top;\n    }\n\n    .dataframe thead th {\n        text-align: right;\n    }\n</style>\n<table border=\"1\" class=\"dataframe\">\n  <thead>\n    <tr style=\"text-align: right;\">\n      <th></th>\n      <th>ticker</th>\n      <th>tradedate</th>\n      <th>tradetime</th>\n      <th>pr_open</th>\n      <th>pr_high</th>\n      <th>pr_low</th>\n      <th>pr_close</th>\n      <th>pr_std</th>\n      <th>vol</th>\n      <th>val</th>\n      <th>...</th>\n      <th>vol_b</th>\n      <th>vol_s</th>\n      <th>disb</th>\n      <th>pr_vwap_b</th>\n      <th>pr_vwap_s</th>\n      <th>systime</th>\n      <th>sec_pr_open</th>\n      <th>sec_pr_high</th>\n      <th>sec_pr_low</th>\n      <th>sec_pr_close</th>\n    </tr>\n  </thead>\n  <tbody>\n    <tr>\n      <th>0</th>\n      <td>SBER</td>\n      <td>2023-10-10</td>\n      <td>10:05:00</td>\n      <td>264.90</td>\n      <td>265.18</td>\n      <td>264.43</td>\n      <td>264.46</td>\n      <td>0.0001</td>\n      <td>89034</td>\n      <td>235729237.0</td>\n      <td>...</td>\n      <td>40995</td>\n      <td>48039</td>\n      <td>-0.08</td>\n      <td>264.81</td>\n      <td>264.72</td>\n      <td>2024-08-13 03:46:33</td>\n      <td>1</td>\n      <td>72</td>\n      <td>256</td>\n      <td>300</td>\n    </tr>\n    <tr>\n      <th>1</th>\n      <td>SBER</td>\n      <td>2023-10-10</td>\n      <td>10:10:00</td>\n      <td>264.46</td>\n      <td>264.50</td>\n      <td>263.80</td>\n      <td>264.25</td>\n      <td>0.0001</td>\n      <td>127733</td>\n      <td>337351653.0</td>\n      <td>...</td>\n      <td>42771</td>\n      <td>84962</td>\n      <td>-0.33</td>\n      <td>264.13</td>\n      <td>264.10</td>\n      <td>2024-08-13 03:46:33</td>\n      <td>1</td>\n      <td>1</td>\n      <td>129</td>\n      <td>300</td>\n    </tr>\n    <tr>\n      <th>2</th>\n      <td>SBER</td>\n      <td>2023-10-10</td>\n      <td>10:15:00</td>\n      <td>264.26</td>\n      <td>264.95</td>\n      <td>264.12</td>\n      <td>264.94</td>\n      <td>0.0001</td>\n      <td>88051</td>\n      <td>232913970.0</td>\n      <td>...</td>\n      <td>71267</td>\n      <td>16784</td>\n      <td>0.62</td>\n      <td>264.53</td>\n      <td>264.47</td>\n      <td>2024-08-13 03:46:33</td>\n      <td>1</td>\n      <td>298</td>\n      <td>11</td>\n      <td>299</td>\n    </tr>\n    <tr>\n      <th>3</th>\n      <td>SBER</td>\n      <td>2023-10-10</td>\n      <td>10:20:00</td>\n      <td>264.91</td>\n      <td>264.94</td>\n      <td>263.90</td>\n      <td>264.22</td>\n      <td>0.0001</td>\n      <td>79062</td>\n      <td>209015857.0</td>\n      <td>...</td>\n      <td>18509</td>\n      <td>60553</td>\n      <td>-0.53</td>\n      <td>264.48</td>\n      <td>264.34</td>\n      <td>2024-08-13 03:46:33</td>\n      <td>2</td>\n      <td>2</td>\n      <td>238</td>\n      <td>300</td>\n    </tr>\n    <tr>\n      <th>4</th>\n      <td>SBER</td>\n      <td>2023-10-10</td>\n      <td>10:25:00</td>\n      <td>264.22</td>\n      <td>264.35</td>\n      <td>264.05</td>\n      <td>264.10</td>\n      <td>0.0000</td>\n      <td>31648</td>\n      <td>83606467.0</td>\n      <td>...</td>\n      <td>16890</td>\n      <td>14758</td>\n      <td>0.07</td>\n      <td>264.20</td>\n      <td>264.15</td>\n      <td>2024-08-13 03:46:33</td>\n      <td>1</td>\n      <td>233</td>\n      <td>42</td>\n      <td>299</td>\n    </tr>\n  </tbody>\n</table>\n<p>5 rows × 27 columns</p>\n</div>"
     },
     "execution_count": 15,
     "metadata": {},
     "output_type": "execute_result"
    }
   ],
   "source": [
    "sber.tradestats(start='2023-10-10', end='2023-10-18').head()"
   ]
  },
  {
   "cell_type": "markdown",
   "id": "1aed8f1c-61c3-44c6-a25d-41c08a86a5aa",
   "metadata": {},
   "source": [
    "#### Orderstats\n",
    "\n",
    "Торговая статистика на основе заявок. Гранулярность данных 5 мин.\n",
    "\n",
    "---\n",
    "\n",
    "##### ❗️ Для рынка фьючерсов нет метрики OrderStats ❗️"
   ]
  },
  {
   "cell_type": "markdown",
   "id": "7d545542-2d11-4789-97d1-d7f687c022b2",
   "metadata": {},
   "source": [
    "Данные OrderStats по всем акциям за дату. Чтобы получить данные за период, нужно запустить цикл по датам"
   ]
  },
  {
   "cell_type": "code",
   "execution_count": 16,
   "id": "5f963eea-c7c4-4fde-9de8-7f91a4d81479",
   "metadata": {
    "ExecuteTime": {
     "end_time": "2024-04-25T14:42:56.472053892Z",
     "start_time": "2024-04-25T14:42:46.926808204Z"
    }
   },
   "outputs": [
    {
     "data": {
      "text/plain": "  ticker   tradedate tradetime  put_orders_b  put_orders_s     put_val_b  \\\n0   ABIO  2024-04-22  10:05:00          3900          2384  2.437240e+08   \n1   ABRD  2024-04-22  10:05:00           403          1254  1.160115e+07   \n2   AFKS  2024-04-22  10:05:00         35920         41697  1.164957e+10   \n3   AFLT  2024-04-22  10:05:00         13667          4889  2.221985e+09   \n4   AGRO  2024-04-22  10:05:00         76081         28084  1.790732e+10   \n\n      put_val_s  put_vol_b  put_vol_s  put_vwap_b  ...  cancel_val_b  \\\n0  2.437240e+08     218916     107365     111.330  ...  2.289854e+08   \n1  1.160115e+07       4266      22618     271.900  ...  6.100996e+06   \n2  1.164957e+10    4476036    4843997      26.027  ...  1.132790e+10   \n3  2.221985e+09    4499012    1549139      49.390  ...  2.113513e+09   \n4  1.790732e+10   12349215    1897247    1450.100  ...  1.787175e+10   \n\n   cancel_val_s  cancel_vol_b  cancel_vol_s  cancel_vwap_b  cancel_vwap_s  \\\n0  2.289854e+08        204224         70889        112.120        112.690   \n1  6.100996e+06          2117         18778        288.200        292.300   \n2  1.132790e+10       4325725       4682085         26.187         26.268   \n3  2.113513e+09       4249101       1286704         49.740         50.000   \n4  1.787175e+10      12313352       1857227       1451.400       1464.100   \n\n   cancel_vol    cancel_val  cancel_orders             systime  \n0      275113  3.088728e+08           4910 2024-04-22 10:05:15  \n1       20895  6.098031e+07            935 2024-04-22 10:05:15  \n2     9007810  2.362702e+10          71974 2024-04-22 10:05:15  \n3     5535805  2.756874e+09          16076 2024-04-22 10:05:15  \n4    14170579  2.059101e+10         102673 2024-04-22 10:05:15  \n\n[5 rows x 26 columns]",
      "text/html": "<div>\n<style scoped>\n    .dataframe tbody tr th:only-of-type {\n        vertical-align: middle;\n    }\n\n    .dataframe tbody tr th {\n        vertical-align: top;\n    }\n\n    .dataframe thead th {\n        text-align: right;\n    }\n</style>\n<table border=\"1\" class=\"dataframe\">\n  <thead>\n    <tr style=\"text-align: right;\">\n      <th></th>\n      <th>ticker</th>\n      <th>tradedate</th>\n      <th>tradetime</th>\n      <th>put_orders_b</th>\n      <th>put_orders_s</th>\n      <th>put_val_b</th>\n      <th>put_val_s</th>\n      <th>put_vol_b</th>\n      <th>put_vol_s</th>\n      <th>put_vwap_b</th>\n      <th>...</th>\n      <th>cancel_val_b</th>\n      <th>cancel_val_s</th>\n      <th>cancel_vol_b</th>\n      <th>cancel_vol_s</th>\n      <th>cancel_vwap_b</th>\n      <th>cancel_vwap_s</th>\n      <th>cancel_vol</th>\n      <th>cancel_val</th>\n      <th>cancel_orders</th>\n      <th>systime</th>\n    </tr>\n  </thead>\n  <tbody>\n    <tr>\n      <th>0</th>\n      <td>ABIO</td>\n      <td>2024-04-22</td>\n      <td>10:05:00</td>\n      <td>3900</td>\n      <td>2384</td>\n      <td>2.437240e+08</td>\n      <td>2.437240e+08</td>\n      <td>218916</td>\n      <td>107365</td>\n      <td>111.330</td>\n      <td>...</td>\n      <td>2.289854e+08</td>\n      <td>2.289854e+08</td>\n      <td>204224</td>\n      <td>70889</td>\n      <td>112.120</td>\n      <td>112.690</td>\n      <td>275113</td>\n      <td>3.088728e+08</td>\n      <td>4910</td>\n      <td>2024-04-22 10:05:15</td>\n    </tr>\n    <tr>\n      <th>1</th>\n      <td>ABRD</td>\n      <td>2024-04-22</td>\n      <td>10:05:00</td>\n      <td>403</td>\n      <td>1254</td>\n      <td>1.160115e+07</td>\n      <td>1.160115e+07</td>\n      <td>4266</td>\n      <td>22618</td>\n      <td>271.900</td>\n      <td>...</td>\n      <td>6.100996e+06</td>\n      <td>6.100996e+06</td>\n      <td>2117</td>\n      <td>18778</td>\n      <td>288.200</td>\n      <td>292.300</td>\n      <td>20895</td>\n      <td>6.098031e+07</td>\n      <td>935</td>\n      <td>2024-04-22 10:05:15</td>\n    </tr>\n    <tr>\n      <th>2</th>\n      <td>AFKS</td>\n      <td>2024-04-22</td>\n      <td>10:05:00</td>\n      <td>35920</td>\n      <td>41697</td>\n      <td>1.164957e+10</td>\n      <td>1.164957e+10</td>\n      <td>4476036</td>\n      <td>4843997</td>\n      <td>26.027</td>\n      <td>...</td>\n      <td>1.132790e+10</td>\n      <td>1.132790e+10</td>\n      <td>4325725</td>\n      <td>4682085</td>\n      <td>26.187</td>\n      <td>26.268</td>\n      <td>9007810</td>\n      <td>2.362702e+10</td>\n      <td>71974</td>\n      <td>2024-04-22 10:05:15</td>\n    </tr>\n    <tr>\n      <th>3</th>\n      <td>AFLT</td>\n      <td>2024-04-22</td>\n      <td>10:05:00</td>\n      <td>13667</td>\n      <td>4889</td>\n      <td>2.221985e+09</td>\n      <td>2.221985e+09</td>\n      <td>4499012</td>\n      <td>1549139</td>\n      <td>49.390</td>\n      <td>...</td>\n      <td>2.113513e+09</td>\n      <td>2.113513e+09</td>\n      <td>4249101</td>\n      <td>1286704</td>\n      <td>49.740</td>\n      <td>50.000</td>\n      <td>5535805</td>\n      <td>2.756874e+09</td>\n      <td>16076</td>\n      <td>2024-04-22 10:05:15</td>\n    </tr>\n    <tr>\n      <th>4</th>\n      <td>AGRO</td>\n      <td>2024-04-22</td>\n      <td>10:05:00</td>\n      <td>76081</td>\n      <td>28084</td>\n      <td>1.790732e+10</td>\n      <td>1.790732e+10</td>\n      <td>12349215</td>\n      <td>1897247</td>\n      <td>1450.100</td>\n      <td>...</td>\n      <td>1.787175e+10</td>\n      <td>1.787175e+10</td>\n      <td>12313352</td>\n      <td>1857227</td>\n      <td>1451.400</td>\n      <td>1464.100</td>\n      <td>14170579</td>\n      <td>2.059101e+10</td>\n      <td>102673</td>\n      <td>2024-04-22 10:05:15</td>\n    </tr>\n  </tbody>\n</table>\n<p>5 rows × 26 columns</p>\n</div>"
     },
     "execution_count": 16,
     "metadata": {},
     "output_type": "execute_result"
    }
   ],
   "source": [
    "eq.orderstats(date='2024-04-22').head()"
   ]
  },
  {
   "cell_type": "code",
   "execution_count": 17,
   "id": "2be8abd3-ad48-48fe-abf4-3dcf1e9cf4bd",
   "metadata": {
    "ExecuteTime": {
     "end_time": "2024-04-25T14:42:57.148687224Z",
     "start_time": "2024-04-25T14:42:56.427828288Z"
    }
   },
   "outputs": [
    {
     "data": {
      "text/plain": "         ticker   tradedate tradetime  put_orders_b  put_orders_s  \\\n0  CNY000000TOD  2024-04-22  07:05:00          1399          3230   \n1    CNYRUB_TOM  2024-04-22  07:05:00          4719         17543   \n2  EURUSD000TOD  2024-04-22  07:05:00             3             2   \n3  EURUSD000TOM  2024-04-22  07:05:00           579           217   \n4  EUR_RUB__TOD  2024-04-22  07:05:00          6171          1802   \n\n     put_val_b     put_val_s  put_vol_b  put_vol_s  put_vwap_b  put_vwap_s  \\\n0  15671927317   23039305040    1223565    1780529   12.808410   12.939580   \n1  51954068498  196759518757    4049678   15275798   12.829190   12.880470   \n2       749810        767260        710        700    1.056070    1.096086   \n3     78081407      33625320      73300      31450    1.065231    1.069168   \n4  83836315765   30743628336     875212     304020   95.789700  101.123700   \n\n   cancel_orders_b  cancel_orders_s  cancel_val_b  cancel_val_s  cancel_vol_b  \\\n0             1352             3179   14575782279   21804988673       1137631   \n1             4647            17428   50762588193  195341249849       3956773   \n2                0                0             0             0             0   \n3              563              203      73770427      29777447         69250   \n4             6146             1766   83422796620   30323934509        871035   \n\n   cancel_vol_s  cancel_vwap_b  cancel_vwap_s             systime  \n0       1685175      12.812400      12.939300 2024-04-23 20:43:12  \n1      15166226      12.829290      12.880020 2024-04-23 20:43:12  \n2             0            NaN            NaN 2024-04-23 20:43:12  \n3         27850       1.065277       1.069208 2024-04-23 20:43:12  \n4        299821      95.774300     101.140100 2024-04-23 20:43:12  ",
      "text/html": "<div>\n<style scoped>\n    .dataframe tbody tr th:only-of-type {\n        vertical-align: middle;\n    }\n\n    .dataframe tbody tr th {\n        vertical-align: top;\n    }\n\n    .dataframe thead th {\n        text-align: right;\n    }\n</style>\n<table border=\"1\" class=\"dataframe\">\n  <thead>\n    <tr style=\"text-align: right;\">\n      <th></th>\n      <th>ticker</th>\n      <th>tradedate</th>\n      <th>tradetime</th>\n      <th>put_orders_b</th>\n      <th>put_orders_s</th>\n      <th>put_val_b</th>\n      <th>put_val_s</th>\n      <th>put_vol_b</th>\n      <th>put_vol_s</th>\n      <th>put_vwap_b</th>\n      <th>put_vwap_s</th>\n      <th>cancel_orders_b</th>\n      <th>cancel_orders_s</th>\n      <th>cancel_val_b</th>\n      <th>cancel_val_s</th>\n      <th>cancel_vol_b</th>\n      <th>cancel_vol_s</th>\n      <th>cancel_vwap_b</th>\n      <th>cancel_vwap_s</th>\n      <th>systime</th>\n    </tr>\n  </thead>\n  <tbody>\n    <tr>\n      <th>0</th>\n      <td>CNY000000TOD</td>\n      <td>2024-04-22</td>\n      <td>07:05:00</td>\n      <td>1399</td>\n      <td>3230</td>\n      <td>15671927317</td>\n      <td>23039305040</td>\n      <td>1223565</td>\n      <td>1780529</td>\n      <td>12.808410</td>\n      <td>12.939580</td>\n      <td>1352</td>\n      <td>3179</td>\n      <td>14575782279</td>\n      <td>21804988673</td>\n      <td>1137631</td>\n      <td>1685175</td>\n      <td>12.812400</td>\n      <td>12.939300</td>\n      <td>2024-04-23 20:43:12</td>\n    </tr>\n    <tr>\n      <th>1</th>\n      <td>CNYRUB_TOM</td>\n      <td>2024-04-22</td>\n      <td>07:05:00</td>\n      <td>4719</td>\n      <td>17543</td>\n      <td>51954068498</td>\n      <td>196759518757</td>\n      <td>4049678</td>\n      <td>15275798</td>\n      <td>12.829190</td>\n      <td>12.880470</td>\n      <td>4647</td>\n      <td>17428</td>\n      <td>50762588193</td>\n      <td>195341249849</td>\n      <td>3956773</td>\n      <td>15166226</td>\n      <td>12.829290</td>\n      <td>12.880020</td>\n      <td>2024-04-23 20:43:12</td>\n    </tr>\n    <tr>\n      <th>2</th>\n      <td>EURUSD000TOD</td>\n      <td>2024-04-22</td>\n      <td>07:05:00</td>\n      <td>3</td>\n      <td>2</td>\n      <td>749810</td>\n      <td>767260</td>\n      <td>710</td>\n      <td>700</td>\n      <td>1.056070</td>\n      <td>1.096086</td>\n      <td>0</td>\n      <td>0</td>\n      <td>0</td>\n      <td>0</td>\n      <td>0</td>\n      <td>0</td>\n      <td>NaN</td>\n      <td>NaN</td>\n      <td>2024-04-23 20:43:12</td>\n    </tr>\n    <tr>\n      <th>3</th>\n      <td>EURUSD000TOM</td>\n      <td>2024-04-22</td>\n      <td>07:05:00</td>\n      <td>579</td>\n      <td>217</td>\n      <td>78081407</td>\n      <td>33625320</td>\n      <td>73300</td>\n      <td>31450</td>\n      <td>1.065231</td>\n      <td>1.069168</td>\n      <td>563</td>\n      <td>203</td>\n      <td>73770427</td>\n      <td>29777447</td>\n      <td>69250</td>\n      <td>27850</td>\n      <td>1.065277</td>\n      <td>1.069208</td>\n      <td>2024-04-23 20:43:12</td>\n    </tr>\n    <tr>\n      <th>4</th>\n      <td>EUR_RUB__TOD</td>\n      <td>2024-04-22</td>\n      <td>07:05:00</td>\n      <td>6171</td>\n      <td>1802</td>\n      <td>83836315765</td>\n      <td>30743628336</td>\n      <td>875212</td>\n      <td>304020</td>\n      <td>95.789700</td>\n      <td>101.123700</td>\n      <td>6146</td>\n      <td>1766</td>\n      <td>83422796620</td>\n      <td>30323934509</td>\n      <td>871035</td>\n      <td>299821</td>\n      <td>95.774300</td>\n      <td>101.140100</td>\n      <td>2024-04-23 20:43:12</td>\n    </tr>\n  </tbody>\n</table>\n</div>"
     },
     "execution_count": 17,
     "metadata": {},
     "output_type": "execute_result"
    }
   ],
   "source": [
    "# Аналогично для Валюты\n",
    "fx.orderstats(date='2024-04-22').head()"
   ]
  },
  {
   "cell_type": "markdown",
   "id": "b5d43d5e-1cc6-4145-beeb-9ff30876b55e",
   "metadata": {},
   "source": "Данные OrderStats по акциям SBER за период. Лимит по таким запросам 10К строк за раз. Если вам нужны большие периоды"
  },
  {
   "cell_type": "code",
   "execution_count": 18,
   "id": "684e1cf5-bcfb-408e-a666-4ea10fb22b80",
   "metadata": {
    "ExecuteTime": {
     "end_time": "2024-04-25T14:42:57.934018786Z",
     "start_time": "2024-04-25T14:42:57.126349175Z"
    }
   },
   "outputs": [
    {
     "data": {
      "text/plain": "  ticker   tradedate tradetime  put_orders_b  put_orders_s     put_val_b  \\\n0   SBER  2023-10-10  10:05:00         12588         15586  4.008831e+09   \n1   SBER  2023-10-10  10:10:00          5567          6791  1.940628e+09   \n2   SBER  2023-10-10  10:15:00          6289          5895  2.387144e+09   \n3   SBER  2023-10-10  10:20:00          5045          5893  1.633560e+09   \n4   SBER  2023-10-10  10:25:00          4320          4016  2.076028e+09   \n\n      put_val_s  put_vol_b  put_vol_s  put_vwap_b  ...  cancel_val_b  \\\n0  5.575253e+09    1511580    2038427      265.21  ...  3.640648e+09   \n1  2.657036e+09     714584    1001512      271.57  ...  1.463819e+09   \n2  2.480124e+09     898471     933868      265.69  ...  2.092585e+09   \n3  2.521517e+09     615955     953957      265.21  ...  1.478751e+09   \n4  2.242749e+09     785969     846117      264.14  ...  1.883450e+09   \n\n   cancel_val_s  cancel_vol_b  cancel_vol_s  cancel_vwap_b  cancel_vwap_s  \\\n0  4.970981e+09       1375738       1862514         264.63         266.90   \n1  2.290195e+09        545309        863399         268.44         265.25   \n2  2.292207e+09        781963        864446         267.61         265.16   \n3  2.284129e+09        559684        862257         264.21         264.90   \n4  2.157313e+09        713452        815408         263.99         264.57   \n\n   cancel_vol    cancel_val  cancel_orders             systime  \n0     3238252  8.611629e+09          24903 2023-10-25 21:26:47  \n1     1408708  3.754014e+09           9355 2023-10-25 21:26:47  \n2     1646409  4.384792e+09          10078 2023-10-25 21:26:48  \n3     1421941  3.762880e+09           9225 2023-10-25 21:26:50  \n4     1528860  4.040763e+09           6779 2023-10-25 21:26:51  \n\n[5 rows x 26 columns]",
      "text/html": "<div>\n<style scoped>\n    .dataframe tbody tr th:only-of-type {\n        vertical-align: middle;\n    }\n\n    .dataframe tbody tr th {\n        vertical-align: top;\n    }\n\n    .dataframe thead th {\n        text-align: right;\n    }\n</style>\n<table border=\"1\" class=\"dataframe\">\n  <thead>\n    <tr style=\"text-align: right;\">\n      <th></th>\n      <th>ticker</th>\n      <th>tradedate</th>\n      <th>tradetime</th>\n      <th>put_orders_b</th>\n      <th>put_orders_s</th>\n      <th>put_val_b</th>\n      <th>put_val_s</th>\n      <th>put_vol_b</th>\n      <th>put_vol_s</th>\n      <th>put_vwap_b</th>\n      <th>...</th>\n      <th>cancel_val_b</th>\n      <th>cancel_val_s</th>\n      <th>cancel_vol_b</th>\n      <th>cancel_vol_s</th>\n      <th>cancel_vwap_b</th>\n      <th>cancel_vwap_s</th>\n      <th>cancel_vol</th>\n      <th>cancel_val</th>\n      <th>cancel_orders</th>\n      <th>systime</th>\n    </tr>\n  </thead>\n  <tbody>\n    <tr>\n      <th>0</th>\n      <td>SBER</td>\n      <td>2023-10-10</td>\n      <td>10:05:00</td>\n      <td>12588</td>\n      <td>15586</td>\n      <td>4.008831e+09</td>\n      <td>5.575253e+09</td>\n      <td>1511580</td>\n      <td>2038427</td>\n      <td>265.21</td>\n      <td>...</td>\n      <td>3.640648e+09</td>\n      <td>4.970981e+09</td>\n      <td>1375738</td>\n      <td>1862514</td>\n      <td>264.63</td>\n      <td>266.90</td>\n      <td>3238252</td>\n      <td>8.611629e+09</td>\n      <td>24903</td>\n      <td>2023-10-25 21:26:47</td>\n    </tr>\n    <tr>\n      <th>1</th>\n      <td>SBER</td>\n      <td>2023-10-10</td>\n      <td>10:10:00</td>\n      <td>5567</td>\n      <td>6791</td>\n      <td>1.940628e+09</td>\n      <td>2.657036e+09</td>\n      <td>714584</td>\n      <td>1001512</td>\n      <td>271.57</td>\n      <td>...</td>\n      <td>1.463819e+09</td>\n      <td>2.290195e+09</td>\n      <td>545309</td>\n      <td>863399</td>\n      <td>268.44</td>\n      <td>265.25</td>\n      <td>1408708</td>\n      <td>3.754014e+09</td>\n      <td>9355</td>\n      <td>2023-10-25 21:26:47</td>\n    </tr>\n    <tr>\n      <th>2</th>\n      <td>SBER</td>\n      <td>2023-10-10</td>\n      <td>10:15:00</td>\n      <td>6289</td>\n      <td>5895</td>\n      <td>2.387144e+09</td>\n      <td>2.480124e+09</td>\n      <td>898471</td>\n      <td>933868</td>\n      <td>265.69</td>\n      <td>...</td>\n      <td>2.092585e+09</td>\n      <td>2.292207e+09</td>\n      <td>781963</td>\n      <td>864446</td>\n      <td>267.61</td>\n      <td>265.16</td>\n      <td>1646409</td>\n      <td>4.384792e+09</td>\n      <td>10078</td>\n      <td>2023-10-25 21:26:48</td>\n    </tr>\n    <tr>\n      <th>3</th>\n      <td>SBER</td>\n      <td>2023-10-10</td>\n      <td>10:20:00</td>\n      <td>5045</td>\n      <td>5893</td>\n      <td>1.633560e+09</td>\n      <td>2.521517e+09</td>\n      <td>615955</td>\n      <td>953957</td>\n      <td>265.21</td>\n      <td>...</td>\n      <td>1.478751e+09</td>\n      <td>2.284129e+09</td>\n      <td>559684</td>\n      <td>862257</td>\n      <td>264.21</td>\n      <td>264.90</td>\n      <td>1421941</td>\n      <td>3.762880e+09</td>\n      <td>9225</td>\n      <td>2023-10-25 21:26:50</td>\n    </tr>\n    <tr>\n      <th>4</th>\n      <td>SBER</td>\n      <td>2023-10-10</td>\n      <td>10:25:00</td>\n      <td>4320</td>\n      <td>4016</td>\n      <td>2.076028e+09</td>\n      <td>2.242749e+09</td>\n      <td>785969</td>\n      <td>846117</td>\n      <td>264.14</td>\n      <td>...</td>\n      <td>1.883450e+09</td>\n      <td>2.157313e+09</td>\n      <td>713452</td>\n      <td>815408</td>\n      <td>263.99</td>\n      <td>264.57</td>\n      <td>1528860</td>\n      <td>4.040763e+09</td>\n      <td>6779</td>\n      <td>2023-10-25 21:26:51</td>\n    </tr>\n  </tbody>\n</table>\n<p>5 rows × 26 columns</p>\n</div>"
     },
     "execution_count": 18,
     "metadata": {},
     "output_type": "execute_result"
    }
   ],
   "source": [
    "sber.orderstats(start='2023-10-10', end='2023-10-18').head()"
   ]
  },
  {
   "cell_type": "markdown",
   "id": "c3942ccd-1549-4ba8-8f8c-45a56c44c92f",
   "metadata": {},
   "source": [
    "#### OrderBookStats\n",
    "\n",
    "Торговая статистика на основе стакана заявок. Гранулярность данных 5 мин.\n",
    "\n",
    "---"
   ]
  },
  {
   "cell_type": "markdown",
   "id": "0ccff365-ee32-47f9-a590-fe73ff444d64",
   "metadata": {},
   "source": [
    "Данные по всем акциям за дату. Чтобы получить данные за период, нужно запустить цикл по датам"
   ]
  },
  {
   "cell_type": "code",
   "execution_count": 19,
   "id": "974518bd-e257-46ad-b9ce-630453c5d4d0",
   "metadata": {
    "ExecuteTime": {
     "end_time": "2024-04-25T14:43:06.646384370Z",
     "start_time": "2024-04-25T14:42:57.936908629Z"
    }
   },
   "outputs": [
    {
     "data": {
      "text/plain": "  ticker   tradedate tradetime  spread_bbo  spread_lv10  spread_1mio  \\\n0   ABIO  2024-04-10  10:10:00        10.9         70.9         87.8   \n1   ABRD  2024-04-10  10:10:00        17.4        184.1         98.0   \n2   AFKS  2024-04-10  10:10:00         4.3         19.2         10.6   \n3   AFLT  2024-04-10  10:10:00         2.9         39.9          9.3   \n4   AGRO  2024-04-10  10:10:00         3.5         42.6         22.3   \n\n   levels_b  levels_s   vol_b   vol_s  ...      val_s  imbalance_vol_bbo  \\\n0       231       280    8936   27109  ...   35095224               0.14   \n1       165       156    4569    8388  ...   25337918              -0.31   \n2       802       900  102931  116096  ...  288342708               0.20   \n3       568       501  477876  430169  ...  225060049              -0.04   \n4       357       361   35101   43840  ...   67314681              -0.09   \n\n   imbalance_val_bbo  imbalance_vol  imbalance_val    vwap_b    vwap_s  \\\n0               0.14          -0.50          -0.56   111.990   129.460   \n1              -0.31          -0.29          -0.35   266.800   302.100   \n2               0.20          -0.06          -0.11    22.609    24.837   \n3              -0.04           0.05          -0.01    45.690    52.330   \n4              -0.09          -0.11          -0.16  1395.400  1535.500   \n\n   vwap_b_1mio  vwap_s_1mio             systime  \n0       115.75      116.770 2024-04-10 10:10:12  \n1       281.30      284.100 2024-04-10 10:10:12  \n2        23.50       23.525 2024-04-10 10:10:12  \n3        49.22       49.270 2024-04-10 10:10:12  \n4      1446.10     1449.400 2024-04-10 10:10:12  \n\n[5 rows x 21 columns]",
      "text/html": "<div>\n<style scoped>\n    .dataframe tbody tr th:only-of-type {\n        vertical-align: middle;\n    }\n\n    .dataframe tbody tr th {\n        vertical-align: top;\n    }\n\n    .dataframe thead th {\n        text-align: right;\n    }\n</style>\n<table border=\"1\" class=\"dataframe\">\n  <thead>\n    <tr style=\"text-align: right;\">\n      <th></th>\n      <th>ticker</th>\n      <th>tradedate</th>\n      <th>tradetime</th>\n      <th>spread_bbo</th>\n      <th>spread_lv10</th>\n      <th>spread_1mio</th>\n      <th>levels_b</th>\n      <th>levels_s</th>\n      <th>vol_b</th>\n      <th>vol_s</th>\n      <th>...</th>\n      <th>val_s</th>\n      <th>imbalance_vol_bbo</th>\n      <th>imbalance_val_bbo</th>\n      <th>imbalance_vol</th>\n      <th>imbalance_val</th>\n      <th>vwap_b</th>\n      <th>vwap_s</th>\n      <th>vwap_b_1mio</th>\n      <th>vwap_s_1mio</th>\n      <th>systime</th>\n    </tr>\n  </thead>\n  <tbody>\n    <tr>\n      <th>0</th>\n      <td>ABIO</td>\n      <td>2024-04-10</td>\n      <td>10:10:00</td>\n      <td>10.9</td>\n      <td>70.9</td>\n      <td>87.8</td>\n      <td>231</td>\n      <td>280</td>\n      <td>8936</td>\n      <td>27109</td>\n      <td>...</td>\n      <td>35095224</td>\n      <td>0.14</td>\n      <td>0.14</td>\n      <td>-0.50</td>\n      <td>-0.56</td>\n      <td>111.990</td>\n      <td>129.460</td>\n      <td>115.75</td>\n      <td>116.770</td>\n      <td>2024-04-10 10:10:12</td>\n    </tr>\n    <tr>\n      <th>1</th>\n      <td>ABRD</td>\n      <td>2024-04-10</td>\n      <td>10:10:00</td>\n      <td>17.4</td>\n      <td>184.1</td>\n      <td>98.0</td>\n      <td>165</td>\n      <td>156</td>\n      <td>4569</td>\n      <td>8388</td>\n      <td>...</td>\n      <td>25337918</td>\n      <td>-0.31</td>\n      <td>-0.31</td>\n      <td>-0.29</td>\n      <td>-0.35</td>\n      <td>266.800</td>\n      <td>302.100</td>\n      <td>281.30</td>\n      <td>284.100</td>\n      <td>2024-04-10 10:10:12</td>\n    </tr>\n    <tr>\n      <th>2</th>\n      <td>AFKS</td>\n      <td>2024-04-10</td>\n      <td>10:10:00</td>\n      <td>4.3</td>\n      <td>19.2</td>\n      <td>10.6</td>\n      <td>802</td>\n      <td>900</td>\n      <td>102931</td>\n      <td>116096</td>\n      <td>...</td>\n      <td>288342708</td>\n      <td>0.20</td>\n      <td>0.20</td>\n      <td>-0.06</td>\n      <td>-0.11</td>\n      <td>22.609</td>\n      <td>24.837</td>\n      <td>23.50</td>\n      <td>23.525</td>\n      <td>2024-04-10 10:10:12</td>\n    </tr>\n    <tr>\n      <th>3</th>\n      <td>AFLT</td>\n      <td>2024-04-10</td>\n      <td>10:10:00</td>\n      <td>2.9</td>\n      <td>39.9</td>\n      <td>9.3</td>\n      <td>568</td>\n      <td>501</td>\n      <td>477876</td>\n      <td>430169</td>\n      <td>...</td>\n      <td>225060049</td>\n      <td>-0.04</td>\n      <td>-0.04</td>\n      <td>0.05</td>\n      <td>-0.01</td>\n      <td>45.690</td>\n      <td>52.330</td>\n      <td>49.22</td>\n      <td>49.270</td>\n      <td>2024-04-10 10:10:12</td>\n    </tr>\n    <tr>\n      <th>4</th>\n      <td>AGRO</td>\n      <td>2024-04-10</td>\n      <td>10:10:00</td>\n      <td>3.5</td>\n      <td>42.6</td>\n      <td>22.3</td>\n      <td>357</td>\n      <td>361</td>\n      <td>35101</td>\n      <td>43840</td>\n      <td>...</td>\n      <td>67314681</td>\n      <td>-0.09</td>\n      <td>-0.09</td>\n      <td>-0.11</td>\n      <td>-0.16</td>\n      <td>1395.400</td>\n      <td>1535.500</td>\n      <td>1446.10</td>\n      <td>1449.400</td>\n      <td>2024-04-10 10:10:12</td>\n    </tr>\n  </tbody>\n</table>\n<p>5 rows × 21 columns</p>\n</div>"
     },
     "execution_count": 19,
     "metadata": {},
     "output_type": "execute_result"
    }
   ],
   "source": [
    "eq.obstats(date='2024-04-10').head()"
   ]
  },
  {
   "cell_type": "markdown",
   "id": "a12cba02-c72b-484a-8766-38946071ac6f",
   "metadata": {},
   "source": [
    "##### Аналогично для других рынков"
   ]
  },
  {
   "cell_type": "code",
   "execution_count": 20,
   "id": "8da25528-22dc-43d0-b7eb-4f9c41666b54",
   "metadata": {
    "ExecuteTime": {
     "end_time": "2024-04-25T14:43:07.456789957Z",
     "start_time": "2024-04-25T14:43:06.648979985Z"
    }
   },
   "outputs": [
    {
     "data": {
      "text/plain": "         ticker   tradedate tradetime   mid_price  micro_price  spread_l1  \\\n0  CNY000000TOD  2024-04-10  07:05:00   12.835250    12.834660        4.5   \n1    CNYRUB_TOM  2024-04-10  07:05:00   12.838520    12.838370        1.7   \n2  EURUSD000TOD  2024-04-10  07:05:00    1.085825     1.089638      143.3   \n3  EURUSD000TOM  2024-04-10  07:05:00    1.085501     1.085304        6.0   \n4  EUR_RUB__TOD  2024-04-10  07:05:00  100.879400   100.838900       34.5   \n\n   spread_l2  spread_l3  spread_l5  spread_l10  ...  vol_s_l5  vol_s_l10  \\\n0        7.6       10.3       21.8        29.4  ...    1969.0     5210.0   \n1        2.8        3.9        6.2        10.9  ...    4630.0    12817.0   \n2      167.1        NaN        NaN         NaN  ...       0.0        0.0   \n3       10.9       21.1       37.3       120.1  ...    1533.0     3648.0   \n4       36.0       44.3       58.7       140.8  ...     325.0     2590.0   \n\n   vol_s_l20   vwap_b_l3   vwap_b_l5  vwap_b_l10   vwap_s_l3   vwap_s_l5  \\\n0       None   12.831390   12.830410   12.822390   12.839590   12.841910   \n1       None   12.836570   12.835860   12.834230   12.840210   12.841000   \n2       None    1.076869         NaN         NaN         NaN         NaN   \n3       None    1.084868    1.084071    1.083219    1.086009    1.086297   \n4       None  100.703300  100.689400  100.532200  101.082100  101.170300   \n\n   vwap_s_l10             systime  \n0   12.846340 2024-04-23 23:24:29  \n1   12.842890 2024-04-23 23:24:29  \n2         NaN 2024-04-23 23:24:29  \n3    1.087974 2024-04-23 23:24:29  \n4  101.421900 2024-04-23 23:24:29  \n\n[5 rows x 30 columns]",
      "text/html": "<div>\n<style scoped>\n    .dataframe tbody tr th:only-of-type {\n        vertical-align: middle;\n    }\n\n    .dataframe tbody tr th {\n        vertical-align: top;\n    }\n\n    .dataframe thead th {\n        text-align: right;\n    }\n</style>\n<table border=\"1\" class=\"dataframe\">\n  <thead>\n    <tr style=\"text-align: right;\">\n      <th></th>\n      <th>ticker</th>\n      <th>tradedate</th>\n      <th>tradetime</th>\n      <th>mid_price</th>\n      <th>micro_price</th>\n      <th>spread_l1</th>\n      <th>spread_l2</th>\n      <th>spread_l3</th>\n      <th>spread_l5</th>\n      <th>spread_l10</th>\n      <th>...</th>\n      <th>vol_s_l5</th>\n      <th>vol_s_l10</th>\n      <th>vol_s_l20</th>\n      <th>vwap_b_l3</th>\n      <th>vwap_b_l5</th>\n      <th>vwap_b_l10</th>\n      <th>vwap_s_l3</th>\n      <th>vwap_s_l5</th>\n      <th>vwap_s_l10</th>\n      <th>systime</th>\n    </tr>\n  </thead>\n  <tbody>\n    <tr>\n      <th>0</th>\n      <td>CNY000000TOD</td>\n      <td>2024-04-10</td>\n      <td>07:05:00</td>\n      <td>12.835250</td>\n      <td>12.834660</td>\n      <td>4.5</td>\n      <td>7.6</td>\n      <td>10.3</td>\n      <td>21.8</td>\n      <td>29.4</td>\n      <td>...</td>\n      <td>1969.0</td>\n      <td>5210.0</td>\n      <td>None</td>\n      <td>12.831390</td>\n      <td>12.830410</td>\n      <td>12.822390</td>\n      <td>12.839590</td>\n      <td>12.841910</td>\n      <td>12.846340</td>\n      <td>2024-04-23 23:24:29</td>\n    </tr>\n    <tr>\n      <th>1</th>\n      <td>CNYRUB_TOM</td>\n      <td>2024-04-10</td>\n      <td>07:05:00</td>\n      <td>12.838520</td>\n      <td>12.838370</td>\n      <td>1.7</td>\n      <td>2.8</td>\n      <td>3.9</td>\n      <td>6.2</td>\n      <td>10.9</td>\n      <td>...</td>\n      <td>4630.0</td>\n      <td>12817.0</td>\n      <td>None</td>\n      <td>12.836570</td>\n      <td>12.835860</td>\n      <td>12.834230</td>\n      <td>12.840210</td>\n      <td>12.841000</td>\n      <td>12.842890</td>\n      <td>2024-04-23 23:24:29</td>\n    </tr>\n    <tr>\n      <th>2</th>\n      <td>EURUSD000TOD</td>\n      <td>2024-04-10</td>\n      <td>07:05:00</td>\n      <td>1.085825</td>\n      <td>1.089638</td>\n      <td>143.3</td>\n      <td>167.1</td>\n      <td>NaN</td>\n      <td>NaN</td>\n      <td>NaN</td>\n      <td>...</td>\n      <td>0.0</td>\n      <td>0.0</td>\n      <td>None</td>\n      <td>1.076869</td>\n      <td>NaN</td>\n      <td>NaN</td>\n      <td>NaN</td>\n      <td>NaN</td>\n      <td>NaN</td>\n      <td>2024-04-23 23:24:29</td>\n    </tr>\n    <tr>\n      <th>3</th>\n      <td>EURUSD000TOM</td>\n      <td>2024-04-10</td>\n      <td>07:05:00</td>\n      <td>1.085501</td>\n      <td>1.085304</td>\n      <td>6.0</td>\n      <td>10.9</td>\n      <td>21.1</td>\n      <td>37.3</td>\n      <td>120.1</td>\n      <td>...</td>\n      <td>1533.0</td>\n      <td>3648.0</td>\n      <td>None</td>\n      <td>1.084868</td>\n      <td>1.084071</td>\n      <td>1.083219</td>\n      <td>1.086009</td>\n      <td>1.086297</td>\n      <td>1.087974</td>\n      <td>2024-04-23 23:24:29</td>\n    </tr>\n    <tr>\n      <th>4</th>\n      <td>EUR_RUB__TOD</td>\n      <td>2024-04-10</td>\n      <td>07:05:00</td>\n      <td>100.879400</td>\n      <td>100.838900</td>\n      <td>34.5</td>\n      <td>36.0</td>\n      <td>44.3</td>\n      <td>58.7</td>\n      <td>140.8</td>\n      <td>...</td>\n      <td>325.0</td>\n      <td>2590.0</td>\n      <td>None</td>\n      <td>100.703300</td>\n      <td>100.689400</td>\n      <td>100.532200</td>\n      <td>101.082100</td>\n      <td>101.170300</td>\n      <td>101.421900</td>\n      <td>2024-04-23 23:24:29</td>\n    </tr>\n  </tbody>\n</table>\n<p>5 rows × 30 columns</p>\n</div>"
     },
     "execution_count": 20,
     "metadata": {},
     "output_type": "execute_result"
    }
   ],
   "source": [
    "fx.obstats(date='2024-04-10').head()"
   ]
  },
  {
   "cell_type": "code",
   "execution_count": 21,
   "id": "dfebaddd-2c1c-46a2-85a4-e0f96a99b031",
   "metadata": {
    "ExecuteTime": {
     "end_time": "2024-04-25T14:43:07.807169256Z",
     "start_time": "2024-04-25T14:43:07.457480625Z"
    }
   },
   "outputs": [
    {
     "data": {
      "text/plain": "  ticker   tradedate tradetime asset_code  mid_price  micro_price  spread_l1  \\\n0   AEH5  2024-04-10  09:05:00        AED        NaN          NaN        NaN   \n1   AEM4  2024-04-10  09:05:00        AED     26.728       27.183     1065.8   \n2   AEU4  2024-04-10  09:05:00        AED     25.950       25.950     1148.5   \n3   AEZ4  2024-04-10  09:05:00        AED        NaN          NaN        NaN   \n4   AFM4  2024-04-10  09:05:00       AFLT   5082.000     5083.000       12.1   \n\n   spread_l2  spread_l3  spread_l5  ...  vol_s_l20  vwap_b_l3  vwap_b_l5  \\\n0        NaN        NaN        NaN  ...          0        NaN        NaN   \n1     1107.9     1115.1        NaN  ...          0  25281.383  25008.173   \n2     1150.0     1554.1        NaN  ...          0  24533.103  24405.657   \n3        NaN        NaN        NaN  ...          0  24742.000        NaN   \n4       23.2       91.6      112.3  ...         13   5073.000   5067.000   \n\n   vwap_b_l10  vwap_b_l20  vwap_s_l3  vwap_s_l5  vwap_s_l10  vwap_s_l20  \\\n0         NaN         NaN        NaN        NaN         NaN         NaN   \n1         NaN         NaN  28079.006        NaN         NaN         NaN   \n2         NaN         NaN  27360.534        NaN         NaN         NaN   \n3         NaN         NaN        NaN        NaN         NaN         NaN   \n4      5059.0      5052.0   5085.000     5095.0      5115.0      5127.0   \n\n              systime  \n0 2024-05-31 10:16:52  \n1 2024-05-31 09:33:50  \n2 2024-05-31 09:51:55  \n3 2024-05-31 10:11:55  \n4 2024-05-31 09:45:22  \n\n[5 rows x 35 columns]",
      "text/html": "<div>\n<style scoped>\n    .dataframe tbody tr th:only-of-type {\n        vertical-align: middle;\n    }\n\n    .dataframe tbody tr th {\n        vertical-align: top;\n    }\n\n    .dataframe thead th {\n        text-align: right;\n    }\n</style>\n<table border=\"1\" class=\"dataframe\">\n  <thead>\n    <tr style=\"text-align: right;\">\n      <th></th>\n      <th>ticker</th>\n      <th>tradedate</th>\n      <th>tradetime</th>\n      <th>asset_code</th>\n      <th>mid_price</th>\n      <th>micro_price</th>\n      <th>spread_l1</th>\n      <th>spread_l2</th>\n      <th>spread_l3</th>\n      <th>spread_l5</th>\n      <th>...</th>\n      <th>vol_s_l20</th>\n      <th>vwap_b_l3</th>\n      <th>vwap_b_l5</th>\n      <th>vwap_b_l10</th>\n      <th>vwap_b_l20</th>\n      <th>vwap_s_l3</th>\n      <th>vwap_s_l5</th>\n      <th>vwap_s_l10</th>\n      <th>vwap_s_l20</th>\n      <th>systime</th>\n    </tr>\n  </thead>\n  <tbody>\n    <tr>\n      <th>0</th>\n      <td>AEH5</td>\n      <td>2024-04-10</td>\n      <td>09:05:00</td>\n      <td>AED</td>\n      <td>NaN</td>\n      <td>NaN</td>\n      <td>NaN</td>\n      <td>NaN</td>\n      <td>NaN</td>\n      <td>NaN</td>\n      <td>...</td>\n      <td>0</td>\n      <td>NaN</td>\n      <td>NaN</td>\n      <td>NaN</td>\n      <td>NaN</td>\n      <td>NaN</td>\n      <td>NaN</td>\n      <td>NaN</td>\n      <td>NaN</td>\n      <td>2024-05-31 10:16:52</td>\n    </tr>\n    <tr>\n      <th>1</th>\n      <td>AEM4</td>\n      <td>2024-04-10</td>\n      <td>09:05:00</td>\n      <td>AED</td>\n      <td>26.728</td>\n      <td>27.183</td>\n      <td>1065.8</td>\n      <td>1107.9</td>\n      <td>1115.1</td>\n      <td>NaN</td>\n      <td>...</td>\n      <td>0</td>\n      <td>25281.383</td>\n      <td>25008.173</td>\n      <td>NaN</td>\n      <td>NaN</td>\n      <td>28079.006</td>\n      <td>NaN</td>\n      <td>NaN</td>\n      <td>NaN</td>\n      <td>2024-05-31 09:33:50</td>\n    </tr>\n    <tr>\n      <th>2</th>\n      <td>AEU4</td>\n      <td>2024-04-10</td>\n      <td>09:05:00</td>\n      <td>AED</td>\n      <td>25.950</td>\n      <td>25.950</td>\n      <td>1148.5</td>\n      <td>1150.0</td>\n      <td>1554.1</td>\n      <td>NaN</td>\n      <td>...</td>\n      <td>0</td>\n      <td>24533.103</td>\n      <td>24405.657</td>\n      <td>NaN</td>\n      <td>NaN</td>\n      <td>27360.534</td>\n      <td>NaN</td>\n      <td>NaN</td>\n      <td>NaN</td>\n      <td>2024-05-31 09:51:55</td>\n    </tr>\n    <tr>\n      <th>3</th>\n      <td>AEZ4</td>\n      <td>2024-04-10</td>\n      <td>09:05:00</td>\n      <td>AED</td>\n      <td>NaN</td>\n      <td>NaN</td>\n      <td>NaN</td>\n      <td>NaN</td>\n      <td>NaN</td>\n      <td>NaN</td>\n      <td>...</td>\n      <td>0</td>\n      <td>24742.000</td>\n      <td>NaN</td>\n      <td>NaN</td>\n      <td>NaN</td>\n      <td>NaN</td>\n      <td>NaN</td>\n      <td>NaN</td>\n      <td>NaN</td>\n      <td>2024-05-31 10:11:55</td>\n    </tr>\n    <tr>\n      <th>4</th>\n      <td>AFM4</td>\n      <td>2024-04-10</td>\n      <td>09:05:00</td>\n      <td>AFLT</td>\n      <td>5082.000</td>\n      <td>5083.000</td>\n      <td>12.1</td>\n      <td>23.2</td>\n      <td>91.6</td>\n      <td>112.3</td>\n      <td>...</td>\n      <td>13</td>\n      <td>5073.000</td>\n      <td>5067.000</td>\n      <td>5059.0</td>\n      <td>5052.0</td>\n      <td>5085.000</td>\n      <td>5095.0</td>\n      <td>5115.0</td>\n      <td>5127.0</td>\n      <td>2024-05-31 09:45:22</td>\n    </tr>\n  </tbody>\n</table>\n<p>5 rows × 35 columns</p>\n</div>"
     },
     "execution_count": 21,
     "metadata": {},
     "output_type": "execute_result"
    }
   ],
   "source": [
    "fo.obstats(date='2024-04-10').head()"
   ]
  },
  {
   "cell_type": "markdown",
   "id": "f05daa81-e8e4-4c66-b476-2fc03d4da0cf",
   "metadata": {},
   "source": [
    "Данные OrderBookStats по акциям SBER за период.\n",
    "\n",
    "Запросы такого типа (по одному тикеру и период дат) имеют лимит выдачи 10К строк за раз. \n",
    "Чтобы получить данные за большие периоды, нужно запустить цикл по датам, месяцам.  "
   ]
  },
  {
   "cell_type": "code",
   "execution_count": 22,
   "id": "080dfada-a0f7-4a3d-92c9-4f2d95cd8031",
   "metadata": {
    "ExecuteTime": {
     "end_time": "2024-04-25T14:43:08.255865202Z",
     "start_time": "2024-04-25T14:43:07.814003668Z"
    }
   },
   "outputs": [
    {
     "data": {
      "text/plain": "  ticker   tradedate tradetime  spread_bbo  spread_lv10  spread_1mio  \\\n0   SBER  2023-10-10  10:05:00         1.0          8.7          2.2   \n1   SBER  2023-10-10  10:10:00         0.8          8.1          1.6   \n2   SBER  2023-10-10  10:15:00         0.7          8.0          1.7   \n3   SBER  2023-10-10  10:20:00         0.7          7.9          1.5   \n4   SBER  2023-10-10  10:25:00         0.6          8.0          1.5   \n\n   levels_b  levels_s   vol_b   vol_s  ...       val_s  imbalance_vol_bbo  \\\n0      1387       856  349423  456963  ...  1241102353              -0.11   \n1      1401       922  393925  509661  ...  1383499548              -0.04   \n2      1450       939  445063  509068  ...  1381519454              -0.20   \n3      1473       968  454221  516908  ...  1402256629               0.38   \n4      1447       997  463721  525658  ...  1424980746               0.25   \n\n   imbalance_val_bbo  imbalance_vol  imbalance_val  vwap_b  vwap_s  \\\n0              -0.11          -0.13          -0.16  256.25  271.59   \n1              -0.04          -0.13          -0.16  256.41  271.46   \n2              -0.20          -0.07          -0.09  257.09  271.38   \n3               0.38          -0.06          -0.09  257.10  271.28   \n4               0.25          -0.06          -0.09  256.98  271.08   \n\n   vwap_b_1mio  vwap_s_1mio             systime  \n0       264.80       264.86 2023-10-27 02:53:53  \n1       264.16       264.21 2023-10-27 02:53:54  \n2       264.45       264.49 2023-10-27 02:53:54  \n3       264.51       264.55 2023-10-27 02:53:55  \n4       264.15       264.19 2023-10-27 02:53:55  \n\n[5 rows x 21 columns]",
      "text/html": "<div>\n<style scoped>\n    .dataframe tbody tr th:only-of-type {\n        vertical-align: middle;\n    }\n\n    .dataframe tbody tr th {\n        vertical-align: top;\n    }\n\n    .dataframe thead th {\n        text-align: right;\n    }\n</style>\n<table border=\"1\" class=\"dataframe\">\n  <thead>\n    <tr style=\"text-align: right;\">\n      <th></th>\n      <th>ticker</th>\n      <th>tradedate</th>\n      <th>tradetime</th>\n      <th>spread_bbo</th>\n      <th>spread_lv10</th>\n      <th>spread_1mio</th>\n      <th>levels_b</th>\n      <th>levels_s</th>\n      <th>vol_b</th>\n      <th>vol_s</th>\n      <th>...</th>\n      <th>val_s</th>\n      <th>imbalance_vol_bbo</th>\n      <th>imbalance_val_bbo</th>\n      <th>imbalance_vol</th>\n      <th>imbalance_val</th>\n      <th>vwap_b</th>\n      <th>vwap_s</th>\n      <th>vwap_b_1mio</th>\n      <th>vwap_s_1mio</th>\n      <th>systime</th>\n    </tr>\n  </thead>\n  <tbody>\n    <tr>\n      <th>0</th>\n      <td>SBER</td>\n      <td>2023-10-10</td>\n      <td>10:05:00</td>\n      <td>1.0</td>\n      <td>8.7</td>\n      <td>2.2</td>\n      <td>1387</td>\n      <td>856</td>\n      <td>349423</td>\n      <td>456963</td>\n      <td>...</td>\n      <td>1241102353</td>\n      <td>-0.11</td>\n      <td>-0.11</td>\n      <td>-0.13</td>\n      <td>-0.16</td>\n      <td>256.25</td>\n      <td>271.59</td>\n      <td>264.80</td>\n      <td>264.86</td>\n      <td>2023-10-27 02:53:53</td>\n    </tr>\n    <tr>\n      <th>1</th>\n      <td>SBER</td>\n      <td>2023-10-10</td>\n      <td>10:10:00</td>\n      <td>0.8</td>\n      <td>8.1</td>\n      <td>1.6</td>\n      <td>1401</td>\n      <td>922</td>\n      <td>393925</td>\n      <td>509661</td>\n      <td>...</td>\n      <td>1383499548</td>\n      <td>-0.04</td>\n      <td>-0.04</td>\n      <td>-0.13</td>\n      <td>-0.16</td>\n      <td>256.41</td>\n      <td>271.46</td>\n      <td>264.16</td>\n      <td>264.21</td>\n      <td>2023-10-27 02:53:54</td>\n    </tr>\n    <tr>\n      <th>2</th>\n      <td>SBER</td>\n      <td>2023-10-10</td>\n      <td>10:15:00</td>\n      <td>0.7</td>\n      <td>8.0</td>\n      <td>1.7</td>\n      <td>1450</td>\n      <td>939</td>\n      <td>445063</td>\n      <td>509068</td>\n      <td>...</td>\n      <td>1381519454</td>\n      <td>-0.20</td>\n      <td>-0.20</td>\n      <td>-0.07</td>\n      <td>-0.09</td>\n      <td>257.09</td>\n      <td>271.38</td>\n      <td>264.45</td>\n      <td>264.49</td>\n      <td>2023-10-27 02:53:54</td>\n    </tr>\n    <tr>\n      <th>3</th>\n      <td>SBER</td>\n      <td>2023-10-10</td>\n      <td>10:20:00</td>\n      <td>0.7</td>\n      <td>7.9</td>\n      <td>1.5</td>\n      <td>1473</td>\n      <td>968</td>\n      <td>454221</td>\n      <td>516908</td>\n      <td>...</td>\n      <td>1402256629</td>\n      <td>0.38</td>\n      <td>0.38</td>\n      <td>-0.06</td>\n      <td>-0.09</td>\n      <td>257.10</td>\n      <td>271.28</td>\n      <td>264.51</td>\n      <td>264.55</td>\n      <td>2023-10-27 02:53:55</td>\n    </tr>\n    <tr>\n      <th>4</th>\n      <td>SBER</td>\n      <td>2023-10-10</td>\n      <td>10:25:00</td>\n      <td>0.6</td>\n      <td>8.0</td>\n      <td>1.5</td>\n      <td>1447</td>\n      <td>997</td>\n      <td>463721</td>\n      <td>525658</td>\n      <td>...</td>\n      <td>1424980746</td>\n      <td>0.25</td>\n      <td>0.25</td>\n      <td>-0.06</td>\n      <td>-0.09</td>\n      <td>256.98</td>\n      <td>271.08</td>\n      <td>264.15</td>\n      <td>264.19</td>\n      <td>2023-10-27 02:53:55</td>\n    </tr>\n  </tbody>\n</table>\n<p>5 rows × 21 columns</p>\n</div>"
     },
     "execution_count": 22,
     "metadata": {},
     "output_type": "execute_result"
    }
   ],
   "source": [
    "sber.obstats(start='2023-10-10', end='2023-10-18').head()"
   ]
  },
  {
   "cell_type": "markdown",
   "id": "6f73b380-de9f-4535-92eb-37cba24ec5de",
   "metadata": {},
   "source": [
    "#### HI2\n",
    "Торговая статистика на основе индекса рыночной концентрации. Гранулярность данных 5 мин.\n",
    "\n",
    "---"
   ]
  },
  {
   "cell_type": "code",
   "execution_count": 23,
   "id": "482c3450-04fc-4ab1-85f5-e113d13edb7f",
   "metadata": {
    "ExecuteTime": {
     "end_time": "2024-04-25T14:43:08.651859321Z",
     "start_time": "2024-04-25T14:43:08.246288928Z"
    }
   },
   "outputs": [
    {
     "data": {
      "text/plain": "  ticker   tradedate tradetime             metric  value reference  \\\n0   SBER  2024-04-10  18:40:00  hhi_agressive_buy   62.0      None   \n1   SBER  2024-04-10  18:40:00      hhi_agressive   96.0      None   \n2   SBER  2024-04-10  18:40:00         hhi_volume  115.0      None   \n3   SBER  2024-04-10  18:40:00           hhi_sell  194.0      None   \n4   SBER  2024-04-10  18:40:00   hhi_passive_sell  313.0      None   \n\n              systime  \n0 2024-04-10 18:45:46  \n1 2024-04-10 18:45:46  \n2 2024-04-10 18:45:46  \n3 2024-04-10 18:45:46  \n4 2024-04-10 18:45:46  ",
      "text/html": "<div>\n<style scoped>\n    .dataframe tbody tr th:only-of-type {\n        vertical-align: middle;\n    }\n\n    .dataframe tbody tr th {\n        vertical-align: top;\n    }\n\n    .dataframe thead th {\n        text-align: right;\n    }\n</style>\n<table border=\"1\" class=\"dataframe\">\n  <thead>\n    <tr style=\"text-align: right;\">\n      <th></th>\n      <th>ticker</th>\n      <th>tradedate</th>\n      <th>tradetime</th>\n      <th>metric</th>\n      <th>value</th>\n      <th>reference</th>\n      <th>systime</th>\n    </tr>\n  </thead>\n  <tbody>\n    <tr>\n      <th>0</th>\n      <td>SBER</td>\n      <td>2024-04-10</td>\n      <td>18:40:00</td>\n      <td>hhi_agressive_buy</td>\n      <td>62.0</td>\n      <td>None</td>\n      <td>2024-04-10 18:45:46</td>\n    </tr>\n    <tr>\n      <th>1</th>\n      <td>SBER</td>\n      <td>2024-04-10</td>\n      <td>18:40:00</td>\n      <td>hhi_agressive</td>\n      <td>96.0</td>\n      <td>None</td>\n      <td>2024-04-10 18:45:46</td>\n    </tr>\n    <tr>\n      <th>2</th>\n      <td>SBER</td>\n      <td>2024-04-10</td>\n      <td>18:40:00</td>\n      <td>hhi_volume</td>\n      <td>115.0</td>\n      <td>None</td>\n      <td>2024-04-10 18:45:46</td>\n    </tr>\n    <tr>\n      <th>3</th>\n      <td>SBER</td>\n      <td>2024-04-10</td>\n      <td>18:40:00</td>\n      <td>hhi_sell</td>\n      <td>194.0</td>\n      <td>None</td>\n      <td>2024-04-10 18:45:46</td>\n    </tr>\n    <tr>\n      <th>4</th>\n      <td>SBER</td>\n      <td>2024-04-10</td>\n      <td>18:40:00</td>\n      <td>hhi_passive_sell</td>\n      <td>313.0</td>\n      <td>None</td>\n      <td>2024-04-10 18:45:46</td>\n    </tr>\n  </tbody>\n</table>\n</div>"
     },
     "execution_count": 23,
     "metadata": {},
     "output_type": "execute_result"
    }
   ],
   "source": [
    "sber.hi2(start='2024-04-10', end='2024-04-18').head()"
   ]
  },
  {
   "cell_type": "markdown",
   "id": "757235ce-a4de-4a15-892f-136ec875eaa2",
   "metadata": {},
   "source": [
    "#### FUTOI\n",
    "Торговая статистика на основе открытых позиций по фьючерсным контрактам в разрезе физ. и юр. лиц\n",
    "\n",
    "---"
   ]
  },
  {
   "cell_type": "code",
   "execution_count": 24,
   "id": "c9e42c88-ef11-457f-9a2a-87ed970db006",
   "metadata": {
    "ExecuteTime": {
     "end_time": "2024-04-25T14:43:11.755100501Z",
     "start_time": "2024-04-25T14:43:08.633532627Z"
    }
   },
   "outputs": [
    {
     "data": {
      "text/plain": "  ticker  sess_id  seqnum   tradedate tradetime clgroup     pos  pos_long  \\\n0     YN     7028      55  2024-04-08  23:50:00     YUR   -5104       133   \n1     YN     7028      55  2024-04-08  23:50:00     FIZ    5104     14091   \n2     VI     7028      55  2024-04-08  23:50:00     FIZ       0      1155   \n3     VB     7028      55  2024-04-08  23:50:00     YUR -501603     17861   \n4     VB     7028      55  2024-04-08  23:50:00     FIZ  501603    588919   \n\n   pos_short  pos_long_num  pos_short_num             systime  \n0      -5237             5              9 2024-04-08 23:50:05  \n1      -8987           668            365 2024-04-08 23:50:05  \n2      -1155            61             14 2024-04-08 23:50:05  \n3    -519464            11             37 2024-04-08 23:50:05  \n4     -87316          3005            730 2024-04-08 23:50:05  ",
      "text/html": "<div>\n<style scoped>\n    .dataframe tbody tr th:only-of-type {\n        vertical-align: middle;\n    }\n\n    .dataframe tbody tr th {\n        vertical-align: top;\n    }\n\n    .dataframe thead th {\n        text-align: right;\n    }\n</style>\n<table border=\"1\" class=\"dataframe\">\n  <thead>\n    <tr style=\"text-align: right;\">\n      <th></th>\n      <th>ticker</th>\n      <th>sess_id</th>\n      <th>seqnum</th>\n      <th>tradedate</th>\n      <th>tradetime</th>\n      <th>clgroup</th>\n      <th>pos</th>\n      <th>pos_long</th>\n      <th>pos_short</th>\n      <th>pos_long_num</th>\n      <th>pos_short_num</th>\n      <th>systime</th>\n    </tr>\n  </thead>\n  <tbody>\n    <tr>\n      <th>0</th>\n      <td>YN</td>\n      <td>7028</td>\n      <td>55</td>\n      <td>2024-04-08</td>\n      <td>23:50:00</td>\n      <td>YUR</td>\n      <td>-5104</td>\n      <td>133</td>\n      <td>-5237</td>\n      <td>5</td>\n      <td>9</td>\n      <td>2024-04-08 23:50:05</td>\n    </tr>\n    <tr>\n      <th>1</th>\n      <td>YN</td>\n      <td>7028</td>\n      <td>55</td>\n      <td>2024-04-08</td>\n      <td>23:50:00</td>\n      <td>FIZ</td>\n      <td>5104</td>\n      <td>14091</td>\n      <td>-8987</td>\n      <td>668</td>\n      <td>365</td>\n      <td>2024-04-08 23:50:05</td>\n    </tr>\n    <tr>\n      <th>2</th>\n      <td>VI</td>\n      <td>7028</td>\n      <td>55</td>\n      <td>2024-04-08</td>\n      <td>23:50:00</td>\n      <td>FIZ</td>\n      <td>0</td>\n      <td>1155</td>\n      <td>-1155</td>\n      <td>61</td>\n      <td>14</td>\n      <td>2024-04-08 23:50:05</td>\n    </tr>\n    <tr>\n      <th>3</th>\n      <td>VB</td>\n      <td>7028</td>\n      <td>55</td>\n      <td>2024-04-08</td>\n      <td>23:50:00</td>\n      <td>YUR</td>\n      <td>-501603</td>\n      <td>17861</td>\n      <td>-519464</td>\n      <td>11</td>\n      <td>37</td>\n      <td>2024-04-08 23:50:05</td>\n    </tr>\n    <tr>\n      <th>4</th>\n      <td>VB</td>\n      <td>7028</td>\n      <td>55</td>\n      <td>2024-04-08</td>\n      <td>23:50:00</td>\n      <td>FIZ</td>\n      <td>501603</td>\n      <td>588919</td>\n      <td>-87316</td>\n      <td>3005</td>\n      <td>730</td>\n      <td>2024-04-08 23:50:05</td>\n    </tr>\n  </tbody>\n</table>\n</div>"
     },
     "execution_count": 24,
     "metadata": {},
     "output_type": "execute_result"
    }
   ],
   "source": [
    "fo.futoi(date=\"2024-04-08\").head()"
   ]
  }
 ],
 "metadata": {
  "kernelspec": {
   "display_name": "Python 3 (ipykernel)",
   "language": "python",
   "name": "python3"
  },
  "language_info": {
   "codemirror_mode": {
    "name": "ipython",
    "version": 3
   },
   "file_extension": ".py",
   "mimetype": "text/x-python",
   "name": "python",
   "nbconvert_exporter": "python",
   "pygments_lexer": "ipython3",
   "version": "3.11.6"
  }
 },
 "nbformat": 4,
 "nbformat_minor": 5
}
