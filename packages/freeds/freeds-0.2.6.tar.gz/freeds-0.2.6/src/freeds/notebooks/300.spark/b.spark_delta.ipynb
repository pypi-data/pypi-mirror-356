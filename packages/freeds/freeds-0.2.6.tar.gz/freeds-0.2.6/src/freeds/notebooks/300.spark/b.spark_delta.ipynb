{
 "cells": [
  {
   "cell_type": "markdown",
   "id": "0",
   "metadata": {},
   "source": [
    "Self check template. (this cell can and should be removed in selfcheck ntoebooks )\n"
   ]
  },
  {
   "cell_type": "code",
   "execution_count": null,
   "id": "1",
   "metadata": {},
   "outputs": [],
   "source": [
    "# edit the strings to describe the check\n",
    "result = {\n",
    "    \"area\": \"spark\",\n",
    "    \"description\": \"Check that spark can use delta tables.\",\n",
    "    \"passed\": False,\n",
    "    \"message\": \"\",\n",
    "    \"plugin\": \"spark\",\n",
    "}"
   ]
  },
  {
   "cell_type": "code",
   "execution_count": null,
   "id": "2",
   "metadata": {},
   "outputs": [],
   "source": [
    "from freeds.spark import get_spark_session, show_spark_info\n",
    "\n",
    "try:\n",
    "    spark = get_spark_session(\"self-check1\")\n",
    "    data = spark.range(100)\n",
    "    selfcheck_db = \"selfcheckdb\"\n",
    "    table_name = f\"{selfcheck_db}.wikipedia_page_reads\"\n",
    "\n",
    "    # create some data in delta\n",
    "    spark.sql(f\"DROP DATABASE IF EXISTS {selfcheck_db} CASCADE\")\n",
    "    spark.sql(f\"CREATE DATABASE IF NOT EXISTS {selfcheck_db}\")\n",
    "\n",
    "    (\n",
    "        data.write.option(  # .mode(\"overwrite\")  # Options: 'overwrite', 'append', 'ignore', 'error' (default)\n",
    "            \"mergeSchema\", \"true\"\n",
    "        )\n",
    "        .format(\"delta\")  # Options: 'parquet', 'csv', 'json', 'orc', etc.\n",
    "        .saveAsTable(table_name)\n",
    "    )\n",
    "    spark.stop()\n",
    "\n",
    "    # read some data in delta\n",
    "    spark = get_spark_session(\"self-check2\")\n",
    "    data = spark.table(table_name)\n",
    "    show_spark_info(spark)\n",
    "    data.show(5)\n",
    "\n",
    "    # clean up\n",
    "    spark.sql(f\"DROP DATABASE IF EXISTS {selfcheck_db} CASCADE\")\n",
    "    spark.stop()\n",
    "\n",
    "    result[\"message\"] = \"Executed spark cell ok.\"\n",
    "    result[\"passed\"] = True\n",
    "\n",
    "except Exception as ex:\n",
    "    result[\"message\"] = str(ex)\n",
    "    result[\"passed\"] = False"
   ]
  },
  {
   "cell_type": "code",
   "execution_count": null,
   "id": "3",
   "metadata": {},
   "outputs": [],
   "source": [
    "import json\n",
    "\n",
    "print(json.dumps(result, indent=4))"
   ]
  }
 ],
 "metadata": {
  "kernelspec": {
   "display_name": "Python 3 (ipykernel)",
   "language": "python",
   "name": "python3"
  }
 },
 "nbformat": 4,
 "nbformat_minor": 5
}
