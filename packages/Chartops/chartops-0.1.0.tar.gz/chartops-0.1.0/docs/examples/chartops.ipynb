{
 "cells": [
  {
   "cell_type": "markdown",
   "metadata": {},
   "source": [
    "[![Open In Colab](https://colab.research.google.com/assets/colab-badge.svg)](https://colab.research.google.com/github/Thomatous/Chartops/blob/main/docs/examples/chartops.ipynb)"
   ]
  },
  {
   "cell_type": "code",
   "execution_count": null,
   "metadata": {},
   "outputs": [],
   "source": [
    "from chartops.chartops import Map"
   ]
  },
  {
   "cell_type": "code",
   "execution_count": null,
   "metadata": {},
   "outputs": [],
   "source": [
    "map = Map(center=[34.5, 18.0], zoom=5)\n",
    "map"
   ]
  },
  {
   "cell_type": "code",
   "execution_count": null,
   "metadata": {},
   "outputs": [],
   "source": [
    "map_with_basemap = Map(center=[34.5, 18.0], zoom=5)\n",
    "map_with_basemap.add_basemap(\"OpenTopoMap\")\n",
    "map_with_basemap"
   ]
  },
  {
   "cell_type": "code",
   "execution_count": null,
   "metadata": {},
   "outputs": [],
   "source": [
    "map_with_layer_controls = Map(center=[34.5, 18.0], zoom=5)\n",
    "map_with_layer_controls.add_layer_control()\n",
    "map_with_layer_controls"
   ]
  },
  {
   "cell_type": "code",
   "execution_count": null,
   "metadata": {},
   "outputs": [],
   "source": [
    "map_with_vector = Map(center=[34.5, 18.0], zoom=5)\n",
    "map_with_vector.add_vector(\n",
    "    \"https://github.com/jupyter-widgets/ipyleaflet/raw/master/examples/europe_110.geo.json\",\n",
    "    \"Europe Vector\",\n",
    ")\n",
    "map_with_vector"
   ]
  },
  {
   "cell_type": "code",
   "execution_count": null,
   "metadata": {},
   "outputs": [],
   "source": [
    "map_with_all_feature = Map(center=[34.5, 18.0], zoom=5)\n",
    "map_with_all_feature.add_basemap(\"Esri.WorldImagery\")\n",
    "map_with_all_feature.add_layer_control()\n",
    "map_with_all_feature.add_vector(\n",
    "    \"https://github.com/jupyter-widgets/ipyleaflet/raw/master/examples/europe_110.geo.json\",\n",
    "    \"Europe Vector\",\n",
    ")\n",
    "map_with_all_feature"
   ]
  }
 ],
 "metadata": {
  "kernelspec": {
   "display_name": "venv",
   "language": "python",
   "name": "python3"
  },
  "language_info": {
   "codemirror_mode": {
    "name": "ipython",
    "version": 3
   },
   "file_extension": ".py",
   "mimetype": "text/x-python",
   "name": "python",
   "nbconvert_exporter": "python",
   "pygments_lexer": "ipython3",
   "version": "3.10.6"
  }
 },
 "nbformat": 4,
 "nbformat_minor": 2
}
