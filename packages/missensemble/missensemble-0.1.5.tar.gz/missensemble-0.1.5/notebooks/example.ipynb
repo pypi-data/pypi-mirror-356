{
 "cells": [
  {
   "cell_type": "code",
   "execution_count": 1,
   "id": "72f5ff19-a3f7-45b4-9325-6569133e4316",
   "metadata": {
    "execution": {
     "iopub.execute_input": "2024-07-18T07:26:01.743095Z",
     "iopub.status.busy": "2024-07-18T07:26:01.743095Z",
     "iopub.status.idle": "2024-07-18T07:26:02.766080Z",
     "shell.execute_reply": "2024-07-18T07:26:02.766080Z",
     "shell.execute_reply.started": "2024-07-18T07:26:01.743095Z"
    }
   },
   "outputs": [],
   "source": [
    "import time\n",
    "import numpy as np\n",
    "import pandas as pd\n",
    "import matplotlib.pyplot as plt\n",
    "import seaborn as sns\n",
    "%matplotlib inline"
   ]
  },
  {
   "cell_type": "code",
   "execution_count": 2,
   "id": "0467d4db-21fe-47bb-8234-0d32291e7740",
   "metadata": {
    "execution": {
     "iopub.execute_input": "2024-07-18T07:26:02.767062Z",
     "iopub.status.busy": "2024-07-18T07:26:02.767062Z",
     "iopub.status.idle": "2024-07-18T07:26:03.421345Z",
     "shell.execute_reply": "2024-07-18T07:26:03.419382Z",
     "shell.execute_reply.started": "2024-07-18T07:26:02.767062Z"
    }
   },
   "outputs": [],
   "source": [
    "from sklearn.datasets import load_breast_cancer"
   ]
  },
  {
   "cell_type": "code",
   "execution_count": 3,
   "id": "833550de-872a-49d5-b64d-e951de3929a6",
   "metadata": {
    "execution": {
     "iopub.execute_input": "2024-07-18T07:26:03.423389Z",
     "iopub.status.busy": "2024-07-18T07:26:03.422296Z",
     "iopub.status.idle": "2024-07-18T07:26:03.450854Z",
     "shell.execute_reply": "2024-07-18T07:26:03.449972Z",
     "shell.execute_reply.started": "2024-07-18T07:26:03.423296Z"
    }
   },
   "outputs": [],
   "source": [
    "data = load_breast_cancer()"
   ]
  },
  {
   "cell_type": "code",
   "execution_count": 4,
   "id": "cd6ed173-20af-426b-a596-ca69ad61cde5",
   "metadata": {
    "execution": {
     "iopub.execute_input": "2024-07-18T07:26:03.452642Z",
     "iopub.status.busy": "2024-07-18T07:26:03.452642Z",
     "iopub.status.idle": "2024-07-18T07:26:03.466657Z",
     "shell.execute_reply": "2024-07-18T07:26:03.465670Z",
     "shell.execute_reply.started": "2024-07-18T07:26:03.452642Z"
    }
   },
   "outputs": [],
   "source": [
    "data = pd.DataFrame(data['data'], columns = data['feature_names'])"
   ]
  },
  {
   "cell_type": "code",
   "execution_count": 5,
   "id": "bd3c3d16-62d5-4926-8941-ac4c4faf54ee",
   "metadata": {
    "execution": {
     "iopub.execute_input": "2024-07-18T07:26:03.467657Z",
     "iopub.status.busy": "2024-07-18T07:26:03.467657Z",
     "iopub.status.idle": "2024-07-18T07:26:03.482122Z",
     "shell.execute_reply": "2024-07-18T07:26:03.481011Z",
     "shell.execute_reply.started": "2024-07-18T07:26:03.467657Z"
    }
   },
   "outputs": [
    {
     "data": {
      "text/plain": [
       "Index(['mean radius', 'mean texture', 'mean perimeter', 'mean area',\n",
       "       'mean smoothness', 'mean compactness', 'mean concavity',\n",
       "       'mean concave points', 'mean symmetry', 'mean fractal dimension',\n",
       "       'radius error', 'texture error', 'perimeter error', 'area error',\n",
       "       'smoothness error', 'compactness error', 'concavity error',\n",
       "       'concave points error', 'symmetry error', 'fractal dimension error',\n",
       "       'worst radius', 'worst texture', 'worst perimeter', 'worst area',\n",
       "       'worst smoothness', 'worst compactness', 'worst concavity',\n",
       "       'worst concave points', 'worst symmetry', 'worst fractal dimension'],\n",
       "      dtype='object')"
      ]
     },
     "execution_count": 5,
     "metadata": {},
     "output_type": "execute_result"
    }
   ],
   "source": [
    "data.columns"
   ]
  },
  {
   "cell_type": "code",
   "execution_count": 6,
   "id": "e36e743d",
   "metadata": {},
   "outputs": [],
   "source": [
    "# create new categorical column\n",
    "data['category'] = np.where(data['mean radius'] > 15, 'large', 'small')"
   ]
  },
  {
   "cell_type": "code",
   "execution_count": 7,
   "id": "7fe9a655-7171-4e07-bbef-128b289600e8",
   "metadata": {
    "execution": {
     "iopub.execute_input": "2024-07-18T07:26:03.483126Z",
     "iopub.status.busy": "2024-07-18T07:26:03.483126Z",
     "iopub.status.idle": "2024-07-18T07:26:03.497125Z",
     "shell.execute_reply": "2024-07-18T07:26:03.496139Z",
     "shell.execute_reply.started": "2024-07-18T07:26:03.483126Z"
    }
   },
   "outputs": [],
   "source": [
    "data_na = data.copy()"
   ]
  },
  {
   "cell_type": "code",
   "execution_count": 8,
   "id": "7a4e7499-61e7-41c0-8249-eab2518f5a20",
   "metadata": {
    "execution": {
     "iopub.execute_input": "2024-07-18T07:26:03.498126Z",
     "iopub.status.busy": "2024-07-18T07:26:03.498126Z",
     "iopub.status.idle": "2024-07-18T07:26:03.526621Z",
     "shell.execute_reply": "2024-07-18T07:26:03.526621Z",
     "shell.execute_reply.started": "2024-07-18T07:26:03.498126Z"
    }
   },
   "outputs": [],
   "source": [
    "for col in [ 'mean texture', 'worst texture', 'category']:\n",
    "    to_be_nas = data.sample(int(.3*data.shape[0]))\n",
    "    to_be_nas[col] = np.nan\n",
    "    data_na.loc[to_be_nas.index] = to_be_nas"
   ]
  },
  {
   "cell_type": "code",
   "execution_count": 9,
   "id": "eda868e9-dcc4-4264-b843-d54df60a852e",
   "metadata": {
    "execution": {
     "iopub.execute_input": "2024-07-18T07:26:03.528605Z",
     "iopub.status.busy": "2024-07-18T07:26:03.527633Z",
     "iopub.status.idle": "2024-07-18T07:26:03.559904Z",
     "shell.execute_reply": "2024-07-18T07:26:03.557911Z",
     "shell.execute_reply.started": "2024-07-18T07:26:03.528605Z"
    }
   },
   "outputs": [
    {
     "data": {
      "text/html": [
       "<div>\n",
       "<style scoped>\n",
       "    .dataframe tbody tr th:only-of-type {\n",
       "        vertical-align: middle;\n",
       "    }\n",
       "\n",
       "    .dataframe tbody tr th {\n",
       "        vertical-align: top;\n",
       "    }\n",
       "\n",
       "    .dataframe thead th {\n",
       "        text-align: right;\n",
       "    }\n",
       "</style>\n",
       "<table border=\"1\" class=\"dataframe\">\n",
       "  <thead>\n",
       "    <tr style=\"text-align: right;\">\n",
       "      <th></th>\n",
       "      <th>mean radius</th>\n",
       "      <th>mean texture</th>\n",
       "      <th>mean perimeter</th>\n",
       "      <th>mean area</th>\n",
       "      <th>mean smoothness</th>\n",
       "      <th>mean compactness</th>\n",
       "      <th>mean concavity</th>\n",
       "      <th>mean concave points</th>\n",
       "      <th>mean symmetry</th>\n",
       "      <th>mean fractal dimension</th>\n",
       "      <th>...</th>\n",
       "      <th>worst texture</th>\n",
       "      <th>worst perimeter</th>\n",
       "      <th>worst area</th>\n",
       "      <th>worst smoothness</th>\n",
       "      <th>worst compactness</th>\n",
       "      <th>worst concavity</th>\n",
       "      <th>worst concave points</th>\n",
       "      <th>worst symmetry</th>\n",
       "      <th>worst fractal dimension</th>\n",
       "      <th>category</th>\n",
       "    </tr>\n",
       "  </thead>\n",
       "  <tbody>\n",
       "    <tr>\n",
       "      <th>0</th>\n",
       "      <td>17.99</td>\n",
       "      <td>10.38</td>\n",
       "      <td>122.80</td>\n",
       "      <td>1001.0</td>\n",
       "      <td>0.11840</td>\n",
       "      <td>0.27760</td>\n",
       "      <td>0.30010</td>\n",
       "      <td>0.14710</td>\n",
       "      <td>0.2419</td>\n",
       "      <td>0.07871</td>\n",
       "      <td>...</td>\n",
       "      <td>17.33</td>\n",
       "      <td>184.60</td>\n",
       "      <td>2019.0</td>\n",
       "      <td>0.16220</td>\n",
       "      <td>0.66560</td>\n",
       "      <td>0.7119</td>\n",
       "      <td>0.2654</td>\n",
       "      <td>0.4601</td>\n",
       "      <td>0.11890</td>\n",
       "      <td>large</td>\n",
       "    </tr>\n",
       "    <tr>\n",
       "      <th>1</th>\n",
       "      <td>20.57</td>\n",
       "      <td>17.77</td>\n",
       "      <td>132.90</td>\n",
       "      <td>1326.0</td>\n",
       "      <td>0.08474</td>\n",
       "      <td>0.07864</td>\n",
       "      <td>0.08690</td>\n",
       "      <td>0.07017</td>\n",
       "      <td>0.1812</td>\n",
       "      <td>0.05667</td>\n",
       "      <td>...</td>\n",
       "      <td>NaN</td>\n",
       "      <td>158.80</td>\n",
       "      <td>1956.0</td>\n",
       "      <td>0.12380</td>\n",
       "      <td>0.18660</td>\n",
       "      <td>0.2416</td>\n",
       "      <td>0.1860</td>\n",
       "      <td>0.2750</td>\n",
       "      <td>0.08902</td>\n",
       "      <td>large</td>\n",
       "    </tr>\n",
       "    <tr>\n",
       "      <th>2</th>\n",
       "      <td>19.69</td>\n",
       "      <td>21.25</td>\n",
       "      <td>130.00</td>\n",
       "      <td>1203.0</td>\n",
       "      <td>0.10960</td>\n",
       "      <td>0.15990</td>\n",
       "      <td>0.19740</td>\n",
       "      <td>0.12790</td>\n",
       "      <td>0.2069</td>\n",
       "      <td>0.05999</td>\n",
       "      <td>...</td>\n",
       "      <td>25.53</td>\n",
       "      <td>152.50</td>\n",
       "      <td>1709.0</td>\n",
       "      <td>0.14440</td>\n",
       "      <td>0.42450</td>\n",
       "      <td>0.4504</td>\n",
       "      <td>0.2430</td>\n",
       "      <td>0.3613</td>\n",
       "      <td>0.08758</td>\n",
       "      <td>NaN</td>\n",
       "    </tr>\n",
       "    <tr>\n",
       "      <th>3</th>\n",
       "      <td>11.42</td>\n",
       "      <td>20.38</td>\n",
       "      <td>77.58</td>\n",
       "      <td>386.1</td>\n",
       "      <td>0.14250</td>\n",
       "      <td>0.28390</td>\n",
       "      <td>0.24140</td>\n",
       "      <td>0.10520</td>\n",
       "      <td>0.2597</td>\n",
       "      <td>0.09744</td>\n",
       "      <td>...</td>\n",
       "      <td>26.50</td>\n",
       "      <td>98.87</td>\n",
       "      <td>567.7</td>\n",
       "      <td>0.20980</td>\n",
       "      <td>0.86630</td>\n",
       "      <td>0.6869</td>\n",
       "      <td>0.2575</td>\n",
       "      <td>0.6638</td>\n",
       "      <td>0.17300</td>\n",
       "      <td>small</td>\n",
       "    </tr>\n",
       "    <tr>\n",
       "      <th>4</th>\n",
       "      <td>20.29</td>\n",
       "      <td>14.34</td>\n",
       "      <td>135.10</td>\n",
       "      <td>1297.0</td>\n",
       "      <td>0.10030</td>\n",
       "      <td>0.13280</td>\n",
       "      <td>0.19800</td>\n",
       "      <td>0.10430</td>\n",
       "      <td>0.1809</td>\n",
       "      <td>0.05883</td>\n",
       "      <td>...</td>\n",
       "      <td>NaN</td>\n",
       "      <td>152.20</td>\n",
       "      <td>1575.0</td>\n",
       "      <td>0.13740</td>\n",
       "      <td>0.20500</td>\n",
       "      <td>0.4000</td>\n",
       "      <td>0.1625</td>\n",
       "      <td>0.2364</td>\n",
       "      <td>0.07678</td>\n",
       "      <td>large</td>\n",
       "    </tr>\n",
       "    <tr>\n",
       "      <th>...</th>\n",
       "      <td>...</td>\n",
       "      <td>...</td>\n",
       "      <td>...</td>\n",
       "      <td>...</td>\n",
       "      <td>...</td>\n",
       "      <td>...</td>\n",
       "      <td>...</td>\n",
       "      <td>...</td>\n",
       "      <td>...</td>\n",
       "      <td>...</td>\n",
       "      <td>...</td>\n",
       "      <td>...</td>\n",
       "      <td>...</td>\n",
       "      <td>...</td>\n",
       "      <td>...</td>\n",
       "      <td>...</td>\n",
       "      <td>...</td>\n",
       "      <td>...</td>\n",
       "      <td>...</td>\n",
       "      <td>...</td>\n",
       "      <td>...</td>\n",
       "    </tr>\n",
       "    <tr>\n",
       "      <th>564</th>\n",
       "      <td>21.56</td>\n",
       "      <td>22.39</td>\n",
       "      <td>142.00</td>\n",
       "      <td>1479.0</td>\n",
       "      <td>0.11100</td>\n",
       "      <td>0.11590</td>\n",
       "      <td>0.24390</td>\n",
       "      <td>0.13890</td>\n",
       "      <td>0.1726</td>\n",
       "      <td>0.05623</td>\n",
       "      <td>...</td>\n",
       "      <td>26.40</td>\n",
       "      <td>166.10</td>\n",
       "      <td>2027.0</td>\n",
       "      <td>0.14100</td>\n",
       "      <td>0.21130</td>\n",
       "      <td>0.4107</td>\n",
       "      <td>0.2216</td>\n",
       "      <td>0.2060</td>\n",
       "      <td>0.07115</td>\n",
       "      <td>NaN</td>\n",
       "    </tr>\n",
       "    <tr>\n",
       "      <th>565</th>\n",
       "      <td>20.13</td>\n",
       "      <td>28.25</td>\n",
       "      <td>131.20</td>\n",
       "      <td>1261.0</td>\n",
       "      <td>0.09780</td>\n",
       "      <td>0.10340</td>\n",
       "      <td>0.14400</td>\n",
       "      <td>0.09791</td>\n",
       "      <td>0.1752</td>\n",
       "      <td>0.05533</td>\n",
       "      <td>...</td>\n",
       "      <td>38.25</td>\n",
       "      <td>155.00</td>\n",
       "      <td>1731.0</td>\n",
       "      <td>0.11660</td>\n",
       "      <td>0.19220</td>\n",
       "      <td>0.3215</td>\n",
       "      <td>0.1628</td>\n",
       "      <td>0.2572</td>\n",
       "      <td>0.06637</td>\n",
       "      <td>NaN</td>\n",
       "    </tr>\n",
       "    <tr>\n",
       "      <th>566</th>\n",
       "      <td>16.60</td>\n",
       "      <td>28.08</td>\n",
       "      <td>108.30</td>\n",
       "      <td>858.1</td>\n",
       "      <td>0.08455</td>\n",
       "      <td>0.10230</td>\n",
       "      <td>0.09251</td>\n",
       "      <td>0.05302</td>\n",
       "      <td>0.1590</td>\n",
       "      <td>0.05648</td>\n",
       "      <td>...</td>\n",
       "      <td>34.12</td>\n",
       "      <td>126.70</td>\n",
       "      <td>1124.0</td>\n",
       "      <td>0.11390</td>\n",
       "      <td>0.30940</td>\n",
       "      <td>0.3403</td>\n",
       "      <td>0.1418</td>\n",
       "      <td>0.2218</td>\n",
       "      <td>0.07820</td>\n",
       "      <td>NaN</td>\n",
       "    </tr>\n",
       "    <tr>\n",
       "      <th>567</th>\n",
       "      <td>20.60</td>\n",
       "      <td>29.33</td>\n",
       "      <td>140.10</td>\n",
       "      <td>1265.0</td>\n",
       "      <td>0.11780</td>\n",
       "      <td>0.27700</td>\n",
       "      <td>0.35140</td>\n",
       "      <td>0.15200</td>\n",
       "      <td>0.2397</td>\n",
       "      <td>0.07016</td>\n",
       "      <td>...</td>\n",
       "      <td>NaN</td>\n",
       "      <td>184.60</td>\n",
       "      <td>1821.0</td>\n",
       "      <td>0.16500</td>\n",
       "      <td>0.86810</td>\n",
       "      <td>0.9387</td>\n",
       "      <td>0.2650</td>\n",
       "      <td>0.4087</td>\n",
       "      <td>0.12400</td>\n",
       "      <td>large</td>\n",
       "    </tr>\n",
       "    <tr>\n",
       "      <th>568</th>\n",
       "      <td>7.76</td>\n",
       "      <td>24.54</td>\n",
       "      <td>47.92</td>\n",
       "      <td>181.0</td>\n",
       "      <td>0.05263</td>\n",
       "      <td>0.04362</td>\n",
       "      <td>0.00000</td>\n",
       "      <td>0.00000</td>\n",
       "      <td>0.1587</td>\n",
       "      <td>0.05884</td>\n",
       "      <td>...</td>\n",
       "      <td>30.37</td>\n",
       "      <td>59.16</td>\n",
       "      <td>268.6</td>\n",
       "      <td>0.08996</td>\n",
       "      <td>0.06444</td>\n",
       "      <td>0.0000</td>\n",
       "      <td>0.0000</td>\n",
       "      <td>0.2871</td>\n",
       "      <td>0.07039</td>\n",
       "      <td>small</td>\n",
       "    </tr>\n",
       "  </tbody>\n",
       "</table>\n",
       "<p>569 rows × 31 columns</p>\n",
       "</div>"
      ],
      "text/plain": [
       "     mean radius  mean texture  mean perimeter  mean area  mean smoothness  \\\n",
       "0          17.99         10.38          122.80     1001.0          0.11840   \n",
       "1          20.57         17.77          132.90     1326.0          0.08474   \n",
       "2          19.69         21.25          130.00     1203.0          0.10960   \n",
       "3          11.42         20.38           77.58      386.1          0.14250   \n",
       "4          20.29         14.34          135.10     1297.0          0.10030   \n",
       "..           ...           ...             ...        ...              ...   \n",
       "564        21.56         22.39          142.00     1479.0          0.11100   \n",
       "565        20.13         28.25          131.20     1261.0          0.09780   \n",
       "566        16.60         28.08          108.30      858.1          0.08455   \n",
       "567        20.60         29.33          140.10     1265.0          0.11780   \n",
       "568         7.76         24.54           47.92      181.0          0.05263   \n",
       "\n",
       "     mean compactness  mean concavity  mean concave points  mean symmetry  \\\n",
       "0             0.27760         0.30010              0.14710         0.2419   \n",
       "1             0.07864         0.08690              0.07017         0.1812   \n",
       "2             0.15990         0.19740              0.12790         0.2069   \n",
       "3             0.28390         0.24140              0.10520         0.2597   \n",
       "4             0.13280         0.19800              0.10430         0.1809   \n",
       "..                ...             ...                  ...            ...   \n",
       "564           0.11590         0.24390              0.13890         0.1726   \n",
       "565           0.10340         0.14400              0.09791         0.1752   \n",
       "566           0.10230         0.09251              0.05302         0.1590   \n",
       "567           0.27700         0.35140              0.15200         0.2397   \n",
       "568           0.04362         0.00000              0.00000         0.1587   \n",
       "\n",
       "     mean fractal dimension  ...  worst texture  worst perimeter  worst area  \\\n",
       "0                   0.07871  ...          17.33           184.60      2019.0   \n",
       "1                   0.05667  ...            NaN           158.80      1956.0   \n",
       "2                   0.05999  ...          25.53           152.50      1709.0   \n",
       "3                   0.09744  ...          26.50            98.87       567.7   \n",
       "4                   0.05883  ...            NaN           152.20      1575.0   \n",
       "..                      ...  ...            ...              ...         ...   \n",
       "564                 0.05623  ...          26.40           166.10      2027.0   \n",
       "565                 0.05533  ...          38.25           155.00      1731.0   \n",
       "566                 0.05648  ...          34.12           126.70      1124.0   \n",
       "567                 0.07016  ...            NaN           184.60      1821.0   \n",
       "568                 0.05884  ...          30.37            59.16       268.6   \n",
       "\n",
       "     worst smoothness  worst compactness  worst concavity  \\\n",
       "0             0.16220            0.66560           0.7119   \n",
       "1             0.12380            0.18660           0.2416   \n",
       "2             0.14440            0.42450           0.4504   \n",
       "3             0.20980            0.86630           0.6869   \n",
       "4             0.13740            0.20500           0.4000   \n",
       "..                ...                ...              ...   \n",
       "564           0.14100            0.21130           0.4107   \n",
       "565           0.11660            0.19220           0.3215   \n",
       "566           0.11390            0.30940           0.3403   \n",
       "567           0.16500            0.86810           0.9387   \n",
       "568           0.08996            0.06444           0.0000   \n",
       "\n",
       "     worst concave points  worst symmetry  worst fractal dimension  category  \n",
       "0                  0.2654          0.4601                  0.11890     large  \n",
       "1                  0.1860          0.2750                  0.08902     large  \n",
       "2                  0.2430          0.3613                  0.08758       NaN  \n",
       "3                  0.2575          0.6638                  0.17300     small  \n",
       "4                  0.1625          0.2364                  0.07678     large  \n",
       "..                    ...             ...                      ...       ...  \n",
       "564                0.2216          0.2060                  0.07115       NaN  \n",
       "565                0.1628          0.2572                  0.06637       NaN  \n",
       "566                0.1418          0.2218                  0.07820       NaN  \n",
       "567                0.2650          0.4087                  0.12400     large  \n",
       "568                0.0000          0.2871                  0.07039     small  \n",
       "\n",
       "[569 rows x 31 columns]"
      ]
     },
     "execution_count": 9,
     "metadata": {},
     "output_type": "execute_result"
    }
   ],
   "source": [
    "data_na"
   ]
  },
  {
   "cell_type": "code",
   "execution_count": 10,
   "id": "6b3c3372-4d80-4c48-8e52-30418ea81596",
   "metadata": {
    "execution": {
     "iopub.execute_input": "2024-07-18T07:26:03.560906Z",
     "iopub.status.busy": "2024-07-18T07:26:03.559904Z",
     "iopub.status.idle": "2024-07-18T07:26:03.574217Z",
     "shell.execute_reply": "2024-07-18T07:26:03.573241Z",
     "shell.execute_reply.started": "2024-07-18T07:26:03.560906Z"
    }
   },
   "outputs": [],
   "source": [
    "import os\n",
    "os.chdir('C:\\\\Users\\\\dka2211.57872\\\\Documents\\\\missensemble\\\\src\\\\')"
   ]
  },
  {
   "cell_type": "code",
   "execution_count": 11,
   "id": "487361c3-4531-49b1-a0b8-d79bdfa5f656",
   "metadata": {
    "execution": {
     "iopub.execute_input": "2024-07-18T07:26:03.576219Z",
     "iopub.status.busy": "2024-07-18T07:26:03.576219Z",
     "iopub.status.idle": "2024-07-18T07:26:03.714564Z",
     "shell.execute_reply": "2024-07-18T07:26:03.713581Z",
     "shell.execute_reply.started": "2024-07-18T07:26:03.576219Z"
    }
   },
   "outputs": [],
   "source": [
    "from miss_ensemble import MissEnsemble"
   ]
  },
  {
   "cell_type": "code",
   "execution_count": null,
   "id": "9f26a739-ee39-403e-8d11-d817610fc1c4",
   "metadata": {
    "execution": {
     "iopub.execute_input": "2024-07-18T07:26:03.715563Z",
     "iopub.status.busy": "2024-07-18T07:26:03.715563Z",
     "iopub.status.idle": "2024-07-18T07:26:03.730562Z",
     "shell.execute_reply": "2024-07-18T07:26:03.729563Z",
     "shell.execute_reply.started": "2024-07-18T07:26:03.715563Z"
    }
   },
   "outputs": [],
   "source": [
    "estimator = MissEnsemble(n_iter=100,\n",
    "                       categorical_vars=['category'],\n",
    "                       #ordinal_vars=ord_cols,\n",
    "                       numerical_vars=[ 'mean texture', 'worst texture'],\n",
    "                       n_estimators=1000, ens_method = 'forest',\n",
    "                       print_criteria = True,\n",
    "                       random_state = 3)"
   ]
  },
  {
   "cell_type": "code",
   "execution_count": 105,
   "id": "09664fe5-6ba5-4d30-b05f-58c6f66923f6",
   "metadata": {
    "execution": {
     "iopub.execute_input": "2024-07-18T07:27:50.577222Z",
     "iopub.status.busy": "2024-07-18T07:27:50.576222Z",
     "iopub.status.idle": "2024-07-18T07:27:50.584255Z",
     "shell.execute_reply": "2024-07-18T07:27:50.584255Z",
     "shell.execute_reply.started": "2024-07-18T07:27:50.577222Z"
    }
   },
   "outputs": [
    {
     "data": {
      "text/plain": [
       "float64    30\n",
       "object      1\n",
       "Name: count, dtype: int64"
      ]
     },
     "execution_count": 105,
     "metadata": {},
     "output_type": "execute_result"
    }
   ],
   "source": [
    "data_na.dtypes.value_counts()"
   ]
  },
  {
   "cell_type": "code",
   "execution_count": 106,
   "id": "ea0ca990-bf96-4742-b5f5-a625c9c50fd9",
   "metadata": {
    "execution": {
     "iopub.execute_input": "2024-07-18T07:26:03.732725Z",
     "iopub.status.busy": "2024-07-18T07:26:03.731560Z",
     "iopub.status.idle": "2024-07-18T07:26:15.383115Z",
     "shell.execute_reply": "2024-07-18T07:26:15.381157Z",
     "shell.execute_reply.started": "2024-07-18T07:26:03.732725Z"
    }
   },
   "outputs": [
    {
     "name": "stdout",
     "output_type": "stream",
     "text": [
      "{'criterion_cat': [0.07161803713527852], 'criterion_num': [0.04691777392809152]}\n",
      "{'criterion_cat': [0.07161803713527852, 0.05570291777188329], 'criterion_num': [0.04691777392809152, 0.0011251858663792376]}\n",
      "{'criterion_cat': [0.07161803713527852, 0.05570291777188329, 0.05305039787798409], 'criterion_num': [0.04691777392809152, 0.0011251858663792376, 0.000722899970295516]}\n",
      "{'criterion_cat': [0.07161803713527852, 0.05570291777188329, 0.05305039787798409, 0.023872679045092837], 'criterion_num': [0.04691777392809152, 0.0011251858663792376, 0.000722899970295516, 0.00048064621685928914]}\n",
      "{'criterion_cat': [0.07161803713527852, 0.05570291777188329, 0.05305039787798409, 0.023872679045092837, 0.03183023872679045], 'criterion_num': [0.04691777392809152, 0.0011251858663792376, 0.000722899970295516, 0.00048064621685928914, 0.0002961024056315202]}\n",
      "{'criterion_cat': [0.07161803713527852, 0.05570291777188329, 0.05305039787798409, 0.023872679045092837, 0.03183023872679045, 0.03713527851458886], 'criterion_num': [0.04691777392809152, 0.0011251858663792376, 0.000722899970295516, 0.00048064621685928914, 0.0002961024056315202, 0.0003864642418367501]}\n",
      "The critirion was satisfied after 5 iterations\n"
     ]
    }
   ],
   "source": [
    "out = estimator.fit_transform(data_na)"
   ]
  },
  {
   "cell_type": "code",
   "execution_count": 107,
   "id": "dc36bc3f-60ea-4ba0-8bdd-4e8664600e90",
   "metadata": {
    "execution": {
     "iopub.execute_input": "2024-07-18T07:26:15.385642Z",
     "iopub.status.busy": "2024-07-18T07:26:15.384591Z",
     "iopub.status.idle": "2024-07-18T07:26:15.398631Z",
     "shell.execute_reply": "2024-07-18T07:26:15.396635Z",
     "shell.execute_reply.started": "2024-07-18T07:26:15.384591Z"
    }
   },
   "outputs": [
    {
     "data": {
      "text/plain": [
       "{'criterion_cat': [0.07161803713527852,\n",
       "  0.05570291777188329,\n",
       "  0.05305039787798409,\n",
       "  0.023872679045092837,\n",
       "  0.03183023872679045,\n",
       "  0.03713527851458886],\n",
       " 'criterion_num': [0.04691777392809152,\n",
       "  0.0011251858663792376,\n",
       "  0.000722899970295516,\n",
       "  0.00048064621685928914,\n",
       "  0.0002961024056315202,\n",
       "  0.0003864642418367501]}"
      ]
     },
     "execution_count": 107,
     "metadata": {},
     "output_type": "execute_result"
    }
   ],
   "source": [
    "estimator.criteria_\n"
   ]
  },
  {
   "cell_type": "code",
   "execution_count": 108,
   "id": "d5118689-8e14-4261-b162-150c596f7d5b",
   "metadata": {
    "execution": {
     "iopub.execute_input": "2024-07-18T07:26:15.400634Z",
     "iopub.status.busy": "2024-07-18T07:26:15.400634Z",
     "iopub.status.idle": "2024-07-18T07:26:15.553110Z",
     "shell.execute_reply": "2024-07-18T07:26:15.552828Z",
     "shell.execute_reply.started": "2024-07-18T07:26:15.400634Z"
    }
   },
   "outputs": [
    {
     "data": {
      "text/plain": [
       "<Axes: >"
      ]
     },
     "execution_count": 108,
     "metadata": {},
     "output_type": "execute_result"
    },
    {
     "data": {
      "image/png": "[encoded data removed]",
      "text/plain": [
       "<Figure size 640x480 with 1 Axes>"
      ]
     },
     "metadata": {},
     "output_type": "display_data"
    }
   ],
   "source": [
    "sns.scatterplot(estimator.criteria_)"
   ]
  },
  {
   "cell_type": "code",
   "execution_count": 109,
   "id": "f3ba94d5-9a3a-4817-afe4-f2edd473be0b",
   "metadata": {
    "execution": {
     "iopub.execute_input": "2024-07-18T07:26:15.554126Z",
     "iopub.status.busy": "2024-07-18T07:26:15.554126Z",
     "iopub.status.idle": "2024-07-18T07:26:15.697463Z",
     "shell.execute_reply": "2024-07-18T07:26:15.696463Z",
     "shell.execute_reply.started": "2024-07-18T07:26:15.554126Z"
    }
   },
   "outputs": [
    {
     "data": {
      "image/png": "[encoded data removed]",
      "text/plain": [
       "<Figure size 640x480 with 1 Axes>"
      ]
     },
     "metadata": {},
     "output_type": "display_data"
    }
   ],
   "source": [
    "estimator.plot_criteria(plot_final=False)"
   ]
  },
  {
   "cell_type": "code",
   "execution_count": 110,
   "id": "0bd0e6e4-d620-4bf2-b428-53f8428999ee",
   "metadata": {
    "execution": {
     "iopub.execute_input": "2024-07-18T07:26:15.698464Z",
     "iopub.status.busy": "2024-07-18T07:26:15.698464Z",
     "iopub.status.idle": "2024-07-18T07:26:15.868103Z",
     "shell.execute_reply": "2024-07-18T07:26:15.868103Z",
     "shell.execute_reply.started": "2024-07-18T07:26:15.698464Z"
    }
   },
   "outputs": [
    {
     "data": {
      "image/png": "[encoded data removed]",
      "text/plain": [
       "<Figure size 640x480 with 1 Axes>"
      ]
     },
     "metadata": {},
     "output_type": "display_data"
    }
   ],
   "source": [
    "estimator.check_imputation_fit(var_name='mean texture',\n",
    "                              true_values = data.loc[:, 'mean texture'], \n",
    "                               error_type = 'std_diff', \n",
    "                               plot_type = 'hist')"
   ]
  },
  {
   "cell_type": "code",
   "execution_count": 111,
   "id": "78915e93-f042-44c8-85fa-ea5d12f1914c",
   "metadata": {
    "execution": {
     "iopub.execute_input": "2024-07-18T07:26:15.869104Z",
     "iopub.status.busy": "2024-07-18T07:26:15.869104Z",
     "iopub.status.idle": "2024-07-18T07:26:16.101467Z",
     "shell.execute_reply": "2024-07-18T07:26:16.100487Z",
     "shell.execute_reply.started": "2024-07-18T07:26:15.869104Z"
    }
   },
   "outputs": [
    {
     "data": {
      "image/png": "[encoded data removed]",
      "text/plain": [
       "<Figure size 640x480 with 1 Axes>"
      ]
     },
     "metadata": {},
     "output_type": "display_data"
    }
   ],
   "source": [
    "estimator.check_imputation_fit(var_name='worst texture',\n",
    "                              true_values = data.loc[:, 'worst texture'], \n",
    "                               error_type = 'std_diff', \n",
    "                               plot_type = 'hist')"
   ]
  },
  {
   "cell_type": "code",
   "execution_count": 112,
   "id": "88fb3cde",
   "metadata": {},
   "outputs": [
    {
     "data": {
      "text/plain": [
       "category\n",
       "True     0.641176\n",
       "False    0.358824\n",
       "Name: proportion, dtype: float64"
      ]
     },
     "execution_count": 112,
     "metadata": {},
     "output_type": "execute_result"
    }
   ],
   "source": [
    "(out.loc[data_na[data_na['category'].isna()].index\n",
    ", :][\"category\"] == data.loc[data_na[data_na['category'].isna()].index\n",
    ", :][\"category\"] ).value_counts(dropna=False, normalize=True)\n"
   ]
  },
  {
   "cell_type": "markdown",
   "id": "2f187b75-04fb-47df-b92d-ab21c7d641f5",
   "metadata": {},
   "source": [
    "# Speed Checks"
   ]
  },
  {
   "cell_type": "code",
   "execution_count": 21,
   "id": "82583fe7-3895-4861-b266-cbb4021f82d0",
   "metadata": {
    "execution": {
     "iopub.execute_input": "2024-07-18T07:26:16.101467Z",
     "iopub.status.busy": "2024-07-18T07:26:16.101467Z",
     "iopub.status.idle": "2024-07-18T07:26:16.117100Z",
     "shell.execute_reply": "2024-07-18T07:26:16.116124Z",
     "shell.execute_reply.started": "2024-07-18T07:26:16.101467Z"
    }
   },
   "outputs": [],
   "source": [
    "#n_sim = 1000\n",
    "#times = np.zeros(n_sim)\n",
    "\n",
    "\n",
    "#for i in np.arange(1, n_sim):\n",
    "#    print(i)\n",
    "#    estimator = MissEnsemble(n_iter=100,\n",
    "#                           #categorical_vars=cat_cols,\n",
    "#                           #ordinal_vars=ord_cols,\n",
    "#                           numerical_vars=[ 'mean texture', 'worst texture'],\n",
    "#                           n_estimators = 50, ens_method = 'forest',\n",
    "#                           print_criteria = False,\n",
    "#                           random_state = 3)\n",
    "#    t0 = time.time()\n",
    "#    out = estimator.fit_transform(data_na.loc[:4+i, ])\n",
    "#    t1 = time.time()\n",
    "#    times[i] = t1 - t0\n",
    "    "
   ]
  },
  {
   "cell_type": "code",
   "execution_count": 22,
   "id": "780fbc21",
   "metadata": {},
   "outputs": [
    {
     "ename": "NameError",
     "evalue": "name 'times' is not defined",
     "output_type": "error",
     "traceback": [
      "\u001b[1;31m---------------------------------------------------------------------------\u001b[0m",
      "\u001b[1;31mNameError\u001b[0m                                 Traceback (most recent call last)",
      "Cell \u001b[1;32mIn[22], line 1\u001b[0m\n\u001b[1;32m----> 1\u001b[0m \u001b[43mtimes\u001b[49m\n",
      "\u001b[1;31mNameError\u001b[0m: name 'times' is not defined"
     ]
    }
   ],
   "source": [
    "times"
   ]
  },
  {
   "cell_type": "code",
   "execution_count": null,
   "id": "cd731677-29de-418b-ac52-c6d05a834a7d",
   "metadata": {},
   "outputs": [],
   "source": []
  },
  {
   "cell_type": "markdown",
   "id": "3dc83c3e",
   "metadata": {},
   "source": []
  },
  {
   "cell_type": "code",
   "execution_count": null,
   "id": "499f9f15-d79c-4e92-a837-b475c0295dbe",
   "metadata": {},
   "outputs": [],
   "source": [
    "sns.scatterplot(times[1:i])"
   ]
  },
  {
   "cell_type": "code",
   "execution_count": null,
   "id": "c5b7dfb9-c0de-4ee2-bbbe-8e662918506c",
   "metadata": {},
   "outputs": [],
   "source": [
    "times[1:i]"
   ]
  },
  {
   "cell_type": "code",
   "execution_count": null,
   "id": "1dac2c95-d6db-4120-bdba-3ed56939c2b4",
   "metadata": {},
   "outputs": [],
   "source": [
    "i"
   ]
  },
  {
   "cell_type": "code",
   "execution_count": null,
   "id": "fea37476",
   "metadata": {},
   "outputs": [],
   "source": []
  }
 ],
 "metadata": {
  "kernelspec": {
   "display_name": "ovarian2",
   "language": "python",
   "name": "python3"
  },
  "language_info": {
   "codemirror_mode": {
    "name": "ipython",
    "version": 3
   },
   "file_extension": ".py",
   "mimetype": "text/x-python",
   "name": "python",
   "nbconvert_exporter": "python",
   "pygments_lexer": "ipython3",
   "version": "3.12.4"
  }
 },
 "nbformat": 4,
 "nbformat_minor": 5
}
