{
 "cells": [
  {
   "cell_type": "code",
   "execution_count": 2,
   "id": "8edfab53",
   "metadata": {},
   "outputs": [],
   "source": [
    "import sys\n",
    "import os\n",
    "sys.path.append(os.path.abspath(\"..\"))  # go up from /notebooks to /canterburycommuto\n"
   ]
  },
  {
   "cell_type": "markdown",
   "id": "30fc0e79",
   "metadata": {},
   "source": [
    "Note: During local development and testing in Jupyter notebooks, I temporarily removed 'canterburycommuto.' in relative imports (e.g., from PlotMaps import ...) to simplify direct imports from within the notebook environment. This adjustment is only for convenience in interactive sessions.\n",
    "\n",
    "In the published version of the package (intended for installation and command-line use), all internal imports are properly structured using relative paths (e.g., from .PlotMaps import ...) to ensure compatibility when used as a Python package or CLI tool."
   ]
  },
  {
   "cell_type": "code",
   "execution_count": 3,
   "id": "f37d36f8",
   "metadata": {},
   "outputs": [],
   "source": [
    "from CanterburyCommuto import Overlap_Function"
   ]
  },
  {
   "cell_type": "markdown",
   "id": "b3307e75",
   "metadata": {},
   "source": [
    "### Common Node Method with Commuting Information Before and After the Overlap "
   ]
  },
  {
   "cell_type": "code",
   "execution_count": 4,
   "id": "49e269eb",
   "metadata": {},
   "outputs": [
    {
     "name": "stdout",
     "output_type": "stream",
     "text": [
      "\n",
      "[INFO] Estimated number of API requests: 80\n",
      "[INFO] Estimated cost: $0.40\n",
      "[NOTICE] Actual cost may be higher or lower depending on Google’s pricing tiers and route pair complexity.\n",
      "\n",
      "[PROCESSING] Proceeding with route analysis...\n",
      "\n",
      "Error fetching directions: REQUEST_DENIED\n",
      "Error fetching directions: REQUEST_DENIED\n",
      "Error fetching directions: REQUEST_DENIED\n",
      "Error fetching directions: REQUEST_DENIED\n",
      "Error fetching directions: REQUEST_DENIED\n",
      "Error fetching directions: REQUEST_DENIED\n",
      "Error fetching directions: REQUEST_DENIED\n",
      "Error fetching directions: REQUEST_DENIED\n",
      "Error fetching directions: REQUEST_DENIED\n",
      "Error fetching directions: REQUEST_DENIED\n",
      "Error fetching directions: REQUEST_DENIED\n",
      "Error fetching directions: REQUEST_DENIED\n",
      "Error fetching directions: REQUEST_DENIED\n",
      "Error fetching directions: REQUEST_DENIED\n",
      "Error fetching directions: REQUEST_DENIED\n",
      "Error fetching directions: REQUEST_DENIED\n",
      "Error fetching directions: REQUEST_DENIED\n",
      "Error fetching directions:Error fetching directions: REQUEST_DENIED\n",
      "Error fetching directions: REQUEST_DENIED\n",
      " REQUEST_DENIED\n",
      "Error fetching directions: REQUEST_DENIED\n",
      "Error fetching directions: REQUEST_DENIED\n",
      "Error fetching directions: REQUEST_DENIED\n",
      "Error fetching directions: REQUEST_DENIED\n",
      "Error fetching directions: REQUEST_DENIED\n",
      "Log file saved to: c:\\Users\\HUAWEI\\CanterburyCommuto\\CanterburyCommuto\\canterburycommuto\\notebooks\\results\\Apple2.log\n"
     ]
    }
   ],
   "source": [
    "Overlap_Function(\n",
    "        \"origin_destination_test_ID.csv\",\n",
    "        None,\n",
    "        \"home_A_latitude\",\"home_A_longitude\",\"work_A_latitude\",\"work_A_longitude\",\"home_B_latitude\",\"home_B_longitude\",\"work_B_latitude\",\"work_B_longitude\", \"ID\",\n",
    "        50, 100, 100, \"no\", \"yes\",\n",
    "        output_file = \"Apple2\", skip_invalid=True, save_api_info=True\n",
    "    )"
   ]
  },
  {
   "cell_type": "markdown",
   "id": "f0f2f8c6",
   "metadata": {},
   "source": [
    "### Common Node Method (only Overlap Information)"
   ]
  },
  {
   "cell_type": "code",
   "execution_count": 3,
   "id": "c8ee5a09",
   "metadata": {},
   "outputs": [
    {
     "name": "stdout",
     "output_type": "stream",
     "text": [
      "[DEBUG] Checking for config.yaml in: c:\\Users\\HUAWEI\\CanterburyCommuto\\CanterburyCommuto\\canterburycommuto\\notebooks\\config.yaml\n",
      "[DEBUG] Checking for config.yaml in: C:\\Users\\HUAWEI\\.canterburycommuto\\config.yaml\n",
      "[DEBUG] Checking for config.yaml in: c:\\Users\\HUAWEI\\CanterburyCommuto\\CanterburyCommuto\\canterburycommuto\\config.yaml\n",
      "\n",
      "[INFO] Estimated number of API requests: 80\n",
      "[INFO] Estimated cost: $0.40\n",
      "[NOTICE] Actual cost may be higher or lower depending on Google’s pricing tiers and route pair complexity.\n",
      "\n",
      "[PROCESSING] Proceeding with route analysis...\n",
      "\n",
      "Map saved to: c:\\Users\\HUAWEI\\CanterburyCommuto\\CanterburyCommuto\\canterburycommuto\\notebooks\\results\\routes_map-2025-06-11_14-14-08_89420.html\n",
      "Map saved to: c:\\Users\\HUAWEI\\CanterburyCommuto\\CanterburyCommuto\\canterburycommuto\\notebooks\\results\\routes_map-2025-06-11_14-14-08_22411.html\n"
     ]
    },
    {
     "data": {
      "text/html": [
       "\n",
       "        <iframe\n",
       "            width=\"100%\"\n",
       "            height=\"500px\"\n",
       "            src=\"results\\routes_map-2025-06-11_14-14-08_89420.html\"\n",
       "            frameborder=\"0\"\n",
       "            allowfullscreen\n",
       "            \n",
       "        ></iframe>\n",
       "        "
      ],
      "text/plain": [
       "<IPython.lib.display.IFrame at 0x22b53af0ec0>"
      ]
     },
     "metadata": {},
     "output_type": "display_data"
    },
    {
     "data": {
      "text/html": [
       "\n",
       "        <iframe\n",
       "            width=\"100%\"\n",
       "            height=\"500px\"\n",
       "            src=\"results\\routes_map-2025-06-11_14-14-08_22411.html\"\n",
       "            frameborder=\"0\"\n",
       "            allowfullscreen\n",
       "            \n",
       "        ></iframe>\n",
       "        "
      ],
      "text/plain": [
       "<IPython.lib.display.IFrame at 0x22b53af0d40>"
      ]
     },
     "metadata": {},
     "output_type": "display_data"
    },
    {
     "name": "stdout",
     "output_type": "stream",
     "text": [
      "Error fetching directions: NOT_FOUND\n",
      "Map saved to: c:\\Users\\HUAWEI\\CanterburyCommuto\\CanterburyCommuto\\canterburycommuto\\notebooks\\results\\routes_map-2025-06-11_14-14-08_35334.html\n"
     ]
    },
    {
     "data": {
      "text/html": [
       "\n",
       "        <iframe\n",
       "            width=\"100%\"\n",
       "            height=\"500px\"\n",
       "            src=\"results\\routes_map-2025-06-11_14-14-08_35334.html\"\n",
       "            frameborder=\"0\"\n",
       "            allowfullscreen\n",
       "            \n",
       "        ></iframe>\n",
       "        "
      ],
      "text/plain": [
       "<IPython.lib.display.IFrame at 0x22b53af3110>"
      ]
     },
     "metadata": {},
     "output_type": "display_data"
    },
    {
     "name": "stdout",
     "output_type": "stream",
     "text": [
      "Error fetching directions: NOT_FOUND\n",
      "Error fetching directions: NOT_FOUND\n",
      "Map saved to: c:\\Users\\HUAWEI\\CanterburyCommuto\\CanterburyCommuto\\canterburycommuto\\notebooks\\results\\routes_map-2025-06-11_14-14-09_64604.html\n"
     ]
    },
    {
     "data": {
      "text/html": [
       "\n",
       "        <iframe\n",
       "            width=\"100%\"\n",
       "            height=\"500px\"\n",
       "            src=\"results\\routes_map-2025-06-11_14-14-09_64604.html\"\n",
       "            frameborder=\"0\"\n",
       "            allowfullscreen\n",
       "            \n",
       "        ></iframe>\n",
       "        "
      ],
      "text/plain": [
       "<IPython.lib.display.IFrame at 0x22b53bdd6d0>"
      ]
     },
     "metadata": {},
     "output_type": "display_data"
    },
    {
     "name": "stdout",
     "output_type": "stream",
     "text": [
      "Error fetching directions: NOT_FOUND\n",
      "Map saved to: c:\\Users\\HUAWEI\\CanterburyCommuto\\CanterburyCommuto\\canterburycommuto\\notebooks\\results\\routes_map-2025-06-11_14-14-09_24145.html\n"
     ]
    },
    {
     "data": {
      "text/html": [
       "\n",
       "        <iframe\n",
       "            width=\"100%\"\n",
       "            height=\"500px\"\n",
       "            src=\"results\\routes_map-2025-06-11_14-14-09_24145.html\"\n",
       "            frameborder=\"0\"\n",
       "            allowfullscreen\n",
       "            \n",
       "        ></iframe>\n",
       "        "
      ],
      "text/plain": [
       "<IPython.lib.display.IFrame at 0x22b53af1cd0>"
      ]
     },
     "metadata": {},
     "output_type": "display_data"
    },
    {
     "name": "stdout",
     "output_type": "stream",
     "text": [
      "Map saved to: c:\\Users\\HUAWEI\\CanterburyCommuto\\CanterburyCommuto\\canterburycommuto\\notebooks\\results\\routes_map-2025-06-11_14-14-09_55492.html\n",
      "Map saved to: c:\\Users\\HUAWEI\\CanterburyCommuto\\CanterburyCommuto\\canterburycommuto\\notebooks\\results\\routes_map-2025-06-11_14-14-09_91499.html\n"
     ]
    },
    {
     "data": {
      "text/html": [
       "\n",
       "        <iframe\n",
       "            width=\"100%\"\n",
       "            height=\"500px\"\n",
       "            src=\"results\\routes_map-2025-06-11_14-14-09_55492.html\"\n",
       "            frameborder=\"0\"\n",
       "            allowfullscreen\n",
       "            \n",
       "        ></iframe>\n",
       "        "
      ],
      "text/plain": [
       "<IPython.lib.display.IFrame at 0x22b53bdc620>"
      ]
     },
     "metadata": {},
     "output_type": "display_data"
    },
    {
     "data": {
      "text/html": [
       "\n",
       "        <iframe\n",
       "            width=\"100%\"\n",
       "            height=\"500px\"\n",
       "            src=\"results\\routes_map-2025-06-11_14-14-09_91499.html\"\n",
       "            frameborder=\"0\"\n",
       "            allowfullscreen\n",
       "            \n",
       "        ></iframe>\n",
       "        "
      ],
      "text/plain": [
       "<IPython.lib.display.IFrame at 0x22b53c6c260>"
      ]
     },
     "metadata": {},
     "output_type": "display_data"
    },
    {
     "name": "stdout",
     "output_type": "stream",
     "text": [
      "Map saved to: c:\\Users\\HUAWEI\\CanterburyCommuto\\CanterburyCommuto\\canterburycommuto\\notebooks\\results\\routes_map-2025-06-11_14-14-09_33881.html\n"
     ]
    },
    {
     "data": {
      "text/html": [
       "\n",
       "        <iframe\n",
       "            width=\"100%\"\n",
       "            height=\"500px\"\n",
       "            src=\"results\\routes_map-2025-06-11_14-14-09_33881.html\"\n",
       "            frameborder=\"0\"\n",
       "            allowfullscreen\n",
       "            \n",
       "        ></iframe>\n",
       "        "
      ],
      "text/plain": [
       "<IPython.lib.display.IFrame at 0x22b53c6d130>"
      ]
     },
     "metadata": {},
     "output_type": "display_data"
    },
    {
     "name": "stdout",
     "output_type": "stream",
     "text": [
      "Map saved to: c:\\Users\\HUAWEI\\CanterburyCommuto\\CanterburyCommuto\\canterburycommuto\\notebooks\\results\\routes_map-2025-06-11_14-14-09_38285.html\n"
     ]
    },
    {
     "data": {
      "text/html": [
       "\n",
       "        <iframe\n",
       "            width=\"100%\"\n",
       "            height=\"500px\"\n",
       "            src=\"results\\routes_map-2025-06-11_14-14-09_38285.html\"\n",
       "            frameborder=\"0\"\n",
       "            allowfullscreen\n",
       "            \n",
       "        ></iframe>\n",
       "        "
      ],
      "text/plain": [
       "<IPython.lib.display.IFrame at 0x22b53c30740>"
      ]
     },
     "metadata": {},
     "output_type": "display_data"
    },
    {
     "name": "stdout",
     "output_type": "stream",
     "text": [
      "Map saved to: c:\\Users\\HUAWEI\\CanterburyCommuto\\CanterburyCommuto\\canterburycommuto\\notebooks\\results\\routes_map-2025-06-11_14-14-10_66954.html\n"
     ]
    },
    {
     "data": {
      "text/html": [
       "\n",
       "        <iframe\n",
       "            width=\"100%\"\n",
       "            height=\"500px\"\n",
       "            src=\"results\\routes_map-2025-06-11_14-14-10_66954.html\"\n",
       "            frameborder=\"0\"\n",
       "            allowfullscreen\n",
       "            \n",
       "        ></iframe>\n",
       "        "
      ],
      "text/plain": [
       "<IPython.lib.display.IFrame at 0x22b53c32300>"
      ]
     },
     "metadata": {},
     "output_type": "display_data"
    },
    {
     "name": "stdout",
     "output_type": "stream",
     "text": [
      "Log file saved to: c:\\Users\\HUAWEI\\CanterburyCommuto\\CanterburyCommuto\\canterburycommuto\\notebooks\\results\\snow white.log\n"
     ]
    }
   ],
   "source": [
    "Overlap_Function(\n",
    "        None,None,None,None,None,None,None,None,None\n",
    "        ,None, None,None, None, None, \n",
    "        approximation = \"no\", commuting_info = \"yes\",\n",
    "        output_file = \"snow white\"\n",
    "    )"
   ]
  },
  {
   "cell_type": "markdown",
   "id": "a6c48da9",
   "metadata": {},
   "source": [
    "### Rectangle Approximation Method with Commuting Information Before and After the Overlap"
   ]
  },
  {
   "cell_type": "code",
   "execution_count": 5,
   "id": "5c5161a7",
   "metadata": {},
   "outputs": [
    {
     "name": "stdout",
     "output_type": "stream",
     "text": [
      "[DEBUG] Checking for config.yaml in: c:\\Users\\HUAWEI\\CanterburyCommuto\\CanterburyCommuto\\canterburycommuto\\notebooks\\config.yaml\n",
      "[DEBUG] Checking for config.yaml in: C:\\Users\\HUAWEI\\.canterburycommuto\\config.yaml\n",
      "[DEBUG] Checking for config.yaml in: c:\\Users\\HUAWEI\\CanterburyCommuto\\CanterburyCommuto\\canterburycommuto\\config.yaml\n",
      "\n",
      "[INFO] Estimated number of API requests: 80\n",
      "[INFO] Estimated cost: $0.40\n",
      "[NOTICE] Actual cost may be higher or lower depending on Google’s pricing tiers and route pair complexity.\n",
      "\n",
      "[PROCESSING] Proceeding with route analysis...\n",
      "\n",
      "Map saved to: c:\\Users\\HUAWEI\\CanterburyCommuto\\CanterburyCommuto\\canterburycommuto\\notebooks\\results\\routes_map-2025-06-11_11-33-57_10842.html\n"
     ]
    },
    {
     "data": {
      "text/html": [
       "\n",
       "        <iframe\n",
       "            width=\"100%\"\n",
       "            height=\"500px\"\n",
       "            src=\"results\\routes_map-2025-06-11_11-33-57_10842.html\"\n",
       "            frameborder=\"0\"\n",
       "            allowfullscreen\n",
       "            \n",
       "        ></iframe>\n",
       "        "
      ],
      "text/plain": [
       "<IPython.lib.display.IFrame at 0x1559bb75460>"
      ]
     },
     "metadata": {},
     "output_type": "display_data"
    },
    {
     "name": "stdout",
     "output_type": "stream",
     "text": [
      "Map saved to: c:\\Users\\HUAWEI\\CanterburyCommuto\\CanterburyCommuto\\canterburycommuto\\notebooks\\results\\routes_map-2025-06-11_11-33-57_27833.html\n"
     ]
    },
    {
     "data": {
      "text/html": [
       "\n",
       "        <iframe\n",
       "            width=\"100%\"\n",
       "            height=\"500px\"\n",
       "            src=\"results\\routes_map-2025-06-11_11-33-57_27833.html\"\n",
       "            frameborder=\"0\"\n",
       "            allowfullscreen\n",
       "            \n",
       "        ></iframe>\n",
       "        "
      ],
      "text/plain": [
       "<IPython.lib.display.IFrame at 0x1559cc89f40>"
      ]
     },
     "metadata": {},
     "output_type": "display_data"
    },
    {
     "name": "stdout",
     "output_type": "stream",
     "text": [
      "Map saved to: c:\\Users\\HUAWEI\\CanterburyCommuto\\CanterburyCommuto\\canterburycommuto\\notebooks\\results\\routes_map-2025-06-11_11-33-58_61956.html\n"
     ]
    },
    {
     "data": {
      "text/html": [
       "\n",
       "        <iframe\n",
       "            width=\"100%\"\n",
       "            height=\"500px\"\n",
       "            src=\"results\\routes_map-2025-06-11_11-33-58_61956.html\"\n",
       "            frameborder=\"0\"\n",
       "            allowfullscreen\n",
       "            \n",
       "        ></iframe>\n",
       "        "
      ],
      "text/plain": [
       "<IPython.lib.display.IFrame at 0x1559cd23d70>"
      ]
     },
     "metadata": {},
     "output_type": "display_data"
    },
    {
     "name": "stdout",
     "output_type": "stream",
     "text": [
      "Map saved to: c:\\Users\\HUAWEI\\CanterburyCommuto\\CanterburyCommuto\\canterburycommuto\\notebooks\\results\\routes_map-2025-06-11_11-33-58_33459.html\n"
     ]
    },
    {
     "data": {
      "text/html": [
       "\n",
       "        <iframe\n",
       "            width=\"100%\"\n",
       "            height=\"500px\"\n",
       "            src=\"results\\routes_map-2025-06-11_11-33-58_33459.html\"\n",
       "            frameborder=\"0\"\n",
       "            allowfullscreen\n",
       "            \n",
       "        ></iframe>\n",
       "        "
      ],
      "text/plain": [
       "<IPython.lib.display.IFrame at 0x1559cd55010>"
      ]
     },
     "metadata": {},
     "output_type": "display_data"
    },
    {
     "name": "stdout",
     "output_type": "stream",
     "text": [
      "Error fetching directions: NOT_FOUND\n",
      "Map saved to: c:\\Users\\HUAWEI\\CanterburyCommuto\\CanterburyCommuto\\canterburycommuto\\notebooks\\results\\routes_map-2025-06-11_11-33-59_89240.html\n",
      "Map saved to: c:\\Users\\HUAWEI\\CanterburyCommuto\\CanterburyCommuto\\canterburycommuto\\notebooks\\results\\routes_map-2025-06-11_11-33-59_59627.html\n"
     ]
    },
    {
     "data": {
      "text/html": [
       "\n",
       "        <iframe\n",
       "            width=\"100%\"\n",
       "            height=\"500px\"\n",
       "            src=\"results\\routes_map-2025-06-11_11-33-59_89240.html\"\n",
       "            frameborder=\"0\"\n",
       "            allowfullscreen\n",
       "            \n",
       "        ></iframe>\n",
       "        "
      ],
      "text/plain": [
       "<IPython.lib.display.IFrame at 0x1559bb3ad80>"
      ]
     },
     "metadata": {},
     "output_type": "display_data"
    },
    {
     "data": {
      "text/html": [
       "\n",
       "        <iframe\n",
       "            width=\"100%\"\n",
       "            height=\"500px\"\n",
       "            src=\"results\\routes_map-2025-06-11_11-33-59_59627.html\"\n",
       "            frameborder=\"0\"\n",
       "            allowfullscreen\n",
       "            \n",
       "        ></iframe>\n",
       "        "
      ],
      "text/plain": [
       "<IPython.lib.display.IFrame at 0x1559bc8f380>"
      ]
     },
     "metadata": {},
     "output_type": "display_data"
    },
    {
     "name": "stdout",
     "output_type": "stream",
     "text": [
      "Map saved to: c:\\Users\\HUAWEI\\CanterburyCommuto\\CanterburyCommuto\\canterburycommuto\\notebooks\\results\\routes_map-2025-06-11_11-33-59_73318.html\n"
     ]
    },
    {
     "data": {
      "text/html": [
       "\n",
       "        <iframe\n",
       "            width=\"100%\"\n",
       "            height=\"500px\"\n",
       "            src=\"results\\routes_map-2025-06-11_11-33-59_73318.html\"\n",
       "            frameborder=\"0\"\n",
       "            allowfullscreen\n",
       "            \n",
       "        ></iframe>\n",
       "        "
      ],
      "text/plain": [
       "<IPython.lib.display.IFrame at 0x1559bbabb30>"
      ]
     },
     "metadata": {},
     "output_type": "display_data"
    },
    {
     "name": "stdout",
     "output_type": "stream",
     "text": [
      "Map saved to: c:\\Users\\HUAWEI\\CanterburyCommuto\\CanterburyCommuto\\canterburycommuto\\notebooks\\results\\routes_map-2025-06-11_11-33-59_15057.html\n"
     ]
    },
    {
     "data": {
      "text/html": [
       "\n",
       "        <iframe\n",
       "            width=\"100%\"\n",
       "            height=\"500px\"\n",
       "            src=\"results\\routes_map-2025-06-11_11-33-59_15057.html\"\n",
       "            frameborder=\"0\"\n",
       "            allowfullscreen\n",
       "            \n",
       "        ></iframe>\n",
       "        "
      ],
      "text/plain": [
       "<IPython.lib.display.IFrame at 0x1559bb77950>"
      ]
     },
     "metadata": {},
     "output_type": "display_data"
    },
    {
     "name": "stdout",
     "output_type": "stream",
     "text": [
      "Map saved to: c:\\Users\\HUAWEI\\CanterburyCommuto\\CanterburyCommuto\\canterburycommuto\\notebooks\\results\\routes_map-2025-06-11_11-33-59_63616.html\n",
      "Map saved to: c:\\Users\\HUAWEI\\CanterburyCommuto\\CanterburyCommuto\\canterburycommuto\\notebooks\\results\\routes_map-2025-06-11_11-33-59_42829.html\n"
     ]
    },
    {
     "data": {
      "text/html": [
       "\n",
       "        <iframe\n",
       "            width=\"100%\"\n",
       "            height=\"500px\"\n",
       "            src=\"results\\routes_map-2025-06-11_11-33-59_63616.html\"\n",
       "            frameborder=\"0\"\n",
       "            allowfullscreen\n",
       "            \n",
       "        ></iframe>\n",
       "        "
      ],
      "text/plain": [
       "<IPython.lib.display.IFrame at 0x1559bc57320>"
      ]
     },
     "metadata": {},
     "output_type": "display_data"
    },
    {
     "data": {
      "text/html": [
       "\n",
       "        <iframe\n",
       "            width=\"100%\"\n",
       "            height=\"500px\"\n",
       "            src=\"results\\routes_map-2025-06-11_11-33-59_42829.html\"\n",
       "            frameborder=\"0\"\n",
       "            allowfullscreen\n",
       "            \n",
       "        ></iframe>\n",
       "        "
      ],
      "text/plain": [
       "<IPython.lib.display.IFrame at 0x1559bbaafc0>"
      ]
     },
     "metadata": {},
     "output_type": "display_data"
    },
    {
     "name": "stdout",
     "output_type": "stream",
     "text": [
      "Log file saved to: c:\\Users\\HUAWEI\\CanterburyCommuto\\CanterburyCommuto\\canterburycommuto\\notebooks\\results\\outputRec-2025-06-11_11-33-57_71504.log\n"
     ]
    }
   ],
   "source": [
    "Overlap_Function(\n",
    "    \"origin_destination_test.csv\",\n",
    "    None,\n",
    "    \"home_A_latitude\",\"home_A_longitude\",\"work_A_latitude\",\"work_A_longitude\",\"home_B_latitude\",\"home_B_longitude\",\"work_B_latitude\",\"work_B_longitude\", None,\n",
    "    50, 100, 100, \"yes\", \"yes\",\n",
    "    skip_invalid=True, save_api_info=True\n",
    ")"
   ]
  },
  {
   "cell_type": "markdown",
   "id": "9e78af94",
   "metadata": {},
   "source": [
    "### Rectangle Approximation Method (only Overlap Information)"
   ]
  },
  {
   "cell_type": "code",
   "execution_count": 6,
   "id": "5c2431af",
   "metadata": {},
   "outputs": [
    {
     "name": "stdout",
     "output_type": "stream",
     "text": [
      "[DEBUG] Checking for config.yaml in: c:\\Users\\HUAWEI\\CanterburyCommuto\\CanterburyCommuto\\canterburycommuto\\notebooks\\config.yaml\n",
      "[DEBUG] Checking for config.yaml in: C:\\Users\\HUAWEI\\.canterburycommuto\\config.yaml\n",
      "[DEBUG] Checking for config.yaml in: c:\\Users\\HUAWEI\\CanterburyCommuto\\CanterburyCommuto\\canterburycommuto\\config.yaml\n",
      "\n",
      "[INFO] Estimated number of API requests: 47\n",
      "[INFO] Estimated cost: $0.23\n",
      "[NOTICE] Actual cost may be higher or lower depending on Google’s pricing tiers and route pair complexity.\n",
      "\n",
      "[PROCESSING] Proceeding with route analysis...\n",
      "\n",
      "Map saved to: c:\\Users\\HUAWEI\\CanterburyCommuto\\CanterburyCommuto\\canterburycommuto\\notebooks\\results\\routes_map-2025-06-11_11-34-01_43191.html\n",
      "Map saved to: c:\\Users\\HUAWEI\\CanterburyCommuto\\CanterburyCommuto\\canterburycommuto\\notebooks\\results\\routes_map-2025-06-11_11-34-01_29373.html\n"
     ]
    },
    {
     "data": {
      "text/html": [
       "\n",
       "        <iframe\n",
       "            width=\"100%\"\n",
       "            height=\"500px\"\n",
       "            src=\"results\\routes_map-2025-06-11_11-34-01_43191.html\"\n",
       "            frameborder=\"0\"\n",
       "            allowfullscreen\n",
       "            \n",
       "        ></iframe>\n",
       "        "
      ],
      "text/plain": [
       "<IPython.lib.display.IFrame at 0x1559bbe86e0>"
      ]
     },
     "metadata": {},
     "output_type": "display_data"
    },
    {
     "data": {
      "text/html": [
       "\n",
       "        <iframe\n",
       "            width=\"100%\"\n",
       "            height=\"500px\"\n",
       "            src=\"results\\routes_map-2025-06-11_11-34-01_29373.html\"\n",
       "            frameborder=\"0\"\n",
       "            allowfullscreen\n",
       "            \n",
       "        ></iframe>\n",
       "        "
      ],
      "text/plain": [
       "<IPython.lib.display.IFrame at 0x1559bbe9b80>"
      ]
     },
     "metadata": {},
     "output_type": "display_data"
    },
    {
     "name": "stdout",
     "output_type": "stream",
     "text": [
      "Map saved to: c:\\Users\\HUAWEI\\CanterburyCommuto\\CanterburyCommuto\\canterburycommuto\\notebooks\\results\\routes_map-2025-06-11_11-34-01_55237.html\n"
     ]
    },
    {
     "data": {
      "text/html": [
       "\n",
       "        <iframe\n",
       "            width=\"100%\"\n",
       "            height=\"500px\"\n",
       "            src=\"results\\routes_map-2025-06-11_11-34-01_55237.html\"\n",
       "            frameborder=\"0\"\n",
       "            allowfullscreen\n",
       "            \n",
       "        ></iframe>\n",
       "        "
      ],
      "text/plain": [
       "<IPython.lib.display.IFrame at 0x1559bb76d20>"
      ]
     },
     "metadata": {},
     "output_type": "display_data"
    },
    {
     "name": "stdout",
     "output_type": "stream",
     "text": [
      "Map saved to: c:\\Users\\HUAWEI\\CanterburyCommuto\\CanterburyCommuto\\canterburycommuto\\notebooks\\results\\routes_map-2025-06-11_11-34-01_93733.html\n"
     ]
    },
    {
     "data": {
      "text/html": [
       "\n",
       "        <iframe\n",
       "            width=\"100%\"\n",
       "            height=\"500px\"\n",
       "            src=\"results\\routes_map-2025-06-11_11-34-01_93733.html\"\n",
       "            frameborder=\"0\"\n",
       "            allowfullscreen\n",
       "            \n",
       "        ></iframe>\n",
       "        "
      ],
      "text/plain": [
       "<IPython.lib.display.IFrame at 0x1559cf848c0>"
      ]
     },
     "metadata": {},
     "output_type": "display_data"
    },
    {
     "name": "stdout",
     "output_type": "stream",
     "text": [
      "Error fetching directions: NOT_FOUND\n",
      "Map saved to: c:\\Users\\HUAWEI\\CanterburyCommuto\\CanterburyCommuto\\canterburycommuto\\notebooks\\results\\routes_map-2025-06-11_11-34-01_47618.htmlMap saved to: c:\\Users\\HUAWEI\\CanterburyCommuto\\CanterburyCommuto\\canterburycommuto\\notebooks\\results\\routes_map-2025-06-11_11-34-01_11718.html\n",
      "\n"
     ]
    },
    {
     "data": {
      "text/html": [
       "\n",
       "        <iframe\n",
       "            width=\"100%\"\n",
       "            height=\"500px\"\n",
       "            src=\"results\\routes_map-2025-06-11_11-34-01_47618.html\"\n",
       "            frameborder=\"0\"\n",
       "            allowfullscreen\n",
       "            \n",
       "        ></iframe>\n",
       "        "
      ],
      "text/plain": [
       "<IPython.lib.display.IFrame at 0x1559bc8c5f0>"
      ]
     },
     "metadata": {},
     "output_type": "display_data"
    },
    {
     "data": {
      "text/html": [
       "\n",
       "        <iframe\n",
       "            width=\"100%\"\n",
       "            height=\"500px\"\n",
       "            src=\"results\\routes_map-2025-06-11_11-34-01_11718.html\"\n",
       "            frameborder=\"0\"\n",
       "            allowfullscreen\n",
       "            \n",
       "        ></iframe>\n",
       "        "
      ],
      "text/plain": [
       "<IPython.lib.display.IFrame at 0x1559cca2a20>"
      ]
     },
     "metadata": {},
     "output_type": "display_data"
    },
    {
     "name": "stdout",
     "output_type": "stream",
     "text": [
      "Map saved to: c:\\Users\\HUAWEI\\CanterburyCommuto\\CanterburyCommuto\\canterburycommuto\\notebooks\\results\\routes_map-2025-06-11_11-34-01_10666.html\n"
     ]
    },
    {
     "data": {
      "text/html": [
       "\n",
       "        <iframe\n",
       "            width=\"100%\"\n",
       "            height=\"500px\"\n",
       "            src=\"results\\routes_map-2025-06-11_11-34-01_10666.html\"\n",
       "            frameborder=\"0\"\n",
       "            allowfullscreen\n",
       "            \n",
       "        ></iframe>\n",
       "        "
      ],
      "text/plain": [
       "<IPython.lib.display.IFrame at 0x1559cca2e40>"
      ]
     },
     "metadata": {},
     "output_type": "display_data"
    },
    {
     "name": "stdout",
     "output_type": "stream",
     "text": [
      "Map saved to: c:\\Users\\HUAWEI\\CanterburyCommuto\\CanterburyCommuto\\canterburycommuto\\notebooks\\results\\routes_map-2025-06-11_11-34-01_27152.html\n"
     ]
    },
    {
     "data": {
      "text/html": [
       "\n",
       "        <iframe\n",
       "            width=\"100%\"\n",
       "            height=\"500px\"\n",
       "            src=\"results\\routes_map-2025-06-11_11-34-01_27152.html\"\n",
       "            frameborder=\"0\"\n",
       "            allowfullscreen\n",
       "            \n",
       "        ></iframe>\n",
       "        "
      ],
      "text/plain": [
       "<IPython.lib.display.IFrame at 0x1559cd22210>"
      ]
     },
     "metadata": {},
     "output_type": "display_data"
    },
    {
     "name": "stdout",
     "output_type": "stream",
     "text": [
      "Map saved to: c:\\Users\\HUAWEI\\CanterburyCommuto\\CanterburyCommuto\\canterburycommuto\\notebooks\\results\\routes_map-2025-06-11_11-34-02_50872.html\n"
     ]
    },
    {
     "data": {
      "text/html": [
       "\n",
       "        <iframe\n",
       "            width=\"100%\"\n",
       "            height=\"500px\"\n",
       "            src=\"results\\routes_map-2025-06-11_11-34-02_50872.html\"\n",
       "            frameborder=\"0\"\n",
       "            allowfullscreen\n",
       "            \n",
       "        ></iframe>\n",
       "        "
      ],
      "text/plain": [
       "<IPython.lib.display.IFrame at 0x1559cc89dc0>"
      ]
     },
     "metadata": {},
     "output_type": "display_data"
    },
    {
     "name": "stdout",
     "output_type": "stream",
     "text": [
      "Map saved to: c:\\Users\\HUAWEI\\CanterburyCommuto\\CanterburyCommuto\\canterburycommuto\\notebooks\\results\\routes_map-2025-06-11_11-34-02_85851.html\n"
     ]
    },
    {
     "data": {
      "text/html": [
       "\n",
       "        <iframe\n",
       "            width=\"100%\"\n",
       "            height=\"500px\"\n",
       "            src=\"results\\routes_map-2025-06-11_11-34-02_85851.html\"\n",
       "            frameborder=\"0\"\n",
       "            allowfullscreen\n",
       "            \n",
       "        ></iframe>\n",
       "        "
      ],
      "text/plain": [
       "<IPython.lib.display.IFrame at 0x1559cd55b80>"
      ]
     },
     "metadata": {},
     "output_type": "display_data"
    },
    {
     "name": "stdout",
     "output_type": "stream",
     "text": [
      "Log file saved to: c:\\Users\\HUAWEI\\CanterburyCommuto\\CanterburyCommuto\\canterburycommuto\\notebooks\\results\\grape.log\n"
     ]
    }
   ],
   "source": [
    "Overlap_Function(\n",
    "    \"origin_destination_test_ID.csv\", \n",
    "    None,\n",
    "    \"home_A_latitude\",\"home_A_longitude\",\"work_A_latitude\",\"work_A_longitude\",\"home_B_latitude\",\"home_B_longitude\",\"work_B_latitude\",\"work_B_longitude\", \"ID\", \n",
    "    50, 100, 100, \"yes\", \"no\", \n",
    "    output_file = \"grape\", skip_invalid=True, save_api_info=True\n",
    "    )"
   ]
  },
  {
   "cell_type": "markdown",
   "id": "905edf52",
   "metadata": {},
   "source": [
    "### Buffer Area Ratio Method"
   ]
  },
  {
   "cell_type": "code",
   "execution_count": 7,
   "id": "46cf024c",
   "metadata": {},
   "outputs": [
    {
     "name": "stdout",
     "output_type": "stream",
     "text": [
      "[DEBUG] Checking for config.yaml in: c:\\Users\\HUAWEI\\CanterburyCommuto\\CanterburyCommuto\\canterburycommuto\\notebooks\\config.yaml\n",
      "[DEBUG] Checking for config.yaml in: C:\\Users\\HUAWEI\\.canterburycommuto\\config.yaml\n",
      "[DEBUG] Checking for config.yaml in: c:\\Users\\HUAWEI\\CanterburyCommuto\\CanterburyCommuto\\canterburycommuto\\config.yaml\n",
      "\n",
      "[INFO] Estimated number of API requests: 22\n",
      "[INFO] Estimated cost: $0.11\n",
      "[NOTICE] Actual cost may be higher or lower depending on Google’s pricing tiers and route pair complexity.\n",
      "\n",
      "[PROCESSING] Proceeding with route analysis...\n",
      "\n",
      "Error fetching directions: NOT_FOUND\n",
      "Map saved to: c:\\Users\\HUAWEI\\CanterburyCommuto\\CanterburyCommuto\\canterburycommuto\\notebooks\\results\\routes_with_buffers_map-2025-06-11_11-34-03_34927.html\n"
     ]
    },
    {
     "data": {
      "text/html": [
       "\n",
       "        <iframe\n",
       "            width=\"100%\"\n",
       "            height=\"600px\"\n",
       "            src=\"results\\routes_with_buffers_map-2025-06-11_11-34-03_34927.html\"\n",
       "            frameborder=\"0\"\n",
       "            allowfullscreen\n",
       "            \n",
       "        ></iframe>\n",
       "        "
      ],
      "text/plain": [
       "<IPython.lib.display.IFrame at 0x1559bc8c620>"
      ]
     },
     "metadata": {},
     "output_type": "display_data"
    },
    {
     "name": "stdout",
     "output_type": "stream",
     "text": [
      "Map has been displayed inline and saved as 'results\\routes_with_buffers_map-2025-06-11_11-34-03_34927.html'.\n",
      "Map saved to: c:\\Users\\HUAWEI\\CanterburyCommuto\\CanterburyCommuto\\canterburycommuto\\notebooks\\results\\routes_with_buffers_map-2025-06-11_11-34-03_50849.html\n"
     ]
    },
    {
     "data": {
      "text/html": [
       "\n",
       "        <iframe\n",
       "            width=\"100%\"\n",
       "            height=\"600px\"\n",
       "            src=\"results\\routes_with_buffers_map-2025-06-11_11-34-03_50849.html\"\n",
       "            frameborder=\"0\"\n",
       "            allowfullscreen\n",
       "            \n",
       "        ></iframe>\n",
       "        "
      ],
      "text/plain": [
       "<IPython.lib.display.IFrame at 0x1559bc570e0>"
      ]
     },
     "metadata": {},
     "output_type": "display_data"
    },
    {
     "name": "stdout",
     "output_type": "stream",
     "text": [
      "Warning: Not enough points to create buffer. Returning None.Map has been displayed inline and saved as 'results\\routes_with_buffers_map-2025-06-11_11-34-03_50849.html'.\n",
      "\n",
      "Map saved to: c:\\Users\\HUAWEI\\CanterburyCommuto\\CanterburyCommuto\\canterburycommuto\\notebooks\\results\\routes_with_buffers_map-2025-06-11_11-34-03_15128.html\n",
      "Map saved to: c:\\Users\\HUAWEI\\CanterburyCommuto\\CanterburyCommuto\\canterburycommuto\\notebooks\\results\\routes_with_buffers_map-2025-06-11_11-34-03_35898.html\n"
     ]
    },
    {
     "data": {
      "text/html": [
       "\n",
       "        <iframe\n",
       "            width=\"100%\"\n",
       "            height=\"600px\"\n",
       "            src=\"results\\routes_with_buffers_map-2025-06-11_11-34-03_15128.html\"\n",
       "            frameborder=\"0\"\n",
       "            allowfullscreen\n",
       "            \n",
       "        ></iframe>\n",
       "        "
      ],
      "text/plain": [
       "<IPython.lib.display.IFrame at 0x1559bc05c40>"
      ]
     },
     "metadata": {},
     "output_type": "display_data"
    },
    {
     "name": "stdout",
     "output_type": "stream",
     "text": [
      "Map saved to: c:\\Users\\HUAWEI\\CanterburyCommuto\\CanterburyCommuto\\canterburycommuto\\notebooks\\results\\routes_with_buffers_map-2025-06-11_11-34-03_39115.html\n",
      "Map has been displayed inline and saved as 'results\\routes_with_buffers_map-2025-06-11_11-34-03_15128.html'.\n"
     ]
    },
    {
     "data": {
      "text/html": [
       "\n",
       "        <iframe\n",
       "            width=\"100%\"\n",
       "            height=\"600px\"\n",
       "            src=\"results\\routes_with_buffers_map-2025-06-11_11-34-03_39115.html\"\n",
       "            frameborder=\"0\"\n",
       "            allowfullscreen\n",
       "            \n",
       "        ></iframe>\n",
       "        "
      ],
      "text/plain": [
       "<IPython.lib.display.IFrame at 0x1559bb76ea0>"
      ]
     },
     "metadata": {},
     "output_type": "display_data"
    },
    {
     "data": {
      "text/html": [
       "\n",
       "        <iframe\n",
       "            width=\"100%\"\n",
       "            height=\"600px\"\n",
       "            src=\"results\\routes_with_buffers_map-2025-06-11_11-34-03_35898.html\"\n",
       "            frameborder=\"0\"\n",
       "            allowfullscreen\n",
       "            \n",
       "        ></iframe>\n",
       "        "
      ],
      "text/plain": [
       "<IPython.lib.display.IFrame at 0x1559bc57260>"
      ]
     },
     "metadata": {},
     "output_type": "display_data"
    },
    {
     "name": "stdout",
     "output_type": "stream",
     "text": [
      "Map has been displayed inline and saved as 'results\\routes_with_buffers_map-2025-06-11_11-34-03_39115.html'.\n",
      "Map has been displayed inline and saved as 'results\\routes_with_buffers_map-2025-06-11_11-34-03_35898.html'.\n",
      "Map saved to: c:\\Users\\HUAWEI\\CanterburyCommuto\\CanterburyCommuto\\canterburycommuto\\notebooks\\results\\routes_with_buffers_map-2025-06-11_11-34-03_10899.html\n"
     ]
    },
    {
     "data": {
      "text/html": [
       "\n",
       "        <iframe\n",
       "            width=\"100%\"\n",
       "            height=\"600px\"\n",
       "            src=\"results\\routes_with_buffers_map-2025-06-11_11-34-03_10899.html\"\n",
       "            frameborder=\"0\"\n",
       "            allowfullscreen\n",
       "            \n",
       "        ></iframe>\n",
       "        "
      ],
      "text/plain": [
       "<IPython.lib.display.IFrame at 0x1559bc059d0>"
      ]
     },
     "metadata": {},
     "output_type": "display_data"
    },
    {
     "name": "stdout",
     "output_type": "stream",
     "text": [
      "Map has been displayed inline and saved as 'results\\routes_with_buffers_map-2025-06-11_11-34-03_10899.html'.\n",
      "Map saved to: c:\\Users\\HUAWEI\\CanterburyCommuto\\CanterburyCommuto\\canterburycommuto\\notebooks\\results\\routes_with_buffers_map-2025-06-11_11-34-03_90074.html\n"
     ]
    },
    {
     "data": {
      "text/html": [
       "\n",
       "        <iframe\n",
       "            width=\"100%\"\n",
       "            height=\"600px\"\n",
       "            src=\"results\\routes_with_buffers_map-2025-06-11_11-34-03_90074.html\"\n",
       "            frameborder=\"0\"\n",
       "            allowfullscreen\n",
       "            \n",
       "        ></iframe>\n",
       "        "
      ],
      "text/plain": [
       "<IPython.lib.display.IFrame at 0x1559bc04620>"
      ]
     },
     "metadata": {},
     "output_type": "display_data"
    },
    {
     "name": "stdout",
     "output_type": "stream",
     "text": [
      "Map has been displayed inline and saved as 'results\\routes_with_buffers_map-2025-06-11_11-34-03_90074.html'.\n",
      "Log file saved to: c:\\Users\\HUAWEI\\CanterburyCommuto\\CanterburyCommuto\\canterburycommuto\\notebooks\\results\\iron man.log\n"
     ]
    }
   ],
   "source": [
    "Overlap_Function(\n",
    "    \"origin_destination_test.csv\", \n",
    "    None,\n",
    "    \"home_A_latitude\",\"home_A_longitude\",\"work_A_latitude\",\"work_A_longitude\",\"home_B_latitude\",\"home_B_longitude\",\"work_B_latitude\",\"work_B_longitude\", \"ID\",\n",
    "    50, 100, 100, \"yes with buffer\", \n",
    "    \"no\", output_file = \"iron man\", skip_invalid=True, save_api_info=True\n",
    ")"
   ]
  },
  {
   "cell_type": "markdown",
   "id": "ce36b6fe",
   "metadata": {},
   "source": [
    "### Buffer Route Node Method with Commuting Information Before and After the Overlap"
   ]
  },
  {
   "cell_type": "code",
   "execution_count": 8,
   "id": "f9cb61c7",
   "metadata": {},
   "outputs": [
    {
     "name": "stdout",
     "output_type": "stream",
     "text": [
      "[DEBUG] Checking for config.yaml in: c:\\Users\\HUAWEI\\CanterburyCommuto\\CanterburyCommuto\\canterburycommuto\\notebooks\\config.yaml\n",
      "[DEBUG] Checking for config.yaml in: C:\\Users\\HUAWEI\\.canterburycommuto\\config.yaml\n",
      "[DEBUG] Checking for config.yaml in: c:\\Users\\HUAWEI\\CanterburyCommuto\\CanterburyCommuto\\canterburycommuto\\config.yaml\n",
      "\n",
      "[INFO] Estimated number of API requests: 82\n",
      "[INFO] Estimated cost: $0.41\n",
      "[NOTICE] Actual cost may be higher or lower depending on Google’s pricing tiers and route pair complexity.\n",
      "\n",
      "[PROCESSING] Proceeding with route analysis...\n",
      "\n",
      "Map saved to: c:\\Users\\HUAWEI\\CanterburyCommuto\\CanterburyCommuto\\canterburycommuto\\notebooks\\results\\routes_with_buffers_map-2025-06-11_11-34-05_87087.html\n"
     ]
    },
    {
     "data": {
      "text/html": [
       "\n",
       "        <iframe\n",
       "            width=\"100%\"\n",
       "            height=\"600px\"\n",
       "            src=\"results\\routes_with_buffers_map-2025-06-11_11-34-05_87087.html\"\n",
       "            frameborder=\"0\"\n",
       "            allowfullscreen\n",
       "            \n",
       "        ></iframe>\n",
       "        "
      ],
      "text/plain": [
       "<IPython.lib.display.IFrame at 0x1559bc54a10>"
      ]
     },
     "metadata": {},
     "output_type": "display_data"
    },
    {
     "name": "stdout",
     "output_type": "stream",
     "text": [
      "Map has been displayed inline and saved as 'results\\routes_with_buffers_map-2025-06-11_11-34-05_87087.html'.\n",
      "Error fetching directions: NOT_FOUND\n",
      "Warning: Not enough points to create buffer. Returning None.\n",
      "Map saved to: c:\\Users\\HUAWEI\\CanterburyCommuto\\CanterburyCommuto\\canterburycommuto\\notebooks\\results\\routes_with_buffers_map-2025-06-11_11-34-06_31758.html\n"
     ]
    },
    {
     "data": {
      "text/html": [
       "\n",
       "        <iframe\n",
       "            width=\"100%\"\n",
       "            height=\"600px\"\n",
       "            src=\"results\\routes_with_buffers_map-2025-06-11_11-34-06_31758.html\"\n",
       "            frameborder=\"0\"\n",
       "            allowfullscreen\n",
       "            \n",
       "        ></iframe>\n",
       "        "
      ],
      "text/plain": [
       "<IPython.lib.display.IFrame at 0x1559bbc8ad0>"
      ]
     },
     "metadata": {},
     "output_type": "display_data"
    },
    {
     "name": "stdout",
     "output_type": "stream",
     "text": [
      "Map has been displayed inline and saved as 'results\\routes_with_buffers_map-2025-06-11_11-34-06_31758.html'.\n",
      "Warning: One or both buffer polygons are None. Cannot compute intersection.\n",
      "Map saved to: c:\\Users\\HUAWEI\\CanterburyCommuto\\CanterburyCommuto\\canterburycommuto\\notebooks\\results\\routes_with_buffers_map-2025-06-11_11-34-06_24031.html\n"
     ]
    },
    {
     "data": {
      "text/html": [
       "\n",
       "        <iframe\n",
       "            width=\"100%\"\n",
       "            height=\"600px\"\n",
       "            src=\"results\\routes_with_buffers_map-2025-06-11_11-34-06_24031.html\"\n",
       "            frameborder=\"0\"\n",
       "            allowfullscreen\n",
       "            \n",
       "        ></iframe>\n",
       "        "
      ],
      "text/plain": [
       "<IPython.lib.display.IFrame at 0x1559bb0f8f0>"
      ]
     },
     "metadata": {},
     "output_type": "display_data"
    },
    {
     "name": "stdout",
     "output_type": "stream",
     "text": [
      "Map has been displayed inline and saved as 'results\\routes_with_buffers_map-2025-06-11_11-34-06_24031.html'.\n",
      "Map saved to: c:\\Users\\HUAWEI\\CanterburyCommuto\\CanterburyCommuto\\canterburycommuto\\notebooks\\results\\routes_with_buffers_map-2025-06-11_11-34-06_81517.html\n",
      "Map saved to: c:\\Users\\HUAWEI\\CanterburyCommuto\\CanterburyCommuto\\canterburycommuto\\notebooks\\results\\routes_with_buffers_map-2025-06-11_11-34-06_64357.html\n"
     ]
    },
    {
     "data": {
      "text/html": [
       "\n",
       "        <iframe\n",
       "            width=\"100%\"\n",
       "            height=\"600px\"\n",
       "            src=\"results\\routes_with_buffers_map-2025-06-11_11-34-06_64357.html\"\n",
       "            frameborder=\"0\"\n",
       "            allowfullscreen\n",
       "            \n",
       "        ></iframe>\n",
       "        "
      ],
      "text/plain": [
       "<IPython.lib.display.IFrame at 0x1559cd54b30>"
      ]
     },
     "metadata": {},
     "output_type": "display_data"
    },
    {
     "data": {
      "text/html": [
       "\n",
       "        <iframe\n",
       "            width=\"100%\"\n",
       "            height=\"600px\"\n",
       "            src=\"results\\routes_with_buffers_map-2025-06-11_11-34-06_81517.html\"\n",
       "            frameborder=\"0\"\n",
       "            allowfullscreen\n",
       "            \n",
       "        ></iframe>\n",
       "        "
      ],
      "text/plain": [
       "<IPython.lib.display.IFrame at 0x1559cca2d20>"
      ]
     },
     "metadata": {},
     "output_type": "display_data"
    },
    {
     "name": "stdout",
     "output_type": "stream",
     "text": [
      "Map has been displayed inline and saved as 'results\\routes_with_buffers_map-2025-06-11_11-34-06_81517.html'.\n",
      "Map has been displayed inline and saved as 'results\\routes_with_buffers_map-2025-06-11_11-34-06_64357.html'.\n",
      "Map saved to: c:\\Users\\HUAWEI\\CanterburyCommuto\\CanterburyCommuto\\canterburycommuto\\notebooks\\results\\routes_with_buffers_map-2025-06-11_11-34-06_13652.html\n"
     ]
    },
    {
     "data": {
      "text/html": [
       "\n",
       "        <iframe\n",
       "            width=\"100%\"\n",
       "            height=\"600px\"\n",
       "            src=\"results\\routes_with_buffers_map-2025-06-11_11-34-06_13652.html\"\n",
       "            frameborder=\"0\"\n",
       "            allowfullscreen\n",
       "            \n",
       "        ></iframe>\n",
       "        "
      ],
      "text/plain": [
       "<IPython.lib.display.IFrame at 0x1559bb74f50>"
      ]
     },
     "metadata": {},
     "output_type": "display_data"
    },
    {
     "name": "stdout",
     "output_type": "stream",
     "text": [
      "Map has been displayed inline and saved as 'results\\routes_with_buffers_map-2025-06-11_11-34-06_13652.html'.\n",
      "Map saved to: c:\\Users\\HUAWEI\\CanterburyCommuto\\CanterburyCommuto\\canterburycommuto\\notebooks\\results\\routes_with_buffers_map-2025-06-11_11-34-06_38131.html\n"
     ]
    },
    {
     "data": {
      "text/html": [
       "\n",
       "        <iframe\n",
       "            width=\"100%\"\n",
       "            height=\"600px\"\n",
       "            src=\"results\\routes_with_buffers_map-2025-06-11_11-34-06_38131.html\"\n",
       "            frameborder=\"0\"\n",
       "            allowfullscreen\n",
       "            \n",
       "        ></iframe>\n",
       "        "
      ],
      "text/plain": [
       "<IPython.lib.display.IFrame at 0x1559bbab380>"
      ]
     },
     "metadata": {},
     "output_type": "display_data"
    },
    {
     "name": "stdout",
     "output_type": "stream",
     "text": [
      "Map has been displayed inline and saved as 'results\\routes_with_buffers_map-2025-06-11_11-34-06_38131.html'.\n",
      "Log file saved to: c:\\Users\\HUAWEI\\CanterburyCommuto\\CanterburyCommuto\\canterburycommuto\\notebooks\\results\\mission impossible.log\n"
     ]
    }
   ],
   "source": [
    "Overlap_Function(\n",
    "    \"origin_destination_test_ID.csv\",\n",
    "    None,\n",
    "    \"home_A_latitude\",\"home_A_longitude\",\"work_A_latitude\",\"work_A_longitude\",\"home_B_latitude\",\"home_B_longitude\",\"work_B_latitude\",\"work_B_longitude\", \"ID\",\n",
    "    50, 100, 100,\"closer to precision\", \"yes\",\n",
    "    output_file = \"mission impossible\", skip_invalid=True, save_api_info=True\n",
    ")"
   ]
  },
  {
   "cell_type": "markdown",
   "id": "48d0f0ba",
   "metadata": {},
   "source": [
    "### Buffer Route Node Method (only Overlap Information)"
   ]
  },
  {
   "cell_type": "code",
   "execution_count": 9,
   "id": "e3e6481f",
   "metadata": {},
   "outputs": [
    {
     "name": "stdout",
     "output_type": "stream",
     "text": [
      "[DEBUG] Checking for config.yaml in: c:\\Users\\HUAWEI\\CanterburyCommuto\\CanterburyCommuto\\canterburycommuto\\notebooks\\config.yaml\n",
      "[DEBUG] Checking for config.yaml in: C:\\Users\\HUAWEI\\.canterburycommuto\\config.yaml\n",
      "[DEBUG] Checking for config.yaml in: c:\\Users\\HUAWEI\\CanterburyCommuto\\CanterburyCommuto\\canterburycommuto\\config.yaml\n",
      "\n",
      "[INFO] Estimated number of API requests: 42\n",
      "[INFO] Estimated cost: $0.21\n",
      "[NOTICE] Actual cost may be higher or lower depending on Google’s pricing tiers and route pair complexity.\n",
      "\n",
      "[PROCESSING] Proceeding with route analysis...\n",
      "\n",
      "Error fetching directions: NOT_FOUND\n",
      "Map saved to: c:\\Users\\HUAWEI\\CanterburyCommuto\\CanterburyCommuto\\canterburycommuto\\notebooks\\results\\routes_with_buffers_map-2025-06-11_11-34-07_45379.html\n",
      "Map saved to: c:\\Users\\HUAWEI\\CanterburyCommuto\\CanterburyCommuto\\canterburycommuto\\notebooks\\results\\routes_with_buffers_map-2025-06-11_11-34-07_63929.html\n",
      "Warning: Not enough points to create buffer. Returning None.\n"
     ]
    },
    {
     "data": {
      "text/html": [
       "\n",
       "        <iframe\n",
       "            width=\"100%\"\n",
       "            height=\"600px\"\n",
       "            src=\"results\\routes_with_buffers_map-2025-06-11_11-34-07_63929.html\"\n",
       "            frameborder=\"0\"\n",
       "            allowfullscreen\n",
       "            \n",
       "        ></iframe>\n",
       "        "
      ],
      "text/plain": [
       "<IPython.lib.display.IFrame at 0x1559cd23050>"
      ]
     },
     "metadata": {},
     "output_type": "display_data"
    },
    {
     "data": {
      "text/html": [
       "\n",
       "        <iframe\n",
       "            width=\"100%\"\n",
       "            height=\"600px\"\n",
       "            src=\"results\\routes_with_buffers_map-2025-06-11_11-34-07_45379.html\"\n",
       "            frameborder=\"0\"\n",
       "            allowfullscreen\n",
       "            \n",
       "        ></iframe>\n",
       "        "
      ],
      "text/plain": [
       "<IPython.lib.display.IFrame at 0x1559bb396a0>"
      ]
     },
     "metadata": {},
     "output_type": "display_data"
    },
    {
     "name": "stdout",
     "output_type": "stream",
     "text": [
      "Map has been displayed inline and saved as 'results\\routes_with_buffers_map-2025-06-11_11-34-07_45379.html'.\n",
      "Map has been displayed inline and saved as 'results\\routes_with_buffers_map-2025-06-11_11-34-07_63929.html'.\n",
      "Map saved to: c:\\Users\\HUAWEI\\CanterburyCommuto\\CanterburyCommuto\\canterburycommuto\\notebooks\\results\\routes_with_buffers_map-2025-06-11_11-34-07_29224.html\n"
     ]
    },
    {
     "data": {
      "text/html": [
       "\n",
       "        <iframe\n",
       "            width=\"100%\"\n",
       "            height=\"600px\"\n",
       "            src=\"results\\routes_with_buffers_map-2025-06-11_11-34-07_29224.html\"\n",
       "            frameborder=\"0\"\n",
       "            allowfullscreen\n",
       "            \n",
       "        ></iframe>\n",
       "        "
      ],
      "text/plain": [
       "<IPython.lib.display.IFrame at 0x1559bac9bb0>"
      ]
     },
     "metadata": {},
     "output_type": "display_data"
    },
    {
     "name": "stdout",
     "output_type": "stream",
     "text": [
      "Map has been displayed inline and saved as 'results\\routes_with_buffers_map-2025-06-11_11-34-07_29224.html'.\n",
      "Map saved to: c:\\Users\\HUAWEI\\CanterburyCommuto\\CanterburyCommuto\\canterburycommuto\\notebooks\\results\\routes_with_buffers_map-2025-06-11_11-34-07_53314.html\n",
      "Map saved to: c:\\Users\\HUAWEI\\CanterburyCommuto\\CanterburyCommuto\\canterburycommuto\\notebooks\\results\\routes_with_buffers_map-2025-06-11_11-34-08_99721.html\n",
      "Map saved to: c:\\Users\\HUAWEI\\CanterburyCommuto\\CanterburyCommuto\\canterburycommuto\\notebooks\\results\\routes_with_buffers_map-2025-06-11_11-34-08_47371.html\n"
     ]
    },
    {
     "data": {
      "text/html": [
       "\n",
       "        <iframe\n",
       "            width=\"100%\"\n",
       "            height=\"600px\"\n",
       "            src=\"results\\routes_with_buffers_map-2025-06-11_11-34-07_53314.html\"\n",
       "            frameborder=\"0\"\n",
       "            allowfullscreen\n",
       "            \n",
       "        ></iframe>\n",
       "        "
      ],
      "text/plain": [
       "<IPython.lib.display.IFrame at 0x1559baca5d0>"
      ]
     },
     "metadata": {},
     "output_type": "display_data"
    },
    {
     "data": {
      "text/html": [
       "\n",
       "        <iframe\n",
       "            width=\"100%\"\n",
       "            height=\"600px\"\n",
       "            src=\"results\\routes_with_buffers_map-2025-06-11_11-34-08_99721.html\"\n",
       "            frameborder=\"0\"\n",
       "            allowfullscreen\n",
       "            \n",
       "        ></iframe>\n",
       "        "
      ],
      "text/plain": [
       "<IPython.lib.display.IFrame at 0x1559cd56c90>"
      ]
     },
     "metadata": {},
     "output_type": "display_data"
    },
    {
     "data": {
      "text/html": [
       "\n",
       "        <iframe\n",
       "            width=\"100%\"\n",
       "            height=\"600px\"\n",
       "            src=\"results\\routes_with_buffers_map-2025-06-11_11-34-08_47371.html\"\n",
       "            frameborder=\"0\"\n",
       "            allowfullscreen\n",
       "            \n",
       "        ></iframe>\n",
       "        "
      ],
      "text/plain": [
       "<IPython.lib.display.IFrame at 0x1559bbc87a0>"
      ]
     },
     "metadata": {},
     "output_type": "display_data"
    },
    {
     "name": "stdout",
     "output_type": "stream",
     "text": [
      "Map has been displayed inline and saved as 'results\\routes_with_buffers_map-2025-06-11_11-34-07_53314.html'.\n",
      "Map has been displayed inline and saved as 'results\\routes_with_buffers_map-2025-06-11_11-34-08_99721.html'.\n",
      "Map has been displayed inline and saved as 'results\\routes_with_buffers_map-2025-06-11_11-34-08_47371.html'.\n",
      "Map saved to: c:\\Users\\HUAWEI\\CanterburyCommuto\\CanterburyCommuto\\canterburycommuto\\notebooks\\results\\routes_with_buffers_map-2025-06-11_11-34-08_84712.html\n"
     ]
    },
    {
     "data": {
      "text/html": [
       "\n",
       "        <iframe\n",
       "            width=\"100%\"\n",
       "            height=\"600px\"\n",
       "            src=\"results\\routes_with_buffers_map-2025-06-11_11-34-08_84712.html\"\n",
       "            frameborder=\"0\"\n",
       "            allowfullscreen\n",
       "            \n",
       "        ></iframe>\n",
       "        "
      ],
      "text/plain": [
       "<IPython.lib.display.IFrame at 0x1559b8a5eb0>"
      ]
     },
     "metadata": {},
     "output_type": "display_data"
    },
    {
     "name": "stdout",
     "output_type": "stream",
     "text": [
      "Map has been displayed inline and saved as 'results\\routes_with_buffers_map-2025-06-11_11-34-08_84712.html'.\n",
      "Warning: One or both buffer polygons are None. Cannot compute intersection.\n",
      "Log file saved to: c:\\Users\\HUAWEI\\CanterburyCommuto\\CanterburyCommuto\\canterburycommuto\\notebooks\\results\\closest_nodes_buffer_only_overlap-2025-06-11_11-34-07_27767.log\n"
     ]
    }
   ],
   "source": [
    "Overlap_Function(\n",
    "    \"origin_destination_test.csv\",\n",
    "    None,\n",
    "    \"home_A_latitude\",\"home_A_longitude\",\"work_A_latitude\",\"work_A_longitude\",\"home_B_latitude\",\"home_B_longitude\",\"work_B_latitude\",\"work_B_longitude\", None,\n",
    "    50, 100, 100,\"closer to precision\", \"no\",\n",
    "    skip_invalid=True, save_api_info=True\n",
    ")"
   ]
  },
  {
   "cell_type": "markdown",
   "id": "10ce2bff",
   "metadata": {},
   "source": [
    "### Buffer Route Intersection Method with Commuting Information Before and After the Overlap"
   ]
  },
  {
   "cell_type": "code",
   "execution_count": 10,
   "id": "08c1d09b",
   "metadata": {},
   "outputs": [
    {
     "name": "stdout",
     "output_type": "stream",
     "text": [
      "[DEBUG] Checking for config.yaml in: c:\\Users\\HUAWEI\\CanterburyCommuto\\CanterburyCommuto\\canterburycommuto\\notebooks\\config.yaml\n",
      "[DEBUG] Checking for config.yaml in: C:\\Users\\HUAWEI\\.canterburycommuto\\config.yaml\n",
      "[DEBUG] Checking for config.yaml in: c:\\Users\\HUAWEI\\CanterburyCommuto\\CanterburyCommuto\\canterburycommuto\\config.yaml\n",
      "\n",
      "[INFO] Estimated number of API requests: 82\n",
      "[INFO] Estimated cost: $0.41\n",
      "[NOTICE] Actual cost may be higher or lower depending on Google’s pricing tiers and route pair complexity.\n",
      "\n",
      "[PROCESSING] Proceeding with route analysis...\n",
      "\n",
      "Error fetching directions: NOT_FOUND\n",
      "Map saved to: c:\\Users\\HUAWEI\\CanterburyCommuto\\CanterburyCommuto\\canterburycommuto\\notebooks\\results\\routes_with_buffers_map-2025-06-11_11-34-10_93660.html\n"
     ]
    },
    {
     "data": {
      "text/html": [
       "\n",
       "        <iframe\n",
       "            width=\"100%\"\n",
       "            height=\"600px\"\n",
       "            src=\"results\\routes_with_buffers_map-2025-06-11_11-34-10_93660.html\"\n",
       "            frameborder=\"0\"\n",
       "            allowfullscreen\n",
       "            \n",
       "        ></iframe>\n",
       "        "
      ],
      "text/plain": [
       "<IPython.lib.display.IFrame at 0x1559cf87b00>"
      ]
     },
     "metadata": {},
     "output_type": "display_data"
    },
    {
     "name": "stdout",
     "output_type": "stream",
     "text": [
      "Map has been displayed inline and saved as 'results\\routes_with_buffers_map-2025-06-11_11-34-10_93660.html'.\n",
      "Map saved to: c:\\Users\\HUAWEI\\CanterburyCommuto\\CanterburyCommuto\\canterburycommuto\\notebooks\\results\\routes_with_buffers_map-2025-06-11_11-34-10_33925.html\n",
      "Warning: Not enough points to create buffer. Returning None.\n",
      "Map saved to: c:\\Users\\HUAWEI\\CanterburyCommuto\\CanterburyCommuto\\canterburycommuto\\notebooks\\results\\routes_with_buffers_map-2025-06-11_11-34-10_91391.html\n"
     ]
    },
    {
     "data": {
      "text/html": [
       "\n",
       "        <iframe\n",
       "            width=\"100%\"\n",
       "            height=\"600px\"\n",
       "            src=\"results\\routes_with_buffers_map-2025-06-11_11-34-10_33925.html\"\n",
       "            frameborder=\"0\"\n",
       "            allowfullscreen\n",
       "            \n",
       "        ></iframe>\n",
       "        "
      ],
      "text/plain": [
       "<IPython.lib.display.IFrame at 0x1559cf4e120>"
      ]
     },
     "metadata": {},
     "output_type": "display_data"
    },
    {
     "data": {
      "text/html": [
       "\n",
       "        <iframe\n",
       "            width=\"100%\"\n",
       "            height=\"600px\"\n",
       "            src=\"results\\routes_with_buffers_map-2025-06-11_11-34-10_91391.html\"\n",
       "            frameborder=\"0\"\n",
       "            allowfullscreen\n",
       "            \n",
       "        ></iframe>\n",
       "        "
      ],
      "text/plain": [
       "<IPython.lib.display.IFrame at 0x1559cd545c0>"
      ]
     },
     "metadata": {},
     "output_type": "display_data"
    },
    {
     "name": "stdout",
     "output_type": "stream",
     "text": [
      "Map has been displayed inline and saved as 'results\\routes_with_buffers_map-2025-06-11_11-34-10_33925.html'.\n",
      "Map saved to: c:\\Users\\HUAWEI\\CanterburyCommuto\\CanterburyCommuto\\canterburycommuto\\notebooks\\results\\routes_with_buffers_map-2025-06-11_11-34-10_81514.html\n",
      "Map has been displayed inline and saved as 'results\\routes_with_buffers_map-2025-06-11_11-34-10_91391.html'.\n",
      "Map saved to: c:\\Users\\HUAWEI\\CanterburyCommuto\\CanterburyCommuto\\canterburycommuto\\notebooks\\results\\routes_with_buffers_map-2025-06-11_11-34-10_58946.html\n"
     ]
    },
    {
     "data": {
      "text/html": [
       "\n",
       "        <iframe\n",
       "            width=\"100%\"\n",
       "            height=\"600px\"\n",
       "            src=\"results\\routes_with_buffers_map-2025-06-11_11-34-10_58946.html\"\n",
       "            frameborder=\"0\"\n",
       "            allowfullscreen\n",
       "            \n",
       "        ></iframe>\n",
       "        "
      ],
      "text/plain": [
       "<IPython.lib.display.IFrame at 0x1559bb0e480>"
      ]
     },
     "metadata": {},
     "output_type": "display_data"
    },
    {
     "data": {
      "text/html": [
       "\n",
       "        <iframe\n",
       "            width=\"100%\"\n",
       "            height=\"600px\"\n",
       "            src=\"results\\routes_with_buffers_map-2025-06-11_11-34-10_81514.html\"\n",
       "            frameborder=\"0\"\n",
       "            allowfullscreen\n",
       "            \n",
       "        ></iframe>\n",
       "        "
      ],
      "text/plain": [
       "<IPython.lib.display.IFrame at 0x1559bc56ba0>"
      ]
     },
     "metadata": {},
     "output_type": "display_data"
    },
    {
     "name": "stdout",
     "output_type": "stream",
     "text": [
      "Map has been displayed inline and saved as 'results\\routes_with_buffers_map-2025-06-11_11-34-10_81514.html'.\n",
      "Map has been displayed inline and saved as 'results\\routes_with_buffers_map-2025-06-11_11-34-10_58946.html'.\n",
      "Map saved to: c:\\Users\\HUAWEI\\CanterburyCommuto\\CanterburyCommuto\\canterburycommuto\\notebooks\\results\\routes_with_buffers_map-2025-06-11_11-34-10_24020.html\n"
     ]
    },
    {
     "data": {
      "text/html": [
       "\n",
       "        <iframe\n",
       "            width=\"100%\"\n",
       "            height=\"600px\"\n",
       "            src=\"results\\routes_with_buffers_map-2025-06-11_11-34-10_24020.html\"\n",
       "            frameborder=\"0\"\n",
       "            allowfullscreen\n",
       "            \n",
       "        ></iframe>\n",
       "        "
      ],
      "text/plain": [
       "<IPython.lib.display.IFrame at 0x1559d18c620>"
      ]
     },
     "metadata": {},
     "output_type": "display_data"
    },
    {
     "name": "stdout",
     "output_type": "stream",
     "text": [
      "Map has been displayed inline and saved as 'results\\routes_with_buffers_map-2025-06-11_11-34-10_24020.html'.\n",
      "Map saved to: c:\\Users\\HUAWEI\\CanterburyCommuto\\CanterburyCommuto\\canterburycommuto\\notebooks\\results\\routes_with_buffers_map-2025-06-11_11-34-10_34922.html\n"
     ]
    },
    {
     "data": {
      "text/html": [
       "\n",
       "        <iframe\n",
       "            width=\"100%\"\n",
       "            height=\"600px\"\n",
       "            src=\"results\\routes_with_buffers_map-2025-06-11_11-34-10_34922.html\"\n",
       "            frameborder=\"0\"\n",
       "            allowfullscreen\n",
       "            \n",
       "        ></iframe>\n",
       "        "
      ],
      "text/plain": [
       "<IPython.lib.display.IFrame at 0x1559d18f740>"
      ]
     },
     "metadata": {},
     "output_type": "display_data"
    },
    {
     "name": "stdout",
     "output_type": "stream",
     "text": [
      "Map has been displayed inline and saved as 'results\\routes_with_buffers_map-2025-06-11_11-34-10_34922.html'.\n",
      "Warning: One or both buffer polygons are None. Cannot compute intersection.\n",
      "Error fetching directions: NOT_FOUND\n",
      "Error fetching directions: NOT_FOUND\n",
      "Error fetching directions: NOT_FOUND\n",
      "Warning: Not enough points to create buffer. Returning None.\n",
      "Warning: Not enough points to create buffer. Returning None.Warning: Not enough points to create buffer. Returning None.\n",
      "\n",
      "Warning: One or both buffer polygons are None. Cannot compute intersection.\n",
      "Warning: One or both buffer polygons are None. Cannot compute intersection.\n",
      "Warning: One or both buffer polygons are None. Cannot compute intersection.\n",
      "Log file saved to: c:\\Users\\HUAWEI\\CanterburyCommuto\\CanterburyCommuto\\canterburycommuto\\notebooks\\results\\Tom.log\n"
     ]
    }
   ],
   "source": [
    "Overlap_Function(\n",
    "    \"origin_destination_test.csv\",\n",
    "    None,\n",
    "    \"home_A_latitude\",\"home_A_longitude\",\"work_A_latitude\",\"work_A_longitude\",\"home_B_latitude\",\"home_B_longitude\",\"work_B_latitude\",\"work_B_longitude\", None,\n",
    "    50, 100, 100,\"exact\", \"yes\",\n",
    "    output_file = \"Tom\", skip_invalid=True, save_api_info=True\n",
    ")\n"
   ]
  },
  {
   "cell_type": "markdown",
   "id": "7acc47e0",
   "metadata": {},
   "source": [
    "### Buffer Route Intersection Method (only Overlap Information)"
   ]
  },
  {
   "cell_type": "code",
   "execution_count": 3,
   "id": "0722de74",
   "metadata": {},
   "outputs": [
    {
     "name": "stdout",
     "output_type": "stream",
     "text": [
      "\n",
      "[INFO] Estimated number of API requests: 42\n",
      "[INFO] Estimated cost: $0.21\n",
      "[NOTICE] Actual cost may be higher or lower depending on Google’s pricing tiers and route pair complexity.\n",
      "\n",
      "[PROCESSING] Proceeding with route analysis...\n",
      "\n",
      "Error fetching directions: REQUEST_DENIED\n",
      "Error fetching directions: REQUEST_DENIED\n",
      "Error fetching directions: REQUEST_DENIED\n",
      "Error fetching directions: REQUEST_DENIED\n",
      "Error fetching directions: REQUEST_DENIED\n",
      "Error fetching directions: REQUEST_DENIED\n",
      "Error fetching directions: REQUEST_DENIED\n",
      "Error fetching directions: REQUEST_DENIED\n",
      "Error fetching directions: REQUEST_DENIED\n",
      "Error fetching directions: REQUEST_DENIED\n",
      "Warning: Not enough points to create buffer. Returning None.\n",
      "Warning: Not enough points to create buffer. Returning None.\n",
      "Warning: One or both buffer polygons are None. Cannot compute intersection.\n",
      "Warning: Not enough points to create buffer. Returning None.\n",
      "Warning: Not enough points to create buffer. Returning None.\n",
      "Warning: One or both buffer polygons are None. Cannot compute intersection.\n",
      "Error fetching directions: REQUEST_DENIED\n",
      "Error fetching directions: REQUEST_DENIED\n",
      "Warning: Not enough points to create buffer. Returning None.\n",
      "Warning: Not enough points to create buffer. Returning None.\n",
      "Warning: One or both buffer polygons are None. Cannot compute intersection.\n",
      "Error fetching directions: REQUEST_DENIED\n",
      "Error fetching directions: REQUEST_DENIED\n",
      "Warning: Not enough points to create buffer. Returning None.\n",
      "Warning: Not enough points to create buffer. Returning None.\n",
      "Warning: One or both buffer polygons are None. Cannot compute intersection.\n",
      "Error fetching directions: REQUEST_DENIED\n",
      "Warning: Not enough points to create buffer. Returning None.\n",
      "Warning: Not enough points to create buffer. Returning None.\n",
      "Warning: One or both buffer polygons are None. Cannot compute intersection.\n",
      "Warning: Not enough points to create buffer. Returning None.\n",
      "Error fetching directions: REQUEST_DENIED\n",
      "Warning: Not enough points to create buffer. Returning None.\n",
      "Warning: Not enough points to create buffer. Returning None.\n",
      "Warning: One or both buffer polygons are None. Cannot compute intersection.\n",
      "Error fetching directions: REQUEST_DENIED\n",
      "Warning: Not enough points to create buffer. Returning None.\n",
      "Warning: Not enough points to create buffer. Returning None.\n",
      "Warning: One or both buffer polygons are None. Cannot compute intersection.\n",
      "Log file saved to: c:\\Users\\HUAWEI\\CanterburyCommuto\\CanterburyCommuto\\canterburycommuto\\notebooks\\results\\exact_intersection_buffer_only_overlap-2025-06-11_20-54-51_70618.log\n"
     ]
    }
   ],
   "source": [
    "Overlap_Function(\n",
    "    \"origin_destination_test_ID.csv\",\n",
    "    None,\n",
    "    \"home_A_latitude\",\"home_A_longitude\",\"work_A_latitude\",\"work_A_longitude\",\"home_B_latitude\",\"home_B_longitude\",\"work_B_latitude\",\"work_B_longitude\", \"ID\",\n",
    "    50, 100, 100,\"exact\", \"no\",\n",
    "   skip_invalid=True, save_api_info=True\n",
    ")"
   ]
  }
 ],
 "metadata": {
  "kernelspec": {
   "display_name": "base",
   "language": "python",
   "name": "python3"
  },
  "language_info": {
   "codemirror_mode": {
    "name": "ipython",
    "version": 3
   },
   "file_extension": ".py",
   "mimetype": "text/x-python",
   "name": "python",
   "nbconvert_exporter": "python",
   "pygments_lexer": "ipython3",
   "version": "3.12.4"
  }
 },
 "nbformat": 4,
 "nbformat_minor": 5
}
