{
 "cells": [
  {
   "cell_type": "code",
   "id": "initial_id",
   "metadata": {
    "collapsed": true,
    "ExecuteTime": {
     "end_time": "2025-06-17T22:13:39.961270Z",
     "start_time": "2025-06-17T22:13:39.927955Z"
    }
   },
   "source": [
    "import os\n",
    "\n",
    "import plotly.graph_objects as go\n",
    "from plotly.subplots import make_subplots\n",
    "import plotly.io as pio\n",
    "\n",
    "import analysis.utils as u\n",
    "\n",
    "pio.renderers.default = \"browser\""
   ],
   "outputs": [],
   "execution_count": 3
  },
  {
   "metadata": {
    "ExecuteTime": {
     "end_time": "2025-06-18T06:34:10.586531Z",
     "start_time": "2025-06-18T06:34:10.565926Z"
    }
   },
   "cell_type": "code",
   "source": [
    "# PATHS\n",
    "LUND_PATH = os.path.join(u.OUTPUT_DIR, \"article_results\", \"lund2013\", \"figures\")\n",
    "HFC_PATH = os.path.join(u.OUTPUT_DIR, \"article_results\", \"hfc\", \"figures\")\n",
    "OUT_PATH = os.path.join(u.BASE_DIR, \"article\", \"poster\", \"figures2\")\n",
    "os.makedirs(OUT_PATH, exist_ok=True)\n",
    "\n",
    "# VISUALIZATION SETTINGS\n",
    "GRID_LINE_COLOR, GRID_LINE_WIDTH = \"lightgray\", 1\n",
    "ZERO_LINE_WIDTH = 2 * GRID_LINE_WIDTH\n",
    "\n",
    "SINGLE_MEASURE_OPACITY, MEDIAN_OPACITY = 0.2, 1.0\n",
    "SINGLE_MEASURE_LINE = dict(width=2 * GRID_LINE_WIDTH)\n",
    "SINGLE_MEASURE_MARKER = dict(symbol=\"circle-open\", size=6 * GRID_LINE_WIDTH,)\n",
    "MEADIAN_LINE = dict(width=SINGLE_MEASURE_LINE['width'])\n",
    "MEADIAN_MARKER = dict(symbol=\"circle\", size=2 * SINGLE_MEASURE_MARKER['size'],)\n",
    "\n",
    "FONT_FAMILY, FONT_COLOR = \"Calibri\", \"black\"\n",
    "TITLE_FONT = dict(family=FONT_FAMILY, size=28, color=FONT_COLOR)\n",
    "SUBTITLE_FONT = dict(family=FONT_FAMILY, size=24, color=FONT_COLOR)\n",
    "AXIS_LABEL_FONT = dict(family=FONT_FAMILY, size=22, color=FONT_COLOR)\n",
    "AXIS_TICK_FONT = dict(family=FONT_FAMILY, size=20, color=FONT_COLOR)\n",
    "AXIS_LABEL_STANDOFF = 3"
   ],
   "id": "9d249d5814fb7888",
   "outputs": [],
   "execution_count": 43
  },
  {
   "metadata": {},
   "cell_type": "markdown",
   "source": "## pEYES Example - Single Trial",
   "id": "4b6e526747533647"
  },
  {
   "metadata": {
    "ExecuteTime": {
     "end_time": "2025-06-17T22:11:13.467242Z",
     "start_time": "2025-06-17T22:11:07.121228Z"
    }
   },
   "cell_type": "code",
   "source": [
    "with open(os.path.join(LUND_PATH, \"supp_fig_A1.json\"), 'r') as f:\n",
    "    lund_fig = pio.from_json(f.read())\n",
    "\n",
    "lund_fig.show()"
   ],
   "id": "3e6f8bb057afdc6d",
   "outputs": [],
   "execution_count": 2
  },
  {
   "metadata": {},
   "cell_type": "markdown",
   "source": "## Sample-Level Agreement",
   "id": "5108010e07ccac03"
  },
  {
   "metadata": {
    "ExecuteTime": {
     "end_time": "2025-06-18T06:35:55.503242Z",
     "start_time": "2025-06-18T06:35:54.878087Z"
    }
   },
   "cell_type": "code",
   "source": [
    "with open(os.path.join(LUND_PATH, \"fig_2-RA.json\"), 'r') as f:\n",
    "    lund_fig = pio.from_json(f.read())\n",
    "with open(os.path.join(HFC_PATH, \"fig1-sample_agreement.json\"), 'r') as f:\n",
    "    hfc_fig = pio.from_json(f.read())\n",
    "\n",
    "\n",
    "sample_fig = make_subplots(\n",
    "    rows=1, cols=2, shared_yaxes=True,\n",
    "    subplot_titles=[\"<b><i>lund2013</i></b>\", \"<b><i>HFC</i></b>\"],\n",
    "    horizontal_spacing=0.025\n",
    ")\n",
    "for tr in lund_fig.data:\n",
    "    if tr[\"scalegroup\"] != \"cohen's_kappa\":\n",
    "        continue\n",
    "    tr[\"scalegroup\"] = \"lund\"\n",
    "    tr[\"meanline\"] = {'color': 'lightgray', 'visible': True, 'width': 3}\n",
    "    sample_fig.add_trace(\n",
    "        tr,\n",
    "        row=1, col=1\n",
    "    )\n",
    "for tr in hfc_fig.data:\n",
    "    if tr[\"scalegroup\"] != \"cohen's_kappa\":\n",
    "        continue\n",
    "    if tr[\"yaxis\"] != \"y2\":\n",
    "        # only use RA as GT\n",
    "        continue\n",
    "    if tr[\"name\"] == \"2<sup>nd</sup> Ann.\":\n",
    "        tr[\"name\"] = tr[\"legendgroup\"] = tr[\"y0\"] = \"Ann. MN\"\n",
    "    tr[\"scalegroup\"] = \"hfc\"\n",
    "    sample_fig.add_trace(\n",
    "        tr,\n",
    "        row=1, col=2\n",
    "    )\n",
    "\n",
    "sample_fig.for_each_trace(lambda tr: tr.update(width=1.75))\n",
    "sample_fig.for_each_annotation(lambda ann: ann.update(font=SUBTITLE_FONT, y=1.0, yanchor=\"bottom\"))\n",
    "sample_fig.for_each_xaxis(lambda xax: xax.update(\n",
    "    title=dict(text=\"Cohen's <i>K</i>\", font=AXIS_LABEL_FONT, standoff=AXIS_LABEL_STANDOFF),\n",
    "    range=[-0.05, 1.05],\n",
    "    showline=False,\n",
    "    showgrid=True, gridcolor=GRID_LINE_COLOR, gridwidth=GRID_LINE_WIDTH,\n",
    "    zeroline=True, zerolinecolor=GRID_LINE_COLOR, zerolinewidth=ZERO_LINE_WIDTH,\n",
    "    tickfont=AXIS_TICK_FONT,\n",
    "))\n",
    "sample_fig.update_yaxes(\n",
    "    title=dict(text=\"Detector\", font=AXIS_LABEL_FONT, standoff=AXIS_LABEL_STANDOFF), row=1, col=1\n",
    ")\n",
    "sample_fig.for_each_yaxis(lambda yax: yax.update(\n",
    "    showline=False,\n",
    "    showgrid=True, gridcolor=GRID_LINE_COLOR, gridwidth=GRID_LINE_WIDTH,\n",
    "    zeroline=True, zerolinecolor=GRID_LINE_COLOR, zerolinewidth=ZERO_LINE_WIDTH,\n",
    "    tickfont=AXIS_TICK_FONT,\n",
    "))\n",
    "sample_fig.update_layout(\n",
    "    width=1500, height=500,\n",
    "    paper_bgcolor='rgba(0, 0, 0, 0)',\n",
    "    plot_bgcolor='rgba(0, 0, 0, 0)',\n",
    "    margin=dict(l=0, r=0, b=0, t=25, pad=0),\n",
    ")\n",
    "\n",
    "sample_fig.write_image(os.path.join(OUT_PATH, \"sample_agreement.png\"), scale=3,)\n",
    "sample_fig.show()"
   ],
   "id": "5b3c20a5e2e8e1f7",
   "outputs": [],
   "execution_count": 45
  },
  {
   "metadata": {},
   "cell_type": "markdown",
   "source": "##",
   "id": "bad07989c0ff85e3"
  },
  {
   "metadata": {},
   "cell_type": "code",
   "outputs": [],
   "execution_count": null,
   "source": "",
   "id": "5e0b9ee05befe372"
  },
  {
   "metadata": {},
   "cell_type": "code",
   "outputs": [],
   "execution_count": null,
   "source": "",
   "id": "7868fd3c2be566d2"
  }
 ],
 "metadata": {
  "kernelspec": {
   "display_name": "Python 3",
   "language": "python",
   "name": "python3"
  },
  "language_info": {
   "codemirror_mode": {
    "name": "ipython",
    "version": 2
   },
   "file_extension": ".py",
   "mimetype": "text/x-python",
   "name": "python",
   "nbconvert_exporter": "python",
   "pygments_lexer": "ipython2",
   "version": "2.7.6"
  }
 },
 "nbformat": 4,
 "nbformat_minor": 5
}
