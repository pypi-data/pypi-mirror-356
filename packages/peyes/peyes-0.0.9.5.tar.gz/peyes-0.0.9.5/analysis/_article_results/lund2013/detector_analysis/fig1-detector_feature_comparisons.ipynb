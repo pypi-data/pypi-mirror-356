{
 "cells": [
  {
   "metadata": {},
   "cell_type": "markdown",
   "source": [
    "# Figure 1\n",
    "## Comparing Event Features between Labelers/Detectors"
   ],
   "id": "3fc30d9e08d256e7"
  },
  {
   "metadata": {
    "collapsed": true,
    "ExecuteTime": {
     "end_time": "2025-06-18T06:51:51.543447Z",
     "start_time": "2025-06-18T06:51:51.540467Z"
    }
   },
   "cell_type": "code",
   "source": [
    "import copy\n",
    "\n",
    "import pandas as pd\n",
    "from plotly.subplots import make_subplots\n",
    "import plotly.io as pio\n",
    "\n",
    "from analysis._article_results.lund2013._helpers import *\n",
    "\n",
    "pio.renderers.default = \"browser\""
   ],
   "id": "initial_id",
   "outputs": [],
   "execution_count": 6
  },
  {
   "metadata": {},
   "cell_type": "markdown",
   "source": [
    "## Load Data\n",
    "Load events.pkl"
   ],
   "id": "55346796b02c1bcd"
  },
  {
   "metadata": {
    "ExecuteTime": {
     "end_time": "2025-06-18T06:51:53.710082Z",
     "start_time": "2025-06-18T06:51:51.867768Z"
    }
   },
   "cell_type": "code",
   "source": [
    "stim_trial_ids = u.get_trials_for_stimulus_type(DATASET_NAME, STIMULUS_TYPE)\n",
    "\n",
    "all_events = pd.read_pickle(\n",
    "    os.path.join(PROCESSED_DATA_DIR, DATASET_NAME, \"events.pkl\")\n",
    ").xs(1, level=peyes.constants.ITERATION_STR, axis=1)\n",
    "all_events = all_events.loc[:, all_events.columns.get_level_values(peyes.constants.TRIAL_ID_STR).isin(stim_trial_ids)]\n",
    "all_events = all_events.dropna(axis=0, how=\"all\")\n",
    "\n",
    "all_labelers = all_events.columns.get_level_values(peyes.constants.LABELER_STR).unique()\n",
    "events_by_labelers = {\n",
    "    lblr: all_events.xs(lblr, level=peyes.constants.LABELER_STR, axis=1).stack().dropna() for lblr in all_labelers\n",
    "}\n",
    "fixations_by_labelers = {\n",
    "    lblr: events_by_labelers[lblr][events_by_labelers[lblr].map(lambda evnt: evnt.label == peyes._DataModels.EventLabelEnum.EventLabelEnum.FIXATION)] for lblr in all_labelers\n",
    "}\n",
    "saccades_by_labelers = {\n",
    "    lblr: events_by_labelers[lblr][events_by_labelers[lblr].map(lambda evnt: evnt.label == peyes._DataModels.EventLabelEnum.EventLabelEnum.SACCADE)] for lblr in all_labelers\n",
    "}"
   ],
   "id": "37c57b16adf08089",
   "outputs": [],
   "execution_count": 7
  },
  {
   "metadata": {},
   "cell_type": "markdown",
   "source": [
    "## Create Figure\n",
    "#### TOP: Fixation Features\n",
    "#### BOTTOM: Saccade Features"
   ],
   "id": "e28004ac32cffa4d"
  },
  {
   "metadata": {
    "ExecuteTime": {
     "end_time": "2025-06-18T06:51:54.042325Z",
     "start_time": "2025-06-18T06:51:54.038827Z"
    }
   },
   "cell_type": "code",
   "source": [
    "NAME = \"fig_1\"\n",
    "W, H = 1600, 900\n",
    "\n",
    "FEATURES = [peyes.constants.COUNT_STR, peyes.constants.DURATION_STR, peyes.constants.AMPLITUDE_STR]\n",
    "ROW_TITLES = [\"Fixations\", \"Saccades\"]\n",
    "COLUMN_TITLES = [\"# Instances\", \"Duration (ms)\", \"Amplitude (°)\"]\n",
    "PLOT_TITLES = [f\"{evnt[:-1]} {feat.title()}\" for evnt in ROW_TITLES for feat in FEATURES]\n",
    "\n",
    "FONT_FAMILY, FONT_COLOR = \"Calibri\", \"black\"\n",
    "TITLE_FONT = dict(family=FONT_FAMILY, size=28, color=FONT_COLOR)\n",
    "SUBTITLE_FONT = dict(family=FONT_FAMILY, size=26, color=FONT_COLOR)\n",
    "AXIS_LABEL_FONT = dict(family=FONT_FAMILY, size=22, color=FONT_COLOR)\n",
    "AXIS_TICK_FONT = dict(family=FONT_FAMILY, size=18, color=FONT_COLOR)\n",
    "GRID_WIDTH, GRID_COLOR = 1.0, \"lightgray\""
   ],
   "id": "ac7cdc1fbc1068d",
   "outputs": [],
   "execution_count": 8
  },
  {
   "metadata": {
    "ExecuteTime": {
     "end_time": "2025-06-18T06:52:05.702770Z",
     "start_time": "2025-06-18T06:51:54.312840Z"
    }
   },
   "cell_type": "code",
   "source": [
    "peyes_fixations_fig = peyes.visualize.feature_comparison(\n",
    "    FEATURES, *list(fixations_by_labelers.values()), labels=fixations_by_labelers.keys(), colors={k: v[1] for k, v in LABELER_PLOTTING_CONFIG.items()}\n",
    ")\n",
    "peyes_saccades_fig = peyes.visualize.feature_comparison(\n",
    "    FEATURES, *list(saccades_by_labelers.values()), labels=saccades_by_labelers.keys(), colors={k: v[1] for k, v in LABELER_PLOTTING_CONFIG.items()}\n",
    ")"
   ],
   "id": "d3e5099569aa7ded",
   "outputs": [],
   "execution_count": 9
  },
  {
   "metadata": {
    "ExecuteTime": {
     "end_time": "2025-06-18T06:52:06.700021Z",
     "start_time": "2025-06-18T06:52:05.979407Z"
    }
   },
   "cell_type": "code",
   "source": [
    "final_fig = make_subplots(\n",
    "    rows=2, cols=len(FEATURES),\n",
    "    shared_yaxes='rows', shared_xaxes=False,\n",
    "    vertical_spacing=0.1, horizontal_spacing=0.02,\n",
    "    subplot_titles=PLOT_TITLES, column_titles=COLUMN_TITLES,\n",
    ")\n",
    "for r in range(2):\n",
    "    existing_fig = peyes_fixations_fig if r == 0 else peyes_saccades_fig\n",
    "    for c in range(len(FEATURES)):\n",
    "        yaxis = \"y\" if c == 0 else f\"y{c+1}\"\n",
    "        for tr in existing_fig['data']:\n",
    "            if tr['yaxis'] == yaxis:\n",
    "                new_tr = copy.deepcopy(tr)\n",
    "                new_tr['showlegend'] = (r==0) & (c==0)\n",
    "                new_tr['opacity'] = 0.95\n",
    "                if c == 0:\n",
    "                    new_tr['offset'] = 0\n",
    "                    new_tr['width'] = 0.8\n",
    "                    # add \"cross\" pattern to GT annotators:\n",
    "                    new_tr['marker_pattern_shape'] = 'x' if new_tr['name'] in [GT1, GT2] else ''\n",
    "                else:\n",
    "                    new_tr['width'] = 1.8\n",
    "                    new_tr['meanline'] = new_tr['box'] = None\n",
    "                    new_tr['points'] = False\n",
    "                final_fig.add_trace(new_tr, row=r+1, col=c+1)\n",
    "\n",
    "# rename detector traces\n",
    "for tr in final_fig.data:\n",
    "    name = tr['name']\n",
    "    if name in [GT1, GT2]:\n",
    "        tr['name'] = tr[\"legendgroup\"] = f\"Ann. {name}\"\n",
    "    elif name.startswith(\"i\"):\n",
    "        tr['name'] = tr[\"legendgroup\"] = name.replace(\"i\", \"I-\").upper()\n",
    "    elif name == \"remodnav\":\n",
    "        tr['name'] = tr[\"legendgroup\"] = \"REMoDNaV\"\n",
    "    else:\n",
    "        tr['name'] = tr[\"legendgroup\"] = name.upper()\n",
    "    if tr['width'] == 0.8:  # (differentiates Box and Violin plots)\n",
    "        tr['y'] = [tr['name']]\n",
    "\n",
    "# update axes titles and ticks\n",
    "final_fig.update_yaxes(\n",
    "    tickfont=AXIS_TICK_FONT,\n",
    "    showgrid=True, gridcolor=GRID_COLOR, gridwidth=GRID_WIDTH,\n",
    "    zeroline=True, zerolinecolor=GRID_COLOR, zerolinewidth=GRID_WIDTH,\n",
    ")\n",
    "final_fig.update_yaxes(\n",
    "    title=dict(text=\"Detector\", font=AXIS_LABEL_FONT, standoff=4),\n",
    "    row=1, col=1,\n",
    ")\n",
    "final_fig.update_yaxes(\n",
    "    title=dict(text=\"Detector\", font=AXIS_LABEL_FONT, standoff=4),\n",
    "    row=2, col=1,\n",
    ")\n",
    "final_fig.update_xaxes(\n",
    "    tickfont=AXIS_TICK_FONT,\n",
    "    showgrid=True, gridcolor=GRID_COLOR, gridwidth=GRID_WIDTH,\n",
    "    zeroline=True, zerolinecolor=GRID_COLOR, zerolinewidth=GRID_WIDTH,\n",
    ")\n",
    "\n",
    "# update annotation sizes and locations\n",
    "for ann in final_fig.layout.annotations:\n",
    "    if ann.text in COLUMN_TITLES:\n",
    "        ann.update(font=AXIS_LABEL_FONT, yref='paper', yanchor='top', y=-0.03,)\n",
    "    elif ann.text in ROW_TITLES:\n",
    "        ann.update(\n",
    "            font=TITLE_FONT, textangle=0,\n",
    "            xref='paper', xanchor='center', x=0.5,\n",
    "            yref='paper', yanchor='top', y=1.075 if ann.text == ROW_TITLES[0] else 0.52,\n",
    "        )\n",
    "    elif ann.text in PLOT_TITLES:\n",
    "        ann.update(\n",
    "            font=SUBTITLE_FONT, textangle=0,\n",
    "            xref='paper', xanchor='center', x=[0.14, 0.5, 0.825][PLOT_TITLES.index(ann.text) % 3],\n",
    "            yref='paper', yanchor='top', y=1.04 if ann.text.startswith(\"Fixation\") else 0.48,\n",
    "        )\n",
    "\n",
    "final_fig.update_layout(\n",
    "    width=W, height=H,\n",
    "    paper_bgcolor='rgba(0, 0, 0, 0)', plot_bgcolor='rgba(0, 0, 0, 0)',\n",
    "    margin=dict(l=0, r=0, b=50, t=50, pad=0),\n",
    "\n",
    "    # move legend to bottom\n",
    "    legend=dict(orientation=\"h\", yanchor=\"top\", xanchor=\"center\", xref='container', yref='container', x=0.5, y=0.05),\n",
    "    showlegend=False,   # hide legend\n",
    "\n",
    "    # set x-axis range\n",
    "    xaxis2=dict(range=[50, 850], tickmode='linear', tick0=50, dtick=200),\n",
    "    xaxis3=dict(range=[0, 5], tickmode='linear', tick0=0, dtick=1),\n",
    "    xaxis5=dict(range=[10, 80], tickmode='linear', tick0=10, dtick=17.5),\n",
    "    xaxis6=dict(range=[0, 15], tickmode='linear', tick0=0, dtick=3),\n",
    ")\n",
    "\n",
    "final_fig.write_image(os.path.join(FIGURES_DIR, f\"{NAME}.png\"), scale=3)\n",
    "# final_fig.write_json(os.path.join(FIGURES_DIR, f\"{NAME}.json\"))\n",
    "final_fig.show()"
   ],
   "id": "148a02b19bd2dd9a",
   "outputs": [],
   "execution_count": 10
  },
  {
   "metadata": {
    "ExecuteTime": {
     "end_time": "2025-06-18T06:52:07.025731Z",
     "start_time": "2025-06-18T06:52:07.023101Z"
    }
   },
   "cell_type": "code",
   "source": "",
   "id": "4eb3975b8a9c39a9",
   "outputs": [],
   "execution_count": null
  }
 ],
 "metadata": {
  "kernelspec": {
   "display_name": "Python 3",
   "language": "python",
   "name": "python3"
  },
  "language_info": {
   "codemirror_mode": {
    "name": "ipython",
    "version": 2
   },
   "file_extension": ".py",
   "mimetype": "text/x-python",
   "name": "python",
   "nbconvert_exporter": "python",
   "pygments_lexer": "ipython2",
   "version": "2.7.6"
  }
 },
 "nbformat": 4,
 "nbformat_minor": 5
}
