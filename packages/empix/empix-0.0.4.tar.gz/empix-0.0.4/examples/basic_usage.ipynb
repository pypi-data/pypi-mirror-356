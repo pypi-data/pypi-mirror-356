{
 "cells": [
  {
   "cell_type": "markdown",
   "id": "6bb7f461",
   "metadata": {},
   "source": [
    "# Basic usage of the ``empix`` library #"
   ]
  },
  {
   "cell_type": "markdown",
   "id": "5d6d9cd7",
   "metadata": {},
   "source": [
    "## A NOTE BEFORE STARTING ##"
   ]
  },
  {
   "cell_type": "markdown",
   "id": "880421e9",
   "metadata": {},
   "source": [
    "Since the ``empix`` git repository tracks this notebook under its original\n",
    "basename ``basic_usage.ipynb``, we recommend that you copy the original notebook\n",
    "and rename it to any other basename that is not one of the original basenames\n",
    "that appear in the ``<root>/examples`` directory before executing any of the\n",
    "notebook cells below, where ``<root>`` is the root of the ``empix``\n",
    "repository. This way you can explore the notebook by executing and modifying\n",
    "cells without changing the original notebook, which is being tracked by git."
   ]
  },
  {
   "cell_type": "markdown",
   "id": "12b0d90e",
   "metadata": {},
   "source": [
    "## Import necessary modules ##"
   ]
  },
  {
   "cell_type": "code",
   "execution_count": null,
   "id": "e7f9787f",
   "metadata": {},
   "outputs": [],
   "source": [
    "# For general array handling and constructing random number generators.\n",
    "import numpy as np\n",
    "\n",
    "# For creating hyperspy signals.\n",
    "import hyperspy.signals\n",
    "import hyperspy.axes\n",
    "\n",
    "\n",
    "\n",
    "# The library that is the subject of this demonstration.\n",
    "import empix"
   ]
  },
  {
   "cell_type": "code",
   "execution_count": null,
   "id": "c97d0485-cf65-478b-80c4-d5d294879c26",
   "metadata": {},
   "outputs": [],
   "source": [
    "%matplotlib ipympl\n",
    "%matplotlib ipympl"
   ]
  },
  {
   "cell_type": "markdown",
   "id": "e667d633",
   "metadata": {},
   "source": [
    "## Introduction ##"
   ]
  },
  {
   "cell_type": "markdown",
   "id": "ec7f2509",
   "metadata": {},
   "source": [
    "In this notebook, we demonstrate how one can use each function and class in the\n",
    "``empix`` library.\n",
    "\n",
    "You can find the documentation for the ``empix`` library\n",
    "[here](https://mrfitzpa.github.io/empix/_autosummary/empix.html).  It is\n",
    "recommended that you consult the documentation of this library as you explore\n",
    "the notebook. Moreover, users should execute the cells in the order that they\n",
    "appear, i.e. from top to bottom, as some cells reference variables that are set\n",
    "in other cells above them."
   ]
  },
  {
   "cell_type": "markdown",
   "id": "ee0993ba",
   "metadata": {},
   "source": [
    "## Using the ``empix`` library ##"
   ]
  },
  {
   "cell_type": "markdown",
   "id": "2b036006-1286-4ea6-b2da-0506955edc91",
   "metadata": {},
   "source": [
    "### Creating the input ``hyperspy`` signals. ###"
   ]
  },
  {
   "cell_type": "markdown",
   "id": "21a2529c",
   "metadata": {},
   "source": [
    "Let's create two 2D ``hyperspy`` signals to use as input signals for most of the\n",
    "functions in the ``empix`` library."
   ]
  },
  {
   "cell_type": "code",
   "execution_count": null,
   "id": "95e9d148-93fc-48d2-98ca-4164fec67b45",
   "metadata": {},
   "outputs": [],
   "source": [
    "def generate_real_2d_input_signal():\n",
    "    complex_2d_input_signal = generate_complex_2d_input_signal()\n",
    "    \n",
    "    real_2d_input_signal = complex_2d_input_signal.real\n",
    "    real_2d_input_signal.metadata.General.title = \"First Real 2D Input\"\n",
    "    real_2d_input_signal.metadata.max_imag_val_inside_ring = 0\n",
    "    real_2d_input_signal.metadata.avg_imag_val_inside_ring = 0\n",
    "\n",
    "    real_2d_input_signal.axes_manager[-2].name = \"$x$\"\n",
    "    real_2d_input_signal.axes_manager[-2].units = \"Å\"\n",
    "\n",
    "    real_2d_input_signal.axes_manager[-1].name = \"$y$\"\n",
    "    real_2d_input_signal.axes_manager[-1].units = \"Å\"\n",
    "\n",
    "    return real_2d_input_signal\n",
    "\n",
    "\n",
    "\n",
    "def generate_complex_2d_input_signal():\n",
    "    kwargs = {\"data\": generate_complex_2d_input_signal_data(), \n",
    "              \"metadata\": generate_complex_2d_input_signal_metadata()}\n",
    "    complex_2d_input_signal = hyperspy.signals.ComplexSignal2D(**kwargs)\n",
    "\n",
    "    axes = generate_complex_2d_input_signal_axes()\n",
    "\n",
    "    for axis_idx, axis in enumerate(axes):\n",
    "        complex_2d_input_signal.axes_manager[axis_idx].update_from(axis)\n",
    "        complex_2d_input_signal.axes_manager[axis_idx].name = axis.name\n",
    "        complex_2d_input_signal.axes_manager[axis_idx].units = axis.units\n",
    "\n",
    "    return complex_2d_input_signal\n",
    "\n",
    "\n",
    "\n",
    "def generate_complex_2d_input_signal_data():\n",
    "    signal_data_shape = generate_complex_2d_input_signal_data_shape()\n",
    "    Y_dim, X_dim, v_dim, h_dim = signal_data_shape\n",
    "\n",
    "    metadata = generate_complex_2d_input_signal_metadata()\n",
    "    ring_centers_in_pixel_coords = metadata[\"ring_centers_in_pixel_coords\"]\n",
    "    inner_ring_radius_in_pixels = metadata[\"inner_ring_radius_in_pixels\"]\n",
    "    outer_ring_radius_in_pixels = metadata[\"outer_ring_radius_in_pixels\"]\n",
    "    max_real_val_inside_ring = metadata[\"max_real_val_inside_ring\"]\n",
    "    max_imag_val_inside_ring = metadata[\"max_imag_val_inside_ring\"]\n",
    "\n",
    "    kwargs = {\"shape\": signal_data_shape, \"dtype\": \"complex\"}\n",
    "    signal_data = np.zeros(**kwargs)\n",
    "\n",
    "    navigation_dims = (Y_dim, X_dim)\n",
    "    num_patterns = Y_dim*X_dim\n",
    "\n",
    "    cols = np.arange(h_dim)\n",
    "    rows = np.arange(v_dim)\n",
    "\n",
    "    pair_of_1d_coord_arrays = (cols, rows)\n",
    "    n_h, n_v = np.meshgrid(*pair_of_1d_coord_arrays, indexing=\"xy\")\n",
    "\n",
    "    for pattern_idx in range(num_patterns):\n",
    "        navigation_indices = np.unravel_index(pattern_idx, navigation_dims)\n",
    "        Y_idx, X_idx = navigation_indices\n",
    "        \n",
    "        n_h_c, n_v_c = ring_centers_in_pixel_coords[Y_idx][X_idx]\n",
    "\n",
    "        n_hv = np.sqrt((n_h-n_h_c)**2 + (n_v-n_v_c)**2)\n",
    "\n",
    "        signal_data.real[navigation_indices] = \\\n",
    "            (inner_ring_radius_in_pixels <= n_hv)\n",
    "        signal_data.real[navigation_indices] *= \\\n",
    "            (n_hv <= outer_ring_radius_in_pixels)\n",
    "        signal_data.imag[navigation_indices] = \\\n",
    "            signal_data.real[navigation_indices]\n",
    "        signal_data.real[*navigation_indices, :, n_h_c:] *= \\\n",
    "            max_real_val_inside_ring\n",
    "        signal_data.imag[*navigation_indices, :, n_h_c:] *= \\\n",
    "            max_imag_val_inside_ring\n",
    "\n",
    "    complex_2d_input_signal_data = signal_data\n",
    "\n",
    "    return complex_2d_input_signal_data\n",
    "\n",
    "\n",
    "\n",
    "def generate_complex_2d_input_signal_data_shape():\n",
    "    complex_2d_input_signal_data_shape = (3, 2, 181, 200)\n",
    "    \n",
    "    return complex_2d_input_signal_data_shape\n",
    "\n",
    "\n",
    "\n",
    "def generate_complex_2d_input_signal_metadata():\n",
    "    axes = generate_complex_2d_input_signal_axes()\n",
    "    h_offset = axes[-2].offset\n",
    "    h_scale = axes[-2].scale\n",
    "    v_offset = axes[-1].offset\n",
    "    v_scale = axes[-1].scale\n",
    "\n",
    "    ring_centers_in_pixel_coords = generate_ring_centers_in_pixel_coords()\n",
    "    \n",
    "    ring_centers = np.array(ring_centers_in_pixel_coords, dtype=\"float\")\n",
    "    ring_centers[:, :, 0] = h_offset + ring_centers[:, :, 0]*h_scale\n",
    "    ring_centers[:, :, 1] = v_offset + ring_centers[:, :, 1]*v_scale\n",
    "    ring_centers = ring_centers.tolist()\n",
    "\n",
    "    inner_ring_radius_in_pixels = 50\n",
    "    outer_ring_radius_in_pixels = 60\n",
    "    inner_ring_radius = abs(h_scale)*inner_ring_radius_in_pixels\n",
    "    outer_ring_radius = abs(h_scale)*outer_ring_radius_in_pixels\n",
    "\n",
    "    max_real_val_inside_ring = 2\n",
    "    max_imag_val_inside_ring = 3\n",
    "\n",
    "    avg_real_val_inside_ring = (1+max_real_val_inside_ring)/2\n",
    "    avg_imag_val_inside_ring = (1+max_imag_val_inside_ring)/2\n",
    "    \n",
    "    metadata = {\"General\": {\"title\": \"First Complex 2D Input\"}, \n",
    "                \"Signal\": dict(), \n",
    "                \"ring_centers_in_pixel_coords\": ring_centers_in_pixel_coords, \n",
    "                \"ring_centers\": ring_centers,\n",
    "                \"inner_ring_radius_in_pixels\": inner_ring_radius_in_pixels, \n",
    "                \"outer_ring_radius_in_pixels\": outer_ring_radius_in_pixels, \n",
    "                \"inner_ring_radius\": inner_ring_radius, \n",
    "                \"outer_ring_radius\": outer_ring_radius, \n",
    "                \"max_real_val_inside_ring\": max_real_val_inside_ring,\n",
    "                \"max_imag_val_inside_ring\": max_imag_val_inside_ring,\n",
    "                \"avg_real_val_inside_ring\": avg_real_val_inside_ring, \n",
    "                \"avg_imag_val_inside_ring\": avg_imag_val_inside_ring}\n",
    "\n",
    "    complex_2d_input_signal_metadata = metadata\n",
    "\n",
    "    return complex_2d_input_signal_metadata\n",
    "\n",
    "\n",
    "\n",
    "def generate_ring_centers_in_pixel_coords():\n",
    "    signal_data_shape = generate_complex_2d_input_signal_data_shape()\n",
    "    Y_dim, X_dim, v_dim, h_dim = signal_data_shape\n",
    "    \n",
    "    ring_centers_in_pixel_coords = np.zeros((Y_dim, X_dim, 2), dtype=\"int\")\n",
    "\n",
    "    for Y_idx in range(Y_dim):\n",
    "        for X_idx in range(X_dim):\n",
    "            n_h_c = (h_dim-1)/2 + 10*(X_idx - (X_dim//2))\n",
    "            n_v_c = (v_dim-1)/2 + 10*(Y_idx - (Y_dim//2))\n",
    "            \n",
    "            ring_centers_in_pixel_coords[Y_idx, X_idx, 0] = n_h_c\n",
    "            ring_centers_in_pixel_coords[Y_idx, X_idx, 1] = n_v_c\n",
    "\n",
    "    ring_centers_in_pixel_coords = ring_centers_in_pixel_coords.tolist()\n",
    "\n",
    "    return ring_centers_in_pixel_coords\n",
    "\n",
    "\n",
    "\n",
    "def generate_complex_2d_input_signal_axes():\n",
    "    signal_data_shape = generate_complex_2d_input_signal_data_shape()\n",
    "    Y_dim, X_dim, v_dim, h_dim = signal_data_shape\n",
    "\n",
    "    d_h = 0.1\n",
    "    d_v = -d_h\n",
    "\n",
    "    axes_sizes = (X_dim, Y_dim, h_dim, v_dim)\n",
    "    axes_scales = (1, 7, d_h, d_v)\n",
    "    axes_offsets = (11, 22, -((h_dim-1)//2)*d_h, ((v_dim-1)//2)*abs(d_v))\n",
    "    axes_names = (\"$X$\", \"$Y$\", \"$k_x$\", \"$k_y$\")\n",
    "    axes_units = (\"mm\", \"mm\", \"1/Å\", \"1/Å\")\n",
    "\n",
    "    axes = tuple()\n",
    "    for axis_idx, _ in enumerate(axes_names):\n",
    "        kwargs = {\"size\": axes_sizes[axis_idx],\n",
    "                  \"scale\": axes_scales[axis_idx],\n",
    "                  \"offset\": axes_offsets[axis_idx],\n",
    "                  \"name\": axes_names[axis_idx], \n",
    "                  \"units\": axes_units[axis_idx]}\n",
    "        axis = hyperspy.axes.UniformDataAxis(**kwargs)\n",
    "        axes += (axis,)\n",
    "\n",
    "    complex_2d_input_signal_axes = axes\n",
    "\n",
    "    return complex_2d_input_signal_axes\n",
    "\n",
    "\n",
    "\n",
    "real_2d_input_signal = generate_real_2d_input_signal()\n",
    "complex_2d_input_signal = generate_complex_2d_input_signal()"
   ]
  },
  {
   "cell_type": "markdown",
   "id": "12349e1c-50b1-443e-9c1e-56fa49d5389d",
   "metadata": {},
   "source": [
    "Let's plot the 2D input signals that we just created. Starting with the \n",
    "real-valued signal."
   ]
  },
  {
   "cell_type": "code",
   "execution_count": null,
   "id": "37d677ba-ce84-48d6-b28a-f0a8ddf7dcf6",
   "metadata": {},
   "outputs": [],
   "source": [
    "kwargs = {\"axes_off\": False, \n",
    "          \"scalebar\": False, \n",
    "          \"colorbar\": False, \n",
    "          \"gamma\": 1,\n",
    "          \"cmap\": \"jet\"}\n",
    "real_2d_input_signal.plot(**kwargs)"
   ]
  },
  {
   "cell_type": "markdown",
   "id": "f661404f-1892-4850-aadb-6a1e45701e8c",
   "metadata": {},
   "source": [
    "And now the complex-valued signal."
   ]
  },
  {
   "cell_type": "code",
   "execution_count": null,
   "id": "f660d95a-9a76-4df4-b072-30d2c4c621a2",
   "metadata": {},
   "outputs": [],
   "source": [
    "kwargs = {\"axes_off\": False, \n",
    "          \"scalebar\": False, \n",
    "          \"colorbar\": False, \n",
    "          \"gamma\": 1,\n",
    "          \"cmap\": \"jet\"}\n",
    "complex_2d_input_signal.plot(**kwargs)"
   ]
  },
  {
   "cell_type": "markdown",
   "id": "fe30931a-1343-491c-a579-29c7f6e2b6b6",
   "metadata": {},
   "source": [
    "Note that we modified the signal axes from their default states. In particular,\n",
    "we rescaled the signal space axes scales by a factor of 10. The default/original\n",
    "signal space scales were equal to unity.\n",
    "\n",
    "Let's also create two 2D ``hyperspy`` signals to use as input signals for one \n",
    "of the functions in the ``empix`` library."
   ]
  },
  {
   "cell_type": "code",
   "execution_count": null,
   "id": "3c222f8f-11b1-4618-ac3f-ac09db882109",
   "metadata": {},
   "outputs": [],
   "source": [
    "def generate_real_1d_input_signal():\n",
    "    complex_1d_input_signal = generate_complex_1d_input_signal()\n",
    "    \n",
    "    real_1d_input_signal = complex_1d_input_signal.real\n",
    "    real_1d_input_signal.metadata.General.title = \"First Real 1D Input\"\n",
    "    real_1d_input_signal.metadata.y_intercept_of_imag_part = 0\n",
    "\n",
    "    real_1d_input_signal.axes_manager[-1].name = \"$r_{xy}$\"\n",
    "    real_1d_input_signal.axes_manager[-1].units = \"Å\"\n",
    "\n",
    "    return real_1d_input_signal\n",
    "\n",
    "\n",
    "\n",
    "def generate_complex_1d_input_signal():\n",
    "    kwargs = {\"data\": generate_complex_1d_input_signal_data(), \n",
    "              \"metadata\": generate_complex_1d_input_signal_metadata()}\n",
    "    complex_1d_input_signal = hyperspy.signals.ComplexSignal1D(**kwargs)\n",
    "\n",
    "    axes = generate_complex_1d_input_signal_axes()\n",
    "\n",
    "    for axis_idx, axis in enumerate(axes):\n",
    "        complex_1d_input_signal.axes_manager[axis_idx].update_from(axis)\n",
    "        complex_1d_input_signal.axes_manager[axis_idx].name = axis.name\n",
    "        complex_1d_input_signal.axes_manager[axis_idx].units = axis.units\n",
    "\n",
    "    return complex_1d_input_signal\n",
    "\n",
    "\n",
    "\n",
    "def generate_complex_1d_input_signal_data():\n",
    "    signal_data_shape = generate_complex_1d_input_signal_data_shape()\n",
    "    Y_dim, X_dim, u_dim = signal_data_shape\n",
    "\n",
    "    metadata = generate_complex_1d_input_signal_metadata()\n",
    "    slopes = metadata[\"slopes\"]\n",
    "    y_intercept_of_real_part = metadata[\"y_intercept_of_real_part\"]\n",
    "    y_intercept_of_imag_part = metadata[\"y_intercept_of_imag_part\"]\n",
    "\n",
    "    kwargs = {\"shape\": signal_data_shape, \"dtype\": \"complex\"}\n",
    "    signal_data = np.zeros(**kwargs)\n",
    "\n",
    "    navigation_dims = (Y_dim, X_dim)\n",
    "    num_patterns = Y_dim*X_dim\n",
    "\n",
    "    axes = generate_complex_1d_input_signal_axes()\n",
    "    d_u = axes[-1].scale\n",
    "\n",
    "    n_u = np.arange(u_dim)\n",
    "\n",
    "    for pattern_idx in range(num_patterns):\n",
    "        navigation_indices = np.unravel_index(pattern_idx, navigation_dims)\n",
    "        Y_idx, X_idx = navigation_indices\n",
    "\n",
    "        u = n_u*d_u\n",
    "        \n",
    "        slope = slopes[Y_idx][X_idx]\n",
    "\n",
    "        signal_data.real[navigation_indices] = (slope*u\n",
    "                                                + y_intercept_of_real_part)\n",
    "        signal_data.imag[navigation_indices] = (slope*u\n",
    "                                                + y_intercept_of_imag_part)\n",
    "\n",
    "    complex_1d_input_signal_data = signal_data\n",
    "\n",
    "    return complex_1d_input_signal_data\n",
    "\n",
    "\n",
    "\n",
    "def generate_complex_1d_input_signal_data_shape():\n",
    "    complex_1d_input_signal_data_shape = (3, 2, 200)\n",
    "    \n",
    "    return complex_1d_input_signal_data_shape\n",
    "\n",
    "\n",
    "\n",
    "def generate_complex_1d_input_signal_metadata():\n",
    "    metadata = {\"General\": {\"title\": \"First Complex 1D Input\"}, \n",
    "                \"Signal\": dict(), \n",
    "                \"slopes\": generate_slopes(), \n",
    "                \"y_intercept_of_real_part\": 0,\n",
    "                \"y_intercept_of_imag_part\": 10}\n",
    "\n",
    "    complex_1d_input_signal_metadata = metadata\n",
    "\n",
    "    return complex_1d_input_signal_metadata\n",
    "\n",
    "\n",
    "\n",
    "def generate_slopes():\n",
    "    signal_data_shape = generate_complex_1d_input_signal_data_shape()\n",
    "    Y_dim, X_dim, r_dim = signal_data_shape\n",
    "    \n",
    "    slopes = np.zeros((Y_dim, X_dim))\n",
    "\n",
    "    for Y_idx in range(Y_dim):\n",
    "        for X_idx in range(X_dim):\n",
    "            slopes[Y_idx, X_idx] = Y_idx*X_dim + X_idx\n",
    "\n",
    "    slopes = slopes.tolist()\n",
    "\n",
    "    return slopes\n",
    "\n",
    "\n",
    "\n",
    "def generate_complex_1d_input_signal_axes():\n",
    "    signal_data_shape = generate_complex_1d_input_signal_data_shape()\n",
    "    Y_dim, X_dim, u_dim = signal_data_shape\n",
    "\n",
    "    axes_sizes = (X_dim, Y_dim, u_dim)\n",
    "    axes_scales = (1, 1, 0.1)\n",
    "    axes_offsets = (0, 0, 0)\n",
    "    axes_names = (\"$X$\", \"$Y$\", \"$k_{xy}$\")\n",
    "    axes_units = (\"mm\", \"mm\", \"1/Å\")\n",
    "\n",
    "    axes = tuple()\n",
    "    for axis_idx, _ in enumerate(axes_names):\n",
    "        kwargs = {\"size\": axes_sizes[axis_idx],\n",
    "                  \"scale\": axes_scales[axis_idx],\n",
    "                  \"offset\": axes_offsets[axis_idx],\n",
    "                  \"name\": axes_names[axis_idx], \n",
    "                  \"units\": axes_units[axis_idx]}\n",
    "        axis = hyperspy.axes.UniformDataAxis(**kwargs)\n",
    "        axes += (axis,)\n",
    "\n",
    "    complex_1d_input_signal_axes = axes\n",
    "\n",
    "    return complex_1d_input_signal_axes\n",
    "\n",
    "\n",
    "\n",
    "real_1d_input_signal = generate_real_1d_input_signal()\n",
    "complex_1d_input_signal = generate_complex_1d_input_signal()"
   ]
  },
  {
   "cell_type": "markdown",
   "id": "ed03c960-6e7e-4eb4-8dd7-870c0641b68c",
   "metadata": {},
   "source": [
    "Let's plot the 1D input signals that we just created. Starting with the \n",
    "real-valued signal."
   ]
  },
  {
   "cell_type": "code",
   "execution_count": null,
   "id": "45ad7c4e-1485-4512-a76e-5b2e2e3bbdd3",
   "metadata": {},
   "outputs": [],
   "source": [
    "kwargs = {\"axes_off\": False, \n",
    "          \"scalebar\": False, \n",
    "          \"colorbar\": False, \n",
    "          \"gamma\": 1,\n",
    "          \"cmap\": \"jet\"}\n",
    "real_1d_input_signal.plot(**kwargs)"
   ]
  },
  {
   "cell_type": "markdown",
   "id": "4318b471-e337-4aa4-b89f-3a7e93ab455f",
   "metadata": {},
   "source": [
    "And now the complex-valued signal."
   ]
  },
  {
   "cell_type": "code",
   "execution_count": null,
   "id": "68bb8574-5b91-4151-9fea-d504b14d1123",
   "metadata": {},
   "outputs": [],
   "source": [
    "kwargs = {\"axes_off\": False, \n",
    "          \"scalebar\": False, \n",
    "          \"colorbar\": False, \n",
    "          \"gamma\": 1,\n",
    "          \"cmap\": \"jet\"}\n",
    "complex_1d_input_signal.plot(**kwargs)"
   ]
  },
  {
   "cell_type": "markdown",
   "id": "5a410f0b-f3f4-4d38-88ab-1485771da362",
   "metadata": {},
   "source": [
    "### Calculating the modulus squared ###"
   ]
  },
  {
   "cell_type": "markdown",
   "id": "0833aa4c-a421-4e4d-8d23-bfd2c7a6aaa6",
   "metadata": {},
   "source": [
    "Let's calculate the modulus squared of each input signal."
   ]
  },
  {
   "cell_type": "code",
   "execution_count": null,
   "id": "2313ba86-bbe9-4cad-b10c-9740a0634115",
   "metadata": {},
   "outputs": [],
   "source": [
    "kwargs = {\"input_signal\": real_2d_input_signal, \"title\": \"foobar\"}\n",
    "output_signal_1 = empix.abs_sq(**kwargs)\n",
    "\n",
    "kwargs = {\"input_signal\": complex_2d_input_signal, \"title\": None}\n",
    "output_signal_2 = empix.abs_sq(**kwargs)\n",
    "\n",
    "kwargs = {\"input_signal\": real_1d_input_signal, \"title\": None}\n",
    "output_signal_3 = empix.abs_sq(**kwargs)\n",
    "\n",
    "kwargs = {\"input_signal\": complex_1d_input_signal, \"title\": None}\n",
    "output_signal_4 = empix.abs_sq(**kwargs)"
   ]
  },
  {
   "cell_type": "markdown",
   "id": "0ef25dfa-8911-4ce9-8fa5-a4e7cc985153",
   "metadata": {},
   "source": [
    "Let's plot the resulting output signals."
   ]
  },
  {
   "cell_type": "code",
   "execution_count": null,
   "id": "0e48dc43-59ca-476e-899f-91d7e67105c3",
   "metadata": {},
   "outputs": [],
   "source": [
    "kwargs = {\"axes_off\": False, \n",
    "          \"scalebar\": False, \n",
    "          \"colorbar\": False, \n",
    "          \"gamma\": 1,\n",
    "          \"cmap\": \"jet\"}\n",
    "output_signal_1.plot(**kwargs)"
   ]
  },
  {
   "cell_type": "code",
   "execution_count": null,
   "id": "d26cda05-7b61-4805-aa4a-19ea39df82b4",
   "metadata": {},
   "outputs": [],
   "source": [
    "kwargs = {\"axes_off\": False, \n",
    "          \"scalebar\": False, \n",
    "          \"colorbar\": False, \n",
    "          \"gamma\": 1,\n",
    "          \"cmap\": \"jet\"}\n",
    "output_signal_2.plot(**kwargs)"
   ]
  },
  {
   "cell_type": "code",
   "execution_count": null,
   "id": "d7d91361-d8ee-424c-965a-4ed7d12f7598",
   "metadata": {},
   "outputs": [],
   "source": [
    "kwargs = {\"axes_off\": False, \n",
    "          \"scalebar\": False, \n",
    "          \"colorbar\": False, \n",
    "          \"gamma\": 1,\n",
    "          \"cmap\": \"jet\"}\n",
    "output_signal_3.plot(**kwargs)"
   ]
  },
  {
   "cell_type": "code",
   "execution_count": null,
   "id": "8fcba94e-a35e-41b2-b80e-f6786ca9df48",
   "metadata": {},
   "outputs": [],
   "source": [
    "kwargs = {\"axes_off\": False, \n",
    "          \"scalebar\": False, \n",
    "          \"colorbar\": False, \n",
    "          \"gamma\": 1,\n",
    "          \"cmap\": \"jet\"}\n",
    "output_signal_4.plot(**kwargs)"
   ]
  },
  {
   "cell_type": "markdown",
   "id": "87a41677-94d4-4a18-a62b-b3feba2f004a",
   "metadata": {},
   "source": [
    "Note that for the first output signal, i.e. ``output_signal_1``, we overwrote\n",
    "the automatically generated default title: rather than the title being\n",
    "\"Modulus Square of Real 2D Input\", we chose the title to be \"foobar\".\n",
    "\n",
    "Moreover, note that for each input signal, the metadata stored therein is copied\n",
    "over to the corresponding output signal, with the title generally being modified\n",
    "afterwards."
   ]
  },
  {
   "cell_type": "code",
   "execution_count": null,
   "id": "1b4de130-a394-45ac-86ed-611eb3fbb9e2",
   "metadata": {},
   "outputs": [],
   "source": [
    "real_2d_input_signal.metadata"
   ]
  },
  {
   "cell_type": "code",
   "execution_count": null,
   "id": "4a55ca5c-5e9a-420e-bd40-909e335ba4d1",
   "metadata": {},
   "outputs": [],
   "source": [
    "output_signal_1.metadata"
   ]
  },
  {
   "cell_type": "markdown",
   "id": "dfab8ea5-17ca-48d5-831f-16512a2fd9e4",
   "metadata": {},
   "source": [
    "All ``empix`` functions will copy the metadata from the input signal into the\n",
    "corresponding output signal and then update the title."
   ]
  },
  {
   "cell_type": "markdown",
   "id": "ffbb4b1d-cfb9-4852-90e9-152931894b7f",
   "metadata": {},
   "source": [
    "### Azimuthally averaging ###"
   ]
  },
  {
   "cell_type": "markdown",
   "id": "9bff4b94-eb72-47e7-9549-bc823048240a",
   "metadata": {},
   "source": [
    "Let's azimuthally average each 2D input signal using the same optional averaging\n",
    "parameters."
   ]
  },
  {
   "cell_type": "code",
   "execution_count": null,
   "id": "8f53104e-cbd8-40ea-8efa-763584273680",
   "metadata": {},
   "outputs": [],
   "source": [
    "# ``X_idx`` and ``Y_idx`` are x- and y-indices in navigation space.\n",
    "Y_idx = 0\n",
    "X_idx = 1\n",
    "\n",
    "metadata = real_2d_input_signal.metadata\n",
    "ring_centers = metadata.ring_centers\n",
    "inner_ring_radius = metadata.inner_ring_radius\n",
    "outer_ring_radius = metadata.outer_ring_radius\n",
    "\n",
    "# ``ring_center`` and ``radial_range`` are in units of signal space axes.\n",
    "ring_center = ring_centers[Y_idx][X_idx]\n",
    "radial_range = (inner_ring_radius/2, outer_ring_radius+1)\n",
    "\n",
    "num_bins = 180\n",
    "\n",
    "kwargs = {\"center\": ring_center,\n",
    "          \"radial_range\": radial_range,\n",
    "          \"num_bins\": num_bins,\n",
    "          \"title\": None}  # Automatically generate default title.\n",
    "optional_params = empix.OptionalAzimuthalAveragingParams(**kwargs)\n",
    "\n",
    "kwargs = {\"input_signal\": real_2d_input_signal, \n",
    "          \"optional_params\": optional_params}\n",
    "output_signal_1 = empix.azimuthally_average(**kwargs)\n",
    "\n",
    "kwargs = {\"input_signal\": complex_2d_input_signal, \n",
    "          \"optional_params\": optional_params}\n",
    "output_signal_2 = empix.azimuthally_average(**kwargs)"
   ]
  },
  {
   "cell_type": "markdown",
   "id": "8a4d6281-19b9-437c-8ae6-613e244bc5c6",
   "metadata": {},
   "source": [
    "Let's plot the resulting output signals."
   ]
  },
  {
   "cell_type": "code",
   "execution_count": null,
   "id": "dc5aa5bf-2823-43a5-a205-f12fffadc883",
   "metadata": {},
   "outputs": [],
   "source": [
    "kwargs = {\"axes_off\": False, \n",
    "          \"scalebar\": False, \n",
    "          \"colorbar\": False, \n",
    "          \"gamma\": 1,\n",
    "          \"cmap\": \"jet\"}\n",
    "output_signal_1.plot(**kwargs)"
   ]
  },
  {
   "cell_type": "code",
   "execution_count": null,
   "id": "4da892d8-c257-4e45-8d5d-17a71614b0e8",
   "metadata": {},
   "outputs": [],
   "source": [
    "kwargs = {\"axes_off\": False, \n",
    "          \"scalebar\": False, \n",
    "          \"colorbar\": False, \n",
    "          \"gamma\": 1,\n",
    "          \"cmap\": \"jet\"}\n",
    "output_signal_2.plot(**kwargs)"
   ]
  },
  {
   "cell_type": "markdown",
   "id": "eb6183ee-a250-4ba1-8eae-e2f638811f4f",
   "metadata": {},
   "source": [
    "### Azimuthally integrating ###"
   ]
  },
  {
   "cell_type": "markdown",
   "id": "a4bac2c9-64b3-4d01-90fb-d7fde215a965",
   "metadata": {},
   "source": [
    "Let's azimuthally integrate each 2D input signal using the same optional\n",
    "integration parameters."
   ]
  },
  {
   "cell_type": "code",
   "execution_count": null,
   "id": "2e251162-c0e9-4e35-b20a-3bf893740fc9",
   "metadata": {},
   "outputs": [],
   "source": [
    "kwargs = {\"center\": ring_center,\n",
    "          \"radial_range\": radial_range,\n",
    "          \"num_bins\": num_bins,\n",
    "          \"title\": None}\n",
    "optional_params = empix.OptionalAzimuthalIntegrationParams(**kwargs)\n",
    "\n",
    "kwargs = {\"input_signal\": real_2d_input_signal, \n",
    "          \"optional_params\": optional_params}\n",
    "output_signal_1 = empix.azimuthally_integrate(**kwargs)\n",
    "\n",
    "kwargs = {\"input_signal\": complex_2d_input_signal, \n",
    "          \"optional_params\": optional_params}\n",
    "output_signal_2 = empix.azimuthally_integrate(**kwargs)"
   ]
  },
  {
   "cell_type": "markdown",
   "id": "29ecd72f-2f23-4c7a-b4de-c2f6110b3307",
   "metadata": {},
   "source": [
    "Let's plot the resulting output signals."
   ]
  },
  {
   "cell_type": "code",
   "execution_count": null,
   "id": "4dd3e7ff-2ab9-4ea6-af5c-684e2d196b60",
   "metadata": {},
   "outputs": [],
   "source": [
    "kwargs = {\"axes_off\": False, \n",
    "          \"scalebar\": False, \n",
    "          \"colorbar\": False, \n",
    "          \"gamma\": 1,\n",
    "          \"cmap\": \"jet\"}\n",
    "output_signal_1.plot(**kwargs)"
   ]
  },
  {
   "cell_type": "code",
   "execution_count": null,
   "id": "616b53aa-69f6-4ce4-859a-90ae50dcf3fc",
   "metadata": {},
   "outputs": [],
   "source": [
    "kwargs = {\"axes_off\": False, \n",
    "          \"scalebar\": False, \n",
    "          \"colorbar\": False, \n",
    "          \"gamma\": 1,\n",
    "          \"cmap\": \"jet\"}\n",
    "output_signal_2.plot(**kwargs)"
   ]
  },
  {
   "cell_type": "markdown",
   "id": "184ffc09-d8b3-4a46-95cb-fa7bbacc3ab1",
   "metadata": {},
   "source": [
    "### Annularly averaging ###"
   ]
  },
  {
   "cell_type": "markdown",
   "id": "660a40e8-b320-42ae-be75-950a9265e6fa",
   "metadata": {},
   "source": [
    "Let's annularly average each 2D input signal using the same optional averaging\n",
    "parameters."
   ]
  },
  {
   "cell_type": "code",
   "execution_count": null,
   "id": "a01e83b7-afb6-4ccb-9d20-ee003166f357",
   "metadata": {},
   "outputs": [],
   "source": [
    "kwargs = {\"center\": ring_center,\n",
    "          \"radial_range\": radial_range,\n",
    "          \"title\": None}\n",
    "optional_params = empix.OptionalAnnularAveragingParams(**kwargs)\n",
    "\n",
    "kwargs = {\"input_signal\": real_2d_input_signal, \n",
    "          \"optional_params\": optional_params}\n",
    "output_signal_1 = empix.annularly_average(**kwargs)\n",
    "\n",
    "kwargs = {\"input_signal\": complex_2d_input_signal, \n",
    "          \"optional_params\": optional_params}\n",
    "output_signal_2 = empix.annularly_average(**kwargs)"
   ]
  },
  {
   "cell_type": "markdown",
   "id": "5c40ec00-fa78-45ba-a7bc-cfdb61fd2e42",
   "metadata": {},
   "source": [
    "Let's plot the resulting output signals."
   ]
  },
  {
   "cell_type": "code",
   "execution_count": null,
   "id": "01de12d1-1b46-4320-b360-139800a70b84",
   "metadata": {},
   "outputs": [],
   "source": [
    "kwargs = {\"axes_off\": False, \n",
    "          \"scalebar\": False, \n",
    "          \"colorbar\": False, \n",
    "          \"gamma\": 1,\n",
    "          \"cmap\": \"jet\"}\n",
    "output_signal_1.plot(**kwargs)"
   ]
  },
  {
   "cell_type": "code",
   "execution_count": null,
   "id": "44cb1875-1026-4fb9-8913-4902f31bbad5",
   "metadata": {},
   "outputs": [],
   "source": [
    "kwargs = {\"axes_off\": False, \n",
    "          \"scalebar\": False, \n",
    "          \"colorbar\": False, \n",
    "          \"gamma\": 1,\n",
    "          \"cmap\": \"jet\"}\n",
    "output_signal_2.plot(**kwargs)"
   ]
  },
  {
   "cell_type": "markdown",
   "id": "04d7f56a-f470-4d1f-a685-2552ae25c0f3",
   "metadata": {},
   "source": [
    "### Annularly integrating ###"
   ]
  },
  {
   "cell_type": "markdown",
   "id": "e37246a4-ee81-424e-96d1-6705d7c2eb5b",
   "metadata": {},
   "source": [
    "Let's annularly average each 2D input signal using the same optional integration\n",
    "parameters."
   ]
  },
  {
   "cell_type": "code",
   "execution_count": null,
   "id": "344753fe-173c-49ac-a99e-f701348717dc",
   "metadata": {},
   "outputs": [],
   "source": [
    "kwargs = {\"center\": ring_center,\n",
    "          \"radial_range\": radial_range,\n",
    "          \"title\": None}\n",
    "optional_params = empix.OptionalAnnularIntegrationParams(**kwargs)\n",
    "\n",
    "kwargs = {\"input_signal\": real_2d_input_signal, \n",
    "          \"optional_params\": optional_params}\n",
    "output_signal_1 = empix.annularly_integrate(**kwargs)\n",
    "\n",
    "kwargs = {\"input_signal\": complex_2d_input_signal, \n",
    "          \"optional_params\": optional_params}\n",
    "output_signal_2 = empix.annularly_integrate(**kwargs)"
   ]
  },
  {
   "cell_type": "markdown",
   "id": "ccd822f9-a294-4448-a7b5-f41900b63dae",
   "metadata": {},
   "source": [
    "Let's plot the resulting output signals."
   ]
  },
  {
   "cell_type": "code",
   "execution_count": null,
   "id": "4e87bb47-723e-4d1c-88de-5913b20a8ec8",
   "metadata": {},
   "outputs": [],
   "source": [
    "kwargs = {\"axes_off\": False, \n",
    "          \"scalebar\": False, \n",
    "          \"colorbar\": False, \n",
    "          \"gamma\": 1,\n",
    "          \"cmap\": \"jet\"}\n",
    "output_signal_1.plot(**kwargs)"
   ]
  },
  {
   "cell_type": "code",
   "execution_count": null,
   "id": "64ab18d6-8ceb-471a-b1ee-f1aa8a0c910a",
   "metadata": {},
   "outputs": [],
   "source": [
    "kwargs = {\"axes_off\": False, \n",
    "          \"scalebar\": False, \n",
    "          \"colorbar\": False, \n",
    "          \"gamma\": 1,\n",
    "          \"cmap\": \"jet\"}\n",
    "output_signal_2.plot(**kwargs)"
   ]
  },
  {
   "cell_type": "markdown",
   "id": "0a01e1de-d622-4f67-af02-eb631313a7d9",
   "metadata": {},
   "source": [
    "### Cropping ###"
   ]
  },
  {
   "cell_type": "markdown",
   "id": "62efd915-fd0c-448f-bf83-22b49815f76a",
   "metadata": {},
   "source": [
    "Let's crop each 2D input signal using the same optional cropping parameters."
   ]
  },
  {
   "cell_type": "code",
   "execution_count": null,
   "id": "355d8b55-5a69-428f-8cfa-c1d4fc3ef75b",
   "metadata": {},
   "outputs": [],
   "source": [
    "kwargs = {\"center\": ring_center,\n",
    "          \"window_dims\": (190, 185),\n",
    "          \"pad_mode\": \"zeros\",\n",
    "          \"apply_symmetric_mask\": True,\n",
    "          \"title\": None}\n",
    "optional_params = empix.OptionalCroppingParams(**kwargs)\n",
    "\n",
    "kwargs = {\"input_signal\": real_2d_input_signal, \n",
    "          \"optional_params\": optional_params}\n",
    "output_signal_1 = empix.crop(**kwargs)\n",
    "\n",
    "kwargs = {\"input_signal\": complex_2d_input_signal, \n",
    "          \"optional_params\": optional_params}\n",
    "output_signal_2 = empix.crop(**kwargs)"
   ]
  },
  {
   "cell_type": "markdown",
   "id": "23067203-4fef-48cd-ad29-82c94e477415",
   "metadata": {},
   "source": [
    "Let's plot the resulting output signals."
   ]
  },
  {
   "cell_type": "code",
   "execution_count": null,
   "id": "21cc52e8-266e-43f5-8619-66b3d00037ec",
   "metadata": {},
   "outputs": [],
   "source": [
    "kwargs = {\"axes_off\": False, \n",
    "          \"scalebar\": False, \n",
    "          \"colorbar\": False, \n",
    "          \"gamma\": 1,\n",
    "          \"cmap\": \"jet\"}\n",
    "output_signal_1.plot(**kwargs)"
   ]
  },
  {
   "cell_type": "code",
   "execution_count": null,
   "id": "d4ce2312-6d91-4732-8ef8-fc4356605403",
   "metadata": {},
   "outputs": [],
   "source": [
    "kwargs = {\"axes_off\": False, \n",
    "          \"scalebar\": False, \n",
    "          \"colorbar\": False, \n",
    "          \"gamma\": 1,\n",
    "          \"cmap\": \"jet\"}\n",
    "output_signal_2.plot(**kwargs)"
   ]
  },
  {
   "cell_type": "markdown",
   "id": "b239c240-cc85-4bca-a1a7-d705a4b66c37",
   "metadata": {},
   "source": [
    "### Downsampling ###"
   ]
  },
  {
   "cell_type": "markdown",
   "id": "f1e34a58-4321-47f4-892c-6aa292c70314",
   "metadata": {},
   "source": [
    "Let's downsample each 2D input signal using the same optional cropping\n",
    "parameters."
   ]
  },
  {
   "cell_type": "code",
   "execution_count": null,
   "id": "4522718d-714a-4686-9f48-74e8c7997f87",
   "metadata": {},
   "outputs": [],
   "source": [
    "kwargs = {\"block_dims\": (2, 3),\n",
    "          \"padding_const\": 0,\n",
    "          \"downsample_mode\": \"sum\",\n",
    "          \"title\": None}\n",
    "optional_params = empix.OptionalDownsamplingParams(**kwargs)\n",
    "\n",
    "kwargs = {\"input_signal\": real_2d_input_signal, \n",
    "          \"optional_params\": optional_params}\n",
    "output_signal_1 = empix.downsample(**kwargs)\n",
    "\n",
    "kwargs = {\"input_signal\": complex_2d_input_signal, \n",
    "          \"optional_params\": optional_params}\n",
    "output_signal_2 = empix.downsample(**kwargs)"
   ]
  },
  {
   "cell_type": "markdown",
   "id": "20462aef-6538-4757-90dd-b7e09d986536",
   "metadata": {},
   "source": [
    "Let's plot the resulting output signals."
   ]
  },
  {
   "cell_type": "code",
   "execution_count": null,
   "id": "1dd2c921-5b0f-404d-9015-96a8a5e81f47",
   "metadata": {},
   "outputs": [],
   "source": [
    "kwargs = {\"axes_off\": False, \n",
    "          \"scalebar\": False, \n",
    "          \"colorbar\": False, \n",
    "          \"gamma\": 1,\n",
    "          \"cmap\": \"jet\"}\n",
    "output_signal_1.plot(**kwargs)"
   ]
  },
  {
   "cell_type": "code",
   "execution_count": null,
   "id": "67f92b3c-2f28-4a78-a414-140a9e68fe88",
   "metadata": {},
   "outputs": [],
   "source": [
    "kwargs = {\"axes_off\": False, \n",
    "          \"scalebar\": False, \n",
    "          \"colorbar\": False, \n",
    "          \"gamma\": 1,\n",
    "          \"cmap\": \"jet\"}\n",
    "output_signal_2.plot(**kwargs)"
   ]
  },
  {
   "cell_type": "markdown",
   "id": "acf7c5d9-f4ea-467f-b636-26b9c9d6c7b3",
   "metadata": {},
   "source": [
    "### Resampling ###"
   ]
  },
  {
   "cell_type": "markdown",
   "id": "4c11bfa1-3b6b-4e21-8199-d78561805f19",
   "metadata": {},
   "source": [
    "Let's resample each 2D input signal using the same optional resampling\n",
    "parameters."
   ]
  },
  {
   "cell_type": "code",
   "execution_count": null,
   "id": "31e981fa-ce2e-430e-b7e2-07d7db20925b",
   "metadata": {},
   "outputs": [],
   "source": [
    "h_size = real_2d_input_signal.axes_manager[-2].size\n",
    "h_scale = real_2d_input_signal.axes_manager[-2].scale\n",
    "h_offset = real_2d_input_signal.axes_manager[-2].offset\n",
    "\n",
    "v_size = real_2d_input_signal.axes_manager[-1].size\n",
    "v_scale = real_2d_input_signal.axes_manager[-1].scale\n",
    "v_offset = real_2d_input_signal.axes_manager[-1].offset\n",
    "\n",
    "kwargs = {\"new_signal_space_sizes\": (2*h_size, 2*v_size),\n",
    "          \"new_signal_space_scales\": (h_scale/2, v_scale/2),\n",
    "          \"new_signal_space_offsets\": (h_offset+h_scale/2, v_offset+v_scale/2),\n",
    "          \"spline_degrees\": (3, 3),\n",
    "          \"interpolate_polar_cmpnts\": True,\n",
    "          \"title\": None}\n",
    "optional_params = empix.OptionalResamplingParams(**kwargs)\n",
    "\n",
    "kwargs = {\"input_signal\": real_2d_input_signal, \n",
    "          \"optional_params\": optional_params}\n",
    "output_signal_1 = empix.resample(**kwargs)\n",
    "\n",
    "kwargs = {\"input_signal\": complex_2d_input_signal, \n",
    "          \"optional_params\": optional_params}\n",
    "output_signal_2 = empix.resample(**kwargs)"
   ]
  },
  {
   "cell_type": "markdown",
   "id": "109d5632-032e-47bd-9410-6661863d345d",
   "metadata": {},
   "source": [
    "Let's plot the resulting output signals."
   ]
  },
  {
   "cell_type": "code",
   "execution_count": null,
   "id": "ad5af9e1-4948-458b-8313-5d54c642e92f",
   "metadata": {},
   "outputs": [],
   "source": [
    "kwargs = {\"axes_off\": False, \n",
    "          \"scalebar\": False, \n",
    "          \"colorbar\": False, \n",
    "          \"gamma\": 1,\n",
    "          \"cmap\": \"jet\"}\n",
    "output_signal_1.plot(**kwargs)"
   ]
  },
  {
   "cell_type": "code",
   "execution_count": null,
   "id": "2649387b-115e-4670-8061-f0e131eb5d65",
   "metadata": {},
   "outputs": [],
   "source": [
    "kwargs = {\"axes_off\": False, \n",
    "          \"scalebar\": False, \n",
    "          \"colorbar\": False, \n",
    "          \"gamma\": 1,\n",
    "          \"cmap\": \"jet\"}\n",
    "output_signal_2.plot(**kwargs)"
   ]
  },
  {
   "cell_type": "markdown",
   "id": "48c4f4ba-ae5e-45d7-b9c5-c9ffdd13aabd",
   "metadata": {},
   "source": [
    "### Cumulatively integrating 1D signals ###"
   ]
  },
  {
   "cell_type": "markdown",
   "id": "8463ea96-c232-43f7-96df-b5847bd99957",
   "metadata": {},
   "source": [
    "Let's cumulatively integrate the real 1D input signal."
   ]
  },
  {
   "cell_type": "code",
   "execution_count": null,
   "id": "5f4c3390-5db5-4f4c-aaab-01a1bd2ea762",
   "metadata": {},
   "outputs": [],
   "source": [
    "u_size = real_1d_input_signal.axes_manager[-1].size\n",
    "u_scale = real_1d_input_signal.axes_manager[-1].scale\n",
    "u_offset = real_1d_input_signal.axes_manager[-1].offset\n",
    "\n",
    "kwargs = {\"limits\": (u_offset+20*u_scale, u_offset+130*u_scale),\n",
    "          \"num_bins\": num_bins,\n",
    "          \"normalize\": True,\n",
    "          \"title\": None}\n",
    "optional_params = empix.OptionalCumulative1dIntegrationParams(**kwargs)\n",
    "\n",
    "kwargs = {\"input_signal\": real_1d_input_signal, \n",
    "          \"optional_params\": optional_params}\n",
    "output_signal_1 = empix.cumulatively_integrate_1d(**kwargs)"
   ]
  },
  {
   "cell_type": "markdown",
   "id": "2a308586-30d1-4966-a1b3-532f5ba05f2a",
   "metadata": {},
   "source": [
    "Let's plot the resulting output signal."
   ]
  },
  {
   "cell_type": "code",
   "execution_count": null,
   "id": "cd3e577f-e7c2-496b-94dd-c6e33ea37092",
   "metadata": {},
   "outputs": [],
   "source": [
    "kwargs = {\"axes_off\": False, \n",
    "          \"scalebar\": False, \n",
    "          \"colorbar\": False, \n",
    "          \"gamma\": 1,\n",
    "          \"cmap\": \"jet\"}\n",
    "output_signal_1.plot(**kwargs)"
   ]
  }
 ],
 "metadata": {
  "kernelspec": {
   "display_name": "Python 3 (ipykernel)",
   "language": "python",
   "name": "python3"
  },
  "language_info": {
   "codemirror_mode": {
    "name": "ipython",
    "version": 3
   },
   "file_extension": ".py",
   "mimetype": "text/x-python",
   "name": "python",
   "nbconvert_exporter": "python",
   "pygments_lexer": "ipython3",
   "version": "3.12.4"
  }
 },
 "nbformat": 4,
 "nbformat_minor": 5
}
