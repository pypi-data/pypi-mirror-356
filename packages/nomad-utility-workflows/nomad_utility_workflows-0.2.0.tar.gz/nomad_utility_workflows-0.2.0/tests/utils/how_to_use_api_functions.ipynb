{
 "cells": [
  {
   "cell_type": "markdown",
   "metadata": {},
   "source": [
    "# How to use nomad-utility-workflows to perform NOMAD API Calls\n",
    "\n",
    "Imports for the following examples:"
   ]
  },
  {
   "cell_type": "code",
   "execution_count": 1,
   "metadata": {},
   "outputs": [
    {
     "data": {
      "text/plain": [
       "True"
      ]
     },
     "execution_count": 1,
     "metadata": {},
     "output_type": "execute_result"
    }
   ],
   "source": [
    "# ! If needed !\n",
    "from dotenv import load_dotenv\n",
    "\n",
    "load_dotenv()"
   ]
  },
  {
   "cell_type": "code",
   "execution_count": 2,
   "metadata": {},
   "outputs": [],
   "source": [
    "import time\n",
    "from pprint import pprint\n",
    "\n",
    "from decouple import config as environ\n",
    "\n",
    "from nomad_utility_workflows.utils.core import get_authentication_token\n",
    "from nomad_utility_workflows.utils.datasets import (\n",
    "    create_dataset,\n",
    "    delete_dataset,\n",
    "    get_dataset_by_id,\n",
    "    retrieve_datasets,\n",
    ")\n",
    "from nomad_utility_workflows.utils.entries import (\n",
    "    download_entry_by_id,\n",
    "    get_entries_of_my_uploads,\n",
    "    get_entries_of_upload,\n",
    "    get_entry_by_id,\n",
    "    query_entries,\n",
    ")\n",
    "from nomad_utility_workflows.utils.uploads import (\n",
    "    delete_upload,\n",
    "    edit_upload_metadata,\n",
    "    get_all_my_uploads,\n",
    "    get_upload_by_id,\n",
    "    publish_upload,\n",
    "    upload_files_to_nomad,\n",
    ")\n",
    "from nomad_utility_workflows.utils.users import (\n",
    "    get_user_by_id,\n",
    "    search_users_by_name,\n",
    "    who_am_i,\n",
    ")"
   ]
  },
  {
   "cell_type": "markdown",
   "metadata": {},
   "source": [
    "## NOMAD URLs\n",
    "\n",
    "The NOMAD URL specifies the base address of the API for the NOMAD deployment of interest. Typically, this URL is structured as `https://<deployment_base_path>/api/v1`.\n",
    "\n",
    "By default, nomad-utility-workflows uses the Test deployment of NOMAD to make API calls. This is simply a safety mechanism so that users do not accidentally publish something during testing. \n",
    "\n",
    "All API functions allow the user to specify the URL with the optional keyword argument `url`. If you want to use the central NOMAD URLs, you can simply set `url` equal to \"prod\", \"staging\", or \"test\", which correspond to the following deployments (see full URLs below):\n",
    "\n",
    "- prod: the official NOMAD deployment. \n",
    "    - Updated most infrequently (as advertised in #software-updates on the NOMAD Discord Server)\n",
    "- staging: the beta version of NOMAD. \n",
    "    - Updated more frequently than prod in order to integrate and test new features. \n",
    "- test: a test NOMAD deployment. \n",
    "    - The data is occassionally wiped, such that test publishing can be made.\n",
    "\n",
    "Note that the prod and staging deployments share a common database, and that publishing on either will result in publically available data.\n",
    "\n",
    "Alternatively to these short names, the user can use the `url` input to specify the full API address to some alternative NOMAD deployment, e.g., an Oasis.\n",
    "\n",
    "For reference, the full addresses of the above-mentioned central NOMAD deployments (including api suffix) are:"
   ]
  },
  {
   "cell_type": "code",
   "execution_count": 3,
   "metadata": {},
   "outputs": [
    {
     "name": "stdout",
     "output_type": "stream",
     "text": [
      "https://nomad-lab.eu/prod/v1/api/v1 https://nomad-lab.eu/prod/v1/staging/api/v1 https://nomad-lab.eu/prod/v1/test/api/v1\n"
     ]
    }
   ],
   "source": [
    "from nomad_utility_workflows.utils.core import (\n",
    "    NOMAD_PROD_URL,\n",
    "    NOMAD_STAGING_URL,\n",
    "    NOMAD_TEST_URL,\n",
    ")\n",
    "\n",
    "print(NOMAD_PROD_URL, NOMAD_STAGING_URL, NOMAD_TEST_URL)"
   ]
  },
  {
   "cell_type": "markdown",
   "metadata": {},
   "source": [
    "## Authentication\n",
    "\n",
    "Some API calls, e.g., making uploads or accessing your own non-published uploads, require an authentication token. To generate this token, nomad-utility-workflows expects that your NOMAD credentials are stored in a `.env` file in the plugin root directory in the format:\n",
    "\n",
    "```bash\n",
    "NOMAD_USERNAME=\"<your_nomad_username>\"\n",
    "NOMAD_PASSWORD=\"<your_nomad_password>\"\n",
    "```\n",
    "\n",
    "You can access these explicitly with:"
   ]
  },
  {
   "cell_type": "code",
   "execution_count": 4,
   "metadata": {},
   "outputs": [
    {
     "data": {
      "text/plain": [
       "'JFRudzinski'"
      ]
     },
     "execution_count": 4,
     "metadata": {},
     "output_type": "execute_result"
    }
   ],
   "source": [
    "NOMAD_USERNAME = environ('NOMAD_USERNAME')\n",
    "NOMAD_PASSWORD = environ('NOMAD_PASSWORD')\n",
    "NOMAD_USERNAME"
   ]
  },
  {
   "cell_type": "markdown",
   "metadata": {},
   "source": [
    "Use `get_authentication_token()` with your credentials to explicitly obtain and store a token:\n",
    "\n"
   ]
  },
  {
   "cell_type": "code",
   "execution_count": 5,
   "metadata": {},
   "outputs": [
    {
     "data": {
      "text/plain": [
       "'eyJhbGciOiJSUzI1NiIsInR5cCIgOiAiSldUIiwia2lkIiA6ICJmb1hmZnM5QlFQWHduLU54Yk5PYlExOFhnZnlKU1FNRkl6ZFVnWjhrZzdVIn0.eyJleHAiOjE3NDcwNTIxODcsImlhdCI6MTc0Njk2NTc4NywianRpIjoiZDM0ZjNlZTktMzM1Mi00ZjZlLTkzYWItMjNhYWIzNmE0ODdmIiwiaXNzIjoiaHR0cHM6Ly9ub21hZC1sYWIuZXUvZmFpcmRpL2tleWNsb2FrL2F1dGgvcmVhbG1zL2ZhaXJkaV9ub21hZF9wcm9kIiwic3ViIjoiOGYwNTJlMWYtMTkwNi00MWZkLWIyZWItNjkwYzAzNDA3Nzg4IiwidHlwIjoiQmVhcmVyIiwiYXpwIjoibm9tYWRfcHVibGljIiwic2lkIjoiZjg1MGZkZGItMjhiMS00YTUyLWJlOGUtMjg3MzYwOWUxMzMxIiwic2NvcGUiOiJvcGVuaWQgcHJvZmlsZSBlbWFpbCIsImVtYWlsX3ZlcmlmaWVkIjp0cnVlLCJuYW1lIjoiSm9zZXBoIFJ1ZHppbnNraSIsInByZWZlcnJlZF91c2VybmFtZSI6ImpmcnVkemluc2tpIiwic2Vzc2lvbl9zdGF0ZSI6ImY4NTBmZGRiLTI4YjEtNGE1Mi1iZThlLTI4NzM2MDllMTMzMSIsImdpdmVuX25hbWUiOiJKb3NlcGgiLCJmYW1pbHlfbmFtZSI6IlJ1ZHppbnNraSIsImVtYWlsIjoicnVkemluc2tpQG1waXAtbWFpbnoubXBnLmRlIn0.Hc-2llW2iEj7Vu03vkDIXnwcDJyn7rBvMn8pR8NBEvqPhbrg3eK9OmSmhH-uIYP6OaA9bkYlJxJmE1EewU3IZnMUhVtfgT7ZjaWyi9tYDDSx9GmRrveVKjIrqVzd6c4WBXp6U-bKFlHYVwDF9YDpPmP_Hn1_BWsL5I71oDMimFikL6rZ3TVNgcdkzNG82ZSA7_QijuD3gUW-ysvYqTgSBeX6VUEZxOdMJTmJMakC3myiD0U5U5qa5BanW2AOgpm1-6dwhLmMGTomnkrVQ4bGSvWDZvKSgncpayaVrB1tqX0PEpjsXO8xtjbWkGG38VBUk-FlQzM40mEj0Pa4HbbVwg'"
      ]
     },
     "execution_count": 5,
     "metadata": {},
     "output_type": "execute_result"
    }
   ],
   "source": [
    "token = get_authentication_token(\n",
    "    username=NOMAD_USERNAME, password=NOMAD_PASSWORD, url='test'\n",
    ")\n",
    "token"
   ]
  },
  {
   "cell_type": "markdown",
   "metadata": {},
   "source": [
    "In practice, you do not need to obtain a token yourself when using nomad-utility-workflows. A token will automatically be obtained for API calls that require authentication. However, you may want to do the token generation yourself for custom API calls (see `Writing your own wrappers` below.)"
   ]
  },
  {
   "cell_type": "markdown",
   "metadata": {},
   "source": [
    "### NOMAD User Metadata\n",
    "\n",
    "nomad-utility-workflows uses the `NomadUser()` class to store the following user metadata:\n",
    "\n",
    "```python\n",
    "class NomadUser:\n",
    "    user_id: str\n",
    "    name: str\n",
    "    first_name: str \n",
    "    last_name: str \n",
    "    username: str \n",
    "    affiliation: str \n",
    "    affiliation_address: str \n",
    "    email: str\n",
    "    is_oasis_admin: bool \n",
    "    is_admin: bool\n",
    "    repo_user_id: str \n",
    "    created: dt.datetime\n",
    "```\n",
    "\n",
    "\n",
    "You can retrieve your own personal info with the `who_am_i()` function:"
   ]
  },
  {
   "cell_type": "code",
   "execution_count": 6,
   "metadata": {},
   "outputs": [
    {
     "data": {
      "text/plain": [
       "NomadUser(name='Joseph Rudzinski')"
      ]
     },
     "execution_count": 6,
     "metadata": {},
     "output_type": "execute_result"
    }
   ],
   "source": [
    "nomad_user_me = who_am_i(url='test')\n",
    "nomad_user_me"
   ]
  },
  {
   "cell_type": "markdown",
   "metadata": {},
   "source": [
    "Similarly, you can query NOMAD for other users with `search_users_by_name()`:"
   ]
  },
  {
   "cell_type": "code",
   "execution_count": 7,
   "metadata": {},
   "outputs": [
    {
     "data": {
      "text/plain": [
       "[NomadUser(name='Joseph Rudzinski'), NomadUser(name='Joseph Rudzinski')]"
      ]
     },
     "execution_count": 7,
     "metadata": {},
     "output_type": "execute_result"
    }
   ],
   "source": [
    "nomad_users = search_users_by_name('Rudzinski', url='test')\n",
    "nomad_users"
   ]
  },
  {
   "cell_type": "markdown",
   "metadata": {},
   "source": [
    "In the case of multiple matches or for robustly identifying particular users, e.g., coauthors, in the future, it may be useful to store their `user_id`&mdash;a persistent identifier for each user account. Then, in the future you can use `get_user_by_id()` to grab the user info:"
   ]
  },
  {
   "cell_type": "code",
   "execution_count": 8,
   "metadata": {},
   "outputs": [
    {
     "data": {
      "text/plain": [
       "NomadUser(name='Joseph Rudzinski')"
      ]
     },
     "execution_count": 8,
     "metadata": {},
     "output_type": "execute_result"
    }
   ],
   "source": [
    "nomad_user = get_user_by_id(nomad_users[0].user_id, url='test')\n",
    "nomad_user"
   ]
  },
  {
   "cell_type": "markdown",
   "metadata": {},
   "source": [
    "### Uploading Data\n",
    "\n",
    "nomad-utility-workflows uses the `NomadUpload()` class to store the following upload metadata:\n",
    "\n",
    "```python\n",
    "class NomadUpload:\n",
    "    upload_id: str\n",
    "    upload_create_time: dt.datetime\n",
    "    main_author: NomadUser\n",
    "    process_running: bool\n",
    "    current_process: str\n",
    "    process_status: str\n",
    "    last_status_message: str\n",
    "    errors: list[Any]\n",
    "    warnings: list[Any]\n",
    "    coauthors: list[str]\n",
    "    coauthor_groups: list[Any]\n",
    "    reviewers: list[NomadUser]\n",
    "    reviewer_groups: list[Any]\n",
    "    writers: list[NomadUser]\n",
    "    writer_groups: list[Any]\n",
    "    viewers: list[NomadUser]\n",
    "    viewer_groups: list[Any]\n",
    "    published: bool\n",
    "    published_to: list[Any]\n",
    "    with_embargo: bool\n",
    "    embargo_length: float\n",
    "    license: str\n",
    "    entries: int\n",
    "    n_entries: int\n",
    "    upload_files_server_path: str\n",
    "    publish_time: dt.datetime\n",
    "    references: list[str] \n",
    "    datasets: list[str] \n",
    "    external_db: str \n",
    "    upload_name: str\n",
    "    comment: str \n",
    "    url: str\n",
    "    complete_time: dt.datetime\n",
    "```\n",
    "\n",
    "You can make an upload using the `upload_files_to_nomad()` function with input `filename=<path_to_a_zip_file_with_your_upload_data>`, as follows:  "
   ]
  },
  {
   "cell_type": "code",
   "execution_count": 9,
   "metadata": {},
   "outputs": [],
   "source": [
    "test_upload_fnm = (\n",
    "    './test.zip'  # a dummy upload file containing a single empty json file\n",
    ")"
   ]
  },
  {
   "cell_type": "code",
   "execution_count": 10,
   "metadata": {},
   "outputs": [
    {
     "data": {
      "text/plain": [
       "'47fM2TYlT5mRbl-wbms9YA'"
      ]
     },
     "execution_count": 10,
     "metadata": {},
     "output_type": "execute_result"
    }
   ],
   "source": [
    "upload_id = upload_files_to_nomad(filename=test_upload_fnm, url='test')\n",
    "upload_id"
   ]
  },
  {
   "cell_type": "markdown",
   "metadata": {},
   "source": [
    "### Checking the upload status\n",
    "\n",
    "The returned `upload_id` can then be used to directly access the upload, e.g., to check the upload status, using `get_upload_by_id()`:"
   ]
  },
  {
   "cell_type": "code",
   "execution_count": 11,
   "metadata": {},
   "outputs": [
    {
     "name": "stdout",
     "output_type": "stream",
     "text": [
      "NomadUpload(upload_id='47fM2TYlT5mRbl-wbms9YA',\n",
      "            upload_create_time=datetime.datetime(2025, 5, 11, 12, 16, 47, 38000),\n",
      "            main_author=NomadUser(name='Joseph Rudzinski'),\n",
      "            process_running=False,\n",
      "            current_process='process_upload',\n",
      "            process_status='SUCCESS',\n",
      "            last_status_message='Process process_upload completed successfully',\n",
      "            errors=[],\n",
      "            warnings=[],\n",
      "            coauthors=[],\n",
      "            coauthor_groups=[],\n",
      "            reviewers=[],\n",
      "            reviewer_groups=[],\n",
      "            writers=[NomadUser(name='Joseph Rudzinski')],\n",
      "            writer_groups=[],\n",
      "            viewers=[NomadUser(name='Joseph Rudzinski')],\n",
      "            viewer_groups=[],\n",
      "            published=False,\n",
      "            published_to=[],\n",
      "            with_embargo=False,\n",
      "            embargo_length=0.0,\n",
      "            license='CC BY 4.0',\n",
      "            entries=1,\n",
      "            n_entries=None,\n",
      "            upload_files_server_path='/nomad/test/fs/staging/4/47fM2TYlT5mRbl-wbms9YA',\n",
      "            publish_time=None,\n",
      "            references=None,\n",
      "            datasets=None,\n",
      "            external_db=None,\n",
      "            upload_name=None,\n",
      "            comment=None,\n",
      "            url='https://nomad-lab.eu/prod/v1/test/api/v1',\n",
      "            complete_time=datetime.datetime(2025, 5, 11, 12, 16, 48, 319000))\n"
     ]
    }
   ],
   "source": [
    "nomad_upload = get_upload_by_id(upload_id, url='test')\n",
    "\n",
    "pprint(nomad_upload)"
   ]
  },
  {
   "cell_type": "markdown",
   "metadata": {},
   "source": [
    "One common usage of this function is to ensure that an upload has been processed successfully before making a subsequent action on it, e.g., editing the metadata or publishing. For this purpose, one could require the `process_running==False` or `process_status='SUCCESS'`, e.g.:\n",
    "\n",
    "```python\n",
    "    import time\n",
    "\n",
    "    max_wait_time = 20 * 60  # 20 minutes in seconds\n",
    "    interval = 2 * 60  # 2 minutes in seconds\n",
    "    elapsed_time = 0\n",
    "\n",
    "    while elapsed_time < max_wait_time:\n",
    "        nomad_upload = get_upload_by_id(upload_id, url='test')\n",
    "        \n",
    "        # Check if the upload is complete\n",
    "        if nomad_upload.process_status == 'SUCCESS':\n",
    "            break\n",
    "        \n",
    "        # Wait for 2 minutes before the next call\n",
    "        time.sleep(interval)\n",
    "        elapsed_time += interval\n",
    "    else:\n",
    "        raise TimeoutError(\"Maximum wait time of 20 minutes exceeded. Upload is not complete.\")\n",
    "```"
   ]
  },
  {
   "cell_type": "markdown",
   "metadata": {},
   "source": [
    "### Editing the upload metadata\n",
    "\n",
    "After your upload is processed successfully, you can add coauthors, references, and other comments, as well as link to a dataset and provide a name for the upload. Note that the coauthor is specified by an email address that should correspond to the email linked to the person's NOMAD account, which can be accessed from `NomadUser.email`. The metadata should be stored as a dictionary as follows:\n",
    "\n",
    "```python\n",
    "metadata = {\n",
    "    \"metadata\": {\n",
    "    \"upload_name\": '<new_upload_name>',\n",
    "    \"references\": [\"https://doi.org/xx.xxxx/xxxxxx\"],\n",
    "    \"datasets\": '<dataset_id>',\n",
    "    \"embargo_length\": 0,\n",
    "    \"coauthors\": [\"coauthor@affiliation.de\"],\n",
    "    \"comment\": 'This is a test upload...'\n",
    "    },\n",
    "}\n",
    "```\n",
    "\n",
    "For example:"
   ]
  },
  {
   "cell_type": "code",
   "execution_count": 12,
   "metadata": {},
   "outputs": [
    {
     "data": {
      "text/plain": [
       "{'upload_id': '47fM2TYlT5mRbl-wbms9YA',\n",
       " 'data': {'process_running': True,\n",
       "  'current_process': 'edit_upload_metadata',\n",
       "  'process_status': 'PENDING',\n",
       "  'last_status_message': 'Pending: edit_upload_metadata',\n",
       "  'errors': [],\n",
       "  'warnings': [],\n",
       "  'complete_time': '2025-05-11T12:16:48.319000',\n",
       "  'upload_id': '47fM2TYlT5mRbl-wbms9YA',\n",
       "  'upload_create_time': '2025-05-11T12:16:47.038000',\n",
       "  'main_author': '8f052e1f-1906-41fd-b2eb-690c03407788',\n",
       "  'coauthors': [],\n",
       "  'coauthor_groups': [],\n",
       "  'reviewers': [],\n",
       "  'reviewer_groups': [],\n",
       "  'writers': ['8f052e1f-1906-41fd-b2eb-690c03407788'],\n",
       "  'writer_groups': [],\n",
       "  'viewers': ['8f052e1f-1906-41fd-b2eb-690c03407788'],\n",
       "  'viewer_groups': [],\n",
       "  'published': False,\n",
       "  'published_to': [],\n",
       "  'with_embargo': False,\n",
       "  'embargo_length': 0,\n",
       "  'license': 'CC BY 4.0',\n",
       "  'entries': 1,\n",
       "  'upload_files_server_path': '/nomad/test/fs/staging/4/47fM2TYlT5mRbl-wbms9YA'}}"
      ]
     },
     "execution_count": 12,
     "metadata": {},
     "output_type": "execute_result"
    }
   ],
   "source": [
    "metadata_new = {'upload_name': 'Test Upload', 'comment': 'This is a test upload...'}\n",
    "edit_upload_metadata(upload_id, url='test', upload_metadata=metadata_new)"
   ]
  },
  {
   "cell_type": "markdown",
   "metadata": {},
   "source": [
    "Before moving on, let's again check that this additional process is complete:"
   ]
  },
  {
   "cell_type": "code",
   "execution_count": 13,
   "metadata": {},
   "outputs": [
    {
     "name": "stdout",
     "output_type": "stream",
     "text": [
      "True\n",
      "True\n"
     ]
    }
   ],
   "source": [
    "nomad_upload = get_upload_by_id(upload_id, url='test')\n",
    "\n",
    "pprint(nomad_upload.process_status == 'SUCCESS')\n",
    "pprint(nomad_upload.process_running is False)"
   ]
  },
  {
   "cell_type": "markdown",
   "metadata": {},
   "source": [
    "### Accessing individual entries of an upload\n",
    "\n",
    "During the upload process, NOMAD automatically identfies representative files that indicate the presence of data that can be parsed with the plugins included within a given deployment. This means that each upload can contain multiple *entries*&mdash;the fundamental unit storage within the NOMAD database.\n",
    "\n",
    "You can query the individual entries within a known upload with `get_entries_of_upload()`, which then returns the metadata within the `NomadEntry()` class of nomad-utility-worklfows:\n",
    "\n",
    "```python\n",
    "class NomadEntry:\n",
    "    entry_id: str\n",
    "    upload_id: str\n",
    "    references: list[str]\n",
    "    origin: str\n",
    "    quantities: list[str] \n",
    "    datasets: list[NomadDataset] \n",
    "    n_quantities: int\n",
    "    nomad_version: str\n",
    "    upload_create_time: dt.datetime\n",
    "    nomad_commit: str\n",
    "    section_defs: list[NomadSectionDefinition] \n",
    "    processing_errors: list[Any]\n",
    "    results: dict\n",
    "    entry_name: str\n",
    "    last_processing_time: dt.datetime\n",
    "    parser_name: str\n",
    "    calc_id: str\n",
    "    published: bool\n",
    "    writers: list[NomadUser]\n",
    "    sections: list[str] \n",
    "    processed: bool\n",
    "    mainfile: str\n",
    "    main_author: NomadUser\n",
    "    viewers: list[NomadUser] \n",
    "    entry_create_time: dt.datetime\n",
    "    with_embargo: bool\n",
    "    files: list[str] \n",
    "    entry_type: str\n",
    "    authors: list[NomadUser] \n",
    "    license: str\n",
    "    domain: str\n",
    "    optimade: dict\n",
    "    comment: str\n",
    "    upload_name: str\n",
    "    viewer_groups: list[Any]\n",
    "    writer_groups: list[Any]\n",
    "    text_search_contents: list[str]\n",
    "    publish_time: dt.datetime \n",
    "    entry_references: list[dict]\n",
    "    url: str\n",
    "```\n",
    "\n",
    "Let's try this out with our test upload. In this case, the upload is *not* published and located in the *private* `Your Uploads` section of the NOMAD deployment. To access the uploads there, we need to set `with_authentication=True`:"
   ]
  },
  {
   "cell_type": "code",
   "execution_count": 14,
   "metadata": {},
   "outputs": [
    {
     "name": "stdout",
     "output_type": "stream",
     "text": [
      "'Entries within upload_id=47fM2TYlT5mRbl-wbms9YA:'\n",
      "'entry_id=ehktf2IROtsCfZAP5yR-tTo7RndQ'\n"
     ]
    }
   ],
   "source": [
    "entries = get_entries_of_upload(upload_id, url='test', with_authentication=True)\n",
    "pprint(f'Entries within upload_id={upload_id}:')\n",
    "for entry in entries:\n",
    "    pprint(f'entry_id={entry.entry_id}')"
   ]
  },
  {
   "cell_type": "markdown",
   "metadata": {},
   "source": [
    "To query an entry directly using the `entry_id`, use `get_entry_by_id()`:"
   ]
  },
  {
   "cell_type": "code",
   "execution_count": 15,
   "metadata": {},
   "outputs": [
    {
     "data": {
      "text/plain": [
       "NomadEntry(entry_id='ehktf2IROtsCfZAP5yR-tTo7RndQ', upload_id='47fM2TYlT5mRbl-wbms9YA', references=[], origin='Joseph Rudzinski', n_quantities=0, nomad_version='1.3.16rc2', upload_create_time=datetime.datetime(2025, 5, 11, 12, 16, 47, 38000, tzinfo=datetime.timezone.utc), nomad_commit='', processing_errors=[], entry_name='test.archive.json', last_processing_time=datetime.datetime(2025, 5, 11, 12, 16, 48, 5000, tzinfo=datetime.timezone.utc), parser_name='parsers/archive', calc_id='ehktf2IROtsCfZAP5yR-tTo7RndQ', published=False, writers=[NomadUser(name='Joseph Rudzinski')], processed=True, mainfile='test.archive.json', main_author=NomadUser(name='Joseph Rudzinski'), entry_create_time=datetime.datetime(2025, 5, 11, 12, 16, 47, 530000, tzinfo=datetime.timezone.utc), with_embargo=False, entry_type=None, license='CC BY 4.0', domain=None, comment='This is a test upload...', upload_name='Test Upload', text_search_contents=[], publish_time=None, entry_references=None, url='https://nomad-lab.eu/prod/v1/test/api/v1')"
      ]
     },
     "execution_count": 15,
     "metadata": {},
     "output_type": "execute_result"
    }
   ],
   "source": [
    "entry = get_entry_by_id(entries[0].entry_id, url='test', with_authentication=True)\n",
    "entry"
   ]
  },
  {
   "cell_type": "markdown",
   "metadata": {},
   "source": [
    "You can download the full (meta)data stored in an entry using `download_entry_by_id()`. This will return the entire archive as a dictionary. If you supply a `zip_file_name` (including the desired local path), the raw data of the entry will also be downloaded and saved to a zip file. Otherwise, only the archive will be downloaded. "
   ]
  },
  {
   "cell_type": "code",
   "execution_count": 16,
   "metadata": {},
   "outputs": [
    {
     "data": {
      "text/plain": [
       "{'processing_logs': [{'event': 'Executing celery task',\n",
       "   'proc': 'Entry',\n",
       "   'process': 'process_entry',\n",
       "   'process_worker_id': 'deRNBfBUQ1m9IkP7v4WtIg',\n",
       "   'parser': 'parsers/archive',\n",
       "   'logger': 'nomad.processing',\n",
       "   'timestamp': '2025-05-11 12:16.47',\n",
       "   'level': 'DEBUG'},\n",
       "  {'exec_time': '0.0012881755828857422',\n",
       "   'input_size': '3',\n",
       "   'event': 'parser executed',\n",
       "   'proc': 'Entry',\n",
       "   'process': 'process_entry',\n",
       "   'process_worker_id': 'deRNBfBUQ1m9IkP7v4WtIg',\n",
       "   'parser': 'parsers/archive',\n",
       "   'step': 'parsers/archive',\n",
       "   'logger': 'nomad.processing',\n",
       "   'timestamp': '2025-05-11 12:16.48',\n",
       "   'level': 'INFO'},\n",
       "  {'normalizer': 'MetainfoNormalizer',\n",
       "   'step': 'MetainfoNormalizer',\n",
       "   'event': 'normalizer completed successfully',\n",
       "   'proc': 'Entry',\n",
       "   'process': 'process_entry',\n",
       "   'process_worker_id': 'deRNBfBUQ1m9IkP7v4WtIg',\n",
       "   'parser': 'parsers/archive',\n",
       "   'logger': 'nomad.processing',\n",
       "   'timestamp': '2025-05-11 12:16.48',\n",
       "   'level': 'INFO'},\n",
       "  {'exec_time': '0.0009596347808837891',\n",
       "   'input_size': '3',\n",
       "   'event': 'normalizer executed',\n",
       "   'proc': 'Entry',\n",
       "   'process': 'process_entry',\n",
       "   'process_worker_id': 'deRNBfBUQ1m9IkP7v4WtIg',\n",
       "   'parser': 'parsers/archive',\n",
       "   'normalizer': 'MetainfoNormalizer',\n",
       "   'step': 'MetainfoNormalizer',\n",
       "   'logger': 'nomad.processing',\n",
       "   'timestamp': '2025-05-11 12:16.48',\n",
       "   'level': 'INFO'},\n",
       "  {'normalizer': 'ResultsNormalizer',\n",
       "   'step': 'ResultsNormalizer',\n",
       "   'event': 'normalizer completed successfully',\n",
       "   'proc': 'Entry',\n",
       "   'process': 'process_entry',\n",
       "   'process_worker_id': 'deRNBfBUQ1m9IkP7v4WtIg',\n",
       "   'parser': 'parsers/archive',\n",
       "   'logger': 'nomad.processing',\n",
       "   'timestamp': '2025-05-11 12:16.48',\n",
       "   'level': 'INFO'},\n",
       "  {'exec_time': '0.0009188652038574219',\n",
       "   'input_size': '3',\n",
       "   'event': 'normalizer executed',\n",
       "   'proc': 'Entry',\n",
       "   'process': 'process_entry',\n",
       "   'process_worker_id': 'deRNBfBUQ1m9IkP7v4WtIg',\n",
       "   'parser': 'parsers/archive',\n",
       "   'normalizer': 'ResultsNormalizer',\n",
       "   'step': 'ResultsNormalizer',\n",
       "   'logger': 'nomad.processing',\n",
       "   'timestamp': '2025-05-11 12:16.48',\n",
       "   'level': 'INFO'},\n",
       "  {'exec_time': '0.0033478736877441406',\n",
       "   'event': 'entry metadata saved',\n",
       "   'proc': 'Entry',\n",
       "   'process': 'process_entry',\n",
       "   'process_worker_id': 'deRNBfBUQ1m9IkP7v4WtIg',\n",
       "   'parser': 'parsers/archive',\n",
       "   'logger': 'nomad.processing',\n",
       "   'timestamp': '2025-05-11 12:16.48',\n",
       "   'level': 'INFO'},\n",
       "  {'exec_time': '0.0355679988861084',\n",
       "   'event': 'entry metadata indexed',\n",
       "   'proc': 'Entry',\n",
       "   'process': 'process_entry',\n",
       "   'process_worker_id': 'deRNBfBUQ1m9IkP7v4WtIg',\n",
       "   'parser': 'parsers/archive',\n",
       "   'logger': 'nomad.processing',\n",
       "   'timestamp': '2025-05-11 12:16.48',\n",
       "   'level': 'INFO'}],\n",
       " 'metadata': {'upload_id': '47fM2TYlT5mRbl-wbms9YA',\n",
       "  'upload_create_time': '2025-05-11T12:16:47.038000+00:00',\n",
       "  'entry_id': 'ehktf2IROtsCfZAP5yR-tTo7RndQ',\n",
       "  'entry_name': 'test.archive.json',\n",
       "  'entry_hash': 't6Zf68GLfrWxWRAIQu7QAY8LVmlL',\n",
       "  'entry_create_time': '2025-05-11T12:16:47.530000+00:00',\n",
       "  'parser_name': 'parsers/archive',\n",
       "  'mainfile': 'test.archive.json',\n",
       "  'text_search_contents': [],\n",
       "  'files': ['test.archive.json'],\n",
       "  'published': False,\n",
       "  'with_embargo': False,\n",
       "  'embargo_length': 0,\n",
       "  'license': 'CC BY 4.0',\n",
       "  'processed': True,\n",
       "  'last_processing_time': '2025-05-11T12:16:48.005395+00:00',\n",
       "  'processing_errors': [],\n",
       "  'nomad_version': '1.3.16rc2',\n",
       "  'nomad_commit': '',\n",
       "  'nomad_distro_commit_url': 'https://gitlab.mpcdf.mpg.de/nomad-lab/nomad-distro/tree/fad84a3',\n",
       "  'references': [],\n",
       "  'main_author': '8f052e1f-1906-41fd-b2eb-690c03407788',\n",
       "  'coauthors': [],\n",
       "  'coauthor_groups': [],\n",
       "  'entry_coauthors': [],\n",
       "  'reviewers': [],\n",
       "  'reviewer_groups': [],\n",
       "  'datasets': [],\n",
       "  'n_quantities': 35,\n",
       "  'quantities': ['',\n",
       "   'metadata',\n",
       "   'metadata.coauthor_groups',\n",
       "   'metadata.coauthors',\n",
       "   'metadata.datasets',\n",
       "   'metadata.embargo_length',\n",
       "   'metadata.entry_coauthors',\n",
       "   'metadata.entry_create_time',\n",
       "   'metadata.entry_hash',\n",
       "   'metadata.entry_id',\n",
       "   'metadata.entry_name',\n",
       "   'metadata.entry_timestamp',\n",
       "   'metadata.entry_timestamp.timestamp',\n",
       "   'metadata.entry_timestamp.token',\n",
       "   'metadata.entry_timestamp.token_seed',\n",
       "   'metadata.entry_timestamp.tsa_server',\n",
       "   'metadata.files',\n",
       "   'metadata.last_processing_time',\n",
       "   'metadata.license',\n",
       "   'metadata.main_author',\n",
       "   'metadata.mainfile',\n",
       "   'metadata.nomad_commit',\n",
       "   'metadata.nomad_distro_commit_url',\n",
       "   'metadata.nomad_version',\n",
       "   'metadata.parser_name',\n",
       "   'metadata.processed',\n",
       "   'metadata.processing_errors',\n",
       "   'metadata.published',\n",
       "   'metadata.quantities',\n",
       "   'metadata.references',\n",
       "   'metadata.reviewer_groups',\n",
       "   'metadata.reviewers',\n",
       "   'metadata.section_defs',\n",
       "   'metadata.section_defs.definition_id',\n",
       "   'metadata.section_defs.definition_qualified_name',\n",
       "   'metadata.section_defs.used_directly',\n",
       "   'metadata.sections',\n",
       "   'metadata.upload_create_time',\n",
       "   'metadata.upload_id',\n",
       "   'metadata.with_embargo',\n",
       "   'results',\n",
       "   'results.properties'],\n",
       "  'sections': ['nomad.datamodel.datamodel.EntryArchive',\n",
       "   'nomad.datamodel.datamodel.EntryMetadata',\n",
       "   'nomad.datamodel.datamodel.RFC3161Timestamp',\n",
       "   'nomad.datamodel.results.Properties',\n",
       "   'nomad.datamodel.results.Results'],\n",
       "  'entry_timestamp': {'token_seed': 't6Zf68GLfrWxWRAIQu7QAY8LVmlL',\n",
       "   'token': 'MIIEQwYJKoZIhvcNAQcCoIIENDCCBDACAQMxDTALBglghkgBZQMEAgEwfAYLKoZIhvcNAQkQAQSgbQRrMGkCAQEGDCsGAQQBga0hgiwWATAvMAsGCWCGSAFlAwQCAQQgYnRB2tk2mTRtMamyedr2QFd3bb0lFM56N52xD8rv/OECFEgMuJ8F/Ku0t66WwUv+CCPtUDk2GA8yMDI1MDUxMTEyMTY0N1oxggOcMIIDmAIBATCBnjCBjTELMAkGA1UEBhMCREUxRTBDBgNVBAoMPFZlcmVpbiB6dXIgRm9lcmRlcnVuZyBlaW5lcyBEZXV0c2NoZW4gRm9yc2NodW5nc25ldHplcyBlLiBWLjEQMA4GA1UECwwHREZOLVBLSTElMCMGA1UEAwwcREZOLVZlcmVpbiBHbG9iYWwgSXNzdWluZyBDQQIMKQLVczMPeOL0nrS5MAsGCWCGSAFlAwQCAaCB0TAaBgkqhkiG9w0BCQMxDQYLKoZIhvcNAQkQAQQwHAYJKoZIhvcNAQkFMQ8XDTI1MDUxMTEyMTY0N1owKwYJKoZIhvcNAQk0MR4wHDALBglghkgBZQMEAgGhDQYJKoZIhvcNAQELBQAwLwYJKoZIhvcNAQkEMSIEIDy317wiTRSTNbhYmYnOzAZ03Lu5Rx4jf2Mh9pyCGoM7MDcGCyqGSIb3DQEJEAIvMSgwJjAkMCIEILYIjb3dCJjTSQeNfCMyp07MhBQMoINZ8CNXJUbPboLkMA0GCSqGSIb3DQEBCwUABIICAHMd/TBnh+tC8lqxmhg5HhPUUpJhNUgfuetxF8Dcvevl3mLOrXWGfaIx+FxUkXFIinqv6Qqfwr7vBxO9lYSAK7kGGIdOJ3LA52fzKMOApFZUpDq0xCAcelxxj3mweHnViJs7Z8cXkPzWSZwuES9MzqGTHBrKaePyuU5cYGYFZiBs+7MClSSLj8JAiF8dICTsfxIpgR6NGlc+OVHYyybOJqG68zgQ2HQcDeotnPdaPQVCFxhXp8OGxJWluNk65m+pygPhUYQkNFvWFReu4i0EU5/eYWUd9HNZpMjxT2gxE3DjDZUf+j0jVt5wAZh5psaGgk90qshG6wACF6SxSNsQOiWXv/fWlehjbDm8fKdrj9PRg76QKdpcpone5S1rCin256rFQE2b8Jn/TXOXr3MUyQfnPjld+WuI9JScKeABHvv8ByWijLXbBLJcII/SI9TEcOmAmi9g220dRFVpCqCRgiaQ9hhwtOhzI8IswuKvg/1fjC6qHH4qEMgvo8b74JXiVznFEqqYve7AILY67pCjfpsuqKaMDE1dDlmErQmX+0y+Lpe3v8IxzD+qSKvgIdhE6lNJiHdSYKx3Nl1qKs7qtEpuIAVBDUj7OycCTdggAydhI3jb5xKLmxjP407v7yUj7ocL/gH7TqY9zKj11enK++k3KKRhZXAE0ItC1hcSxnHj',\n",
       "   'tsa_server': 'http://zeitstempel.dfn.de',\n",
       "   'timestamp': '2025-05-11T12:16:47+00:00'},\n",
       "  'section_defs': [{'definition_qualified_name': 'nomad.datamodel.data.ArchiveSection',\n",
       "    'definition_id': '7047cbff9980abff17cce4b1b6b0d1c783505b7f',\n",
       "    'used_directly': True},\n",
       "   {'definition_qualified_name': 'nomad.datamodel.datamodel.EntryArchive',\n",
       "    'definition_id': '1c690ce8fe3e123803b85762ea610bcb03d73754',\n",
       "    'used_directly': True},\n",
       "   {'definition_qualified_name': 'nomad.datamodel.datamodel.EntryMetadata',\n",
       "    'definition_id': '64204c5d96eb1385b547f3cb9148aa6d6a7c6f2a',\n",
       "    'used_directly': True},\n",
       "   {'definition_qualified_name': 'nomad.datamodel.datamodel.RFC3161Timestamp',\n",
       "    'definition_id': '1e3e9dd7b802b04343f46305a7d0f58663d8110a',\n",
       "    'used_directly': True},\n",
       "   {'definition_qualified_name': 'nomad.datamodel.results.Properties',\n",
       "    'definition_id': '9fcb2f8dea93e927ad23e6c6c43b732406796328',\n",
       "    'used_directly': True},\n",
       "   {'definition_qualified_name': 'nomad.datamodel.results.Results',\n",
       "    'definition_id': '5ccde651cb447bc26cb8d44b37c08b78b725909e',\n",
       "    'used_directly': True}]},\n",
       " 'results': {'properties': {}},\n",
       " 'm_ref_archives': {}}"
      ]
     },
     "execution_count": 16,
     "metadata": {},
     "output_type": "execute_result"
    }
   ],
   "source": [
    "test = download_entry_by_id(\n",
    "    entry.entry_id,\n",
    "    url='test',\n",
    "    zip_file_name='./raw_entry_data.zip',\n",
    "    with_authentication=True,\n",
    ")\n",
    "test"
   ]
  },
  {
   "cell_type": "markdown",
   "metadata": {},
   "source": [
    "## Publishing Uploads\n",
    "\n",
    "Once the processing of your upload is successful and you have added/adjusted the appropriate metadata, you can publish your upload with `publish_upload()`, making it publicly available on the corresponding NOMAD deployment. \n",
    "\n",
    "Note that once the upload is published you will no longer be able to make changes to the raw files that you uploaded. However, the upload metadata (accessed and edited in the above example) can be changed after publishing."
   ]
  },
  {
   "cell_type": "code",
   "execution_count": 17,
   "metadata": {},
   "outputs": [
    {
     "data": {
      "text/plain": [
       "{'upload_id': '47fM2TYlT5mRbl-wbms9YA',\n",
       " 'data': {'process_running': True,\n",
       "  'current_process': 'publish_upload',\n",
       "  'process_status': 'PENDING',\n",
       "  'last_status_message': 'Pending: publish_upload',\n",
       "  'errors': [],\n",
       "  'warnings': [],\n",
       "  'complete_time': '2025-05-11T12:16:53.166000',\n",
       "  'upload_id': '47fM2TYlT5mRbl-wbms9YA',\n",
       "  'upload_name': 'Test Upload',\n",
       "  'upload_create_time': '2025-05-11T12:16:47.038000',\n",
       "  'main_author': '8f052e1f-1906-41fd-b2eb-690c03407788',\n",
       "  'coauthors': [],\n",
       "  'coauthor_groups': [],\n",
       "  'reviewers': [],\n",
       "  'reviewer_groups': [],\n",
       "  'writers': ['8f052e1f-1906-41fd-b2eb-690c03407788'],\n",
       "  'writer_groups': [],\n",
       "  'viewers': ['8f052e1f-1906-41fd-b2eb-690c03407788'],\n",
       "  'viewer_groups': [],\n",
       "  'published': False,\n",
       "  'published_to': [],\n",
       "  'with_embargo': False,\n",
       "  'embargo_length': 0,\n",
       "  'license': 'CC BY 4.0',\n",
       "  'entries': 1,\n",
       "  'upload_files_server_path': '/nomad/test/fs/staging/4/47fM2TYlT5mRbl-wbms9YA'}}"
      ]
     },
     "execution_count": 17,
     "metadata": {},
     "output_type": "execute_result"
    }
   ],
   "source": [
    "published_upload = publish_upload(nomad_upload.upload_id, url='test')\n",
    "published_upload"
   ]
  },
  {
   "cell_type": "markdown",
   "metadata": {},
   "source": [
    "## Finding and Creating Datasets\n",
    "\n",
    "Although uploads can group multiple entries together, they are limited by the maximum upload size and act more as a practical tool for optimizing the transfer of data to the NOMAD repository. For scientifically relevant connections between entries, NOMAD uses *Datasets* and *Workflows*. \n",
    "\n",
    "You can easily create a dataset with `create_dataset()`:\n"
   ]
  },
  {
   "cell_type": "code",
   "execution_count": 23,
   "metadata": {},
   "outputs": [
    {
     "data": {
      "text/plain": [
       "'0iW24lycTFuQhsYnrF7yjw'"
      ]
     },
     "execution_count": 23,
     "metadata": {},
     "output_type": "execute_result"
    }
   ],
   "source": [
    "import random\n",
    "\n",
    "rand = random.randint(1, 1000000)\n",
    "dataset_id = create_dataset(f'test dataset-{rand}', url='test')\n",
    "dataset_id"
   ]
  },
  {
   "cell_type": "markdown",
   "metadata": {},
   "source": [
    "The returned `dataset_id` can then be used to add individual entries (or all entries within an upload) to the dataset by including it in the upload/entry metadata, using the method described above:"
   ]
  },
  {
   "cell_type": "code",
   "execution_count": 24,
   "metadata": {},
   "outputs": [
    {
     "data": {
      "text/plain": [
       "{'upload_id': '47fM2TYlT5mRbl-wbms9YA',\n",
       " 'data': {'process_running': True,\n",
       "  'current_process': 'edit_upload_metadata',\n",
       "  'process_status': 'PENDING',\n",
       "  'last_status_message': 'Pending: edit_upload_metadata',\n",
       "  'errors': [],\n",
       "  'warnings': [],\n",
       "  'complete_time': '2025-05-11T12:17:04.976000',\n",
       "  'upload_id': '47fM2TYlT5mRbl-wbms9YA',\n",
       "  'upload_name': 'Test Upload',\n",
       "  'upload_create_time': '2025-05-11T12:16:47.038000',\n",
       "  'main_author': '8f052e1f-1906-41fd-b2eb-690c03407788',\n",
       "  'coauthors': [],\n",
       "  'coauthor_groups': [],\n",
       "  'reviewers': [],\n",
       "  'reviewer_groups': [],\n",
       "  'writers': ['8f052e1f-1906-41fd-b2eb-690c03407788'],\n",
       "  'writer_groups': [],\n",
       "  'viewers': ['8f052e1f-1906-41fd-b2eb-690c03407788'],\n",
       "  'viewer_groups': [],\n",
       "  'published': True,\n",
       "  'published_to': [],\n",
       "  'publish_time': '2025-05-11T12:17:04.965000',\n",
       "  'with_embargo': False,\n",
       "  'embargo_length': 0,\n",
       "  'license': 'CC BY 4.0',\n",
       "  'entries': 1}}"
      ]
     },
     "execution_count": 24,
     "metadata": {},
     "output_type": "execute_result"
    }
   ],
   "source": [
    "metadata_new = {'dataset_id': dataset_id}\n",
    "edit_upload_metadata(upload_id, url='test', upload_metadata=metadata_new)"
   ]
  },
  {
   "cell_type": "code",
   "execution_count": 25,
   "metadata": {},
   "outputs": [
    {
     "name": "stdout",
     "output_type": "stream",
     "text": [
      "True\n",
      "True\n"
     ]
    }
   ],
   "source": [
    "nomad_upload = get_upload_by_id(upload_id, url='test')\n",
    "\n",
    "pprint(nomad_upload.process_status == 'SUCCESS')\n",
    "pprint(nomad_upload.process_running is False)"
   ]
  },
  {
   "cell_type": "markdown",
   "metadata": {},
   "source": [
    "\n",
    "\n",
    "You can also retrieve the dataset metadata using the `dataset_id` with `get_dataset_by_id()`. The returned `NomadDataset()` class contains the following attributes:\n",
    "\n",
    "```python\n",
    "class NomadDataset:\n",
    "    dataset_id: str\n",
    "    dataset_create_time: dt.datetime\n",
    "    dataset_name: str\n",
    "    dataset_type: str\n",
    "    dataset_modified_time: dt.datetime\n",
    "    user: NomadUser\n",
    "    doi: str\n",
    "    pid: int\n",
    "    m_annotations: dict\n",
    "```"
   ]
  },
  {
   "cell_type": "code",
   "execution_count": 26,
   "metadata": {},
   "outputs": [
    {
     "data": {
      "text/plain": [
       "NomadDataset(dataset_id='0iW24lycTFuQhsYnrF7yjw', dataset_create_time=datetime.datetime(2025, 5, 11, 12, 19, 1, 245000), dataset_name='test dataset-40425', dataset_type='owned', dataset_modified_time=datetime.datetime(2025, 5, 11, 12, 19, 1, 245000), user=NomadUser(name='Joseph Rudzinski'), doi=None, pid=None, m_annotations=None)"
      ]
     },
     "execution_count": 26,
     "metadata": {},
     "output_type": "execute_result"
    }
   ],
   "source": [
    "nomad_dataset = get_dataset_by_id(dataset_id, url='test')\n",
    "nomad_dataset"
   ]
  },
  {
   "cell_type": "markdown",
   "metadata": {},
   "source": [
    "Alternatively, you can search for datasets, e.g., by `user_id` or `dataset_name`, using `retrieve_datasets()`:"
   ]
  },
  {
   "cell_type": "code",
   "execution_count": 27,
   "metadata": {},
   "outputs": [
    {
     "name": "stdout",
     "output_type": "stream",
     "text": [
      "[NomadDataset(dataset_id='EfhadCxpRaGpw50rWzK22w',\n",
      "              dataset_create_time=datetime.datetime(2024, 10, 16, 10, 15, 5, 240000),\n",
      "              dataset_name='test dataset',\n",
      "              dataset_type='owned',\n",
      "              dataset_modified_time=datetime.datetime(2024, 10, 16, 10, 15, 5, 240000),\n",
      "              user=NomadUser(name='Joseph Rudzinski'),\n",
      "              doi=None,\n",
      "              pid=None,\n",
      "              m_annotations=None),\n",
      " NomadDataset(dataset_id='i31BPDbER3iB3IJPS3_Iog',\n",
      "              dataset_create_time=datetime.datetime(2025, 2, 26, 9, 23, 47, 831000),\n",
      "              dataset_name='Example Dataset - DPG Tutorial 2025 - Rudzinski',\n",
      "              dataset_type='owned',\n",
      "              dataset_modified_time=datetime.datetime(2025, 2, 26, 9, 23, 47, 831000),\n",
      "              user=NomadUser(name='Joseph Rudzinski'),\n",
      "              doi=None,\n",
      "              pid=None,\n",
      "              m_annotations=None),\n",
      " NomadDataset(dataset_id='hgOLOSPJT4CQah0xoAGkEg',\n",
      "              dataset_create_time=datetime.datetime(2025, 2, 28, 20, 13, 37, 18000),\n",
      "              dataset_name='test dataset-2',\n",
      "              dataset_type='owned',\n",
      "              dataset_modified_time=datetime.datetime(2025, 2, 28, 20, 13, 37, 18000),\n",
      "              user=NomadUser(name='Joseph Rudzinski'),\n",
      "              doi=None,\n",
      "              pid=None,\n",
      "              m_annotations=None),\n",
      " NomadDataset(dataset_id='PiDIftMSQRCc6YAdAM1o1A',\n",
      "              dataset_create_time=datetime.datetime(2025, 3, 16, 15, 47, 14, 359000),\n",
      "              dataset_name='Example Dataset - DPG Tutorial 2025 - <your name>',\n",
      "              dataset_type='owned',\n",
      "              dataset_modified_time=datetime.datetime(2025, 3, 16, 15, 47, 14, 359000),\n",
      "              user=NomadUser(name='Joseph Rudzinski'),\n",
      "              doi=None,\n",
      "              pid=None,\n",
      "              m_annotations=None),\n",
      " NomadDataset(dataset_id='lNelsfliS1608UzGfKEV9g',\n",
      "              dataset_create_time=datetime.datetime(2025, 3, 16, 15, 52, 46, 29000),\n",
      "              dataset_name='Example Dataset - DPG Tutorial 2025 - Tutorial',\n",
      "              dataset_type='owned',\n",
      "              dataset_modified_time=datetime.datetime(2025, 3, 16, 15, 52, 46, 29000),\n",
      "              user=NomadUser(name='Joseph Rudzinski'),\n",
      "              doi=None,\n",
      "              pid=None,\n",
      "              m_annotations=None),\n",
      " NomadDataset(dataset_id='qFb-oRLmTH29vTFVPBlnnA',\n",
      "              dataset_create_time=datetime.datetime(2025, 4, 3, 7, 57, 2, 447000),\n",
      "              dataset_name='test dataset-None',\n",
      "              dataset_type='owned',\n",
      "              dataset_modified_time=datetime.datetime(2025, 4, 3, 7, 57, 2, 447000),\n",
      "              user=NomadUser(name='Joseph Rudzinski'),\n",
      "              doi=None,\n",
      "              pid=None,\n",
      "              m_annotations=None),\n",
      " NomadDataset(dataset_id='8O663egdS4uF5KFOsnjuAw',\n",
      "              dataset_create_time=datetime.datetime(2025, 4, 10, 19, 21, 21, 763000),\n",
      "              dataset_name='Coarse-grained shear-flow molecular dynamics '\n",
      "                           'simulations of the ionic liquid [C4mim]+[PF6]−',\n",
      "              dataset_type='owned',\n",
      "              dataset_modified_time=datetime.datetime(2025, 4, 10, 19, 21, 21, 763000),\n",
      "              user=NomadUser(name='Joseph Rudzinski'),\n",
      "              doi=None,\n",
      "              pid=None,\n",
      "              m_annotations=None),\n",
      " NomadDataset(dataset_id='0iW24lycTFuQhsYnrF7yjw',\n",
      "              dataset_create_time=datetime.datetime(2025, 5, 11, 12, 19, 1, 245000),\n",
      "              dataset_name='test dataset-40425',\n",
      "              dataset_type='owned',\n",
      "              dataset_modified_time=datetime.datetime(2025, 5, 11, 12, 19, 1, 245000),\n",
      "              user=NomadUser(name='Joseph Rudzinski'),\n",
      "              doi=None,\n",
      "              pid=None,\n",
      "              m_annotations=None),\n",
      " NomadDataset(dataset_id='EfhadCxpRaGpw50rWzK22w',\n",
      "              dataset_create_time=datetime.datetime(2024, 10, 16, 10, 15, 5, 240000),\n",
      "              dataset_name='test dataset',\n",
      "              dataset_type='owned',\n",
      "              dataset_modified_time=datetime.datetime(2024, 10, 16, 10, 15, 5, 240000),\n",
      "              user=NomadUser(name='Joseph Rudzinski'),\n",
      "              doi=None,\n",
      "              pid=None,\n",
      "              m_annotations=None),\n",
      " NomadDataset(dataset_id='i31BPDbER3iB3IJPS3_Iog',\n",
      "              dataset_create_time=datetime.datetime(2025, 2, 26, 9, 23, 47, 831000),\n",
      "              dataset_name='Example Dataset - DPG Tutorial 2025 - Rudzinski',\n",
      "              dataset_type='owned',\n",
      "              dataset_modified_time=datetime.datetime(2025, 2, 26, 9, 23, 47, 831000),\n",
      "              user=NomadUser(name='Joseph Rudzinski'),\n",
      "              doi=None,\n",
      "              pid=None,\n",
      "              m_annotations=None),\n",
      " NomadDataset(dataset_id='hgOLOSPJT4CQah0xoAGkEg',\n",
      "              dataset_create_time=datetime.datetime(2025, 2, 28, 20, 13, 37, 18000),\n",
      "              dataset_name='test dataset-2',\n",
      "              dataset_type='owned',\n",
      "              dataset_modified_time=datetime.datetime(2025, 2, 28, 20, 13, 37, 18000),\n",
      "              user=NomadUser(name='Joseph Rudzinski'),\n",
      "              doi=None,\n",
      "              pid=None,\n",
      "              m_annotations=None),\n",
      " NomadDataset(dataset_id='PiDIftMSQRCc6YAdAM1o1A',\n",
      "              dataset_create_time=datetime.datetime(2025, 3, 16, 15, 47, 14, 359000),\n",
      "              dataset_name='Example Dataset - DPG Tutorial 2025 - <your name>',\n",
      "              dataset_type='owned',\n",
      "              dataset_modified_time=datetime.datetime(2025, 3, 16, 15, 47, 14, 359000),\n",
      "              user=NomadUser(name='Joseph Rudzinski'),\n",
      "              doi=None,\n",
      "              pid=None,\n",
      "              m_annotations=None),\n",
      " NomadDataset(dataset_id='lNelsfliS1608UzGfKEV9g',\n",
      "              dataset_create_time=datetime.datetime(2025, 3, 16, 15, 52, 46, 29000),\n",
      "              dataset_name='Example Dataset - DPG Tutorial 2025 - Tutorial',\n",
      "              dataset_type='owned',\n",
      "              dataset_modified_time=datetime.datetime(2025, 3, 16, 15, 52, 46, 29000),\n",
      "              user=NomadUser(name='Joseph Rudzinski'),\n",
      "              doi=None,\n",
      "              pid=None,\n",
      "              m_annotations=None),\n",
      " NomadDataset(dataset_id='qFb-oRLmTH29vTFVPBlnnA',\n",
      "              dataset_create_time=datetime.datetime(2025, 4, 3, 7, 57, 2, 447000),\n",
      "              dataset_name='test dataset-None',\n",
      "              dataset_type='owned',\n",
      "              dataset_modified_time=datetime.datetime(2025, 4, 3, 7, 57, 2, 447000),\n",
      "              user=NomadUser(name='Joseph Rudzinski'),\n",
      "              doi=None,\n",
      "              pid=None,\n",
      "              m_annotations=None),\n",
      " NomadDataset(dataset_id='8O663egdS4uF5KFOsnjuAw',\n",
      "              dataset_create_time=datetime.datetime(2025, 4, 10, 19, 21, 21, 763000),\n",
      "              dataset_name='Coarse-grained shear-flow molecular dynamics '\n",
      "                           'simulations of the ionic liquid [C4mim]+[PF6]−',\n",
      "              dataset_type='owned',\n",
      "              dataset_modified_time=datetime.datetime(2025, 4, 10, 19, 21, 21, 763000),\n",
      "              user=NomadUser(name='Joseph Rudzinski'),\n",
      "              doi=None,\n",
      "              pid=None,\n",
      "              m_annotations=None),\n",
      " NomadDataset(dataset_id='0iW24lycTFuQhsYnrF7yjw',\n",
      "              dataset_create_time=datetime.datetime(2025, 5, 11, 12, 19, 1, 245000),\n",
      "              dataset_name='test dataset-40425',\n",
      "              dataset_type='owned',\n",
      "              dataset_modified_time=datetime.datetime(2025, 5, 11, 12, 19, 1, 245000),\n",
      "              user=NomadUser(name='Joseph Rudzinski'),\n",
      "              doi=None,\n",
      "              pid=None,\n",
      "              m_annotations=None),\n",
      " NomadDataset(dataset_id='EfhadCxpRaGpw50rWzK22w',\n",
      "              dataset_create_time=datetime.datetime(2024, 10, 16, 10, 15, 5, 240000),\n",
      "              dataset_name='test dataset',\n",
      "              dataset_type='owned',\n",
      "              dataset_modified_time=datetime.datetime(2024, 10, 16, 10, 15, 5, 240000),\n",
      "              user=NomadUser(name='Joseph Rudzinski'),\n",
      "              doi=None,\n",
      "              pid=None,\n",
      "              m_annotations=None),\n",
      " NomadDataset(dataset_id='i31BPDbER3iB3IJPS3_Iog',\n",
      "              dataset_create_time=datetime.datetime(2025, 2, 26, 9, 23, 47, 831000),\n",
      "              dataset_name='Example Dataset - DPG Tutorial 2025 - Rudzinski',\n",
      "              dataset_type='owned',\n",
      "              dataset_modified_time=datetime.datetime(2025, 2, 26, 9, 23, 47, 831000),\n",
      "              user=NomadUser(name='Joseph Rudzinski'),\n",
      "              doi=None,\n",
      "              pid=None,\n",
      "              m_annotations=None),\n",
      " NomadDataset(dataset_id='hgOLOSPJT4CQah0xoAGkEg',\n",
      "              dataset_create_time=datetime.datetime(2025, 2, 28, 20, 13, 37, 18000),\n",
      "              dataset_name='test dataset-2',\n",
      "              dataset_type='owned',\n",
      "              dataset_modified_time=datetime.datetime(2025, 2, 28, 20, 13, 37, 18000),\n",
      "              user=NomadUser(name='Joseph Rudzinski'),\n",
      "              doi=None,\n",
      "              pid=None,\n",
      "              m_annotations=None),\n",
      " NomadDataset(dataset_id='PiDIftMSQRCc6YAdAM1o1A',\n",
      "              dataset_create_time=datetime.datetime(2025, 3, 16, 15, 47, 14, 359000),\n",
      "              dataset_name='Example Dataset - DPG Tutorial 2025 - <your name>',\n",
      "              dataset_type='owned',\n",
      "              dataset_modified_time=datetime.datetime(2025, 3, 16, 15, 47, 14, 359000),\n",
      "              user=NomadUser(name='Joseph Rudzinski'),\n",
      "              doi=None,\n",
      "              pid=None,\n",
      "              m_annotations=None),\n",
      " NomadDataset(dataset_id='lNelsfliS1608UzGfKEV9g',\n",
      "              dataset_create_time=datetime.datetime(2025, 3, 16, 15, 52, 46, 29000),\n",
      "              dataset_name='Example Dataset - DPG Tutorial 2025 - Tutorial',\n",
      "              dataset_type='owned',\n",
      "              dataset_modified_time=datetime.datetime(2025, 3, 16, 15, 52, 46, 29000),\n",
      "              user=NomadUser(name='Joseph Rudzinski'),\n",
      "              doi=None,\n",
      "              pid=None,\n",
      "              m_annotations=None),\n",
      " NomadDataset(dataset_id='qFb-oRLmTH29vTFVPBlnnA',\n",
      "              dataset_create_time=datetime.datetime(2025, 4, 3, 7, 57, 2, 447000),\n",
      "              dataset_name='test dataset-None',\n",
      "              dataset_type='owned',\n",
      "              dataset_modified_time=datetime.datetime(2025, 4, 3, 7, 57, 2, 447000),\n",
      "              user=NomadUser(name='Joseph Rudzinski'),\n",
      "              doi=None,\n",
      "              pid=None,\n",
      "              m_annotations=None),\n",
      " NomadDataset(dataset_id='8O663egdS4uF5KFOsnjuAw',\n",
      "              dataset_create_time=datetime.datetime(2025, 4, 10, 19, 21, 21, 763000),\n",
      "              dataset_name='Coarse-grained shear-flow molecular dynamics '\n",
      "                           'simulations of the ionic liquid [C4mim]+[PF6]−',\n",
      "              dataset_type='owned',\n",
      "              dataset_modified_time=datetime.datetime(2025, 4, 10, 19, 21, 21, 763000),\n",
      "              user=NomadUser(name='Joseph Rudzinski'),\n",
      "              doi=None,\n",
      "              pid=None,\n",
      "              m_annotations=None),\n",
      " NomadDataset(dataset_id='0iW24lycTFuQhsYnrF7yjw',\n",
      "              dataset_create_time=datetime.datetime(2025, 5, 11, 12, 19, 1, 245000),\n",
      "              dataset_name='test dataset-40425',\n",
      "              dataset_type='owned',\n",
      "              dataset_modified_time=datetime.datetime(2025, 5, 11, 12, 19, 1, 245000),\n",
      "              user=NomadUser(name='Joseph Rudzinski'),\n",
      "              doi=None,\n",
      "              pid=None,\n",
      "              m_annotations=None)]\n"
     ]
    }
   ],
   "source": [
    "my_datasets = retrieve_datasets(\n",
    "    dataset_params={'user_id': nomad_user_me.user_id, 'max_datasets': 20}, url='test'\n",
    ")\n",
    "pprint(my_datasets)"
   ]
  },
  {
   "cell_type": "markdown",
   "metadata": {},
   "source": [
    "To get the list of entries contained within a dataset, use `query_entries()`:"
   ]
  },
  {
   "cell_type": "code",
   "execution_count": 28,
   "metadata": {},
   "outputs": [
    {
     "name": "stdout",
     "output_type": "stream",
     "text": [
      "'entry_id=ehktf2IROtsCfZAP5yR-tTo7RndQ, upload_id=47fM2TYlT5mRbl-wbms9YA'\n"
     ]
    }
   ],
   "source": [
    "dataset_entries = query_entries(query_params={'dataset_id': dataset_id}, url='test')\n",
    "for entry in dataset_entries:\n",
    "    pprint(f'entry_id={entry.entry_id}, upload_id={entry.upload_id}')"
   ]
  },
  {
   "cell_type": "markdown",
   "metadata": {},
   "source": [
    "There is no \"publishing\" action for datasets. Instead, when the dataset is complete (i.e., you are ready to lock the contents of the dataset), you can *assign a DOI*. There is currently no API action for this within nomad-utility-workflows. You must go to the GUI of the relevant deployment, go to `PUBLISH > Datasets`, find the dataset, and then click the \"assign a DOI\" banner icon to the right of the dataset entry."
   ]
  },
  {
   "cell_type": "markdown",
   "metadata": {},
   "source": [
    "## Deleting Uploads and Datasets\n",
    "\n",
    "You can delete uploads and datasets using `delete_upload()` and `delete_dataset()` as demonstrated in the following examples (along with the previously explained workflow of uploading, editing, etc.). Note that the wait times in these examples are arbitrary. One should optimize these for specific use cases.\n",
    "\n",
    "**upload, check for success, delete, check for success**:"
   ]
  },
  {
   "cell_type": "code",
   "execution_count": 29,
   "metadata": {},
   "outputs": [
    {
     "name": "stdout",
     "output_type": "stream",
     "text": [
      "'Upload with upload_id=mRlxToYvSG2d-BuWxTH4Mw was deleted successfully.'\n"
     ]
    }
   ],
   "source": [
    "# Make a dummy upload\n",
    "upload_id = upload_files_to_nomad(filename=test_upload_fnm, url='test')\n",
    "\n",
    "\n",
    "max_wait_time = 15  # 15 seconds\n",
    "interval = 5  # 5 seconds\n",
    "elapsed_time = 0\n",
    "\n",
    "while elapsed_time < max_wait_time:\n",
    "    # Get the upload\n",
    "    nomad_upload = get_upload_by_id(upload_id, url='test')\n",
    "\n",
    "    # Check if the upload is complete\n",
    "    if nomad_upload.process_status == 'SUCCESS':\n",
    "        break\n",
    "\n",
    "    # Wait for 5 seconds before the next call\n",
    "    time.sleep(interval)\n",
    "    elapsed_time += interval\n",
    "else:\n",
    "    raise TimeoutError(\n",
    "        'Maximum wait time of 15 seconds exceeded. Upload is not complete.'\n",
    "    )\n",
    "\n",
    "# Delete the upload\n",
    "delete_upload(upload_id, url='test')\n",
    "\n",
    "# Wait for 5 seconds to make sure deletion is complete\n",
    "time.sleep(5)\n",
    "\n",
    "# Check if the upload was deleted\n",
    "try:\n",
    "    get_upload_by_id(upload_id, url='test')\n",
    "except Exception:\n",
    "    pprint(f'Upload with upload_id={upload_id} was deleted successfully.')"
   ]
  },
  {
   "cell_type": "markdown",
   "metadata": {},
   "source": [
    "**create dataset, check for success, delete, check for success**:"
   ]
  },
  {
   "cell_type": "code",
   "execution_count": 30,
   "metadata": {},
   "outputs": [
    {
     "name": "stdout",
     "output_type": "stream",
     "text": [
      "'Dataset with dataset_id=7xUggwulThaSKa52nCH2Wg was deleted successfully.'\n"
     ]
    }
   ],
   "source": [
    "# Make a dummy dataset\n",
    "dataset_id = create_dataset('dummy dataset', url='test')\n",
    "\n",
    "# Wait for 5 seconds to make sure dataset is created\n",
    "time.sleep(5)\n",
    "\n",
    "# Ensure the dataset was created\n",
    "dummy_dataset = get_dataset_by_id(dataset_id, url='test')\n",
    "assert dummy_dataset.dataset_id == dataset_id\n",
    "\n",
    "# Delete the upload\n",
    "delete_dataset(dataset_id, url='test')\n",
    "\n",
    "# Wait for 5 seconds to make sure deletion is complete\n",
    "time.sleep(5)\n",
    "\n",
    "# Check if the dataset was deleted\n",
    "try:\n",
    "    get_dataset_by_id(dataset_id, url='test')\n",
    "except Exception:\n",
    "    pprint(f'Dataset with dataset_id={dataset_id} was deleted successfully.')"
   ]
  },
  {
   "cell_type": "markdown",
   "metadata": {},
   "source": [
    "## Useful Wrappers\n",
    "\n",
    "nomad-utility-workflows contains a few useful wrapper functions to help users query all of their uploads and corresponding entries:"
   ]
  },
  {
   "cell_type": "code",
   "execution_count": 31,
   "metadata": {},
   "outputs": [
    {
     "data": {
      "text/plain": [
       "[NomadUpload(upload_id='bQa5SGDQQ8auQUBb5AaYHw', upload_create_time=datetime.datetime(2024, 10, 14, 10, 48, 40, 994000), main_author=NomadUser(name='Joseph Rudzinski'), process_running=False, current_process='publish_upload', process_status='SUCCESS', last_status_message='Process publish_upload completed successfully', errors=[], warnings=[], coauthors=[], coauthor_groups=[], reviewers=[], reviewer_groups=[], writers=[NomadUser(name='Joseph Rudzinski')], writer_groups=[], viewers=[NomadUser(name='Joseph Rudzinski')], viewer_groups=[], published=True, published_to=[], with_embargo=False, embargo_length=0.0, license='CC BY 4.0', entries=1, n_entries=None, upload_files_server_path=None, publish_time=datetime.datetime(2024, 10, 14, 10, 48, 55, 806000), references=None, datasets=None, external_db=None, upload_name='Test Upload', comment=None, url='https://nomad-lab.eu/prod/v1/test/api/v1', complete_time=datetime.datetime(2024, 10, 14, 10, 48, 55, 818000)),\n",
       " NomadUpload(upload_id='DN61X4r7SCyzm5q1kxcEcw', upload_create_time=datetime.datetime(2024, 10, 14, 10, 55, 12, 410000), main_author=NomadUser(name='Joseph Rudzinski'), process_running=False, current_process='publish_upload', process_status='SUCCESS', last_status_message='Process publish_upload completed successfully', errors=[], warnings=[], coauthors=[], coauthor_groups=[], reviewers=[], reviewer_groups=[], writers=[NomadUser(name='Joseph Rudzinski')], writer_groups=[], viewers=[NomadUser(name='Joseph Rudzinski')], viewer_groups=[], published=True, published_to=[], with_embargo=False, embargo_length=0.0, license='CC BY 4.0', entries=1, n_entries=None, upload_files_server_path=None, publish_time=datetime.datetime(2024, 10, 14, 10, 55, 23, 52000), references=None, datasets=None, external_db=None, upload_name='Test Upload', comment=None, url='https://nomad-lab.eu/prod/v1/test/api/v1', complete_time=datetime.datetime(2024, 10, 14, 10, 55, 23, 65000)),\n",
       " NomadUpload(upload_id='z4QvhZ7qSCmgIFv_qJqlyQ', upload_create_time=datetime.datetime(2024, 10, 14, 20, 20, 38, 757000), main_author=NomadUser(name='Joseph Rudzinski'), process_running=False, current_process='edit_upload_metadata', process_status='SUCCESS', last_status_message='Process edit_upload_metadata completed successfully', errors=[], warnings=[], coauthors=['7c85bdf1-8b53-40a8-81a4-04f26ff56f29'], coauthor_groups=[], reviewers=[], reviewer_groups=[], writers=[NomadUser(name='Joseph Rudzinski'), NomadUser(name='Joseph Rudzinski')], writer_groups=[], viewers=[NomadUser(name='Joseph Rudzinski'), NomadUser(name='Joseph Rudzinski')], viewer_groups=[], published=True, published_to=[], with_embargo=False, embargo_length=0.0, license='CC BY 4.0', entries=1, n_entries=None, upload_files_server_path=None, publish_time=datetime.datetime(2024, 10, 15, 6, 18, 27, 700000), references=None, datasets=None, external_db=None, upload_name='Test Upload', comment=None, url='https://nomad-lab.eu/prod/v1/test/api/v1', complete_time=datetime.datetime(2024, 10, 15, 6, 22, 33, 45000)),\n",
       " NomadUpload(upload_id='GJdVAOCxRVe-Cwo3qMz9Kg', upload_create_time=datetime.datetime(2024, 10, 15, 10, 48, 44, 337000), main_author=NomadUser(name='Joseph Rudzinski'), process_running=False, current_process='edit_upload_metadata', process_status='SUCCESS', last_status_message='Process edit_upload_metadata completed successfully', errors=[], warnings=[], coauthors=[], coauthor_groups=[], reviewers=[], reviewer_groups=[], writers=[NomadUser(name='Joseph Rudzinski')], writer_groups=[], viewers=[NomadUser(name='Joseph Rudzinski')], viewer_groups=[], published=True, published_to=[], with_embargo=False, embargo_length=0.0, license='CC BY 4.0', entries=1, n_entries=None, upload_files_server_path=None, publish_time=datetime.datetime(2024, 10, 15, 10, 49, 24, 4000), references=None, datasets=None, external_db=None, upload_name='Test Upload', comment=None, url='https://nomad-lab.eu/prod/v1/test/api/v1', complete_time=datetime.datetime(2024, 10, 15, 10, 49, 30, 962000)),\n",
       " NomadUpload(upload_id='RdA_3ZsOTMqbtAhYLivVsw', upload_create_time=datetime.datetime(2024, 10, 15, 20, 2, 10, 378000), main_author=NomadUser(name='Joseph Rudzinski'), process_running=False, current_process='edit_upload_metadata', process_status='SUCCESS', last_status_message='Process edit_upload_metadata completed successfully', errors=[], warnings=[], coauthors=[], coauthor_groups=[], reviewers=[], reviewer_groups=[], writers=[NomadUser(name='Joseph Rudzinski')], writer_groups=[], viewers=[NomadUser(name='Joseph Rudzinski')], viewer_groups=[], published=True, published_to=[], with_embargo=False, embargo_length=0.0, license='CC BY 4.0', entries=1, n_entries=None, upload_files_server_path=None, publish_time=datetime.datetime(2024, 10, 15, 20, 9, 28, 757000), references=None, datasets=None, external_db=None, upload_name='Test Upload', comment=None, url='https://nomad-lab.eu/prod/v1/test/api/v1', complete_time=datetime.datetime(2024, 10, 15, 20, 10, 33, 141000)),\n",
       " NomadUpload(upload_id='8vViZoL3TYG9fMFibPkjlw', upload_create_time=datetime.datetime(2024, 10, 16, 9, 25, 53, 929000), main_author=NomadUser(name='Joseph Rudzinski'), process_running=False, current_process='publish_upload', process_status='SUCCESS', last_status_message='Process publish_upload completed successfully', errors=[], warnings=[], coauthors=[], coauthor_groups=[], reviewers=[], reviewer_groups=[], writers=[NomadUser(name='Joseph Rudzinski')], writer_groups=[], viewers=[NomadUser(name='Joseph Rudzinski')], viewer_groups=[], published=True, published_to=[], with_embargo=False, embargo_length=0.0, license='CC BY 4.0', entries=1, n_entries=None, upload_files_server_path=None, publish_time=datetime.datetime(2024, 10, 16, 9, 43, 18, 243000), references=None, datasets=None, external_db=None, upload_name='Test Upload', comment=None, url='https://nomad-lab.eu/prod/v1/test/api/v1', complete_time=datetime.datetime(2024, 10, 16, 9, 43, 18, 255000)),\n",
       " NomadUpload(upload_id='cP4q5rRsQM-D60Tp3olPdQ', upload_create_time=datetime.datetime(2024, 10, 16, 9, 47, 31, 721000), main_author=NomadUser(name='Joseph Rudzinski'), process_running=False, current_process='publish_upload', process_status='SUCCESS', last_status_message='Process publish_upload completed successfully', errors=[], warnings=[], coauthors=[], coauthor_groups=[], reviewers=[], reviewer_groups=[], writers=[NomadUser(name='Joseph Rudzinski')], writer_groups=[], viewers=[NomadUser(name='Joseph Rudzinski')], viewer_groups=[], published=True, published_to=[], with_embargo=False, embargo_length=0.0, license='CC BY 4.0', entries=1, n_entries=None, upload_files_server_path=None, publish_time=datetime.datetime(2024, 10, 16, 9, 47, 46, 247000), references=None, datasets=None, external_db=None, upload_name='Test Upload', comment=None, url='https://nomad-lab.eu/prod/v1/test/api/v1', complete_time=datetime.datetime(2024, 10, 16, 9, 47, 46, 257000)),\n",
       " NomadUpload(upload_id='_mZn0RZ8QtmBkcAlPU5bSw', upload_create_time=datetime.datetime(2024, 10, 16, 9, 52, 47, 649000), main_author=NomadUser(name='Joseph Rudzinski'), process_running=False, current_process='edit_upload_metadata', process_status='SUCCESS', last_status_message='Process edit_upload_metadata completed successfully', errors=[], warnings=[], coauthors=[], coauthor_groups=[], reviewers=[], reviewer_groups=[], writers=[NomadUser(name='Joseph Rudzinski')], writer_groups=[], viewers=[NomadUser(name='Joseph Rudzinski')], viewer_groups=[], published=True, published_to=[], with_embargo=False, embargo_length=0.0, license='CC BY 4.0', entries=1, n_entries=None, upload_files_server_path=None, publish_time=datetime.datetime(2024, 10, 16, 9, 53, 0, 835000), references=None, datasets=None, external_db=None, upload_name='Test Upload', comment=None, url='https://nomad-lab.eu/prod/v1/test/api/v1', complete_time=datetime.datetime(2024, 10, 16, 9, 53, 4, 791000)),\n",
       " NomadUpload(upload_id='Cntk6OsQTvaZp7r6Jom-3g', upload_create_time=datetime.datetime(2024, 10, 16, 9, 54, 47, 426000), main_author=NomadUser(name='Joseph Rudzinski'), process_running=False, current_process='edit_upload_metadata', process_status='SUCCESS', last_status_message='Process edit_upload_metadata completed successfully', errors=[], warnings=[], coauthors=[], coauthor_groups=[], reviewers=[], reviewer_groups=[], writers=[NomadUser(name='Joseph Rudzinski')], writer_groups=[], viewers=[NomadUser(name='Joseph Rudzinski')], viewer_groups=[], published=True, published_to=[], with_embargo=False, embargo_length=0.0, license='CC BY 4.0', entries=1, n_entries=None, upload_files_server_path=None, publish_time=datetime.datetime(2024, 10, 16, 9, 54, 51, 988000), references=None, datasets=None, external_db=None, upload_name='Test Upload', comment=None, url='https://nomad-lab.eu/prod/v1/test/api/v1', complete_time=datetime.datetime(2024, 10, 16, 9, 54, 53, 838000)),\n",
       " NomadUpload(upload_id='e2b5o4KSR5yoS1EV9E9jXQ', upload_create_time=datetime.datetime(2024, 10, 16, 10, 14, 57, 722000), main_author=NomadUser(name='Joseph Rudzinski'), process_running=False, current_process='edit_upload_metadata', process_status='SUCCESS', last_status_message='Process edit_upload_metadata completed successfully', errors=[], warnings=[], coauthors=[], coauthor_groups=[], reviewers=[], reviewer_groups=[], writers=[NomadUser(name='Joseph Rudzinski')], writer_groups=[], viewers=[NomadUser(name='Joseph Rudzinski')], viewer_groups=[], published=True, published_to=[], with_embargo=False, embargo_length=0.0, license='CC BY 4.0', entries=1, n_entries=None, upload_files_server_path=None, publish_time=datetime.datetime(2024, 10, 16, 10, 15, 4, 99000), references=None, datasets=None, external_db=None, upload_name='Test Upload', comment=None, url='https://nomad-lab.eu/prod/v1/test/api/v1', complete_time=datetime.datetime(2024, 10, 16, 10, 15, 6, 952000))]"
      ]
     },
     "execution_count": 31,
     "metadata": {},
     "output_type": "execute_result"
    }
   ],
   "source": [
    "get_all_my_uploads(url='test')"
   ]
  },
  {
   "cell_type": "code",
   "execution_count": 32,
   "metadata": {},
   "outputs": [
    {
     "data": {
      "text/plain": [
       "[NomadEntry(entry_id='ycdeXhPDG-nIgEQlqBfzIEKPWCvy', upload_id='bQa5SGDQQ8auQUBb5AaYHw', references=[], origin='Joseph Rudzinski', n_quantities=34, nomad_version='1.3.7.dev55+ge83de27b3', upload_create_time=datetime.datetime(2024, 10, 14, 10, 48, 40, 994000, tzinfo=datetime.timezone.utc), nomad_commit='', processing_errors=[], entry_name='test.archive.json', last_processing_time=datetime.datetime(2024, 10, 14, 10, 48, 42, 415000, tzinfo=datetime.timezone.utc), parser_name='parsers/archive', calc_id='ycdeXhPDG-nIgEQlqBfzIEKPWCvy', published=True, writers=[NomadUser(name='Joseph Rudzinski')], processed=True, mainfile='test.archive.json', main_author=NomadUser(name='Joseph Rudzinski'), entry_create_time=datetime.datetime(2024, 10, 14, 10, 48, 41, 672000, tzinfo=datetime.timezone.utc), with_embargo=False, entry_type=None, license='CC BY 4.0', domain=None, comment='This is a test upload...', upload_name='Test Upload', text_search_contents=[], publish_time=None, entry_references=None, url='https://nomad-lab.eu/prod/v1/test/api/v1'),\n",
       " NomadEntry(entry_id='7A6lJb-14xR9lxXO8kjuYt5-vxg2', upload_id='DN61X4r7SCyzm5q1kxcEcw', references=[], origin='Joseph Rudzinski', n_quantities=34, nomad_version='1.3.7.dev55+ge83de27b3', upload_create_time=datetime.datetime(2024, 10, 14, 10, 55, 12, 410000, tzinfo=datetime.timezone.utc), nomad_commit='', processing_errors=[], entry_name='test.archive.json', last_processing_time=datetime.datetime(2024, 10, 14, 10, 55, 12, 808000, tzinfo=datetime.timezone.utc), parser_name='parsers/archive', calc_id='7A6lJb-14xR9lxXO8kjuYt5-vxg2', published=True, writers=[NomadUser(name='Joseph Rudzinski')], processed=True, mainfile='test.archive.json', main_author=NomadUser(name='Joseph Rudzinski'), entry_create_time=datetime.datetime(2024, 10, 14, 10, 55, 12, 563000, tzinfo=datetime.timezone.utc), with_embargo=False, entry_type=None, license='CC BY 4.0', domain=None, comment='This is a test upload...', upload_name='Test Upload', text_search_contents=[], publish_time=None, entry_references=None, url='https://nomad-lab.eu/prod/v1/test/api/v1'),\n",
       " NomadEntry(entry_id='jWSpYURP5GgPtgF9LXZJpNlDv-GL', upload_id='z4QvhZ7qSCmgIFv_qJqlyQ', references=[], origin='Joseph Rudzinski', n_quantities=0, nomad_version='1.3.7.dev55+ge83de27b3', upload_create_time=datetime.datetime(2024, 10, 14, 20, 20, 38, 757000, tzinfo=datetime.timezone.utc), nomad_commit='', processing_errors=[], entry_name='test.archive.json', last_processing_time=datetime.datetime(2024, 10, 14, 20, 20, 39, 272000, tzinfo=datetime.timezone.utc), parser_name='parsers/archive', calc_id='jWSpYURP5GgPtgF9LXZJpNlDv-GL', published=True, writers=[NomadUser(name='Joseph Rudzinski'), NomadUser(name='Joseph Rudzinski')], processed=True, mainfile='test.archive.json', main_author=NomadUser(name='Joseph Rudzinski'), entry_create_time=datetime.datetime(2024, 10, 14, 20, 20, 38, 982000, tzinfo=datetime.timezone.utc), with_embargo=False, entry_type=None, license='CC BY 4.0', domain=None, comment='This is a test upload...edited', upload_name='Test Upload', text_search_contents=[], publish_time=datetime.datetime(2024, 10, 15, 6, 18, 27, 700000, tzinfo=datetime.timezone.utc), entry_references=None, url='https://nomad-lab.eu/prod/v1/test/api/v1'),\n",
       " NomadEntry(entry_id='MVBIMEZOuIzH7-QFU2TtMIM6LLPp', upload_id='GJdVAOCxRVe-Cwo3qMz9Kg', references=[], origin='Joseph Rudzinski', n_quantities=0, nomad_version='1.3.7.dev55+ge83de27b3', upload_create_time=datetime.datetime(2024, 10, 15, 10, 48, 44, 337000, tzinfo=datetime.timezone.utc), nomad_commit='', processing_errors=[], entry_name='test.archive.json', last_processing_time=datetime.datetime(2024, 10, 15, 10, 48, 45, 206000, tzinfo=datetime.timezone.utc), parser_name='parsers/archive', calc_id='MVBIMEZOuIzH7-QFU2TtMIM6LLPp', published=True, writers=[NomadUser(name='Joseph Rudzinski')], processed=True, mainfile='test.archive.json', main_author=NomadUser(name='Joseph Rudzinski'), entry_create_time=datetime.datetime(2024, 10, 15, 10, 48, 44, 741000, tzinfo=datetime.timezone.utc), with_embargo=False, entry_type=None, license='CC BY 4.0', domain=None, comment='This is a test upload...', upload_name='Test Upload', text_search_contents=[], publish_time=datetime.datetime(2024, 10, 15, 10, 49, 24, 4000, tzinfo=datetime.timezone.utc), entry_references=None, url='https://nomad-lab.eu/prod/v1/test/api/v1'),\n",
       " NomadEntry(entry_id='Htbl78lHDSNAKbvPjEgEN_6sOcxF', upload_id='RdA_3ZsOTMqbtAhYLivVsw', references=[], origin='Joseph Rudzinski', n_quantities=0, nomad_version='1.3.7.dev55+ge83de27b3', upload_create_time=datetime.datetime(2024, 10, 15, 20, 2, 10, 378000, tzinfo=datetime.timezone.utc), nomad_commit='', processing_errors=[], entry_name='test.archive.json', last_processing_time=datetime.datetime(2024, 10, 15, 20, 2, 10, 752000, tzinfo=datetime.timezone.utc), parser_name='parsers/archive', calc_id='Htbl78lHDSNAKbvPjEgEN_6sOcxF', published=True, writers=[NomadUser(name='Joseph Rudzinski')], processed=True, mainfile='test.archive.json', main_author=NomadUser(name='Joseph Rudzinski'), entry_create_time=datetime.datetime(2024, 10, 15, 20, 2, 10, 543000, tzinfo=datetime.timezone.utc), with_embargo=False, entry_type=None, license='CC BY 4.0', domain=None, comment='This is a test upload...', upload_name='Test Upload', text_search_contents=[], publish_time=datetime.datetime(2024, 10, 15, 20, 9, 28, 757000, tzinfo=datetime.timezone.utc), entry_references=None, url='https://nomad-lab.eu/prod/v1/test/api/v1'),\n",
       " NomadEntry(entry_id='zyaF373NIH-igHS3TZN5FW4SaO4d', upload_id='8vViZoL3TYG9fMFibPkjlw', references=[], origin='Joseph Rudzinski', n_quantities=34, nomad_version='1.3.7.dev55+ge83de27b3', upload_create_time=datetime.datetime(2024, 10, 16, 9, 25, 53, 929000, tzinfo=datetime.timezone.utc), nomad_commit='', processing_errors=[], entry_name='test.archive.json', last_processing_time=datetime.datetime(2024, 10, 16, 9, 25, 54, 274000, tzinfo=datetime.timezone.utc), parser_name='parsers/archive', calc_id='zyaF373NIH-igHS3TZN5FW4SaO4d', published=True, writers=[NomadUser(name='Joseph Rudzinski')], processed=True, mainfile='test.archive.json', main_author=NomadUser(name='Joseph Rudzinski'), entry_create_time=datetime.datetime(2024, 10, 16, 9, 25, 54, 111000, tzinfo=datetime.timezone.utc), with_embargo=False, entry_type=None, license='CC BY 4.0', domain=None, comment='This is a test upload...', upload_name='Test Upload', text_search_contents=[], publish_time=None, entry_references=None, url='https://nomad-lab.eu/prod/v1/test/api/v1'),\n",
       " NomadEntry(entry_id='Xitkh3ZVhRu11LUIk5n0cA2Wtmmy', upload_id='cP4q5rRsQM-D60Tp3olPdQ', references=[], origin='Joseph Rudzinski', n_quantities=34, nomad_version='1.3.7.dev55+ge83de27b3', upload_create_time=datetime.datetime(2024, 10, 16, 9, 47, 31, 721000, tzinfo=datetime.timezone.utc), nomad_commit='', processing_errors=[], entry_name='test.archive.json', last_processing_time=datetime.datetime(2024, 10, 16, 9, 47, 32, 28000, tzinfo=datetime.timezone.utc), parser_name='parsers/archive', calc_id='Xitkh3ZVhRu11LUIk5n0cA2Wtmmy', published=True, writers=[NomadUser(name='Joseph Rudzinski')], processed=True, mainfile='test.archive.json', main_author=NomadUser(name='Joseph Rudzinski'), entry_create_time=datetime.datetime(2024, 10, 16, 9, 47, 31, 857000, tzinfo=datetime.timezone.utc), with_embargo=False, entry_type=None, license='CC BY 4.0', domain=None, comment='This is a test upload...', upload_name='Test Upload', text_search_contents=[], publish_time=None, entry_references=None, url='https://nomad-lab.eu/prod/v1/test/api/v1'),\n",
       " NomadEntry(entry_id='h3e0Z5FHiUetLmW8kbPW4uwrT0gH', upload_id='_mZn0RZ8QtmBkcAlPU5bSw', references=[], origin='Joseph Rudzinski', n_quantities=0, nomad_version='1.3.7.dev55+ge83de27b3', upload_create_time=datetime.datetime(2024, 10, 16, 9, 52, 47, 649000, tzinfo=datetime.timezone.utc), nomad_commit='', processing_errors=[], entry_name='test.archive.json', last_processing_time=datetime.datetime(2024, 10, 16, 9, 52, 47, 948000, tzinfo=datetime.timezone.utc), parser_name='parsers/archive', calc_id='h3e0Z5FHiUetLmW8kbPW4uwrT0gH', published=True, writers=[NomadUser(name='Joseph Rudzinski')], processed=True, mainfile='test.archive.json', main_author=NomadUser(name='Joseph Rudzinski'), entry_create_time=datetime.datetime(2024, 10, 16, 9, 52, 47, 780000, tzinfo=datetime.timezone.utc), with_embargo=False, entry_type=None, license='CC BY 4.0', domain=None, comment='This is a test upload...', upload_name='Test Upload', text_search_contents=[], publish_time=datetime.datetime(2024, 10, 16, 9, 53, 0, 835000, tzinfo=datetime.timezone.utc), entry_references=None, url='https://nomad-lab.eu/prod/v1/test/api/v1'),\n",
       " NomadEntry(entry_id='lJiZnALI0ad8UKh5nt2FG1rhaZiC', upload_id='Cntk6OsQTvaZp7r6Jom-3g', references=[], origin='Joseph Rudzinski', n_quantities=0, nomad_version='1.3.7.dev55+ge83de27b3', upload_create_time=datetime.datetime(2024, 10, 16, 9, 54, 47, 426000, tzinfo=datetime.timezone.utc), nomad_commit='', processing_errors=[], entry_name='test.archive.json', last_processing_time=datetime.datetime(2024, 10, 16, 9, 54, 47, 719000, tzinfo=datetime.timezone.utc), parser_name='parsers/archive', calc_id='lJiZnALI0ad8UKh5nt2FG1rhaZiC', published=True, writers=[NomadUser(name='Joseph Rudzinski')], processed=True, mainfile='test.archive.json', main_author=NomadUser(name='Joseph Rudzinski'), entry_create_time=datetime.datetime(2024, 10, 16, 9, 54, 47, 553000, tzinfo=datetime.timezone.utc), with_embargo=False, entry_type=None, license='CC BY 4.0', domain=None, comment='This is a test upload...', upload_name='Test Upload', text_search_contents=[], publish_time=datetime.datetime(2024, 10, 16, 9, 54, 51, 988000, tzinfo=datetime.timezone.utc), entry_references=None, url='https://nomad-lab.eu/prod/v1/test/api/v1'),\n",
       " NomadEntry(entry_id='u4qPSfILguvJ9fabpklMTxbUJ7x2', upload_id='e2b5o4KSR5yoS1EV9E9jXQ', references=[], origin='Joseph Rudzinski', n_quantities=0, nomad_version='1.3.7.dev55+ge83de27b3', upload_create_time=datetime.datetime(2024, 10, 16, 10, 14, 57, 722000, tzinfo=datetime.timezone.utc), nomad_commit='', processing_errors=[], entry_name='test.archive.json', last_processing_time=datetime.datetime(2024, 10, 16, 10, 14, 58, 23000, tzinfo=datetime.timezone.utc), parser_name='parsers/archive', calc_id='u4qPSfILguvJ9fabpklMTxbUJ7x2', published=True, writers=[NomadUser(name='Joseph Rudzinski')], processed=True, mainfile='test.archive.json', main_author=NomadUser(name='Joseph Rudzinski'), entry_create_time=datetime.datetime(2024, 10, 16, 10, 14, 57, 855000, tzinfo=datetime.timezone.utc), with_embargo=False, entry_type=None, license='CC BY 4.0', domain=None, comment='This is a test upload...', upload_name='Test Upload', text_search_contents=[], publish_time=datetime.datetime(2024, 10, 16, 10, 15, 4, 99000, tzinfo=datetime.timezone.utc), entry_references=None, url='https://nomad-lab.eu/prod/v1/test/api/v1')]"
      ]
     },
     "execution_count": 32,
     "metadata": {},
     "output_type": "execute_result"
    }
   ],
   "source": [
    "get_entries_of_my_uploads(url='test')"
   ]
  },
  {
   "cell_type": "markdown",
   "metadata": {},
   "source": [
    "### Writing Your Own Wrappers\n",
    "\n",
    "In `nomad_utility_workflows.utils.core` you will find the core NOMAD API functions `get_nomad_request()`, `post_nomad_request()`, and `delete_nomad_request()`. Using these as a basis, along with the [NOMAD API Dashboard](https://nomad-lab.eu/prod/v1/staging/api/v1/extensions/docs#/), you can easily extend the `nomad-utility-workflows` module for making more specific queries within your specialized workflows.\n"
   ]
  }
 ],
 "metadata": {
  "kernelspec": {
   "display_name": "nomad_utility_workflows",
   "language": "python",
   "name": "nomad_utility_workflows"
  },
  "language_info": {
   "codemirror_mode": {
    "name": "ipython",
    "version": 3
   },
   "file_extension": ".py",
   "mimetype": "text/x-python",
   "name": "python",
   "nbconvert_exporter": "python",
   "pygments_lexer": "ipython3",
   "version": "3.11.11"
  }
 },
 "nbformat": 4,
 "nbformat_minor": 2
}
