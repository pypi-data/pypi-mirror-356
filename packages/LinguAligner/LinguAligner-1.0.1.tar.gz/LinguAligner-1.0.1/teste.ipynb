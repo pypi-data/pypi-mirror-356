{
 "cells": [
  {
   "cell_type": "code",
   "execution_count": 2,
   "metadata": {},
   "outputs": [],
   "source": [
    "import LinguAligner"
   ]
  },
  {
   "cell_type": "code",
   "execution_count": 4,
   "metadata": {},
   "outputs": [
    {
     "data": {
      "text/plain": [
       "'eu'"
      ]
     },
     "execution_count": 4,
     "metadata": {},
     "output_type": "execute_result"
    }
   ],
   "source": [
    "x = \"ola eu quero\"\n",
    "\n",
    "x[4:6]"
   ]
  },
  {
   "cell_type": "code",
   "execution_count": 2,
   "metadata": {},
   "outputs": [
    {
     "ename": "AttributeError",
     "evalue": "module 'LinguAligner' has no attribute 'Pipeline'",
     "output_type": "error",
     "traceback": [
      "\u001b[1;31m---------------------------------------------------------------------------\u001b[0m",
      "\u001b[1;31mAttributeError\u001b[0m                            Traceback (most recent call last)",
      "Cell \u001b[1;32mIn[2], line 14\u001b[0m\n\u001b[0;32m      9\u001b[0m key \u001b[38;5;241m=\u001b[39m \u001b[38;5;124m\"\u001b[39m\u001b[38;5;124mf6d44239a73046ca8378bcdc689b395c\u001b[39m\u001b[38;5;124m\"\u001b[39m\n\u001b[0;32m     11\u001b[0m lista \u001b[38;5;241m=\u001b[39m [\u001b[38;5;124m\"\u001b[39m\u001b[38;5;124mwar\u001b[39m\u001b[38;5;124m\"\u001b[39m,\u001b[38;5;124m\"\u001b[39m\u001b[38;5;124mland\u001b[39m\u001b[38;5;124m\"\u001b[39m,\u001b[38;5;124m\"\u001b[39m\u001b[38;5;124mfire\u001b[39m\u001b[38;5;124m\"\u001b[39m]\n\u001b[1;32m---> 14\u001b[0m pipeline_ \u001b[38;5;241m=\u001b[39m \u001b[43mLinguAligner\u001b[49m\u001b[38;5;241;43m.\u001b[39;49m\u001b[43mPipeline\u001b[49m(config)\n",
      "\u001b[1;31mAttributeError\u001b[0m: module 'LinguAligner' has no attribute 'Pipeline'"
     ]
    }
   ],
   "source": [
    "import LinguAligner\n",
    "\n",
    "config= {\n",
    "    \"spacy_model\": \"pt_core_news_lg\",\n",
    "    \"pipeline\": [ \"lemma\", \"external_resource\", \"word_aligner\",\"gestalt\",\"leveinstein\"],\n",
    "    \"WAligner_model\": \"bert-base-multilingual-uncased\",\n",
    "}\n",
    "\n",
    "key = \"f6d44239a73046ca8378bcdc689b395c\"\n",
    "\n",
    "lista = [\"war\",\"land\",\"fire\"]\n",
    "\n",
    "\n",
    "pipeline_ = LinguAligner.Pipeline(config)\n"
   ]
  },
  {
   "cell_type": "code",
   "execution_count": 3,
   "metadata": {},
   "outputs": [
    {
     "name": "stdout",
     "output_type": "stream",
     "text": [
      "Loading spacy model: pt_core_news_lg\n",
      "Model loaded\n",
      "Loading WAligner model: bert-base-multilingual-uncased\n",
      "Model loaded\n",
      "Lookup table not provided for M_Trans method. (skipped)\n",
      "('disparar', (34, 42))\n",
      "acabou\n",
      "('ele', (28, 31))\n"
     ]
    }
   ],
   "source": [
    "from LinguAligner import AlignmentPipeline\n",
    "\n",
    "\"\"\"\n",
    "(By default, the first method used is string matching. If unsuccessful, the alignment pipeline is employed.)\n",
    "Methods:\n",
    "- lemma: Lemmatization\n",
    "- M_Trans: Multiple Translations of a word\n",
    "- word_aligner: mBERT-based word aligner\n",
    "- gestalt: Gestalt pattern matching (character-based)\n",
    "- levenshtein: Levenshtein distance (character-based)\n",
    "\"\"\"\n",
    "\n",
    "config= {\n",
    "    \"pipeline\": [ \"lemma\", \"M_Trans\", \"word_aligner\",\"gestalt\",\"leveinstein\"], # can be changed according to the desired pipeline\n",
    "    \"spacy_model\": \"pt_core_news_lg\", # change according to the language\n",
    "    \"WAligner_model\": \"bert-base-multilingual-uncased\", # needed for word_aligner\n",
    "}\n",
    "\n",
    "\n",
    "aligner = AlignmentPipeline(config)\n",
    "x = aligner.align_annotation(\"The soldiers were ordered to fire their weapons\",\"fire\", \"Os soldados receberam ordens para disparar as suas armas\",\"incêndio\")\n",
    "print(x)\n",
    "\n",
    "z = aligner.align_annotation(\"he was a good man because he had a kind heart\",\"he\", \"ele era um bom homem porque ele tinha um bom coração\",\"ele\", src_ann_start=29)\n",
    "print(z)"
   ]
  },
  {
   "cell_type": "code",
   "execution_count": 7,
   "metadata": {},
   "outputs": [
    {
     "name": "stdout",
     "output_type": "stream",
     "text": [
      "disparar\n"
     ]
    }
   ],
   "source": [
    "x = aligner.align_annotation(\"The soldiers were ordered to fire their weapons\",\"fire\", \"Os soldados receberam ordens para disparar as suas armas\",\"incêndio\")\n",
    "print(x)"
   ]
  },
  {
   "cell_type": "code",
   "execution_count": 9,
   "metadata": {},
   "outputs": [
    {
     "data": {
      "text/plain": [
       "'disparar'"
      ]
     },
     "execution_count": 9,
     "metadata": {},
     "output_type": "execute_result"
    }
   ],
   "source": [
    "from LinguAligner import translation\n",
    "translator = translation.MicrosoftTranslator(source_lang=\"en\", target_lang=\"pt\", auth_key=\"f6d44239a73046ca8378bcdc689b395c\")\n",
    "lookupTable = {}\n",
    "annotations_list = [\"war\",\"land\",\"fire\"]\n",
    "for word in annotations_list:\n",
    "    lookupTable[word] = translator.getMultipleTranslations(word) # change the language codes according to the desired languages\n",
    "\n",
    "# Then, pass the lookupTable to the align_annotation method\n",
    "x = aligner.align_annotation(\"The soldiers were ordered to fire their weapons\",\"fire\", \"Os soldados receberam ordens para disparar as suas armas\",\"incêndio\",lookupTable)\n",
    "\n",
    "x\n"
   ]
  },
  {
   "cell_type": "code",
   "execution_count": 12,
   "metadata": {},
   "outputs": [
    {
     "name": "stdout",
     "output_type": "stream",
     "text": [
      "Os soldados receberam ordem de disparar suas armas\n"
     ]
    },
    {
     "ename": "TypeError",
     "evalue": "__init__() got an unexpected keyword argument 'key'",
     "output_type": "error",
     "traceback": [
      "\u001b[1;31m---------------------------------------------------------------------------\u001b[0m",
      "\u001b[1;31mTypeError\u001b[0m                                 Traceback (most recent call last)",
      "Cell \u001b[1;32mIn[12], line 9\u001b[0m\n\u001b[0;32m      5\u001b[0m x \u001b[38;5;241m=\u001b[39m translator\u001b[38;5;241m.\u001b[39mtranslate(\u001b[38;5;124m\"\u001b[39m\u001b[38;5;124mThe soldiers were ordered to fire their weapons\u001b[39m\u001b[38;5;124m\"\u001b[39m)\n\u001b[0;32m      6\u001b[0m \u001b[38;5;28mprint\u001b[39m(x)\n\u001b[1;32m----> 9\u001b[0m translator \u001b[38;5;241m=\u001b[39m \u001b[43mtranslation\u001b[49m\u001b[38;5;241;43m.\u001b[39;49m\u001b[43mDeepLTranslator\u001b[49m\u001b[43m(\u001b[49m\u001b[43msource_lang\u001b[49m\u001b[38;5;241;43m=\u001b[39;49m\u001b[38;5;124;43m\"\u001b[39;49m\u001b[38;5;124;43men\u001b[39;49m\u001b[38;5;124;43m\"\u001b[39;49m\u001b[43m,\u001b[49m\u001b[43m \u001b[49m\u001b[43mtarget_lang\u001b[49m\u001b[38;5;241;43m=\u001b[39;49m\u001b[38;5;124;43m\"\u001b[39;49m\u001b[38;5;124;43mpt\u001b[39;49m\u001b[38;5;124;43m\"\u001b[39;49m\u001b[43m,\u001b[49m\u001b[43m \u001b[49m\u001b[43mkey\u001b[49m\u001b[38;5;241;43m=\u001b[39;49m\u001b[38;5;124;43m\"\u001b[39;49m\u001b[38;5;124;43mDEEPL_KEY\u001b[39;49m\u001b[38;5;124;43m\"\u001b[39;49m\u001b[43m)\u001b[49m\n\u001b[0;32m     11\u001b[0m x \u001b[38;5;241m=\u001b[39m translator\u001b[38;5;241m.\u001b[39mtranslate(\u001b[38;5;124m\"\u001b[39m\u001b[38;5;124mThe soldiers were ordered to fire their weapons\u001b[39m\u001b[38;5;124m\"\u001b[39m)\n\u001b[0;32m     12\u001b[0m \u001b[38;5;28mprint\u001b[39m(x)\n",
      "\u001b[1;31mTypeError\u001b[0m: __init__() got an unexpected keyword argument 'key'"
     ]
    }
   ],
   "source": [
    "from LinguAligner import translation\n",
    "\n",
    "translator = translation.GoogleTranslator(source_lang=\"en\", target_lang=\"pt\")\n",
    "\n",
    "x = translator.translate(\"The soldiers were ordered to fire their weapons\")\n",
    "print(x)\n",
    "\n",
    "\n",
    "translator = translation.DeepLTranslator(source_lang=\"en\", target_lang=\"pt\", key=\"DEEPL_KEY\")\n",
    "\n",
    "x = translator.translate(\"The soldiers were ordered to fire their weapons\")\n",
    "print(x)\n",
    "\n",
    "\n",
    "translator = translation.MicrosoftTranslator(source_lang=\"en\", target_lang=\"pt\", key=\"MICROSOFT_TRANSLATOR_KEY\")\n",
    "\n",
    "x = translator.translate(\"The soldiers were ordered to fire their weapons\")\n",
    "print(x)"
   ]
  }
 ],
 "metadata": {
  "kernelspec": {
   "display_name": "Python 3",
   "language": "python",
   "name": "python3"
  },
  "language_info": {
   "codemirror_mode": {
    "name": "ipython",
    "version": 3
   },
   "file_extension": ".py",
   "mimetype": "text/x-python",
   "name": "python",
   "nbconvert_exporter": "python",
   "pygments_lexer": "ipython3",
   "version": "3.9.12"
  }
 },
 "nbformat": 4,
 "nbformat_minor": 2
}
