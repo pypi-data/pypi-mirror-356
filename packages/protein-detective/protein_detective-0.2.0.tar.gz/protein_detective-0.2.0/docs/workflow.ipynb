{
 "cells": [
  {
   "cell_type": "markdown",
   "id": "8664b8a5",
   "metadata": {},
   "source": [
    "# Run workflow using API"
   ]
  },
  {
   "cell_type": "code",
   "execution_count": 1,
   "id": "d7265a43",
   "metadata": {},
   "outputs": [],
   "source": [
    "from pathlib import Path\n",
    "\n",
    "from rich import print as pprint"
   ]
  },
  {
   "cell_type": "code",
   "execution_count": 2,
   "id": "b5a4649f",
   "metadata": {},
   "outputs": [],
   "source": [
    "import logging\n",
    "\n",
    "logging.basicConfig(level=logging.WARNING)\n",
    "# Set to WARNING to see only warnings\n",
    "# Set to INFO to see sparql queries\n",
    "# Set to DEBUG to see raw results"
   ]
  },
  {
   "cell_type": "markdown",
   "id": "432800f1",
   "metadata": {},
   "source": [
    "## Setup session directory\n",
    "\n",
    "In this directory files like PDB files are stored and a DuckDB database for meta data."
   ]
  },
  {
   "cell_type": "code",
   "execution_count": 3,
   "id": "c049dc09",
   "metadata": {},
   "outputs": [
    {
     "data": {
      "text/plain": [
       "PosixPath('session1')"
      ]
     },
     "execution_count": 3,
     "metadata": {},
     "output_type": "execute_result"
    }
   ],
   "source": [
    "session_dir = Path(\"session1\")\n",
    "session_dir"
   ]
  },
  {
   "cell_type": "markdown",
   "id": "9cebded1",
   "metadata": {},
   "source": [
    "## Search Uniprot for structures"
   ]
  },
  {
   "cell_type": "code",
   "execution_count": 4,
   "id": "2bd9767b",
   "metadata": {},
   "outputs": [],
   "source": [
    "from protein_detective.uniprot import Query\n",
    "from protein_detective.workflow import search_structures_in_uniprot"
   ]
  },
  {
   "cell_type": "code",
   "execution_count": 5,
   "id": "d38ca4bd",
   "metadata": {},
   "outputs": [],
   "source": [
    "query = Query(\n",
    "    taxon_id=\"9606\",\n",
    "    reviewed=True,\n",
    "    subcellular_location_uniprot=\"nucleus\",\n",
    "    subcellular_location_go=\"GO:0005634\",  # Cellular component - Nucleus\n",
    "    molecular_function_go=\"GO:0003677\",  # Molecular function - DNA binding\n",
    ")"
   ]
  },
  {
   "cell_type": "code",
   "execution_count": 6,
   "id": "5a834a4c",
   "metadata": {},
   "outputs": [
    {
     "name": "stderr",
     "output_type": "stream",
     "text": [
      "WARNING:protein_detective.uniprot:Search for uniprot accessions returned 80 results. There may be more results available, but they are not returned due to the limit of 80. Consider increasing the limit to get more results.\n"
     ]
    },
    {
     "data": {
      "text/plain": [
       "(71, 14, 71)"
      ]
     },
     "execution_count": 6,
     "metadata": {},
     "output_type": "execute_result"
    }
   ],
   "source": [
    "nr_uniprot, nr_pdbe, nr_af = search_structures_in_uniprot(query, session_dir, limit=80)\n",
    "nr_uniprot, nr_pdbe, nr_af"
   ]
  },
  {
   "cell_type": "markdown",
   "id": "9898ed41",
   "metadata": {},
   "source": [
    "Use [database queries](#query-session-database) to see what was found."
   ]
  },
  {
   "cell_type": "markdown",
   "id": "befbfa91",
   "metadata": {},
   "source": [
    "## Fetch structures from PDBe and Alphafold found in Uniprot\n"
   ]
  },
  {
   "cell_type": "code",
   "execution_count": 7,
   "id": "83e0961c",
   "metadata": {},
   "outputs": [],
   "source": [
    "from protein_detective.workflow import retrieve_structures"
   ]
  },
  {
   "cell_type": "code",
   "execution_count": 8,
   "id": "397cc198",
   "metadata": {},
   "outputs": [
    {
     "name": "stderr",
     "output_type": "stream",
     "text": [
      "Downloading PDBe mmCIF files: 100%|██████████| 14/14 [00:00<00:00, 14.65it/s]\n",
      "Fetching Alphafold summaries: 100%|██████████| 71/71 [00:02<00:00, 30.69it/s]\n",
      "Downloading AlphaFold files: 100%|██████████| 71/71 [00:00<00:00, 153.18it/s]\n"
     ]
    },
    {
     "data": {
      "text/plain": [
       "(PosixPath('session1/downloads'), 14, 71)"
      ]
     },
     "execution_count": 8,
     "metadata": {},
     "output_type": "execute_result"
    }
   ],
   "source": [
    "download_path, nr_pdbs, nr_alphafolds = retrieve_structures(session_dir)\n",
    "download_path, nr_pdbs, nr_alphafolds"
   ]
  },
  {
   "cell_type": "markdown",
   "id": "c4916691",
   "metadata": {},
   "source": [
    "## Filter out AlphafoldDB structures with low confidence\n",
    "\n",
    "And write PDB files without those low confidence residues to new directory."
   ]
  },
  {
   "cell_type": "code",
   "execution_count": 9,
   "id": "36e22f08",
   "metadata": {},
   "outputs": [],
   "source": [
    "from protein_detective.alphafold.density import DensityFilterQuery\n",
    "from protein_detective.workflow import density_filter"
   ]
  },
  {
   "cell_type": "code",
   "execution_count": 10,
   "id": "3d811564",
   "metadata": {},
   "outputs": [],
   "source": [
    "dquery = DensityFilterQuery(\n",
    "    confidence=70.0,\n",
    "    min_threshold=100,\n",
    "    max_threshold=500,\n",
    ")"
   ]
  },
  {
   "cell_type": "code",
   "execution_count": 11,
   "id": "f2784c5a",
   "metadata": {},
   "outputs": [
    {
     "data": {
      "text/html": [
       "<pre style=\"white-space:pre;overflow-x:auto;line-height:normal;font-family:Menlo,'DejaVu Sans Mono',consolas,'Courier New',monospace\"><span style=\"color: #800080; text-decoration-color: #800080; font-weight: bold\">DensityFilterSessionResult</span><span style=\"font-weight: bold\">(</span>\n",
       "    <span style=\"color: #808000; text-decoration-color: #808000\">density_filtered_dir</span>=<span style=\"color: #800080; text-decoration-color: #800080; font-weight: bold\">PosixPath</span><span style=\"font-weight: bold\">(</span><span style=\"color: #008000; text-decoration-color: #008000\">'session1/density_filtered'</span><span style=\"font-weight: bold\">)</span>,\n",
       "    <span style=\"color: #808000; text-decoration-color: #808000\">nr_kept</span>=<span style=\"color: #008080; text-decoration-color: #008080; font-weight: bold\">32</span>,\n",
       "    <span style=\"color: #808000; text-decoration-color: #808000\">nr_discarded</span>=<span style=\"color: #008080; text-decoration-color: #008080; font-weight: bold\">39</span>\n",
       "<span style=\"font-weight: bold\">)</span>\n",
       "</pre>\n"
      ],
      "text/plain": [
       "\u001b[1;35mDensityFilterSessionResult\u001b[0m\u001b[1m(\u001b[0m\n",
       "    \u001b[33mdensity_filtered_dir\u001b[0m=\u001b[1;35mPosixPath\u001b[0m\u001b[1m(\u001b[0m\u001b[32m'session1/density_filtered'\u001b[0m\u001b[1m)\u001b[0m,\n",
       "    \u001b[33mnr_kept\u001b[0m=\u001b[1;36m32\u001b[0m,\n",
       "    \u001b[33mnr_discarded\u001b[0m=\u001b[1;36m39\u001b[0m\n",
       "\u001b[1m)\u001b[0m\n"
      ]
     },
     "metadata": {},
     "output_type": "display_data"
    }
   ],
   "source": [
    "result = density_filter(session_dir, dquery)\n",
    "pprint(result)"
   ]
  },
  {
   "cell_type": "markdown",
   "id": "a2157be8",
   "metadata": {},
   "source": [
    "## Prune PDBe files\n",
    "Prune the PDB files to only keep the first chain of the found Uniprot entries and rename that chain to A."
   ]
  },
  {
   "cell_type": "code",
   "execution_count": 12,
   "id": "a69b9afd",
   "metadata": {},
   "outputs": [],
   "source": [
    "from protein_detective.workflow import prune_pdbs"
   ]
  },
  {
   "cell_type": "code",
   "execution_count": 13,
   "id": "dee491aa",
   "metadata": {},
   "outputs": [
    {
     "name": "stderr",
     "output_type": "stream",
     "text": [
      "Saving single chain PDB files from PDBe: 100%|██████████| 14/14 [00:03<00:00,  3.95it/s]\n"
     ]
    },
    {
     "data": {
      "text/plain": [
       "(PosixPath('session1/single_chain'), 14)"
      ]
     },
     "execution_count": 13,
     "metadata": {},
     "output_type": "execute_result"
    }
   ],
   "source": [
    "(single_chain_dir, nr_passed) = prune_pdbs(session_dir)\n",
    "(single_chain_dir, nr_passed)"
   ]
  },
  {
   "cell_type": "markdown",
   "id": "1a409c95",
   "metadata": {},
   "source": [
    "## Powerfit\n"
   ]
  },
  {
   "cell_type": "code",
   "execution_count": null,
   "id": "5de52e86",
   "metadata": {},
   "outputs": [],
   "source": [
    "from protein_detective.powerfit.options import PowerfitOptions\n",
    "from protein_detective.powerfit.workflow import powerfit_commands"
   ]
  },
  {
   "cell_type": "markdown",
   "id": "67a38d05",
   "metadata": {},
   "source": [
    "To run you must have cloned the https://github.com/haddocking/powerfit-tutorial repository in '../../powerfit-tutorial'."
   ]
  },
  {
   "cell_type": "code",
   "execution_count": 15,
   "id": "899ec746",
   "metadata": {},
   "outputs": [],
   "source": [
    "options = PowerfitOptions(\n",
    "    target=Path(\"../../powerfit-tutorial/ribosome-KsgA.map\"),\n",
    "    resolution=13,\n",
    "    angle=20,\n",
    "    laplace=True,\n",
    ")"
   ]
  },
  {
   "cell_type": "markdown",
   "id": "ae69579b",
   "metadata": {},
   "source": [
    "### Run\n",
    "\n",
    "Here we use printed commands to run powerfit, see [powerfit.ipynb](powerfit.ipynb) for running powerfits using the API."
   ]
  },
  {
   "cell_type": "code",
   "execution_count": 16,
   "id": "52655c1f",
   "metadata": {},
   "outputs": [],
   "source": [
    "commands, powerfit_run_id = powerfit_commands(session_dir, options)"
   ]
  },
  {
   "cell_type": "code",
   "execution_count": 17,
   "id": "c7b91642",
   "metadata": {},
   "outputs": [
    {
     "data": {
      "text/plain": [
       "1"
      ]
     },
     "execution_count": 17,
     "metadata": {},
     "output_type": "execute_result"
    }
   ],
   "source": [
    "powerfit_run_id"
   ]
  },
  {
   "cell_type": "code",
   "execution_count": 18,
   "id": "a7e7c368",
   "metadata": {},
   "outputs": [
    {
     "data": {
      "text/html": [
       "<pre style=\"white-space:pre;overflow-x:auto;line-height:normal;font-family:Menlo,'DejaVu Sans Mono',consolas,'Courier New',monospace\"><span style=\"font-weight: bold\">[</span>\n",
       "    <span style=\"color: #008000; text-decoration-color: #008000\">'powerfit ./session1/powerfit/1/ribosome-KsgA.map 13 ./session1/single_chain/A8MT69_4dra_E2A.pdb --laplace </span>\n",
       "<span style=\"color: #008000; text-decoration-color: #008000\">--resampling-rate 2 --num 0 --nproc 1 --directory ./session1/powerfit/1/A8MT69_4dra_E2A --delimiter , --angle 20'</span>,\n",
       "    <span style=\"color: #008000; text-decoration-color: #008000\">'powerfit ./session1/powerfit/1/ribosome-KsgA.map 13 ./session1/single_chain/A8MT69_4ne6_B2A.pdb --laplace </span>\n",
       "<span style=\"color: #008000; text-decoration-color: #008000\">--resampling-rate 2 --num 0 --nproc 1 --directory ./session1/powerfit/1/A8MT69_4ne6_B2A --delimiter , --angle 20'</span>,\n",
       "    <span style=\"color: #008000; text-decoration-color: #008000\">'powerfit ./session1/powerfit/1/ribosome-KsgA.map 13 ./session1/single_chain/A8MT69_4ne3_B2A.pdb --laplace </span>\n",
       "<span style=\"color: #008000; text-decoration-color: #008000\">--resampling-rate 2 --num 0 --nproc 1 --directory ./session1/powerfit/1/A8MT69_4ne3_B2A --delimiter , --angle 20'</span>,\n",
       "    <span style=\"color: #008000; text-decoration-color: #008000\">'powerfit ./session1/powerfit/1/ribosome-KsgA.map 13 ./session1/single_chain/A8MT69_7xhn_X2A.pdb --laplace </span>\n",
       "<span style=\"color: #008000; text-decoration-color: #008000\">--resampling-rate 2 --num 0 --nproc 1 --directory ./session1/powerfit/1/A8MT69_7xhn_X2A --delimiter , --angle 20'</span>,\n",
       "    <span style=\"color: #008000; text-decoration-color: #008000\">'powerfit ./session1/powerfit/1/ribosome-KsgA.map 13 ./session1/single_chain/A8MT69_4drb_J2A.pdb --laplace </span>\n",
       "<span style=\"color: #008000; text-decoration-color: #008000\">--resampling-rate 2 --num 0 --nproc 1 --directory ./session1/powerfit/1/A8MT69_4drb_J2A --delimiter , --angle 20'</span>,\n",
       "    <span style=\"color: #008000; text-decoration-color: #008000\">'powerfit ./session1/powerfit/1/ribosome-KsgA.map 13 ./session1/single_chain/A8MT69_7r5s_X2A.pdb --laplace </span>\n",
       "<span style=\"color: #008000; text-decoration-color: #008000\">--resampling-rate 2 --num 0 --nproc 1 --directory ./session1/powerfit/1/A8MT69_7r5s_X2A --delimiter , --angle 20'</span>,\n",
       "    <span style=\"color: #008000; text-decoration-color: #008000\">'powerfit ./session1/powerfit/1/ribosome-KsgA.map 13 ./session1/single_chain/A8MT69_7xho_X2A.pdb --laplace </span>\n",
       "<span style=\"color: #008000; text-decoration-color: #008000\">--resampling-rate 2 --num 0 --nproc 1 --directory ./session1/powerfit/1/A8MT69_7xho_X2A --delimiter , --angle 20'</span>,\n",
       "    <span style=\"color: #008000; text-decoration-color: #008000\">'powerfit ./session1/powerfit/1/ribosome-KsgA.map 13 ./session1/single_chain/A8MT69_4ne1_B2A.pdb --laplace </span>\n",
       "<span style=\"color: #008000; text-decoration-color: #008000\">--resampling-rate 2 --num 0 --nproc 1 --directory ./session1/powerfit/1/A8MT69_4ne1_B2A --delimiter , --angle 20'</span>,\n",
       "    <span style=\"color: #008000; text-decoration-color: #008000\">'powerfit ./session1/powerfit/1/ribosome-KsgA.map 13 ./session1/single_chain/A8MT69_4ne5_B2A.pdb --laplace </span>\n",
       "<span style=\"color: #008000; text-decoration-color: #008000\">--resampling-rate 2 --num 0 --nproc 1 --directory ./session1/powerfit/1/A8MT69_4ne5_B2A --delimiter , --angle 20'</span>,\n",
       "    <span style=\"color: #008000; text-decoration-color: #008000\">'powerfit ./session1/powerfit/1/ribosome-KsgA.map 13 ./session1/single_chain/A8MT69_7ywx_X2A.pdb --laplace </span>\n",
       "<span style=\"color: #008000; text-decoration-color: #008000\">--resampling-rate 2 --num 0 --nproc 1 --directory ./session1/powerfit/1/A8MT69_7ywx_X2A --delimiter , --angle 20'</span>,\n",
       "    <span style=\"color: #008000; text-decoration-color: #008000\">'powerfit ./session1/powerfit/1/ribosome-KsgA.map 13 ./session1/single_chain/A8MT69_4ndy_B2A.pdb --laplace </span>\n",
       "<span style=\"color: #008000; text-decoration-color: #008000\">--resampling-rate 2 --num 0 --nproc 1 --directory ./session1/powerfit/1/A8MT69_4ndy_B2A --delimiter , --angle 20'</span>,\n",
       "    <span style=\"color: #008000; text-decoration-color: #008000\">'powerfit ./session1/powerfit/1/ribosome-KsgA.map 13 ./session1/single_chain/A8MT69_4e44_B2A.pdb --laplace </span>\n",
       "<span style=\"color: #008000; text-decoration-color: #008000\">--resampling-rate 2 --num 0 --nproc 1 --directory ./session1/powerfit/1/A8MT69_4e44_B2A --delimiter , --angle 20'</span>,\n",
       "    <span style=\"color: #008000; text-decoration-color: #008000\">'powerfit ./session1/powerfit/1/ribosome-KsgA.map 13 ./session1/single_chain/A8MT69_4e45_B2A.pdb --laplace </span>\n",
       "<span style=\"color: #008000; text-decoration-color: #008000\">--resampling-rate 2 --num 0 --nproc 1 --directory ./session1/powerfit/1/A8MT69_4e45_B2A --delimiter , --angle 20'</span>,\n",
       "    <span style=\"color: #008000; text-decoration-color: #008000\">'powerfit ./session1/powerfit/1/ribosome-KsgA.map 13 ./session1/single_chain/A9YTQ3_5y7y_A2A.pdb --laplace </span>\n",
       "<span style=\"color: #008000; text-decoration-color: #008000\">--resampling-rate 2 --num 0 --nproc 1 --directory ./session1/powerfit/1/A9YTQ3_5y7y_A2A --delimiter , --angle 20'</span>,\n",
       "    <span style=\"color: #008000; text-decoration-color: #008000\">'powerfit ./session1/powerfit/1/ribosome-KsgA.map 13 ./session1/density_filtered/AF-A0A087WUV0-F1-model_v4.pdb </span>\n",
       "<span style=\"color: #008000; text-decoration-color: #008000\">--laplace --resampling-rate 2 --num 0 --nproc 1 --directory ./session1/powerfit/1/AF-A0A087WUV0-F1-model_v4 </span>\n",
       "<span style=\"color: #008000; text-decoration-color: #008000\">--delimiter , --angle 20'</span>,\n",
       "    <span style=\"color: #008000; text-decoration-color: #008000\">'powerfit ./session1/powerfit/1/ribosome-KsgA.map 13 ./session1/density_filtered/AF-A0A0U1RQI7-F1-model_v4.pdb </span>\n",
       "<span style=\"color: #008000; text-decoration-color: #008000\">--laplace --resampling-rate 2 --num 0 --nproc 1 --directory ./session1/powerfit/1/AF-A0A0U1RQI7-F1-model_v4 </span>\n",
       "<span style=\"color: #008000; text-decoration-color: #008000\">--delimiter , --angle 20'</span>,\n",
       "    <span style=\"color: #008000; text-decoration-color: #008000\">'powerfit ./session1/powerfit/1/ribosome-KsgA.map 13 ./session1/density_filtered/AF-A0A1B0GTS1-F1-model_v4.pdb </span>\n",
       "<span style=\"color: #008000; text-decoration-color: #008000\">--laplace --resampling-rate 2 --num 0 --nproc 1 --directory ./session1/powerfit/1/AF-A0A1B0GTS1-F1-model_v4 </span>\n",
       "<span style=\"color: #008000; text-decoration-color: #008000\">--delimiter , --angle 20'</span>,\n",
       "    <span style=\"color: #008000; text-decoration-color: #008000\">'powerfit ./session1/powerfit/1/ribosome-KsgA.map 13 ./session1/density_filtered/AF-A0A1B0GWH4-F1-model_v4.pdb </span>\n",
       "<span style=\"color: #008000; text-decoration-color: #008000\">--laplace --resampling-rate 2 --num 0 --nproc 1 --directory ./session1/powerfit/1/AF-A0A1B0GWH4-F1-model_v4 </span>\n",
       "<span style=\"color: #008000; text-decoration-color: #008000\">--delimiter , --angle 20'</span>,\n",
       "    <span style=\"color: #008000; text-decoration-color: #008000\">'powerfit ./session1/powerfit/1/ribosome-KsgA.map 13 ./session1/density_filtered/AF-A0A1W2PPF3-F1-model_v4.pdb </span>\n",
       "<span style=\"color: #008000; text-decoration-color: #008000\">--laplace --resampling-rate 2 --num 0 --nproc 1 --directory ./session1/powerfit/1/AF-A0A1W2PPF3-F1-model_v4 </span>\n",
       "<span style=\"color: #008000; text-decoration-color: #008000\">--delimiter , --angle 20'</span>,\n",
       "    <span style=\"color: #008000; text-decoration-color: #008000\">'powerfit ./session1/powerfit/1/ribosome-KsgA.map 13 ./session1/density_filtered/AF-A0A1W2PQL4-F1-model_v4.pdb </span>\n",
       "<span style=\"color: #008000; text-decoration-color: #008000\">--laplace --resampling-rate 2 --num 0 --nproc 1 --directory ./session1/powerfit/1/AF-A0A1W2PQL4-F1-model_v4 </span>\n",
       "<span style=\"color: #008000; text-decoration-color: #008000\">--delimiter , --angle 20'</span>,\n",
       "    <span style=\"color: #008000; text-decoration-color: #008000\">'powerfit ./session1/powerfit/1/ribosome-KsgA.map 13 ./session1/density_filtered/AF-A1YPR0-F1-model_v4.pdb </span>\n",
       "<span style=\"color: #008000; text-decoration-color: #008000\">--laplace --resampling-rate 2 --num 0 --nproc 1 --directory ./session1/powerfit/1/AF-A1YPR0-F1-model_v4 --delimiter</span>\n",
       "<span style=\"color: #008000; text-decoration-color: #008000\">, --angle 20'</span>,\n",
       "    <span style=\"color: #008000; text-decoration-color: #008000\">'powerfit ./session1/powerfit/1/ribosome-KsgA.map 13 ./session1/density_filtered/AF-A2RRD8-F1-model_v4.pdb </span>\n",
       "<span style=\"color: #008000; text-decoration-color: #008000\">--laplace --resampling-rate 2 --num 0 --nproc 1 --directory ./session1/powerfit/1/AF-A2RRD8-F1-model_v4 --delimiter</span>\n",
       "<span style=\"color: #008000; text-decoration-color: #008000\">, --angle 20'</span>,\n",
       "    <span style=\"color: #008000; text-decoration-color: #008000\">'powerfit ./session1/powerfit/1/ribosome-KsgA.map 13 ./session1/density_filtered/AF-A6NDX5-F1-model_v4.pdb </span>\n",
       "<span style=\"color: #008000; text-decoration-color: #008000\">--laplace --resampling-rate 2 --num 0 --nproc 1 --directory ./session1/powerfit/1/AF-A6NDX5-F1-model_v4 --delimiter</span>\n",
       "<span style=\"color: #008000; text-decoration-color: #008000\">, --angle 20'</span>,\n",
       "    <span style=\"color: #008000; text-decoration-color: #008000\">'powerfit ./session1/powerfit/1/ribosome-KsgA.map 13 ./session1/density_filtered/AF-A6NFD8-F1-model_v4.pdb </span>\n",
       "<span style=\"color: #008000; text-decoration-color: #008000\">--laplace --resampling-rate 2 --num 0 --nproc 1 --directory ./session1/powerfit/1/AF-A6NFD8-F1-model_v4 --delimiter</span>\n",
       "<span style=\"color: #008000; text-decoration-color: #008000\">, --angle 20'</span>,\n",
       "    <span style=\"color: #008000; text-decoration-color: #008000\">'powerfit ./session1/powerfit/1/ribosome-KsgA.map 13 ./session1/density_filtered/AF-A6NFI3-F1-model_v4.pdb </span>\n",
       "<span style=\"color: #008000; text-decoration-color: #008000\">--laplace --resampling-rate 2 --num 0 --nproc 1 --directory ./session1/powerfit/1/AF-A6NFI3-F1-model_v4 --delimiter</span>\n",
       "<span style=\"color: #008000; text-decoration-color: #008000\">, --angle 20'</span>,\n",
       "    <span style=\"color: #008000; text-decoration-color: #008000\">'powerfit ./session1/powerfit/1/ribosome-KsgA.map 13 ./session1/density_filtered/AF-A6NGD5-F1-model_v4.pdb </span>\n",
       "<span style=\"color: #008000; text-decoration-color: #008000\">--laplace --resampling-rate 2 --num 0 --nproc 1 --directory ./session1/powerfit/1/AF-A6NGD5-F1-model_v4 --delimiter</span>\n",
       "<span style=\"color: #008000; text-decoration-color: #008000\">, --angle 20'</span>,\n",
       "    <span style=\"color: #008000; text-decoration-color: #008000\">'powerfit ./session1/powerfit/1/ribosome-KsgA.map 13 ./session1/density_filtered/AF-A6NHJ4-F1-model_v4.pdb </span>\n",
       "<span style=\"color: #008000; text-decoration-color: #008000\">--laplace --resampling-rate 2 --num 0 --nproc 1 --directory ./session1/powerfit/1/AF-A6NHJ4-F1-model_v4 --delimiter</span>\n",
       "<span style=\"color: #008000; text-decoration-color: #008000\">, --angle 20'</span>,\n",
       "    <span style=\"color: #008000; text-decoration-color: #008000\">'powerfit ./session1/powerfit/1/ribosome-KsgA.map 13 ./session1/density_filtered/AF-A6NJL1-F1-model_v4.pdb </span>\n",
       "<span style=\"color: #008000; text-decoration-color: #008000\">--laplace --resampling-rate 2 --num 0 --nproc 1 --directory ./session1/powerfit/1/AF-A6NJL1-F1-model_v4 --delimiter</span>\n",
       "<span style=\"color: #008000; text-decoration-color: #008000\">, --angle 20'</span>,\n",
       "    <span style=\"color: #008000; text-decoration-color: #008000\">'powerfit ./session1/powerfit/1/ribosome-KsgA.map 13 ./session1/density_filtered/AF-A6NJT0-F1-model_v4.pdb </span>\n",
       "<span style=\"color: #008000; text-decoration-color: #008000\">--laplace --resampling-rate 2 --num 0 --nproc 1 --directory ./session1/powerfit/1/AF-A6NJT0-F1-model_v4 --delimiter</span>\n",
       "<span style=\"color: #008000; text-decoration-color: #008000\">, --angle 20'</span>,\n",
       "    <span style=\"color: #008000; text-decoration-color: #008000\">'powerfit ./session1/powerfit/1/ribosome-KsgA.map 13 ./session1/density_filtered/AF-A6NK53-F1-model_v4.pdb </span>\n",
       "<span style=\"color: #008000; text-decoration-color: #008000\">--laplace --resampling-rate 2 --num 0 --nproc 1 --directory ./session1/powerfit/1/AF-A6NK53-F1-model_v4 --delimiter</span>\n",
       "<span style=\"color: #008000; text-decoration-color: #008000\">, --angle 20'</span>,\n",
       "    <span style=\"color: #008000; text-decoration-color: #008000\">'powerfit ./session1/powerfit/1/ribosome-KsgA.map 13 ./session1/density_filtered/AF-A6NK75-F1-model_v4.pdb </span>\n",
       "<span style=\"color: #008000; text-decoration-color: #008000\">--laplace --resampling-rate 2 --num 0 --nproc 1 --directory ./session1/powerfit/1/AF-A6NK75-F1-model_v4 --delimiter</span>\n",
       "<span style=\"color: #008000; text-decoration-color: #008000\">, --angle 20'</span>,\n",
       "    <span style=\"color: #008000; text-decoration-color: #008000\">'powerfit ./session1/powerfit/1/ribosome-KsgA.map 13 ./session1/density_filtered/AF-A6NKF2-F1-model_v4.pdb </span>\n",
       "<span style=\"color: #008000; text-decoration-color: #008000\">--laplace --resampling-rate 2 --num 0 --nproc 1 --directory ./session1/powerfit/1/AF-A6NKF2-F1-model_v4 --delimiter</span>\n",
       "<span style=\"color: #008000; text-decoration-color: #008000\">, --angle 20'</span>,\n",
       "    <span style=\"color: #008000; text-decoration-color: #008000\">'powerfit ./session1/powerfit/1/ribosome-KsgA.map 13 ./session1/density_filtered/AF-A6NLW8-F1-model_v4.pdb </span>\n",
       "<span style=\"color: #008000; text-decoration-color: #008000\">--laplace --resampling-rate 2 --num 0 --nproc 1 --directory ./session1/powerfit/1/AF-A6NLW8-F1-model_v4 --delimiter</span>\n",
       "<span style=\"color: #008000; text-decoration-color: #008000\">, --angle 20'</span>,\n",
       "    <span style=\"color: #008000; text-decoration-color: #008000\">'powerfit ./session1/powerfit/1/ribosome-KsgA.map 13 ./session1/density_filtered/AF-A6NM28-F1-model_v4.pdb </span>\n",
       "<span style=\"color: #008000; text-decoration-color: #008000\">--laplace --resampling-rate 2 --num 0 --nproc 1 --directory ./session1/powerfit/1/AF-A6NM28-F1-model_v4 --delimiter</span>\n",
       "<span style=\"color: #008000; text-decoration-color: #008000\">, --angle 20'</span>,\n",
       "    <span style=\"color: #008000; text-decoration-color: #008000\">'powerfit ./session1/powerfit/1/ribosome-KsgA.map 13 ./session1/density_filtered/AF-A6NP11-F1-model_v4.pdb </span>\n",
       "<span style=\"color: #008000; text-decoration-color: #008000\">--laplace --resampling-rate 2 --num 0 --nproc 1 --directory ./session1/powerfit/1/AF-A6NP11-F1-model_v4 --delimiter</span>\n",
       "<span style=\"color: #008000; text-decoration-color: #008000\">, --angle 20'</span>,\n",
       "    <span style=\"color: #008000; text-decoration-color: #008000\">'powerfit ./session1/powerfit/1/ribosome-KsgA.map 13 ./session1/density_filtered/AF-A8K0S8-F1-model_v4.pdb </span>\n",
       "<span style=\"color: #008000; text-decoration-color: #008000\">--laplace --resampling-rate 2 --num 0 --nproc 1 --directory ./session1/powerfit/1/AF-A8K0S8-F1-model_v4 --delimiter</span>\n",
       "<span style=\"color: #008000; text-decoration-color: #008000\">, --angle 20'</span>,\n",
       "    <span style=\"color: #008000; text-decoration-color: #008000\">'powerfit ./session1/powerfit/1/ribosome-KsgA.map 13 ./session1/density_filtered/AF-A8K8V0-F1-model_v4.pdb </span>\n",
       "<span style=\"color: #008000; text-decoration-color: #008000\">--laplace --resampling-rate 2 --num 0 --nproc 1 --directory ./session1/powerfit/1/AF-A8K8V0-F1-model_v4 --delimiter</span>\n",
       "<span style=\"color: #008000; text-decoration-color: #008000\">, --angle 20'</span>,\n",
       "    <span style=\"color: #008000; text-decoration-color: #008000\">'powerfit ./session1/powerfit/1/ribosome-KsgA.map 13 ./session1/density_filtered/AF-A8MT65-F1-model_v4.pdb </span>\n",
       "<span style=\"color: #008000; text-decoration-color: #008000\">--laplace --resampling-rate 2 --num 0 --nproc 1 --directory ./session1/powerfit/1/AF-A8MT65-F1-model_v4 --delimiter</span>\n",
       "<span style=\"color: #008000; text-decoration-color: #008000\">, --angle 20'</span>,\n",
       "    <span style=\"color: #008000; text-decoration-color: #008000\">'powerfit ./session1/powerfit/1/ribosome-KsgA.map 13 ./session1/density_filtered/AF-A8MTY0-F1-model_v4.pdb </span>\n",
       "<span style=\"color: #008000; text-decoration-color: #008000\">--laplace --resampling-rate 2 --num 0 --nproc 1 --directory ./session1/powerfit/1/AF-A8MTY0-F1-model_v4 --delimiter</span>\n",
       "<span style=\"color: #008000; text-decoration-color: #008000\">, --angle 20'</span>,\n",
       "    <span style=\"color: #008000; text-decoration-color: #008000\">'powerfit ./session1/powerfit/1/ribosome-KsgA.map 13 ./session1/density_filtered/AF-A8MUV8-F1-model_v4.pdb </span>\n",
       "<span style=\"color: #008000; text-decoration-color: #008000\">--laplace --resampling-rate 2 --num 0 --nproc 1 --directory ./session1/powerfit/1/AF-A8MUV8-F1-model_v4 --delimiter</span>\n",
       "<span style=\"color: #008000; text-decoration-color: #008000\">, --angle 20'</span>,\n",
       "    <span style=\"color: #008000; text-decoration-color: #008000\">'powerfit ./session1/powerfit/1/ribosome-KsgA.map 13 ./session1/density_filtered/AF-A8MUZ8-F1-model_v4.pdb </span>\n",
       "<span style=\"color: #008000; text-decoration-color: #008000\">--laplace --resampling-rate 2 --num 0 --nproc 1 --directory ./session1/powerfit/1/AF-A8MUZ8-F1-model_v4 --delimiter</span>\n",
       "<span style=\"color: #008000; text-decoration-color: #008000\">, --angle 20'</span>,\n",
       "    <span style=\"color: #008000; text-decoration-color: #008000\">'powerfit ./session1/powerfit/1/ribosome-KsgA.map 13 ./session1/density_filtered/AF-A8MWA4-F1-model_v4.pdb </span>\n",
       "<span style=\"color: #008000; text-decoration-color: #008000\">--laplace --resampling-rate 2 --num 0 --nproc 1 --directory ./session1/powerfit/1/AF-A8MWA4-F1-model_v4 --delimiter</span>\n",
       "<span style=\"color: #008000; text-decoration-color: #008000\">, --angle 20'</span>,\n",
       "    <span style=\"color: #008000; text-decoration-color: #008000\">'powerfit ./session1/powerfit/1/ribosome-KsgA.map 13 ./session1/density_filtered/AF-A9YTQ3-F1-model_v4.pdb </span>\n",
       "<span style=\"color: #008000; text-decoration-color: #008000\">--laplace --resampling-rate 2 --num 0 --nproc 1 --directory ./session1/powerfit/1/AF-A9YTQ3-F1-model_v4 --delimiter</span>\n",
       "<span style=\"color: #008000; text-decoration-color: #008000\">, --angle 20'</span>,\n",
       "    <span style=\"color: #008000; text-decoration-color: #008000\">'powerfit ./session1/powerfit/1/ribosome-KsgA.map 13 ./session1/density_filtered/AF-B2RPK0-F1-model_v4.pdb </span>\n",
       "<span style=\"color: #008000; text-decoration-color: #008000\">--laplace --resampling-rate 2 --num 0 --nproc 1 --directory ./session1/powerfit/1/AF-B2RPK0-F1-model_v4 --delimiter</span>\n",
       "<span style=\"color: #008000; text-decoration-color: #008000\">, --angle 20'</span>,\n",
       "    <span style=\"color: #008000; text-decoration-color: #008000\">'powerfit ./session1/powerfit/1/ribosome-KsgA.map 13 ./session1/density_filtered/AF-B4DU55-F1-model_v4.pdb </span>\n",
       "<span style=\"color: #008000; text-decoration-color: #008000\">--laplace --resampling-rate 2 --num 0 --nproc 1 --directory ./session1/powerfit/1/AF-B4DU55-F1-model_v4 --delimiter</span>\n",
       "<span style=\"color: #008000; text-decoration-color: #008000\">, --angle 20'</span>,\n",
       "    <span style=\"color: #008000; text-decoration-color: #008000\">'powerfit ./session1/powerfit/1/ribosome-KsgA.map 13 ./session1/density_filtered/AF-B4DX44-F1-model_v4.pdb </span>\n",
       "<span style=\"color: #008000; text-decoration-color: #008000\">--laplace --resampling-rate 2 --num 0 --nproc 1 --directory ./session1/powerfit/1/AF-B4DX44-F1-model_v4 --delimiter</span>\n",
       "<span style=\"color: #008000; text-decoration-color: #008000\">, --angle 20'</span>\n",
       "<span style=\"font-weight: bold\">]</span>\n",
       "</pre>\n"
      ],
      "text/plain": [
       "\u001b[1m[\u001b[0m\n",
       "    \u001b[32m'powerfit ./session1/powerfit/1/ribosome-KsgA.map 13 ./session1/single_chain/A8MT69_4dra_E2A.pdb --laplace \u001b[0m\n",
       "\u001b[32m--resampling-rate 2 --num 0 --nproc 1 --directory ./session1/powerfit/1/A8MT69_4dra_E2A --delimiter , --angle 20'\u001b[0m,\n",
       "    \u001b[32m'powerfit ./session1/powerfit/1/ribosome-KsgA.map 13 ./session1/single_chain/A8MT69_4ne6_B2A.pdb --laplace \u001b[0m\n",
       "\u001b[32m--resampling-rate 2 --num 0 --nproc 1 --directory ./session1/powerfit/1/A8MT69_4ne6_B2A --delimiter , --angle 20'\u001b[0m,\n",
       "    \u001b[32m'powerfit ./session1/powerfit/1/ribosome-KsgA.map 13 ./session1/single_chain/A8MT69_4ne3_B2A.pdb --laplace \u001b[0m\n",
       "\u001b[32m--resampling-rate 2 --num 0 --nproc 1 --directory ./session1/powerfit/1/A8MT69_4ne3_B2A --delimiter , --angle 20'\u001b[0m,\n",
       "    \u001b[32m'powerfit ./session1/powerfit/1/ribosome-KsgA.map 13 ./session1/single_chain/A8MT69_7xhn_X2A.pdb --laplace \u001b[0m\n",
       "\u001b[32m--resampling-rate 2 --num 0 --nproc 1 --directory ./session1/powerfit/1/A8MT69_7xhn_X2A --delimiter , --angle 20'\u001b[0m,\n",
       "    \u001b[32m'powerfit ./session1/powerfit/1/ribosome-KsgA.map 13 ./session1/single_chain/A8MT69_4drb_J2A.pdb --laplace \u001b[0m\n",
       "\u001b[32m--resampling-rate 2 --num 0 --nproc 1 --directory ./session1/powerfit/1/A8MT69_4drb_J2A --delimiter , --angle 20'\u001b[0m,\n",
       "    \u001b[32m'powerfit ./session1/powerfit/1/ribosome-KsgA.map 13 ./session1/single_chain/A8MT69_7r5s_X2A.pdb --laplace \u001b[0m\n",
       "\u001b[32m--resampling-rate 2 --num 0 --nproc 1 --directory ./session1/powerfit/1/A8MT69_7r5s_X2A --delimiter , --angle 20'\u001b[0m,\n",
       "    \u001b[32m'powerfit ./session1/powerfit/1/ribosome-KsgA.map 13 ./session1/single_chain/A8MT69_7xho_X2A.pdb --laplace \u001b[0m\n",
       "\u001b[32m--resampling-rate 2 --num 0 --nproc 1 --directory ./session1/powerfit/1/A8MT69_7xho_X2A --delimiter , --angle 20'\u001b[0m,\n",
       "    \u001b[32m'powerfit ./session1/powerfit/1/ribosome-KsgA.map 13 ./session1/single_chain/A8MT69_4ne1_B2A.pdb --laplace \u001b[0m\n",
       "\u001b[32m--resampling-rate 2 --num 0 --nproc 1 --directory ./session1/powerfit/1/A8MT69_4ne1_B2A --delimiter , --angle 20'\u001b[0m,\n",
       "    \u001b[32m'powerfit ./session1/powerfit/1/ribosome-KsgA.map 13 ./session1/single_chain/A8MT69_4ne5_B2A.pdb --laplace \u001b[0m\n",
       "\u001b[32m--resampling-rate 2 --num 0 --nproc 1 --directory ./session1/powerfit/1/A8MT69_4ne5_B2A --delimiter , --angle 20'\u001b[0m,\n",
       "    \u001b[32m'powerfit ./session1/powerfit/1/ribosome-KsgA.map 13 ./session1/single_chain/A8MT69_7ywx_X2A.pdb --laplace \u001b[0m\n",
       "\u001b[32m--resampling-rate 2 --num 0 --nproc 1 --directory ./session1/powerfit/1/A8MT69_7ywx_X2A --delimiter , --angle 20'\u001b[0m,\n",
       "    \u001b[32m'powerfit ./session1/powerfit/1/ribosome-KsgA.map 13 ./session1/single_chain/A8MT69_4ndy_B2A.pdb --laplace \u001b[0m\n",
       "\u001b[32m--resampling-rate 2 --num 0 --nproc 1 --directory ./session1/powerfit/1/A8MT69_4ndy_B2A --delimiter , --angle 20'\u001b[0m,\n",
       "    \u001b[32m'powerfit ./session1/powerfit/1/ribosome-KsgA.map 13 ./session1/single_chain/A8MT69_4e44_B2A.pdb --laplace \u001b[0m\n",
       "\u001b[32m--resampling-rate 2 --num 0 --nproc 1 --directory ./session1/powerfit/1/A8MT69_4e44_B2A --delimiter , --angle 20'\u001b[0m,\n",
       "    \u001b[32m'powerfit ./session1/powerfit/1/ribosome-KsgA.map 13 ./session1/single_chain/A8MT69_4e45_B2A.pdb --laplace \u001b[0m\n",
       "\u001b[32m--resampling-rate 2 --num 0 --nproc 1 --directory ./session1/powerfit/1/A8MT69_4e45_B2A --delimiter , --angle 20'\u001b[0m,\n",
       "    \u001b[32m'powerfit ./session1/powerfit/1/ribosome-KsgA.map 13 ./session1/single_chain/A9YTQ3_5y7y_A2A.pdb --laplace \u001b[0m\n",
       "\u001b[32m--resampling-rate 2 --num 0 --nproc 1 --directory ./session1/powerfit/1/A9YTQ3_5y7y_A2A --delimiter , --angle 20'\u001b[0m,\n",
       "    \u001b[32m'powerfit ./session1/powerfit/1/ribosome-KsgA.map 13 ./session1/density_filtered/AF-A0A087WUV0-F1-model_v4.pdb \u001b[0m\n",
       "\u001b[32m--laplace --resampling-rate 2 --num 0 --nproc 1 --directory ./session1/powerfit/1/AF-A0A087WUV0-F1-model_v4 \u001b[0m\n",
       "\u001b[32m--delimiter , --angle 20'\u001b[0m,\n",
       "    \u001b[32m'powerfit ./session1/powerfit/1/ribosome-KsgA.map 13 ./session1/density_filtered/AF-A0A0U1RQI7-F1-model_v4.pdb \u001b[0m\n",
       "\u001b[32m--laplace --resampling-rate 2 --num 0 --nproc 1 --directory ./session1/powerfit/1/AF-A0A0U1RQI7-F1-model_v4 \u001b[0m\n",
       "\u001b[32m--delimiter , --angle 20'\u001b[0m,\n",
       "    \u001b[32m'powerfit ./session1/powerfit/1/ribosome-KsgA.map 13 ./session1/density_filtered/AF-A0A1B0GTS1-F1-model_v4.pdb \u001b[0m\n",
       "\u001b[32m--laplace --resampling-rate 2 --num 0 --nproc 1 --directory ./session1/powerfit/1/AF-A0A1B0GTS1-F1-model_v4 \u001b[0m\n",
       "\u001b[32m--delimiter , --angle 20'\u001b[0m,\n",
       "    \u001b[32m'powerfit ./session1/powerfit/1/ribosome-KsgA.map 13 ./session1/density_filtered/AF-A0A1B0GWH4-F1-model_v4.pdb \u001b[0m\n",
       "\u001b[32m--laplace --resampling-rate 2 --num 0 --nproc 1 --directory ./session1/powerfit/1/AF-A0A1B0GWH4-F1-model_v4 \u001b[0m\n",
       "\u001b[32m--delimiter , --angle 20'\u001b[0m,\n",
       "    \u001b[32m'powerfit ./session1/powerfit/1/ribosome-KsgA.map 13 ./session1/density_filtered/AF-A0A1W2PPF3-F1-model_v4.pdb \u001b[0m\n",
       "\u001b[32m--laplace --resampling-rate 2 --num 0 --nproc 1 --directory ./session1/powerfit/1/AF-A0A1W2PPF3-F1-model_v4 \u001b[0m\n",
       "\u001b[32m--delimiter , --angle 20'\u001b[0m,\n",
       "    \u001b[32m'powerfit ./session1/powerfit/1/ribosome-KsgA.map 13 ./session1/density_filtered/AF-A0A1W2PQL4-F1-model_v4.pdb \u001b[0m\n",
       "\u001b[32m--laplace --resampling-rate 2 --num 0 --nproc 1 --directory ./session1/powerfit/1/AF-A0A1W2PQL4-F1-model_v4 \u001b[0m\n",
       "\u001b[32m--delimiter , --angle 20'\u001b[0m,\n",
       "    \u001b[32m'powerfit ./session1/powerfit/1/ribosome-KsgA.map 13 ./session1/density_filtered/AF-A1YPR0-F1-model_v4.pdb \u001b[0m\n",
       "\u001b[32m--laplace --resampling-rate 2 --num 0 --nproc 1 --directory ./session1/powerfit/1/AF-A1YPR0-F1-model_v4 --delimiter\u001b[0m\n",
       "\u001b[32m, --angle 20'\u001b[0m,\n",
       "    \u001b[32m'powerfit ./session1/powerfit/1/ribosome-KsgA.map 13 ./session1/density_filtered/AF-A2RRD8-F1-model_v4.pdb \u001b[0m\n",
       "\u001b[32m--laplace --resampling-rate 2 --num 0 --nproc 1 --directory ./session1/powerfit/1/AF-A2RRD8-F1-model_v4 --delimiter\u001b[0m\n",
       "\u001b[32m, --angle 20'\u001b[0m,\n",
       "    \u001b[32m'powerfit ./session1/powerfit/1/ribosome-KsgA.map 13 ./session1/density_filtered/AF-A6NDX5-F1-model_v4.pdb \u001b[0m\n",
       "\u001b[32m--laplace --resampling-rate 2 --num 0 --nproc 1 --directory ./session1/powerfit/1/AF-A6NDX5-F1-model_v4 --delimiter\u001b[0m\n",
       "\u001b[32m, --angle 20'\u001b[0m,\n",
       "    \u001b[32m'powerfit ./session1/powerfit/1/ribosome-KsgA.map 13 ./session1/density_filtered/AF-A6NFD8-F1-model_v4.pdb \u001b[0m\n",
       "\u001b[32m--laplace --resampling-rate 2 --num 0 --nproc 1 --directory ./session1/powerfit/1/AF-A6NFD8-F1-model_v4 --delimiter\u001b[0m\n",
       "\u001b[32m, --angle 20'\u001b[0m,\n",
       "    \u001b[32m'powerfit ./session1/powerfit/1/ribosome-KsgA.map 13 ./session1/density_filtered/AF-A6NFI3-F1-model_v4.pdb \u001b[0m\n",
       "\u001b[32m--laplace --resampling-rate 2 --num 0 --nproc 1 --directory ./session1/powerfit/1/AF-A6NFI3-F1-model_v4 --delimiter\u001b[0m\n",
       "\u001b[32m, --angle 20'\u001b[0m,\n",
       "    \u001b[32m'powerfit ./session1/powerfit/1/ribosome-KsgA.map 13 ./session1/density_filtered/AF-A6NGD5-F1-model_v4.pdb \u001b[0m\n",
       "\u001b[32m--laplace --resampling-rate 2 --num 0 --nproc 1 --directory ./session1/powerfit/1/AF-A6NGD5-F1-model_v4 --delimiter\u001b[0m\n",
       "\u001b[32m, --angle 20'\u001b[0m,\n",
       "    \u001b[32m'powerfit ./session1/powerfit/1/ribosome-KsgA.map 13 ./session1/density_filtered/AF-A6NHJ4-F1-model_v4.pdb \u001b[0m\n",
       "\u001b[32m--laplace --resampling-rate 2 --num 0 --nproc 1 --directory ./session1/powerfit/1/AF-A6NHJ4-F1-model_v4 --delimiter\u001b[0m\n",
       "\u001b[32m, --angle 20'\u001b[0m,\n",
       "    \u001b[32m'powerfit ./session1/powerfit/1/ribosome-KsgA.map 13 ./session1/density_filtered/AF-A6NJL1-F1-model_v4.pdb \u001b[0m\n",
       "\u001b[32m--laplace --resampling-rate 2 --num 0 --nproc 1 --directory ./session1/powerfit/1/AF-A6NJL1-F1-model_v4 --delimiter\u001b[0m\n",
       "\u001b[32m, --angle 20'\u001b[0m,\n",
       "    \u001b[32m'powerfit ./session1/powerfit/1/ribosome-KsgA.map 13 ./session1/density_filtered/AF-A6NJT0-F1-model_v4.pdb \u001b[0m\n",
       "\u001b[32m--laplace --resampling-rate 2 --num 0 --nproc 1 --directory ./session1/powerfit/1/AF-A6NJT0-F1-model_v4 --delimiter\u001b[0m\n",
       "\u001b[32m, --angle 20'\u001b[0m,\n",
       "    \u001b[32m'powerfit ./session1/powerfit/1/ribosome-KsgA.map 13 ./session1/density_filtered/AF-A6NK53-F1-model_v4.pdb \u001b[0m\n",
       "\u001b[32m--laplace --resampling-rate 2 --num 0 --nproc 1 --directory ./session1/powerfit/1/AF-A6NK53-F1-model_v4 --delimiter\u001b[0m\n",
       "\u001b[32m, --angle 20'\u001b[0m,\n",
       "    \u001b[32m'powerfit ./session1/powerfit/1/ribosome-KsgA.map 13 ./session1/density_filtered/AF-A6NK75-F1-model_v4.pdb \u001b[0m\n",
       "\u001b[32m--laplace --resampling-rate 2 --num 0 --nproc 1 --directory ./session1/powerfit/1/AF-A6NK75-F1-model_v4 --delimiter\u001b[0m\n",
       "\u001b[32m, --angle 20'\u001b[0m,\n",
       "    \u001b[32m'powerfit ./session1/powerfit/1/ribosome-KsgA.map 13 ./session1/density_filtered/AF-A6NKF2-F1-model_v4.pdb \u001b[0m\n",
       "\u001b[32m--laplace --resampling-rate 2 --num 0 --nproc 1 --directory ./session1/powerfit/1/AF-A6NKF2-F1-model_v4 --delimiter\u001b[0m\n",
       "\u001b[32m, --angle 20'\u001b[0m,\n",
       "    \u001b[32m'powerfit ./session1/powerfit/1/ribosome-KsgA.map 13 ./session1/density_filtered/AF-A6NLW8-F1-model_v4.pdb \u001b[0m\n",
       "\u001b[32m--laplace --resampling-rate 2 --num 0 --nproc 1 --directory ./session1/powerfit/1/AF-A6NLW8-F1-model_v4 --delimiter\u001b[0m\n",
       "\u001b[32m, --angle 20'\u001b[0m,\n",
       "    \u001b[32m'powerfit ./session1/powerfit/1/ribosome-KsgA.map 13 ./session1/density_filtered/AF-A6NM28-F1-model_v4.pdb \u001b[0m\n",
       "\u001b[32m--laplace --resampling-rate 2 --num 0 --nproc 1 --directory ./session1/powerfit/1/AF-A6NM28-F1-model_v4 --delimiter\u001b[0m\n",
       "\u001b[32m, --angle 20'\u001b[0m,\n",
       "    \u001b[32m'powerfit ./session1/powerfit/1/ribosome-KsgA.map 13 ./session1/density_filtered/AF-A6NP11-F1-model_v4.pdb \u001b[0m\n",
       "\u001b[32m--laplace --resampling-rate 2 --num 0 --nproc 1 --directory ./session1/powerfit/1/AF-A6NP11-F1-model_v4 --delimiter\u001b[0m\n",
       "\u001b[32m, --angle 20'\u001b[0m,\n",
       "    \u001b[32m'powerfit ./session1/powerfit/1/ribosome-KsgA.map 13 ./session1/density_filtered/AF-A8K0S8-F1-model_v4.pdb \u001b[0m\n",
       "\u001b[32m--laplace --resampling-rate 2 --num 0 --nproc 1 --directory ./session1/powerfit/1/AF-A8K0S8-F1-model_v4 --delimiter\u001b[0m\n",
       "\u001b[32m, --angle 20'\u001b[0m,\n",
       "    \u001b[32m'powerfit ./session1/powerfit/1/ribosome-KsgA.map 13 ./session1/density_filtered/AF-A8K8V0-F1-model_v4.pdb \u001b[0m\n",
       "\u001b[32m--laplace --resampling-rate 2 --num 0 --nproc 1 --directory ./session1/powerfit/1/AF-A8K8V0-F1-model_v4 --delimiter\u001b[0m\n",
       "\u001b[32m, --angle 20'\u001b[0m,\n",
       "    \u001b[32m'powerfit ./session1/powerfit/1/ribosome-KsgA.map 13 ./session1/density_filtered/AF-A8MT65-F1-model_v4.pdb \u001b[0m\n",
       "\u001b[32m--laplace --resampling-rate 2 --num 0 --nproc 1 --directory ./session1/powerfit/1/AF-A8MT65-F1-model_v4 --delimiter\u001b[0m\n",
       "\u001b[32m, --angle 20'\u001b[0m,\n",
       "    \u001b[32m'powerfit ./session1/powerfit/1/ribosome-KsgA.map 13 ./session1/density_filtered/AF-A8MTY0-F1-model_v4.pdb \u001b[0m\n",
       "\u001b[32m--laplace --resampling-rate 2 --num 0 --nproc 1 --directory ./session1/powerfit/1/AF-A8MTY0-F1-model_v4 --delimiter\u001b[0m\n",
       "\u001b[32m, --angle 20'\u001b[0m,\n",
       "    \u001b[32m'powerfit ./session1/powerfit/1/ribosome-KsgA.map 13 ./session1/density_filtered/AF-A8MUV8-F1-model_v4.pdb \u001b[0m\n",
       "\u001b[32m--laplace --resampling-rate 2 --num 0 --nproc 1 --directory ./session1/powerfit/1/AF-A8MUV8-F1-model_v4 --delimiter\u001b[0m\n",
       "\u001b[32m, --angle 20'\u001b[0m,\n",
       "    \u001b[32m'powerfit ./session1/powerfit/1/ribosome-KsgA.map 13 ./session1/density_filtered/AF-A8MUZ8-F1-model_v4.pdb \u001b[0m\n",
       "\u001b[32m--laplace --resampling-rate 2 --num 0 --nproc 1 --directory ./session1/powerfit/1/AF-A8MUZ8-F1-model_v4 --delimiter\u001b[0m\n",
       "\u001b[32m, --angle 20'\u001b[0m,\n",
       "    \u001b[32m'powerfit ./session1/powerfit/1/ribosome-KsgA.map 13 ./session1/density_filtered/AF-A8MWA4-F1-model_v4.pdb \u001b[0m\n",
       "\u001b[32m--laplace --resampling-rate 2 --num 0 --nproc 1 --directory ./session1/powerfit/1/AF-A8MWA4-F1-model_v4 --delimiter\u001b[0m\n",
       "\u001b[32m, --angle 20'\u001b[0m,\n",
       "    \u001b[32m'powerfit ./session1/powerfit/1/ribosome-KsgA.map 13 ./session1/density_filtered/AF-A9YTQ3-F1-model_v4.pdb \u001b[0m\n",
       "\u001b[32m--laplace --resampling-rate 2 --num 0 --nproc 1 --directory ./session1/powerfit/1/AF-A9YTQ3-F1-model_v4 --delimiter\u001b[0m\n",
       "\u001b[32m, --angle 20'\u001b[0m,\n",
       "    \u001b[32m'powerfit ./session1/powerfit/1/ribosome-KsgA.map 13 ./session1/density_filtered/AF-B2RPK0-F1-model_v4.pdb \u001b[0m\n",
       "\u001b[32m--laplace --resampling-rate 2 --num 0 --nproc 1 --directory ./session1/powerfit/1/AF-B2RPK0-F1-model_v4 --delimiter\u001b[0m\n",
       "\u001b[32m, --angle 20'\u001b[0m,\n",
       "    \u001b[32m'powerfit ./session1/powerfit/1/ribosome-KsgA.map 13 ./session1/density_filtered/AF-B4DU55-F1-model_v4.pdb \u001b[0m\n",
       "\u001b[32m--laplace --resampling-rate 2 --num 0 --nproc 1 --directory ./session1/powerfit/1/AF-B4DU55-F1-model_v4 --delimiter\u001b[0m\n",
       "\u001b[32m, --angle 20'\u001b[0m,\n",
       "    \u001b[32m'powerfit ./session1/powerfit/1/ribosome-KsgA.map 13 ./session1/density_filtered/AF-B4DX44-F1-model_v4.pdb \u001b[0m\n",
       "\u001b[32m--laplace --resampling-rate 2 --num 0 --nproc 1 --directory ./session1/powerfit/1/AF-B4DX44-F1-model_v4 --delimiter\u001b[0m\n",
       "\u001b[32m, --angle 20'\u001b[0m\n",
       "\u001b[1m]\u001b[0m\n"
      ]
     },
     "metadata": {},
     "output_type": "display_data"
    }
   ],
   "source": [
    "cwd = str(Path.cwd())\n",
    "rel_commands = [c.replace(cwd, \".\") for c in commands]\n",
    "pprint(rel_commands)"
   ]
  },
  {
   "cell_type": "markdown",
   "id": "ddfe7dc7",
   "metadata": {},
   "source": [
    "These commands should be run on a cluster. Here we will just run a couple of them to show how it works."
   ]
  },
  {
   "cell_type": "code",
   "execution_count": 19,
   "id": "f5fb4a60",
   "metadata": {},
   "outputs": [
    {
     "name": "stdout",
     "output_type": "stream",
     "text": [
      "Target file read from:                                                          \n",
      "\u001b[35m/home/stefanv/git/protein-detective/protein-detective/docs/session1/powerfit/1/\u001b[0m\u001b[95mr\u001b[0m\n",
      "\u001b[95mibosome-KsgA.map\u001b[0m                                                                \n",
      "Target resolution: \u001b[1;36m13.00\u001b[0m                                                        \n",
      "Initial shape of density: \u001b[1;36m128\u001b[0m \u001b[1;36m128\u001b[0m \u001b[1;36m128\u001b[0m                                           \n",
      "Shape after trimming: \u001b[1;36m60\u001b[0m \u001b[1;36m73\u001b[0m \u001b[1;36m67\u001b[0m                                                  \n",
      "Shape after extending: \u001b[1;36m60\u001b[0m \u001b[1;36m75\u001b[0m \u001b[1;36m70\u001b[0m                                                 \n",
      "Template file read from:                                                        \n",
      "\u001b[35m/home/stefanv/git/protein-detective/protein-detective/docs/session1/single_chain\u001b[0m\n",
      "\u001b[35m/\u001b[0m\u001b[95mA8MT69_7xho_X2A.pdb\u001b[0m                                                            \n",
      "Reading in rotations.                                                           \n",
      "Requested rotational sampling density: \u001b[1;36m20.00\u001b[0m                                    \n",
      "Real rotational sampling density: \u001b[1;36m20.83\u001b[0m                                         \n",
      "Requested number of processors: \u001b[1;36m1\u001b[0m                                               \n",
      "Starting search                                                                 \n",
      "\u001b[2KProcessing rotations\u001b[35m 100%\u001b[0m \u001b[91m━━━━━━━━━━━\u001b[0m\u001b[91m╸\u001b[0m \u001b[32m647/648 \u001b[0m [ \u001b[33m0:00:08\u001b[0m < \u001b[36m0:00:01\u001b[0m , \u001b[31m73 rot/s\u001b[0m ]t/s\u001b[0m ]\n",
      "\u001b[?25hTime for search: 0m 10s                                                         \n",
      "Analyzing results                                                               \n",
      "Writing solutions to file.                                                      \n",
      "Writing PDBs to file.                                                           \n",
      "Total time: 0m 10s                                                              \n"
     ]
    }
   ],
   "source": [
    "!{rel_commands[6]}"
   ]
  },
  {
   "cell_type": "code",
   "execution_count": 20,
   "id": "adedebcb",
   "metadata": {},
   "outputs": [
    {
     "name": "stdout",
     "output_type": "stream",
     "text": [
      "Target file read from:                                                          \n",
      "\u001b[35m/home/stefanv/git/protein-detective/protein-detective/docs/session1/powerfit/1/\u001b[0m\u001b[95mr\u001b[0m\n",
      "\u001b[95mibosome-KsgA.map\u001b[0m                                                                \n",
      "Target resolution: \u001b[1;36m13.00\u001b[0m                                                        \n",
      "Initial shape of density: \u001b[1;36m128\u001b[0m \u001b[1;36m128\u001b[0m \u001b[1;36m128\u001b[0m                                           \n",
      "Shape after trimming: \u001b[1;36m60\u001b[0m \u001b[1;36m73\u001b[0m \u001b[1;36m67\u001b[0m                                                  \n",
      "Shape after extending: \u001b[1;36m60\u001b[0m \u001b[1;36m75\u001b[0m \u001b[1;36m70\u001b[0m                                                 \n",
      "Template file read from:                                                        \n",
      "\u001b[35m/home/stefanv/git/protein-detective/protein-detective/docs/session1/single_chain\u001b[0m\n",
      "\u001b[35m/\u001b[0m\u001b[95mA8MT69_4dra_E2A.pdb\u001b[0m                                                            \n",
      "Reading in rotations.                                                           \n",
      "Requested rotational sampling density: \u001b[1;36m20.00\u001b[0m                                    \n",
      "Real rotational sampling density: \u001b[1;36m20.83\u001b[0m                                         \n",
      "Requested number of processors: \u001b[1;36m1\u001b[0m                                               \n",
      "Starting search                                                                 \n",
      "\u001b[2KProcessing rotations\u001b[35m 100%\u001b[0m \u001b[91m━━━━━━━━━━━\u001b[0m\u001b[91m╸\u001b[0m \u001b[32m647/648 \u001b[0m [ \u001b[33m0:00:09\u001b[0m < \u001b[36m0:00:01\u001b[0m , \u001b[31m71 rot/s\u001b[0m ]t/s\u001b[0m ]\n",
      "\u001b[?25hTime for search: 0m 9s                                                          \n",
      "Analyzing results                                                               \n",
      "Writing solutions to file.                                                      \n",
      "Writing PDBs to file.                                                           \n",
      "Total time: 0m 9s                                                               \n"
     ]
    }
   ],
   "source": [
    "!{rel_commands[0]}"
   ]
  },
  {
   "cell_type": "code",
   "execution_count": 21,
   "id": "e22376af",
   "metadata": {},
   "outputs": [
    {
     "name": "stdout",
     "output_type": "stream",
     "text": [
      "Target file read from:                                                          \n",
      "\u001b[35m/home/stefanv/git/protein-detective/protein-detective/docs/session1/powerfit/1/\u001b[0m\u001b[95mr\u001b[0m\n",
      "\u001b[95mibosome-KsgA.map\u001b[0m                                                                \n",
      "Target resolution: \u001b[1;36m13.00\u001b[0m                                                        \n",
      "Initial shape of density: \u001b[1;36m128\u001b[0m \u001b[1;36m128\u001b[0m \u001b[1;36m128\u001b[0m                                           \n",
      "Shape after trimming: \u001b[1;36m60\u001b[0m \u001b[1;36m73\u001b[0m \u001b[1;36m67\u001b[0m                                                  \n",
      "Shape after extending: \u001b[1;36m60\u001b[0m \u001b[1;36m75\u001b[0m \u001b[1;36m70\u001b[0m                                                 \n",
      "Template file read from:                                                        \n",
      "\u001b[35m/home/stefanv/git/protein-detective/protein-detective/docs/session1/density_filt\u001b[0m\n",
      "\u001b[35mered/\u001b[0m\u001b[95mAF-B4DX44-F1-model_v4.pdb\u001b[0m                                                  \n",
      "Reading in rotations.                                                           \n",
      "Requested rotational sampling density: \u001b[1;36m20.00\u001b[0m                                    \n",
      "Real rotational sampling density: \u001b[1;36m20.83\u001b[0m                                         \n",
      "Requested number of processors: \u001b[1;36m1\u001b[0m                                               \n",
      "Starting search                                                                 \n",
      "\u001b[2KProcessing rotations\u001b[35m 100%\u001b[0m \u001b[91m━━━━━━━━━━━\u001b[0m\u001b[91m╸\u001b[0m \u001b[32m647/648 \u001b[0m [ \u001b[33m0:00:09\u001b[0m < \u001b[36m0:00:01\u001b[0m , \u001b[31m69 rot/s\u001b[0m ]t/s\u001b[0m ]\n",
      "\u001b[?25hTime for search: 0m 9s                                                          \n",
      "Analyzing results                                                               \n",
      "Writing solutions to file.                                                      \n",
      "Writing PDBs to file.                                                           \n",
      "Total time: 0m 10s                                                              \n"
     ]
    }
   ],
   "source": [
    "!{rel_commands[-1]}"
   ]
  },
  {
   "cell_type": "markdown",
   "id": "32927cf4",
   "metadata": {},
   "source": [
    "See [powerfit.ipynb](powerfit.ipynb) for running all powerfits using the API."
   ]
  },
  {
   "cell_type": "markdown",
   "id": "b97fd69d",
   "metadata": {},
   "source": [
    "### Report\n",
    "\n",
    "Once all powerfit jobs are done the results can be parsed and reported.\n"
   ]
  },
  {
   "cell_type": "code",
   "execution_count": null,
   "id": "95cd6916",
   "metadata": {},
   "outputs": [],
   "source": [
    "from protein_detective.powerfit.workflow import powerfit_report"
   ]
  },
  {
   "cell_type": "code",
   "execution_count": 5,
   "id": "ee416246",
   "metadata": {},
   "outputs": [],
   "source": [
    "solutions = powerfit_report(session_dir)"
   ]
  },
  {
   "cell_type": "code",
   "execution_count": 6,
   "id": "c1669d58",
   "metadata": {},
   "outputs": [
    {
     "data": {
      "text/plain": [
       "62757"
      ]
     },
     "execution_count": 6,
     "metadata": {},
     "output_type": "execute_result"
    }
   ],
   "source": [
    "len(solutions)"
   ]
  },
  {
   "cell_type": "code",
   "execution_count": 7,
   "id": "afda9122",
   "metadata": {},
   "outputs": [
    {
     "data": {
      "text/html": [
       "<div>\n",
       "<style scoped>\n",
       "    .dataframe tbody tr th:only-of-type {\n",
       "        vertical-align: middle;\n",
       "    }\n",
       "\n",
       "    .dataframe tbody tr th {\n",
       "        vertical-align: top;\n",
       "    }\n",
       "\n",
       "    .dataframe thead th {\n",
       "        text-align: right;\n",
       "    }\n",
       "</style>\n",
       "<table border=\"1\" class=\"dataframe\">\n",
       "  <thead>\n",
       "    <tr style=\"text-align: right;\">\n",
       "      <th></th>\n",
       "      <th>powerfit_run_id</th>\n",
       "      <th>structure</th>\n",
       "      <th>rank</th>\n",
       "      <th>cc</th>\n",
       "      <th>fishz</th>\n",
       "      <th>relz</th>\n",
       "      <th>translation</th>\n",
       "      <th>rotation</th>\n",
       "      <th>density_filter_id</th>\n",
       "      <th>af_id</th>\n",
       "      <th>pdb_id</th>\n",
       "      <th>pdb_file</th>\n",
       "      <th>uniprot_acc</th>\n",
       "    </tr>\n",
       "  </thead>\n",
       "  <tbody>\n",
       "    <tr>\n",
       "      <th>0</th>\n",
       "      <td>1</td>\n",
       "      <td>A8MT69_4ne6_B2A</td>\n",
       "      <td>1</td>\n",
       "      <td>0.456</td>\n",
       "      <td>0.492</td>\n",
       "      <td>11.071</td>\n",
       "      <td>[227.18, 242.53, 211.83]</td>\n",
       "      <td>[0.0, -0.0, -1.0, 0.604, -0.797, 0.0, -0.797, ...</td>\n",
       "      <td>&lt;NA&gt;</td>\n",
       "      <td>None</td>\n",
       "      <td>4NE6</td>\n",
       "      <td>session1/single_chain/A8MT69_4ne6_B2A.pdb</td>\n",
       "      <td>A8MT69</td>\n",
       "    </tr>\n",
       "    <tr>\n",
       "      <th>1</th>\n",
       "      <td>1</td>\n",
       "      <td>A8MT69_4drb_J2A</td>\n",
       "      <td>1</td>\n",
       "      <td>0.444</td>\n",
       "      <td>0.477</td>\n",
       "      <td>10.588</td>\n",
       "      <td>[227.18, 242.53, 214.9]</td>\n",
       "      <td>[0.797, -0.604, 0.0, 0.604, 0.797, 0.0, 0.0, 0...</td>\n",
       "      <td>&lt;NA&gt;</td>\n",
       "      <td>None</td>\n",
       "      <td>4DRB</td>\n",
       "      <td>session1/single_chain/A8MT69_4drb_J2A.pdb</td>\n",
       "      <td>A8MT69</td>\n",
       "    </tr>\n",
       "    <tr>\n",
       "      <th>2</th>\n",
       "      <td>1</td>\n",
       "      <td>A8MT69_4dra_E2A</td>\n",
       "      <td>1</td>\n",
       "      <td>0.443</td>\n",
       "      <td>0.476</td>\n",
       "      <td>10.402</td>\n",
       "      <td>[214.9, 187.27, 214.9]</td>\n",
       "      <td>[1.0, -0.0, 0.0, 0.0, -0.0, 1.0, -0.0, -1.0, -...</td>\n",
       "      <td>&lt;NA&gt;</td>\n",
       "      <td>None</td>\n",
       "      <td>4DRA</td>\n",
       "      <td>session1/single_chain/A8MT69_4dra_E2A.pdb</td>\n",
       "      <td>A8MT69</td>\n",
       "    </tr>\n",
       "    <tr>\n",
       "      <th>3</th>\n",
       "      <td>1</td>\n",
       "      <td>A8MT69_4e44_B2A</td>\n",
       "      <td>1</td>\n",
       "      <td>0.440</td>\n",
       "      <td>0.472</td>\n",
       "      <td>10.099</td>\n",
       "      <td>[224.11, 236.39, 227.18]</td>\n",
       "      <td>[1.0, 0.0, 0.0, 0.0, 1.0, 0.0, 0.0, 0.0, 1.0]</td>\n",
       "      <td>&lt;NA&gt;</td>\n",
       "      <td>None</td>\n",
       "      <td>4E44</td>\n",
       "      <td>session1/single_chain/A8MT69_4e44_B2A.pdb</td>\n",
       "      <td>A8MT69</td>\n",
       "    </tr>\n",
       "    <tr>\n",
       "      <th>4</th>\n",
       "      <td>1</td>\n",
       "      <td>A8MT69_7xhn_X2A</td>\n",
       "      <td>1</td>\n",
       "      <td>0.439</td>\n",
       "      <td>0.471</td>\n",
       "      <td>10.136</td>\n",
       "      <td>[230.25, 242.53, 217.97]</td>\n",
       "      <td>[-1.0, 0.0, 0.0, 0.0, -1.0, 0.0, 0.0, 0.0, 1.0]</td>\n",
       "      <td>&lt;NA&gt;</td>\n",
       "      <td>None</td>\n",
       "      <td>7XHN</td>\n",
       "      <td>session1/single_chain/A8MT69_7xhn_X2A.pdb</td>\n",
       "      <td>A8MT69</td>\n",
       "    </tr>\n",
       "    <tr>\n",
       "      <th>...</th>\n",
       "      <td>...</td>\n",
       "      <td>...</td>\n",
       "      <td>...</td>\n",
       "      <td>...</td>\n",
       "      <td>...</td>\n",
       "      <td>...</td>\n",
       "      <td>...</td>\n",
       "      <td>...</td>\n",
       "      <td>...</td>\n",
       "      <td>...</td>\n",
       "      <td>...</td>\n",
       "      <td>...</td>\n",
       "      <td>...</td>\n",
       "    </tr>\n",
       "    <tr>\n",
       "      <th>62752</th>\n",
       "      <td>1</td>\n",
       "      <td>AF-A8MTY0-F1-model_v4</td>\n",
       "      <td>1463</td>\n",
       "      <td>0.095</td>\n",
       "      <td>0.095</td>\n",
       "      <td>5.424</td>\n",
       "      <td>[168.85, 202.62, 236.39]</td>\n",
       "      <td>[0.0, 1.0, 0.0, 0.797, 0.0, -0.604, -0.604, 0....</td>\n",
       "      <td>1</td>\n",
       "      <td>A8MTY0</td>\n",
       "      <td>None</td>\n",
       "      <td>session1/density_filtered/AF-A8MTY0-F1-model_v...</td>\n",
       "      <td>A8MTY0</td>\n",
       "    </tr>\n",
       "    <tr>\n",
       "      <th>62753</th>\n",
       "      <td>1</td>\n",
       "      <td>AF-A8MTY0-F1-model_v4</td>\n",
       "      <td>1462</td>\n",
       "      <td>0.095</td>\n",
       "      <td>0.095</td>\n",
       "      <td>5.425</td>\n",
       "      <td>[122.8, 174.99, 147.36]</td>\n",
       "      <td>[0.797, 0.604, 0.0, 0.604, -0.797, 0.0, 0.0, 0...</td>\n",
       "      <td>1</td>\n",
       "      <td>A8MTY0</td>\n",
       "      <td>None</td>\n",
       "      <td>session1/density_filtered/AF-A8MTY0-F1-model_v...</td>\n",
       "      <td>A8MTY0</td>\n",
       "    </tr>\n",
       "    <tr>\n",
       "      <th>62754</th>\n",
       "      <td>1</td>\n",
       "      <td>AF-A8MTY0-F1-model_v4</td>\n",
       "      <td>1461</td>\n",
       "      <td>0.095</td>\n",
       "      <td>0.095</td>\n",
       "      <td>5.429</td>\n",
       "      <td>[150.43, 211.83, 104.38]</td>\n",
       "      <td>[0.548, 0.548, 0.632, 0.184, -0.816, 0.548, 0....</td>\n",
       "      <td>1</td>\n",
       "      <td>A8MTY0</td>\n",
       "      <td>None</td>\n",
       "      <td>session1/density_filtered/AF-A8MTY0-F1-model_v...</td>\n",
       "      <td>A8MTY0</td>\n",
       "    </tr>\n",
       "    <tr>\n",
       "      <th>62755</th>\n",
       "      <td>1</td>\n",
       "      <td>AF-A8MTY0-F1-model_v4</td>\n",
       "      <td>1460</td>\n",
       "      <td>0.095</td>\n",
       "      <td>0.096</td>\n",
       "      <td>5.437</td>\n",
       "      <td>[224.11, 282.44, 150.43]</td>\n",
       "      <td>[0.0, 0.797, 0.604, -1.0, 0.0, -0.0, 0.0, -0.6...</td>\n",
       "      <td>1</td>\n",
       "      <td>A8MTY0</td>\n",
       "      <td>None</td>\n",
       "      <td>session1/density_filtered/AF-A8MTY0-F1-model_v...</td>\n",
       "      <td>A8MTY0</td>\n",
       "    </tr>\n",
       "    <tr>\n",
       "      <th>62756</th>\n",
       "      <td>1</td>\n",
       "      <td>AF-A8MTY0-F1-model_v4</td>\n",
       "      <td>1459</td>\n",
       "      <td>0.095</td>\n",
       "      <td>0.096</td>\n",
       "      <td>5.445</td>\n",
       "      <td>[196.48, 196.48, 273.23]</td>\n",
       "      <td>[0.548, 0.548, 0.632, 0.184, -0.816, 0.548, 0....</td>\n",
       "      <td>1</td>\n",
       "      <td>A8MTY0</td>\n",
       "      <td>None</td>\n",
       "      <td>session1/density_filtered/AF-A8MTY0-F1-model_v...</td>\n",
       "      <td>A8MTY0</td>\n",
       "    </tr>\n",
       "  </tbody>\n",
       "</table>\n",
       "<p>62757 rows × 13 columns</p>\n",
       "</div>"
      ],
      "text/plain": [
       "      powerfit_run_id              structure  rank     cc  fishz    relz  \\\n",
       "0                   1        A8MT69_4ne6_B2A     1  0.456  0.492  11.071   \n",
       "1                   1        A8MT69_4drb_J2A     1  0.444  0.477  10.588   \n",
       "2                   1        A8MT69_4dra_E2A     1  0.443  0.476  10.402   \n",
       "3                   1        A8MT69_4e44_B2A     1  0.440  0.472  10.099   \n",
       "4                   1        A8MT69_7xhn_X2A     1  0.439  0.471  10.136   \n",
       "...               ...                    ...   ...    ...    ...     ...   \n",
       "62752               1  AF-A8MTY0-F1-model_v4  1463  0.095  0.095   5.424   \n",
       "62753               1  AF-A8MTY0-F1-model_v4  1462  0.095  0.095   5.425   \n",
       "62754               1  AF-A8MTY0-F1-model_v4  1461  0.095  0.095   5.429   \n",
       "62755               1  AF-A8MTY0-F1-model_v4  1460  0.095  0.096   5.437   \n",
       "62756               1  AF-A8MTY0-F1-model_v4  1459  0.095  0.096   5.445   \n",
       "\n",
       "                    translation  \\\n",
       "0      [227.18, 242.53, 211.83]   \n",
       "1       [227.18, 242.53, 214.9]   \n",
       "2        [214.9, 187.27, 214.9]   \n",
       "3      [224.11, 236.39, 227.18]   \n",
       "4      [230.25, 242.53, 217.97]   \n",
       "...                         ...   \n",
       "62752  [168.85, 202.62, 236.39]   \n",
       "62753   [122.8, 174.99, 147.36]   \n",
       "62754  [150.43, 211.83, 104.38]   \n",
       "62755  [224.11, 282.44, 150.43]   \n",
       "62756  [196.48, 196.48, 273.23]   \n",
       "\n",
       "                                                rotation  density_filter_id  \\\n",
       "0      [0.0, -0.0, -1.0, 0.604, -0.797, 0.0, -0.797, ...               <NA>   \n",
       "1      [0.797, -0.604, 0.0, 0.604, 0.797, 0.0, 0.0, 0...               <NA>   \n",
       "2      [1.0, -0.0, 0.0, 0.0, -0.0, 1.0, -0.0, -1.0, -...               <NA>   \n",
       "3          [1.0, 0.0, 0.0, 0.0, 1.0, 0.0, 0.0, 0.0, 1.0]               <NA>   \n",
       "4        [-1.0, 0.0, 0.0, 0.0, -1.0, 0.0, 0.0, 0.0, 1.0]               <NA>   \n",
       "...                                                  ...                ...   \n",
       "62752  [0.0, 1.0, 0.0, 0.797, 0.0, -0.604, -0.604, 0....                  1   \n",
       "62753  [0.797, 0.604, 0.0, 0.604, -0.797, 0.0, 0.0, 0...                  1   \n",
       "62754  [0.548, 0.548, 0.632, 0.184, -0.816, 0.548, 0....                  1   \n",
       "62755  [0.0, 0.797, 0.604, -1.0, 0.0, -0.0, 0.0, -0.6...                  1   \n",
       "62756  [0.548, 0.548, 0.632, 0.184, -0.816, 0.548, 0....                  1   \n",
       "\n",
       "        af_id pdb_id                                           pdb_file  \\\n",
       "0        None   4NE6          session1/single_chain/A8MT69_4ne6_B2A.pdb   \n",
       "1        None   4DRB          session1/single_chain/A8MT69_4drb_J2A.pdb   \n",
       "2        None   4DRA          session1/single_chain/A8MT69_4dra_E2A.pdb   \n",
       "3        None   4E44          session1/single_chain/A8MT69_4e44_B2A.pdb   \n",
       "4        None   7XHN          session1/single_chain/A8MT69_7xhn_X2A.pdb   \n",
       "...       ...    ...                                                ...   \n",
       "62752  A8MTY0   None  session1/density_filtered/AF-A8MTY0-F1-model_v...   \n",
       "62753  A8MTY0   None  session1/density_filtered/AF-A8MTY0-F1-model_v...   \n",
       "62754  A8MTY0   None  session1/density_filtered/AF-A8MTY0-F1-model_v...   \n",
       "62755  A8MTY0   None  session1/density_filtered/AF-A8MTY0-F1-model_v...   \n",
       "62756  A8MTY0   None  session1/density_filtered/AF-A8MTY0-F1-model_v...   \n",
       "\n",
       "      uniprot_acc  \n",
       "0          A8MT69  \n",
       "1          A8MT69  \n",
       "2          A8MT69  \n",
       "3          A8MT69  \n",
       "4          A8MT69  \n",
       "...           ...  \n",
       "62752      A8MTY0  \n",
       "62753      A8MTY0  \n",
       "62754      A8MTY0  \n",
       "62755      A8MTY0  \n",
       "62756      A8MTY0  \n",
       "\n",
       "[62757 rows x 13 columns]"
      ]
     },
     "execution_count": 7,
     "metadata": {},
     "output_type": "execute_result"
    }
   ],
   "source": [
    "solutions"
   ]
  },
  {
   "cell_type": "markdown",
   "id": "633ebe4d",
   "metadata": {},
   "source": [
    "### Fit model to solution\n",
    "\n",
    "Rotate/translate the input model PDB files to the top 5 powerfit solutions."
   ]
  },
  {
   "cell_type": "code",
   "execution_count": null,
   "id": "49978915",
   "metadata": {},
   "outputs": [],
   "source": [
    "from protein_detective.powerfit.workflow import powerfit_fit_models"
   ]
  },
  {
   "cell_type": "code",
   "execution_count": 6,
   "id": "d93c6a04",
   "metadata": {},
   "outputs": [
    {
     "name": "stderr",
     "output_type": "stream",
     "text": [
      "Writing fitted model PDB files: 100%|██████████| 5/5 [00:00<00:00, 351.19it/s]\n"
     ]
    },
    {
     "data": {
      "text/html": [
       "<div>\n",
       "<style scoped>\n",
       "    .dataframe tbody tr th:only-of-type {\n",
       "        vertical-align: middle;\n",
       "    }\n",
       "\n",
       "    .dataframe tbody tr th {\n",
       "        vertical-align: top;\n",
       "    }\n",
       "\n",
       "    .dataframe thead th {\n",
       "        text-align: right;\n",
       "    }\n",
       "</style>\n",
       "<table border=\"1\" class=\"dataframe\">\n",
       "  <thead>\n",
       "    <tr style=\"text-align: right;\">\n",
       "      <th></th>\n",
       "      <th>powerfit_run_id</th>\n",
       "      <th>structure</th>\n",
       "      <th>rank</th>\n",
       "      <th>fitted_model_file</th>\n",
       "      <th>unfitted_model_file</th>\n",
       "    </tr>\n",
       "    <tr>\n",
       "      <th>index</th>\n",
       "      <th></th>\n",
       "      <th></th>\n",
       "      <th></th>\n",
       "      <th></th>\n",
       "      <th></th>\n",
       "    </tr>\n",
       "  </thead>\n",
       "  <tbody>\n",
       "    <tr>\n",
       "      <th>0</th>\n",
       "      <td>1</td>\n",
       "      <td>A8MT69_4ne6_B2A</td>\n",
       "      <td>1</td>\n",
       "      <td>session1/powerfit/1/A8MT69_4ne6_B2A/fit_1.pdb</td>\n",
       "      <td>session1/single_chain/A8MT69_4ne6_B2A.pdb</td>\n",
       "    </tr>\n",
       "    <tr>\n",
       "      <th>1</th>\n",
       "      <td>1</td>\n",
       "      <td>A8MT69_4drb_J2A</td>\n",
       "      <td>1</td>\n",
       "      <td>session1/powerfit/1/A8MT69_4drb_J2A/fit_1.pdb</td>\n",
       "      <td>session1/single_chain/A8MT69_4drb_J2A.pdb</td>\n",
       "    </tr>\n",
       "    <tr>\n",
       "      <th>2</th>\n",
       "      <td>1</td>\n",
       "      <td>A8MT69_4dra_E2A</td>\n",
       "      <td>1</td>\n",
       "      <td>session1/powerfit/1/A8MT69_4dra_E2A/fit_1.pdb</td>\n",
       "      <td>session1/single_chain/A8MT69_4dra_E2A.pdb</td>\n",
       "    </tr>\n",
       "    <tr>\n",
       "      <th>3</th>\n",
       "      <td>1</td>\n",
       "      <td>A8MT69_4e44_B2A</td>\n",
       "      <td>1</td>\n",
       "      <td>session1/powerfit/1/A8MT69_4e44_B2A/fit_1.pdb</td>\n",
       "      <td>session1/single_chain/A8MT69_4e44_B2A.pdb</td>\n",
       "    </tr>\n",
       "    <tr>\n",
       "      <th>4</th>\n",
       "      <td>1</td>\n",
       "      <td>A8MT69_7xhn_X2A</td>\n",
       "      <td>1</td>\n",
       "      <td>session1/powerfit/1/A8MT69_7xhn_X2A/fit_1.pdb</td>\n",
       "      <td>session1/single_chain/A8MT69_7xhn_X2A.pdb</td>\n",
       "    </tr>\n",
       "  </tbody>\n",
       "</table>\n",
       "</div>"
      ],
      "text/plain": [
       "      powerfit_run_id        structure  rank  \\\n",
       "index                                          \n",
       "0                   1  A8MT69_4ne6_B2A     1   \n",
       "1                   1  A8MT69_4drb_J2A     1   \n",
       "2                   1  A8MT69_4dra_E2A     1   \n",
       "3                   1  A8MT69_4e44_B2A     1   \n",
       "4                   1  A8MT69_7xhn_X2A     1   \n",
       "\n",
       "                                   fitted_model_file  \\\n",
       "index                                                  \n",
       "0      session1/powerfit/1/A8MT69_4ne6_B2A/fit_1.pdb   \n",
       "1      session1/powerfit/1/A8MT69_4drb_J2A/fit_1.pdb   \n",
       "2      session1/powerfit/1/A8MT69_4dra_E2A/fit_1.pdb   \n",
       "3      session1/powerfit/1/A8MT69_4e44_B2A/fit_1.pdb   \n",
       "4      session1/powerfit/1/A8MT69_7xhn_X2A/fit_1.pdb   \n",
       "\n",
       "                             unfitted_model_file  \n",
       "index                                             \n",
       "0      session1/single_chain/A8MT69_4ne6_B2A.pdb  \n",
       "1      session1/single_chain/A8MT69_4drb_J2A.pdb  \n",
       "2      session1/single_chain/A8MT69_4dra_E2A.pdb  \n",
       "3      session1/single_chain/A8MT69_4e44_B2A.pdb  \n",
       "4      session1/single_chain/A8MT69_7xhn_X2A.pdb  "
      ]
     },
     "execution_count": 6,
     "metadata": {},
     "output_type": "execute_result"
    }
   ],
   "source": [
    "fitted = powerfit_fit_models(session_dir, top=5)\n",
    "fitted"
   ]
  },
  {
   "cell_type": "code",
   "execution_count": null,
   "id": "eadd22b3",
   "metadata": {},
   "outputs": [],
   "source": []
  }
 ],
 "metadata": {
  "kernelspec": {
   "display_name": "protein-detective",
   "language": "python",
   "name": "python3"
  },
  "language_info": {
   "codemirror_mode": {
    "name": "ipython",
    "version": 3
   },
   "file_extension": ".py",
   "mimetype": "text/x-python",
   "name": "python",
   "nbconvert_exporter": "python",
   "pygments_lexer": "ipython3",
   "version": "3.13.2"
  }
 },
 "nbformat": 4,
 "nbformat_minor": 5
}
