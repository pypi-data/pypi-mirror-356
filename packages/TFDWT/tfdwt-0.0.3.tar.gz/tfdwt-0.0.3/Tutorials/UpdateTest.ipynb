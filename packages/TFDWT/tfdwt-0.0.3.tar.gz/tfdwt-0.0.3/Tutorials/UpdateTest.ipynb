{
 "cells": [
  {
   "cell_type": "markdown",
   "id": "918a77a9",
   "metadata": {},
   "source": []
  },
  {
   "cell_type": "code",
   "execution_count": null,
   "id": "74742f45",
   "metadata": {},
   "outputs": [],
   "source": [
    "\n",
    "# # include ../dirx \n",
    "mylibpath = [\n",
    "    # '/home/kishor/src/FastDWTConvLayers',\n",
    "    # '/home/kishor/src/MRSegmentation/Attentions19102023'\n",
    "      # '/home/k/src/_MEDCNNsrc_part/MEDCNN_copy'\n",
    "      '/home/kkt/src/TFDWT.pypi/TFDWT'\n",
    "      # '/home/kishor/src/MEDCNN_copy'\n",
    "    #'/home/k/PLAYGROUND10GB/SKULSTRIPpaper__'\n",
    "    ]\n",
    "import sys\n",
    "[sys.path.insert(0,_) for _ in mylibpath]\n",
    "del mylibpath"
   ]
  },
  {
   "cell_type": "code",
   "execution_count": 2,
   "id": "40ea3366",
   "metadata": {},
   "outputs": [
    {
     "name": "stdout",
     "output_type": "stream",
     "text": [
      "\u001b[0m\u001b[01;35mbrain.png\u001b[0m\n",
      "\u001b[01;35mcameraman.jpg\u001b[0m\n",
      "DWT_IDWT_Layers_Demo.ipynb\n",
      "DWT_Level1_Perfect_Reconstruction_1D_2D_3D_Filterbanks.ipynb\n",
      "\u001b[01;35mlena.jpg\u001b[0m\n",
      "UpdateTest.ipynb\n"
     ]
    }
   ],
   "source": [
    "ls"
   ]
  },
  {
   "cell_type": "code",
   "execution_count": 7,
   "id": "1a192a36",
   "metadata": {},
   "outputs": [
    {
     "name": "stdout",
     "output_type": "stream",
     "text": [
      "/home/kkt/src/TFDWT.pypi\n"
     ]
    }
   ],
   "source": [
    "cd .."
   ]
  },
  {
   "cell_type": "code",
   "execution_count": 31,
   "id": "4593aabc",
   "metadata": {},
   "outputs": [
    {
     "name": "stdout",
     "output_type": "stream",
     "text": [
      "2025-06-20 12:01:43.551616: I tensorflow/core/util/port.cc:153] oneDNN custom operations are on. You may see slightly different numerical results due to floating-point round-off errors from different computation orders. To turn them off, set the environment variable `TF_ENABLE_ONEDNN_OPTS=0`.\n",
      "2025-06-20 12:01:43.559987: E external/local_xla/xla/stream_executor/cuda/cuda_fft.cc:467] Unable to register cuFFT factory: Attempting to register factory for plugin cuFFT when one has already been registered\n",
      "WARNING: All log messages before absl::InitializeLog() is called are written to STDERR\n",
      "E0000 00:00:1750401103.570521 3203309 cuda_dnn.cc:8579] Unable to register cuDNN factory: Attempting to register factory for plugin cuDNN when one has already been registered\n",
      "E0000 00:00:1750401103.573706 3203309 cuda_blas.cc:1407] Unable to register cuBLAS factory: Attempting to register factory for plugin cuBLAS when one has already been registered\n",
      "W0000 00:00:1750401103.581761 3203309 computation_placer.cc:177] computation placer already registered. Please check linkage and avoid linking the same target more than once.\n",
      "W0000 00:00:1750401103.581774 3203309 computation_placer.cc:177] computation placer already registered. Please check linkage and avoid linking the same target more than once.\n",
      "W0000 00:00:1750401103.581776 3203309 computation_placer.cc:177] computation placer already registered. Please check linkage and avoid linking the same target more than once.\n",
      "W0000 00:00:1750401103.581777 3203309 computation_placer.cc:177] computation placer already registered. Please check linkage and avoid linking the same target more than once.\n",
      "2025-06-20 12:01:43.584416: I tensorflow/core/platform/cpu_feature_guard.cc:210] This TensorFlow binary is optimized to use available CPU instructions in performance-critical operations.\n",
      "To enable the following instructions: AVX2 AVX_VNNI FMA, in other operations, rebuild TensorFlow with the appropriate compiler flags.\n",
      "Biothogonal wavelet bior1.5\n",
      "2025-06-20 12:01:44.672368: E external/local_xla/xla/stream_executor/cuda/cuda_platform.cc:51] failed call to cuInit: INTERNAL: CUDA error: Failed call to cuInit: CUDA_ERROR_NO_DEVICE: no CUDA-capable device is detected\n",
      "2025-06-20 12:01:44.672391: I external/local_xla/xla/stream_executor/cuda/cuda_diagnostics.cc:167] env: CUDA_VISIBLE_DEVICES=\"-1\"\n",
      "2025-06-20 12:01:44.672396: I external/local_xla/xla/stream_executor/cuda/cuda_diagnostics.cc:170] CUDA_VISIBLE_DEVICES is set to -1 - this hides all GPUs from CUDA\n",
      "2025-06-20 12:01:44.672398: I external/local_xla/xla/stream_executor/cuda/cuda_diagnostics.cc:178] verbose logging is disabled. Rerun with verbose logging (usually --v=1 or --vmodule=cuda_diagnostics=1) to get more diagnostic output from this module\n",
      "2025-06-20 12:01:44.672402: I external/local_xla/xla/stream_executor/cuda/cuda_diagnostics.cc:183] retrieving CUDA diagnostic information for host: gpu.kkt\n",
      "2025-06-20 12:01:44.672404: I external/local_xla/xla/stream_executor/cuda/cuda_diagnostics.cc:190] hostname: gpu.kkt\n",
      "2025-06-20 12:01:44.672445: I external/local_xla/xla/stream_executor/cuda/cuda_diagnostics.cc:197] libcuda reported version is: 550.127.5\n",
      "2025-06-20 12:01:44.672455: I external/local_xla/xla/stream_executor/cuda/cuda_diagnostics.cc:201] kernel reported version is: 550.127.5\n",
      "2025-06-20 12:01:44.672457: I external/local_xla/xla/stream_executor/cuda/cuda_diagnostics.cc:291] kernel version seems to match DSO: 550.127.5\n",
      "\n",
      "x (1, 256, 256, 256, 1)\n",
      "lh (1, 256, 256, 256, 1)\n",
      "DWT output shape: (1, 256, 256, 256, 1)\n",
      "Max reconstruction error 8.0\n"
     ]
    }
   ],
   "source": [
    "!python -m TFDWT.DWT3DFB"
   ]
  },
  {
   "cell_type": "code",
   "execution_count": 14,
   "id": "3116d712",
   "metadata": {},
   "outputs": [
    {
     "name": "stdout",
     "output_type": "stream",
     "text": [
      "2025-06-20 11:30:39.204891: I tensorflow/core/util/port.cc:153] oneDNN custom operations are on. You may see slightly different numerical results due to floating-point round-off errors from different computation orders. To turn them off, set the environment variable `TF_ENABLE_ONEDNN_OPTS=0`.\n",
      "2025-06-20 11:30:39.213315: E external/local_xla/xla/stream_executor/cuda/cuda_fft.cc:467] Unable to register cuFFT factory: Attempting to register factory for plugin cuFFT when one has already been registered\n",
      "WARNING: All log messages before absl::InitializeLog() is called are written to STDERR\n",
      "E0000 00:00:1750399239.223685 3169727 cuda_dnn.cc:8579] Unable to register cuDNN factory: Attempting to register factory for plugin cuDNN when one has already been registered\n",
      "E0000 00:00:1750399239.226832 3169727 cuda_blas.cc:1407] Unable to register cuBLAS factory: Attempting to register factory for plugin cuBLAS when one has already been registered\n",
      "W0000 00:00:1750399239.234837 3169727 computation_placer.cc:177] computation placer already registered. Please check linkage and avoid linking the same target more than once.\n",
      "W0000 00:00:1750399239.234851 3169727 computation_placer.cc:177] computation placer already registered. Please check linkage and avoid linking the same target more than once.\n",
      "W0000 00:00:1750399239.234853 3169727 computation_placer.cc:177] computation placer already registered. Please check linkage and avoid linking the same target more than once.\n",
      "W0000 00:00:1750399239.234854 3169727 computation_placer.cc:177] computation placer already registered. Please check linkage and avoid linking the same target more than once.\n",
      "2025-06-20 11:30:39.237458: I tensorflow/core/platform/cpu_feature_guard.cc:210] This TensorFlow binary is optimized to use available CPU instructions in performance-critical operations.\n",
      "To enable the following instructions: AVX2 AVX_VNNI FMA, in other operations, rebuild TensorFlow with the appropriate compiler flags.\n"
     ]
    }
   ],
   "source": [
    "!python -m TFDWT.__init__"
   ]
  },
  {
   "cell_type": "code",
   "execution_count": null,
   "id": "34392d71",
   "metadata": {},
   "outputs": [],
   "source": [
    "\n"
   ]
  },
  {
   "cell_type": "code",
   "execution_count": 28,
   "id": "47c140bc",
   "metadata": {},
   "outputs": [],
   "source": [
    "# h0 = [0.5, 0.5]\n",
    "# h1 = [0.5, -0.5]\n",
    "# N = 12589\n",
    "\n",
    "# A1 = make_dwt_operator_matrix_A(h0, h1, N)\n",
    "# print(A1.round(2))\n",
    "\n",
    "# A2 = make_dwt_operator_matrix_A_tf(h0, h1, N)\n",
    "# print(A2.numpy().round(2))"
   ]
  },
  {
   "cell_type": "code",
   "execution_count": 27,
   "id": "ac6e0241",
   "metadata": {},
   "outputs": [
    {
     "data": {
      "text/plain": [
       "True"
      ]
     },
     "execution_count": 27,
     "metadata": {},
     "output_type": "execute_result"
    }
   ],
   "source": [
    "np.array_equal(A1,A2)"
   ]
  }
 ],
 "metadata": {
  "kernelspec": {
   "display_name": "tf219",
   "language": "python",
   "name": "python3"
  },
  "language_info": {
   "codemirror_mode": {
    "name": "ipython",
    "version": 3
   },
   "file_extension": ".py",
   "mimetype": "text/x-python",
   "name": "python",
   "nbconvert_exporter": "python",
   "pygments_lexer": "ipython3",
   "version": "3.12.11"
  }
 },
 "nbformat": 4,
 "nbformat_minor": 5
}
