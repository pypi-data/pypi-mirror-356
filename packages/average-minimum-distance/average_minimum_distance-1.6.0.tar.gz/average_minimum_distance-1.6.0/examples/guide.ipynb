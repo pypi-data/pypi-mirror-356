{
 "cells": [
  {
   "cell_type": "markdown",
   "metadata": {},
   "source": [
    "Run the cell below to import amd and set options for printing results."
   ]
  },
  {
   "cell_type": "code",
   "execution_count": 41,
   "metadata": {},
   "outputs": [
    {
     "name": "stdout",
     "output_type": "stream",
     "text": [
      "Requirement already satisfied: average-minimum-distance in c:\\users\\danwi\\appdata\\local\\programs\\python\\python311\\lib\\site-packages (1.6.0)\n",
      "Requirement already satisfied: matplotlib in c:\\users\\danwi\\appdata\\local\\programs\\python\\python311\\lib\\site-packages (3.9.4)\n",
      "Requirement already satisfied: gemmi>=0.7.1 in c:\\users\\danwi\\appdata\\local\\programs\\python\\python311\\lib\\site-packages (from average-minimum-distance) (0.7.1)\n",
      "Requirement already satisfied: joblib>=1.4.2 in c:\\users\\danwi\\appdata\\local\\programs\\python\\python311\\lib\\site-packages (from average-minimum-distance) (1.4.2)\n",
      "Requirement already satisfied: numba>=0.60.0 in c:\\users\\danwi\\appdata\\local\\programs\\python\\python311\\lib\\site-packages (from average-minimum-distance) (0.61.2)\n",
      "Requirement already satisfied: numpy>=2.2.5 in c:\\users\\danwi\\appdata\\local\\programs\\python\\python311\\lib\\site-packages (from average-minimum-distance) (2.2.5)\n",
      "Requirement already satisfied: pandas>=2.2.3 in c:\\users\\danwi\\appdata\\local\\programs\\python\\python311\\lib\\site-packages (from average-minimum-distance) (2.2.3)\n",
      "Requirement already satisfied: scikit_learn>=1.6.1 in c:\\users\\danwi\\appdata\\local\\programs\\python\\python311\\lib\\site-packages (from average-minimum-distance) (1.6.1)\n",
      "Requirement already satisfied: scipy>=1.15.3 in c:\\users\\danwi\\appdata\\local\\programs\\python\\python311\\lib\\site-packages (from average-minimum-distance) (1.15.3)\n",
      "Requirement already satisfied: tqdm>=4.67.1 in c:\\users\\danwi\\appdata\\local\\programs\\python\\python311\\lib\\site-packages (from average-minimum-distance) (4.67.1)\n",
      "Requirement already satisfied: contourpy>=1.0.1 in c:\\users\\danwi\\appdata\\local\\programs\\python\\python311\\lib\\site-packages (from matplotlib) (1.3.0)\n",
      "Requirement already satisfied: cycler>=0.10 in c:\\users\\danwi\\appdata\\local\\programs\\python\\python311\\lib\\site-packages (from matplotlib) (0.12.1)\n",
      "Requirement already satisfied: fonttools>=4.22.0 in c:\\users\\danwi\\appdata\\local\\programs\\python\\python311\\lib\\site-packages (from matplotlib) (4.56.0)\n",
      "Requirement already satisfied: kiwisolver>=1.3.1 in c:\\users\\danwi\\appdata\\local\\programs\\python\\python311\\lib\\site-packages (from matplotlib) (1.4.7)\n",
      "Requirement already satisfied: packaging>=20.0 in c:\\users\\danwi\\appdata\\local\\programs\\python\\python311\\lib\\site-packages (from matplotlib) (24.2)\n",
      "Requirement already satisfied: pillow>=8 in c:\\users\\danwi\\appdata\\local\\programs\\python\\python311\\lib\\site-packages (from matplotlib) (11.1.0)\n",
      "Requirement already satisfied: pyparsing>=2.3.1 in c:\\users\\danwi\\appdata\\local\\programs\\python\\python311\\lib\\site-packages (from matplotlib) (3.2.1)\n",
      "Requirement already satisfied: python-dateutil>=2.7 in c:\\users\\danwi\\appdata\\local\\programs\\python\\python311\\lib\\site-packages (from matplotlib) (2.9.0.post0)\n",
      "Requirement already satisfied: llvmlite<0.45,>=0.44.0dev0 in c:\\users\\danwi\\appdata\\local\\programs\\python\\python311\\lib\\site-packages (from numba>=0.60.0->average-minimum-distance) (0.44.0)\n",
      "Requirement already satisfied: pytz>=2020.1 in c:\\users\\danwi\\appdata\\local\\programs\\python\\python311\\lib\\site-packages (from pandas>=2.2.3->average-minimum-distance) (2025.1)\n",
      "Requirement already satisfied: tzdata>=2022.7 in c:\\users\\danwi\\appdata\\local\\programs\\python\\python311\\lib\\site-packages (from pandas>=2.2.3->average-minimum-distance) (2025.1)\n",
      "Requirement already satisfied: six>=1.5 in c:\\users\\danwi\\appdata\\local\\programs\\python\\python311\\lib\\site-packages (from python-dateutil>=2.7->matplotlib) (1.17.0)\n",
      "Requirement already satisfied: threadpoolctl>=3.1.0 in c:\\users\\danwi\\appdata\\local\\programs\\python\\python311\\lib\\site-packages (from scikit_learn>=1.6.1->average-minimum-distance) (3.5.0)\n",
      "Requirement already satisfied: colorama in c:\\users\\danwi\\appdata\\local\\programs\\python\\python311\\lib\\site-packages (from tqdm>=4.67.1->average-minimum-distance) (0.4.6)\n",
      "Note: you may need to restart the kernel to use updated packages.\n"
     ]
    },
    {
     "name": "stderr",
     "output_type": "stream",
     "text": [
      "WARNING: Ignoring invalid distribution ~cipy (c:\\Users\\danwi\\AppData\\Local\\Programs\\Python\\Python311\\Lib\\site-packages)\n",
      "WARNING: Ignoring invalid distribution ~cipy (c:\\Users\\danwi\\AppData\\Local\\Programs\\Python\\Python311\\Lib\\site-packages)\n",
      "WARNING: Ignoring invalid distribution ~cipy (c:\\Users\\danwi\\AppData\\Local\\Programs\\Python\\Python311\\Lib\\site-packages)\n"
     ]
    }
   ],
   "source": [
    "%pip install average-minimum-distance matplotlib\n",
    "\n",
    "import amd\n",
    "import numpy as np\n",
    "import warnings\n",
    "\n",
    "np.set_printoptions(precision=5, suppress=True)\n",
    "warnings.filterwarnings(\"ignore\", category=DeprecationWarning)"
   ]
  },
  {
   "cell_type": "markdown",
   "metadata": {},
   "source": [
    "## Example: dendrogram of CaCO3 polymorphs\n",
    "\n",
    "In this example, we will read CaCO3.cif (<https://github.com/dwiddo/average-minimum-distance/tree/master/examples>) containing several forms of calcium carbonate from the Open Crystallography Database, create a distance matrix from their pointwise distance distributions, and plot a dendrogram seperating the polymorphs into groups. First, we'll find the distance between just two crystals:"
   ]
  },
  {
   "cell_type": "code",
   "execution_count": 42,
   "metadata": {},
   "outputs": [
    {
     "name": "stdout",
     "output_type": "stream",
     "text": [
      "0.09614150599999999\n"
     ]
    }
   ],
   "source": [
    "crystals = list(amd.CifReader(\"CaCO3.cif\")) # read crystals\n",
    "pdds = [amd.PDD(crystal, 100) for crystal in crystals] # calculate PDDs (k=100)\n",
    "d = amd.EMD(pdds[0], pdds[1]) # (Earth mover's) distance between 1st and 2nd PDDs\n",
    "print(d)"
   ]
  },
  {
   "cell_type": "markdown",
   "metadata": {},
   "source": [
    "The above code reads crystals from a file, calculates their PDDs and finds the distance (Earth Mover's distance, EMD) bewteen the first two crystals. You may notice that the first time running the cell above is quite slow, but running the cell again is *significantly* faster. This is because the package relies on just-in-time compilation (numba) and the initial calls to ``amd.CifReader``, ``amd.PDD`` and ``amd.EMD`` spend most of the time in compilation, which is not repeated in subsequent calls.\n",
    "\n",
    "With the PDDs and a function to calculate distances, we can now compute the distance matrix followed by the dendrogram. We will use ``hierarchy.linkage`` from ``scipy.cluster`` to compute the dendrogram, which expects a condensed distance matrix (explained [here](https://docs.scipy.org/doc/scipy/reference/generated/scipy.spatial.distance.pdist.html#scipy-spatial-distance-pdist)). The cell below does this manually for this demonstration, but the equivalent can be obtained with ``amd.PDD_pdist(pdds)``:"
   ]
  },
  {
   "cell_type": "code",
   "execution_count": 43,
   "metadata": {},
   "outputs": [],
   "source": [
    "# equivalent to cdm = amd.PDD_pdist(pdds)\n",
    "cdm = []\n",
    "for i in range(len(pdds)):\n",
    "    for j in range(i+1, len(pdds)):\n",
    "        d = amd.EMD(pdds[i], pdds[j])\n",
    "        cdm.append(d)\n",
    "cdm = np.array(cdm)"
   ]
  },
  {
   "cell_type": "markdown",
   "metadata": {},
   "source": [
    "Now a dendrogram can be plotted as follows:"
   ]
  },
  {
   "cell_type": "code",
   "execution_count": 44,
   "metadata": {},
   "outputs": [
    {
     "data": {
      "image/png": "[encoded data removed]",
      "text/plain": [
       "<Figure size 640x480 with 1 Axes>"
      ]
     },
     "metadata": {},
     "output_type": "display_data"
    }
   ],
   "source": [
    "import matplotlib.pyplot as plt\n",
    "from scipy.cluster import hierarchy\n",
    "\n",
    "names = [crystal.name for crystal in crystals]\n",
    "Z = hierarchy.linkage(cdm, \"complete\", optimal_ordering=True)\n",
    "dn = hierarchy.dendrogram(Z, labels=names)\n",
    "plt.show()"
   ]
  },
  {
   "cell_type": "markdown",
   "metadata": {},
   "source": [
    "The resulting dendrogram shows 3 well-defined groups, the 3 polymorphs of CaCO3 (calcite, aragonite, vaterite). Changing k=100 in ``amd.PDD`` above to a smaller value like k=5 will show one large cluster, because these crystals consist of the same molecule whose atomic environments are not different for the first few neighbours of atoms. "
   ]
  },
  {
   "cell_type": "markdown",
   "metadata": {},
   "source": [
    "## Example: Fast comparisons with AMD\n",
    "\n",
    "While PDDs are relatively fast to compare with earth mover's distance, collections of hundreds of thousands of crystals (for example, the entirety of the Open Crystallography Database) pose a computational challenge. Taking the average of a PDD gives the Average Minimum Distance (AMD), a vector with less information which still seperates structures well by geometry with significantly reduced cost of comparisons. The cell below plots the same dendrogram as the previous example, but with AMD instead of PDD:"
   ]
  },
  {
   "cell_type": "code",
   "execution_count": 45,
   "metadata": {},
   "outputs": [
    {
     "data": {
      "image/png": "[encoded data removed]",
      "text/plain": [
       "<Figure size 640x480 with 1 Axes>"
      ]
     },
     "metadata": {},
     "output_type": "display_data"
    }
   ],
   "source": [
    "import matplotlib.pyplot as plt\n",
    "from scipy.cluster import hierarchy\n",
    "\n",
    "crystals = list(amd.CifReader(\"CaCO3.cif\"))\n",
    "amds = np.array([amd.AMD(crystal, 100) for crystal in crystals])\n",
    "cdm = amd.AMD_pdist(amds)\n",
    "names = [crystal.name for crystal in crystals]\n",
    "Z = hierarchy.linkage(cdm, \"complete\", optimal_ordering=True)\n",
    "dn = hierarchy.dendrogram(Z, labels=names)\n",
    "plt.show()"
   ]
  },
  {
   "cell_type": "markdown",
   "metadata": {},
   "source": [
    "To demonstrate the speed of AMD comparisons on many structures, we will generate many random structures and compare them. The cell below generates ``n_items`` random periodic sets, with 30 points randomly placed in a random unit cell with cell lengths betwee 1 and 2 and angles between 60 and 120 degrees. ``tqdm`` provides a progress bar for AMD calculation. Since AMDs are just vectors, 10,000 sets can be compared pairwise easily; increasing this parameter may eventually require you to use ``low_memory=True`` below."
   ]
  },
  {
   "cell_type": "code",
   "execution_count": 46,
   "metadata": {},
   "outputs": [
    {
     "name": "stderr",
     "output_type": "stream",
     "text": [
      "100%|██████████| 10000/10000 [00:02<00:00, 4003.21it/s]\n"
     ]
    },
    {
     "name": "stdout",
     "output_type": "stream",
     "text": [
      "smallest distance:  0.006438721662578195\n"
     ]
    }
   ],
   "source": [
    "from tqdm import tqdm\n",
    "\n",
    "np.random.seed(1)\n",
    "n_items = 10000\n",
    "psets = [\n",
    "    amd.PeriodicSet.random(n_points=30, length_bounds=(1.0, 2.0), angle_bounds=(60.0, 120.0))\n",
    "    for _ in range(n_items)\n",
    "]\n",
    "amds = np.array([amd.AMD(pset, 100) for pset in tqdm(psets)])\n",
    "cdm = amd.AMD_pdist(amds, low_memory=False)\n",
    "print(\"smallest distance: \", np.amin(cdm))"
   ]
  },
  {
   "cell_type": "markdown",
   "metadata": {},
   "source": [
    "## Details of reading and comparison options\n",
    "\n",
    "Several of the functions used in the previous examples have optional parameters allowing control over the reading or comparison of structures. Here we run through the CaCO3 dendrogram example, providing more details of usage and optional parameters (given their defaults below)."
   ]
  },
  {
   "cell_type": "code",
   "execution_count": 47,
   "metadata": {},
   "outputs": [
    {
     "name": "stdout",
     "output_type": "stream",
     "text": [
      "[0.09614 0.43137 0.44346 ... 0.17931 0.29227 0.2926 ]\n"
     ]
    }
   ],
   "source": [
    "import matplotlib.pyplot as plt\n",
    "from scipy.cluster import hierarchy\n",
    "\n",
    "# CifReader is intended to be iterated over\n",
    "reader = amd.CifReader(\n",
    "    \"CaCO3.cif\", \n",
    "    reader=\"gemmi\",           # gemmi or ccdc if csd-python-api installed\n",
    "    remove_hydrogens=False,\n",
    "    skip_disorder=False,      # skip over disordered structures\n",
    "    heaviest_component=False, # remove lightest molecules (solvents)\n",
    "    molecular_centres=False,  # take centres of moleucles as points\n",
    "    show_warnings=True,\n",
    "    verbose=False\n",
    ")\n",
    "\n",
    "# Does not keep items from CifReader in memory\n",
    "names, pdds = [], []\n",
    "for pset in reader:\n",
    "    pdd = amd.PDD(\n",
    "        pset,\n",
    "        100,               # k = number of neighbours to consider for each atom\n",
    "        lexsort=True,      # lexicographically sort rows\n",
    "        collapse=True,     # collpase rows\n",
    "        collapse_tol=1e-4, # tolerance for collapsing rows\n",
    "        # Returns a tuple (pdd, row_data) with row_data detailing which PDD rows\n",
    "        # correspond to which point in pset\n",
    "        return_row_data=False\n",
    "    )\n",
    "    pdds.append(pdd)\n",
    "    names.append(pset.name)\n",
    "\n",
    "# Also accepts kwargs passed to scipy.cdist to compare PDD rows\n",
    "cdm = amd.PDD_pdist(\n",
    "    pdds,\n",
    "    metric=\"chebyshev\",        # metric to compare PDD rows\n",
    "    backend=\"multiprocessing\", # multiprocessing backend\n",
    "    n_jobs=None,               # number of cores for multiprocessing\n",
    "    verbose=False\n",
    ")\n",
    "\n",
    "print(cdm)"
   ]
  },
  {
   "cell_type": "markdown",
   "metadata": {},
   "source": [
    "## Details of PDD and EMD comparisons\n",
    "\n",
    "In this example we will look at the contents of a PDD. A PDD matrix generally has one row for each point in an asymmetric unit, though rows are potentially collpased and a row could correspond to multiple points. The first element of a row is the 'weight' of the row, representing the frequency of this atomic environment amongst all those in the unit cell (equal to the Wyckoff multiplicity divided by the number of motif points). The rest of a row contains distances to the nearest neighbours of the atom, in order."
   ]
  },
  {
   "cell_type": "code",
   "execution_count": 48,
   "metadata": {},
   "outputs": [
    {
     "name": "stdout",
     "output_type": "stream",
     "text": [
      "PDD row 2:\n",
      "    weight: 0.2\n",
      "    first 5 neighbour distances: [2.33781 2.33781 2.33781 2.33781 2.33781]\n",
      "    index of row in asym unit: [0]\n",
      "    asym unit point(s): [[3.79502 1.6148  1.04523]]\n",
      "    atomic number(s): [20]\n",
      "    label(s): ['Ca1']\n",
      "    multiplicitie(s): [2]\n"
     ]
    }
   ],
   "source": [
    "crystals = list(amd.CifReader(\"CaCO3.cif\"))\n",
    "crystal = crystals[0]\n",
    "pdd, groups = amd.PDD(crystal, 5, return_row_data=True)\n",
    "\n",
    "row = 2\n",
    "print(f\"PDD row {row}:\")\n",
    "print(f\"    weight: {pdd[row, 0]}\")\n",
    "print(f\"    first 5 neighbour distances: {pdd[row, 1:]}\")\n",
    "print(f\"    index of row in asym unit: {groups[row]}\")\n",
    "# indices in groups point to .asym_unit, which in turn points to .motif\n",
    "# since PDD rows collapse, a row can correspond to multiple points\n",
    "motif_inds = crystal.asym_unit[groups[row]]\n",
    "print(f\"    asym unit point(s): {crystal.motif[motif_inds]}\")\n",
    "print(f\"    atomic number(s): {crystal.types[groups[row]]}\")\n",
    "print(f\"    label(s): {[crystal.labels[i] for i in groups[row]]}\")\n",
    "print(f\"    multiplicitie(s): {crystal.multiplicities[groups[row]]}\")"
   ]
  },
  {
   "cell_type": "markdown",
   "metadata": {},
   "source": [
    "When two PDDs are compared with earth mover's distance, their rows are matched with each other in a way that minimises the distance between matched rows while respecting the weights. Even if a crystal's symmetry is broken by a perturbation resulting in more PDD rows, the new rows now have smaller weights and correspond to old rows, giving a distance that changes smoothly under the perturbation. We can see which rows match with the optional ``return_transport`` parameter of EMD:"
   ]
  },
  {
   "cell_type": "code",
   "execution_count": 49,
   "metadata": {},
   "outputs": [
    {
     "name": "stdout",
     "output_type": "stream",
     "text": [
      "[[0.2 0.  0. ]\n",
      " [0.  0.6 0. ]\n",
      " [0.  0.  0.2]]\n"
     ]
    }
   ],
   "source": [
    "crystal1 = crystals[0]\n",
    "crystal2 = crystals[1]\n",
    "\n",
    "pdd1, groups1 = amd.PDD(crystal1, 100, return_row_data=True)\n",
    "pdd2, groups2 = amd.PDD(crystal2, 100, return_row_data=True)\n",
    "emd, transport = amd.EMD(pdd1, pdd2, return_transport=True)\n",
    "print(transport)"
   ]
  },
  {
   "cell_type": "markdown",
   "metadata": {},
   "source": [
    "The final EMD is a sum over the non-zero values of the matrix above, of the weight moved (the value in the ``transport`` array) multiplied by the distance between the relevant PDD rows. Let's print the details of the matching rows and the calculation giving the final EMD:"
   ]
  },
  {
   "cell_type": "code",
   "execution_count": 50,
   "metadata": {},
   "outputs": [
    {
     "name": "stdout",
     "output_type": "stream",
     "text": [
      "C1 <-> C1, weight=0.2, row dist=0.06726\n",
      "O1 <-> O1, weight=0.6, row dist=0.1165\n",
      "Ca1 <-> Ca1, weight=0.2, row dist=0.06396\n",
      "Final EMD = 0.2x0.06726 + 0.6x0.1165 + 0.2x0.06396 = 0.09614\n"
     ]
    }
   ],
   "source": [
    "name1, name2 = crystal1.name, crystal2.name\n",
    "\n",
    "weights_moved = []\n",
    "for i, j in np.argwhere(transport > 1e-7):\n",
    "    labs1 = \",\".join([crystal1.labels[ind] for ind in groups1[i]])\n",
    "    labs2 = \",\".join([crystal2.labels[ind] for ind in groups2[j]])\n",
    "    # Chebyshev metric between rows is the default\n",
    "    row_dist = np.amax(np.abs(pdd1[i, 1:] - pdd2[j, 1:]))\n",
    "    weight_moved = transport[i,j]\n",
    "    print(\n",
    "        f\"{labs1} <-> {labs2}, weight={weight_moved:.3g}, row dist={row_dist:.4g}\"\n",
    "    )\n",
    "    weights_moved.append((row_dist, transport[i,j]))\n",
    "\n",
    "sum_str = \" + \".join((f\"{w:.3g}x{d:.4g}\" for d, w in weights_moved))\n",
    "emd_manual = sum(d * w for d, w in weights_moved)\n",
    "print(f\"Final EMD = {sum_str} = {emd_manual:.4g}\")"
   ]
  }
 ],
 "metadata": {
  "kernelspec": {
   "display_name": "Python 3",
   "language": "python",
   "name": "python3"
  },
  "language_info": {
   "codemirror_mode": {
    "name": "ipython",
    "version": 3
   },
   "file_extension": ".py",
   "mimetype": "text/x-python",
   "name": "python",
   "nbconvert_exporter": "python",
   "pygments_lexer": "ipython3",
   "version": "3.11.8"
  },
  "orig_nbformat": 3
 },
 "nbformat": 4,
 "nbformat_minor": 2
}
