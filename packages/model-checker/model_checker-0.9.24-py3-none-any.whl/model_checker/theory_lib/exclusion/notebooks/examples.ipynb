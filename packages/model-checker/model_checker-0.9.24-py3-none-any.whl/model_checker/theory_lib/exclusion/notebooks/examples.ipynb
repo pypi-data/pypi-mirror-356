{
 "cells": [
  {
   "cell_type": "markdown",
   "metadata": {},
   "source": [
    "# Exclusion Theory Demo Notebook\n",
    "\n",
    "This notebook demonstrates exclusion logic examples from the exclusion theory. It includes various countermodels showing invalid arguments and theorems showing valid arguments in exclusion logic."
   ]
  },
  {
   "cell_type": "code",
   "execution_count": null,
   "metadata": {},
   "outputs": [],
   "source": [
    "# Add parent directory to Python path to ensure module imports work\n",
    "import sys\n",
    "import os\n",
    "\n",
    "# Add parent directories to path for proper imports\n",
    "current_dir = os.path.dirname(os.path.abspath('.'))\n",
    "parent_dir = os.path.dirname(current_dir)\n",
    "parent_parent_dir = os.path.dirname(parent_dir)\n",
    "parent_parent_parent_dir = os.path.dirname(parent_parent_dir)\n",
    "parent_parent_parent_parent_dir = os.path.dirname(parent_parent_parent_dir)\n",
    "\n",
    "# Add all possible parent paths to ensure the module is found\n",
    "for path in [current_dir, parent_dir, parent_parent_dir, parent_parent_parent_dir, parent_parent_parent_parent_dir]:\n",
    "    if path not in sys.path:\n",
    "        sys.path.insert(0, path)\n",
    "\n",
    "# Print current path to help with debugging\n",
    "print(f\"Current directory: {os.getcwd()}\")\n",
    "print(f\"Python path: {sys.path}\")"
   ]
  },
  {
   "cell_type": "code",
   "execution_count": null,
   "metadata": {},
   "outputs": [],
   "source": [
    "import model_checker\n",
    "from model_checker.theory_lib import exclusion\n",
    "from model_checker.theory_lib.exclusion import examples"
   ]
  },
  {
   "cell_type": "markdown",
   "metadata": {},
   "source": [
    "## Setup\n",
    "\n",
    "First, let's set up the basic components we need for model checking."
   ]
  },
  {
   "cell_type": "code",
   "execution_count": null,
   "metadata": {},
   "outputs": [],
   "source": [
    "# Import operators\n",
    "operators = exclusion.exclusion_operators\n",
    "\n",
    "# Get default settings\n",
    "default_settings = exclusion.ExclusionSemantics.DEFAULT_EXAMPLE_SETTINGS\n",
    "\n",
    "# Define general settings for display\n",
    "general_settings = {\n",
    "    \"print_constraints\": False,\n",
    "    \"print_impossible\": True,\n",
    "    \"print_z3\": False,\n",
    "    \"save_output\": False,\n",
    "    \"maximize\": False,\n",
    "}\n",
    "\n",
    "# Update default settings with general settings\n",
    "default_settings.update(general_settings)"
   ]
  },
  {
   "cell_type": "markdown",
   "metadata": {},
   "source": [
    "## Helper Function\n",
    "\n",
    "Let's create a helper function to run our examples."
   ]
  },
  {
   "cell_type": "code",
   "execution_count": null,
   "metadata": {},
   "outputs": [],
   "source": [
    "def run_example(example, name):\n",
    "    \"\"\"\n",
    "    Run a specific example and display the results.\n",
    "    \n",
    "    Args:\n",
    "        example: The example to run (list containing premises, conclusions, settings)\n",
    "        name: The name of the example\n",
    "    \"\"\"\n",
    "    premises, conclusions, settings = example\n",
    "    \n",
    "    # Create syntax object\n",
    "    syntax = model_checker.syntactic.Syntax(premises, conclusions, operators)\n",
    "    \n",
    "    # Update default settings with example-specific settings and general settings\n",
    "    example_settings = default_settings.copy()\n",
    "    example_settings.update(settings)\n",
    "    \n",
    "    # Ensure print_impossible is set\n",
    "    if 'print_impossible' not in example_settings:\n",
    "        example_settings['print_impossible'] = True\n",
    "    \n",
    "    # Create semantics\n",
    "    semantics = exclusion.ExclusionSemantics(example_settings)\n",
    "    proposition_class = exclusion.UnilateralProposition\n",
    "    \n",
    "    # Create model constraints\n",
    "    model_constraints = model_checker.model.ModelConstraints(example_settings, syntax, semantics, proposition_class)\n",
    "    \n",
    "    # Create model structure\n",
    "    model_structure = exclusion.ExclusionStructure(model_constraints, example_settings)\n",
    "    \n",
    "    # Interpret sentences before printing\n",
    "    sentences = model_structure.premises + model_structure.conclusions\n",
    "    model_structure.interpret(sentences)\n",
    "    \n",
    "    # Print results\n",
    "    model_structure.print_all(example_settings, name, \"Exclusion Semantics\")"
   ]
  },
  {
   "cell_type": "markdown",
   "metadata": {},
   "source": [
    "## Countermodels\n",
    "\n",
    "Let's examine some key countermodels from exclusion logic."
   ]
  },
  {
   "cell_type": "markdown",
   "metadata": {},
   "source": [
    "### EX_CM_1: Testing Contradiction Case"
   ]
  },
  {
   "cell_type": "code",
   "execution_count": null,
   "metadata": {},
   "outputs": [],
   "source": [
    "run_example(examples.EX_CM_1_example, \"Testing Contradiction Case\")"
   ]
  },
  {
   "cell_type": "markdown",
   "metadata": {},
   "source": [
    "### EX_CM_5: Distribution Identity (Disjunction over Conjunction)"
   ]
  },
  {
   "cell_type": "code",
   "execution_count": null,
   "metadata": {},
   "outputs": [],
   "source": [
    "run_example(examples.EX_CM_5_example, \"Distribution Identity (Disjunction over Conjunction)\")"
   ]
  },
  {
   "cell_type": "markdown",
   "metadata": {},
   "source": [
    "### EX_CM_8: Double Negation Identity"
   ]
  },
  {
   "cell_type": "code",
   "execution_count": null,
   "metadata": {},
   "outputs": [],
   "source": [
    "run_example(examples.EX_CM_8_example, \"Double Negation Identity\")"
   ]
  },
  {
   "cell_type": "markdown",
   "metadata": {},
   "source": [
    "### EX_CM_9: Double Negation Elimination"
   ]
  },
  {
   "cell_type": "code",
   "execution_count": null,
   "metadata": {},
   "outputs": [],
   "source": [
    "run_example(examples.EX_CM_9_example, \"Double Negation Elimination\")"
   ]
  },
  {
   "cell_type": "markdown",
   "metadata": {},
   "source": [
    "### EX_CM_10: Double Negation Introduction"
   ]
  },
  {
   "cell_type": "code",
   "execution_count": null,
   "metadata": {},
   "outputs": [],
   "source": [
    "run_example(examples.EX_CM_10_example, \"Double Negation Introduction\")"
   ]
  },
  {
   "cell_type": "markdown",
   "metadata": {},
   "source": [
    "### EX_CM_11: Triple Negation Entailment"
   ]
  },
  {
   "cell_type": "code",
   "execution_count": null,
   "metadata": {},
   "outputs": [],
   "source": [
    "run_example(examples.EX_CM_11_example, \"Triple Negation Entailment\")"
   ]
  },
  {
   "cell_type": "markdown",
   "metadata": {},
   "source": [
    "### EX_CM_12: Triple Negation Identity"
   ]
  },
  {
   "cell_type": "code",
   "execution_count": null,
   "metadata": {},
   "outputs": [],
   "source": [
    "run_example(examples.EX_CM_12_example, \"Triple Negation Identity\")"
   ]
  },
  {
   "cell_type": "markdown",
   "metadata": {},
   "source": [
    "### EX_CM_13: Quadruple Negation"
   ]
  },
  {
   "cell_type": "code",
   "execution_count": null,
   "metadata": {},
   "outputs": [],
   "source": [
    "run_example(examples.EX_CM_13_example, \"Quadruple Negation\")"
   ]
  },
  {
   "cell_type": "markdown",
   "metadata": {},
   "source": [
    "### EX_CM_15: Distribution AND/OR"
   ]
  },
  {
   "cell_type": "code",
   "execution_count": null,
   "metadata": {},
   "outputs": [],
   "source": [
    "run_example(examples.EX_CM_15_example, \"Distribution AND/OR\")"
   ]
  },
  {
   "cell_type": "markdown",
   "metadata": {},
   "source": [
    "### EX_CM_2: Distribution Identity (Conjunction over Disjunction)"
   ]
  },
  {
   "cell_type": "code",
   "execution_count": null,
   "metadata": {},
   "outputs": [],
   "source": [
    "run_example(examples.EX_CM_2_example, \"Distribution Identity (Conjunction over Disjunction)\")"
   ]
  },
  {
   "cell_type": "markdown",
   "metadata": {},
   "source": [
    "### EX_CM_3: Distribution Entailment (Conjunction over Disjunction)"
   ]
  },
  {
   "cell_type": "code",
   "execution_count": null,
   "metadata": {},
   "outputs": [],
   "source": [
    "run_example(examples.EX_CM_3_example, \"Distribution Entailment (Conjunction over Disjunction)\")"
   ]
  },
  {
   "cell_type": "markdown",
   "metadata": {},
   "source": [
    "### EX_CM_4: Reverse Distribution Entailment (Conjunction over Disjunction)"
   ]
  },
  {
   "cell_type": "code",
   "execution_count": null,
   "metadata": {},
   "outputs": [],
   "source": [
    "run_example(examples.EX_CM_4_example, \"Reverse Distribution Entailment (Conjunction over Disjunction)\")"
   ]
  },
  {
   "cell_type": "markdown",
   "metadata": {},
   "source": [
    "### EX_CM_6: Distribution Entailment (Disjunction over Conjunction)"
   ]
  },
  {
   "cell_type": "code",
   "execution_count": null,
   "metadata": {},
   "outputs": [],
   "source": [
    "run_example(examples.EX_CM_6_example, \"Distribution Entailment (Disjunction over Conjunction)\")"
   ]
  },
  {
   "cell_type": "markdown",
   "metadata": {},
   "source": [
    "### EX_CM_7: Reverse Distribution Entailment (Disjunction over Conjunction)"
   ]
  },
  {
   "cell_type": "code",
   "execution_count": null,
   "metadata": {},
   "outputs": [],
   "source": [
    "run_example(examples.EX_CM_7_example, \"Reverse Distribution Entailment (Disjunction over Conjunction)\")"
   ]
  },
  {
   "cell_type": "markdown",
   "metadata": {},
   "source": [
    "### EX_CM_14: Conjunction DeMorgan's"
   ]
  },
  {
   "cell_type": "code",
   "execution_count": null,
   "metadata": {},
   "outputs": [],
   "source": [
    "run_example(examples.EX_CM_14_example, \"Conjunction DeMorgan's\")"
   ]
  },
  {
   "cell_type": "markdown",
   "metadata": {},
   "source": [
    "## Logical Consequences\n",
    "\n",
    "Now let's examine some key logical consequences from exclusion logic."
   ]
  },
  {
   "cell_type": "markdown",
   "metadata": {},
   "source": [
    "### EX_TH_1: Disjunctive Syllogism"
   ]
  },
  {
   "cell_type": "code",
   "execution_count": null,
   "metadata": {},
   "outputs": [],
   "source": [
    "run_example(examples.EX_TH_1_example, \"Disjunctive Syllogism\")"
   ]
  },
  {
   "cell_type": "markdown",
   "metadata": {},
   "source": [
    "### EX_TH_2: Conjunction DeMorgan's LR"
   ]
  },
  {
   "cell_type": "code",
   "execution_count": null,
   "metadata": {},
   "outputs": [],
   "source": [
    "run_example(examples.EX_TH_2_example, \"Conjunction DeMorgan's LR\")"
   ]
  },
  {
   "cell_type": "markdown",
   "metadata": {},
   "source": [
    "### EX_TH_3: Disjunction DeMorgan's LR"
   ]
  },
  {
   "cell_type": "code",
   "execution_count": null,
   "metadata": {},
   "outputs": [],
   "source": [
    "run_example(examples.EX_TH_3_example, \"Disjunction DeMorgan's LR\")"
   ]
  },
  {
   "cell_type": "markdown",
   "metadata": {},
   "source": [
    "### EX_TH_4: Disjunction DeMorgan's RL"
   ]
  },
  {
   "cell_type": "code",
   "execution_count": null,
   "metadata": {},
   "outputs": [],
   "source": [
    "run_example(examples.EX_TH_4_example, \"Disjunction DeMorgan's RL\")"
   ]
  },
  {
   "cell_type": "markdown",
   "metadata": {},
   "source": [
    "### EX_TH_5: Disjunction Distribution LR"
   ]
  },
  {
   "cell_type": "code",
   "execution_count": null,
   "metadata": {},
   "outputs": [],
   "source": [
    "run_example(examples.EX_TH_5_example, \"Disjunction Distribution LR\")"
   ]
  },
  {
   "cell_type": "markdown",
   "metadata": {},
   "source": [
    "### EX_TH_6: Disjunction Distribution RL"
   ]
  },
  {
   "cell_type": "code",
   "execution_count": null,
   "metadata": {},
   "outputs": [],
   "source": [
    "run_example(examples.EX_TH_6_example, \"Disjunction Distribution RL\")"
   ]
  },
  {
   "cell_type": "markdown",
   "metadata": {},
   "source": [
    "### EX_TH_7: Conjunction Distribution LR"
   ]
  },
  {
   "cell_type": "code",
   "execution_count": null,
   "metadata": {},
   "outputs": [],
   "source": [
    "run_example(examples.EX_TH_7_example, \"Conjunction Distribution LR\")"
   ]
  },
  {
   "cell_type": "markdown",
   "metadata": {},
   "source": [
    "### EX_TH_8: Conjunction Distribution RL"
   ]
  },
  {
   "cell_type": "code",
   "execution_count": null,
   "metadata": {},
   "outputs": [],
   "source": [
    "run_example(examples.EX_TH_8_example, \"Conjunction Distribution RL\")"
   ]
  },
  {
   "cell_type": "markdown",
   "metadata": {},
   "source": [
    "### EX_TH_9: Conjunction Absorption RL"
   ]
  },
  {
   "cell_type": "code",
   "execution_count": null,
   "metadata": {},
   "outputs": [],
   "source": [
    "run_example(examples.EX_TH_9_example, \"Conjunction Absorption RL\")"
   ]
  },
  {
   "cell_type": "markdown",
   "metadata": {},
   "source": [
    "### EX_TH_10: Conjunction Absorption LR"
   ]
  },
  {
   "cell_type": "code",
   "execution_count": null,
   "metadata": {},
   "outputs": [],
   "source": [
    "run_example(examples.EX_TH_10_example, \"Conjunction Absorption LR\")"
   ]
  },
  {
   "cell_type": "markdown",
   "metadata": {},
   "source": [
    "### EX_TH_11: Disjunction Absorption RL"
   ]
  },
  {
   "cell_type": "code",
   "execution_count": null,
   "metadata": {},
   "outputs": [],
   "source": [
    "run_example(examples.EX_TH_11_example, \"Disjunction Absorption RL\")"
   ]
  },
  {
   "cell_type": "markdown",
   "metadata": {},
   "source": [
    "### EX_TH_12: Disjunction Absorption LR"
   ]
  },
  {
   "cell_type": "code",
   "execution_count": null,
   "metadata": {},
   "outputs": [],
   "source": [
    "run_example(examples.EX_TH_12_example, \"Disjunction Absorption LR\")"
   ]
  },
  {
   "cell_type": "markdown",
   "metadata": {},
   "source": [
    "### EX_TH_13: Conjunction Associativity RL"
   ]
  },
  {
   "cell_type": "code",
   "execution_count": null,
   "metadata": {},
   "outputs": [],
   "source": [
    "run_example(examples.EX_TH_13_example, \"Conjunction Associativity RL\")"
   ]
  },
  {
   "cell_type": "markdown",
   "metadata": {},
   "source": [
    "### EX_TH_14: Conjunction Associativity LR"
   ]
  },
  {
   "cell_type": "code",
   "execution_count": null,
   "metadata": {},
   "outputs": [],
   "source": [
    "run_example(examples.EX_TH_14_example, \"Conjunction Associativity LR\")"
   ]
  },
  {
   "cell_type": "markdown",
   "metadata": {},
   "source": [
    "### EX_TH_15: Disjunction Associativity RL"
   ]
  },
  {
   "cell_type": "code",
   "execution_count": null,
   "metadata": {},
   "outputs": [],
   "source": [
    "run_example(examples.EX_TH_15_example, \"Disjunction Associativity RL\")"
   ]
  },
  {
   "cell_type": "markdown",
   "metadata": {},
   "source": [
    "### EX_TH_16: Disjunction Associativity LR"
   ]
  },
  {
   "cell_type": "code",
   "execution_count": null,
   "metadata": {},
   "outputs": [],
   "source": [
    "run_example(examples.EX_TH_16_example, \"Disjunction Associativity LR\")"
   ]
  },
  {
   "cell_type": "markdown",
   "metadata": {},
   "source": [
    "### EX_TH_17: DeMorgan's (NOT/OR)"
   ]
  },
  {
   "cell_type": "code",
   "execution_count": null,
   "metadata": {},
   "outputs": [],
   "source": [
    "run_example(examples.EX_TH_17_example, \"DeMorgan's (NOT/OR)\")"
   ]
  },
  {
   "cell_type": "markdown",
   "metadata": {},
   "source": [
    "### EX_TH_18: DeMorgan's (NOT/AND)"
   ]
  },
  {
   "cell_type": "code",
   "execution_count": null,
   "metadata": {},
   "outputs": [],
   "source": [
    "run_example(examples.EX_TH_18_example, \"DeMorgan's (NOT/AND)\")"
   ]
  },
  {
   "cell_type": "markdown",
   "metadata": {},
   "source": [
    "## Summary\n",
    "\n",
    "This notebook demonstrates the key countermodels and theorems in exclusion logic using the exclusion theory of the ModelChecker framework. The examples showcase various properties of the unilateral exclusion semantics, which differ from classical bilateral semantics in significant ways."
   ]
  }
 ],
 "metadata": {
  "kernelspec": {
   "display_name": "Python 3",
   "language": "python",
   "name": "python3"
  },
  "language_info": {
   "codemirror_mode": {
    "name": "ipython",
    "version": 3
   },
   "file_extension": ".py",
   "mimetype": "text/x-python",
   "name": "python",
   "nbconvert_exporter": "python",
   "pygments_lexer": "ipython3",
   "version": "3.10.10"
  }
 },
 "nbformat": 4,
 "nbformat_minor": 4
}