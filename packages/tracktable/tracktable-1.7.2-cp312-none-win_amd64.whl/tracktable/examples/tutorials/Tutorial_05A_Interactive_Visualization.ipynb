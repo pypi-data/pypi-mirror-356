{
 "cells": [
  {
   "cell_type": "markdown",
   "id": "5748c9c1",
   "metadata": {
    "nbsphinx": "hidden"
   },
   "source": [
    "<span style=\"color:#888888\">Copyright (c) 2014-2022 National Technology and Engineering Solutions of Sandia, LLC. Under the terms of Contract DE-NA0003525 with National Technology and Engineering Solutions of Sandia, LLC, the U.S. Government retains certain rights in this software.     Redistribution and use in source and binary forms, with or without modification, are permitted provided that the following conditions are met:</span>\n",
    "\n",
    "<span style=\"color:#888888\">1. Redistributions of source code must retain the above copyright notice, this list of conditions and the following disclaimer.</span>\n",
    "\n",
    "<span style=\"color:#888888\">2. Redistributions in binary form must reproduce the above copyright notice, this list of conditions and the following disclaimer in the documentation and/or other materials provided with the distribution.</span>\n",
    "\n",
    "<span style=\"color:#888888\">THIS SOFTWARE IS PROVIDED BY THE COPYRIGHT HOLDERS AND CONTRIBUTORS \"AS IS\" AND ANY EXPRESS OR IMPLIED WARRANTIES, INCLUDING, BUT NOT LIMITED TO, THE IMPLIED WARRANTIES OF MERCHANTABILITY AND FITNESS FOR A PARTICULAR PURPOSE ARE DISCLAIMED. IN NO EVENT SHALL THE COPYRIGHT HOLDER OR CONTRIBUTORS BE LIABLE FOR ANY DIRECT, INDIRECT, INCIDENTAL, SPECIAL, EXEMPLARY, OR CONSEQUENTIAL DAMAGES (INCLUDING, BUT NOT LIMITED TO, PROCUREMENT OF SUBSTITUTE GOODS OR SERVICES; LOSS OF USE, DATA, OR PROFITS; OR BUSINESS INTERRUPTION) HOWEVER CAUSED AND ON ANY THEORY OF LIABILITY, WHETHER IN CONTRACT, STRICT LIABILITY, OR TORT (INCLUDING NEGLIGENCE OR OTHERWISE) ARISING IN ANY WAY OUT OF THE USE OF THIS SOFTWARE, EVEN IF ADVISED OF THE POSSIBILITY OF SUCH DAMAGE.</span>"
   ]
  },
  {
   "cell_type": "markdown",
   "id": "6c600869",
   "metadata": {},
   "source": [
    "# <span style=\"color:#0054a8\">**Tutorial 5-A:**</span> <span style=\"color:#555555\">Interactive Trajectory Visualization</span>"
   ]
  },
  {
   "cell_type": "code",
   "execution_count": null,
   "id": "3d67e013",
   "metadata": {},
   "outputs": [],
   "source": [
    "import tracktable.examples.tutorials.tutorial_helper as tutorial\n",
    "from datetime import timedelta"
   ]
  },
  {
   "cell_type": "markdown",
   "id": "d879b413",
   "metadata": {},
   "source": [
    "## Purpose\n",
    "\n",
    "The next three notebooks demonstrate how to use Tracktable's internal rendering functions to visualize trajectories.  Tracktable has numerous rendering methods, and not all are shown here.  A comprehensive rendering user guide can be found in the Tracktable documentation: https://tracktable.readthedocs.io/en/latest/user_guides/python/rendering.html"
   ]
  },
  {
   "cell_type": "markdown",
   "id": "4ddbb7a6",
   "metadata": {},
   "source": [
    "We break up this tutorial into three parts, each with it's own notebook. [Tutorial 5-A](Tutorial_05A.ipynb) details interactive trajectory visualization. [Tutorial 5-B](Tutorial_05B.ipynb) details static trajectory visualization. [Tutorial 5-C](Tutorial_05C.ipynb) details heatmap visualization. "
   ]
  },
  {
   "cell_type": "markdown",
   "id": "b0c45a95",
   "metadata": {},
   "source": [
    "**<span style=\"color:#81062e\">IMPORTANT:</span>** When rendering trajectories interactively, the memory required to render large lists of trajectories may cause your browser to shut down.  Try rendering smaller datasets first and work up from there to test your browser's capacity."
   ]
  },
  {
   "cell_type": "markdown",
   "id": "37c944cd",
   "metadata": {},
   "source": [
    "### Let's start with a list of trajectories.\n",
    "\n",
    "We will use the provided example data $^1$ for this tutorial.  For brevity, the function below reads our trajectories from a .traj file into a python list, as was demoed in [Tutorial 4](Tutorial_04.ipynb)."
   ]
  },
  {
   "cell_type": "code",
   "execution_count": null,
   "id": "da150c18",
   "metadata": {},
   "outputs": [],
   "source": [
    "trajectories = tutorial.get_trajectory_list()"
   ]
  },
  {
   "cell_type": "code",
   "execution_count": null,
   "id": "dbbe1851",
   "metadata": {},
   "outputs": [],
   "source": [
    "from tracktable.render.render_trajectories import render_trajectories, render_trajectories_separate"
   ]
  },
  {
   "cell_type": "markdown",
   "id": "83b78ef1",
   "metadata": {},
   "source": [
    "### Default Rendering"
   ]
  },
  {
   "cell_type": "markdown",
   "id": "f8a854ed",
   "metadata": {},
   "source": [
    "Let's start by rendering just the first trajectory in our list."
   ]
  },
  {
   "cell_type": "code",
   "execution_count": null,
   "id": "5513c87d",
   "metadata": {},
   "outputs": [],
   "source": [
    "trajectory = trajectories[0]"
   ]
  },
  {
   "cell_type": "markdown",
   "id": "ee26f864",
   "metadata": {},
   "source": [
    "By default, trajectories are rendered in folium, allowing you to **scroll** and **zoom**.  Each trajectory is hashed to a color using its `object_id` string, and the trajectory color is given a gradient from dark to light.  The end of each trajectory is marked with a white dot."
   ]
  },
  {
   "cell_type": "code",
   "execution_count": null,
   "id": "4a2be7b0",
   "metadata": {},
   "outputs": [],
   "source": [
    "render_trajectories(trajectory)"
   ]
  },
  {
   "cell_type": "markdown",
   "id": "1b0a4e4d",
   "metadata": {},
   "source": [
    "Now let's render a list of fifteen trajectories together."
   ]
  },
  {
   "cell_type": "code",
   "execution_count": null,
   "id": "3a4025a7",
   "metadata": {},
   "outputs": [],
   "source": [
    "fifteen_trajectories = trajectories[5:20]"
   ]
  },
  {
   "cell_type": "code",
   "execution_count": null,
   "id": "32eac49b",
   "metadata": {},
   "outputs": [],
   "source": [
    "render_trajectories(fifteen_trajectories)"
   ]
  },
  {
   "cell_type": "markdown",
   "id": "72bd399c",
   "metadata": {},
   "source": [
    "We can also render a list of trajectories separately."
   ]
  },
  {
   "cell_type": "code",
   "execution_count": null,
   "id": "52be2f7c",
   "metadata": {},
   "outputs": [],
   "source": [
    "three_trajectories = trajectories[10:13]"
   ]
  },
  {
   "cell_type": "code",
   "execution_count": null,
   "id": "5ef01c4e",
   "metadata": {},
   "outputs": [],
   "source": [
    "render_trajectories_separate(three_trajectories)"
   ]
  },
  {
   "cell_type": "markdown",
   "id": "dca82bbb",
   "metadata": {},
   "source": [
    "If there are a specific object's trajectories that we wish to render, we can select them by the object ID."
   ]
  },
  {
   "cell_type": "code",
   "execution_count": null,
   "id": "22934fff",
   "metadata": {},
   "outputs": [],
   "source": [
    "render_trajectories(trajectories, obj_ids='367782880')"
   ]
  },
  {
   "cell_type": "markdown",
   "id": "dd45a2f0",
   "metadata": {},
   "source": [
    "... or select several object IDs."
   ]
  },
  {
   "cell_type": "code",
   "execution_count": null,
   "id": "c7cb8165",
   "metadata": {},
   "outputs": [],
   "source": [
    "render_trajectories(trajectories, obj_ids=['367782880', '367740750'])"
   ]
  },
  {
   "cell_type": "markdown",
   "id": "58ebd797",
   "metadata": {},
   "source": [
    "### Animation"
   ]
  },
  {
   "cell_type": "markdown",
   "id": "50e26362",
   "metadata": {},
   "source": [
    "Set animate to 'True' to animate the trajectories.\n",
    "\n",
    "With animations you can:\n",
    "* Adjust the speed of animation by draging the fps slider. \n",
    "* 'Pause' the animation and use the time slider to manually advance the animation,\n",
    "* or click 'forward' or 'backward' to advance by a single frame in either direction.\n",
    "* Toggle whether or not to 'loop' the animation\n",
    "* Click 'play' to resume the animation (if paused). "
   ]
  },
  {
   "cell_type": "code",
   "execution_count": null,
   "id": "e59d7ae5",
   "metadata": {},
   "outputs": [],
   "source": [
    "render_trajectories(trajectories[27], animate=True)"
   ]
  },
  {
   "cell_type": "markdown",
   "id": "6c69c2cb",
   "metadata": {},
   "source": [
    "To get faster animation, decrease the anim_display_update_interval value.  This is the real-world time between \"updates\".  In this case we are rendering and update on the map ever 50 milliseconds. (default above was 200 ms)   You can also show_points in the animation, as demonstrated here."
   ]
  },
  {
   "cell_type": "code",
   "execution_count": null,
   "id": "fa65599f",
   "metadata": {},
   "outputs": [],
   "source": [
    "render_trajectories(trajectories[27], animate=True, anim_display_update_interval=timedelta(microseconds=50000), show_points=True)"
   ]
  },
  {
   "cell_type": "markdown",
   "id": "04954db3",
   "metadata": {},
   "source": [
    "To adjust how much data is rendered each \"update\" use the anim_timestamp_update_step value.   If, for example, you have 100 hours of data sampled once an hour, you may want to render an \"update\" for each hour of data, instead of the default which renders an update for each minute of data.  The following uses an anim_period of 4 minutes (4 times larger than the default above).  The animation completes in the same amount of time as the previous example, however in this case bigger 4 minute chunks are rendered every 200 milliseconds (whereas in the previous example 1 minute of data was rendered ever 50 milliseconds). "
   ]
  },
  {
   "cell_type": "code",
   "execution_count": null,
   "id": "c0b26fe2",
   "metadata": {},
   "outputs": [],
   "source": [
    "render_trajectories(trajectories[27], animate=True, anim_timestamp_update_step=timedelta(minutes=4))"
   ]
  },
  {
   "cell_type": "markdown",
   "id": "c420514d",
   "metadata": {},
   "source": [
    "Add anim_trail_duration to have the track segments persist on the map only for the given duration (in the data's timeframe).  This will cause the track to show a trail only for the given amount of time.  The following will show only the previous 5 minutes of data for the track as it is animated. "
   ]
  },
  {
   "cell_type": "code",
   "execution_count": null,
   "id": "5807b793",
   "metadata": {},
   "outputs": [],
   "source": [
    "render_trajectories(trajectories[27], animate=True, anim_trail_duration=timedelta(minutes=5))"
   ]
  },
  {
   "cell_type": "markdown",
   "id": "1f683db1",
   "metadata": {},
   "source": [
    "### Changing the Backend"
   ]
  },
  {
   "cell_type": "markdown",
   "id": "e7e45626",
   "metadata": {},
   "source": [
    "In Jupyter, the default backend is folium, but we can change it to cartopy.  Note that by switching to cartopy, our map is no longer interactive. For more on using cartopy see [Tutorial 5-B](Tutorial_05B.ipynb)."
   ]
  },
  {
   "cell_type": "code",
   "execution_count": null,
   "id": "55f4ec37",
   "metadata": {},
   "outputs": [],
   "source": [
    "render_trajectories(three_trajectories, backend='cartopy', scale_length_in_km=2)"
   ]
  },
  {
   "cell_type": "markdown",
   "id": "7e90da64",
   "metadata": {},
   "source": [
    "### Changing the Map"
   ]
  },
  {
   "cell_type": "markdown",
   "id": "1b733293",
   "metadata": {},
   "source": [
    "The `tiles` keyword argument is defaulted to `CartoDBDark_Matter` and can be set to any of the following alternative options:\n",
    "   \n",
    "* `OpenStreetMaps`\n",
    "* `StamenTerrain` \n",
    "* `StamenToner`\n",
    "* `StamenWatercolor`\n",
    "* `CartoDBPositron`"
   ]
  },
  {
   "cell_type": "code",
   "execution_count": null,
   "id": "9ec6da01",
   "metadata": {},
   "outputs": [],
   "source": [
    "render_trajectories(fifteen_trajectories, tiles='CartoDBPositron')"
   ]
  },
  {
   "cell_type": "markdown",
   "id": "18a89a73",
   "metadata": {},
   "source": [
    "You can also specify a map tile server by URL.  You will need to specify the keyword argument `attr`, the attribution string."
   ]
  },
  {
   "cell_type": "code",
   "execution_count": null,
   "id": "cbe54049",
   "metadata": {},
   "outputs": [],
   "source": [
    "render_trajectories(fifteen_trajectories, tiles='http://server.arcgisonline.com/ArcGIS/rest/services/NatGeo_World_Map/MapServer/tile/{z}/{y}/{x}', attr='ESRI')"
   ]
  },
  {
   "cell_type": "markdown",
   "id": "4052b498",
   "metadata": {},
   "source": [
    "By default, the map will initially be zoomed to fit all trajectories, but a specific bounding box can be specified.  Note that the format of the bounding box should be `[min_longitude, min_latitude, max_longitude, max_latitude]`."
   ]
  },
  {
   "cell_type": "code",
   "execution_count": null,
   "id": "4f1df25a",
   "metadata": {},
   "outputs": [],
   "source": [
    "render_trajectories(fifteen_trajectories, map_bbox=[-75.1, 39.9, -73.2, 40.9])"
   ]
  },
  {
   "cell_type": "markdown",
   "id": "fe5b731b",
   "metadata": {},
   "source": [
    "### Changing Trajectory Lines"
   ]
  },
  {
   "cell_type": "markdown",
   "id": "64ba70d5",
   "metadata": {},
   "source": [
    "By default the line width is `2.4`, but can be adjusted to any positive number."
   ]
  },
  {
   "cell_type": "code",
   "execution_count": null,
   "id": "195db28d",
   "metadata": {},
   "outputs": [],
   "source": [
    "render_trajectories(trajectory, linewidth=10)"
   ]
  },
  {
   "cell_type": "markdown",
   "id": "d886638d",
   "metadata": {},
   "source": [
    "We can render multiple trajectories in one solid color. We specify that color by passing a string to the `line_color` parameter. We choose plum here, but any HTML named color will work."
   ]
  },
  {
   "cell_type": "code",
   "execution_count": null,
   "id": "b72a8915",
   "metadata": {},
   "outputs": [],
   "source": [
    "render_trajectories(three_trajectories, line_color='plum')"
   ]
  },
  {
   "cell_type": "markdown",
   "id": "86928c5a",
   "metadata": {},
   "source": [
    "Alternatively, we can pass in the color as a hex string of the format `#RRGGBBAA` where `RR` (red), `GG` (green) and `BB` (blue) are values from 0 to 255 as two hex digits each.  The last two hex digits `AA` (alpha) are optional and control opacity (e.g. `FF` = 100% and `00` = 0%)."
   ]
  },
  {
   "cell_type": "code",
   "execution_count": null,
   "id": "6c3ecf00",
   "metadata": {},
   "outputs": [],
   "source": [
    "render_trajectories(three_trajectories, line_color='#E6E6E650')"
   ]
  },
  {
   "cell_type": "markdown",
   "id": "36eb6a71",
   "metadata": {},
   "source": [
    "The trajectories can also be colored using a colormap. A complete list of colormaps can be viewed here: https://matplotlib.org/stable/tutorials/colors/colormaps.html."
   ]
  },
  {
   "cell_type": "code",
   "execution_count": null,
   "id": "d2ae99d7",
   "metadata": {},
   "outputs": [],
   "source": [
    "render_trajectories(three_trajectories, color_map='plasma')"
   ]
  },
  {
   "cell_type": "markdown",
   "id": "3517aea9",
   "metadata": {},
   "source": [
    "You can even define your own color maps. "
   ]
  },
  {
   "cell_type": "code",
   "execution_count": null,
   "id": "2df85660",
   "metadata": {},
   "outputs": [],
   "source": [
    "import matplotlib\n",
    "import numpy as np"
   ]
  },
  {
   "cell_type": "code",
   "execution_count": null,
   "id": "9d7a4b90",
   "metadata": {},
   "outputs": [],
   "source": [
    "# start with the matplotlib 'Blues colormap' \n",
    "blues_map = matplotlib.cm.get_cmap('Blues')\n",
    "\n",
    "# convert a matplotlib colormap to a numpy matrix of size (100, 4) composed of 100 colors each represented \n",
    "# by their RGB representation (4 numbers - red, green, blue, and opacity scaled between 0 and 1)\n",
    "newcolors = blues_map(np.linspace(0, 1, 100))\n",
    "\n",
    "# define pink using RGB representation\n",
    "pink = np.array([248/256, 24/256, 148/256, 1]) # R G B Opacity\n",
    "\n",
    "# use pink for takeoff by setting the first ~10% of trajectory to use the color pink\n",
    "newcolors[:10, :] = pink \n",
    "render_trajectories(three_trajectories, color_map = matplotlib.colors.ListedColormap(newcolors))"
   ]
  },
  {
   "cell_type": "markdown",
   "id": "474b2c4b",
   "metadata": {},
   "source": [
    "To create a color map that corresponds to features of a trajectory, create a function that maps scalars to colors and pass it to `trajectory_sclar_generator`. In our example below, color gets lighter as heading increases. Alternatively, you might use altitude instead of heading. You must also pass your scale into `color_scale`. "
   ]
  },
  {
   "cell_type": "code",
   "execution_count": null,
   "id": "b3dce29b",
   "metadata": {},
   "outputs": [],
   "source": [
    "from tracktable.core.geomath import bearing\n",
    "\n",
    "def heading_generator(trajectory):\n",
    "    # calculate bearing of each linear segment of the trajectory\n",
    "    return [bearing(trajectory[i], trajectory[i+1]) for i in range(len(trajectory)-1)]\n",
    "\n",
    "render_trajectories(three_trajectories,\n",
    "                    trajectory_scalar_generator=heading_generator,\n",
    "                    color_scale=matplotlib.colors.Normalize(vmin=36, vmax=349))"
   ]
  },
  {
   "cell_type": "markdown",
   "id": "92cdb65e",
   "metadata": {},
   "source": [
    "In the same way, you can control linewidth by passing a function that maps scalars to linewidth to `trajectory_linewidth_generator`.  In the example below, we'll use a built-in method that will widen the line as the trajectory progresses, but as in the previous example, a user-defined function could be specified."
   ]
  },
  {
   "cell_type": "code",
   "execution_count": null,
   "id": "bdd3f569",
   "metadata": {},
   "outputs": [],
   "source": [
    "from tracktable.render.map_processing.common_processing import progress_linewidth_generator\n",
    "\n",
    "render_trajectories(trajectory, trajectory_linewidth_generator=progress_linewidth_generator)"
   ]
  },
  {
   "cell_type": "markdown",
   "id": "350323a1",
   "metadata": {},
   "source": [
    "Specifying `gradient_hue` will render the trajectory color as a gradient that transitions from dark to light as the trajectory progresses.  The RGB color that will be used for the gradient can be either a float between 0 and 1, or a color name or hex string."
   ]
  },
  {
   "cell_type": "code",
   "execution_count": null,
   "id": "f5f882bf",
   "metadata": {},
   "outputs": [],
   "source": [
    "render_trajectories(three_trajectories, gradient_hue=0.2)"
   ]
  },
  {
   "cell_type": "markdown",
   "id": "3e2de1d5",
   "metadata": {},
   "source": [
    "Different trajectories can be given different colors, colormaps or gradient hues by passing a list into `line_color`, `color_map` or `gradient_hue`, respectively.  Note that you cannot mix and match techniques here."
   ]
  },
  {
   "cell_type": "code",
   "execution_count": null,
   "id": "8f92dc2a",
   "metadata": {},
   "outputs": [],
   "source": [
    "render_trajectories(three_trajectories, line_color=['red', 'blue', 'green'])"
   ]
  },
  {
   "cell_type": "code",
   "execution_count": null,
   "id": "2e57f60f",
   "metadata": {},
   "outputs": [],
   "source": [
    "render_trajectories(three_trajectories, color_map=['plasma', 'viridis', 'gray'])"
   ]
  },
  {
   "cell_type": "code",
   "execution_count": null,
   "id": "70c9f72b",
   "metadata": {},
   "outputs": [],
   "source": [
    "render_trajectories(three_trajectories, gradient_hue=[0.1, 0.5, 0.9])"
   ]
  },
  {
   "cell_type": "markdown",
   "id": "b327cc35",
   "metadata": {},
   "source": [
    "### Changing Trajectory Points"
   ]
  },
  {
   "cell_type": "markdown",
   "id": "04a51191",
   "metadata": {},
   "source": [
    "If desired, trajectory points can be rendered as well."
   ]
  },
  {
   "cell_type": "code",
   "execution_count": null,
   "id": "ff6cf951",
   "metadata": {},
   "outputs": [],
   "source": [
    "render_trajectories(trajectory, show_points=True)"
   ]
  },
  {
   "cell_type": "markdown",
   "id": "74338201",
   "metadata": {},
   "source": [
    "...and you can specify the colors of those points using `point_color` and the radius of the dot using `point_size`"
   ]
  },
  {
   "cell_type": "code",
   "execution_count": null,
   "id": "1a2b732f",
   "metadata": {},
   "outputs": [],
   "source": [
    "render_trajectories(trajectory, show_points=True, point_color='red', point_size=3)"
   ]
  },
  {
   "cell_type": "markdown",
   "id": "f10dd974",
   "metadata": {},
   "source": [
    "...or you can set the color and radius of the last point in the trajectory only."
   ]
  },
  {
   "cell_type": "code",
   "execution_count": null,
   "id": "431e1767",
   "metadata": {},
   "outputs": [],
   "source": [
    "render_trajectories(trajectory, show_points=True, dot_color='red', dot_size=3)"
   ]
  },
  {
   "cell_type": "markdown",
   "id": "48826a08",
   "metadata": {},
   "source": [
    "We can turn off the dot at the end of the trajectory with the `show_dot` parameter."
   ]
  },
  {
   "cell_type": "code",
   "execution_count": null,
   "id": "00aaccff",
   "metadata": {},
   "outputs": [],
   "source": [
    "render_trajectories(trajectory, show_dot=False)"
   ]
  },
  {
   "cell_type": "markdown",
   "id": "d72e9159",
   "metadata": {},
   "source": [
    "To see a trajectory point's properties in a popup when a trajectory point is clicked, send a list of the desired properties to `point_popup_properties`."
   ]
  },
  {
   "cell_type": "code",
   "execution_count": null,
   "id": "f5d24f27",
   "metadata": {},
   "outputs": [],
   "source": [
    "render_trajectories(trajectory, show_points=True, point_popup_properties = ['eta', 'heading'])"
   ]
  },
  {
   "cell_type": "markdown",
   "id": "b2b04c47",
   "metadata": {},
   "source": [
    "### Exporting Renderings"
   ]
  },
  {
   "cell_type": "markdown",
   "id": "cd917ea9",
   "metadata": {},
   "source": [
    "If you come across a rendering you really like, you can save the trajectories as an `html` file (default filename is `trajs-timestamprange.html`)."
   ]
  },
  {
   "cell_type": "code",
   "execution_count": null,
   "id": "a4e72016",
   "metadata": {},
   "outputs": [],
   "source": [
    "render_trajectories(fifteen_trajectories, save=True, filename='my_favorite_trajectories.html')"
   ]
  },
  {
   "cell_type": "markdown",
   "id": "422c1049",
   "metadata": {},
   "source": [
    "<span style=\"color:gray\">$^1$ Bureau of Ocean Energy Management (BOEM) and National Oceanic and Atmospheric Administration (NOAA). MarineCadastre.gov. *AIS Data for 2020.* Retrieved February 2021 from [marinecadastre.gov/data](https://marinecadastre.gov/data/).  Trimmed down to the first hour of June 30, 2020, restricted to in NY Harbor.</span>"
   ]
  }
 ],
 "metadata": {
  "interpreter": {
   "hash": "31f2aee4e71d21fbe5cf8b01ff0e069b9275f58929596ceb00d14d90e3e16cd6"
  },
  "kernelspec": {
   "display_name": "Python 3 (ipykernel)",
   "language": "python",
   "name": "python3"
  },
  "language_info": {
   "codemirror_mode": {
    "name": "ipython",
    "version": 3
   },
   "file_extension": ".py",
   "mimetype": "text/x-python",
   "name": "python",
   "nbconvert_exporter": "python",
   "pygments_lexer": "ipython3",
   "version": "3.10.0"
  }
 },
 "nbformat": 4,
 "nbformat_minor": 5
}
